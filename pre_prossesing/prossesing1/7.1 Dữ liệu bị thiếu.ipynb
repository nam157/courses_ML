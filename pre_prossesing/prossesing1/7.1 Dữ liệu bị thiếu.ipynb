{
 "cells": [
  {
   "cell_type": "markdown",
   "metadata": {
    "id": "m-Yr-pvwdm4z"
   },
   "source": [
    "## Giá trị bị khuyết (Missing value)\n",
    "\n",
    "Giá trị bị khuyết hay dữ liệu bị khuyết xảy ra khi __không có dữ liệu__ / __không có giá trị__ được lưu trữ cho các quan sát nhất định trong một biến.\n",
    "\n",
    "Dữ liệu không hoàn thiện là vấn đề không thể tránh trong hầu hết các nguồn dữ liệu và có thể có tác động đáng kể đến các kết luận được rút ra từ dữ liệu.\n",
    "\n",
    "### Tại sao dữ liệu bị khuyết?\n",
    "\n",
    "Nguồn dữ liệu bị khuyết rất khác nhau. Đây chỉ là vài ví dụ:\n",
    "\n",
    "- Giá trị bị khuyết do nó bị quên, bị mất hoặc không được lưu trữ cẩn thận.\n",
    "- Các giá trị không tồn tại với một số quan sát.\n",
    "- Giá trị không rõ hoặc không xác định.\n",
    "\n",
    "Trong nhiều tổ chức, thông tin được thu thập vào một biểu mẫu qua nói chuyện với khách hàng trên điện thoại, hoặc khách hàng điền vào biểu mẫu trực tuyến. Thông thường, người nhập dữ liệu không điền tất cả các trường trong biểu mẫu. Nhiều trường không bắt buộc nên có thể dẫn đến thiếu giá trị.\n",
    "\n",
    "Các lý do bỏ sót thông tin khá đa dạng: có thể người đó không muốn tiết lộ một số thông tin, ví dụ như thu nhập, hoặc họ không biết câu trả lời hay câu trả lời không áp dụng cho một trường hợp nhất định, hoặc ngược lại, người trong tổ chức muốn tiết kiệm thời gian cho khách hàng nên bỏ qua những câu hỏi mà họ cho là không liên quan.\n",
    "\n",
    "Có các trường hợp khác mà giá trị của một biến nhất định không tồn tại. Ví dụ, trong biến 'tổng nợ tính theo phần trăm tổng thu nhập' (rất phổ biến trong dữ liệu tài chính), nếu một người không có thu nhập, thì tổng tỷ lệ phần trăm bằng 0 không tồn tại và do đó nó sẽ là một giá trị bị khuyết.\n",
    "\n",
    "Điều quan trọng là phải hiểu **cách đưa dữ liệu bị khuyết vào tập dữ liệu**, nghĩa là **các cơ chế** đưa thông tin bị khuyết vào tập dữ liệu. Tùy thuộc vào cơ chế, chúng ta có thể chọn các cách xử lý giá trị bị khuyết khác nhau. Ngoài ra, nếu biết nguồn dữ liệu bị khuyết, chúng ta cũng có thể tìm các biện pháp kiểm soát nguồn đó và giảm lượng thông tin bị khuyết trong quá trình thu thập dữ liệu.\n",
    "\n",
    "\n",
    "### Cơ chế dữ liệu bị khuyết\n",
    "\n",
    "Có 3 cơ chế dẫn đến khuyết dữ liệu, 2 trong số đó liên quan đến dữ liệu bị khuyết ngẫu nhiên hoặc gần như ngẫu nhiên, và cơ chế thứ ba liên quan đến việc mất dữ liệu có hệ thống.\n",
    "\n",
    "#### Khuyết hoàn toàn ngẫu nhiên (MCAR):\n",
    "\n",
    "Một biến bị khuyết hoàn toàn ngẫu nhiên (MCAR) nếu xác suất bị khuyết là như nhau cho tất cả các quan sát. Khi dữ liệu là MCAR, hoàn toàn không có mối quan hệ nào giữa dữ liệu bị khuyết và bất kỳ giá trị nào khác được quan sát hoặc bị khuyết trong tập dữ liệu. Nói cách khác, những điểm dữ liệu bị khuyết đó là một tập hợp con ngẫu nhiên của dữ liệu. Những dữ liệu không có hệ thống khả năng sẽ bị khuyết cao hơn những dữ liệu khác. Nếu các giá trị cho các quan sát bị khuyết hoàn toàn ngẫu nhiên thì việc bỏ qua các trường hợp đó sẽ không làm sai lệch các suy luận được đưa ra.\n",
    "\n",
    "\n",
    "#### Khuyết ngẫu nhiên (MAR):\n",
    "\n",
    "MAR xảy ra khi có mối quan hệ giữa xu hướng của các giá trị bị khuyết và dữ liệu quan sát được. Nói cách khác, xác suất một quan sát bị khuyết phụ thuộc vào thông tin có sẵn (tức là các biến khác trong tập dữ liệu). Ví dụ, nếu nam giới có nhiều khả năng tiết lộ cân nặng của họ hơn nữ giới thì cân nặng là MAR. Thông tin về cân nặng sẽ bị khuyết ngẫu nhiên đối với những nam giới và nữ giới không tiết lộ cân nặng của họ, nhưng vì nam giới thường tiết lộ thông tin đó hơn nên sẽ có nhiều giá trị bị khuyết đối với nữ hơn.\n",
    "\n",
    "Trong tình huống trên, nếu quyết định tiếp tục với biến có giá trị bị khuyết (trong trường hợp này là trọng số), chúng ta có thể hưởng lợi từ việc bao hàm giới tính để kiểm soát độ chệch về trọng lượng với các quan sát bị khuyết.\n",
    "\n",
    "\n",
    "#### Khuyết không ngẫu nhiên (MNAR):\n",
    "\n",
    "Dữ liệu bị khuyết không ngẫu nhiên (MNAR) khi có một cơ chế hoặc lý do cho việc đưa các giá trị bị khuyết vào tập dữ liệu. Ví dụ, MNAR sẽ xảy ra nếu mọi người không điền vào khảo sát trầm cảm vì mức độ trầm cảm của họ. Ở đây, việc khuyết dữ liệu có liên quan đến kết quả: trầm cảm. Tương tự, khi một công ty tài chính yêu cầu khách hàng cung cấp thông tin ngân hàng và danh tính để ngăn chặn gian lận danh tính, thường những kẻ lừa đảo mạo danh người khác sẽ không tải tài liệu lên vì chúng không có, chúng là lừa đảo. Do đó, có một mối quan hệ hệ thống giữa các tài liệu bị khuyết và mục tiêu mà chúng ta muốn dự đoán: gian lận.\n",
    "\n",
    "Hiểu cơ chế dữ liệu bị khuyết rất quan trọng khi quyết định sử dụng phương pháp nào để tính các giá trị bị khuyết. \n",
    "\n",
    "===================================================================================================="
   ]
  },
  {
   "cell_type": "markdown",
   "metadata": {
    "id": "J9ikhMG5dm44"
   },
   "source": [
    "## Trong mô phỏng này:\n",
    "\n",
    "Trong các cell sau, chúng ta sẽ:\n",
    "\n",
    "- Học cách phát hiện và xác định các giá trị bị khuyết.\n",
    "\n",
    "- Thử xác định 3 cơ chế đề xuất dữ liệu bị khuyết khác nhau.\n",
    "\n",
    "Chúng ta sẽ sử dụng tập dữ liệu toy Loan và titanic.\n"
   ]
  },
  {
   "cell_type": "code",
   "execution_count": 1,
   "metadata": {
    "id": "4Bp8fCLhdm47"
   },
   "outputs": [],
   "source": [
    "import pandas as pd\n",
    "import numpy as np\n",
    "\n",
    "import matplotlib.pyplot as plt\n",
    "\n",
    "# hiển thị tổng số cột có trong tập dữ liệu\n",
    "pd.set_option('display.max_columns', None)"
   ]
  },
  {
   "cell_type": "code",
   "execution_count": 4,
   "metadata": {
    "id": "mEv8uD9ijRwb"
   },
   "outputs": [],
   "source": [
    "## Yêu cầu 1: load tập dữ liệu titanic\n",
    "## VIẾT CODE Ở ĐÂY:\n",
    "data = pd.read_csv('./dataset/titanic.csv')"
   ]
  },
  {
   "cell_type": "markdown",
   "metadata": {
    "id": "gbb-iNamjaGu"
   },
   "source": [
    "<details><summary>Gợi ý</summary>\n",
    "\n",
    "\n",
    "Sử dụng hàm **read_csv** của thư viện **pandas**.\n",
    "\n",
    "```\n",
    "\n",
    "</details>\n"
   ]
  },
  {
   "cell_type": "code",
   "execution_count": 5,
   "metadata": {
    "id": "PGpdyk_adm48",
    "outputId": "46989b10-fa6d-4aad-8c3b-20230ee5f8cb",
    "scrolled": true
   },
   "outputs": [
    {
     "data": {
      "text/html": [
       "<div>\n",
       "<style scoped>\n",
       "    .dataframe tbody tr th:only-of-type {\n",
       "        vertical-align: middle;\n",
       "    }\n",
       "\n",
       "    .dataframe tbody tr th {\n",
       "        vertical-align: top;\n",
       "    }\n",
       "\n",
       "    .dataframe thead th {\n",
       "        text-align: right;\n",
       "    }\n",
       "</style>\n",
       "<table border=\"1\" class=\"dataframe\">\n",
       "  <thead>\n",
       "    <tr style=\"text-align: right;\">\n",
       "      <th></th>\n",
       "      <th>pclass</th>\n",
       "      <th>survived</th>\n",
       "      <th>name</th>\n",
       "      <th>sex</th>\n",
       "      <th>age</th>\n",
       "      <th>sibsp</th>\n",
       "      <th>parch</th>\n",
       "      <th>ticket</th>\n",
       "      <th>fare</th>\n",
       "      <th>cabin</th>\n",
       "      <th>embarked</th>\n",
       "      <th>boat</th>\n",
       "      <th>body</th>\n",
       "      <th>home.dest</th>\n",
       "    </tr>\n",
       "  </thead>\n",
       "  <tbody>\n",
       "    <tr>\n",
       "      <th>0</th>\n",
       "      <td>1</td>\n",
       "      <td>1</td>\n",
       "      <td>Allen, Miss. Elisabeth Walton</td>\n",
       "      <td>female</td>\n",
       "      <td>29.0000</td>\n",
       "      <td>0</td>\n",
       "      <td>0</td>\n",
       "      <td>24160</td>\n",
       "      <td>211.3375</td>\n",
       "      <td>B5</td>\n",
       "      <td>S</td>\n",
       "      <td>2</td>\n",
       "      <td>NaN</td>\n",
       "      <td>St Louis, MO</td>\n",
       "    </tr>\n",
       "    <tr>\n",
       "      <th>1</th>\n",
       "      <td>1</td>\n",
       "      <td>1</td>\n",
       "      <td>Allison, Master. Hudson Trevor</td>\n",
       "      <td>male</td>\n",
       "      <td>0.9167</td>\n",
       "      <td>1</td>\n",
       "      <td>2</td>\n",
       "      <td>113781</td>\n",
       "      <td>151.5500</td>\n",
       "      <td>C22</td>\n",
       "      <td>S</td>\n",
       "      <td>11</td>\n",
       "      <td>NaN</td>\n",
       "      <td>Montreal, PQ / Chesterville, ON</td>\n",
       "    </tr>\n",
       "    <tr>\n",
       "      <th>2</th>\n",
       "      <td>1</td>\n",
       "      <td>0</td>\n",
       "      <td>Allison, Miss. Helen Loraine</td>\n",
       "      <td>female</td>\n",
       "      <td>2.0000</td>\n",
       "      <td>1</td>\n",
       "      <td>2</td>\n",
       "      <td>113781</td>\n",
       "      <td>151.5500</td>\n",
       "      <td>C22</td>\n",
       "      <td>S</td>\n",
       "      <td>NaN</td>\n",
       "      <td>NaN</td>\n",
       "      <td>Montreal, PQ / Chesterville, ON</td>\n",
       "    </tr>\n",
       "    <tr>\n",
       "      <th>3</th>\n",
       "      <td>1</td>\n",
       "      <td>0</td>\n",
       "      <td>Allison, Mr. Hudson Joshua Creighton</td>\n",
       "      <td>male</td>\n",
       "      <td>30.0000</td>\n",
       "      <td>1</td>\n",
       "      <td>2</td>\n",
       "      <td>113781</td>\n",
       "      <td>151.5500</td>\n",
       "      <td>C22</td>\n",
       "      <td>S</td>\n",
       "      <td>NaN</td>\n",
       "      <td>135.0</td>\n",
       "      <td>Montreal, PQ / Chesterville, ON</td>\n",
       "    </tr>\n",
       "    <tr>\n",
       "      <th>4</th>\n",
       "      <td>1</td>\n",
       "      <td>0</td>\n",
       "      <td>Allison, Mrs. Hudson J C (Bessie Waldo Daniels)</td>\n",
       "      <td>female</td>\n",
       "      <td>25.0000</td>\n",
       "      <td>1</td>\n",
       "      <td>2</td>\n",
       "      <td>113781</td>\n",
       "      <td>151.5500</td>\n",
       "      <td>C22</td>\n",
       "      <td>S</td>\n",
       "      <td>NaN</td>\n",
       "      <td>NaN</td>\n",
       "      <td>Montreal, PQ / Chesterville, ON</td>\n",
       "    </tr>\n",
       "  </tbody>\n",
       "</table>\n",
       "</div>"
      ],
      "text/plain": [
       "   pclass  survived                                             name     sex  \\\n",
       "0       1         1                    Allen, Miss. Elisabeth Walton  female   \n",
       "1       1         1                   Allison, Master. Hudson Trevor    male   \n",
       "2       1         0                     Allison, Miss. Helen Loraine  female   \n",
       "3       1         0             Allison, Mr. Hudson Joshua Creighton    male   \n",
       "4       1         0  Allison, Mrs. Hudson J C (Bessie Waldo Daniels)  female   \n",
       "\n",
       "       age  sibsp  parch  ticket      fare cabin embarked boat   body  \\\n",
       "0  29.0000      0      0   24160  211.3375    B5        S    2    NaN   \n",
       "1   0.9167      1      2  113781  151.5500   C22        S   11    NaN   \n",
       "2   2.0000      1      2  113781  151.5500   C22        S  NaN    NaN   \n",
       "3  30.0000      1      2  113781  151.5500   C22        S  NaN  135.0   \n",
       "4  25.0000      1      2  113781  151.5500   C22        S  NaN    NaN   \n",
       "\n",
       "                         home.dest  \n",
       "0                     St Louis, MO  \n",
       "1  Montreal, PQ / Chesterville, ON  \n",
       "2  Montreal, PQ / Chesterville, ON  \n",
       "3  Montreal, PQ / Chesterville, ON  \n",
       "4  Montreal, PQ / Chesterville, ON  "
      ]
     },
     "execution_count": 5,
     "metadata": {},
     "output_type": "execute_result"
    }
   ],
   "source": [
    "## Yêu cầu 2: Kiểm tra 5 hàng đầu tiên\n",
    "## VIẾT CODE Ở ĐÂY:\n",
    "data.head()"
   ]
  },
  {
   "cell_type": "markdown",
   "metadata": {
    "id": "rWZQnp9FkfTz"
   },
   "source": [
    "<details><summary>Gợi ý</summary>\n",
    "\n",
    "\n",
    "Sử dụng phương thức **head**.\n",
    "\n",
    "\n",
    "\n",
    "</details>\n"
   ]
  },
  {
   "cell_type": "markdown",
   "metadata": {
    "id": "01tBr7Wadm4_"
   },
   "source": [
    "Trong python, giá trị bị khuyết được lưu thành NaN, xem ví dụ hàng đầu với biến cabin."
   ]
  },
  {
   "cell_type": "code",
   "execution_count": 12,
   "metadata": {
    "id": "iUNB5WIfdm4_",
    "outputId": "65d489be-d9d2-4196-80c8-9c6d1364ba05"
   },
   "outputs": [
    {
     "data": {
      "text/plain": [
       "pclass          0\n",
       "survived        0\n",
       "name            0\n",
       "sex             0\n",
       "age           263\n",
       "sibsp           0\n",
       "parch           0\n",
       "ticket          0\n",
       "fare            1\n",
       "cabin        1014\n",
       "embarked        2\n",
       "boat          823\n",
       "body         1188\n",
       "home.dest     564\n",
       "dtype: int64"
      ]
     },
     "execution_count": 12,
     "metadata": {},
     "output_type": "execute_result"
    }
   ],
   "source": [
    "## Yêu cầu 3: xác định tổng số giá trị bị khuyết\n",
    "## VIẾT CODE Ở ĐÂY:\n",
    "data.isnull().sum()"
   ]
  },
  {
   "cell_type": "markdown",
   "metadata": {
    "id": "oELCE_nkk_6n"
   },
   "source": [
    "<details><summary>Gợi ý</summary>\n",
    "\n",
    "Sử dụng phương thức **isnull** kết hợp với phương thức **sum**.\n",
    "\n",
    "</details>\n"
   ]
  },
  {
   "cell_type": "markdown",
   "metadata": {
    "id": "AR6Z4jzxdm5B"
   },
   "source": [
    "Có 263 giá trị bị khuyết cho age, 1014 cho cabin và 2 cho embarked."
   ]
  },
  {
   "cell_type": "code",
   "execution_count": 13,
   "metadata": {
    "id": "vSpdvp38dm5C",
    "outputId": "4a927366-00c4-430d-960e-ec8ab909bfe8"
   },
   "outputs": [
    {
     "data": {
      "text/plain": [
       "pclass       0.000000\n",
       "survived     0.000000\n",
       "name         0.000000\n",
       "sex          0.000000\n",
       "age          0.200917\n",
       "sibsp        0.000000\n",
       "parch        0.000000\n",
       "ticket       0.000000\n",
       "fare         0.000764\n",
       "cabin        0.774637\n",
       "embarked     0.001528\n",
       "boat         0.628724\n",
       "body         0.907563\n",
       "home.dest    0.430863\n",
       "dtype: float64"
      ]
     },
     "execution_count": 13,
     "metadata": {},
     "output_type": "execute_result"
    }
   ],
   "source": [
    "## Yêu cầu 4: sử dụng phương thức mean sau isnull để hiển thị số phần trăm giá trị bị khuyết cho từng biến\n",
    "## VIẾT CODE Ở ĐÂY:\n",
    "data.isnull().mean()"
   ]
  },
  {
   "cell_type": "markdown",
   "metadata": {
    "id": "xo3xbysPdm5D"
   },
   "source": [
    "Dữ liệu bị khuyết trong biến: age (20%), cabin (77%) và embarked ( ~0.2%)."
   ]
  },
  {
   "cell_type": "markdown",
   "metadata": {
    "id": "VVw6O6dqdm5F"
   },
   "source": [
    "## Cơ chế khuyết dữ liệu\n",
    "\n",
    "### Khuyết không ngẫu nhiên (MNAR): Các giá trị bị khuyết có hệ thống\n",
    "\n",
    "Trong tập dữ liệu Titanic, giá trị bị khuyết của các biến **age** và **cabin** đều được giới thiệu một cách có hệ thống. Không thể thiết lập **age** hoặc **cabin** với những người không sống sót. Ngược lại những người sống sót có thể được yêu cầu cung cấp thông tin đó.\n",
    "\n",
    "Chúng ta có thể suy ra điều này bằng cách xem dữ liệu không?\n",
    "\n",
    "Trong tình huống như vậy, chúng ta có thể dư kiến số lượng các giá trị bị khuyết lớn hơn cho những người không sống sót.\n",
    "\n",
    "Hãy xem."
   ]
  },
  {
   "cell_type": "code",
   "execution_count": 17,
   "metadata": {
    "id": "FZbXarD5dm5G"
   },
   "outputs": [],
   "source": [
    "## Yêu cầu 5: Hãy tạo một biến nhị phân chỉ ra giá trị cabin có bị khuyết hay không \n",
    "## VIẾT CODE Ở ĐÂY:\n",
    "data['cabin_null'] = np.where(data['cabin'].isnull(), 1, 0)"
   ]
  },
  {
   "cell_type": "code",
   "execution_count": 27,
   "metadata": {
    "id": "NHzdGWwPdm5G",
    "outputId": "d39423fc-3d40-4486-8f13-0d7a7a16dd94"
   },
   "outputs": [
    {
     "data": {
      "text/plain": [
       "survived\n",
       "0    0.873918\n",
       "1    0.614000\n",
       "Name: cabin_null, dtype: float64"
      ]
     },
     "execution_count": 27,
     "metadata": {},
     "output_type": "execute_result"
    }
   ],
   "source": [
    "# hãy đánh giá tỷ lệ giá trị bị khuyết trong\n",
    "# cabin cho những người sống với không sống sót\n",
    "data.cabin_null.mean()*100\n",
    "# biến Survived nhận giá trị 1 nếu hành khách \n",
    "# sống sót, nếu không là 0\n",
    "\n",
    "## Yêu cầu 6:\n",
    "# nhóm dữ liệu theo Survived với Non-Survived\n",
    "# và tìm tỷ lệ null cho cabin\n",
    "## VIẾT CODE Ở ĐÂY:\n",
    "data.groupby(['survived'])['cabin_null'].mean()"
   ]
  },
  {
   "cell_type": "code",
   "execution_count": null,
   "metadata": {
    "id": "KJV2E3Tfdm5H",
    "outputId": "02042b0c-fdfa-4ad7-b82b-9df994c1b1bb"
   },
   "outputs": [
    {
     "data": {
      "text/plain": [
       "survived\n",
       "0    0.873918\n",
       "1    0.614000\n",
       "Name: cabin, dtype: float64"
      ]
     },
     "execution_count": 7,
     "metadata": {
      "tags": []
     },
     "output_type": "execute_result"
    }
   ],
   "source": [
    "# một cách khác để thực hiện điều trên với ít dòng hơn\n",
    "# code :)\n",
    "\n",
    "data['cabin'].isnull().groupby(data['survived']).mean()"
   ]
  },
  {
   "cell_type": "markdown",
   "metadata": {
    "id": "Xl1siwxudm5I"
   },
   "source": [
    "Chúng ta thấy rằng tỷ lệ giá trị bị khuyết của những người không sống sót (87%) cao hơn những người sống sót (60%). Phát hiện này phù hợp với giả thuyết rằng dữ liệu bị khuyết vì không thể truy xuất thông tin sau khi chết.\n",
    "\n",
    "**Lưu ý**: Do đó, để thực sự củng cố liệu dữ liệu MNAR, chúng ta cần làm quen với cách thu thập dữ liệu. Phân tích tập dữ liệu chỉ có thể chỉ chúng ta đi đúng hướng hoặc giúp xây dựng các giả định. "
   ]
  },
  {
   "cell_type": "code",
   "execution_count": 28,
   "metadata": {
    "id": "TcBfWA9Adm5J",
    "outputId": "04bc94ed-b4d4-442a-8205-22c98bd74c0c"
   },
   "outputs": [
    {
     "data": {
      "text/plain": [
       "survived\n",
       "0    0.234858\n",
       "1    0.146000\n",
       "Name: age_null, dtype: float64"
      ]
     },
     "execution_count": 28,
     "metadata": {},
     "output_type": "execute_result"
    }
   ],
   "source": [
    "## Yêu cầu 7:\n",
    "# Hãy thực hiện tương tự với biến age:\n",
    "\n",
    "# rước tiên tạo biến nhị phân để chỉ\n",
    "# giá trị của age có bị khuyết không\n",
    "## VIẾT CODE Ở ĐÂY:\n",
    "data['age_null'] = np.where(data['age'].isnull(), 1, 0)\n",
    "\n",
    "# và xem giá trị trung bình ở các nhóm sống sót khác nhau:\n",
    "## VIẾT CODE Ở ĐÂY:\n",
    "data.groupby(['survived'])['age_null'].mean()"
   ]
  },
  {
   "cell_type": "code",
   "execution_count": 29,
   "metadata": {
    "id": "DxzemTdOdm5J",
    "outputId": "120ce00a-f863-4204-c16b-5b1491a657a4"
   },
   "outputs": [
    {
     "data": {
      "text/plain": [
       "survived\n",
       "0    0.234858\n",
       "1    0.146000\n",
       "Name: age, dtype: float64"
      ]
     },
     "execution_count": 29,
     "metadata": {},
     "output_type": "execute_result"
    }
   ],
   "source": [
    "# hoặc tương tự với code đơn giản hơn :)\n",
    "\n",
    "data['age'].isnull().groupby(data['survived']).mean()"
   ]
  },
  {
   "cell_type": "markdown",
   "metadata": {
    "id": "T8H6xToDdm5K"
   },
   "source": [
    "Một lần nữa, chúng ta quan sát thấy số lượng dữ liệu bị khuyết cao hơn với những người không sống sót sau thảm kịch. Do đó, phân tích cho thấy có một sự mất mát dữ liệu có hệ thống: những người không sống sót có xu hướng khuyết nhiều thông tin hơn. Cũng có thể do phương pháp thu thập thông tin góp phần tạo ra những dữ liệu bị khuyết này."
   ]
  },
  {
   "cell_type": "markdown",
   "metadata": {
    "id": "T2vNob7Odm5K"
   },
   "source": [
    "### Khuyết dữ liệu hoàn toàn ngẫu nhiên (MCAR)"
   ]
  },
  {
   "cell_type": "code",
   "execution_count": 30,
   "metadata": {
    "id": "of2xxhsjdm5K",
    "outputId": "227ae4d8-628f-42de-f05f-9b7c43f0afe2"
   },
   "outputs": [
    {
     "data": {
      "text/html": [
       "<div>\n",
       "<style scoped>\n",
       "    .dataframe tbody tr th:only-of-type {\n",
       "        vertical-align: middle;\n",
       "    }\n",
       "\n",
       "    .dataframe tbody tr th {\n",
       "        vertical-align: top;\n",
       "    }\n",
       "\n",
       "    .dataframe thead th {\n",
       "        text-align: right;\n",
       "    }\n",
       "</style>\n",
       "<table border=\"1\" class=\"dataframe\">\n",
       "  <thead>\n",
       "    <tr style=\"text-align: right;\">\n",
       "      <th></th>\n",
       "      <th>pclass</th>\n",
       "      <th>survived</th>\n",
       "      <th>name</th>\n",
       "      <th>sex</th>\n",
       "      <th>age</th>\n",
       "      <th>sibsp</th>\n",
       "      <th>parch</th>\n",
       "      <th>ticket</th>\n",
       "      <th>fare</th>\n",
       "      <th>cabin</th>\n",
       "      <th>embarked</th>\n",
       "      <th>boat</th>\n",
       "      <th>body</th>\n",
       "      <th>home.dest</th>\n",
       "      <th>cabin_null</th>\n",
       "      <th>age_null</th>\n",
       "    </tr>\n",
       "  </thead>\n",
       "  <tbody>\n",
       "    <tr>\n",
       "      <th>168</th>\n",
       "      <td>1</td>\n",
       "      <td>1</td>\n",
       "      <td>Icard, Miss. Amelie</td>\n",
       "      <td>female</td>\n",
       "      <td>38.0</td>\n",
       "      <td>0</td>\n",
       "      <td>0</td>\n",
       "      <td>113572</td>\n",
       "      <td>80.0</td>\n",
       "      <td>B28</td>\n",
       "      <td>NaN</td>\n",
       "      <td>6</td>\n",
       "      <td>NaN</td>\n",
       "      <td>NaN</td>\n",
       "      <td>0</td>\n",
       "      <td>0</td>\n",
       "    </tr>\n",
       "    <tr>\n",
       "      <th>284</th>\n",
       "      <td>1</td>\n",
       "      <td>1</td>\n",
       "      <td>Stone, Mrs. George Nelson (Martha Evelyn)</td>\n",
       "      <td>female</td>\n",
       "      <td>62.0</td>\n",
       "      <td>0</td>\n",
       "      <td>0</td>\n",
       "      <td>113572</td>\n",
       "      <td>80.0</td>\n",
       "      <td>B28</td>\n",
       "      <td>NaN</td>\n",
       "      <td>6</td>\n",
       "      <td>NaN</td>\n",
       "      <td>Cincinatti, OH</td>\n",
       "      <td>0</td>\n",
       "      <td>0</td>\n",
       "    </tr>\n",
       "  </tbody>\n",
       "</table>\n",
       "</div>"
      ],
      "text/plain": [
       "     pclass  survived                                       name     sex  \\\n",
       "168       1         1                        Icard, Miss. Amelie  female   \n",
       "284       1         1  Stone, Mrs. George Nelson (Martha Evelyn)  female   \n",
       "\n",
       "      age  sibsp  parch  ticket  fare cabin embarked boat  body  \\\n",
       "168  38.0      0      0  113572  80.0   B28      NaN    6   NaN   \n",
       "284  62.0      0      0  113572  80.0   B28      NaN    6   NaN   \n",
       "\n",
       "          home.dest  cabin_null  age_null  \n",
       "168             NaN           0         0  \n",
       "284  Cincinatti, OH           0         0  "
      ]
     },
     "execution_count": 30,
     "metadata": {},
     "output_type": "execute_result"
    }
   ],
   "source": [
    "# Trong tập dữ liệu titanic cũng có giá trị bị khuyết\n",
    "# cho biến Embarked.\n",
    "# Hãy quan sát.\n",
    "\n",
    "## Yêu cầu 8:\n",
    "# Cắt dataframe để chỉ hiển thị các quan sát\n",
    "# với các giá trị bị khuyết cho Embarked\n",
    "\n",
    "data[data['embarked'].isnull()]"
   ]
  },
  {
   "cell_type": "markdown",
   "metadata": {
    "id": "oouPfHMHdm5L"
   },
   "source": [
    "Icard là người giúp việc của bà Stone, 2 người phụ nữ này đã đi du lịch cùng nhau.\n",
    "\n",
    "Dường như không có dấu hiệu cho thấy thông tin bị khuyết trong biến Embarked phụ thuộc vào bất kỳ biến nào khác; thực tế, những phụ nữ này sống sót, nghĩa là họ có thể đã được hỏi về thông tin này.\n",
    "\n",
    "Rất có thể các giá trị đã bị mất tại thời điểm xây dựng tập dữ liệu.\n",
    "\n",
    "Nếu các giá trị này là MCAR thì xác suất khuyết dữ liệu của 2 người phụ nữ này bằng với xác suất khuyết các giá trị với bất kỳ người nào khác trên Titanic. Tất nhiên điều này sẽ khó để chứng minh. Hy vọng đây là một minh chứng. "
   ]
  },
  {
   "cell_type": "markdown",
   "metadata": {
    "id": "5idkSaZMdm5L"
   },
   "source": [
    "### Khuyết dữ liệu ngẫu nhiên (MAR)\n",
    "\n",
    "Đối với ví dụ này, chúng ta sẽ sử dụng tập dữ liệu loan book toy từ công ty cho vay ngang hàng giả tưởng này.\n",
    "\n",
    "Chúng ta sẽ xem xét các biến employment và years in employment, cả hai đều được người vay khai báo tại thời điểm đăng ký vay.\n",
    "\n",
    "Trong ví dụ này, dữ liệu bị khuyết trong employment có liên quan đến dữ liệu bị khuyết trong time_employed. "
   ]
  },
  {
   "cell_type": "code",
   "execution_count": 35,
   "metadata": {
    "id": "7RFUiCOldm5M",
    "outputId": "0477281b-5388-4fcf-edbd-303730dc9058"
   },
   "outputs": [
    {
     "data": {
      "text/html": [
       "<div>\n",
       "<style scoped>\n",
       "    .dataframe tbody tr th:only-of-type {\n",
       "        vertical-align: middle;\n",
       "    }\n",
       "\n",
       "    .dataframe tbody tr th {\n",
       "        vertical-align: top;\n",
       "    }\n",
       "\n",
       "    .dataframe thead th {\n",
       "        text-align: right;\n",
       "    }\n",
       "</style>\n",
       "<table border=\"1\" class=\"dataframe\">\n",
       "  <thead>\n",
       "    <tr style=\"text-align: right;\">\n",
       "      <th></th>\n",
       "      <th>employment</th>\n",
       "      <th>time_employed</th>\n",
       "    </tr>\n",
       "  </thead>\n",
       "  <tbody>\n",
       "    <tr>\n",
       "      <th>0</th>\n",
       "      <td>Teacher</td>\n",
       "      <td>&lt;=5 years</td>\n",
       "    </tr>\n",
       "    <tr>\n",
       "      <th>1</th>\n",
       "      <td>Accountant</td>\n",
       "      <td>&lt;=5 years</td>\n",
       "    </tr>\n",
       "    <tr>\n",
       "      <th>2</th>\n",
       "      <td>Statistician</td>\n",
       "      <td>&lt;=5 years</td>\n",
       "    </tr>\n",
       "    <tr>\n",
       "      <th>3</th>\n",
       "      <td>Other</td>\n",
       "      <td>&lt;=5 years</td>\n",
       "    </tr>\n",
       "    <tr>\n",
       "      <th>4</th>\n",
       "      <td>Bus driver</td>\n",
       "      <td>&gt;5 years</td>\n",
       "    </tr>\n",
       "  </tbody>\n",
       "</table>\n",
       "</div>"
      ],
      "text/plain": [
       "     employment time_employed\n",
       "0       Teacher     <=5 years\n",
       "1    Accountant     <=5 years\n",
       "2  Statistician     <=5 years\n",
       "3         Other     <=5 years\n",
       "4    Bus driver      >5 years"
      ]
     },
     "execution_count": 35,
     "metadata": {},
     "output_type": "execute_result"
    }
   ],
   "source": [
    "## Yêu cầu 9:\n",
    "# load các cột cho bài tập này \n",
    "\n",
    "## VIẾT CODE Ở ĐÂY:\n",
    "data = pd.read_csv('./dataset/loan.csv', usecols=['employment','time_employed'])\n",
    "\n",
    "data.head()"
   ]
  },
  {
   "cell_type": "code",
   "execution_count": 36,
   "metadata": {
    "id": "Pu8ydcY1dm5N",
    "outputId": "68659022-ccac-42cd-e746-57d33bb43ccb"
   },
   "outputs": [
    {
     "data": {
      "text/plain": [
       "employment       0.0611\n",
       "time_employed    0.0529\n",
       "dtype: float64"
      ]
     },
     "execution_count": 36,
     "metadata": {},
     "output_type": "execute_result"
    }
   ],
   "source": [
    "## Yêu cầu 10:\n",
    "# kiểm tra tỷ lệ phần trăm dữ liệu bị khuyết\n",
    "## VIẾT CODE Ở ĐÂY:\n",
    "data.isnull().mean()"
   ]
  },
  {
   "cell_type": "markdown",
   "metadata": {
    "id": "T5qhtVfVdm5O"
   },
   "source": [
    "Chúng ta thấy cả 2 biến có tỷ lệ quan sát bị khuyết như nhau."
   ]
  },
  {
   "cell_type": "code",
   "execution_count": 49,
   "metadata": {
    "id": "9dfppFYBdm5P",
    "outputId": "7f4ab433-447c-4bc9-c40d-f11c55baf887"
   },
   "outputs": [
    {
     "name": "stdout",
     "output_type": "stream",
     "text": [
      "Number of employments: 12\n"
     ]
    },
    {
     "data": {
      "text/plain": [
       "array(['Teacher', 'Accountant', 'Statistician', 'Other', 'Bus driver',\n",
       "       'Secretary', 'Software developer', 'Nurse', 'Taxi driver', nan,\n",
       "       'Civil Servant', 'Dentist'], dtype=object)"
      ]
     },
     "execution_count": 49,
     "metadata": {},
     "output_type": "execute_result"
    }
   ],
   "source": [
    "## Yêu cầu 11:\n",
    "# kiểm tra các kiểu công việc khác nhau\n",
    "\n",
    "# số công việc khác nhau\n",
    "## VIẾT CODE Ở ĐÂY:\n",
    "print('Number of employments: {}'.format(\n",
    "    len(data['employment'].unique())))\n",
    "\n",
    "# Ví dụ về công việc\n",
    "## VIẾT CODE Ở ĐÂY:\n",
    "data['employment'].unique()"
   ]
  },
  {
   "cell_type": "markdown",
   "metadata": {
    "id": "2vOsBNdD62-X"
   },
   "source": [
    "<details><summary> Gợi ý: </summary>\n",
    "\n",
    "Sử dụng hàm `unique()` \n",
    "</details>"
   ]
  },
  {
   "cell_type": "markdown",
   "metadata": {
    "id": "H1VNczhAdm5P"
   },
   "source": [
    "Chúng ta thấy thông tin bị khuyết (NaN) và vài nghề nghiệp khác."
   ]
  },
  {
   "cell_type": "code",
   "execution_count": 50,
   "metadata": {
    "id": "pSZ52Izwdm5P",
    "outputId": "56c247f7-eddc-40ca-e2d5-23466438d0ca"
   },
   "outputs": [
    {
     "data": {
      "text/plain": [
       "array(['<=5 years', '>5 years', nan], dtype=object)"
      ]
     },
     "execution_count": 50,
     "metadata": {},
     "output_type": "execute_result"
    }
   ],
   "source": [
    "## Yêu cầu 12:\n",
    "#  kiểm tra biến time_employed\n",
    "## VIẾT CODE Ở ĐÂY:\n",
    "data['time_employed'].unique()"
   ]
  },
  {
   "cell_type": "markdown",
   "metadata": {
    "id": "8Hd4NnvT6-CU"
   },
   "source": [
    "<details><summary> Gợi ý: </summary>\n",
    "\n",
    "Sử dụng hàm `unique()` \n",
    "</details>"
   ]
  },
  {
   "cell_type": "markdown",
   "metadata": {
    "id": "Xqfjoacmdm5Q"
   },
   "source": [
    "Khách hàng không thể nhập giá trị cho employment time nếu họ không làm việc. Họ có thể là sinh viên, đã nghỉ hưu, tự kinh doanh hoặc làm việc ở nhà. Nhưng hãy xem 2 biến này liên hệ với nhau như thế nào."
   ]
  },
  {
   "cell_type": "code",
   "execution_count": 52,
   "metadata": {
    "id": "VnzyVRBMdm5Q",
    "outputId": "e5d4fa30-7e85-4de7-82cf-001eb36a7732"
   },
   "outputs": [
    {
     "data": {
      "text/plain": [
       "0.0005325380764724678"
      ]
     },
     "execution_count": 52,
     "metadata": {},
     "output_type": "execute_result"
    }
   ],
   "source": [
    "## Yêu cầu 13:\n",
    "# tính tỷ lệ dữ liệu bị khuyết cho biến time_employed\n",
    "# cho những khách khai báo công việc\n",
    "\n",
    "# những khách khai báo công việc\n",
    "## VIẾT CODE Ở ĐÂY:\n",
    "t = data[~data['employment'].isnull()]\n",
    "\n",
    "# phần trăm dữ liệu bị khuyết trong time_employed\n",
    "## VIẾT CODE Ở ĐÂY:\n",
    "t['time_employed'].isnull().mean()"
   ]
  },
  {
   "cell_type": "code",
   "execution_count": 53,
   "metadata": {
    "id": "Jgc0Dw8Gdm5R",
    "outputId": "df4cdcb2-4ecf-4ec5-e523-f4994c3e22a1"
   },
   "outputs": [
    {
     "data": {
      "text/plain": [
       "0.8576104746317512"
      ]
     },
     "execution_count": 53,
     "metadata": {},
     "output_type": "execute_result"
    }
   ],
   "source": [
    "## Yêu cầu 14:\n",
    "# thực hiện tương tự với những người vay mà không\n",
    "# khai báo công việc\n",
    "\n",
    "\n",
    "# các khách không khai báo công việc\n",
    "## VIẾT CODE Ở ĐÂY:\n",
    "t = data[data['employment'].isnull()]\n",
    "\n",
    "# phần trăm dữ liệu bị khuyết trong time_employed\n",
    "## VIẾT CODE Ở ĐÂY:\n",
    "t['time_employed'].isnull().mean()"
   ]
  },
  {
   "cell_type": "markdown",
   "metadata": {
    "id": "RxVUGDHsdm5R"
   },
   "source": [
    "Số lượng người vay đã khai báo nghề nghiệp và khuyết giá trị trong time_employed là tối thiểu trong khi những khách hàng không khai báo nghề nghiệp hoặc việc làm, hầu hết đang báo cáo thiếu giá trị bị thiếu trong biến time_employed,\n",
    "\n",
    "Điều này hỗ trợ thêm rằng các giá trị bị khuyết trong employment có liên quan đến các giá trị bị khuyết trong time_employed.\n",
    "\n",
    "Đây là ví dụ về MAR. "
   ]
  }
 ],
 "metadata": {
  "colab": {
   "collapsed_sections": [],
   "name": "[VN]7.1 Missing Data.ipynb",
   "provenance": []
  },
  "kernelspec": {
   "display_name": "Python 3",
   "language": "python",
   "name": "python3"
  },
  "language_info": {
   "codemirror_mode": {
    "name": "ipython",
    "version": 3
   },
   "file_extension": ".py",
   "mimetype": "text/x-python",
   "name": "python",
   "nbconvert_exporter": "python",
   "pygments_lexer": "ipython3",
   "version": "3.8.8"
  },
  "toc": {
   "base_numbering": 1,
   "nav_menu": {},
   "number_sections": true,
   "sideBar": true,
   "skip_h1_title": false,
   "title_cell": "Table of Contents",
   "title_sidebar": "Contents",
   "toc_cell": false,
   "toc_position": {},
   "toc_section_display": "block",
   "toc_window_display": true
  }
 },
 "nbformat": 4,
 "nbformat_minor": 1
}
