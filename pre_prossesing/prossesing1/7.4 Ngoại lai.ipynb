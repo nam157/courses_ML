{
 "cells": [
  {
   "cell_type": "markdown",
   "metadata": {
    "id": "C_RXUVGhgc48"
   },
   "source": [
    "## Ngoại lai (Outlier)\n",
    "\n",
    "Outlier là một điểm dữ liệu khác biệt đáng kể so với dữ liệu còn lại. \"Outlier là quan sát sai lệch rất nhiều so với các quan sát khác, làm dấy lên nghi ngờ rằng nó được tạo ra bởi một cơ chế khác.\" [D. Hawkins. Identification of Outliers, Chapman and Hall , 1980.]\n",
    "\n",
    "\n",
    "### Có nên loại bỏ outlier?\n",
    "\n",
    "Tùy thuộc vào bối cảnh, outlier đáng được chú ý đặc biệt hoặc có thể bị bỏ qua hoàn toàn. Lấy ví dụ về dự báo doanh thu: nếu quan sát thấy doanh thu tăng đột biến bất thường của thì cần chú ý thêm đến chúng và tìm nguyên nhân gây ra mức tăng đột biến đó. Tương tự như vậy, một giao dịch bất thường trên thẻ tín dụng thường là dấu hiệu của hoạt động gian lận, đây là điều mà công ty phát hành thẻ tín dụng muốn ngăn chặn. Vậy, sẽ rất hữu ích khi tìm kiếm và điều tra thêm các giá trị outlier trong những trường hợp như thế này.\n",
    "\n",
    "\n",
    "Tuy nhiên, nếu các outlier được đưa vào do lỗi cơ học, lỗi đo lường hoặc bất kỳ điều gì khác không thể tổng quát hóa thì nên loại bỏ các giá trị outlier này trước khi cung cấp dữ liệu cho thuật toán mô hình hóa. Tại sao? Vì một số thuật toán nhạy với các outlier.\n",
    "\n",
    "\n",
    "### Các mô hình học máy nào nhạy với outlier?\n",
    "\n",
    "Một số mô hình học máy nhạy với outlier hơn các mô hình khác. Ví dụ: AdaBoost có thể coi outlier là trường hợp \"khó\" và đặt trọng số lớn cho các outlier, do đó tạo ra một mô hình có tổng quát hóa không tốt.\n",
    "\n",
    "Mô hình tuyến tính, cụ thể là Hồi quy tuyến tính cũng nhạy với các outlier.\n",
    "\n",
    "Cây quyết định có xu hướng bỏ qua sự có mặt của các outlier khi tạo các nhánh của chúng. Thông thường, cây đưa ra quyết định bằng cách hỏi xem biến x >= một giá trị nào đó hay không và do đó outlier sẽ rơi vào mỗi bên của nhánh nhưng sẽ được xử lý công bằng hơn so với các giá trị còn lại, bất kể độ lớn.\n",
    "\n",
    "Một bài viết nghiên cứu gần đây cho thấy rằng Mạng nơ-ron cũng có thể nhạy với các outlier, miễn là có nhiều outlier và độ lệch cũng cao. Nếu số lượng các outlier cao (>15% như đề xuất trong bài viết) thì chúng không còn là outlier nữa, mà thay vào đó là một đại diện hợp lý của biến đó. Liên kết đến bài viết này có thể tìm thấy trong phần \"Additional reading resources\" trong phần này của khóa học.\n",
    "\n",
    "\n",
    "### Cách xác định outlier?\n",
    "\n",
    "Phân tích outlier và phát hiện bất thường là một lĩnh vực nghiên cứu khổng lồ dành cho việc tối ưu hóa các phương pháp và tạo ra các thuật toán mới để xác định outlier một cách đáng tin cậy. Có rất nhiều cách tối ưu hóa phát hiện điểm bất thường trong các tình huống khác nhau, chủ yếu để xác định outlier khi đó là các quan sát mà chúng ta thực sự muốn tập trung, ví dụ như hoạt động gian lận thẻ tín dụng.\n",
    "\n",
    "\n",
    "Tuy nhiên trong khóa học này, chúng ta sẽ tập trung vào việc xác định outlier do sai số cơ học hoặc đo lường gây ra. Các outlier đó thực sự là trường hợp hiếm trong tập hợp và điều đó có thể bị bỏ qua. Chúng ta sẽ chỉ ra cách xác định những outlier đó, để ở các phần sau, chúng ta có thể học cách tiền xử lý chúng trước khi sử dụng biến để huấn luyện các thuật toán học máy.\n",
    "\n",
    "\n",
    "### Phân tích giá trị cực trị (Extreme Value Analysis)\n",
    "\n",
    "Hình thức phát hiện outlier cơ bản nhất là **Phân tích giá trị cực trị** của dữ liệu 1 chiều. Mấu chốt của phương pháp này là xác định các đuôi thống kê của phân phối cơ bản của biến, sau đó tìm các giá trị nằm ở cuối các đuôi.\n",
    "\n",
    "Nếu biến được phân phối chuẩn (Gauss) thì các giá trị nằm ngoài giá trị trung bình cộng / trừ 3 lần độ lệch chuẩn của biến được coi là outlier.\n",
    "\n",
    "\n",
    "- outlier = mean +/- 3* std\n",
    "\n",
    "\n",
    "Nếu biến vị phân phối lệch thì phương pháp chúng là tính quantile rồi IQR như sau:\n",
    "\n",
    "- IQR = quantile thứ 75 - quantile thứ 25\n",
    "\n",
    "Outlier sẽ nằm ngoài upper boundary (ranh giới trên) và lower boundary (ranh giới dưới) như sau:\n",
    "\n",
    "- Upper boundary = quantile thứ 75 + (IQR * 1.5)\n",
    "\n",
    "- Lower boundary = quantile thứ 25 - (IQR * 1.5)\n",
    "\n",
    "hoặc cho các trường hợp cực trị:\n",
    "\n",
    "- Upper boundary = quantile thứ 75 + (IQR * 3)\n",
    "\n",
    "- Lower boundary = quantile thứ 25 - (IQR * 3)\n",
    "\n",
    "\n",
    "\n",
    "## Tập dữ liệu cho notebook này: \n",
    "\n",
    "Trong mô phỏng này, chúng ta sẽ sử dụng tập dữ liệu Titanic và giá nhà.\n",
    "\n",
    "\n",
    "Chúng ta cũng dùng tập dữ liệu có trong Scikit-learn:\n",
    "\n",
    "### Tập dữ liệu giá nhà ở Boston"
   ]
  },
  {
   "cell_type": "code",
   "execution_count": 1,
   "metadata": {
    "collapsed": true,
    "id": "CtDO_XdGgc5A",
    "outputId": "c6895078-852e-4dcc-b163-9de231fe46c5"
   },
   "outputs": [
    {
     "name": "stdout",
     "output_type": "stream",
     "text": [
      ".. _boston_dataset:\n",
      "\n",
      "Boston house prices dataset\n",
      "---------------------------\n",
      "\n",
      "**Data Set Characteristics:**  \n",
      "\n",
      "    :Number of Instances: 506 \n",
      "\n",
      "    :Number of Attributes: 13 numeric/categorical predictive. Median Value (attribute 14) is usually the target.\n",
      "\n",
      "    :Attribute Information (in order):\n",
      "        - CRIM     per capita crime rate by town\n",
      "        - ZN       proportion of residential land zoned for lots over 25,000 sq.ft.\n",
      "        - INDUS    proportion of non-retail business acres per town\n",
      "        - CHAS     Charles River dummy variable (= 1 if tract bounds river; 0 otherwise)\n",
      "        - NOX      nitric oxides concentration (parts per 10 million)\n",
      "        - RM       average number of rooms per dwelling\n",
      "        - AGE      proportion of owner-occupied units built prior to 1940\n",
      "        - DIS      weighted distances to five Boston employment centres\n",
      "        - RAD      index of accessibility to radial highways\n",
      "        - TAX      full-value property-tax rate per $10,000\n",
      "        - PTRATIO  pupil-teacher ratio by town\n",
      "        - B        1000(Bk - 0.63)^2 where Bk is the proportion of blacks by town\n",
      "        - LSTAT    % lower status of the population\n",
      "        - MEDV     Median value of owner-occupied homes in $1000's\n",
      "\n",
      "    :Missing Attribute Values: None\n",
      "\n",
      "    :Creator: Harrison, D. and Rubinfeld, D.L.\n",
      "\n",
      "This is a copy of UCI ML housing dataset.\n",
      "https://archive.ics.uci.edu/ml/machine-learning-databases/housing/\n",
      "\n",
      "\n",
      "This dataset was taken from the StatLib library which is maintained at Carnegie Mellon University.\n",
      "\n",
      "The Boston house-price data of Harrison, D. and Rubinfeld, D.L. 'Hedonic\n",
      "prices and the demand for clean air', J. Environ. Economics & Management,\n",
      "vol.5, 81-102, 1978.   Used in Belsley, Kuh & Welsch, 'Regression diagnostics\n",
      "...', Wiley, 1980.   N.B. Various transformations are used in the table on\n",
      "pages 244-261 of the latter.\n",
      "\n",
      "The Boston house-price data has been used in many machine learning papers that address regression\n",
      "problems.   \n",
      "     \n",
      ".. topic:: References\n",
      "\n",
      "   - Belsley, Kuh & Welsch, 'Regression diagnostics: Identifying Influential Data and Sources of Collinearity', Wiley, 1980. 244-261.\n",
      "   - Quinlan,R. (1993). Combining Instance-Based and Model-Based Learning. In Proceedings on the Tenth International Conference of Machine Learning, 236-243, University of Massachusetts, Amherst. Morgan Kaufmann.\n",
      "\n"
     ]
    }
   ],
   "source": [
    "# in thông tin cho tập dữ liệu boston\n",
    "from sklearn.datasets import load_boston\n",
    "print(load_boston().DESCR)"
   ]
  },
  {
   "cell_type": "markdown",
   "metadata": {
    "id": "m7czbfvhgc5E"
   },
   "source": [
    "## Trong bản mô phỏng này:\n",
    "\n",
    "Chúng ta sẽ:\n",
    "\n",
    "- Xác định outlier sử dụng phân tích trường hợp toàn vẹn (CCA) ở các biến được phân phối chuẩn.\n",
    "- Xác định outlier sử dụng phân tích trường hợp toàn vẹn (CCA) ở các biến bị phân phối lệch."
   ]
  },
  {
   "cell_type": "code",
   "execution_count": 2,
   "metadata": {
    "id": "JJ07CBAUgc5F"
   },
   "outputs": [],
   "source": [
    "import pandas as pd\n",
    "import numpy as np\n",
    "\n",
    "import matplotlib.pyplot as plt\n",
    "import seaborn as sns\n",
    "\n",
    "# cho biểu đồ Q-Q \n",
    "import scipy.stats as stats\n",
    "\n",
    "# tập dữ liệu nhà ở boston cho mô phỏng\n",
    "from sklearn.datasets import load_boston"
   ]
  },
  {
   "cell_type": "code",
   "execution_count": 3,
   "metadata": {
    "id": "rargwfSygc5G",
    "outputId": "83bbacdd-748f-4b65-952c-0bce2dc2d206"
   },
   "outputs": [
    {
     "data": {
      "text/html": [
       "<div>\n",
       "<style scoped>\n",
       "    .dataframe tbody tr th:only-of-type {\n",
       "        vertical-align: middle;\n",
       "    }\n",
       "\n",
       "    .dataframe tbody tr th {\n",
       "        vertical-align: top;\n",
       "    }\n",
       "\n",
       "    .dataframe thead th {\n",
       "        text-align: right;\n",
       "    }\n",
       "</style>\n",
       "<table border=\"1\" class=\"dataframe\">\n",
       "  <thead>\n",
       "    <tr style=\"text-align: right;\">\n",
       "      <th></th>\n",
       "      <th>RM</th>\n",
       "      <th>LSTAT</th>\n",
       "      <th>CRIM</th>\n",
       "    </tr>\n",
       "  </thead>\n",
       "  <tbody>\n",
       "    <tr>\n",
       "      <th>0</th>\n",
       "      <td>6.575</td>\n",
       "      <td>4.98</td>\n",
       "      <td>0.00632</td>\n",
       "    </tr>\n",
       "    <tr>\n",
       "      <th>1</th>\n",
       "      <td>6.421</td>\n",
       "      <td>9.14</td>\n",
       "      <td>0.02731</td>\n",
       "    </tr>\n",
       "    <tr>\n",
       "      <th>2</th>\n",
       "      <td>7.185</td>\n",
       "      <td>4.03</td>\n",
       "      <td>0.02729</td>\n",
       "    </tr>\n",
       "    <tr>\n",
       "      <th>3</th>\n",
       "      <td>6.998</td>\n",
       "      <td>2.94</td>\n",
       "      <td>0.03237</td>\n",
       "    </tr>\n",
       "    <tr>\n",
       "      <th>4</th>\n",
       "      <td>7.147</td>\n",
       "      <td>5.33</td>\n",
       "      <td>0.06905</td>\n",
       "    </tr>\n",
       "  </tbody>\n",
       "</table>\n",
       "</div>"
      ],
      "text/plain": [
       "      RM  LSTAT     CRIM\n",
       "0  6.575   4.98  0.00632\n",
       "1  6.421   9.14  0.02731\n",
       "2  7.185   4.03  0.02729\n",
       "3  6.998   2.94  0.03237\n",
       "4  7.147   5.33  0.06905"
      ]
     },
     "execution_count": 3,
     "metadata": {},
     "output_type": "execute_result"
    }
   ],
   "source": [
    "# load tập dữ liệu giá nhà ở Boston\n",
    "\n",
    "# load tập dữ liệu boston từ sklearn\n",
    "boston_dataset = load_boston()\n",
    "\n",
    "# tạo một dataframe với các biến độc lập\n",
    "# chỉ sử dụng 3 biến cho mô phỏng này\n",
    "\n",
    "boston = pd.DataFrame(boston_dataset.data,\n",
    "                      columns=boston_dataset.feature_names)[[\n",
    "                          'RM', 'LSTAT', 'CRIM'\n",
    "                      ]]\n",
    "\n",
    "\n",
    "boston.head()"
   ]
  },
  {
   "cell_type": "code",
   "execution_count": 4,
   "metadata": {
    "id": "0xwavFH3gc5H",
    "outputId": "f3c29dd0-105c-4650-87a3-255ba53e761d"
   },
   "outputs": [
    {
     "data": {
      "text/html": [
       "<div>\n",
       "<style scoped>\n",
       "    .dataframe tbody tr th:only-of-type {\n",
       "        vertical-align: middle;\n",
       "    }\n",
       "\n",
       "    .dataframe tbody tr th {\n",
       "        vertical-align: top;\n",
       "    }\n",
       "\n",
       "    .dataframe thead th {\n",
       "        text-align: right;\n",
       "    }\n",
       "</style>\n",
       "<table border=\"1\" class=\"dataframe\">\n",
       "  <thead>\n",
       "    <tr style=\"text-align: right;\">\n",
       "      <th></th>\n",
       "      <th>age</th>\n",
       "      <th>fare</th>\n",
       "    </tr>\n",
       "  </thead>\n",
       "  <tbody>\n",
       "    <tr>\n",
       "      <th>0</th>\n",
       "      <td>29.0000</td>\n",
       "      <td>211.3375</td>\n",
       "    </tr>\n",
       "    <tr>\n",
       "      <th>1</th>\n",
       "      <td>0.9167</td>\n",
       "      <td>151.5500</td>\n",
       "    </tr>\n",
       "    <tr>\n",
       "      <th>2</th>\n",
       "      <td>2.0000</td>\n",
       "      <td>151.5500</td>\n",
       "    </tr>\n",
       "    <tr>\n",
       "      <th>3</th>\n",
       "      <td>30.0000</td>\n",
       "      <td>151.5500</td>\n",
       "    </tr>\n",
       "    <tr>\n",
       "      <th>4</th>\n",
       "      <td>25.0000</td>\n",
       "      <td>151.5500</td>\n",
       "    </tr>\n",
       "  </tbody>\n",
       "</table>\n",
       "</div>"
      ],
      "text/plain": [
       "       age      fare\n",
       "0  29.0000  211.3375\n",
       "1   0.9167  151.5500\n",
       "2   2.0000  151.5500\n",
       "3  30.0000  151.5500\n",
       "4  25.0000  151.5500"
      ]
     },
     "execution_count": 4,
     "metadata": {},
     "output_type": "execute_result"
    }
   ],
   "source": [
    "# load tập dữ liệu titanic \n",
    "\n",
    "titanic = pd.read_csv('./dataset/titanic.csv',\n",
    "                      usecols=['age', 'fare'])\n",
    "\n",
    "# biến age và fare có các giá trị bị khuyết\n",
    "# loại bỏ chúng khỏi mô phỏng\n",
    "titanic.dropna(subset=['age', 'fare'], inplace=True)\n",
    "\n",
    "titanic.head()"
   ]
  },
  {
   "cell_type": "markdown",
   "metadata": {
    "id": "b0Dhz6eggc5I"
   },
   "source": [
    "## Xác định phân phối biến\n",
    "\n",
    "Ở các biến được phân phối chuẩn, outlier là các giá trị nằm ngoài mean +/- 3*std. Tuy nhiên, nếu các biến bị lệch, chúng ta sẽ tìm outlier bằng cách IQR. Để quyết định sẽ sử dụng phương pháp nào nhằm phát hiện outlier, trước tiên chúng ta cần biết phân phối của biến.\n",
    "\n",
    "Chúng ta có thể sử dụng biểu đồ tần suất và biểu đồ Q-Q để xác định xem biến có được phân phối chuẩn hay không. Cũng có thể sử dụng biểu đồ hộp để hiển thị trực tiếp các outlier. Biểu đồ hộp là một cách tiêu chuẩn để hiển thị phân bố của một biến bằng cách sử dụng quartile đầu tiên, median, quartile thứ ba và whisker.\n",
    "\n",
    "Qua biểu đồ hộp, chúng ta có thể dễ dàng xác định:\n",
    "\n",
    "- Median biểu thị bằng đường bên trong hộp.\n",
    "- IQR chính là hộp.\n",
    "- Các quantile, quantile thứ 25 (Q1) là đầu dưới và quantile thứ 75 (Q3) là đầu trên của hộp.\n",
    "- Whisker:\n",
    "  -- whisker phía trên: Q3 + 1.5 x IQR\n",
    "  -- whisker phía dưới: Q1 -1.5 x IQR\n",
    "\n",
    "Bất kỳ giá trị nào nằm ngoài whisker đều được coi là outlier. Hãy xem các ví dụ dưới đây. "
   ]
  },
  {
   "cell_type": "code",
   "execution_count": 5,
   "metadata": {
    "id": "833dVNEsgc5K"
   },
   "outputs": [],
   "source": [
    "# hàm tạo biểu đồ tần suất, biểu đồ Q-Q và\n",
    "# biểu đồ hộp\n",
    "\n",
    "\n",
    "def diagnostic_plots(df, variable):\n",
    "    # hàm nhận dataframe (df) và\n",
    "    # biến cần quan tâm làm đối số\n",
    "\n",
    "    # xác định kích thước figure\n",
    "    plt.figure(figsize=(16, 4))\n",
    "\n",
    "    # biểu đồ tần suất\n",
    "    plt.subplot(1, 3, 1)\n",
    "    sns.histplot(df[variable], bins=30)\n",
    "    plt.title('Histogram')\n",
    "\n",
    "    # biểu đồ Q-Q\n",
    "    plt.subplot(1, 3, 2)\n",
    "    stats.probplot(df[variable], dist=\"norm\", plot=plt)\n",
    "    plt.ylabel('RM quantiles')\n",
    "\n",
    "    # biểu đồ hộp\n",
    "    plt.subplot(1, 3, 3)\n",
    "    sns.boxplot(y=df[variable])\n",
    "    plt.title('Boxplot')\n",
    "\n",
    "    plt.show()"
   ]
  },
  {
   "cell_type": "markdown",
   "metadata": {
    "id": "j9KX90Xqgc5L"
   },
   "source": [
    "### Các biến được phân phối chuẩn"
   ]
  },
  {
   "cell_type": "code",
   "execution_count": 7,
   "metadata": {
    "id": "ebcFQ_dGgc5M",
    "outputId": "71894296-4220-468a-ec4d-8ad99c95af1f"
   },
   "outputs": [
    {
     "data": {
      "image/png": "[encoded data removed]",
      "text/plain": [
       "<Figure size 1152x288 with 3 Axes>"
      ]
     },
     "metadata": {
      "needs_background": "light"
     },
     "output_type": "display_data"
    }
   ],
   "source": [
    "## Yêu cầu 1: bắt đầu với biến RM từ\n",
    "# tập dữ liệu nhà ở boston.\n",
    "# RM là trung bình số phòng trên mỗi nhà \n",
    "\n",
    "## VIẾT CODE Ở ĐÂY:\n",
    "diagnostic_plots(boston,'RM')"
   ]
  },
  {
   "cell_type": "markdown",
   "metadata": {
    "id": "E05_wZKGgc5N"
   },
   "source": [
    "Từ biểu đồ tần suất và biểu đồ Q-Q, chúng ta thấy rằng biến RM xấp xỉ khá tốt với phân phối Gauss. Trong biểu đồ hộp, biến có thể có các outlier, vì có nhiều chấm nằm bên ngoài whisker ở cả hai phía của phân phối."
   ]
  },
  {
   "cell_type": "code",
   "execution_count": 8,
   "metadata": {
    "id": "AtXnryQ2gc5N",
    "outputId": "7e390d52-84e6-4c99-f738-e3526819fb93"
   },
   "outputs": [
    {
     "data": {
      "image/png": "[encoded data removed]",
      "text/plain": [
       "<Figure size 1152x288 with 3 Axes>"
      ]
     },
     "metadata": {
      "needs_background": "light"
     },
     "output_type": "display_data"
    }
   ],
   "source": [
    "## Yêu cầu 2: kiểm tra biến Age từ tập dữ liệu titanic\n",
    "# đề cập đến tuối của hành khách trên tàu\n",
    "\n",
    "## VIẾT CODE Ở ĐÂY:\n",
    "diagnostic_plots(titanic,'age')"
   ]
  },
  {
   "cell_type": "markdown",
   "metadata": {
    "id": "AYaqF9_Pgc5O"
   },
   "source": [
    "Từ biểu đồ tần suất và biểu đồ Q-Q, chúng ta thấy rằng biến RM xấp xỉ khá tốt với phân phối Gauss. Có sự sai lệch so với phân phối hướng tới các giá trị nhỏ hơn của age. Trong biểu đồ hộp, biến có thể có các outlier, vì có nhiều chấm nằm bên ngoài whisker ở cả hai phía của phân phối. (whisher trên cùng trong biểu đồ hộp).\n",
    "\n",
    "### Các biến bị lệch"
   ]
  },
  {
   "cell_type": "code",
   "execution_count": 9,
   "metadata": {
    "id": "NQOQsIVggc5P",
    "outputId": "c9f70fc5-a3c2-4464-d60e-e5b80698f347"
   },
   "outputs": [
    {
     "data": {
      "image/png": "[encoded data removed]",
      "text/plain": [
       "<Figure size 1152x288 with 3 Axes>"
      ]
     },
     "metadata": {
      "needs_background": "light"
     },
     "output_type": "display_data"
    }
   ],
   "source": [
    "## Yêu cầu 3: biến LSTAT từ tập dữ liệu nhà ở boston \n",
    "# LSTAT là % tình trạng thấp hơn trong tập hợp \n",
    "\n",
    "## VIẾT CODE Ở ĐÂY:\n",
    "diagnostic_plots(boston,'LSTAT')"
   ]
  },
  {
   "cell_type": "markdown",
   "metadata": {
    "id": "U2WGPp2Ogc5P"
   },
   "source": [
    "LSTAT không được phân phối chuẩn, nó bị lệch về bên phải. Theo biểu đồ hộp, có một số outlier ở đuôi bên phải của phân phối."
   ]
  },
  {
   "cell_type": "code",
   "execution_count": 10,
   "metadata": {
    "id": "8lZSJSBxgc5Q",
    "outputId": "36acc932-78cd-4acc-8b5f-d5b6d86ceb4e"
   },
   "outputs": [
    {
     "data": {
      "image/png": "[encoded data removed]",
      "text/plain": [
       "<Figure size 1152x288 with 3 Axes>"
      ]
     },
     "metadata": {
      "needs_background": "light"
     },
     "output_type": "display_data"
    }
   ],
   "source": [
    "## Yêu cầu 4: biến CRIM từ tập dữ liệu nhà ở boston\n",
    "# CRIM là tỷ lệ bình quân đầu người tội phạm theo thị trấn \n",
    "\n",
    "## VIẾT CODE Ở ĐÂY:\n",
    "diagnostic_plots(boston,'CRIM')"
   ]
  },
  {
   "cell_type": "markdown",
   "metadata": {
    "id": "3Hh55bCXgc5Q"
   },
   "source": [
    "CRIM bị lệch khá nhiều vê bên phải. Theo biểu đồ hộp, dường như có khá nhiều outlier ở cuối đuôi bên phải của phân phối."
   ]
  },
  {
   "cell_type": "code",
   "execution_count": 13,
   "metadata": {
    "id": "eAuRi_RUgc5Q",
    "outputId": "ec1c87f5-8b8a-4671-bcc1-ef39e18fe0ca"
   },
   "outputs": [
    {
     "data": {
      "image/png": "[encoded data removed]",
      "text/plain": [
       "<Figure size 1152x288 with 3 Axes>"
      ]
     },
     "metadata": {
      "needs_background": "light"
     },
     "output_type": "display_data"
    }
   ],
   "source": [
    "## Yêu cầu 5: biến Fare từ tập dữ liệu titanic\n",
    "# Fare là giá vé theo \n",
    "# hành khách\n",
    "\n",
    "## VIẾT CODE Ở ĐÂY:\n",
    "diagnostic_plots(titanic,'fare')"
   ]
  },
  {
   "cell_type": "markdown",
   "metadata": {
    "id": "UjZbXsQ4gc5R"
   },
   "source": [
    "Fare cũng rất lệch và hiển thị một số giá trị bất thường ở đầu phải của phân phối.\n",
    "\n",
    "Trong các cell tiếp theo, chúng ta sẽ xác định các outlies bằng cách sử dụng giá trị trung bình và độ lệch chuẩn cho các biến RM và Age từ tập dữ liệu boston và titanic tương ứng. Sau đó, chúng ta sẽ sử dụng IQR để xác định outlier cho các biến LSTAT, CRIM và Fare từ tập dữ liệu boston và titanic.\n",
    "\n",
    "\n",
    "### Phát hiện ngoại lệ cho các biến được phân phối chuẩn "
   ]
  },
  {
   "cell_type": "code",
   "execution_count": 14,
   "metadata": {
    "id": "JpXEPkMvgc5R"
   },
   "outputs": [],
   "source": [
    "# hàm tìm ranh giới trên và dưới\n",
    "# cho các biến được phân phối chuẩn\n",
    "\n",
    "\n",
    "def find_normal_boundaries(df, variable):\n",
    "\n",
    "    # tính các giới hạn bên ngoài outlier\n",
    "    # cho phân phối Gauss\n",
    "\n",
    "    upper_boundary = df[variable].mean() + 3 * df[variable].std()\n",
    "    lower_boundary = df[variable].mean() - 3 * df[variable].std()\n",
    "\n",
    "    return upper_boundary, lower_boundary"
   ]
  },
  {
   "cell_type": "code",
   "execution_count": 15,
   "metadata": {
    "id": "6aSItus_gc5R",
    "outputId": "df197306-0841-4bb2-97fb-03ad5bcd4340"
   },
   "outputs": [
    {
     "data": {
      "text/plain": [
       "(8.392485817597757, 4.176782957105816)"
      ]
     },
     "execution_count": 15,
     "metadata": {},
     "output_type": "execute_result"
    }
   ],
   "source": [
    "## Yêu cầu 6: tính các giới hạn cho RM \n",
    "\n",
    "## VIẾT CODE Ở ĐÂY:\n",
    "upper_boundary, lower_boundary = find_normal_boundaries(boston,'RM')\n",
    "upper_boundary, lower_boundary"
   ]
  },
  {
   "cell_type": "markdown",
   "metadata": {
    "id": "tZbDV86ugc5S"
   },
   "source": [
    "Từ những điều trên, chúng ta kết luận rằng các giá trị lớn hơn 8.4 hoặc nhỏ hơn 4.2 rất hiếm khi xảy ra với biến RM. Do đó, có thể coi chúng là outlier."
   ]
  },
  {
   "cell_type": "code",
   "execution_count": 21,
   "metadata": {},
   "outputs": [
    {
     "data": {
      "text/plain": [
       "0.007905138339920948"
      ]
     },
     "execution_count": 21,
     "metadata": {},
     "output_type": "execute_result"
    }
   ],
   "source": [
    "4 / len(boston)"
   ]
  },
  {
   "cell_type": "code",
   "execution_count": 22,
   "metadata": {
    "id": "oPcoq7Blgc5T",
    "outputId": "a29c5202-a87b-43f4-e6eb-4fd42818ace6"
   },
   "outputs": [
    {
     "name": "stdout",
     "output_type": "stream",
     "text": [
      "total number of houses: 506\n",
      "houses with more than 8.4 rooms (right end outliers): 4\n",
      "houses with less than 4.2 rooms (left end outliers: 4\n",
      "\n",
      "% right end outliers: 0.007905138339920948\n",
      "% left end outliers: 0.007905138339920948\n"
     ]
    }
   ],
   "source": [
    "## Yêu cầu 7: kiểm tra số lượng và phần trăm các outlier cho RM\n",
    "\n",
    "print('total number of houses: {}'.format(len(boston)))\n",
    "\n",
    "## VIẾT CODE Ở ĐÂY:\n",
    "print('houses with more than 8.4 rooms (right end outliers): {}'.format(\n",
    "    len(boston[boston['RM'].values >= upper_boundary])))\n",
    "\n",
    "## VIẾT CODE Ở ĐÂY:\n",
    "print('houses with less than 4.2 rooms (left end outliers: {}'.format(\n",
    "    len(boston[boston['RM'].values <= lower_boundary])))\n",
    "\n",
    "print()\n",
    "\n",
    "## VIẾT CODE Ở ĐÂY:\n",
    "print('% right end outliers: {}'.format(\n",
    "    len(boston[boston['RM'].values >= upper_boundary]) / len(boston)))\n",
    "\n",
    "## VIẾT CODE Ở ĐÂY:\n",
    "print('% left end outliers: {}'.format(\n",
    "    len(boston[boston['RM'].values <= lower_boundary]) / len(boston)))"
   ]
  },
  {
   "cell_type": "markdown",
   "metadata": {
    "id": "g52QmUvfgc5T"
   },
   "source": [
    "Qua Phân tích giá trị cực trị, chúng ta đã xác định được các outlier ở cả hai đầu của phân phối cho RM; tỷ lệ phần trăm outlier thì nhỏ (1.4% nếu xét cả 2 đuôi cùng nhau), điều này có ý nghĩa vì chúng ta đang tìm kiếm chính xác các outlier. Đó là các giá trị hiếm, hiếm xuất hiện.\n",
    "\n",
    "Hãy chuyển sang Age trong tập dữ liệu titanic."
   ]
  },
  {
   "cell_type": "code",
   "execution_count": 23,
   "metadata": {
    "id": "5XOrN3aWgc5T",
    "outputId": "fa6a41e2-9d65-4e3f-b4b7-6c9b897d20c9"
   },
   "outputs": [
    {
     "data": {
      "text/plain": [
       "(73.01943709155127, -13.31576876619241)"
      ]
     },
     "execution_count": 23,
     "metadata": {},
     "output_type": "execute_result"
    }
   ],
   "source": [
    "## Yêu cầu 8: tính các giới hạn cho Age trong titanic\n",
    "\n",
    "## VIẾT CODE Ở ĐÂY:\n",
    "upper_boundary, lower_boundary = find_normal_boundaries(titanic,'age')\n",
    "upper_boundary, lower_boundary"
   ]
  },
  {
   "cell_type": "markdown",
   "metadata": {
    "id": "PeIehBmxgc5U"
   },
   "source": [
    "Giới hạn trên là 73 tuổi, có nghĩa là có rất ít hành khách trên 73 tuổi trên tàu Titanic. Ranh giới dưới thì âm vì tuổi âm không tồn tại, chỉ có ý nghĩa khi tìm kiếm outlier bằng ranh giới trên."
   ]
  },
  {
   "cell_type": "code",
   "execution_count": 25,
   "metadata": {
    "id": "AaLNGvkzgc5U",
    "outputId": "aba3d3ca-109f-4b83-bfe3-a7d132d980f5"
   },
   "outputs": [
    {
     "name": "stdout",
     "output_type": "stream",
     "text": [
      "total passengers: 1045\n",
      "passengers older than 73: 3\n",
      "\n",
      "% of passengers older than 73: 0.0028708133971291866\n"
     ]
    }
   ],
   "source": [
    "## Yêu cầu 9: xem số lượng và tỷ lệ phần trăm các outlier\n",
    "\n",
    "print('total passengers: {}'.format(len(titanic)))\n",
    "\n",
    "## VIẾT CODE Ở ĐÂY:\n",
    "print('passengers older than 73: {}'.format(len(titanic[titanic['age'].values >= upper_boundary])))\n",
    "print()\n",
    "\n",
    "## VIẾT CODE Ở ĐÂY:\n",
    "print('% of passengers older than 73: {}'.format(\n",
    "   len(titanic[titanic['age'].values >= upper_boundary]) / len(titanic)))"
   ]
  },
  {
   "cell_type": "markdown",
   "metadata": {
    "id": "pOeS8CURgc5U"
   },
   "source": [
    "Có 2 hành khách hơn 73 tuổi ở trên tàu Titanic, đây có thể được coi là outlier vì phần lớn tập hợp trẻ tuổi hơn nhiều."
   ]
  },
  {
   "cell_type": "markdown",
   "metadata": {
    "id": "hlTbrMtugc5V"
   },
   "source": [
    "### Phát hiện outlier cho các biến bị lệch"
   ]
  },
  {
   "cell_type": "code",
   "execution_count": 26,
   "metadata": {
    "id": "MUsQaGPwgc5V"
   },
   "outputs": [],
   "source": [
    "# hàm tìm giới hạn trên và dưới\n",
    "# cho các biến bị phân phối lệch\n",
    "\n",
    "\n",
    "def find_skewed_boundaries(df, variable, distance):\n",
    "\n",
    "    # Hãy tính các giới hạn ngoài outlier\n",
    "    # cho các phân phối lệch\n",
    "\n",
    "    # truyền distance làm đối số, cho lựa chọn để\n",
    "    # ước tính 1.5 * IQR hoặc 3 * IQR\n",
    "    # giới hạn.\n",
    "\n",
    "    IQR = df[variable].quantile(0.75) - df[variable].quantile(0.25)\n",
    "\n",
    "    lower_boundary = df[variable].quantile(0.25) - (IQR * distance)\n",
    "    upper_boundary = df[variable].quantile(0.75) + (IQR * distance)\n",
    "\n",
    "    return upper_boundary, lower_boundary"
   ]
  },
  {
   "cell_type": "code",
   "execution_count": 27,
   "metadata": {
    "id": "nNPqsEwxgc5W",
    "outputId": "fcb98f43-f518-4ea3-aa00-d061b45a043a"
   },
   "outputs": [
    {
     "data": {
      "text/plain": [
       "(31.962500000000006, -8.057500000000005)"
      ]
     },
     "execution_count": 27,
     "metadata": {},
     "output_type": "execute_result"
    }
   ],
   "source": [
    "## Yêu cầut 10: tìm các outlier,\n",
    "# sử dụng quy tắc tiệm cận IQR\n",
    "# IQR * 1.5, phép đo chuẩn\n",
    "\n",
    "# cho LSTAT trong tập dữ liệu nhà ở boston\n",
    "\n",
    "## VIẾT CODE Ở ĐÂY:\n",
    "upper_boundary, lower_boundary = find_skewed_boundaries(boston,'LSTAT', 1.5)\n",
    "upper_boundary, lower_boundary"
   ]
  },
  {
   "cell_type": "code",
   "execution_count": 29,
   "metadata": {
    "id": "Rj4t4ijVgc5W",
    "outputId": "0e16368a-c4e2-480c-f2b9-3d2632d3bf3a"
   },
   "outputs": [
    {
     "name": "stdout",
     "output_type": "stream",
     "text": [
      "total houses: 506\n",
      "houses with LSTAT bigger than 32: 7\n",
      "\n",
      "% houses with LSTAT bigger than 32: 0.01383399209486166\n"
     ]
    }
   ],
   "source": [
    "## Yêu cầu 11: xem số lượng và tỷ lệ phần trăm các outlier\n",
    "# cho LSTAT\n",
    "\n",
    "print('total houses: {}'.format(len(boston)))\n",
    "\n",
    "## VIẾT CODE Ở ĐÂY:\n",
    "print('houses with LSTAT bigger than 32: {}'.format(len(boston[boston['LSTAT'].values >= upper_boundary])))\n",
    "print()\n",
    "\n",
    "## VIẾT CODE Ở ĐÂY:\n",
    "print('% houses with LSTAT bigger than 32: {}'.format(\n",
    "    len(boston[boston['LSTAT'].values >= upper_boundary])/len(boston)))"
   ]
  },
  {
   "cell_type": "markdown",
   "metadata": {
    "id": "mvXCLbuRgc5W"
   },
   "source": [
    "Ranh giới trên hiển thị giá trị ~ 32. Ranh giới dưới thì âm, tuy nhiên biến LSTAT không nhận giá trị âm. Vì vậy, để tính toán các outlier cho LSTAT, chúng ta chỉ sử dụng ranh giới trên. Điều này trùng với những gì chúng ta đã thấy trong biểu đồ hộp trước đó trong notebook. Outlier chỉ nằm ở phần đuôi phải của phân phối LSTAT.\n",
    "\n",
    "Chúng ta quan sát thấy có 7 ngôi nhà chiếm 1.3% tập dữ liệu có giá trị LSTAT cực kỳ cao."
   ]
  },
  {
   "cell_type": "code",
   "execution_count": 30,
   "metadata": {
    "id": "fP-rJGNWgc5X",
    "outputId": "5e4b3db7-9d1b-4508-b2a3-bafca07d80a5"
   },
   "outputs": [
    {
     "data": {
      "text/plain": [
       "(46.97000000000001, -23.06500000000001)"
      ]
     },
     "execution_count": 30,
     "metadata": {},
     "output_type": "execute_result"
    }
   ],
   "source": [
    "## Yêu cầu 12: tìm các outlier,\n",
    "# sử dụng quy tắc tiệm cận IQR\n",
    "# IQR * 3, giờ hãy tìm các giá trị cực kỳ cao\n",
    "\n",
    "## VIẾT CODE Ở ĐÂY:\n",
    "upper_boundary, lower_boundary = find_skewed_boundaries(boston,'LSTAT',3)\n",
    "upper_boundary, lower_boundary"
   ]
  },
  {
   "cell_type": "code",
   "execution_count": 31,
   "metadata": {
    "id": "2C8QFItEgc5X",
    "outputId": "c3572640-c18b-4a6f-b601-022242fdd136"
   },
   "outputs": [
    {
     "name": "stdout",
     "output_type": "stream",
     "text": [
      "total houses: 506\n",
      "houses with CRIM bigger than 14: 0\n",
      "\n",
      "% houses with CRIM bigger than 14s: 0.0\n"
     ]
    }
   ],
   "source": [
    "## Yêu cầu 13: xem số lượng và tỷ lệ phần trăm các outlier\n",
    "# cho CRIM\n",
    "\n",
    "print('total houses: {}'.format(len(boston)))\n",
    "## VIẾT CODE Ở ĐÂY:\n",
    "print('houses with CRIM bigger than 14: {}'.format(len(boston[boston['LSTAT'].values >= upper_boundary])))\n",
    "print()\n",
    "print('% houses with CRIM bigger than 14s: {}'.format( len(boston[boston['LSTAT'].values >= upper_boundary])/len(boston)))"
   ]
  },
  {
   "cell_type": "markdown",
   "metadata": {
    "id": "43K946_Ugc5X"
   },
   "source": [
    "Khi sử dụng 3 * IQR để tìm outlier, chúng ta thấy rằng ~6% ngôi nhà cho thấy các khu vực có tỷ lệ tội phạm cao bất thường. Với CRIM cũng vậy, giới hạn dưới âm nên nó chỉ có ý nghĩa khi sử dụng ranh giới trên để tính outlier, vì biến chỉ nhận các giá trị dương. Điều này trùng khớp với những gì chúng ta đã thấy trong biểu đồ hộp CRIM trước đó trong notebook này."
   ]
  }
 ],
 "metadata": {
  "colab": {
   "collapsed_sections": [],
   "name": "[VN]7.4 Outliers.ipynb",
   "provenance": []
  },
  "kernelspec": {
   "display_name": "Python 3",
   "language": "python",
   "name": "python3"
  },
  "language_info": {
   "codemirror_mode": {
    "name": "ipython",
    "version": 3
   },
   "file_extension": ".py",
   "mimetype": "text/x-python",
   "name": "python",
   "nbconvert_exporter": "python",
   "pygments_lexer": "ipython3",
   "version": "3.8.8"
  },
  "toc": {
   "base_numbering": 1,
   "nav_menu": {},
   "number_sections": true,
   "sideBar": true,
   "skip_h1_title": false,
   "title_cell": "Table of Contents",
   "title_sidebar": "Contents",
   "toc_cell": false,
   "toc_position": {},
   "toc_section_display": "block",
   "toc_window_display": true
  }
 },
 "nbformat": 4,
 "nbformat_minor": 1
}
