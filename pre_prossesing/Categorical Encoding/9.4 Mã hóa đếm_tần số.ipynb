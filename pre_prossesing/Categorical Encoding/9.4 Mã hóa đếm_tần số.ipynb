{
 "cells": [
  {
   "cell_type": "markdown",
   "metadata": {
    "id": "Qbc0Qz2AqobF"
   },
   "source": [
    "## Mã hóa đếm/tần số\n",
    "\n",
    "Trong mã hóa đếm, chúng ta thay thế các hạng mục bằng số lượng quan sát hiển thị hạng mục đó trong tập dữ liệu. Tương tự, chúng ta có thể thay thế hạng mục bằng tần số - hoặc tỷ lệ phần trăm - của các quan sát trong tập dữ liệu. Nghĩa là, nếu có 10 trong số 100 quan sát hiển thị blue thì chúng ta sẽ thay thế blue bằng 10 nếu thực hiện mã hóa đếm hoặc 0.1 nếu thay thế bằng tần số. Các kỹ thuật này nắm bắt biểu diễn của mỗi nhãn trong tập dữ liệu, nhưng mã hóa có thể không nhất thiết dự đoán kết quả. Tuy nhiên, đây là những phương pháp mã hóa rất phổ biến trong các cuộc thi Kaggle.\n",
    "\n",
    "Giả định của kỹ thuật này là số quan sát được hiển thị theo mỗi biến phần nào cung cấp thông tin về khả năng dự đoán của hạng mục.\n",
    "\n",
    "\n",
    "### Ưu điểm\n",
    "\n",
    "- Đơn giản.\n",
    "- Không mở rộng không gian đặc trưng.\n",
    "\n",
    "### Hạn chế\n",
    "\n",
    "- Nếu 2 hạng mục khác nhau có cùng số lần xuất hiện trong tập dữ liệu, tức là chúng có số lượng quan sát giống nhau thì sẽ được thay thế bằng cùng một số: có thể mất thông tin có giá trị.\n",
    "\n",
    "Ví dụ: nếu có 10 quan sát cho hạng mục blue và 10 quan sát cho hạng mục red, cả hai sẽ được thay thế bằng 10 nên sau khi mã hóa sẽ xuất hiện cùng một thứ.\n",
    "\n",
    "\n",
    "Theo dõi [thread trong Kaggle](https://www.kaggle.com/general/16927) để biết thêm thông tin.\n",
    "\n",
    "\n",
    "\n",
    "## Trong bản mô phỏng này:\n",
    "\n",
    "Chúng ta sẽ thực hiện mã hóa đếm/tần số với:\n",
    "- pandas\n",
    "- Feature-Engine\n",
    "\n",
    "Chúng ta sẽ sử dụng tập dữ liệu giá nhà để minh họa các ưu điểm và hạn chế của từng triển khai."
   ]
  },
  {
   "cell_type": "code",
   "execution_count": 1,
   "metadata": {
    "id": "Xh6N3K47qobJ"
   },
   "outputs": [],
   "source": [
    "import numpy as np\n",
    "import pandas as pd\n",
    "\n",
    "# chia tập dữ liệu\n",
    "from sklearn.model_selection import train_test_split\n",
    "\n",
    "# mã hóa với feature-engine\n",
    "from feature_engine.encoding import CountFrequencyEncoder"
   ]
  },
  {
   "cell_type": "code",
   "execution_count": 3,
   "metadata": {
    "id": "3uctKLUXqobL",
    "outputId": "19465715-1c75-4f66-d72e-b5fbde3acb44"
   },
   "outputs": [
    {
     "data": {
      "text/html": [
       "<div>\n",
       "<style scoped>\n",
       "    .dataframe tbody tr th:only-of-type {\n",
       "        vertical-align: middle;\n",
       "    }\n",
       "\n",
       "    .dataframe tbody tr th {\n",
       "        vertical-align: top;\n",
       "    }\n",
       "\n",
       "    .dataframe thead th {\n",
       "        text-align: right;\n",
       "    }\n",
       "</style>\n",
       "<table border=\"1\" class=\"dataframe\">\n",
       "  <thead>\n",
       "    <tr style=\"text-align: right;\">\n",
       "      <th></th>\n",
       "      <th>Neighborhood</th>\n",
       "      <th>Exterior1st</th>\n",
       "      <th>Exterior2nd</th>\n",
       "      <th>SalePrice</th>\n",
       "    </tr>\n",
       "  </thead>\n",
       "  <tbody>\n",
       "    <tr>\n",
       "      <th>0</th>\n",
       "      <td>CollgCr</td>\n",
       "      <td>VinylSd</td>\n",
       "      <td>VinylSd</td>\n",
       "      <td>208500</td>\n",
       "    </tr>\n",
       "    <tr>\n",
       "      <th>1</th>\n",
       "      <td>Veenker</td>\n",
       "      <td>MetalSd</td>\n",
       "      <td>MetalSd</td>\n",
       "      <td>181500</td>\n",
       "    </tr>\n",
       "    <tr>\n",
       "      <th>2</th>\n",
       "      <td>CollgCr</td>\n",
       "      <td>VinylSd</td>\n",
       "      <td>VinylSd</td>\n",
       "      <td>223500</td>\n",
       "    </tr>\n",
       "    <tr>\n",
       "      <th>3</th>\n",
       "      <td>Crawfor</td>\n",
       "      <td>Wd Sdng</td>\n",
       "      <td>Wd Shng</td>\n",
       "      <td>140000</td>\n",
       "    </tr>\n",
       "    <tr>\n",
       "      <th>4</th>\n",
       "      <td>NoRidge</td>\n",
       "      <td>VinylSd</td>\n",
       "      <td>VinylSd</td>\n",
       "      <td>250000</td>\n",
       "    </tr>\n",
       "  </tbody>\n",
       "</table>\n",
       "</div>"
      ],
      "text/plain": [
       "  Neighborhood Exterior1st Exterior2nd  SalePrice\n",
       "0      CollgCr     VinylSd     VinylSd     208500\n",
       "1      Veenker     MetalSd     MetalSd     181500\n",
       "2      CollgCr     VinylSd     VinylSd     223500\n",
       "3      Crawfor     Wd Sdng     Wd Shng     140000\n",
       "4      NoRidge     VinylSd     VinylSd     250000"
      ]
     },
     "execution_count": 3,
     "metadata": {},
     "output_type": "execute_result"
    }
   ],
   "source": [
    "# load tập dữ liệu\n",
    "\n",
    "data = pd.read_csv(\n",
    "    './datatset/house-price/houseprice.csv',\n",
    "    usecols=['Neighborhood', 'Exterior1st', 'Exterior2nd', 'SalePrice'])\n",
    "\n",
    "data.head()"
   ]
  },
  {
   "cell_type": "code",
   "execution_count": 4,
   "metadata": {
    "id": "HjgdSjxYqobN",
    "outputId": "4208b998-576a-4a66-dae7-958b2bec3799"
   },
   "outputs": [
    {
     "name": "stdout",
     "output_type": "stream",
     "text": [
      "Neighborhood :  25  labels\n",
      "Exterior1st :  15  labels\n",
      "Exterior2nd :  16  labels\n",
      "SalePrice :  663  labels\n"
     ]
    }
   ],
   "source": [
    "# xem từng biến có bao nhiêu nhãn\n",
    "\n",
    "for col in data.columns:\n",
    "    print(col, ': ', len(data[col].unique()), ' labels')"
   ]
  },
  {
   "cell_type": "markdown",
   "metadata": {
    "id": "5Bql7pHzqobN"
   },
   "source": [
    "### Quan trọng\n",
    "\n",
    "Khi thực hiện phép biến đổi đếm của các biến hạng mục, cần tính số lượng (hoặc tần số = số lượng/tổng số quan sát) **trên tập huấn luyện**, sau đó sử dụng các số đó để thay thế các nhãn trong tập kiểm tra."
   ]
  },
  {
   "cell_type": "code",
   "execution_count": 5,
   "metadata": {
    "id": "m3Ord0eBqobO",
    "outputId": "9282ed33-074f-4ad8-e8b7-1d89951e3ba0"
   },
   "outputs": [
    {
     "data": {
      "text/plain": [
       "((1022, 3), (438, 3))"
      ]
     },
     "execution_count": 5,
     "metadata": {},
     "output_type": "execute_result"
    }
   ],
   "source": [
    "# hãy chia thành tập huấn luyện và tập kiểm tra\n",
    "\n",
    "X_train, X_test, y_train, y_test = train_test_split(\n",
    "    data[['Neighborhood', 'Exterior1st', 'Exterior2nd']], # các yếu tố dự báo\n",
    "    data['SalePrice'],  # mục tiêu\n",
    "    test_size=0.3,  # phần trăm các quan sát trong tập kiểm tra\n",
    "    random_state=0)  # seed đảm bảo khả năng tái lặp\n",
    "\n",
    "X_train.shape, X_test.shape"
   ]
  },
  {
   "cell_type": "markdown",
   "metadata": {
    "id": "HKZ2505QqobP"
   },
   "source": [
    "## Mã hóa đếm/tần số với pandas"
   ]
  },
  {
   "cell_type": "code",
   "execution_count": 8,
   "metadata": {
    "id": "Q_x2iZ8VqobQ",
    "outputId": "34218bf7-6f31-48e1-f1da-0990dbaa7a1d",
    "scrolled": true
   },
   "outputs": [
    {
     "data": {
      "text/plain": [
       "NAmes      151\n",
       "CollgCr    105\n",
       "OldTown     73\n",
       "Edwards     71\n",
       "Sawyer      61\n",
       "Somerst     56\n",
       "Gilbert     55\n",
       "NridgHt     51\n",
       "NWAmes      51\n",
       "SawyerW     45\n",
       "BrkSide     41\n",
       "Mitchel     36\n",
       "Crawfor     35\n",
       "Timber      30\n",
       "NoRidge     30\n",
       "ClearCr     24\n",
       "IDOTRR      24\n",
       "SWISU       18\n",
       "StoneBr     16\n",
       "Blmngtn     12\n",
       "MeadowV     12\n",
       "BrDale      10\n",
       "NPkVill      7\n",
       "Veenker      6\n",
       "Blueste      2\n",
       "Name: Neighborhood, dtype: int64"
      ]
     },
     "execution_count": 8,
     "metadata": {},
     "output_type": "execute_result"
    }
   ],
   "source": [
    "## Yêu cầu 1: lấy số đếm cho từng nhãn\n",
    "# trong biến Neigbourhood\n",
    "\n",
    "## VIẾT CODE Ở ĐÂY:\n",
    "count_map = X_train['Neighborhood'].value_counts()\n",
    "\n",
    "count_map"
   ]
  },
  {
   "cell_type": "markdown",
   "metadata": {
    "id": "SOXPoiQnSBe0"
   },
   "source": [
    "<details><summary> Gợi ý </summary>\n",
    "\n",
    "[value_counts()](https://pandas.pydata.org/docs/reference/api/pandas.Series.value_counts.html)\n",
    "\n",
    "[to_dict()](https://pandas.pydata.org/pandas-docs/stable/reference/api/pandas.DataFrame.to_dict.html)\n",
    "\n",
    "</details>"
   ]
  },
  {
   "cell_type": "markdown",
   "metadata": {
    "id": "dTPawXV-qobR"
   },
   "source": [
    "Dictionary chứa số quan sát trên mỗi hạng mục trong biến Neighbourhood."
   ]
  },
  {
   "cell_type": "code",
   "execution_count": 9,
   "metadata": {
    "id": "fm6IHXybqobS"
   },
   "outputs": [],
   "source": [
    "## Yêu cầu 2: thay các nhãn bằng số đếm\n",
    "\n",
    "## VIẾT CODE Ở ĐÂY:\n",
    "X_train['Neighborhood'] = X_train['Neighborhood'].map(count_map)\n",
    "X_test['Neighborhood'] = X_test['Neighborhood'].map(count_map)"
   ]
  },
  {
   "cell_type": "code",
   "execution_count": 10,
   "metadata": {
    "id": "I3X-UvdsqobT",
    "outputId": "7bcadd14-8109-442a-e66e-87d7e2e4dd5c"
   },
   "outputs": [
    {
     "data": {
      "text/plain": [
       "64      105\n",
       "682      24\n",
       "960      41\n",
       "1384     71\n",
       "1100     18\n",
       "416      61\n",
       "1034     35\n",
       "853     151\n",
       "472      71\n",
       "1011     71\n",
       "Name: Neighborhood, dtype: int64"
      ]
     },
     "execution_count": 10,
     "metadata": {},
     "output_type": "execute_result"
    }
   ],
   "source": [
    "# khám phá kết quả\n",
    "\n",
    "X_train['Neighborhood'].head(10)"
   ]
  },
  {
   "cell_type": "code",
   "execution_count": 20,
   "metadata": {
    "id": "T8Uib-07qobU",
    "outputId": "fa4aa229-1ab3-4ac4-f64a-9a393e95878e"
   },
   "outputs": [
    {
     "data": {
      "text/plain": [
       "VinylSd    0.356164\n",
       "HdBoard    0.149706\n",
       "Wd Sdng    0.144814\n",
       "MetalSd    0.135029\n",
       "Plywood    0.084149\n",
       "CemntBd    0.038160\n",
       "BrkFace    0.034247\n",
       "WdShing    0.020548\n",
       "Stucco     0.016634\n",
       "AsbShng    0.014677\n",
       "Stone      0.001957\n",
       "ImStucc    0.000978\n",
       "AsphShn    0.000978\n",
       "CBlock     0.000978\n",
       "BrkComm    0.000978\n",
       "Name: Exterior1st, dtype: float64"
      ]
     },
     "execution_count": 20,
     "metadata": {},
     "output_type": "execute_result"
    }
   ],
   "source": [
    "## Yêu cầu 3: thay vì số đếm, chúng ta dùng tần số\n",
    "# chúng ta chỉ cần chia số đếm cho tống số quan sát: \n",
    "\n",
    "## VIẾT CODE Ở ĐÂY:\n",
    "frequency_map = (X_train['Exterior1st'].value_counts()/X_train['Exterior1st'].value_counts().sum())\n",
    "frequency_map"
   ]
  },
  {
   "cell_type": "code",
   "execution_count": 21,
   "metadata": {
    "id": "CkpqnhJVqobV"
   },
   "outputs": [],
   "source": [
    "## Yêu cầu 4: thay các nhãn bằng tần số\n",
    "\n",
    "## VIẾT CODE Ở ĐÂY:\n",
    "X_train['Exterior1st'] = X_train['Exterior1st'].map(frequency_map)\n",
    "X_test['Exterior1st'] = X_test['Exterior1st'].map(frequency_map)"
   ]
  },
  {
   "cell_type": "code",
   "execution_count": 22,
   "metadata": {},
   "outputs": [],
   "source": [
    "def amount_frequency_feature(X_train,variable):\n",
    "    return (X_train['Exterior1st'].value_counts()/X_train['Exterior1st'].value_counts().sum())"
   ]
  },
  {
   "cell_type": "code",
   "execution_count": 23,
   "metadata": {},
   "outputs": [],
   "source": [
    "def map_labels_frequency(X_train,X_test,variable,frequency_maps):\n",
    "    X_train[variable] = X_train[variable].map(frequency_maps)\n",
    "    X_test[variable] = X_test[variable].map(frequency_maps)"
   ]
  },
  {
   "cell_type": "markdown",
   "metadata": {
    "id": "AN0UtAjsqobV"
   },
   "source": [
    "Sau đó, chúng ta có thể đặt các lệnh này thành 2 hàm như đã làm trong 3 notebook trước và lặp lại trên tất cả các biến hạng mục. Nếu không biết cách làm điều này, vui lòng xem lại notebook trước đó.\n",
    "\n",
    "## Mã hóa đếm/tần số với Feature-Engine"
   ]
  },
  {
   "cell_type": "code",
   "execution_count": 24,
   "metadata": {
    "id": "7L5W9P8DqobW",
    "outputId": "72b0255b-e01d-479a-c278-c13afbcf1524"
   },
   "outputs": [
    {
     "data": {
      "text/plain": [
       "((1022, 3), (438, 3))"
      ]
     },
     "execution_count": 24,
     "metadata": {},
     "output_type": "execute_result"
    }
   ],
   "source": [
    "# hãy chia thành tập huấn luyện và tập kiểm tra\n",
    "\n",
    "X_train, X_test, y_train, y_test = train_test_split(\n",
    "    data[['Neighborhood', 'Exterior1st', 'Exterior2nd']], # các yếu tố dự báo\n",
    "    data['SalePrice'],  # mục tiêu\n",
    "    test_size=0.3,  # phần trăm các quan sát trong tập kiểm tra\n",
    "    random_state=0)  # seed đảm bảo khả năng tái lặp\n",
    "\n",
    "X_train.shape, X_test.shape"
   ]
  },
  {
   "cell_type": "code",
   "execution_count": 25,
   "metadata": {
    "id": "jdYDzNBSqobW",
    "outputId": "994ef2c1-e6f2-408d-a5be-db6c42a46790"
   },
   "outputs": [
    {
     "data": {
      "text/plain": [
       "CountFrequencyEncoder(variables=['Neighborhood', 'Exterior1st', 'Exterior2nd'])"
      ]
     },
     "execution_count": 25,
     "metadata": {},
     "output_type": "execute_result"
    }
   ],
   "source": [
    "count_enc = CountFrequencyEncoder(\n",
    "    encoding_method='count', # để thực hiện tần số ==> encoding_method='frequency'\n",
    "    variables=['Neighborhood', 'Exterior1st', 'Exterior2nd'])\n",
    "\n",
    "count_enc.fit(X_train)"
   ]
  },
  {
   "cell_type": "code",
   "execution_count": 26,
   "metadata": {
    "id": "a7PH3PM8qobX",
    "outputId": "19e6ef76-e078-49e1-dc4a-8b41f8834bf2",
    "scrolled": true
   },
   "outputs": [
    {
     "data": {
      "text/plain": [
       "{'Neighborhood': {'NAmes': 151,\n",
       "  'CollgCr': 105,\n",
       "  'OldTown': 73,\n",
       "  'Edwards': 71,\n",
       "  'Sawyer': 61,\n",
       "  'Somerst': 56,\n",
       "  'Gilbert': 55,\n",
       "  'NridgHt': 51,\n",
       "  'NWAmes': 51,\n",
       "  'SawyerW': 45,\n",
       "  'BrkSide': 41,\n",
       "  'Mitchel': 36,\n",
       "  'Crawfor': 35,\n",
       "  'Timber': 30,\n",
       "  'NoRidge': 30,\n",
       "  'ClearCr': 24,\n",
       "  'IDOTRR': 24,\n",
       "  'SWISU': 18,\n",
       "  'StoneBr': 16,\n",
       "  'Blmngtn': 12,\n",
       "  'MeadowV': 12,\n",
       "  'BrDale': 10,\n",
       "  'NPkVill': 7,\n",
       "  'Veenker': 6,\n",
       "  'Blueste': 2},\n",
       " 'Exterior1st': {'VinylSd': 364,\n",
       "  'HdBoard': 153,\n",
       "  'Wd Sdng': 148,\n",
       "  'MetalSd': 138,\n",
       "  'Plywood': 86,\n",
       "  'CemntBd': 39,\n",
       "  'BrkFace': 35,\n",
       "  'WdShing': 21,\n",
       "  'Stucco': 17,\n",
       "  'AsbShng': 15,\n",
       "  'Stone': 2,\n",
       "  'ImStucc': 1,\n",
       "  'AsphShn': 1,\n",
       "  'CBlock': 1,\n",
       "  'BrkComm': 1},\n",
       " 'Exterior2nd': {'VinylSd': 353,\n",
       "  'Wd Sdng': 142,\n",
       "  'HdBoard': 141,\n",
       "  'MetalSd': 136,\n",
       "  'Plywood': 112,\n",
       "  'CmentBd': 39,\n",
       "  'Wd Shng': 29,\n",
       "  'BrkFace': 18,\n",
       "  'AsbShng': 17,\n",
       "  'Stucco': 16,\n",
       "  'ImStucc': 8,\n",
       "  'Stone': 4,\n",
       "  'Brk Cmn': 4,\n",
       "  'AsphShn': 1,\n",
       "  'CBlock': 1,\n",
       "  'Other': 1}}"
      ]
     },
     "execution_count": 26,
     "metadata": {},
     "output_type": "execute_result"
    }
   ],
   "source": [
    "# trong dict encoder, chúng ta thấy các số lượng\n",
    "# các quan sát trên mỗi hạng mục cho từng biến\n",
    "\n",
    "count_enc.encoder_dict_"
   ]
  },
  {
   "cell_type": "code",
   "execution_count": 27,
   "metadata": {
    "id": "fNHh86XmqobY",
    "outputId": "0f9169b0-7a14-4e23-be5a-36d03a183a08"
   },
   "outputs": [
    {
     "data": {
      "text/html": [
       "<div>\n",
       "<style scoped>\n",
       "    .dataframe tbody tr th:only-of-type {\n",
       "        vertical-align: middle;\n",
       "    }\n",
       "\n",
       "    .dataframe tbody tr th {\n",
       "        vertical-align: top;\n",
       "    }\n",
       "\n",
       "    .dataframe thead th {\n",
       "        text-align: right;\n",
       "    }\n",
       "</style>\n",
       "<table border=\"1\" class=\"dataframe\">\n",
       "  <thead>\n",
       "    <tr style=\"text-align: right;\">\n",
       "      <th></th>\n",
       "      <th>Neighborhood</th>\n",
       "      <th>Exterior1st</th>\n",
       "      <th>Exterior2nd</th>\n",
       "    </tr>\n",
       "  </thead>\n",
       "  <tbody>\n",
       "    <tr>\n",
       "      <th>64</th>\n",
       "      <td>105</td>\n",
       "      <td>364</td>\n",
       "      <td>353</td>\n",
       "    </tr>\n",
       "    <tr>\n",
       "      <th>682</th>\n",
       "      <td>24</td>\n",
       "      <td>148</td>\n",
       "      <td>142</td>\n",
       "    </tr>\n",
       "    <tr>\n",
       "      <th>960</th>\n",
       "      <td>41</td>\n",
       "      <td>148</td>\n",
       "      <td>112</td>\n",
       "    </tr>\n",
       "    <tr>\n",
       "      <th>1384</th>\n",
       "      <td>71</td>\n",
       "      <td>21</td>\n",
       "      <td>29</td>\n",
       "    </tr>\n",
       "    <tr>\n",
       "      <th>1100</th>\n",
       "      <td>18</td>\n",
       "      <td>148</td>\n",
       "      <td>142</td>\n",
       "    </tr>\n",
       "  </tbody>\n",
       "</table>\n",
       "</div>"
      ],
      "text/plain": [
       "      Neighborhood  Exterior1st  Exterior2nd\n",
       "64             105          364          353\n",
       "682             24          148          142\n",
       "960             41          148          112\n",
       "1384            71           21           29\n",
       "1100            18          148          142"
      ]
     },
     "execution_count": 27,
     "metadata": {},
     "output_type": "execute_result"
    }
   ],
   "source": [
    "X_train = count_enc.transform(X_train)\n",
    "X_test = count_enc.transform(X_test)\n",
    "\n",
    "# khám phá kết quả\n",
    "X_train.head()"
   ]
  },
  {
   "cell_type": "markdown",
   "metadata": {
    "id": "3vmZcru8qobY"
   },
   "source": [
    "**Lưu ý**\n",
    "\n",
    "Nếu các biến đối số được để thành None thì encoder sẽ tự động xác định tất cả các biến hạng mục. Tuyệt đúng không?\n",
    "\n",
    "Encoder sẽ không mã hóa các biến dạng số. Vì vậy, nếu một số biến dạng số là biến hạng mục thì chúng ta sẽ cần ép kiểu lại chúng thành object trước khi sử dụng encoder.\n",
    "\n",
    "Nếu không có biến trong tập kiểm tra mà encoder không có số để chỉ định (không thấy hạng mục trong tập huấn luyện) thì encoder sẽ trả về lỗi."
   ]
  },
  {
   "cell_type": "code",
   "execution_count": null,
   "metadata": {
    "id": "USFssbFdqobZ"
   },
   "outputs": [],
   "source": []
  }
 ],
 "metadata": {
  "colab": {
   "collapsed_sections": [],
   "name": "9.4 Mã hóa đếm/tần số.ipynb",
   "provenance": []
  },
  "kernelspec": {
   "display_name": "Python 3",
   "language": "python",
   "name": "python3"
  },
  "language_info": {
   "codemirror_mode": {
    "name": "ipython",
    "version": 3
   },
   "file_extension": ".py",
   "mimetype": "text/x-python",
   "name": "python",
   "nbconvert_exporter": "python",
   "pygments_lexer": "ipython3",
   "version": "3.8.8"
  },
  "toc": {
   "base_numbering": 1,
   "nav_menu": {},
   "number_sections": true,
   "sideBar": true,
   "skip_h1_title": false,
   "title_cell": "Table of Contents",
   "title_sidebar": "Contents",
   "toc_cell": false,
   "toc_position": {},
   "toc_section_display": "block",
   "toc_window_display": true
  }
 },
 "nbformat": 4,
 "nbformat_minor": 1
}
