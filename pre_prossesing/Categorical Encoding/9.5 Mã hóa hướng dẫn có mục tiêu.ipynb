{
 "cells": [
  {
   "cell_type": "markdown",
   "metadata": {
    "id": "EUkv-doUwoYW"
   },
   "source": [
    "## Mã hóa hướng dẫn có mục tiêu\n",
    "\n",
    "Trong các bài giảng trước của phần này, chúng ta đã học cách chuyển đổi nhãn thành một số bằng mã hóa one-hot, thay thế bằng một chữ số, thay thế bằng tần suất hoặc số lượng quan sát. Các phương pháp này rất đơn giản, hầu như không có giả định và nhìn chung hoạt động tốt trong các tình huống khác nhau.\n",
    "\n",
    "Tuy nhiên, cũng có những phương pháp cho phép chúng ta nắm bắt thông tin trong khi tiền xử lý nhãn của các biến hạng mục. Các phương pháp đó gồm:\n",
    "\n",
    "- Sắp xếp các nhãn theo mục tiêu.\n",
    "- Thay thế các nhãn bằng giá trị trung bình mục tiêu (mã hóa trung bình/mã hóa mục tiêu).\n",
    "- Thay thế các nhãn theo tỷ lệ xác suất của mục tiêu là 1 hoặc 0.\n",
    "- Trọng số bằng chứng.\n",
    "\n",
    "Tất cả các phương pháp trên đều có điểm chung là:\n",
    "\n",
    "- Mã hóa được **hướng dẫn bởi mục tiêu** và\n",
    "- Tạo ra **mối quan hệ đơn điệu** giữa biến và mục tiêu.\n",
    "\n",
    "\n",
    "### Tính đơn điệu\n",
    "\n",
    "Mối quan hệ đơn điệu là mối quan hệ thực hiện một trong những điều sau:\n",
    "\n",
    "\n",
    "- (1) khi giá trị của một biến tăng lên thì giá trị của biến kia cũng vậy; hoặc\n",
    "- (2) khi giá trị của một biến tăng, giá trị của biến kia lại giảm.\n",
    "\n",
    "Trong trường hợp này, khi giá trị của biến độc lập (yếu tố dự báo) tăng lên, thì mục tiêu cũng vậy; hoặc ngược lại, khi giá trị của biến tăng lên thì giá trị mục tiêu lại giảm.\n",
    "\n",
    "\n",
    "\n",
    "### Ưu điểm của mã hóa hướng dẫn có mục tiêu\n",
    "\n",
    "- Nắm bắt thông tin trong hạng mục nên tạo ra nhiều đặc trưng dự đoán hơn.\n",
    "- Tạo mối quan hệ đơn điệu giữa biến và mục tiêu để phù hợp với mô hình tuyến tính.\n",
    "- Không mở rộng không gian đặc trưng.\n",
    "\n",
    "\n",
    "### Hạn chế\n",
    "\n",
    "- Dễ dẫn tới overfitting.\n",
    "- Khó kiểm định chéo với các thư viện hiện tại.\n",
    "\n",
    "\n",
    "### Lưu ý\n",
    "\n",
    "Các phương pháp được thảo luận trong bài này và 3 bài giảng sắp tới cũng có thể sử dụng với các biến dạng số sau khi thực hiện rời rạc hóa. Điều này tạo ra mối quan hệ đơn điệu giữa biến dạng số và mục tiêu, do đó cải thiện chất lượng của mô hình tuyến tính.\n",
    "\n",
    "===============================================================================\n",
    "\n",
    "## Mã hóa số nguyên được sắp xếp\n",
    "\n",
    "Sắp xếp các hạng mục theo mục tiêu là gán một số cho hạng mục từ 1 đến k, trong đó k là số hạng mục riêng biệt trong biến, nhưng việc đánh số này được báo bằng giá trị trung bình của mục tiêu cho từng hạng mục.\n",
    "\n",
    "Ví dụ, chúng ta có biến city với các giá trị London, Manchester và Bristol; nếu tỷ lệ mặc định là 30% ở London, 20% ở Bristol và 10% ở Manchester thì chúng ta thay London bằng 1, Bristol bằng 2 và Manchester bằng 3.\n",
    " \n",
    "## Trong bản mô phỏng này:\n",
    "\n",
    "Chúng ta sẽ thực hiện mã hóa với:\n",
    "- pandas\n",
    "- Feature-Engine\n",
    "\n",
    "Chúng ta sẽ sử dụng tập dữ liệu giá nhà để minh họa các ưu điểm và hạn chế của từng triển khai."
   ]
  },
  {
   "cell_type": "code",
   "execution_count": 1,
   "metadata": {
    "id": "Jsyi_WfEwoYe"
   },
   "outputs": [],
   "source": [
    "import numpy as np\n",
    "import pandas as pd\n",
    "\n",
    "import matplotlib.pyplot as plt\n",
    "\n",
    "# chia tập dữ liệu\n",
    "from sklearn.model_selection import train_test_split\n",
    "\n",
    "# mã hóa với feature-engine\n",
    "from feature_engine.encoding import OrdinalEncoder"
   ]
  },
  {
   "cell_type": "code",
   "execution_count": 2,
   "metadata": {
    "id": "RXj5oGlCwoYg",
    "outputId": "cdea0201-9887-47d5-fa93-157daed3a7e6"
   },
   "outputs": [
    {
     "data": {
      "text/html": [
       "<div>\n",
       "<style scoped>\n",
       "    .dataframe tbody tr th:only-of-type {\n",
       "        vertical-align: middle;\n",
       "    }\n",
       "\n",
       "    .dataframe tbody tr th {\n",
       "        vertical-align: top;\n",
       "    }\n",
       "\n",
       "    .dataframe thead th {\n",
       "        text-align: right;\n",
       "    }\n",
       "</style>\n",
       "<table border=\"1\" class=\"dataframe\">\n",
       "  <thead>\n",
       "    <tr style=\"text-align: right;\">\n",
       "      <th></th>\n",
       "      <th>Neighborhood</th>\n",
       "      <th>Exterior1st</th>\n",
       "      <th>Exterior2nd</th>\n",
       "      <th>SalePrice</th>\n",
       "    </tr>\n",
       "  </thead>\n",
       "  <tbody>\n",
       "    <tr>\n",
       "      <th>0</th>\n",
       "      <td>CollgCr</td>\n",
       "      <td>VinylSd</td>\n",
       "      <td>VinylSd</td>\n",
       "      <td>208500</td>\n",
       "    </tr>\n",
       "    <tr>\n",
       "      <th>1</th>\n",
       "      <td>Veenker</td>\n",
       "      <td>MetalSd</td>\n",
       "      <td>MetalSd</td>\n",
       "      <td>181500</td>\n",
       "    </tr>\n",
       "    <tr>\n",
       "      <th>2</th>\n",
       "      <td>CollgCr</td>\n",
       "      <td>VinylSd</td>\n",
       "      <td>VinylSd</td>\n",
       "      <td>223500</td>\n",
       "    </tr>\n",
       "    <tr>\n",
       "      <th>3</th>\n",
       "      <td>Crawfor</td>\n",
       "      <td>Wd Sdng</td>\n",
       "      <td>Wd Shng</td>\n",
       "      <td>140000</td>\n",
       "    </tr>\n",
       "    <tr>\n",
       "      <th>4</th>\n",
       "      <td>NoRidge</td>\n",
       "      <td>VinylSd</td>\n",
       "      <td>VinylSd</td>\n",
       "      <td>250000</td>\n",
       "    </tr>\n",
       "  </tbody>\n",
       "</table>\n",
       "</div>"
      ],
      "text/plain": [
       "  Neighborhood Exterior1st Exterior2nd  SalePrice\n",
       "0      CollgCr     VinylSd     VinylSd     208500\n",
       "1      Veenker     MetalSd     MetalSd     181500\n",
       "2      CollgCr     VinylSd     VinylSd     223500\n",
       "3      Crawfor     Wd Sdng     Wd Shng     140000\n",
       "4      NoRidge     VinylSd     VinylSd     250000"
      ]
     },
     "execution_count": 2,
     "metadata": {},
     "output_type": "execute_result"
    }
   ],
   "source": [
    "# load tập dữ liệu\n",
    "\n",
    "data = pd.read_csv(\n",
    "    './datatset/house-price/houseprice.csv',\n",
    "    usecols=['Neighborhood', 'Exterior1st', 'Exterior2nd', 'SalePrice'])\n",
    "\n",
    "data.head()"
   ]
  },
  {
   "cell_type": "code",
   "execution_count": 3,
   "metadata": {
    "id": "N0Gh_EkMwoYi",
    "outputId": "ae2200f8-6dca-4a3b-eb82-810dbda20979"
   },
   "outputs": [
    {
     "name": "stdout",
     "output_type": "stream",
     "text": [
      "Neighborhood :  25  labels\n",
      "Exterior1st :  15  labels\n",
      "Exterior2nd :  16  labels\n",
      "SalePrice :  663  labels\n"
     ]
    }
   ],
   "source": [
    "# xem từng biến có bao nhiêu nhãn\n",
    "\n",
    "for col in data.columns:\n",
    "    print(col, ': ', len(data[col].unique()), ' labels')"
   ]
  },
  {
   "cell_type": "code",
   "execution_count": 4,
   "metadata": {
    "id": "RT3o_SL-woYk",
    "outputId": "0d9bd17f-125e-4646-c9de-89505398d124"
   },
   "outputs": [
    {
     "data": {
      "text/plain": [
       "array(['CollgCr', 'Veenker', 'Crawfor', 'NoRidge', 'Mitchel', 'Somerst',\n",
       "       'NWAmes', 'OldTown', 'BrkSide', 'Sawyer', 'NridgHt', 'NAmes',\n",
       "       'SawyerW', 'IDOTRR', 'MeadowV', 'Edwards', 'Timber', 'Gilbert',\n",
       "       'StoneBr', 'ClearCr', 'NPkVill', 'Blmngtn', 'BrDale', 'SWISU',\n",
       "       'Blueste'], dtype=object)"
      ]
     },
     "execution_count": 4,
     "metadata": {},
     "output_type": "execute_result"
    }
   ],
   "source": [
    "# khám phá các hạng mục duy nhất\n",
    "data['Neighborhood'].unique()"
   ]
  },
  {
   "cell_type": "code",
   "execution_count": 5,
   "metadata": {
    "id": "GhfxGv2kwoYl",
    "outputId": "7c21b420-5646-4c57-cdcf-179249e22b18"
   },
   "outputs": [
    {
     "data": {
      "text/plain": [
       "array(['VinylSd', 'MetalSd', 'Wd Sdng', 'HdBoard', 'BrkFace', 'WdShing',\n",
       "       'CemntBd', 'Plywood', 'AsbShng', 'Stucco', 'BrkComm', 'AsphShn',\n",
       "       'Stone', 'ImStucc', 'CBlock'], dtype=object)"
      ]
     },
     "execution_count": 5,
     "metadata": {},
     "output_type": "execute_result"
    }
   ],
   "source": [
    "data['Exterior1st'].unique()"
   ]
  },
  {
   "cell_type": "code",
   "execution_count": 6,
   "metadata": {
    "id": "phh1udubwoYn",
    "outputId": "e1fc0d8a-725a-471d-bd99-8f30db8c3524"
   },
   "outputs": [
    {
     "data": {
      "text/plain": [
       "array(['VinylSd', 'MetalSd', 'Wd Shng', 'HdBoard', 'Plywood', 'Wd Sdng',\n",
       "       'CmentBd', 'BrkFace', 'Stucco', 'AsbShng', 'Brk Cmn', 'ImStucc',\n",
       "       'AsphShn', 'Stone', 'Other', 'CBlock'], dtype=object)"
      ]
     },
     "execution_count": 6,
     "metadata": {},
     "output_type": "execute_result"
    }
   ],
   "source": [
    "data['Exterior2nd'].unique()"
   ]
  },
  {
   "cell_type": "markdown",
   "metadata": {
    "id": "TrNlPReqwoYq"
   },
   "source": [
    "### Mã hóa quan trọng\n",
    "\n",
    "Chúng ta lựa chọn số để chỉ định cho từng hạng mục sử dụng tập huấn luyện, rồi sử dụng các mapping đó trong tập kiểm tra.\n",
    "\n",
    "**Lưu ý: để thực hiến kỹ thuật này với pandas, chúng ta cần giữ mục tiêu trong tập huấn luyện.**"
   ]
  },
  {
   "cell_type": "code",
   "execution_count": 24,
   "metadata": {
    "id": "pcKa0qbWwoYs",
    "outputId": "34c814f6-458a-4b20-af6a-cef878ca7516"
   },
   "outputs": [
    {
     "data": {
      "text/plain": [
       "((1022, 4), (438, 4))"
      ]
     },
     "execution_count": 24,
     "metadata": {},
     "output_type": "execute_result"
    }
   ],
   "source": [
    "# hãy chia thành tập huấn luyện và tập kiểm tra\n",
    "\n",
    "X_train, X_test, y_train, y_test = train_test_split(\n",
    "    data[['Neighborhood', 'Exterior1st', 'Exterior2nd', 'SalePrice']],  # lần này giữ mục tiêu!!\n",
    "    data['SalePrice'],  # mục tiêu\n",
    "    test_size=0.3,  # phần trăm các quan sát trong tập kiểm tra\n",
    "    random_state=0)  # seed đảm bảo khả năng tái lặp\n",
    "\n",
    "X_train.shape, X_test.shape"
   ]
  },
  {
   "cell_type": "markdown",
   "metadata": {
    "id": "nDrjQQVGwoYv"
   },
   "source": [
    "### Khám phá mối quan hệ ban đầu giữa biến hạng mục với mục tiêu"
   ]
  },
  {
   "cell_type": "code",
   "execution_count": 25,
   "metadata": {
    "id": "_3fZFIZewoYw",
    "outputId": "98ae2bc1-8eb1-4bb8-fd6d-dd5b6f7a5858"
   },
   "outputs": [
    {
     "data": {
      "image/png": "[encoded data removed]",
      "text/plain": [
       "<Figure size 432x288 with 1 Axes>"
      ]
     },
     "metadata": {
      "needs_background": "light"
     },
     "output_type": "display_data"
    },
    {
     "data": {
      "image/png": "[encoded data removed]",
      "text/plain": [
       "<Figure size 432x288 with 1 Axes>"
      ]
     },
     "metadata": {
      "needs_background": "light"
     },
     "output_type": "display_data"
    },
    {
     "data": {
      "image/png": "[encoded data removed]",
      "text/plain": [
       "<Figure size 432x288 with 1 Axes>"
      ]
     },
     "metadata": {
      "needs_background": "light"
     },
     "output_type": "display_data"
    }
   ],
   "source": [
    "# khám phá mối quan hệ của các hạng mục với mục tiêu\n",
    "\n",
    "for var in ['Neighborhood', 'Exterior1st', 'Exterior2nd']:\n",
    "    \n",
    "    fig = plt.figure()\n",
    "    fig = X_train.groupby([var])['SalePrice'].mean().plot()\n",
    "    fig.set_title('Relationship between {} and SalePrice'.format(var))\n",
    "    fig.set_ylabel('Mean SalePrice')\n",
    "    plt.show()"
   ]
  },
  {
   "cell_type": "markdown",
   "metadata": {
    "id": "9iPwZ8WpwoYx"
   },
   "source": [
    "Chúng ta thấy mối quan hệ giữa mục tiêu và các hạng mục của các biến phân loại tăng và giảm phụ thuộc vào hạng mục.\n",
    "\n",
    "\n",
    "## Mã hóa số nguyên đã sắp xếp với pandas\n",
    "\n",
    "\n",
    "### Ưu điểm\n",
    "\n",
    "- nhanh\n",
    "- trả về pandas dataframe\n",
    "\n",
    "### Hạn chế của pandas:\n",
    "\n",
    "- Nó không bảo toàn thông tin từ dữ liệu huấn luyện để truyền sang dữ liệu kiểm tra.\n",
    "\n",
    "Chúng ta cần lưu trữ riêng các bản đồ mã hóa nếu định sử dụng chúng trong sản xuất. "
   ]
  },
  {
   "cell_type": "code",
   "execution_count": 26,
   "metadata": {
    "id": "ApdX41o1woYz",
    "outputId": "b255cc63-467f-4446-80fc-46fec4ce765c"
   },
   "outputs": [
    {
     "data": {
      "text/plain": [
       "Neighborhood\n",
       "NoRidge    336264.666667\n",
       "StoneBr    309105.937500\n",
       "NridgHt    307418.137255\n",
       "Timber     238700.100000\n",
       "Veenker    229500.000000\n",
       "Somerst    226644.196429\n",
       "Crawfor    217453.914286\n",
       "ClearCr    210034.666667\n",
       "CollgCr    203086.371429\n",
       "Blmngtn    198164.500000\n",
       "NWAmes     192788.235294\n",
       "Gilbert    192662.290909\n",
       "SawyerW    179463.088889\n",
       "Mitchel    153070.444444\n",
       "NAmes      146435.264901\n",
       "NPkVill    140107.142857\n",
       "SWISU      139154.666667\n",
       "Blueste    137500.000000\n",
       "Sawyer     136596.442623\n",
       "OldTown    130958.328767\n",
       "BrkSide    125438.414634\n",
       "Edwards    125082.676056\n",
       "MeadowV    104441.666667\n",
       "BrDale      99440.000000\n",
       "IDOTRR      92174.166667\n",
       "Name: SalePrice, dtype: float64"
      ]
     },
     "execution_count": 26,
     "metadata": {},
     "output_type": "execute_result"
    }
   ],
   "source": [
    "## Yêu cầu 1: sắp xếp các nhãn theo giá trị mục tiêu trung bình\n",
    "\n",
    "## VIẾT CODE Ở ĐÂY:\n",
    "X_train.groupby(['Neighborhood'])['SalePrice'].mean().sort_values(ascending = False)"
   ]
  },
  {
   "cell_type": "markdown",
   "metadata": {
    "id": "k4lvTMpVTilG"
   },
   "source": [
    "<details><summary> Gợi ý </summary>\n",
    "\n",
    "[groupby()](https://pandas.pydata.org/pandas-docs/stable/reference/api/pandas.DataFrame.groupby.html)\n",
    "\n",
    "[mean()](https://pandas.pydata.org/pandas-docs/stable/reference/api/pandas.DataFrame.mean.html)\n",
    "\n",
    "</details>"
   ]
  },
  {
   "cell_type": "markdown",
   "metadata": {
    "id": "VYpWgDUewoY0"
   },
   "source": [
    "Trong cell trên, chúng ta đã sắp xếp các hạng mục từ neighbourhood có giá bán nhà rẻ hơn (IDOTRR) đến neighbourhood có giá nhà trung bình, đắt hơn (NoRidge).\n",
    "\n",
    "Trong các cell tiếp theo, chúng ta sẽ thay thế các hạng mục đó, sắp xếp như cũ, bằng các số từ 0 đến k, trong đó k là số hạng mục khác nhau trừ đi 1, trong trường hợp này là 25 - 1 = 24.\n",
    "\n",
    "Vậy IDOTRR sẽ được thay thế bằng 0 và NoRidge được thay bằng 24. "
   ]
  },
  {
   "cell_type": "code",
   "execution_count": 27,
   "metadata": {
    "id": "5NDMHQicwoY1",
    "outputId": "bb98db9d-f1d7-46b2-fb75-eefa15801ec2"
   },
   "outputs": [
    {
     "data": {
      "text/plain": [
       "Index(['IDOTRR', 'BrDale', 'MeadowV', 'Edwards', 'BrkSide', 'OldTown',\n",
       "       'Sawyer', 'Blueste', 'SWISU', 'NPkVill', 'NAmes', 'Mitchel', 'SawyerW',\n",
       "       'Gilbert', 'NWAmes', 'Blmngtn', 'CollgCr', 'ClearCr', 'Crawfor',\n",
       "       'Somerst', 'Veenker', 'Timber', 'NridgHt', 'StoneBr', 'NoRidge'],\n",
       "      dtype='object', name='Neighborhood')"
      ]
     },
     "execution_count": 27,
     "metadata": {},
     "output_type": "execute_result"
    }
   ],
   "source": [
    "## Yêu cầu 2: trước tiên tạo một list đã sắp xếp với các nhãn\n",
    "\n",
    "## VIẾT CODE Ở ĐÂY:\n",
    "ordered_labels = X_train.groupby(['Neighborhood'])['SalePrice'].mean().sort_values().index\n",
    "\n",
    "ordered_labels"
   ]
  },
  {
   "cell_type": "code",
   "execution_count": 28,
   "metadata": {
    "id": "Tkx0LiCXwoY2",
    "outputId": "c63f99f6-230e-46a3-92b2-9545ec521b47"
   },
   "outputs": [
    {
     "data": {
      "text/plain": [
       "{'IDOTRR': 0,\n",
       " 'BrDale': 1,\n",
       " 'MeadowV': 2,\n",
       " 'Edwards': 3,\n",
       " 'BrkSide': 4,\n",
       " 'OldTown': 5,\n",
       " 'Sawyer': 6,\n",
       " 'Blueste': 7,\n",
       " 'SWISU': 8,\n",
       " 'NPkVill': 9,\n",
       " 'NAmes': 10,\n",
       " 'Mitchel': 11,\n",
       " 'SawyerW': 12,\n",
       " 'Gilbert': 13,\n",
       " 'NWAmes': 14,\n",
       " 'Blmngtn': 15,\n",
       " 'CollgCr': 16,\n",
       " 'ClearCr': 17,\n",
       " 'Crawfor': 18,\n",
       " 'Somerst': 19,\n",
       " 'Veenker': 20,\n",
       " 'Timber': 21,\n",
       " 'NridgHt': 22,\n",
       " 'StoneBr': 23,\n",
       " 'NoRidge': 24}"
      ]
     },
     "execution_count": 28,
     "metadata": {},
     "output_type": "execute_result"
    }
   ],
   "source": [
    "## Yêu cầu 3: tiếp theo, tạo một dictionary với các mapping của các hạng mục tới số\n",
    "\n",
    "## VIẾT CODE Ở ĐÂY:\n",
    "ordinal_mapping = {k: i for i, k in enumerate(ordered_labels, 0)}\n",
    "\n",
    "ordinal_mapping"
   ]
  },
  {
   "cell_type": "markdown",
   "metadata": {
    "id": "LEaL5yKaUWHX"
   },
   "source": [
    "<details><summary> Gợi ý </summary>\n",
    "\n",
    "\n",
    "```\n",
    "enumerate()\n",
    "```\n",
    "\n",
    "\n",
    "</details>"
   ]
  },
  {
   "cell_type": "code",
   "execution_count": 29,
   "metadata": {
    "id": "xVKCqltGwoY3"
   },
   "outputs": [],
   "source": [
    "## Yêu cầu 4: thay thế các nhãn với các số nguyên\n",
    "\n",
    "## VIẾT CODE Ở ĐÂY:\n",
    "X_train['Neighborhood'] = X_train['Neighborhood'].map(ordinal_mapping)\n",
    "X_test['Neighborhood'] = X_test['Neighborhood'].map(ordinal_mapping)"
   ]
  },
  {
   "cell_type": "code",
   "execution_count": 30,
   "metadata": {
    "id": "HgiUTb9cwoY3",
    "outputId": "00302ee9-eef7-4056-f1c5-f3445c1ff4b8"
   },
   "outputs": [
    {
     "data": {
      "text/plain": [
       "64      16\n",
       "682     17\n",
       "960      4\n",
       "1384     3\n",
       "1100     8\n",
       "416      6\n",
       "1034    18\n",
       "853     10\n",
       "472      3\n",
       "1011     3\n",
       "Name: Neighborhood, dtype: int64"
      ]
     },
     "execution_count": 30,
     "metadata": {},
     "output_type": "execute_result"
    }
   ],
   "source": [
    "# khám phá kết quả\n",
    "\n",
    "X_train['Neighborhood'].head(10)"
   ]
  },
  {
   "cell_type": "code",
   "execution_count": 31,
   "metadata": {
    "id": "7mIcmijkwoY4"
   },
   "outputs": [],
   "source": [
    "## Yêu cầu 5: biến các lệnh trước đó thành 2 hàm\n",
    "\n",
    "\n",
    "def find_category_mappings(df, variable, target):\n",
    "\n",
    "    # trước tiên tạo một list đã sắp xếp với các nhãn\n",
    "    ## VIẾT CODE Ở ĐÂY:\n",
    "    ordered_labels = df.groupby([variable\n",
    "                                 ])[target].mean().sort_values().index\n",
    "\n",
    "    # trả về dictionary với các mapping\n",
    "    ## VIẾT CODE Ở ĐÂY:\n",
    "    return {k: i for i, k in enumerate(ordered_labels, 0)}\n",
    "\n",
    "\n",
    "def integer_encode(train, test, variable, ordinal_mapping):\n",
    "\n",
    "    ## VIẾT CODE Ở ĐÂY:\n",
    "    train[variable] = train[variable].map(ordinal_mapping)\n",
    "    test[variable] = test[variable].map(ordinal_mapping)"
   ]
  },
  {
   "cell_type": "code",
   "execution_count": 32,
   "metadata": {
    "id": "-SS3qHB5woY4"
   },
   "outputs": [],
   "source": [
    "## Yêu cầu 6: chạy một vòng lặp qua các biến hạng mục còn lại\n",
    "\n",
    "for variable in ['Exterior1st', 'Exterior2nd']:\n",
    "\n",
    "    ## VIẾT CODE Ở ĐÂY:\n",
    "    mappings = find_category_mappings(X_train,variable, 'SalePrice')\n",
    "\n",
    "    ## VIẾT CODE Ở ĐÂY:\n",
    "    integer_encode(X_train, X_test,variable,mappings)"
   ]
  },
  {
   "cell_type": "code",
   "execution_count": 33,
   "metadata": {
    "id": "QdvpdtirwoY4",
    "outputId": "4814e63a-9fde-438c-84c3-cf3ea82bcb7b"
   },
   "outputs": [
    {
     "data": {
      "text/html": [
       "<div>\n",
       "<style scoped>\n",
       "    .dataframe tbody tr th:only-of-type {\n",
       "        vertical-align: middle;\n",
       "    }\n",
       "\n",
       "    .dataframe tbody tr th {\n",
       "        vertical-align: top;\n",
       "    }\n",
       "\n",
       "    .dataframe thead th {\n",
       "        text-align: right;\n",
       "    }\n",
       "</style>\n",
       "<table border=\"1\" class=\"dataframe\">\n",
       "  <thead>\n",
       "    <tr style=\"text-align: right;\">\n",
       "      <th></th>\n",
       "      <th>Neighborhood</th>\n",
       "      <th>Exterior1st</th>\n",
       "      <th>Exterior2nd</th>\n",
       "      <th>SalePrice</th>\n",
       "    </tr>\n",
       "  </thead>\n",
       "  <tbody>\n",
       "    <tr>\n",
       "      <th>64</th>\n",
       "      <td>16</td>\n",
       "      <td>11</td>\n",
       "      <td>13</td>\n",
       "      <td>219500</td>\n",
       "    </tr>\n",
       "    <tr>\n",
       "      <th>682</th>\n",
       "      <td>17</td>\n",
       "      <td>5</td>\n",
       "      <td>7</td>\n",
       "      <td>173000</td>\n",
       "    </tr>\n",
       "    <tr>\n",
       "      <th>960</th>\n",
       "      <td>4</td>\n",
       "      <td>5</td>\n",
       "      <td>8</td>\n",
       "      <td>116500</td>\n",
       "    </tr>\n",
       "    <tr>\n",
       "      <th>1384</th>\n",
       "      <td>3</td>\n",
       "      <td>4</td>\n",
       "      <td>4</td>\n",
       "      <td>105000</td>\n",
       "    </tr>\n",
       "    <tr>\n",
       "      <th>1100</th>\n",
       "      <td>8</td>\n",
       "      <td>5</td>\n",
       "      <td>7</td>\n",
       "      <td>60000</td>\n",
       "    </tr>\n",
       "  </tbody>\n",
       "</table>\n",
       "</div>"
      ],
      "text/plain": [
       "      Neighborhood  Exterior1st  Exterior2nd  SalePrice\n",
       "64              16           11           13     219500\n",
       "682             17            5            7     173000\n",
       "960              4            5            8     116500\n",
       "1384             3            4            4     105000\n",
       "1100             8            5            7      60000"
      ]
     },
     "execution_count": 33,
     "metadata": {},
     "output_type": "execute_result"
    }
   ],
   "source": [
    "# hãy xem kết quả\n",
    "\n",
    "X_train.head()"
   ]
  },
  {
   "cell_type": "code",
   "execution_count": 34,
   "metadata": {
    "id": "Bv-3cIHfwoY5",
    "outputId": "37cdf38e-1360-4b66-ae42-8f4e0186e688"
   },
   "outputs": [
    {
     "data": {
      "image/png": "[encoded data removed]",
      "text/plain": [
       "<Figure size 432x288 with 1 Axes>"
      ]
     },
     "metadata": {
      "needs_background": "light"
     },
     "output_type": "display_data"
    },
    {
     "data": {
      "image/png": "[encoded data removed]",
      "text/plain": [
       "<Figure size 432x288 with 1 Axes>"
      ]
     },
     "metadata": {
      "needs_background": "light"
     },
     "output_type": "display_data"
    },
    {
     "data": {
      "image/png": "[encoded data removed]",
      "text/plain": [
       "<Figure size 432x288 with 1 Axes>"
      ]
     },
     "metadata": {
      "needs_background": "light"
     },
     "output_type": "display_data"
    }
   ],
   "source": [
    "# kiểm tra mối quan hệ đơn điệu mới tạo\n",
    "# giữa các biến và mục tiêu\n",
    "\n",
    "for var in ['Neighborhood', 'Exterior1st', 'Exterior2nd']:\n",
    "    \n",
    "    fig = plt.figure()\n",
    "    fig = X_train.groupby([var])['SalePrice'].mean().plot()\n",
    "    fig.set_title('Monotonic relationship between {} and SalePrice'.format(var))\n",
    "    fig.set_ylabel('Mean SalePrice')\n",
    "    plt.show()"
   ]
  },
  {
   "cell_type": "markdown",
   "metadata": {
    "id": "E52H4JUpwoY8"
   },
   "source": [
    "Từ các biểu đồ trên, chúng ta thấy mối quan hệ đơn điệu giữa các hạng mục và mục tiêu, và với 2 biến đầu tiên thì gần như tuyến tính, giúp cải thiện hiệu suất của mô hình tuyến tính.\n",
    "\n",
    "### Lưu ý\n",
    "\n",
    "Đơn điệu không có nghĩa là hoàn toàn tuyến tính. Đơn điệu có nghĩa là tăng hoặc giảm liên tục.\n",
    "\n",
    "Việc thay thế các nhãn hạng mục với phương pháp và code này sẽ tạo ra các giá trị bị khuyết cho các hạng mục có trong tập kiểm tra mà không thấy trong tập huấn luyện. Do đó, việc xử lý nhãn hiếm trước khi thực hiện vô cùng quan trọng. Chúng ta sẽ giải thích cách làm điều này trong notebook sau. "
   ]
  },
  {
   "cell_type": "markdown",
   "metadata": {
    "id": "hip74okawoY9"
   },
   "source": [
    "## Mã hóa số nguyên với Feature-Engine \n",
    "\n",
    "Chúng ta sẽ không giữ được biến mục tiêu trong tập huấn luyện nếu sử dụng Feature-Engine thay vì pandas."
   ]
  },
  {
   "cell_type": "code",
   "execution_count": 35,
   "metadata": {
    "id": "ztf7uKg4woY9",
    "outputId": "ea241289-b071-4731-e324-4e4f3c71a69b"
   },
   "outputs": [
    {
     "data": {
      "text/plain": [
       "((1022, 3), (438, 3))"
      ]
     },
     "execution_count": 35,
     "metadata": {},
     "output_type": "execute_result"
    }
   ],
   "source": [
    "# hãy chia thành tập huấn luyện và tập kiểm tra\n",
    "\n",
    "X_train, X_test, y_train, y_test = train_test_split(\n",
    "    data[['Neighborhood', 'Exterior1st', 'Exterior2nd']], # các yếu tố dự báo\n",
    "    data['SalePrice'],  # mục tiêu\n",
    "    test_size=0.3,  # phần trăm các quan sát trong tập kiểm tra\n",
    "    random_state=0)  # seed đảm bảo khả năng tái lặp\n",
    "\n",
    "X_train.shape, X_test.shape"
   ]
  },
  {
   "cell_type": "code",
   "execution_count": 36,
   "metadata": {
    "id": "EZLQGFeTwoY-"
   },
   "outputs": [],
   "source": [
    "ordinal_enc = OrdinalEncoder(\n",
    "    # LƯU Ý rằng chúng ta chỉ ra ordered trong encoding_method, nếu không thì nó sẽ gán số bất kỳ \n",
    "    encoding_method='ordered',\n",
    "    variables=['Neighborhood', 'Exterior1st', 'Exterior2nd'])"
   ]
  },
  {
   "cell_type": "code",
   "execution_count": 37,
   "metadata": {
    "id": "x53HH2UNwoY-",
    "outputId": "68ae23d8-2e2c-4e43-b710-edb5a1a880bf"
   },
   "outputs": [
    {
     "data": {
      "text/plain": [
       "OrdinalEncoder(variables=['Neighborhood', 'Exterior1st', 'Exterior2nd'])"
      ]
     },
     "execution_count": 37,
     "metadata": {},
     "output_type": "execute_result"
    }
   ],
   "source": [
    "# khi khớp transformer, chúng ta cũng cần truyền mục tiêu \n",
    "# giống như bất kì class dự báo nào của Scikit-learn\n",
    "\n",
    "ordinal_enc.fit(X_train, y_train)"
   ]
  },
  {
   "cell_type": "code",
   "execution_count": 38,
   "metadata": {
    "id": "Fi9AJTegwoY_",
    "outputId": "5cc7ea9a-bc78-4a1b-99c1-8fa658effe0c",
    "scrolled": true
   },
   "outputs": [
    {
     "data": {
      "text/plain": [
       "{'Neighborhood': {'IDOTRR': 0,\n",
       "  'BrDale': 1,\n",
       "  'MeadowV': 2,\n",
       "  'Edwards': 3,\n",
       "  'BrkSide': 4,\n",
       "  'OldTown': 5,\n",
       "  'Sawyer': 6,\n",
       "  'Blueste': 7,\n",
       "  'SWISU': 8,\n",
       "  'NPkVill': 9,\n",
       "  'NAmes': 10,\n",
       "  'Mitchel': 11,\n",
       "  'SawyerW': 12,\n",
       "  'Gilbert': 13,\n",
       "  'NWAmes': 14,\n",
       "  'Blmngtn': 15,\n",
       "  'CollgCr': 16,\n",
       "  'ClearCr': 17,\n",
       "  'Crawfor': 18,\n",
       "  'Somerst': 19,\n",
       "  'Veenker': 20,\n",
       "  'Timber': 21,\n",
       "  'NridgHt': 22,\n",
       "  'StoneBr': 23,\n",
       "  'NoRidge': 24},\n",
       " 'Exterior1st': {'BrkComm': 0,\n",
       "  'AsphShn': 1,\n",
       "  'CBlock': 2,\n",
       "  'AsbShng': 3,\n",
       "  'WdShing': 4,\n",
       "  'Wd Sdng': 5,\n",
       "  'MetalSd': 6,\n",
       "  'HdBoard': 7,\n",
       "  'Plywood': 8,\n",
       "  'Stucco': 9,\n",
       "  'BrkFace': 10,\n",
       "  'VinylSd': 11,\n",
       "  'CemntBd': 12,\n",
       "  'Stone': 13,\n",
       "  'ImStucc': 14},\n",
       " 'Exterior2nd': {'AsphShn': 0,\n",
       "  'CBlock': 1,\n",
       "  'AsbShng': 2,\n",
       "  'Brk Cmn': 3,\n",
       "  'Wd Shng': 4,\n",
       "  'MetalSd': 5,\n",
       "  'Stone': 6,\n",
       "  'Wd Sdng': 7,\n",
       "  'Plywood': 8,\n",
       "  'HdBoard': 9,\n",
       "  'Stucco': 10,\n",
       "  'BrkFace': 11,\n",
       "  'ImStucc': 12,\n",
       "  'VinylSd': 13,\n",
       "  'CmentBd': 14,\n",
       "  'Other': 15}}"
      ]
     },
     "execution_count": 38,
     "metadata": {},
     "output_type": "execute_result"
    }
   ],
   "source": [
    "# trong dict encoder, chúng ta có thể quán sát từng hạng mục hàng đầu \n",
    "# được chọn cho từng biến\n",
    "\n",
    "ordinal_enc.encoder_dict_"
   ]
  },
  {
   "cell_type": "code",
   "execution_count": 39,
   "metadata": {
    "id": "v5O8_wGuwoZA",
    "outputId": "e146274b-e57a-4fee-b827-16cf23762dce"
   },
   "outputs": [
    {
     "data": {
      "text/plain": [
       "['Neighborhood', 'Exterior1st', 'Exterior2nd']"
      ]
     },
     "execution_count": 39,
     "metadata": {},
     "output_type": "execute_result"
    }
   ],
   "source": [
    "# đây là list các biến mà encoder sẽ biến đổi\n",
    "\n",
    "ordinal_enc.variables_"
   ]
  },
  {
   "cell_type": "code",
   "execution_count": 40,
   "metadata": {
    "id": "-4pxYiNvwoZA",
    "outputId": "44d22b41-56e0-48c9-900f-d475c3ef0670"
   },
   "outputs": [
    {
     "data": {
      "text/html": [
       "<div>\n",
       "<style scoped>\n",
       "    .dataframe tbody tr th:only-of-type {\n",
       "        vertical-align: middle;\n",
       "    }\n",
       "\n",
       "    .dataframe tbody tr th {\n",
       "        vertical-align: top;\n",
       "    }\n",
       "\n",
       "    .dataframe thead th {\n",
       "        text-align: right;\n",
       "    }\n",
       "</style>\n",
       "<table border=\"1\" class=\"dataframe\">\n",
       "  <thead>\n",
       "    <tr style=\"text-align: right;\">\n",
       "      <th></th>\n",
       "      <th>Neighborhood</th>\n",
       "      <th>Exterior1st</th>\n",
       "      <th>Exterior2nd</th>\n",
       "    </tr>\n",
       "  </thead>\n",
       "  <tbody>\n",
       "    <tr>\n",
       "      <th>64</th>\n",
       "      <td>16</td>\n",
       "      <td>11</td>\n",
       "      <td>13</td>\n",
       "    </tr>\n",
       "    <tr>\n",
       "      <th>682</th>\n",
       "      <td>17</td>\n",
       "      <td>5</td>\n",
       "      <td>7</td>\n",
       "    </tr>\n",
       "    <tr>\n",
       "      <th>960</th>\n",
       "      <td>4</td>\n",
       "      <td>5</td>\n",
       "      <td>8</td>\n",
       "    </tr>\n",
       "    <tr>\n",
       "      <th>1384</th>\n",
       "      <td>3</td>\n",
       "      <td>4</td>\n",
       "      <td>4</td>\n",
       "    </tr>\n",
       "    <tr>\n",
       "      <th>1100</th>\n",
       "      <td>8</td>\n",
       "      <td>5</td>\n",
       "      <td>7</td>\n",
       "    </tr>\n",
       "  </tbody>\n",
       "</table>\n",
       "</div>"
      ],
      "text/plain": [
       "      Neighborhood  Exterior1st  Exterior2nd\n",
       "64              16           11           13\n",
       "682             17            5            7\n",
       "960              4            5            8\n",
       "1384             3            4            4\n",
       "1100             8            5            7"
      ]
     },
     "execution_count": 40,
     "metadata": {},
     "output_type": "execute_result"
    }
   ],
   "source": [
    "X_train = ordinal_enc.transform(X_train)\n",
    "X_test = ordinal_enc.transform(X_test)\n",
    "\n",
    "# khám phá kết quả\n",
    "X_train.head()"
   ]
  },
  {
   "cell_type": "markdown",
   "metadata": {
    "id": "EKMf_BEzwoZB"
   },
   "source": [
    "**Lưu ý**\n",
    "\n",
    "Nếu các biến đối số được để thành None thì encoder sẽ tự động xác định tất cả các biến hạng mục. Tuyệt đúng không?\n",
    "\n",
    "Encoder sẽ không mã hóa các biến dạng số. Vì vậy, nếu một số biến dạng số là biến hạng mục thì chúng ta sẽ cần ép kiểu lại chúng thành object trước khi sử dụng encoder. \n",
    "\n",
    "Cuối cùng, nếu có một nhãn trong tập kiểm tra mà không xuất hiện trong tập huấn luyện thì encoder sẽ thông qua và báo lỗi để cảnh báo về động thái này."
   ]
  },
  {
   "cell_type": "code",
   "execution_count": null,
   "metadata": {},
   "outputs": [],
   "source": []
  }
 ],
 "metadata": {
  "colab": {
   "collapsed_sections": [],
   "name": "9.5 Mã hóa hướng dẫn có mục tiêu.ipynb",
   "provenance": []
  },
  "kernelspec": {
   "display_name": "Python 3",
   "language": "python",
   "name": "python3"
  },
  "language_info": {
   "codemirror_mode": {
    "name": "ipython",
    "version": 3
   },
   "file_extension": ".py",
   "mimetype": "text/x-python",
   "name": "python",
   "nbconvert_exporter": "python",
   "pygments_lexer": "ipython3",
   "version": "3.8.8"
  },
  "toc": {
   "base_numbering": 1,
   "nav_menu": {},
   "number_sections": true,
   "sideBar": true,
   "skip_h1_title": false,
   "title_cell": "Table of Contents",
   "title_sidebar": "Contents",
   "toc_cell": false,
   "toc_position": {},
   "toc_section_display": "block",
   "toc_window_display": true
  }
 },
 "nbformat": 4,
 "nbformat_minor": 1
}
