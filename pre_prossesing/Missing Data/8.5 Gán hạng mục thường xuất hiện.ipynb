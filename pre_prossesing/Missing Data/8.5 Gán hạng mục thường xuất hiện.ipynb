{
 "cells": [
  {
   "cell_type": "markdown",
   "metadata": {
    "id": "cEIruJfzo0m6"
   },
   "source": [
    "## Gán hạng mục thường xuất hiện | Gán mode \n",
    "\n",
    "Gán là hành động thay thế dữ liệu bị khuyết bằng các ước tính thống kê về các giá trị bị khuyết. Mục tiêu của bất kỳ kỹ thuật gán nào là tạo ra một **tập dữ liệu hoàn chỉnh** có thể sử dụng để huấn luyện các mô hình học máy.\n",
    "\n",
    "Gán mode gồm việc thay tất cả những lần xuất hiện của các giá trị bị khuyết (NA) trong một biến bằng mode, nói cách khác, nó đề cập đến **giá trị thường xuất hiện nhất** hoặc **hạng mục thường xuất hiện nhất**.\n",
    "\n",
    "\n",
    "\n",
    "### Những biến nào có thể áp dụng gán mode?\n",
    "\n",
    "Mặc dù mode hay giá trị thường xuất hiện nhất có thể được tính với cả biến dạng số và biến hạng mục thì trên thực tế, chúng ta chỉ sử dụng kỹ thuật này với các biến hạng mục do với các biến dạng số, mean hoặc median có xu hướng thể hiện giá trị trung bình của tập hợp tốt hơn.\n",
    "\n",
    "\n",
    "\n",
    "### Giả định\n",
    "\n",
    "- Dữ liệu khuyết hoàn toàn ngẫu nhiên (MCAR).\n",
    "- Các quan sát bị khuyết hầu hết trông giống với đa số các quan sát trong biến (mode).\n",
    "\n",
    "Cơ sở lý luận là giá trị được thấy cho quan sát bị khuyết rất có thể là giá trị hoặc hạng mục thường xuất hiện nhất của biến.\n",
    "\n",
    "\n",
    "### Ưu điểm\n",
    "\n",
    "- Dễ thực hiện.\n",
    "- Cách nhanh chóng để có được tập dữ liệu hoàn chỉnh.\n",
    "- Có thể tích hợp trong sản xuất (trong quá trình triển khai mô hình).\n",
    "\n",
    "\n",
    "### Hạn chế\n",
    "\n",
    "- Làm biến dạng quan hệ của nhãn thường xuất hiện nhất với các biến khác.\n",
    "- Có thể dẫn tới biểu diễn quá mức của nhãn thường xuất hiện nhất nếu có nhiều NA.\n",
    "\n",
    "### Khi nào thì sử dụng gán hạng mục thường xuất hiện nhất/gán mode?\n",
    "\n",
    "- Dữ liệu bị khuyết hoàn toàn ngẫu nhiên.\n",
    "- Không nhiều hơn 5% biến chứa dữ liệu bị khuyết.\n",
    "\n",
    "## Trong bản mô phỏng này:\n",
    "\n",
    "Chúng ta sẽ sử dụng tập dữ liệu giá nhà để biểu diễn cách thực hiện gán mode ở các biến hạng mục.\n"
   ]
  },
  {
   "cell_type": "code",
   "execution_count": 1,
   "metadata": {
    "id": "DhrlyfC9o0m-"
   },
   "outputs": [],
   "source": [
    "import pandas as pd\n",
    "import numpy as np\n",
    "\n",
    "import matplotlib.pyplot as plt\n",
    "\n",
    "# chia các tập dữ liệu\n",
    "from sklearn.model_selection import train_test_split"
   ]
  },
  {
   "cell_type": "markdown",
   "metadata": {
    "id": "9dlOuwDCo0m_"
   },
   "source": [
    "### Tập dữ liệu giá nhà"
   ]
  },
  {
   "cell_type": "code",
   "execution_count": 2,
   "metadata": {
    "id": "EzZsu1Vso0m_",
    "outputId": "9df4557c-9e93-4887-a907-8790ea25a39b"
   },
   "outputs": [
    {
     "data": {
      "text/html": [
       "<div>\n",
       "<style scoped>\n",
       "    .dataframe tbody tr th:only-of-type {\n",
       "        vertical-align: middle;\n",
       "    }\n",
       "\n",
       "    .dataframe tbody tr th {\n",
       "        vertical-align: top;\n",
       "    }\n",
       "\n",
       "    .dataframe thead th {\n",
       "        text-align: right;\n",
       "    }\n",
       "</style>\n",
       "<table border=\"1\" class=\"dataframe\">\n",
       "  <thead>\n",
       "    <tr style=\"text-align: right;\">\n",
       "      <th></th>\n",
       "      <th>BsmtQual</th>\n",
       "      <th>FireplaceQu</th>\n",
       "      <th>SalePrice</th>\n",
       "    </tr>\n",
       "  </thead>\n",
       "  <tbody>\n",
       "    <tr>\n",
       "      <th>0</th>\n",
       "      <td>Gd</td>\n",
       "      <td>NaN</td>\n",
       "      <td>208500</td>\n",
       "    </tr>\n",
       "    <tr>\n",
       "      <th>1</th>\n",
       "      <td>Gd</td>\n",
       "      <td>TA</td>\n",
       "      <td>181500</td>\n",
       "    </tr>\n",
       "    <tr>\n",
       "      <th>2</th>\n",
       "      <td>Gd</td>\n",
       "      <td>TA</td>\n",
       "      <td>223500</td>\n",
       "    </tr>\n",
       "    <tr>\n",
       "      <th>3</th>\n",
       "      <td>TA</td>\n",
       "      <td>Gd</td>\n",
       "      <td>140000</td>\n",
       "    </tr>\n",
       "    <tr>\n",
       "      <th>4</th>\n",
       "      <td>Gd</td>\n",
       "      <td>TA</td>\n",
       "      <td>250000</td>\n",
       "    </tr>\n",
       "  </tbody>\n",
       "</table>\n",
       "</div>"
      ],
      "text/plain": [
       "  BsmtQual FireplaceQu  SalePrice\n",
       "0       Gd         NaN     208500\n",
       "1       Gd          TA     181500\n",
       "2       Gd          TA     223500\n",
       "3       TA          Gd     140000\n",
       "4       Gd          TA     250000"
      ]
     },
     "execution_count": 2,
     "metadata": {},
     "output_type": "execute_result"
    }
   ],
   "source": [
    "# load tập dữ liệu với một số biến để biểu diễn\n",
    "\n",
    "# có các cột hạng mục và mục tiêu SalePrice\n",
    "cols_to_use = ['BsmtQual', 'FireplaceQu', 'SalePrice']\n",
    "\n",
    "data = pd.read_csv('./datatset/house-price/houseprice.csv', usecols=cols_to_use)\n",
    "data.head()"
   ]
  },
  {
   "cell_type": "code",
   "execution_count": 3,
   "metadata": {
    "id": "NTz2T_rwo0nB",
    "outputId": "68b0b9c5-67c9-40fa-e6d5-97da78e332f9"
   },
   "outputs": [
    {
     "data": {
      "text/plain": [
       "BsmtQual       0.025342\n",
       "FireplaceQu    0.472603\n",
       "SalePrice      0.000000\n",
       "dtype: float64"
      ]
     },
     "execution_count": 3,
     "metadata": {},
     "output_type": "execute_result"
    }
   ],
   "source": [
    "# kiểm tra phần trăm các giá trị bị khuyết ở từng biến\n",
    "\n",
    "data.isnull().mean()"
   ]
  },
  {
   "cell_type": "markdown",
   "metadata": {
    "id": "3DN2kZv7o0nB"
   },
   "source": [
    "Biến BsmtQual chỉ chứa một số quan sát với NA (2.5); do đó, phương pháp là thay thế các quan sát đó bằng giá trị của hạng mục thường xuất hiện nhất.\n",
    "\n",
    "Mặt khác, biến FireplaceQu chứa dữ liệu bị khuyết trong gần nửa số quan sát. Do đó, việc thay thế chúng bằng hạng mục thường xuất hiện nhất rất có thể sẽ làm sai lệch mối quan hệ của hạng mục thường xuất hiện nhất với giá bán.\n",
    "\n",
    "Ngoài ra, nếu khuyết quá nhiều quan sát trong FireplaceQu có thể vì lý do nào đó chứ không phải ngẫu nhiên thì chúng ta nên nắm bắt điều đó bằng một kỹ thuật gán khác sẽ xuất hiện trong notebook tiếp theo. Bây giờ, hãy cùng khám phá tác động của việc thay thế NA bằng các hạng mục thường gặp nhất khi dữ liệu bị khuyết. "
   ]
  },
  {
   "cell_type": "markdown",
   "metadata": {
    "id": "5Mse_Iglo0nC"
   },
   "source": [
    "### Gán quan trọng\n",
    "\n",
    "Việc gán phải được thực hiện trong tập huấn luyện, sau đó được truyền sang tập kiểm tra. Điều này có nghĩa là hạng mục thường xuất hiện nhất phải được chọn từ tập huấn luyện và sử dụng để thay thể NA ở cả tập huấn luyện và tập kiểm tra."
   ]
  },
  {
   "cell_type": "code",
   "execution_count": 4,
   "metadata": {
    "id": "Xa280jI3o0nD",
    "outputId": "75474752-74ff-42e9-b356-3cc29f84a33e"
   },
   "outputs": [
    {
     "data": {
      "text/plain": [
       "((1022, 3), (438, 3))"
      ]
     },
     "execution_count": 4,
     "metadata": {},
     "output_type": "execute_result"
    }
   ],
   "source": [
    "# hãy chia thành tập huấn luyện và tập kiểm tra\n",
    "\n",
    "X_train, X_test, y_train, y_test = train_test_split(\n",
    "    data,\n",
    "    data['SalePrice'], # mục tiêu\n",
    "    test_size=0.3, # phần trăm các quan sát trong tập kiểm tra\n",
    "    random_state=0) # seed đảm bảo khả năng tái lặp\n",
    "\n",
    "X_train.shape, X_test.shape"
   ]
  },
  {
   "cell_type": "markdown",
   "metadata": {
    "id": "W5bk5W9zo0nE"
   },
   "source": [
    "#### BsmtQual"
   ]
  },
  {
   "cell_type": "code",
   "execution_count": 5,
   "metadata": {
    "id": "EEaefR5xo0nF",
    "outputId": "5fba2851-f564-4da8-b5a5-8115f10e0771"
   },
   "outputs": [
    {
     "data": {
      "text/plain": [
       "0.023483365949119372"
      ]
     },
     "execution_count": 5,
     "metadata": {},
     "output_type": "execute_result"
    }
   ],
   "source": [
    "# nhớ lại % các giá trị bị khuyết\n",
    "X_train['BsmtQual'].isnull().mean()"
   ]
  },
  {
   "cell_type": "code",
   "execution_count": 6,
   "metadata": {
    "id": "6GywDOT8o0nG",
    "outputId": "dad41219-2147-4985-93d1-2a4c341cf381"
   },
   "outputs": [
    {
     "data": {
      "text/plain": [
       "Text(0, 0.5, 'Number of houses')"
      ]
     },
     "execution_count": 6,
     "metadata": {},
     "output_type": "execute_result"
    },
    {
     "data": {
      "image/png": "[encoded data removed]",
      "text/plain": [
       "<Figure size 432x288 with 1 Axes>"
      ]
     },
     "metadata": {
      "needs_background": "light"
     },
     "output_type": "display_data"
    }
   ],
   "source": [
    "## Yêu cầu 1: kiểm tra số lượng quan sát trên mỗi hạng mục trong BsmtQual\n",
    "\n",
    "# chúng ta đã sử dụng dòng code này trong phần các đặc điểm của biến\n",
    "\n",
    "# value_counts() đếm số nhà hiển thị từng nhãn \n",
    "# trong biến được chỉ ra bên dưới\n",
    "\n",
    "## VIẾT CODE Ở ĐÂY:\n",
    "X_train['BsmtQual'].value_counts().sort_values(ascending=False).plot(kind = 'bar')\n",
    "plt.xlabel('BsmtQual')\n",
    "plt.ylabel('Number of houses')"
   ]
  },
  {
   "cell_type": "markdown",
   "metadata": {
    "id": "QudQtpBOkS1H"
   },
   "source": [
    "<details><summary> Gợi ý </summary>\n",
    "\n",
    "[value_counts()](https://pandas.pydata.org/docs/reference/api/pandas.Series.value_counts.html)\n",
    "\n",
    "[plot.bar()](https://pandas.pydata.org/docs/reference/api/pandas.DataFrame.plot.bar.html)\n",
    "\n",
    "</details>"
   ]
  },
  {
   "cell_type": "code",
   "execution_count": 7,
   "metadata": {
    "id": "Zugjhqnjo0nG",
    "outputId": "f8893f4f-713d-4031-82a8-e8d4cb514ba4"
   },
   "outputs": [
    {
     "data": {
      "text/plain": [
       "0    TA\n",
       "dtype: object"
      ]
     },
     "execution_count": 7,
     "metadata": {},
     "output_type": "execute_result"
    }
   ],
   "source": [
    "## Yêu cầu 2: Tìm hạng mục thường xuất hiện nhất cho BsmtQual\n",
    "\n",
    "## VIẾT CODE Ở ĐÂY:\n",
    "X_train['BsmtQual'].mode()"
   ]
  },
  {
   "cell_type": "markdown",
   "metadata": {
    "id": "6bGJ_1Owl1Kt"
   },
   "source": [
    "<details><summary> Gợi ý </summary>\n",
    "\n",
    "[mode()](https://pandas.pydata.org/pandas-docs/stable/reference/api/pandas.DataFrame.mode.html)\n",
    "\n",
    "</details>"
   ]
  },
  {
   "cell_type": "code",
   "execution_count": 8,
   "metadata": {
    "id": "Pptwfhxpo0nH",
    "outputId": "b473fc99-213f-4ebf-a287-8505480b863c"
   },
   "outputs": [
    {
     "data": {
      "text/plain": [
       "Text(0.5, 1.0, 'BsmtQual')"
      ]
     },
     "execution_count": 8,
     "metadata": {},
     "output_type": "execute_result"
    },
    {
     "data": {
      "image/png": "[encoded data removed]",
      "text/plain": [
       "<Figure size 432x288 with 1 Axes>"
      ]
     },
     "metadata": {
      "needs_background": "light"
     },
     "output_type": "display_data"
    }
   ],
   "source": [
    "# vẽ biểu đồ phân phối mục tiêu cho các ngôi nhà mà:\n",
    "\n",
    "# * hiển thị hạng mục thường xuất hiện nhất hoặc \n",
    "# * những cái hiển thị giá trị bị khuyết\n",
    "\n",
    "fig = plt.figure()\n",
    "ax = fig.add_subplot(111)\n",
    "\n",
    "# chọn và vẽ biểu đồ các ngôi nhà với nhãn thường xuất hiện nhất\n",
    "X_train[X_train['BsmtQual']=='TA']['SalePrice'].plot(kind='kde', ax=ax)\n",
    "\n",
    "# chọn và vẽ biểu đồ các ngôi nhà với dữ liệu bị khuyết trong biến\n",
    "X_train[X_train['BsmtQual'].isnull()]['SalePrice'].plot(kind='kde', ax=ax, color='red')\n",
    "\n",
    "# thêm legend\n",
    "lines, labels = ax.get_legend_handles_labels()\n",
    "labels = ['Houses with TA', 'Houses with NA']\n",
    "ax.legend(lines, labels, loc='best')\n",
    "\n",
    "# thêm title\n",
    "plt.title('BsmtQual')"
   ]
  },
  {
   "cell_type": "markdown",
   "metadata": {
    "id": "H2PWhQ6Yo0nI"
   },
   "source": [
    "Biểu đồ trên chỉ ra rằng những ngôi nhà với dữ liệu bị khuyết có chi phí tổng thể thấp hơn những ngôi nhà có nhãn TA. Do đó, việc thay thế các giá trị bị khuyết bằng TA có thể ảnh hưởng đến phân phối tổng thể nếu có nhiều NA."
   ]
  },
  {
   "cell_type": "code",
   "execution_count": 11,
   "metadata": {
    "id": "KQxFwbVNo0nI"
   },
   "outputs": [],
   "source": [
    "# giữ phân phối ban đầu của SalePrice cho phần lớn\n",
    "# hạng mục thường xuất hiện cho sau đó\n",
    "\n",
    "# sử dụng tmp để đặt tên các biến thời gian\n",
    "\n",
    "tmp = X_train[X_train['BsmtQual']=='TA']['SalePrice']"
   ]
  },
  {
   "cell_type": "code",
   "execution_count": 12,
   "metadata": {
    "id": "qaZPuI8eo0nJ",
    "outputId": "bf3de03f-ded1-4273-ce52-b3263a3712e0"
   },
   "outputs": [
    {
     "name": "stderr",
     "output_type": "stream",
     "text": [
      "C:\\ProgramData\\Anaconda3\\lib\\site-packages\\pandas\\core\\series.py:4463: SettingWithCopyWarning: \n",
      "A value is trying to be set on a copy of a slice from a DataFrame\n",
      "\n",
      "See the caveats in the documentation: https://pandas.pydata.org/pandas-docs/stable/user_guide/indexing.html#returning-a-view-versus-a-copy\n",
      "  return super().fillna(\n"
     ]
    }
   ],
   "source": [
    "## Yêu cầu 3: điền na ở cả tập huấn luyện và tập kiểm tra\n",
    "\n",
    "# sử dụng phương thức fillna() từ pandas\n",
    "\n",
    "# đối số inplace=True cho pandas biết\n",
    "# chúng ta muốn giá trị đã thay thế trong cùng tập dữ liệu\n",
    "\n",
    "## VIẾT CODE Ở ĐÂY:\n",
    "X_train['BsmtQual'].fillna('TA', inplace=True)\n",
    "X_test['BsmtQual'].fillna('TA', inplace = True)"
   ]
  },
  {
   "cell_type": "markdown",
   "metadata": {
    "id": "9svJPDIOmcvh"
   },
   "source": [
    "<details><summary> Gợi ý </summary>\n",
    "\n",
    "[fillna()](https://pandas.pydata.org/pandas-docs/stable/reference/api/pandas.DataFrame.fillna.html)\n",
    "\n",
    "</details>"
   ]
  },
  {
   "cell_type": "code",
   "execution_count": 13,
   "metadata": {
    "id": "yhAN63ngo0nJ",
    "outputId": "14012588-59a0-4564-8e90-27d074bed619"
   },
   "outputs": [
    {
     "data": {
      "text/plain": [
       "0"
      ]
     },
     "execution_count": 13,
     "metadata": {},
     "output_type": "execute_result"
    }
   ],
   "source": [
    "# kiểm tra xem NA đã được điền chưa\n",
    "\n",
    "X_train['BsmtQual'].isnull().sum()"
   ]
  },
  {
   "cell_type": "code",
   "execution_count": 14,
   "metadata": {
    "id": "OuuUkYMko0nK",
    "outputId": "7ba57d35-4200-467b-ca9d-32035d275112"
   },
   "outputs": [
    {
     "data": {
      "text/plain": [
       "Text(0, 0.5, 'Number of houses')"
      ]
     },
     "execution_count": 14,
     "metadata": {},
     "output_type": "execute_result"
    },
    {
     "data": {
      "image/png": "[encoded data removed]",
      "text/plain": [
       "<Figure size 432x288 with 1 Axes>"
      ]
     },
     "metadata": {
      "needs_background": "light"
     },
     "output_type": "display_data"
    }
   ],
   "source": [
    "# đánh giá tác động với phân phối của các hạng mục\n",
    "\n",
    "X_train['BsmtQual'].value_counts().sort_values(ascending=False).plot.bar()\n",
    "plt.xlabel('BsmtQual')\n",
    "plt.ylabel('Number of houses')"
   ]
  },
  {
   "cell_type": "markdown",
   "metadata": {
    "id": "ERaPN0lfo0nK"
   },
   "source": [
    "Từ sơ đồ trên, chúng ta thấy đã có thêm một vài ngôi nhà được dán nhãn TA, là những ngôi nhà mà trước đó có NA, nhưng không ảnh hưởng đáng kể đến phân phối. Biểu đồ trông gần như y hệt với biểu đồ trước khi gán."
   ]
  },
  {
   "cell_type": "code",
   "execution_count": 17,
   "metadata": {
    "id": "uRyBudA4o0nL",
    "outputId": "d2b87a83-05b2-4e53-956f-7f5ef581e748"
   },
   "outputs": [
    {
     "data": {
      "text/plain": [
       "Text(0.5, 1.0, 'BsmtQual')"
      ]
     },
     "execution_count": 17,
     "metadata": {},
     "output_type": "execute_result"
    },
    {
     "data": {
      "image/png": "[encoded data removed]",
      "text/plain": [
       "<Figure size 432x288 with 1 Axes>"
      ]
     },
     "metadata": {
      "needs_background": "light"
     },
     "output_type": "display_data"
    }
   ],
   "source": [
    "# phân phối của SalePrice cho hạng mục thường xuất hiện nhất có thay đổi không?\n",
    "# hãy quan sát\n",
    "\n",
    "fig = plt.figure()\n",
    "ax = fig.add_subplot(111)\n",
    "\n",
    "# phân phối ban đầu của SalePrice cho những ngôi nhà với nhãn thường xuất hiện nhất\n",
    "# nhớ là chúng ta đã thu nạp các cell này trong notebook\n",
    "tmp.plot(kind='kde', ax=ax)\n",
    "\n",
    "# phân phối của biến sau khi gán\n",
    "X_train[X_train['BsmtQual'] == 'TA']['SalePrice'].plot(\n",
    "    kind='kde', ax=ax, color='red')\n",
    "\n",
    "# thêm legend\n",
    "lines, labels = ax.get_legend_handles_labels()\n",
    "labels = ['Original variable', 'Imputed variable']\n",
    "ax.legend(lines, labels, loc='best')\n",
    "\n",
    "# thêm title\n",
    "plt.title('BsmtQual')"
   ]
  },
  {
   "cell_type": "markdown",
   "metadata": {
    "id": "jANhL6gRo0nL"
   },
   "source": [
    "Phân phối giá nhà giữa biến ban đầu và biến đã gán khá giống nhau do có ít dữ liệu bị khuyết. Chúng ta đã dự kiến động thái này.\n",
    "\n",
    "Hãy khám phá ảnh hưởng của gán mode khi tỷ lệ dữ liệu bị khuyết cao. \n",
    "\n",
    "#### FirePlaceQu"
   ]
  },
  {
   "cell_type": "code",
   "execution_count": 18,
   "metadata": {
    "id": "f3wPz5rdo0nL",
    "outputId": "73e7e3f7-3488-4252-f9df-0fb0a8609af2"
   },
   "outputs": [
    {
     "data": {
      "text/plain": [
       "0.46771037181996084"
      ]
     },
     "execution_count": 18,
     "metadata": {},
     "output_type": "execute_result"
    }
   ],
   "source": [
    "# nhớ lại % các giá trị bị khuyết\n",
    "X_train['FireplaceQu'].isnull().mean()"
   ]
  },
  {
   "cell_type": "code",
   "execution_count": 21,
   "metadata": {
    "id": "tNx0H2jvo0nL",
    "outputId": "3ca32d32-339f-436a-8695-d6171936be69"
   },
   "outputs": [
    {
     "data": {
      "text/plain": [
       "Text(0, 0.5, 'Number of houses')"
      ]
     },
     "execution_count": 21,
     "metadata": {},
     "output_type": "execute_result"
    },
    {
     "data": {
      "image/png": "[encoded data removed]",
      "text/plain": [
       "<Figure size 432x288 with 1 Axes>"
      ]
     },
     "metadata": {
      "needs_background": "light"
     },
     "output_type": "display_data"
    }
   ],
   "source": [
    "## Yêu cầu 4: kiểm tra số quan sát trên mỗi hạng mục\n",
    "\n",
    "## VIẾT CODE Ở ĐÂY:\n",
    "X_train['FireplaceQu'].value_counts().sort_values(ascending=False).plot.bar()\n",
    "plt.xlabel('FireplaceQu')\n",
    "plt.ylabel('Number of houses')"
   ]
  },
  {
   "cell_type": "code",
   "execution_count": 23,
   "metadata": {
    "id": "PkU-Nj3do0nM",
    "outputId": "488b8a0a-68bf-4a8f-c114-e83882a9f6f9"
   },
   "outputs": [
    {
     "data": {
      "text/plain": [
       "0    Gd\n",
       "dtype: object"
      ]
     },
     "execution_count": 23,
     "metadata": {},
     "output_type": "execute_result"
    }
   ],
   "source": [
    "## Yêu cầu 5: Tìm hạng mục thường xuất hiện nhất cho FirePlaceQu\n",
    "\n",
    "## VIẾT CODE Ở ĐÂY:\n",
    "X_train['FireplaceQu'].mode()"
   ]
  },
  {
   "cell_type": "code",
   "execution_count": 24,
   "metadata": {},
   "outputs": [
    {
     "data": {
      "text/plain": [
       "478"
      ]
     },
     "execution_count": 24,
     "metadata": {},
     "output_type": "execute_result"
    }
   ],
   "source": [
    "X_train['FireplaceQu'].isnull().sum()"
   ]
  },
  {
   "cell_type": "code",
   "execution_count": 25,
   "metadata": {
    "id": "C2ZRrb7so0nM",
    "outputId": "cc7f3ce6-76bb-443c-f035-4edc0cd2898d"
   },
   "outputs": [
    {
     "data": {
      "text/plain": [
       "Text(0.5, 1.0, 'FirePlaceQu')"
      ]
     },
     "execution_count": 25,
     "metadata": {},
     "output_type": "execute_result"
    },
    {
     "data": {
      "image/png": "[encoded data removed]",
      "text/plain": [
       "<Figure size 432x288 with 1 Axes>"
      ]
     },
     "metadata": {
      "needs_background": "light"
     },
     "output_type": "display_data"
    }
   ],
   "source": [
    "# vẽ biểu đồ phân phối mục tiêu cho các ngôi nhà mà:\n",
    "# hiển thị hạng mục thường xuất hiện nhất và những cái hiển thị giá trị bị khuyết\n",
    "\n",
    "fig = plt.figure()\n",
    "ax = fig.add_subplot(111)\n",
    "\n",
    "# các ngôi nhà với nhãn thường xuất hiện nhất cho FirePlaceQu\n",
    "X_train[X_train['FireplaceQu']=='Gd']['SalePrice'].plot(kind='kde', ax=ax)\n",
    "\n",
    "# các ngôi nhà với giá trị bị khuyết trong FirePlaceQu\n",
    "X_train[X_train['FireplaceQu'].isnull()]['SalePrice'].plot(kind='kde', ax=ax, color='red')\n",
    "\n",
    "# thêm legend\n",
    "lines, labels = ax.get_legend_handles_labels()\n",
    "labels = ['Houses with Gd', 'Houses with NA']\n",
    "ax.legend(lines, labels, loc='best')\n",
    "\n",
    "plt.title('FirePlaceQu')"
   ]
  },
  {
   "cell_type": "markdown",
   "metadata": {
    "id": "fFxKSb6Wo0nN"
   },
   "source": [
    "Các phân phối khá khác nhau, những ngôi nhà có dữ liệu bị khuyết có chi phí tổng thể thấp hơn những ngôi nhà có nhãn Gd."
   ]
  },
  {
   "cell_type": "code",
   "execution_count": 26,
   "metadata": {
    "id": "cpWNEdm5o0nN"
   },
   "outputs": [],
   "source": [
    "# giữ phân phối ban đầu của SalePrice cho những ngôi nhà \n",
    "# hiển thị Gd trong FirePlaceQu, cho sau đó.\n",
    "\n",
    "tmp = X_train[X_train['FireplaceQu']=='Gd']['SalePrice']"
   ]
  },
  {
   "cell_type": "code",
   "execution_count": 27,
   "metadata": {
    "id": "O25Zvz8mo0nN",
    "outputId": "beb613d1-fb79-43ff-a5ca-7cbcb89d4625"
   },
   "outputs": [
    {
     "name": "stderr",
     "output_type": "stream",
     "text": [
      "C:\\ProgramData\\Anaconda3\\lib\\site-packages\\pandas\\core\\series.py:4463: SettingWithCopyWarning: \n",
      "A value is trying to be set on a copy of a slice from a DataFrame\n",
      "\n",
      "See the caveats in the documentation: https://pandas.pydata.org/pandas-docs/stable/user_guide/indexing.html#returning-a-view-versus-a-copy\n",
      "  return super().fillna(\n"
     ]
    }
   ],
   "source": [
    "## Yêu cầu 6: điền na trong cả tập huấn luyện và tập kiểm tra\n",
    "\n",
    "## VIẾT CODE Ở ĐÂY:\n",
    "X_train['FireplaceQu'].fillna('Gd', inplace=True)\n",
    "X_test['FireplaceQu'].fillna('Gd', inplace = True)"
   ]
  },
  {
   "cell_type": "code",
   "execution_count": 28,
   "metadata": {
    "id": "L_GZLotao0nN",
    "outputId": "74c4e851-1e83-48c7-afc7-990d1fb768af"
   },
   "outputs": [
    {
     "data": {
      "text/plain": [
       "Text(0, 0.5, 'Number of houses')"
      ]
     },
     "execution_count": 28,
     "metadata": {},
     "output_type": "execute_result"
    },
    {
     "data": {
      "image/png": "[encoded data removed]",
      "text/plain": [
       "<Figure size 432x288 with 1 Axes>"
      ]
     },
     "metadata": {
      "needs_background": "light"
     },
     "output_type": "display_data"
    }
   ],
   "source": [
    "# kiểm tra số quanh sát trên mỗi hạng mục\n",
    "\n",
    "X_train['FireplaceQu'].value_counts().sort_values(ascending=False).plot.bar()\n",
    "plt.xlabel('FireplaceQu')\n",
    "plt.ylabel('Number of houses')"
   ]
  },
  {
   "cell_type": "markdown",
   "metadata": {
    "id": "SecFxI5Qo0nN"
   },
   "source": [
    "Trong trường hợp này, phân phối ban đầu của biến bị biến dạng lớn. Bây giờ chúng ta có thêm rất nhiều nhà chứa biến Gd so với các nhà hiển thị các biến khác. Ban đầu, một nửa số quan sát trong FirePlaceQu bị khuyết. Giờ thì tất cả các giá trị đó đều chứa Gd. Đó là lý do chúng ta thấy Gd tăng nhiều trong biểu đồ thanh."
   ]
  },
  {
   "cell_type": "code",
   "execution_count": 29,
   "metadata": {
    "id": "v4cu0k6Fo0nO",
    "outputId": "b72685be-26a7-4d11-dca3-a160830afa51"
   },
   "outputs": [
    {
     "data": {
      "text/plain": [
       "Text(0.5, 1.0, 'FirePlaceQu')"
      ]
     },
     "execution_count": 29,
     "metadata": {},
     "output_type": "execute_result"
    },
    {
     "data": {
      "image/png": "[encoded data removed]",
      "text/plain": [
       "<Figure size 432x288 with 1 Axes>"
      ]
     },
     "metadata": {
      "needs_background": "light"
     },
     "output_type": "display_data"
    }
   ],
   "source": [
    "# vẽ biểu đồ phân phối của mục tiêu cho biến ban đầu\n",
    "# và biến đã gán\n",
    "\n",
    "fig = plt.figure()\n",
    "ax = fig.add_subplot(111)\n",
    "\n",
    "# phân phối ban đầu của biến\n",
    "# nhớ là chúng ta đã thu nạp các cell này trong notebook\n",
    "tmp.plot(kind='kde', ax=ax)\n",
    "\n",
    "# phân phối của biến sau khi gán\n",
    "X_train[X_train['FireplaceQu'] == 'Gd']['SalePrice'].plot(\n",
    "    kind='kde', ax=ax, color='red')\n",
    "\n",
    "# thêm legend\n",
    "lines, labels = ax.get_legend_handles_labels()\n",
    "labels = ['Original variable', 'Imputed variable']\n",
    "ax.legend(lines, labels, loc='best')\n",
    "\n",
    "plt.title('FirePlaceQu')"
   ]
  },
  {
   "cell_type": "markdown",
   "metadata": {
    "id": "67d6Ek0Bo0nO"
   },
   "source": [
    "Giá trị nhà trung bình cho hạng mục thường xuất hiện nhất đã giảm khá nhiều sau khi thêm giá trị nhà của NA, sau khi tái phân loại NA là nhãn thường xuất hiện nhất.\n",
    "\n",
    "\n",
    "Do đó, tầm quan trọng của nhãn cụ thể này với dự đoán giá nhà bị che lấp hoặc thay đổi bởi việc bổ sung các giá trị bị khuyết.\n",
    "\n",
    "Trong những trường hợp tỷ lệ phần trăm của các giá trị bị khuyết quá cao (~50%), chúng ta nên tạo một hạng mục mới để bao hàm các quan sát với NA."
   ]
  },
  {
   "cell_type": "code",
   "execution_count": null,
   "metadata": {
    "id": "M072YNLto0nO"
   },
   "outputs": [],
   "source": []
  }
 ],
 "metadata": {
  "colab": {
   "collapsed_sections": [],
   "name": "8.5 Gán hạng mục thường xuất hiện.ipynb",
   "provenance": []
  },
  "kernelspec": {
   "display_name": "Python 3",
   "language": "python",
   "name": "python3"
  },
  "language_info": {
   "codemirror_mode": {
    "name": "ipython",
    "version": 3
   },
   "file_extension": ".py",
   "mimetype": "text/x-python",
   "name": "python",
   "nbconvert_exporter": "python",
   "pygments_lexer": "ipython3",
   "version": "3.8.8"
  },
  "toc": {
   "base_numbering": 1,
   "nav_menu": {},
   "number_sections": true,
   "sideBar": true,
   "skip_h1_title": false,
   "title_cell": "Table of Contents",
   "title_sidebar": "Contents",
   "toc_cell": false,
   "toc_position": {},
   "toc_section_display": "block",
   "toc_window_display": true
  }
 },
 "nbformat": 4,
 "nbformat_minor": 1
}
