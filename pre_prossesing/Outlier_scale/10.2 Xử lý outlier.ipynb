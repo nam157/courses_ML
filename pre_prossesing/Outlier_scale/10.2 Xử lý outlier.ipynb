{
 "cells": [
  {
   "cell_type": "markdown",
   "metadata": {
    "id": "-0xNLMQOu5zA"
   },
   "source": [
    "##  Kỹ thuật xử lý Outlier\n",
    "\n",
    "\n",
    "Outlier là một điểm dữ liệu khác biệt rất lớn so với dữ liệu còn lại. “Outlier là một quan sát sai lệch rất nhiều so với các quan sát khác để làm dấy lên nghi ngờ rằng nó được tạo ra bởi một cơ chế khác”. [D. Hawkins. Identification of Outliers, Chapman and Hall , 1980].\n",
    "\n",
    "Các yếu tố thống kê như giá trị trung bình và phương sai rất dễ bị ảnh hưởng bởi outlier. Ngoài ra, **một số mô hình học máy nhạy với các outlier** có thể làm giảm chất lượng của chúng. Do đó, chúng ta thường loại bỏ outlier khỏi các biến tùy thuộc vào thuật toán mà chúng ta muốn huấn luyện.\n",
    "\n",
    "Chúng ta đã thảo luận cách xác định outlier và trong phần này, chúng ta sẽ bàn về cách xử lý chúng để huấn luyện các mô hình học máy.\n",
    "\n",
    "\n",
    "## Làm thế nào để tiền xử lý outlier?\n",
    "\n",
    "- Trimming (Cắt tỉa): loại bỏ các outlier khỏi tập dữ liệu.\n",
    "- Coi các outlier là dữ liệu bị khuyết và tiến hành với bất kỳ kỹ thuật gán dữ liệu bị khuyết nào.\n",
    "- Rời rạc hóa: outlier được thay thế trong các border bin cùng với các giá trị cao hoặc thấp hơn của phân phối.\n",
    "- Censoring (Kiểm duyệt): giới hạn phân phối biến ở giá trị max/min.\n",
    "\n",
    "**Censoring** cũng được biết đến như:\n",
    "\n",
    "- top/bottom coding\n",
    "- windsorisation\n",
    "- capping\n",
    "\n",
    "\n",
    "## Censoring/Capping.\n",
    "\n",
    "**Censoring (Kiểm duyệt)** hoặc **Capping (Giới hạn)** là giới hạn max/min của phân phối tại một giá trị bất kỳ. Nói cách khác, những giá trị lớn hơn hoặc nhỏ hơn các giá trị được xác định tùy ý đều được **kiểm duyệt**.\n",
    "\n",
    "Capping có thể thực hiện ở cả 2 đầu hoặc 1 đầu phân phối còn tùy thuộc vào biến và người dùng.\n",
    "\n",
    "Xem ví dụ về capping được sử dụng ở công ty tài chính trong phần diễn thuyết tại [PyData](https://www.youtube.com/watch?v=KHGGlozsRtA).\n",
    "\n",
    "Các số để giới hạn phân phối có thể xác định:\n",
    "\n",
    "- tùy ý\n",
    "- sử dụng quy tắc tiệm cận IQR\n",
    "- sử dụng phép xấp xỉ Gauss\n",
    "- sử dụng quantile\n",
    "\n",
    "\n",
    "### Ưu điểm\n",
    "\n",
    "- không loại bỏ dữ liệu\n",
    "\n",
    "### Hạn chế\n",
    "\n",
    "- làm sai lệch các phân phối của biến\n",
    "- làm sai lệch mối quan hệ giữa các biến\n",
    "\n",
    "\n",
    "## Trong bản mô phỏng này\n",
    "\n",
    "Chúng ta sẽ thực hiện capping với:\n",
    "\n",
    "- Dataset Quy tắc tiệm cận IQR sử dụng tập dữ liệu Boston House.\n",
    "- Phép xấp xỉ Gauss sử dụng tập dữ liệu Boston House.\n",
    "- Quantile sử dụng tập dữ liệu Boston House.\n",
    "- Các giá trị bất kỳ sử dụng tập dữ liệu Titanic.\n",
    "\n",
    "## Quan trọng\n",
    "\n",
    "Khi thực hiện capping, chúng ta thường giới hạn cả tập huấn luyện và tập kiểm tra. Cần nhớ rằng các giá trị giới hạn PHẢI được lấy từ tập huấn luyện, rồi dùng các giá trị tương tự đó để giới hạn các biến trong tập kiểm tra.\n",
    "\n",
    "Chúng ta sẽ không thực hiện điều đó trong mô phỏng này nhưng hãy ghi nhớ khi thiết lập quy trình."
   ]
  },
  {
   "cell_type": "code",
   "execution_count": 1,
   "metadata": {
    "id": "H5wtLGqnu5zH"
   },
   "outputs": [],
   "source": [
    "import pandas as pd\n",
    "import numpy as np\n",
    "\n",
    "import matplotlib.pyplot as plt\n",
    "import seaborn as sns\n",
    "\n",
    "# cho biểu đồ Q-Q \n",
    "import scipy.stats as stats\n",
    "\n",
    "# tập dữ liệu boston house cho mô phỏng\n",
    "from sklearn.datasets import load_boston\n",
    "\n",
    "from feature_engine.outliers import Winsorizer\n",
    "from feature_engine.outliers import ArbitraryOutlierCapper"
   ]
  },
  {
   "cell_type": "code",
   "execution_count": 2,
   "metadata": {
    "id": "imczJQVzu5zJ",
    "outputId": "e1408e19-11da-47b4-b730-c1a37ffcd38c"
   },
   "outputs": [
    {
     "data": {
      "text/html": [
       "<div>\n",
       "<style scoped>\n",
       "    .dataframe tbody tr th:only-of-type {\n",
       "        vertical-align: middle;\n",
       "    }\n",
       "\n",
       "    .dataframe tbody tr th {\n",
       "        vertical-align: top;\n",
       "    }\n",
       "\n",
       "    .dataframe thead th {\n",
       "        text-align: right;\n",
       "    }\n",
       "</style>\n",
       "<table border=\"1\" class=\"dataframe\">\n",
       "  <thead>\n",
       "    <tr style=\"text-align: right;\">\n",
       "      <th></th>\n",
       "      <th>RM</th>\n",
       "      <th>LSTAT</th>\n",
       "      <th>CRIM</th>\n",
       "      <th>MEDV</th>\n",
       "    </tr>\n",
       "  </thead>\n",
       "  <tbody>\n",
       "    <tr>\n",
       "      <th>0</th>\n",
       "      <td>6.575</td>\n",
       "      <td>4.98</td>\n",
       "      <td>0.00632</td>\n",
       "      <td>24.0</td>\n",
       "    </tr>\n",
       "    <tr>\n",
       "      <th>1</th>\n",
       "      <td>6.421</td>\n",
       "      <td>9.14</td>\n",
       "      <td>0.02731</td>\n",
       "      <td>21.6</td>\n",
       "    </tr>\n",
       "    <tr>\n",
       "      <th>2</th>\n",
       "      <td>7.185</td>\n",
       "      <td>4.03</td>\n",
       "      <td>0.02729</td>\n",
       "      <td>34.7</td>\n",
       "    </tr>\n",
       "    <tr>\n",
       "      <th>3</th>\n",
       "      <td>6.998</td>\n",
       "      <td>2.94</td>\n",
       "      <td>0.03237</td>\n",
       "      <td>33.4</td>\n",
       "    </tr>\n",
       "    <tr>\n",
       "      <th>4</th>\n",
       "      <td>7.147</td>\n",
       "      <td>5.33</td>\n",
       "      <td>0.06905</td>\n",
       "      <td>36.2</td>\n",
       "    </tr>\n",
       "  </tbody>\n",
       "</table>\n",
       "</div>"
      ],
      "text/plain": [
       "      RM  LSTAT     CRIM  MEDV\n",
       "0  6.575   4.98  0.00632  24.0\n",
       "1  6.421   9.14  0.02731  21.6\n",
       "2  7.185   4.03  0.02729  34.7\n",
       "3  6.998   2.94  0.03237  33.4\n",
       "4  7.147   5.33  0.06905  36.2"
      ]
     },
     "execution_count": 2,
     "metadata": {},
     "output_type": "execute_result"
    }
   ],
   "source": [
    "# load dữ liệu giá nhà ở Boston\n",
    "\n",
    "# load tập dữ liệu boston từ sklearn\n",
    "boston_dataset = load_boston()\n",
    "\n",
    "# tạo một dataframe với các biến độc lập\n",
    "# chúng ta sẽ chỉ sử dụng 3 trong tổng số các biến cho mô phỏng này\n",
    "\n",
    "boston = pd.DataFrame(boston_dataset.data,\n",
    "                      columns=boston_dataset.feature_names)[[\n",
    "                          'RM', 'LSTAT', 'CRIM'\n",
    "                      ]]\n",
    "\n",
    "# thêm mục tiêu\n",
    "boston['MEDV'] = boston_dataset.target\n",
    "\n",
    "boston.head()"
   ]
  },
  {
   "cell_type": "code",
   "execution_count": 3,
   "metadata": {
    "id": "gT39uEvLu5zL"
   },
   "outputs": [],
   "source": [
    "# hàm tạo biểu đồ tần suất, biểu đồ Q-Q và\n",
    "# biểu đồ hộp đã học trước đó\n",
    "\n",
    "\n",
    "def diagnostic_plots(df, variable):\n",
    "    # hàm nhận dataframe (df) và\n",
    "    # biến cần quan tâm làm đối số\n",
    "\n",
    "    # xác định kích thước figure\n",
    "    plt.figure(figsize=(16, 4))\n",
    "\n",
    "    # biểu đồ tần suất\n",
    "    plt.subplot(1, 3, 1)\n",
    "    sns.histplot(df[variable], bins=30)\n",
    "    plt.title('Histogram')\n",
    "\n",
    "    # biểu đồ Q-Q\n",
    "    plt.subplot(1, 3, 2)\n",
    "    stats.probplot(df[variable], dist=\"norm\", plot=plt)\n",
    "    plt.ylabel('Variable quantiles')\n",
    "\n",
    "    # biểu đồ hộp\n",
    "    plt.subplot(1, 3, 3)\n",
    "    sns.boxplot(y=df[variable])\n",
    "    plt.title('Boxplot')\n",
    "\n",
    "    plt.show()"
   ]
  },
  {
   "cell_type": "code",
   "execution_count": 4,
   "metadata": {
    "id": "UCukKuRpu5zM",
    "outputId": "ec14111f-b6f2-444c-f4a2-ab6d93996d1d"
   },
   "outputs": [
    {
     "data": {
      "image/png": "[encoded data removed]",
      "text/plain": [
       "<Figure size 1152x288 with 3 Axes>"
      ]
     },
     "metadata": {
      "needs_background": "light"
     },
     "output_type": "display_data"
    }
   ],
   "source": [
    "# tìm các outlier trong RM\n",
    "\n",
    "diagnostic_plots(boston, 'RM')"
   ]
  },
  {
   "cell_type": "code",
   "execution_count": 5,
   "metadata": {
    "id": "KnwI3mZeu5zN",
    "outputId": "8729d897-140b-49a7-be9a-91660fa5c8eb"
   },
   "outputs": [
    {
     "data": {
      "image/png": "[encoded data removed]",
      "text/plain": [
       "<Figure size 1152x288 with 3 Axes>"
      ]
     },
     "metadata": {
      "needs_background": "light"
     },
     "output_type": "display_data"
    }
   ],
   "source": [
    "# hiển thị các outlier trong LSTAT\n",
    "\n",
    "diagnostic_plots(boston, 'LSTAT')"
   ]
  },
  {
   "cell_type": "code",
   "execution_count": 6,
   "metadata": {
    "id": "2_zll0jeu5zN",
    "outputId": "21f4ef4f-8524-4c42-b30d-c03f3077e95a"
   },
   "outputs": [
    {
     "data": {
      "image/png": "[encoded data removed]",
      "text/plain": [
       "<Figure size 1152x288 with 3 Axes>"
      ]
     },
     "metadata": {
      "needs_background": "light"
     },
     "output_type": "display_data"
    }
   ],
   "source": [
    "# các outlier trong CRIM\n",
    "\n",
    "diagnostic_plots(boston, 'CRIM')"
   ]
  },
  {
   "cell_type": "markdown",
   "metadata": {
    "id": "kKr2fXEqu5zP"
   },
   "source": [
    "Tất cả các biến trên đều có outlier. RM hiển thị các outlier ở cả hai đầu, trong khi LSTAT và CRIM chỉ có ở phần đuôi bên phải.\n",
    "\n",
    "Để tìm outlier, hãy sử dụng lại hàm chúng ta đã học:"
   ]
  },
  {
   "cell_type": "markdown",
   "metadata": {
    "id": "EjBAeiwbxZ4U"
   },
   "source": [
    "## Quy tắc tiệm cận IQR "
   ]
  },
  {
   "cell_type": "code",
   "execution_count": 7,
   "metadata": {
    "id": "s3BgqDfRu5zQ"
   },
   "outputs": [],
   "source": [
    "## Yêu cầu 1\n",
    "def find_skewed_boundaries(df, variable, distance):\n",
    "\n",
    "    # tính các ranh giới bên ngoài có outlier\n",
    "    # cho các phân phối lệch\n",
    "\n",
    "    # truyền distance làm đối số, cho chúng ta lựa chọn\n",
    "    # ước tính 1.5 * IQR hoặc 3 * IQR để tính\n",
    "    # các ranh giới.\n",
    "\n",
    "    ## VIẾT CODE Ở ĐÂY:\n",
    "    IQR = df[variable].quantile(0.75) - df[variable].quantile(0.25)\n",
    "\n",
    "    ## VIẾT CODE Ở ĐÂY:\n",
    "    lower_boundary = df[variable].quantile(.25) - (IQR * distance)\n",
    "    upper_boundary = df[variable].quantile(0.75) + (IQR * distance)\n",
    "\n",
    "    ## VIẾT CODE Ở ĐÂY:\n",
    "    return upper_boundary, lower_boundary"
   ]
  },
  {
   "cell_type": "code",
   "execution_count": 8,
   "metadata": {
    "id": "FFIYrntQu5zS",
    "outputId": "9db96779-7cba-499d-b411-c9ac01df6d9e"
   },
   "outputs": [
    {
     "data": {
      "text/plain": [
       "(7.730499999999999, 4.778500000000001)"
      ]
     },
     "execution_count": 8,
     "metadata": {},
     "output_type": "execute_result"
    }
   ],
   "source": [
    "# tìm các giới hạn cho RM\n",
    "\n",
    "RM_upper_limit, RM_lower_limit = find_skewed_boundaries(boston, 'RM', 1.5)\n",
    "RM_upper_limit, RM_lower_limit"
   ]
  },
  {
   "cell_type": "code",
   "execution_count": 9,
   "metadata": {
    "id": "uZ6HyRT3u5zT",
    "outputId": "867afade-f1e2-480b-b542-8c0a3b295a1d"
   },
   "outputs": [
    {
     "data": {
      "text/plain": [
       "(31.962500000000006, -8.057500000000005)"
      ]
     },
     "execution_count": 9,
     "metadata": {},
     "output_type": "execute_result"
    }
   ],
   "source": [
    "# các giới hạn cho LSTAT\n",
    "\n",
    "LSTAT_upper_limit, LSTAT_lower_limit = find_skewed_boundaries(boston, 'LSTAT', 1.5)\n",
    "LSTAT_upper_limit, LSTAT_lower_limit"
   ]
  },
  {
   "cell_type": "code",
   "execution_count": 10,
   "metadata": {
    "id": "U5PnwbLKu5zU",
    "outputId": "2948d89a-a5a8-48db-bcaf-2d34ac10504e"
   },
   "outputs": [
    {
     "data": {
      "text/plain": [
       "(9.06963875, -5.31051125)"
      ]
     },
     "execution_count": 10,
     "metadata": {},
     "output_type": "execute_result"
    }
   ],
   "source": [
    "# các giới hạn cho CRIM\n",
    "\n",
    "CRIM_upper_limit, CRIM_lower_limit = find_skewed_boundaries(boston, 'CRIM', 1.5)\n",
    "CRIM_upper_limit, CRIM_lower_limit"
   ]
  },
  {
   "cell_type": "code",
   "execution_count": 11,
   "metadata": {
    "id": "O2idlCqBu5zV"
   },
   "outputs": [],
   "source": [
    "## Yêu cầu 2\n",
    "# thay thế các outlier bằng giới hạn max/min\n",
    "\n",
    "## VIẾT CODE Ở ĐÂY:\n",
    "boston['RM']= np.where(boston['RM'] > RM_upper_limit, RM_upper_limit,\n",
    "                       np.where(boston['RM'] < RM_lower_limit, RM_lower_limit, boston['RM']))"
   ]
  },
  {
   "cell_type": "code",
   "execution_count": 12,
   "metadata": {
    "id": "EZN40V0au5zW"
   },
   "outputs": [],
   "source": [
    "## Yêu cầu 3\n",
    "# thay thế các outlier bằng giới hạn max/min\n",
    "\n",
    "## VIẾT CODE Ở ĐÂY:\n",
    "boston['LSTAT']= np.where(boston['LSTAT'] > LSTAT_upper_limit, LSTAT_upper_limit,\n",
    "                       np.where(boston['LSTAT'] < LSTAT_lower_limit, LSTAT_lower_limit, boston['LSTAT']))"
   ]
  },
  {
   "cell_type": "code",
   "execution_count": 13,
   "metadata": {
    "id": "PlD2PWmDu5zX"
   },
   "outputs": [],
   "source": [
    "## Yêu cầu 4\n",
    "# thay thế các outlier bằng giới hạn max/min\n",
    "\n",
    "## VIẾT CODE Ở ĐÂY:\n",
    "boston['CRIM']= np.where(boston['CRIM'] > CRIM_upper_limit, CRIM_upper_limit,\n",
    "                       np.where(boston['CRIM'] < CRIM_lower_limit, CRIM_lower_limit, boston['CRIM']))"
   ]
  },
  {
   "cell_type": "code",
   "execution_count": 14,
   "metadata": {
    "id": "Re9ef91Qu5zY",
    "outputId": "a8020b89-912d-482d-92b9-0a6dc920bf55"
   },
   "outputs": [
    {
     "data": {
      "image/png": "[encoded data removed]",
      "text/plain": [
       "<Figure size 1152x288 with 3 Axes>"
      ]
     },
     "metadata": {
      "needs_background": "light"
     },
     "output_type": "display_data"
    }
   ],
   "source": [
    "# khám phá các outlier trong tập dữ liệu đã cắt tỉa\n",
    "# với RM, chúng ta thấy có ít outlier hơn so với tập dữ liệu gốc\n",
    "\n",
    "diagnostic_plots(boston, 'RM')"
   ]
  },
  {
   "cell_type": "code",
   "execution_count": 15,
   "metadata": {
    "id": "X-z3scZ0u5zZ",
    "outputId": "d9be8315-76b0-4f34-bf3d-637f388e40e6"
   },
   "outputs": [
    {
     "data": {
      "image/png": "[encoded data removed]",
      "text/plain": [
       "<Figure size 1152x288 with 3 Axes>"
      ]
     },
     "metadata": {
      "needs_background": "light"
     },
     "output_type": "display_data"
    }
   ],
   "source": [
    "diagnostic_plots(boston, 'LSTAT')"
   ]
  },
  {
   "cell_type": "code",
   "execution_count": 16,
   "metadata": {
    "id": "b6VRd6R7u5zb",
    "outputId": "37a170cc-4580-47e4-f5de-7057f68f6b51"
   },
   "outputs": [
    {
     "data": {
      "image/png": "[encoded data removed]",
      "text/plain": [
       "<Figure size 1152x288 with 3 Axes>"
      ]
     },
     "metadata": {
      "needs_background": "light"
     },
     "output_type": "display_data"
    }
   ],
   "source": [
    "diagnostic_plots(boston, 'CRIM')"
   ]
  },
  {
   "cell_type": "markdown",
   "metadata": {
    "id": "ku2S8LEUu5zc"
   },
   "source": [
    "Các outlier đã biến mất nhưng phân phối biến bị sai lệch một ít."
   ]
  },
  {
   "cell_type": "markdown",
   "metadata": {
    "collapsed": true,
    "id": "rkJFaSOZu5zd"
   },
   "source": [
    "### Censoring với Feature-engine"
   ]
  },
  {
   "cell_type": "code",
   "execution_count": 19,
   "metadata": {
    "id": "xCD_M3hJu5zd",
    "outputId": "044b3c72-d583-48c3-b30b-ad2953ec53fe"
   },
   "outputs": [
    {
     "data": {
      "text/html": [
       "<div>\n",
       "<style scoped>\n",
       "    .dataframe tbody tr th:only-of-type {\n",
       "        vertical-align: middle;\n",
       "    }\n",
       "\n",
       "    .dataframe tbody tr th {\n",
       "        vertical-align: top;\n",
       "    }\n",
       "\n",
       "    .dataframe thead th {\n",
       "        text-align: right;\n",
       "    }\n",
       "</style>\n",
       "<table border=\"1\" class=\"dataframe\">\n",
       "  <thead>\n",
       "    <tr style=\"text-align: right;\">\n",
       "      <th></th>\n",
       "      <th>RM</th>\n",
       "      <th>LSTAT</th>\n",
       "      <th>CRIM</th>\n",
       "      <th>MEDV</th>\n",
       "    </tr>\n",
       "  </thead>\n",
       "  <tbody>\n",
       "    <tr>\n",
       "      <th>0</th>\n",
       "      <td>6.575</td>\n",
       "      <td>4.98</td>\n",
       "      <td>0.00632</td>\n",
       "      <td>24.0</td>\n",
       "    </tr>\n",
       "    <tr>\n",
       "      <th>1</th>\n",
       "      <td>6.421</td>\n",
       "      <td>9.14</td>\n",
       "      <td>0.02731</td>\n",
       "      <td>21.6</td>\n",
       "    </tr>\n",
       "    <tr>\n",
       "      <th>2</th>\n",
       "      <td>7.185</td>\n",
       "      <td>4.03</td>\n",
       "      <td>0.02729</td>\n",
       "      <td>34.7</td>\n",
       "    </tr>\n",
       "    <tr>\n",
       "      <th>3</th>\n",
       "      <td>6.998</td>\n",
       "      <td>2.94</td>\n",
       "      <td>0.03237</td>\n",
       "      <td>33.4</td>\n",
       "    </tr>\n",
       "    <tr>\n",
       "      <th>4</th>\n",
       "      <td>7.147</td>\n",
       "      <td>5.33</td>\n",
       "      <td>0.06905</td>\n",
       "      <td>36.2</td>\n",
       "    </tr>\n",
       "  </tbody>\n",
       "</table>\n",
       "</div>"
      ],
      "text/plain": [
       "      RM  LSTAT     CRIM  MEDV\n",
       "0  6.575   4.98  0.00632  24.0\n",
       "1  6.421   9.14  0.02731  21.6\n",
       "2  7.185   4.03  0.02729  34.7\n",
       "3  6.998   2.94  0.03237  33.4\n",
       "4  7.147   5.33  0.06905  36.2"
      ]
     },
     "execution_count": 19,
     "metadata": {},
     "output_type": "execute_result"
    }
   ],
   "source": [
    "# load dữ liệu giá nhà ở Boston\n",
    "\n",
    "# load tập dữ liệu boston từ sklearn\n",
    "boston_dataset = load_boston()\n",
    "\n",
    "# tạo một dataframe với các biến độc lập\n",
    "# chúng ta sẽ chỉ sử dụng 3 trong tổng số các biến cho mô phỏng này\n",
    "\n",
    "boston = pd.DataFrame(boston_dataset.data,\n",
    "                      columns=boston_dataset.feature_names)[[\n",
    "                          'RM', 'LSTAT', 'CRIM'\n",
    "                      ]]\n",
    "\n",
    "# thêm mục tiêu\n",
    "boston['MEDV'] = boston_dataset.target\n",
    "\n",
    "boston.head()"
   ]
  },
  {
   "cell_type": "code",
   "execution_count": 20,
   "metadata": {
    "id": "bcHcfUKwu5ze",
    "outputId": "75d2c12b-ddb5-426d-88cd-48c5442f84be"
   },
   "outputs": [
    {
     "data": {
      "text/plain": [
       "Winsorizer(capping_method='iqr', fold=1.5, tail='both',\n",
       "           variables=['RM', 'LSTAT', 'CRIM'])"
      ]
     },
     "execution_count": 20,
     "metadata": {},
     "output_type": "execute_result"
    }
   ],
   "source": [
    "# tạo giới hạn\n",
    "\n",
    "windsoriser = Winsorizer(capping_method='iqr', # chọn iqr cho các ranh giới quy tắc IQR hoặc gaussian cho mean và std\n",
    "                          tail='both', # giới hạn đuôi trái, phải hoặc cả 2 \n",
    "                          fold=1.5,\n",
    "                          variables=['RM', 'LSTAT', 'CRIM'])\n",
    "\n",
    "windsoriser.fit(boston)"
   ]
  },
  {
   "cell_type": "code",
   "execution_count": 21,
   "metadata": {
    "id": "foRSxCtUu5zf"
   },
   "outputs": [],
   "source": [
    "boston_t = windsoriser.transform(boston)"
   ]
  },
  {
   "cell_type": "code",
   "execution_count": 22,
   "metadata": {
    "id": "FWgmZklPu5zf",
    "outputId": "6044e911-b451-43be-b321-265d3a697e55"
   },
   "outputs": [
    {
     "data": {
      "image/png": "[encoded data removed]",
      "text/plain": [
       "<Figure size 1152x288 with 3 Axes>"
      ]
     },
     "metadata": {
      "needs_background": "light"
     },
     "output_type": "display_data"
    }
   ],
   "source": [
    "diagnostic_plots(boston, 'RM')"
   ]
  },
  {
   "cell_type": "code",
   "execution_count": 23,
   "metadata": {
    "id": "75brmrKzu5zf",
    "outputId": "7b1672ca-df40-4535-9e52-cde5003f4e66"
   },
   "outputs": [
    {
     "data": {
      "image/png": "[encoded data removed]",
      "text/plain": [
       "<Figure size 1152x288 with 3 Axes>"
      ]
     },
     "metadata": {
      "needs_background": "light"
     },
     "output_type": "display_data"
    }
   ],
   "source": [
    "diagnostic_plots(boston_t, 'RM')"
   ]
  },
  {
   "cell_type": "code",
   "execution_count": 24,
   "metadata": {
    "id": "K3cw1vVTu5zg",
    "outputId": "a487a901-075b-4690-af75-dcb65982b72e"
   },
   "outputs": [
    {
     "data": {
      "text/plain": [
       "{'RM': 4.778500000000001, 'LSTAT': -8.057500000000005, 'CRIM': -5.31051125}"
      ]
     },
     "execution_count": 24,
     "metadata": {},
     "output_type": "execute_result"
    }
   ],
   "source": [
    "# kiểm tra các giới hạn tối thiểu cho từng biến\n",
    "windsoriser.left_tail_caps_"
   ]
  },
  {
   "cell_type": "code",
   "execution_count": 25,
   "metadata": {
    "id": "eoI1IEhcu5zg",
    "outputId": "c7e5e6cd-286e-49c8-9168-ae01fc86fb69"
   },
   "outputs": [
    {
     "data": {
      "text/plain": [
       "{'RM': 7.730499999999999, 'LSTAT': 31.962500000000006, 'CRIM': 9.06963875}"
      ]
     },
     "execution_count": 25,
     "metadata": {},
     "output_type": "execute_result"
    }
   ],
   "source": [
    "# kiểm tra các giới hạn tối đa cho từng biến\n",
    "windsoriser.right_tail_caps_"
   ]
  },
  {
   "cell_type": "markdown",
   "metadata": {
    "id": "LsQJhEl4ygrd"
   },
   "source": [
    "## Phép xấp xỉ Gauss"
   ]
  },
  {
   "cell_type": "code",
   "execution_count": 26,
   "metadata": {
    "id": "mkssuXPM3-zW"
   },
   "outputs": [
    {
     "data": {
      "text/html": [
       "<div>\n",
       "<style scoped>\n",
       "    .dataframe tbody tr th:only-of-type {\n",
       "        vertical-align: middle;\n",
       "    }\n",
       "\n",
       "    .dataframe tbody tr th {\n",
       "        vertical-align: top;\n",
       "    }\n",
       "\n",
       "    .dataframe thead th {\n",
       "        text-align: right;\n",
       "    }\n",
       "</style>\n",
       "<table border=\"1\" class=\"dataframe\">\n",
       "  <thead>\n",
       "    <tr style=\"text-align: right;\">\n",
       "      <th></th>\n",
       "      <th>RM</th>\n",
       "      <th>LSTAT</th>\n",
       "      <th>CRIM</th>\n",
       "      <th>MEDV</th>\n",
       "    </tr>\n",
       "  </thead>\n",
       "  <tbody>\n",
       "    <tr>\n",
       "      <th>0</th>\n",
       "      <td>6.575</td>\n",
       "      <td>4.98</td>\n",
       "      <td>0.00632</td>\n",
       "      <td>24.0</td>\n",
       "    </tr>\n",
       "    <tr>\n",
       "      <th>1</th>\n",
       "      <td>6.421</td>\n",
       "      <td>9.14</td>\n",
       "      <td>0.02731</td>\n",
       "      <td>21.6</td>\n",
       "    </tr>\n",
       "    <tr>\n",
       "      <th>2</th>\n",
       "      <td>7.185</td>\n",
       "      <td>4.03</td>\n",
       "      <td>0.02729</td>\n",
       "      <td>34.7</td>\n",
       "    </tr>\n",
       "    <tr>\n",
       "      <th>3</th>\n",
       "      <td>6.998</td>\n",
       "      <td>2.94</td>\n",
       "      <td>0.03237</td>\n",
       "      <td>33.4</td>\n",
       "    </tr>\n",
       "    <tr>\n",
       "      <th>4</th>\n",
       "      <td>7.147</td>\n",
       "      <td>5.33</td>\n",
       "      <td>0.06905</td>\n",
       "      <td>36.2</td>\n",
       "    </tr>\n",
       "  </tbody>\n",
       "</table>\n",
       "</div>"
      ],
      "text/plain": [
       "      RM  LSTAT     CRIM  MEDV\n",
       "0  6.575   4.98  0.00632  24.0\n",
       "1  6.421   9.14  0.02731  21.6\n",
       "2  7.185   4.03  0.02729  34.7\n",
       "3  6.998   2.94  0.03237  33.4\n",
       "4  7.147   5.33  0.06905  36.2"
      ]
     },
     "execution_count": 26,
     "metadata": {},
     "output_type": "execute_result"
    }
   ],
   "source": [
    "# load dữ liệu giá nhà ở Boston\n",
    "\n",
    "# load tập dữ liệu boston từ sklearn\n",
    "boston_dataset = load_boston()\n",
    "\n",
    "# tạo một dataframe với các biến độc lập\n",
    "# chúng ta sẽ chỉ sử dụng 3 trong tổng số các biến cho mô phỏng này\n",
    "\n",
    "boston = pd.DataFrame(boston_dataset.data,\n",
    "                      columns=boston_dataset.feature_names)[[\n",
    "                          'RM', 'LSTAT', 'CRIM'\n",
    "                      ]]\n",
    "\n",
    "# thêm mục tiêu\n",
    "boston['MEDV'] = boston_dataset.target\n",
    "\n",
    "boston.head()"
   ]
  },
  {
   "cell_type": "code",
   "execution_count": 38,
   "metadata": {
    "id": "R9zTE8_KylQe"
   },
   "outputs": [],
   "source": [
    "## Yêu cầu 2\n",
    "def find_normal_boundaries(df, variable, distance):\n",
    "\n",
    "    # tính các ranh giới bên ngoài có outlier\n",
    "    # cho phân phối gauss\n",
    "\n",
    "    ## VIẾT CODE Ở ĐÂY:\n",
    "    upper_boundary = df[variable].mean() + distance * df[variable].std()\n",
    "    lower_boundary = df[variable].mean() - distance * df[variable].std()\n",
    "\n",
    "    ## VIẾT CODE Ở ĐÂY:\n",
    "    return upper_boundary, lower_boundary"
   ]
  },
  {
   "cell_type": "code",
   "execution_count": 39,
   "metadata": {
    "id": "Cb7my-VHysCE"
   },
   "outputs": [
    {
     "data": {
      "text/plain": [
       "(8.352064576980858, 4.217085917480878)"
      ]
     },
     "execution_count": 39,
     "metadata": {},
     "output_type": "execute_result"
    }
   ],
   "source": [
    "# tìm các giới hạn cho RM\n",
    "\n",
    "RM_upper_limit, RM_lower_limit = find_normal_boundaries(boston, 'RM', 3)\n",
    "RM_upper_limit, RM_lower_limit"
   ]
  },
  {
   "cell_type": "code",
   "execution_count": 40,
   "metadata": {
    "id": "E4KnUkppysEA"
   },
   "outputs": [
    {
     "data": {
      "text/plain": [
       "(33.904798293890806, -8.630761776595294)"
      ]
     },
     "execution_count": 40,
     "metadata": {},
     "output_type": "execute_result"
    }
   ],
   "source": [
    "# các giới hạn cho LSTAT\n",
    "\n",
    "LSTAT_upper_limit, LSTAT_lower_limit = find_normal_boundaries(boston, 'LSTAT', 3)\n",
    "LSTAT_upper_limit, LSTAT_lower_limit"
   ]
  },
  {
   "cell_type": "code",
   "execution_count": 41,
   "metadata": {
    "id": "XUW3yGdDysGX"
   },
   "outputs": [
    {
     "data": {
      "text/plain": [
       "(21.335220816747928, -14.936278955141296)"
      ]
     },
     "execution_count": 41,
     "metadata": {},
     "output_type": "execute_result"
    }
   ],
   "source": [
    "# các giới hạn cho CRIM\n",
    "\n",
    "CRIM_upper_limit, CRIM_lower_limit = find_normal_boundaries(boston, 'CRIM', 3)\n",
    "CRIM_upper_limit, CRIM_lower_limit"
   ]
  },
  {
   "cell_type": "code",
   "execution_count": 42,
   "metadata": {
    "id": "pQymUFNxysIl"
   },
   "outputs": [],
   "source": [
    "# thay thế các outlier bằng giới hạn max/min\n",
    "\n",
    "boston['RM']= np.where(boston['RM'] > RM_upper_limit, RM_upper_limit,\n",
    "                       np.where(boston['RM'] < RM_lower_limit, RM_lower_limit, boston['RM']))"
   ]
  },
  {
   "cell_type": "code",
   "execution_count": 43,
   "metadata": {
    "id": "M9WhbC2QysKi"
   },
   "outputs": [],
   "source": [
    "# thay thế các outlier bằng giới hạn max/min\n",
    "\n",
    "boston['LSTAT']= np.where(boston['LSTAT'] > LSTAT_upper_limit, LSTAT_upper_limit,\n",
    "                       np.where(boston['LSTAT'] < LSTAT_lower_limit, LSTAT_lower_limit, boston['LSTAT']))"
   ]
  },
  {
   "cell_type": "code",
   "execution_count": 44,
   "metadata": {
    "id": "luXcSi8CysMo"
   },
   "outputs": [],
   "source": [
    "# thay thế các outlier bằng giới hạn max/min\n",
    "\n",
    "boston['CRIM']= np.where(boston['CRIM'] > CRIM_upper_limit, CRIM_upper_limit,\n",
    "                       np.where(boston['CRIM'] < CRIM_lower_limit, CRIM_lower_limit, boston['CRIM']))"
   ]
  },
  {
   "cell_type": "code",
   "execution_count": 45,
   "metadata": {
    "id": "96TQwevxysPE"
   },
   "outputs": [
    {
     "data": {
      "image/png": "[encoded data removed]",
      "text/plain": [
       "<Figure size 1152x288 with 3 Axes>"
      ]
     },
     "metadata": {
      "needs_background": "light"
     },
     "output_type": "display_data"
    }
   ],
   "source": [
    "# khám phá các outlier trong tập dữ liệu đã cắt tỉa\n",
    "# với RM, chúng ta thấy có ít outlier hơn so với tập dữ liệu gốc\n",
    "\n",
    "diagnostic_plots(boston, 'RM')"
   ]
  },
  {
   "cell_type": "code",
   "execution_count": 46,
   "metadata": {
    "id": "iCKIGqGLy6np"
   },
   "outputs": [
    {
     "data": {
      "image/png": "[encoded data removed]",
      "text/plain": [
       "<Figure size 1152x288 with 3 Axes>"
      ]
     },
     "metadata": {
      "needs_background": "light"
     },
     "output_type": "display_data"
    }
   ],
   "source": [
    "diagnostic_plots(boston, 'LSTAT')"
   ]
  },
  {
   "cell_type": "code",
   "execution_count": 47,
   "metadata": {
    "id": "cHohqU8Zy6qC"
   },
   "outputs": [
    {
     "data": {
      "image/png": "[encoded data removed]",
      "text/plain": [
       "<Figure size 1152x288 with 3 Axes>"
      ]
     },
     "metadata": {
      "needs_background": "light"
     },
     "output_type": "display_data"
    }
   ],
   "source": [
    "diagnostic_plots(boston, 'CRIM')"
   ]
  },
  {
   "cell_type": "markdown",
   "metadata": {
    "id": "MctYpJDIy_NZ"
   },
   "source": [
    "Không có biến nào trong số các biến này được phân phối chuẩn, có lẽ là do phép xấp xỉ Gauss không loại bỏ outlier hiệu quả. Chúng ta có thể thử sử dụng khoảng cách nhỏ hơn, thay vì nhân 3 với std, có thể nhân 2 hoặc 1.5. Các con số đó được thiết lập tùy ý và không có nhiều ý nghĩa thống kê nên bác bỏ quan điểm sử dụng phép xấp xỉ Gauss.\n",
    "\n",
    "Nếu capping này không hoạt động như mong muốn, chúng ta nên sử dụng quy tắc IQR như đã thảo luận trong notebook trước hoặc quantile mà chúng ta sẽ thấy trong phần tiếp theo."
   ]
  },
  {
   "cell_type": "markdown",
   "metadata": {
    "id": "yvDNGEuKz70z"
   },
   "source": [
    "### Censoring với feature-engine"
   ]
  },
  {
   "cell_type": "code",
   "execution_count": 48,
   "metadata": {
    "id": "lzhHb6MYz84T"
   },
   "outputs": [
    {
     "data": {
      "text/html": [
       "<div>\n",
       "<style scoped>\n",
       "    .dataframe tbody tr th:only-of-type {\n",
       "        vertical-align: middle;\n",
       "    }\n",
       "\n",
       "    .dataframe tbody tr th {\n",
       "        vertical-align: top;\n",
       "    }\n",
       "\n",
       "    .dataframe thead th {\n",
       "        text-align: right;\n",
       "    }\n",
       "</style>\n",
       "<table border=\"1\" class=\"dataframe\">\n",
       "  <thead>\n",
       "    <tr style=\"text-align: right;\">\n",
       "      <th></th>\n",
       "      <th>RM</th>\n",
       "      <th>LSTAT</th>\n",
       "      <th>CRIM</th>\n",
       "      <th>MEDV</th>\n",
       "    </tr>\n",
       "  </thead>\n",
       "  <tbody>\n",
       "    <tr>\n",
       "      <th>0</th>\n",
       "      <td>6.575</td>\n",
       "      <td>4.98</td>\n",
       "      <td>0.00632</td>\n",
       "      <td>24.0</td>\n",
       "    </tr>\n",
       "    <tr>\n",
       "      <th>1</th>\n",
       "      <td>6.421</td>\n",
       "      <td>9.14</td>\n",
       "      <td>0.02731</td>\n",
       "      <td>21.6</td>\n",
       "    </tr>\n",
       "    <tr>\n",
       "      <th>2</th>\n",
       "      <td>7.185</td>\n",
       "      <td>4.03</td>\n",
       "      <td>0.02729</td>\n",
       "      <td>34.7</td>\n",
       "    </tr>\n",
       "    <tr>\n",
       "      <th>3</th>\n",
       "      <td>6.998</td>\n",
       "      <td>2.94</td>\n",
       "      <td>0.03237</td>\n",
       "      <td>33.4</td>\n",
       "    </tr>\n",
       "    <tr>\n",
       "      <th>4</th>\n",
       "      <td>7.147</td>\n",
       "      <td>5.33</td>\n",
       "      <td>0.06905</td>\n",
       "      <td>36.2</td>\n",
       "    </tr>\n",
       "  </tbody>\n",
       "</table>\n",
       "</div>"
      ],
      "text/plain": [
       "      RM  LSTAT     CRIM  MEDV\n",
       "0  6.575   4.98  0.00632  24.0\n",
       "1  6.421   9.14  0.02731  21.6\n",
       "2  7.185   4.03  0.02729  34.7\n",
       "3  6.998   2.94  0.03237  33.4\n",
       "4  7.147   5.33  0.06905  36.2"
      ]
     },
     "execution_count": 48,
     "metadata": {},
     "output_type": "execute_result"
    }
   ],
   "source": [
    "# load dữ liệu giá nhà ở Boston\n",
    "\n",
    "# load tập dữ liệu boston từ sklearn\n",
    "boston_dataset = load_boston()\n",
    "\n",
    "# tạo một dataframe với các biến độc lập\n",
    "# chúng ta sẽ chỉ sử dụng 3 trong tổng số các biến cho mô phỏng này\n",
    "\n",
    "boston = pd.DataFrame(boston_dataset.data,\n",
    "                      columns=boston_dataset.feature_names)[[\n",
    "                          'RM', 'LSTAT', 'CRIM'\n",
    "                      ]]\n",
    "\n",
    "# thêm mục tiêu\n",
    "boston['MEDV'] = boston_dataset.target\n",
    "\n",
    "boston.head()"
   ]
  },
  {
   "cell_type": "code",
   "execution_count": 49,
   "metadata": {
    "id": "RPg8q7KDz_BF"
   },
   "outputs": [
    {
     "data": {
      "text/plain": [
       "Winsorizer(tail='both', variables=['RM', 'LSTAT', 'CRIM'])"
      ]
     },
     "execution_count": 49,
     "metadata": {},
     "output_type": "execute_result"
    }
   ],
   "source": [
    "# tạo giới hạn\n",
    "\n",
    "windsoriser = Winsorizer(capping_method='gaussian', # chọn iqr cho các ranh giới quy tắc IQR hoặc gaussian cho mean và std \n",
    "                          tail='both', # giới hạn đuôi trái, phải hoặc cả 2\n",
    "                          fold=3,\n",
    "                          variables=['RM', 'LSTAT', 'CRIM'])\n",
    "\n",
    "windsoriser.fit(boston)"
   ]
  },
  {
   "cell_type": "code",
   "execution_count": 50,
   "metadata": {
    "id": "X1bI5sKJz_D6"
   },
   "outputs": [],
   "source": [
    "boston_t = windsoriser.transform(boston)"
   ]
  },
  {
   "cell_type": "code",
   "execution_count": 51,
   "metadata": {
    "id": "L4Z8lkMg0BCY"
   },
   "outputs": [
    {
     "data": {
      "image/png": "[encoded data removed]",
      "text/plain": [
       "<Figure size 1152x288 with 3 Axes>"
      ]
     },
     "metadata": {
      "needs_background": "light"
     },
     "output_type": "display_data"
    }
   ],
   "source": [
    "diagnostic_plots(boston, 'RM')"
   ]
  },
  {
   "cell_type": "code",
   "execution_count": 52,
   "metadata": {
    "id": "61YBSZD80BEm"
   },
   "outputs": [
    {
     "data": {
      "image/png": "[encoded data removed]",
      "text/plain": [
       "<Figure size 1152x288 with 3 Axes>"
      ]
     },
     "metadata": {
      "needs_background": "light"
     },
     "output_type": "display_data"
    }
   ],
   "source": [
    "diagnostic_plots(boston_t, 'RM')"
   ]
  },
  {
   "cell_type": "code",
   "execution_count": 53,
   "metadata": {
    "id": "zB7QYiglz_HT"
   },
   "outputs": [
    {
     "data": {
      "text/plain": [
       "{'RM': 4.176782957105816,\n",
       " 'LSTAT': -8.77012129293899,\n",
       " 'CRIM': -22.19111175868521}"
      ]
     },
     "execution_count": 53,
     "metadata": {},
     "output_type": "execute_result"
    }
   ],
   "source": [
    "# kiểm tra các giới hạn tối thiểu cho từng biến\n",
    "windsoriser.left_tail_caps_"
   ]
  },
  {
   "cell_type": "code",
   "execution_count": 54,
   "metadata": {
    "id": "p35AkHED0GAg"
   },
   "outputs": [
    {
     "data": {
      "text/plain": [
       "{'RM': 8.392485817597757,\n",
       " 'LSTAT': 34.07624777515244,\n",
       " 'CRIM': 29.418158873309714}"
      ]
     },
     "execution_count": 54,
     "metadata": {},
     "output_type": "execute_result"
    }
   ],
   "source": [
    "# kiểm tra các giới hạn tối đa cho từng biến\n",
    "windsoriser.right_tail_caps_"
   ]
  },
  {
   "cell_type": "code",
   "execution_count": 55,
   "metadata": {
    "id": "9aGzxca90GDI"
   },
   "outputs": [
    {
     "data": {
      "image/png": "[encoded data removed]",
      "text/plain": [
       "<Figure size 1152x288 with 3 Axes>"
      ]
     },
     "metadata": {
      "needs_background": "light"
     },
     "output_type": "display_data"
    }
   ],
   "source": [
    "diagnostic_plots(boston_t, 'CRIM')"
   ]
  },
  {
   "cell_type": "markdown",
   "metadata": {
    "id": "aNP1afeR0MET"
   },
   "source": [
    "Không có biến nào trong số các biến này được phân phối chuẩn, có lẽ là do phép xấp xỉ Gauss không loại bỏ outlier hiệu quả. Chúng ta có thể thử sử dụng khoảng cách nhỏ hơn, thay vì nhân 3 với std, có thể nhân 2 hoặc 1.5. Các con số đó được thiết lập tùy ý và không có nhiều ý nghĩa thống kê nên bác bỏ quan điểm sử dụng phép xấp xỉ Gauss.\n",
    "\n",
    "Nếu capping này không hoạt động như mong muốn, chúng ta nên sử dụng quy tắc IQR như đã thảo luận trong notebook trước hoặc quantile mà chúng ta sẽ thấy trong phần tiếp theo. "
   ]
  },
  {
   "cell_type": "markdown",
   "metadata": {
    "id": "rq6SrlHa0Qdn"
   },
   "source": [
    "## Quantile"
   ]
  },
  {
   "cell_type": "code",
   "execution_count": 56,
   "metadata": {
    "id": "Aa0cuig74BKg"
   },
   "outputs": [
    {
     "data": {
      "text/html": [
       "<div>\n",
       "<style scoped>\n",
       "    .dataframe tbody tr th:only-of-type {\n",
       "        vertical-align: middle;\n",
       "    }\n",
       "\n",
       "    .dataframe tbody tr th {\n",
       "        vertical-align: top;\n",
       "    }\n",
       "\n",
       "    .dataframe thead th {\n",
       "        text-align: right;\n",
       "    }\n",
       "</style>\n",
       "<table border=\"1\" class=\"dataframe\">\n",
       "  <thead>\n",
       "    <tr style=\"text-align: right;\">\n",
       "      <th></th>\n",
       "      <th>RM</th>\n",
       "      <th>LSTAT</th>\n",
       "      <th>CRIM</th>\n",
       "      <th>MEDV</th>\n",
       "    </tr>\n",
       "  </thead>\n",
       "  <tbody>\n",
       "    <tr>\n",
       "      <th>0</th>\n",
       "      <td>6.575</td>\n",
       "      <td>4.98</td>\n",
       "      <td>0.00632</td>\n",
       "      <td>24.0</td>\n",
       "    </tr>\n",
       "    <tr>\n",
       "      <th>1</th>\n",
       "      <td>6.421</td>\n",
       "      <td>9.14</td>\n",
       "      <td>0.02731</td>\n",
       "      <td>21.6</td>\n",
       "    </tr>\n",
       "    <tr>\n",
       "      <th>2</th>\n",
       "      <td>7.185</td>\n",
       "      <td>4.03</td>\n",
       "      <td>0.02729</td>\n",
       "      <td>34.7</td>\n",
       "    </tr>\n",
       "    <tr>\n",
       "      <th>3</th>\n",
       "      <td>6.998</td>\n",
       "      <td>2.94</td>\n",
       "      <td>0.03237</td>\n",
       "      <td>33.4</td>\n",
       "    </tr>\n",
       "    <tr>\n",
       "      <th>4</th>\n",
       "      <td>7.147</td>\n",
       "      <td>5.33</td>\n",
       "      <td>0.06905</td>\n",
       "      <td>36.2</td>\n",
       "    </tr>\n",
       "  </tbody>\n",
       "</table>\n",
       "</div>"
      ],
      "text/plain": [
       "      RM  LSTAT     CRIM  MEDV\n",
       "0  6.575   4.98  0.00632  24.0\n",
       "1  6.421   9.14  0.02731  21.6\n",
       "2  7.185   4.03  0.02729  34.7\n",
       "3  6.998   2.94  0.03237  33.4\n",
       "4  7.147   5.33  0.06905  36.2"
      ]
     },
     "execution_count": 56,
     "metadata": {},
     "output_type": "execute_result"
    }
   ],
   "source": [
    "# load dữ liệu giá nhà ở Boston\n",
    "\n",
    "# load tập dữ liệu boston từ sklearn\n",
    "boston_dataset = load_boston()\n",
    "\n",
    "# tạo một dataframe với các biến độc lập\n",
    "# chúng ta sẽ chỉ sử dụng 3 trong tổng số các biến cho mô phỏng này\n",
    "\n",
    "boston = pd.DataFrame(boston_dataset.data,\n",
    "                      columns=boston_dataset.feature_names)[[\n",
    "                          'RM', 'LSTAT', 'CRIM'\n",
    "                      ]]\n",
    "\n",
    "# thêm mục tiêu\n",
    "boston['MEDV'] = boston_dataset.target\n",
    "\n",
    "boston.head()"
   ]
  },
  {
   "cell_type": "code",
   "execution_count": 58,
   "metadata": {
    "id": "EPodMRuG0TpD"
   },
   "outputs": [],
   "source": [
    "# Yêu cầu 3\n",
    "def find_boundaries(df, variable):\n",
    "\n",
    "    # ranh giới là quantile\n",
    "\n",
    "    ## VIẾT CODE Ở ĐÂY:\n",
    "    lower_boundary = df[variable].quantile(0.05)\n",
    "    upper_boundary = df[variable].quantile(0.95)\n",
    "\n",
    "    return upper_boundary, lower_boundary"
   ]
  },
  {
   "cell_type": "code",
   "execution_count": 59,
   "metadata": {
    "id": "vKsuNiaE0rf_"
   },
   "outputs": [
    {
     "data": {
      "text/plain": [
       "(7.5875, 5.314)"
      ]
     },
     "execution_count": 59,
     "metadata": {},
     "output_type": "execute_result"
    }
   ],
   "source": [
    "# tìm các giới hạn cho RM\n",
    "\n",
    "RM_upper_limit, RM_lower_limit = find_boundaries(boston, 'RM')\n",
    "RM_upper_limit, RM_lower_limit"
   ]
  },
  {
   "cell_type": "code",
   "execution_count": 60,
   "metadata": {
    "id": "cXbSqt5Q03pD"
   },
   "outputs": [
    {
     "data": {
      "text/plain": [
       "(26.8075, 3.7075000000000005)"
      ]
     },
     "execution_count": 60,
     "metadata": {},
     "output_type": "execute_result"
    }
   ],
   "source": [
    "# các giới hạn cho LSTAT\n",
    "\n",
    "LSTAT_upper_limit, LSTAT_lower_limit = find_boundaries(boston, 'LSTAT')\n",
    "LSTAT_upper_limit, LSTAT_lower_limit"
   ]
  },
  {
   "cell_type": "code",
   "execution_count": 61,
   "metadata": {
    "id": "TjKUoxcH03rl"
   },
   "outputs": [
    {
     "data": {
      "text/plain": [
       "(15.78915, 0.027909999999999997)"
      ]
     },
     "execution_count": 61,
     "metadata": {},
     "output_type": "execute_result"
    }
   ],
   "source": [
    "# các giới hạn cho CRIM\n",
    "\n",
    "CRIM_upper_limit, CRIM_lower_limit = find_boundaries(boston, 'CRIM')\n",
    "CRIM_upper_limit, CRIM_lower_limit"
   ]
  },
  {
   "cell_type": "code",
   "execution_count": 62,
   "metadata": {
    "id": "7dfUCWHF03wQ"
   },
   "outputs": [],
   "source": [
    "# thay các outlier bằng giới hạn max và min\n",
    "\n",
    "boston['RM']= np.where(boston['RM'] > RM_upper_limit, RM_upper_limit,\n",
    "                       np.where(boston['RM'] < RM_lower_limit, RM_lower_limit, boston['RM']))"
   ]
  },
  {
   "cell_type": "code",
   "execution_count": 63,
   "metadata": {
    "id": "L5asZqxz03yb"
   },
   "outputs": [],
   "source": [
    "# thay các outlier bằng giới hạn max và min\n",
    "\n",
    "boston['LSTAT']= np.where(boston['LSTAT'] > LSTAT_upper_limit, LSTAT_upper_limit,\n",
    "                       np.where(boston['LSTAT'] < LSTAT_lower_limit, LSTAT_lower_limit, boston['LSTAT']))"
   ]
  },
  {
   "cell_type": "code",
   "execution_count": 64,
   "metadata": {
    "id": "MkflOaLw030o"
   },
   "outputs": [],
   "source": [
    "# thay các outlier bằng giới hạn max và min\n",
    "\n",
    "boston['CRIM']= np.where(boston['CRIM'] > CRIM_upper_limit, CRIM_upper_limit,\n",
    "                       np.where(boston['CRIM'] < CRIM_lower_limit, CRIM_lower_limit, boston['CRIM']))"
   ]
  },
  {
   "cell_type": "code",
   "execution_count": 65,
   "metadata": {
    "id": "igaSrt8r032r"
   },
   "outputs": [
    {
     "data": {
      "image/png": "[encoded data removed]",
      "text/plain": [
       "<Figure size 1152x288 with 3 Axes>"
      ]
     },
     "metadata": {
      "needs_background": "light"
     },
     "output_type": "display_data"
    }
   ],
   "source": [
    "# khám phá các outlier trong tập dữ liệu đã cắt tỉa\n",
    "# với RM, chúng ta thấy có ít outlier hơn so với tập dữ liệu gốc\n",
    "\n",
    "diagnostic_plots(boston, 'RM')"
   ]
  },
  {
   "cell_type": "code",
   "execution_count": 66,
   "metadata": {
    "id": "-3h191AR0_EF"
   },
   "outputs": [
    {
     "data": {
      "image/png": "[encoded data removed]",
      "text/plain": [
       "<Figure size 1152x288 with 3 Axes>"
      ]
     },
     "metadata": {
      "needs_background": "light"
     },
     "output_type": "display_data"
    }
   ],
   "source": [
    "diagnostic_plots(boston, 'LSTAT')"
   ]
  },
  {
   "cell_type": "code",
   "execution_count": 67,
   "metadata": {
    "id": "qExRKr0N0_J4"
   },
   "outputs": [
    {
     "data": {
      "image/png": "[encoded data removed]",
      "text/plain": [
       "<Figure size 1152x288 with 3 Axes>"
      ]
     },
     "metadata": {
      "needs_background": "light"
     },
     "output_type": "display_data"
    }
   ],
   "source": [
    "diagnostic_plots(boston, 'CRIM')"
   ]
  },
  {
   "cell_type": "markdown",
   "metadata": {
    "id": "rCmOHIn31Ef5"
   },
   "source": [
    "Các outlier đã biến mất nhưng phân phối biến bị sai lệch một ít."
   ]
  },
  {
   "cell_type": "markdown",
   "metadata": {
    "id": "96H4PUh41F0Y"
   },
   "source": [
    "### Censoring với feature-engine"
   ]
  },
  {
   "cell_type": "code",
   "execution_count": 68,
   "metadata": {
    "id": "oEAB5hvE1H-i"
   },
   "outputs": [
    {
     "data": {
      "text/html": [
       "<div>\n",
       "<style scoped>\n",
       "    .dataframe tbody tr th:only-of-type {\n",
       "        vertical-align: middle;\n",
       "    }\n",
       "\n",
       "    .dataframe tbody tr th {\n",
       "        vertical-align: top;\n",
       "    }\n",
       "\n",
       "    .dataframe thead th {\n",
       "        text-align: right;\n",
       "    }\n",
       "</style>\n",
       "<table border=\"1\" class=\"dataframe\">\n",
       "  <thead>\n",
       "    <tr style=\"text-align: right;\">\n",
       "      <th></th>\n",
       "      <th>RM</th>\n",
       "      <th>LSTAT</th>\n",
       "      <th>CRIM</th>\n",
       "      <th>MEDV</th>\n",
       "    </tr>\n",
       "  </thead>\n",
       "  <tbody>\n",
       "    <tr>\n",
       "      <th>0</th>\n",
       "      <td>6.575</td>\n",
       "      <td>4.98</td>\n",
       "      <td>0.00632</td>\n",
       "      <td>24.0</td>\n",
       "    </tr>\n",
       "    <tr>\n",
       "      <th>1</th>\n",
       "      <td>6.421</td>\n",
       "      <td>9.14</td>\n",
       "      <td>0.02731</td>\n",
       "      <td>21.6</td>\n",
       "    </tr>\n",
       "    <tr>\n",
       "      <th>2</th>\n",
       "      <td>7.185</td>\n",
       "      <td>4.03</td>\n",
       "      <td>0.02729</td>\n",
       "      <td>34.7</td>\n",
       "    </tr>\n",
       "    <tr>\n",
       "      <th>3</th>\n",
       "      <td>6.998</td>\n",
       "      <td>2.94</td>\n",
       "      <td>0.03237</td>\n",
       "      <td>33.4</td>\n",
       "    </tr>\n",
       "    <tr>\n",
       "      <th>4</th>\n",
       "      <td>7.147</td>\n",
       "      <td>5.33</td>\n",
       "      <td>0.06905</td>\n",
       "      <td>36.2</td>\n",
       "    </tr>\n",
       "  </tbody>\n",
       "</table>\n",
       "</div>"
      ],
      "text/plain": [
       "      RM  LSTAT     CRIM  MEDV\n",
       "0  6.575   4.98  0.00632  24.0\n",
       "1  6.421   9.14  0.02731  21.6\n",
       "2  7.185   4.03  0.02729  34.7\n",
       "3  6.998   2.94  0.03237  33.4\n",
       "4  7.147   5.33  0.06905  36.2"
      ]
     },
     "execution_count": 68,
     "metadata": {},
     "output_type": "execute_result"
    }
   ],
   "source": [
    "# load dữ liệu giá nhà ở Boston\n",
    "\n",
    "# load tập dữ liệu boston từ sklearn\n",
    "boston_dataset = load_boston()\n",
    "\n",
    "# tạo một dataframe với các biến độc lập\n",
    "# chúng ta sẽ chỉ sử dụng 3 trong tổng số các biến cho mô phỏng này\n",
    "\n",
    "boston = pd.DataFrame(boston_dataset.data,\n",
    "                      columns=boston_dataset.feature_names)[[\n",
    "                          'RM', 'LSTAT', 'CRIM'\n",
    "                      ]]\n",
    "\n",
    "# thêm mục tiêu\n",
    "boston['MEDV'] = boston_dataset.target\n",
    "\n",
    "boston.head()"
   ]
  },
  {
   "cell_type": "code",
   "execution_count": 69,
   "metadata": {
    "id": "GLbG26q71Lpx"
   },
   "outputs": [
    {
     "data": {
      "text/plain": [
       "Winsorizer(capping_method='quantiles', fold=0.05, tail='both',\n",
       "           variables=['RM', 'LSTAT', 'CRIM'])"
      ]
     },
     "execution_count": 69,
     "metadata": {},
     "output_type": "execute_result"
    }
   ],
   "source": [
    "# tạo giới hạn\n",
    "\n",
    "windsoriser = Winsorizer(capping_method='quantiles', # chọn từ iqr, gaussian hoặc quantiles\n",
    "                          tail='both', # cap left, right or both tails giới hạn đuôi trái, phải hoặc cả 2\n",
    "                          fold=0.05,\n",
    "                          variables=['RM', 'LSTAT', 'CRIM'])\n",
    "\n",
    "windsoriser.fit(boston)"
   ]
  },
  {
   "cell_type": "code",
   "execution_count": 70,
   "metadata": {
    "id": "2-SzSI_v1LsN"
   },
   "outputs": [],
   "source": [
    "boston_t = windsoriser.transform(boston)"
   ]
  },
  {
   "cell_type": "code",
   "execution_count": 71,
   "metadata": {
    "id": "rCWwhQZq1Lui"
   },
   "outputs": [
    {
     "data": {
      "image/png": "[encoded data removed]",
      "text/plain": [
       "<Figure size 1152x288 with 3 Axes>"
      ]
     },
     "metadata": {
      "needs_background": "light"
     },
     "output_type": "display_data"
    }
   ],
   "source": [
    "diagnostic_plots(boston_t, 'RM')"
   ]
  },
  {
   "cell_type": "code",
   "execution_count": 72,
   "metadata": {
    "id": "qe9iSNc61P1L"
   },
   "outputs": [
    {
     "data": {
      "text/plain": [
       "{'RM': 5.314, 'LSTAT': 3.7075000000000005, 'CRIM': 0.027909999999999997}"
      ]
     },
     "execution_count": 72,
     "metadata": {},
     "output_type": "execute_result"
    }
   ],
   "source": [
    "# kiểm tra các giới hạn tối thiểu cho từng biến\n",
    "windsoriser.left_tail_caps_"
   ]
  },
  {
   "cell_type": "code",
   "execution_count": 73,
   "metadata": {
    "id": "GkVt2xs41P3n"
   },
   "outputs": [
    {
     "data": {
      "text/plain": [
       "{'RM': 7.5875, 'LSTAT': 26.8075, 'CRIM': 15.78915}"
      ]
     },
     "execution_count": 73,
     "metadata": {},
     "output_type": "execute_result"
    }
   ],
   "source": [
    "# kiểm tra các giới hạn tối đa cho từng biến\n",
    "windsoriser.right_tail_caps_"
   ]
  },
  {
   "cell_type": "markdown",
   "metadata": {
    "id": "MZ3nMAYx1Unz"
   },
   "source": [
    "## Giới hạn tùy ý"
   ]
  },
  {
   "cell_type": "code",
   "execution_count": 75,
   "metadata": {
    "id": "CJyG8t4s2RUV"
   },
   "outputs": [],
   "source": [
    "# hàm để load tập dữ liệu titanic\n",
    "\n",
    "def load_titanic():\n",
    "    data = pd.read_csv('./datatset/titanic.csv')\n",
    "    data['cabin'] = data['cabin'].astype(str).str[0]\n",
    "    data['pclass'] = data['pclass'].astype('O')\n",
    "    data['embarked'].fillna('C', inplace=True)\n",
    "    return data"
   ]
  },
  {
   "cell_type": "code",
   "execution_count": 76,
   "metadata": {
    "id": "1Ozxxp4u2VUi"
   },
   "outputs": [
    {
     "data": {
      "text/html": [
       "<div>\n",
       "<style scoped>\n",
       "    .dataframe tbody tr th:only-of-type {\n",
       "        vertical-align: middle;\n",
       "    }\n",
       "\n",
       "    .dataframe tbody tr th {\n",
       "        vertical-align: top;\n",
       "    }\n",
       "\n",
       "    .dataframe thead th {\n",
       "        text-align: right;\n",
       "    }\n",
       "</style>\n",
       "<table border=\"1\" class=\"dataframe\">\n",
       "  <thead>\n",
       "    <tr style=\"text-align: right;\">\n",
       "      <th></th>\n",
       "      <th>pclass</th>\n",
       "      <th>survived</th>\n",
       "      <th>name</th>\n",
       "      <th>sex</th>\n",
       "      <th>age</th>\n",
       "      <th>sibsp</th>\n",
       "      <th>parch</th>\n",
       "      <th>ticket</th>\n",
       "      <th>fare</th>\n",
       "      <th>cabin</th>\n",
       "      <th>embarked</th>\n",
       "      <th>boat</th>\n",
       "      <th>body</th>\n",
       "      <th>home.dest</th>\n",
       "    </tr>\n",
       "  </thead>\n",
       "  <tbody>\n",
       "    <tr>\n",
       "      <th>0</th>\n",
       "      <td>1</td>\n",
       "      <td>1</td>\n",
       "      <td>Allen, Miss. Elisabeth Walton</td>\n",
       "      <td>female</td>\n",
       "      <td>29.0000</td>\n",
       "      <td>0</td>\n",
       "      <td>0</td>\n",
       "      <td>24160</td>\n",
       "      <td>211.3375</td>\n",
       "      <td>B</td>\n",
       "      <td>S</td>\n",
       "      <td>2</td>\n",
       "      <td>NaN</td>\n",
       "      <td>St Louis, MO</td>\n",
       "    </tr>\n",
       "    <tr>\n",
       "      <th>1</th>\n",
       "      <td>1</td>\n",
       "      <td>1</td>\n",
       "      <td>Allison, Master. Hudson Trevor</td>\n",
       "      <td>male</td>\n",
       "      <td>0.9167</td>\n",
       "      <td>1</td>\n",
       "      <td>2</td>\n",
       "      <td>113781</td>\n",
       "      <td>151.5500</td>\n",
       "      <td>C</td>\n",
       "      <td>S</td>\n",
       "      <td>11</td>\n",
       "      <td>NaN</td>\n",
       "      <td>Montreal, PQ / Chesterville, ON</td>\n",
       "    </tr>\n",
       "    <tr>\n",
       "      <th>2</th>\n",
       "      <td>1</td>\n",
       "      <td>0</td>\n",
       "      <td>Allison, Miss. Helen Loraine</td>\n",
       "      <td>female</td>\n",
       "      <td>2.0000</td>\n",
       "      <td>1</td>\n",
       "      <td>2</td>\n",
       "      <td>113781</td>\n",
       "      <td>151.5500</td>\n",
       "      <td>C</td>\n",
       "      <td>S</td>\n",
       "      <td>NaN</td>\n",
       "      <td>NaN</td>\n",
       "      <td>Montreal, PQ / Chesterville, ON</td>\n",
       "    </tr>\n",
       "    <tr>\n",
       "      <th>3</th>\n",
       "      <td>1</td>\n",
       "      <td>0</td>\n",
       "      <td>Allison, Mr. Hudson Joshua Creighton</td>\n",
       "      <td>male</td>\n",
       "      <td>30.0000</td>\n",
       "      <td>1</td>\n",
       "      <td>2</td>\n",
       "      <td>113781</td>\n",
       "      <td>151.5500</td>\n",
       "      <td>C</td>\n",
       "      <td>S</td>\n",
       "      <td>NaN</td>\n",
       "      <td>135.0</td>\n",
       "      <td>Montreal, PQ / Chesterville, ON</td>\n",
       "    </tr>\n",
       "    <tr>\n",
       "      <th>4</th>\n",
       "      <td>1</td>\n",
       "      <td>0</td>\n",
       "      <td>Allison, Mrs. Hudson J C (Bessie Waldo Daniels)</td>\n",
       "      <td>female</td>\n",
       "      <td>25.0000</td>\n",
       "      <td>1</td>\n",
       "      <td>2</td>\n",
       "      <td>113781</td>\n",
       "      <td>151.5500</td>\n",
       "      <td>C</td>\n",
       "      <td>S</td>\n",
       "      <td>NaN</td>\n",
       "      <td>NaN</td>\n",
       "      <td>Montreal, PQ / Chesterville, ON</td>\n",
       "    </tr>\n",
       "  </tbody>\n",
       "</table>\n",
       "</div>"
      ],
      "text/plain": [
       "  pclass  survived                                             name     sex  \\\n",
       "0      1         1                    Allen, Miss. Elisabeth Walton  female   \n",
       "1      1         1                   Allison, Master. Hudson Trevor    male   \n",
       "2      1         0                     Allison, Miss. Helen Loraine  female   \n",
       "3      1         0             Allison, Mr. Hudson Joshua Creighton    male   \n",
       "4      1         0  Allison, Mrs. Hudson J C (Bessie Waldo Daniels)  female   \n",
       "\n",
       "       age  sibsp  parch  ticket      fare cabin embarked boat   body  \\\n",
       "0  29.0000      0      0   24160  211.3375     B        S    2    NaN   \n",
       "1   0.9167      1      2  113781  151.5500     C        S   11    NaN   \n",
       "2   2.0000      1      2  113781  151.5500     C        S  NaN    NaN   \n",
       "3  30.0000      1      2  113781  151.5500     C        S  NaN  135.0   \n",
       "4  25.0000      1      2  113781  151.5500     C        S  NaN    NaN   \n",
       "\n",
       "                         home.dest  \n",
       "0                     St Louis, MO  \n",
       "1  Montreal, PQ / Chesterville, ON  \n",
       "2  Montreal, PQ / Chesterville, ON  \n",
       "3  Montreal, PQ / Chesterville, ON  \n",
       "4  Montreal, PQ / Chesterville, ON  "
      ]
     },
     "execution_count": 76,
     "metadata": {},
     "output_type": "execute_result"
    }
   ],
   "source": [
    "data = load_titanic()\n",
    "data.head()"
   ]
  },
  {
   "cell_type": "markdown",
   "metadata": {
    "id": "HU58wBYd2VtC"
   },
   "source": [
    "### ArbitraryOutlierCapper\n",
    "\n",
    "ArbitraryOutlierCapper giới hạn các giá trị min và max bằng một giá trị do người dùng xác định. "
   ]
  },
  {
   "cell_type": "code",
   "execution_count": 77,
   "metadata": {
    "id": "Kejzt6kZ2Yhq"
   },
   "outputs": [
    {
     "data": {
      "text/plain": [
       "(80.0, 512.3292)"
      ]
     },
     "execution_count": 77,
     "metadata": {},
     "output_type": "execute_result"
    }
   ],
   "source": [
    "# Yêu cầu 4\n",
    "# tìm Age và Fare max trong titanic\n",
    "\n",
    "## VIẾT CODE Ở ĐÂY:\n",
    "data.age.max(), data.fare.max()"
   ]
  },
  {
   "cell_type": "code",
   "execution_count": 79,
   "metadata": {
    "id": "-m_zaM6g2eMZ"
   },
   "outputs": [
    {
     "data": {
      "text/plain": [
       "ArbitraryOutlierCapper(max_capping_dict={'age': 50, 'fare': 200})"
      ]
     },
     "execution_count": 79,
     "metadata": {},
     "output_type": "execute_result"
    }
   ],
   "source": [
    "# Yêu cầu 5\n",
    "\n",
    "## VIẾT CODE Ở ĐÂY:\n",
    "capper = ArbitraryOutlierCapper(max_capping_dict={'age': 50, 'fare': 200},\n",
    "                                min_capping_dict=None)\n",
    "## VIẾT CODE Ở ĐÂY:\n",
    "capper.fit(data.fillna(0))"
   ]
  },
  {
   "cell_type": "markdown",
   "metadata": {
    "id": "GpNp_0YuK81B"
   },
   "source": [
    "<details><summary> Gợi ý </summary>\n",
    "\n",
    "[ArbitraryOutlierCapper()](https://feature-engine.readthedocs.io/en/latest/outliers/ArbitraryOutlierCapper.html)\n",
    "\n",
    "</details>"
   ]
  },
  {
   "cell_type": "code",
   "execution_count": 80,
   "metadata": {
    "id": "m5_wGd342eOt"
   },
   "outputs": [
    {
     "data": {
      "text/plain": [
       "{'age': 50, 'fare': 200}"
      ]
     },
     "execution_count": 80,
     "metadata": {},
     "output_type": "execute_result"
    }
   ],
   "source": [
    "capper.right_tail_caps_"
   ]
  },
  {
   "cell_type": "code",
   "execution_count": 81,
   "metadata": {
    "id": "PDtE2zAP2eRT"
   },
   "outputs": [
    {
     "data": {
      "text/plain": [
       "{}"
      ]
     },
     "execution_count": 81,
     "metadata": {},
     "output_type": "execute_result"
    }
   ],
   "source": [
    "capper.left_tail_caps_"
   ]
  },
  {
   "cell_type": "code",
   "execution_count": 82,
   "metadata": {
    "id": "zhNCecGo2heG"
   },
   "outputs": [
    {
     "data": {
      "text/plain": [
       "(50.0, 200.0)"
      ]
     },
     "execution_count": 82,
     "metadata": {},
     "output_type": "execute_result"
    }
   ],
   "source": [
    "temp = capper.transform(data.fillna(0))\n",
    "\n",
    "temp.age.max(), temp.fare.max()"
   ]
  },
  {
   "cell_type": "markdown",
   "metadata": {
    "id": "3rC9N8A22mSR"
   },
   "source": [
    "### Min capping"
   ]
  },
  {
   "cell_type": "code",
   "execution_count": 83,
   "metadata": {
    "id": "bxTAAb9Y2mut"
   },
   "outputs": [
    {
     "data": {
      "text/plain": [
       "ArbitraryOutlierCapper(min_capping_dict={'age': 10, 'fare': 100})"
      ]
     },
     "execution_count": 83,
     "metadata": {},
     "output_type": "execute_result"
    }
   ],
   "source": [
    "# Yêu cầu 6\n",
    "\n",
    "## VIẾT CODE Ở ĐÂY:\n",
    "capper = ArbitraryOutlierCapper(max_capping_dict=None,\n",
    "                                min_capping_dict={\n",
    "                                    'age': 10,\n",
    "                                    'fare': 100\n",
    "                                })\n",
    "capper.fit(data.fillna(0))"
   ]
  },
  {
   "cell_type": "code",
   "execution_count": 87,
   "metadata": {
    "id": "V0eRPjK92o2H"
   },
   "outputs": [
    {
     "data": {
      "text/plain": [
       "['age', 'fare']"
      ]
     },
     "execution_count": 87,
     "metadata": {},
     "output_type": "execute_result"
    }
   ],
   "source": [
    "capper.variables_"
   ]
  },
  {
   "cell_type": "code",
   "execution_count": 88,
   "metadata": {
    "id": "n4X4zXNz2o5R"
   },
   "outputs": [
    {
     "data": {
      "text/plain": [
       "{}"
      ]
     },
     "execution_count": 88,
     "metadata": {},
     "output_type": "execute_result"
    }
   ],
   "source": [
    "capper.right_tail_caps_"
   ]
  },
  {
   "cell_type": "code",
   "execution_count": 89,
   "metadata": {
    "id": "TRfngv5R2o7N"
   },
   "outputs": [
    {
     "data": {
      "text/plain": [
       "{'age': 10, 'fare': 100}"
      ]
     },
     "execution_count": 89,
     "metadata": {},
     "output_type": "execute_result"
    }
   ],
   "source": [
    "capper.left_tail_caps_"
   ]
  },
  {
   "cell_type": "code",
   "execution_count": 90,
   "metadata": {
    "id": "DRIrMD912sVZ"
   },
   "outputs": [
    {
     "data": {
      "text/plain": [
       "(10.0, 100.0)"
      ]
     },
     "execution_count": 90,
     "metadata": {},
     "output_type": "execute_result"
    }
   ],
   "source": [
    "temp = capper.transform(data.fillna(0))\n",
    "\n",
    "temp.age.min(), temp.fare.min()"
   ]
  },
  {
   "cell_type": "markdown",
   "metadata": {
    "id": "7mUPQXF_2vmn"
   },
   "source": [
    "### Giới hạn cả 2 đầu"
   ]
  },
  {
   "cell_type": "code",
   "execution_count": 92,
   "metadata": {
    "id": "t8WxzDiC2w9S"
   },
   "outputs": [
    {
     "data": {
      "text/plain": [
       "ArbitraryOutlierCapper(max_capping_dict={'age': 50, 'fare': 200},\n",
       "                       min_capping_dict={'age': 10, 'fare': 100})"
      ]
     },
     "execution_count": 92,
     "metadata": {},
     "output_type": "execute_result"
    }
   ],
   "source": [
    "# Yêu cầu 7\n",
    "capper = ArbitraryOutlierCapper(max_capping_dict={\n",
    "    'age': 50, 'fare': 200},\n",
    "    min_capping_dict={\n",
    "    'age': 10, 'fare': 100})\n",
    "\n",
    "capper.fit(data.fillna(0))"
   ]
  },
  {
   "cell_type": "code",
   "execution_count": 93,
   "metadata": {
    "id": "_w8m3LvC2z5p"
   },
   "outputs": [
    {
     "data": {
      "text/plain": [
       "{'age': 50, 'fare': 200}"
      ]
     },
     "execution_count": 93,
     "metadata": {},
     "output_type": "execute_result"
    }
   ],
   "source": [
    "capper.right_tail_caps_"
   ]
  },
  {
   "cell_type": "code",
   "execution_count": 94,
   "metadata": {
    "id": "WizKzih922qi"
   },
   "outputs": [
    {
     "data": {
      "text/plain": [
       "{'age': 10, 'fare': 100}"
      ]
     },
     "execution_count": 94,
     "metadata": {},
     "output_type": "execute_result"
    }
   ],
   "source": [
    "capper.left_tail_caps_"
   ]
  },
  {
   "cell_type": "code",
   "execution_count": 95,
   "metadata": {
    "id": "dTWXMlUt22uw"
   },
   "outputs": [
    {
     "data": {
      "text/plain": [
       "(10.0, 100.0)"
      ]
     },
     "execution_count": 95,
     "metadata": {},
     "output_type": "execute_result"
    }
   ],
   "source": [
    "temp = capper.transform(data.fillna(0))\n",
    "\n",
    "temp.age.min(), temp.fare.min()"
   ]
  },
  {
   "cell_type": "code",
   "execution_count": 96,
   "metadata": {
    "id": "msHcY5qy22ys"
   },
   "outputs": [
    {
     "data": {
      "text/plain": [
       "(50.0, 200.0)"
      ]
     },
     "execution_count": 96,
     "metadata": {},
     "output_type": "execute_result"
    }
   ],
   "source": [
    "temp.age.max(), temp.fare.max()"
   ]
  },
  {
   "cell_type": "markdown",
   "metadata": {
    "id": "g_z7eG2427vn"
   },
   "source": [
    "## Feature-engine\n",
    "\n",
    "Chúng ta có thể tự động hóa quá trình này với Feature-engine:\n",
    "https://feature-engine.readthedocs.io/en/latest/outliers/ArbitraryOutlierCapper.html"
   ]
  },
  {
   "cell_type": "code",
   "execution_count": null,
   "metadata": {
    "id": "8uccDvW128Ew"
   },
   "outputs": [],
   "source": []
  }
 ],
 "metadata": {
  "colab": {
   "collapsed_sections": [],
   "name": "10.2 Xử lý outlier.ipynb",
   "provenance": [],
   "toc_visible": true
  },
  "kernelspec": {
   "display_name": "Python 3",
   "language": "python",
   "name": "python3"
  },
  "language_info": {
   "codemirror_mode": {
    "name": "ipython",
    "version": 3
   },
   "file_extension": ".py",
   "mimetype": "text/x-python",
   "name": "python",
   "nbconvert_exporter": "python",
   "pygments_lexer": "ipython3",
   "version": "3.8.8"
  },
  "toc": {
   "base_numbering": 1,
   "nav_menu": {},
   "number_sections": true,
   "sideBar": true,
   "skip_h1_title": false,
   "title_cell": "Table of Contents",
   "title_sidebar": "Contents",
   "toc_cell": false,
   "toc_position": {},
   "toc_section_display": "block",
   "toc_window_display": true
  }
 },
 "nbformat": 4,
 "nbformat_minor": 1
}
