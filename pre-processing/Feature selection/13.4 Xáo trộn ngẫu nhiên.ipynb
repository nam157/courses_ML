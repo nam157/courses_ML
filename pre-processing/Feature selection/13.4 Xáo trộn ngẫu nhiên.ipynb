{
 "cells": [
  {
   "cell_type": "markdown",
   "metadata": {
    "id": "u2Rimz3QkPeZ"
   },
   "source": [
    "## Lựa chọn đặc trưng bằng cách xáo trộn ngẫu nhiên\n",
    "\n",
    "Phương pháp phổ biến để lựa chọn đặc trưng gồm xáo trộn ngẫu nhiên các giá trị của một biến cụ thể và xác định hoán vị đó ảnh hưởng thế nào đến phép đo chất lượng của thuật toán học máy. Nói cách khác, ý tưởng là hoán vị các giá trị của từng đặc trưng tại thời điểm đó và đo lường mức độ hoán vị (hoặc xáo trộn các giá trị của nó) làm giảm độ chính xác hay roc_auc hoặc mse của mô hình học máy (hoặc bất kỳ phép đo chất lượng nào khác!). Nếu các biến quan trọng thì hoán vị ngẫu nhiên các giá trị sẽ giảm đáng kể bất kỳ phép đo nào trong số này. Ngược lại, hoán vị hoặc xáo trộn các giá trị sẽ ít hoặc không ảnh hưởng đến phép đo chất lượng mô hình mà chúng ta đang đánh giá.\n",
    "\n",
    "Quy trình sẽ như sau:\n",
    "\n",
    "- Xây dựng mô hình học máy và lưu trữ phép đo chất lượng.\n",
    "- Xáo trộn 1 đặc trưng và đưa ra dự đoán mới sử dụng mô hình trước đó.\n",
    "- Xác định chất lượng của dự đoán này.\n",
    "- Xác định thay đổi về chất lượng của dự đoán với các đặc trưng đã xáo trộn với đặc trưng ban đầu.\n",
    "- Lặp lại cho từng đặc trưng.\n",
    "\n",
    "Để lựa chọn đặc trưng, chúng ta sẽ chọn những thứ làm giảm hiệu suất của mô hình, vượt quá ngưỡng được thiết lập tùy ý.\n",
    "\n",
    "Chúng ta sẽ mô phỏng cách lựa chọn đặc trưng sử dụng xáo trộn ngẫu nhiên trên bài toán hồi quy và phân loại.\n",
    "\n",
    "**Lưu ý:** Với mô phỏng, chúng ta sẽ tiếp tục sử dụng Rừng ngẫu nhiên, nhưng quy trình lựa chọn này có thể được sử dụng với thuật toán học máy. Trên thực tế, cần xác định cụ thể tầm quan trọng của các đặc trưng cho thuật toán được sử dụng. Do đó, các thuật toán khác nhau có thể trả về các tập hợp con khác nhau của các đặc trưng quan trọng. "
   ]
  },
  {
   "cell_type": "code",
   "execution_count": 1,
   "metadata": {
    "id": "geOQf3pXkPec"
   },
   "outputs": [],
   "source": [
    "import pandas as pd\n",
    "import numpy as np\n",
    "\n",
    "from sklearn.model_selection import train_test_split\n",
    "\n",
    "from sklearn.ensemble import RandomForestClassifier, RandomForestRegressor\n",
    "from sklearn.metrics import roc_auc_score, mean_squared_error, r2_score"
   ]
  },
  {
   "cell_type": "markdown",
   "metadata": {
    "id": "ttQLTCgIkPeu"
   },
   "source": [
    "## Hồi quy"
   ]
  },
  {
   "cell_type": "code",
   "execution_count": 2,
   "metadata": {
    "id": "39CWMpySkPeu",
    "outputId": "801f454c-1a65-4152-db88-ee9839621303"
   },
   "outputs": [
    {
     "data": {
      "text/plain": [
       "(1460, 81)"
      ]
     },
     "execution_count": 2,
     "metadata": {},
     "output_type": "execute_result"
    }
   ],
   "source": [
    "# load tập dữ liệu\n",
    "data = pd.read_csv('./datatset/house-price/houseprice.csv')\n",
    "data.shape"
   ]
  },
  {
   "cell_type": "code",
   "execution_count": 3,
   "metadata": {
    "id": "H-vTLzJ2kPev",
    "outputId": "2189302d-e1d6-447a-b173-bd261b5ee375"
   },
   "outputs": [
    {
     "data": {
      "text/plain": [
       "(1460, 38)"
      ]
     },
     "execution_count": 3,
     "metadata": {},
     "output_type": "execute_result"
    }
   ],
   "source": [
    "# Trên thực tế, nên thực hiện lựa chọn đặc trưng sau khi tiền xử lý dữ liệu,\n",
    "# tất cả các biến hạng mục được mà hóa thành số,\n",
    "# và rồi chúng ta có thể đánh giá tính tất định của các mục tiêu\n",
    "\n",
    "# để đơn giản, chúng ta sẽ chỉ sử dụng biến dạng số\n",
    "# lựa chọn các cột số:\n",
    "\n",
    "numerics = ['int16', 'int32', 'int64', 'float16', 'float32', 'float64']\n",
    "numerical_vars = list(data.select_dtypes(include=numerics).columns)\n",
    "data = data[numerical_vars]\n",
    "data.shape"
   ]
  },
  {
   "cell_type": "code",
   "execution_count": 4,
   "metadata": {
    "id": "N7TArOhtkPev",
    "outputId": "a7239500-ee5d-4547-dd27-8a7a0f68019f"
   },
   "outputs": [
    {
     "data": {
      "text/plain": [
       "((1022, 36), (438, 36))"
      ]
     },
     "execution_count": 4,
     "metadata": {},
     "output_type": "execute_result"
    }
   ],
   "source": [
    "# chia thành tập huấn luyện và tập kiểm tra\n",
    "X_train, X_test, y_train, y_test = train_test_split(\n",
    "    data.drop(labels=['Id', 'SalePrice'], axis=1),\n",
    "    data['SalePrice'],\n",
    "    test_size=0.3,\n",
    "    random_state=0)\n",
    "\n",
    "X_train.shape, X_test.shape"
   ]
  },
  {
   "cell_type": "code",
   "execution_count": 5,
   "metadata": {
    "id": "_T1SE7QgkPev"
   },
   "outputs": [],
   "source": [
    "# với phương pháp này, cần thiết lập lại các index của \n",
    "# tập dữ liệu trả về\n",
    "\n",
    "X_train.reset_index(drop=True, inplace=True)\n",
    "X_test.reset_index(drop=True, inplace=True)"
   ]
  },
  {
   "cell_type": "code",
   "execution_count": 6,
   "metadata": {
    "id": "t9KBNuMGkPev"
   },
   "outputs": [],
   "source": [
    "X_train = X_train.fillna(0)\n",
    "X_test = X_test.fillna(0)"
   ]
  },
  {
   "cell_type": "markdown",
   "metadata": {
    "id": "ApHP9x8akPew"
   },
   "source": [
    "### Huấn luyện thuật toán học máy với tất cả các đặc trưng"
   ]
  },
  {
   "cell_type": "code",
   "execution_count": 7,
   "metadata": {
    "id": "uniHVjlFkPew",
    "outputId": "64bafbc7-0b34-479c-fb3b-11fec71f8486",
    "scrolled": true
   },
   "outputs": [
    {
     "name": "stdout",
     "output_type": "stream",
     "text": [
      "train rmse:  34125.46855017603\n",
      "train r2:  0.8090829266232026\n",
      "\n",
      "test rmse:  1533833250.8284774\n",
      "test r2:  0.7740705281238518\n"
     ]
    }
   ],
   "source": [
    "## Yêu cầu 1\n",
    "# Bước đầu tiên là xác định độ quan trọng bằng cách xáo trộn đặc trưng \n",
    "# để xây dựng mô hình học máy để \n",
    "# lựa chọn đặc trưng\n",
    "\n",
    "# Trong trường hợp này, chúng ta sẽ cây dựng Rừng ngẫu nhiên nhưng nhớ rằng\n",
    "# chúng ta có thể sử quy trình này cho thuật toán học máy khác\n",
    "\n",
    "# xây một vài cây thấp để tránh overfitting\n",
    "rf = RandomForestRegressor(n_estimators=100,\n",
    "                           max_depth=3,\n",
    "                           random_state=2909,\n",
    "                           n_jobs=4)\n",
    "\n",
    "## VIẾT CODE Ở ĐÂY:\n",
    "rf.fit(X_train, y_train)\n",
    "\n",
    "# in ra các số đo chất lượng\n",
    "## VIẾT CODE Ở ĐÂY:\n",
    "print('train rmse: ', mean_squared_error(y_train, rf.predict(X_train), squared=False))\n",
    "print('train r2: ', r2_score(y_train, (rf.predict(X_train))))\n",
    "print()\n",
    "print('test rmse: ', mean_squared_error(y_test, rf.predict(X_test), squared=...))\n",
    "print('test r2: ', r2_score(y_test, rf.predict(X_test)))"
   ]
  },
  {
   "cell_type": "markdown",
   "metadata": {
    "id": "SsfEhYprOwuK"
   },
   "source": [
    "<details><summary> Gợi ý </summary>\n",
    "\n",
    "[mean_squared_error()](https://scikit-learn.org/stable/modules/generated/sklearn.metrics.mean_squared_error.html)\n",
    "\n",
    "[r2_score()](https://scikit-learn.org/stable/modules/generated/sklearn.metrics.r2_score.html)\n",
    "\n",
    "</details>"
   ]
  },
  {
   "cell_type": "markdown",
   "metadata": {
    "id": "S8Uf0r1BkPew"
   },
   "source": [
    "### Xáo trộn các đặc trưng và đánh giá tình trạng chất lượng"
   ]
  },
  {
   "cell_type": "code",
   "execution_count": 8,
   "metadata": {
    "id": "QSY-3Sz7kPew"
   },
   "outputs": [],
   "source": [
    "## Yêu cầu 2\n",
    "# Trong cell này, chúng ta sẽ xáo trộn từng đặc trưng của tập dữ liệu\n",
    "#  rồi sử dụng tập dữ liệu với biến đã xáo trộn để đưa ra dự đoán\n",
    "# sử dụng rừng ngẫu nhiên đã huấn luyện trong cell trước\n",
    "\n",
    "# rmse huấn luyện tổng quát: sử dụng tất cả các đặc trưng\n",
    "## VIẾT CODE Ở ĐÂY:\n",
    "train_rmse = mean_squared_error(y_train, rf.predict(X_train), squared=False)\n",
    "\n",
    "# list nắm bắt thay đổi về chất lượng\n",
    "performance_shift = []\n",
    "\n",
    "# cho từng đặc trưng:\n",
    "for feature in X_train.columns:\n",
    "    \n",
    "    X_train_c = X_train.copy()\n",
    "\n",
    "    # xáo trộn đặc trưng riêng lẻ\n",
    "    X_train_c[feature] = X_train_c[feature].sample(frac=1, random_state=11).reset_index(\n",
    "        drop=True)\n",
    "\n",
    "    # dự đoán với đặc trưng đã xáo trộn và tính roc-auc\n",
    "    ## VIẾT CODE Ở ĐÂY:\n",
    "    shuff_rmse = mean_squared_error(y_train, rf.predict(X_train_c), squared=False)\n",
    "    \n",
    "    drift = train_rmse - shuff_rmse \n",
    "\n",
    "    # lưu trữ trong roc-auc\n",
    "    ## VIẾT CODE Ở ĐÂY:\n",
    "    performance_shift.append(drift)"
   ]
  },
  {
   "cell_type": "code",
   "execution_count": 9,
   "metadata": {
    "id": "ALvGsvBOkPex",
    "outputId": "72070514-59ac-4db9-d9fd-ee07152f3ecb",
    "scrolled": true
   },
   "outputs": [
    {
     "data": {
      "text/plain": [
       "MSSubClass         0.000000\n",
       "LotFrontage      -45.751607\n",
       "LotArea         -390.252300\n",
       "OverallQual   -42772.508176\n",
       "OverallCond       -6.967475\n",
       "dtype: float64"
      ]
     },
     "execution_count": 9,
     "metadata": {},
     "output_type": "execute_result"
    }
   ],
   "source": [
    "# Bây giờ chúng ta sẽ biến đổi list thành một Series pandas\n",
    "# để dễ thao tác\n",
    "\n",
    "feature_importance = pd.Series(performance_shift)\n",
    "\n",
    "# thêm tên biến vào index\n",
    "feature_importance.index = X_train.columns\n",
    "\n",
    "feature_importance.head()"
   ]
  },
  {
   "cell_type": "code",
   "execution_count": 10,
   "metadata": {
    "id": "-gGDqtLMkPex",
    "outputId": "77ec06fa-764b-4bd0-b9ee-1ce4350ebbbe"
   },
   "outputs": [
    {
     "data": {
      "text/plain": [
       "28"
      ]
     },
     "execution_count": 10,
     "metadata": {},
     "output_type": "execute_result"
    }
   ],
   "source": [
    "# Ở đây chúng ta thấy rmse càng nhỏ càng tốt\n",
    "\n",
    "# khi thực hiện original_rmse - shuffled_data_rmse\n",
    "\n",
    "# nếu đặc trưng quan trọng thì dữ liệu đã xáo trộn sẽ tăng rmse\n",
    "\n",
    "# do đó chúng ta tìm các giá trị âm ở đây\n",
    "\n",
    "# số đặc trưng làm giảm chất lượng\n",
    "# khi xáo trộn\n",
    "\n",
    "feature_importance[feature_importance<0].shape[0]"
   ]
  },
  {
   "cell_type": "code",
   "execution_count": 12,
   "metadata": {
    "id": "G5PamDzYkPex",
    "outputId": "12c2c3d0-16dc-440b-baab-6efbd954f773"
   },
   "outputs": [
    {
     "data": {
      "text/plain": [
       "Index(['LotFrontage', 'LotArea', 'OverallQual', 'OverallCond', 'YearBuilt',\n",
       "       'YearRemodAdd', 'MasVnrArea', 'BsmtFinSF1', 'BsmtUnfSF', 'TotalBsmtSF',\n",
       "       '1stFlrSF', '2ndFlrSF', 'GrLivArea', 'BsmtFullBath', 'BsmtHalfBath',\n",
       "       'FullBath', 'BedroomAbvGr', 'TotRmsAbvGrd', 'Fireplaces', 'GarageYrBlt',\n",
       "       'GarageCars', 'GarageArea', 'WoodDeckSF', 'OpenPorchSF',\n",
       "       'EnclosedPorch', 'ScreenPorch', 'MoSold', 'YrSold'],\n",
       "      dtype='object')"
      ]
     },
     "execution_count": 12,
     "metadata": {},
     "output_type": "execute_result"
    }
   ],
   "source": [
    "# thêm tên biến\n",
    "\n",
    "feature_importance[feature_importance<0].index"
   ]
  },
  {
   "cell_type": "markdown",
   "metadata": {
    "id": "LFXTYaWTkPey"
   },
   "source": [
    "### Lựa chọn đặc trưng"
   ]
  },
  {
   "cell_type": "code",
   "execution_count": 13,
   "metadata": {
    "id": "OZOLN7B2kPey"
   },
   "outputs": [],
   "source": [
    "## Yêu cầu 3\n",
    "# So sánh chất lượng của rừng ngẫu nhiên\n",
    "# được xây chỉ sử dụng các đặc trưng đã chọn\n",
    "\n",
    "# cắt dữ liệu\n",
    "feat = feature_importance[feature_importance<0].index\n",
    "\n",
    "## VIẾT CODE Ở ĐÂY:\n",
    "X_train = X_train[feat]\n",
    "X_test = X_test[feat]"
   ]
  },
  {
   "cell_type": "code",
   "execution_count": 14,
   "metadata": {
    "id": "w5UVAjR0kPey",
    "outputId": "e740d280-933e-4191-a79c-b3eb2da331e4"
   },
   "outputs": [
    {
     "data": {
      "text/plain": [
       "((1022, 28), (1022, 28))"
      ]
     },
     "execution_count": 14,
     "metadata": {},
     "output_type": "execute_result"
    }
   ],
   "source": [
    "X_train.shape, X_train.shape"
   ]
  },
  {
   "cell_type": "code",
   "execution_count": 16,
   "metadata": {
    "id": "-3UJIqC0kPey",
    "outputId": "b03724ef-050e-44f0-a4ce-b09e6bb0948a"
   },
   "outputs": [
    {
     "name": "stdout",
     "output_type": "stream",
     "text": [
      "train rmse:  34114.694591609696\n",
      "train r2:  0.8092034587666255\n",
      "\n",
      "test rmse:  39561.867880230304\n",
      "test r2:  0.7694589242329682\n"
     ]
    }
   ],
   "source": [
    "## Yêu cầu 4\n",
    "# xây dựng và đánh giá mô hình\n",
    "\n",
    "rf = RandomForestRegressor(n_estimators=100,\n",
    "                           max_depth=3,\n",
    "                           random_state=2909,\n",
    "                           n_jobs=4)\n",
    "\n",
    "## VIẾT CODE Ở ĐÂY:\n",
    "rf.fit(X_train, y_train)\n",
    "\n",
    "# in ra các số đo chất lượng\n",
    "## VIẾT CODE Ở ĐÂY:\n",
    "print('train rmse: ', mean_squared_error(y_train, rf.predict(X_train), squared=False))\n",
    "print('train r2: ', r2_score(y_train, (rf.predict(X_train))))\n",
    "print()\n",
    "print('test rmse: ', mean_squared_error(y_test, rf.predict(X_test), squared = False))\n",
    "print('test r2: ', r2_score(y_test, (rf.predict(X_test))))"
   ]
  },
  {
   "cell_type": "markdown",
   "metadata": {
    "id": "Vl782_MHkPez"
   },
   "source": [
    "Mô hình có ít đặc trưng hơn thể hiện chất lượng giống với mô hình có tất cả các đặc trưng."
   ]
  }
 ],
 "metadata": {
  "colab": {
   "collapsed_sections": [],
   "name": "13.4 Xáo trộn ngẫu nhiên.ipynb",
   "provenance": []
  },
  "kernelspec": {
   "display_name": "Python 3",
   "language": "python",
   "name": "python3"
  },
  "language_info": {
   "codemirror_mode": {
    "name": "ipython",
    "version": 3
   },
   "file_extension": ".py",
   "mimetype": "text/x-python",
   "name": "python",
   "nbconvert_exporter": "python",
   "pygments_lexer": "ipython3",
   "version": "3.8.8"
  },
  "toc": {
   "base_numbering": 1,
   "nav_menu": {},
   "number_sections": true,
   "sideBar": true,
   "skip_h1_title": false,
   "title_cell": "Table of Contents",
   "title_sidebar": "Contents",
   "toc_cell": false,
   "toc_position": {},
   "toc_section_display": "block",
   "toc_window_display": true
  }
 },
 "nbformat": 4,
 "nbformat_minor": 1
}
