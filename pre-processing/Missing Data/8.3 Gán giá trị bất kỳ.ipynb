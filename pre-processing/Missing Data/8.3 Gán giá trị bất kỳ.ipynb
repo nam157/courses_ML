{
 "cells": [
  {
   "cell_type": "markdown",
   "metadata": {
    "id": "9pvuiUq-QfdY"
   },
   "source": [
    "## Gán giá trị bất kỳ\n",
    "\n",
    "Gán là hành động thay thế dữ liệu bị khuyết bằng các ước tính thống kê về các giá trị bị khuyết. Mục tiêu của bất kỳ kỹ thuật gán nào là tạo ra một **tập dữ liệu hoàn chỉnh** có thể sử dụng để huấn luyện các mô hình học máy.\n",
    "\n",
    "Gán giá trị bất kỳ gồm việc thay thế tất cả các lần xuất hiện của giá trị bị khuyết (NA) trong một biến bằng một giá trị bất kỳ. Các giá trị bất kỳ thường được sử dụng là 0, 999, -999 (hoặc các tổ hợp khác của 9s) hoặc -1 (nếu phân phối dương).\n",
    "\n",
    "\n",
    "### Những biến nào có thể gán giá trị bất kỳ?\n",
    "\n",
    "Cả biến hạng mục và biến dạng số đều có thể gán bằng các giá trị bất kỳ.\n",
    "\n",
    "Với các biến hạng mục, điều này tương đương với việc thay thế tất cả các trường hợp của NA bằng một nhãn bổ sung, điều này rất phổ biến nên chúng ta sẽ xử lý nó riêng trong notebook khác.\n",
    "\n",
    "### Giả định\n",
    "\n",
    "- Dữ liệu không bị khuyết ngẫu nhiên.\n",
    "\n",
    "Nếu trường hợp này xảy ra, chúng ta cần gắn cờ các giá trị bị khuyết bằng một giá trị khác (bất kỳ) thay vì thay thế những lần xuất hiện đó bằng mean hoặc median đại diện cho giá trị phổ biến nhất.\n",
    "\n",
    "\n",
    "### Ưu điểm\n",
    "\n",
    "- Dễ thực hiện.\n",
    "- Cách nhanh chóng để có được tập dữ liệu hoàn chỉnh.\n",
    "- Có thể tích hợp trong sản xuất (trong quá trình triển khai mô hình).\n",
    "- Nắm bắt được tầm quan trọng của \"khuyết\" nếu có.\n",
    "\n",
    "\n",
    "### Hạn chế\n",
    "\n",
    "- Làm biến dạng phân phối biến ban đầu.\n",
    "- Làm biến dạng phương sai ban đầu.\n",
    "- Làm biến dạng hiệp phương sai với các biến còn lại của tập dữ liệu.\n",
    "- Nếu giá trị bất kỳ ở cuối phân phối, nó có thể che dấu hoặc tạo ra các outlier.\n",
    "- Cần cẩn thận để không chọn phải một giá trị bất kỳ quá giống với mean hoặc median (hoặc bất kỳ giá trị phổ biến nào khác của phân phối biến).\n",
    "\n",
    "\n",
    "### Khi nào thì sử dụng giá trị bất kỳ\n",
    "\n",
    "Thay thế NA bằng các giá trị bất kỳ nên được sử dụng khi có lý do chứng minh NA không bị khuyết ngẫu nhiên. Trong những tình huống như vậy, chúng ta không thay thế bằng mean/median nên làm cho NA giống như phần lớn các quan sát. Thay vào đó, chúng ta muốn gắn cờ quan sát bị khuyết.\n",
    "\n",
    "Phương pháp này được sử dụng rộng rãi ở các tổ chức và các cuộc thi Kaggle. Nó gồm việc thay thế NA bằng một giá trị bất kỳ, có thể sáng tạo nhưng phải khác với median/mean/mode và không nằm trong các giá trị thường của biến.\n",
    "\n",
    "Bài toán gồm việc quyết định lựa chọn giá trị bất kỳ.\n",
    "\n",
    "### Lưu ý cuối cùng\n",
    "\n",
    "Khi các biến được thu nạp bởi các bên thứ ba như cơ quan tín dụng, họ sẽ đặt các số bất kỳ để báo hiệu rằng giá trị cho quan sát đó bị khuyết. Vì vậy, gán giá trị bất kỳ cũng phổ biến trong việc thu thập dữ liệu thực tế.\n",
    "\n",
    "## Trong bản mô phỏng này:\n",
    "\n",
    "Chúng ta sẽ học cách thực hiện gán giá trị bất kỳ sử dụng pandas trên tập dữ liệu Ames House Price và Titanic.\n"
   ]
  },
  {
   "cell_type": "code",
   "execution_count": 1,
   "metadata": {
    "id": "-6Ycu7_DQfdd"
   },
   "outputs": [],
   "source": [
    "import pandas as pd\n",
    "import numpy as np\n",
    "\n",
    "import matplotlib.pyplot as plt\n",
    "\n",
    "# chia các tập dữ liệu\n",
    "from sklearn.model_selection import train_test_split"
   ]
  },
  {
   "cell_type": "code",
   "execution_count": 3,
   "metadata": {
    "id": "rVETfPtLQfde",
    "outputId": "66f5d461-e8ce-420d-e04f-24a6fcef61a7"
   },
   "outputs": [
    {
     "data": {
      "text/html": [
       "<div>\n",
       "<style scoped>\n",
       "    .dataframe tbody tr th:only-of-type {\n",
       "        vertical-align: middle;\n",
       "    }\n",
       "\n",
       "    .dataframe tbody tr th {\n",
       "        vertical-align: top;\n",
       "    }\n",
       "\n",
       "    .dataframe thead th {\n",
       "        text-align: right;\n",
       "    }\n",
       "</style>\n",
       "<table border=\"1\" class=\"dataframe\">\n",
       "  <thead>\n",
       "    <tr style=\"text-align: right;\">\n",
       "      <th></th>\n",
       "      <th>survived</th>\n",
       "      <th>age</th>\n",
       "      <th>fare</th>\n",
       "    </tr>\n",
       "  </thead>\n",
       "  <tbody>\n",
       "    <tr>\n",
       "      <th>0</th>\n",
       "      <td>1</td>\n",
       "      <td>29.0000</td>\n",
       "      <td>211.3375</td>\n",
       "    </tr>\n",
       "    <tr>\n",
       "      <th>1</th>\n",
       "      <td>1</td>\n",
       "      <td>0.9167</td>\n",
       "      <td>151.5500</td>\n",
       "    </tr>\n",
       "    <tr>\n",
       "      <th>2</th>\n",
       "      <td>0</td>\n",
       "      <td>2.0000</td>\n",
       "      <td>151.5500</td>\n",
       "    </tr>\n",
       "    <tr>\n",
       "      <th>3</th>\n",
       "      <td>0</td>\n",
       "      <td>30.0000</td>\n",
       "      <td>151.5500</td>\n",
       "    </tr>\n",
       "    <tr>\n",
       "      <th>4</th>\n",
       "      <td>0</td>\n",
       "      <td>25.0000</td>\n",
       "      <td>151.5500</td>\n",
       "    </tr>\n",
       "  </tbody>\n",
       "</table>\n",
       "</div>"
      ],
      "text/plain": [
       "   survived      age      fare\n",
       "0         1  29.0000  211.3375\n",
       "1         1   0.9167  151.5500\n",
       "2         0   2.0000  151.5500\n",
       "3         0  30.0000  151.5500\n",
       "4         0  25.0000  151.5500"
      ]
     },
     "execution_count": 3,
     "metadata": {},
     "output_type": "execute_result"
    }
   ],
   "source": [
    "# load tập dữ liệu với một số biến để trình bày\n",
    "\n",
    "data = pd.read_csv('./datatset/titanic.csv', usecols=['age', 'fare', 'survived'])\n",
    "data.head()"
   ]
  },
  {
   "cell_type": "code",
   "execution_count": 4,
   "metadata": {
    "id": "0hMn3JO_Qfdg",
    "outputId": "0fbafbb8-1298-4213-9022-566388927880"
   },
   "outputs": [
    {
     "data": {
      "text/plain": [
       "survived    0.000000\n",
       "age         0.200917\n",
       "fare        0.000764\n",
       "dtype: float64"
      ]
     },
     "execution_count": 4,
     "metadata": {},
     "output_type": "execute_result"
    }
   ],
   "source": [
    "# xem phần trăm của NA\n",
    "\n",
    "data.isnull().mean()"
   ]
  },
  {
   "cell_type": "markdown",
   "metadata": {
    "id": "xxM440cYQfdh"
   },
   "source": [
    "Biến duy nhất có dữ liệu bị khuyết là Age với ~20% quan sát bị thiếu.\n",
    "\n",
    "### Gán quan trọng\n",
    "\n",
    "Việc gán phải được thực hiện trong tập huấn luyện, sau đó được truyền sang tập kiểm tra. Với gán giá trị bất kỳ, điều này không quá quan trọng vì chúng ta sẽ chọn giá trị cách tùy ý, tuy nhiên sẽ tốt hơn nếu làm theo và chọn giá trị bất kỳ bằng cách xem phân phối của biến trong tập huấn luyện."
   ]
  },
  {
   "cell_type": "code",
   "execution_count": 5,
   "metadata": {
    "id": "a_Pz2-86Qfdi",
    "outputId": "d3e9e846-ff07-4ba4-fe6a-0f996d806886"
   },
   "outputs": [
    {
     "data": {
      "text/plain": [
       "((916, 2), (393, 2))"
      ]
     },
     "execution_count": 5,
     "metadata": {},
     "output_type": "execute_result"
    }
   ],
   "source": [
    "# hãy chia thành tập huấn luyện và tập kiểm tra\n",
    "\n",
    "X_train, X_test, y_train, y_test = train_test_split(\n",
    "    data[['age', 'fare']],  # các yếu tố dự báo\n",
    "    data['survived'],  # mục tiêu\n",
    "    test_size=0.3,  # phần trăm các quan sát trong tập kiểm tra\n",
    "    random_state=0)  # seed đảm bảo khả năng tái lặp\n",
    "\n",
    "X_train.shape, X_test.shape"
   ]
  },
  {
   "cell_type": "code",
   "execution_count": 6,
   "metadata": {
    "id": "TbQiDbL2Qfdj",
    "outputId": "a0069dbd-36f3-4315-db93-d845ffcc8a57"
   },
   "outputs": [
    {
     "data": {
      "text/plain": [
       "age     0.191048\n",
       "fare    0.000000\n",
       "dtype: float64"
      ]
     },
     "execution_count": 6,
     "metadata": {},
     "output_type": "execute_result"
    }
   ],
   "source": [
    "# Hãy khám phá dữ liệu bị khuyết trong tập huấn luyện\n",
    "# các phần trăm nên tương tự như\n",
    "# của toàn bộ tập dữ liệu\n",
    "\n",
    "X_train.isnull().mean()    "
   ]
  },
  {
   "cell_type": "code",
   "execution_count": 7,
   "metadata": {
    "id": "yqkBh959Qfdk"
   },
   "outputs": [],
   "source": [
    "## Yêu cầu 1: tạo một hàm điền các giá trị bị khuyết với giá trị bất kỳ:\n",
    "# các biến nhận dataframe, biến và giá trị để thay thế na\n",
    "\n",
    "# và trả về biến với na đã điền\n",
    "\n",
    "\n",
    "def impute_na(df, variable, value):\n",
    "    ## VIẾT CODE Ở ĐÂY:\n",
    "    return df[variable].fillna(value)"
   ]
  },
  {
   "cell_type": "markdown",
   "metadata": {
    "id": "-7pN_rhEjQvO"
   },
   "source": [
    "<details><summary> Gợi ý </summary>\n",
    "\n",
    "[fillna()](https://pandas.pydata.org/pandas-docs/stable/reference/api/pandas.DataFrame.fillna.html)\n",
    "\n",
    "</details>"
   ]
  },
  {
   "cell_type": "code",
   "execution_count": 8,
   "metadata": {
    "id": "rx2pW8GfQfdl",
    "outputId": "d5735545-7a2b-4440-ead1-3dadaac814da"
   },
   "outputs": [
    {
     "data": {
      "image/png": "[encoded data removed]",
      "text/plain": [
       "<Figure size 432x288 with 2 Axes>"
      ]
     },
     "metadata": {
      "needs_background": "light"
     },
     "output_type": "display_data"
    }
   ],
   "source": [
    "# khám phá phân phối của các biến\n",
    "# để quyết định sử dụng giá trị bất kỳ nào\n",
    "\n",
    "X_train.hist(bins=50)\n",
    "plt.show()"
   ]
  },
  {
   "cell_type": "code",
   "execution_count": 9,
   "metadata": {
    "id": "fQGQHWu7Qfdn",
    "outputId": "8cab5bec-5ae1-4fd7-d494-665cd3cf3ff1"
   },
   "outputs": [
    {
     "data": {
      "text/html": [
       "<div>\n",
       "<style scoped>\n",
       "    .dataframe tbody tr th:only-of-type {\n",
       "        vertical-align: middle;\n",
       "    }\n",
       "\n",
       "    .dataframe tbody tr th {\n",
       "        vertical-align: top;\n",
       "    }\n",
       "\n",
       "    .dataframe thead th {\n",
       "        text-align: right;\n",
       "    }\n",
       "</style>\n",
       "<table border=\"1\" class=\"dataframe\">\n",
       "  <thead>\n",
       "    <tr style=\"text-align: right;\">\n",
       "      <th></th>\n",
       "      <th>age</th>\n",
       "      <th>fare</th>\n",
       "      <th>Age_99</th>\n",
       "      <th>Age_minus1</th>\n",
       "    </tr>\n",
       "  </thead>\n",
       "  <tbody>\n",
       "    <tr>\n",
       "      <th>501</th>\n",
       "      <td>13.0</td>\n",
       "      <td>19.5000</td>\n",
       "      <td>13.0</td>\n",
       "      <td>13.0</td>\n",
       "    </tr>\n",
       "    <tr>\n",
       "      <th>588</th>\n",
       "      <td>4.0</td>\n",
       "      <td>23.0000</td>\n",
       "      <td>4.0</td>\n",
       "      <td>4.0</td>\n",
       "    </tr>\n",
       "    <tr>\n",
       "      <th>402</th>\n",
       "      <td>30.0</td>\n",
       "      <td>13.8583</td>\n",
       "      <td>30.0</td>\n",
       "      <td>30.0</td>\n",
       "    </tr>\n",
       "    <tr>\n",
       "      <th>1193</th>\n",
       "      <td>NaN</td>\n",
       "      <td>7.7250</td>\n",
       "      <td>99.0</td>\n",
       "      <td>-1.0</td>\n",
       "    </tr>\n",
       "    <tr>\n",
       "      <th>686</th>\n",
       "      <td>22.0</td>\n",
       "      <td>7.7250</td>\n",
       "      <td>22.0</td>\n",
       "      <td>22.0</td>\n",
       "    </tr>\n",
       "    <tr>\n",
       "      <th>971</th>\n",
       "      <td>NaN</td>\n",
       "      <td>7.8792</td>\n",
       "      <td>99.0</td>\n",
       "      <td>-1.0</td>\n",
       "    </tr>\n",
       "    <tr>\n",
       "      <th>117</th>\n",
       "      <td>30.0</td>\n",
       "      <td>56.9292</td>\n",
       "      <td>30.0</td>\n",
       "      <td>30.0</td>\n",
       "    </tr>\n",
       "    <tr>\n",
       "      <th>540</th>\n",
       "      <td>2.0</td>\n",
       "      <td>26.0000</td>\n",
       "      <td>2.0</td>\n",
       "      <td>2.0</td>\n",
       "    </tr>\n",
       "    <tr>\n",
       "      <th>294</th>\n",
       "      <td>49.0</td>\n",
       "      <td>110.8833</td>\n",
       "      <td>49.0</td>\n",
       "      <td>49.0</td>\n",
       "    </tr>\n",
       "    <tr>\n",
       "      <th>261</th>\n",
       "      <td>35.0</td>\n",
       "      <td>26.2875</td>\n",
       "      <td>35.0</td>\n",
       "      <td>35.0</td>\n",
       "    </tr>\n",
       "    <tr>\n",
       "      <th>587</th>\n",
       "      <td>2.0</td>\n",
       "      <td>23.0000</td>\n",
       "      <td>2.0</td>\n",
       "      <td>2.0</td>\n",
       "    </tr>\n",
       "    <tr>\n",
       "      <th>489</th>\n",
       "      <td>42.0</td>\n",
       "      <td>26.0000</td>\n",
       "      <td>42.0</td>\n",
       "      <td>42.0</td>\n",
       "    </tr>\n",
       "    <tr>\n",
       "      <th>2</th>\n",
       "      <td>2.0</td>\n",
       "      <td>151.5500</td>\n",
       "      <td>2.0</td>\n",
       "      <td>2.0</td>\n",
       "    </tr>\n",
       "    <tr>\n",
       "      <th>405</th>\n",
       "      <td>18.0</td>\n",
       "      <td>13.0000</td>\n",
       "      <td>18.0</td>\n",
       "      <td>18.0</td>\n",
       "    </tr>\n",
       "    <tr>\n",
       "      <th>1284</th>\n",
       "      <td>NaN</td>\n",
       "      <td>8.0500</td>\n",
       "      <td>99.0</td>\n",
       "      <td>-1.0</td>\n",
       "    </tr>\n",
       "  </tbody>\n",
       "</table>\n",
       "</div>"
      ],
      "text/plain": [
       "       age      fare  Age_99  Age_minus1\n",
       "501   13.0   19.5000    13.0        13.0\n",
       "588    4.0   23.0000     4.0         4.0\n",
       "402   30.0   13.8583    30.0        30.0\n",
       "1193   NaN    7.7250    99.0        -1.0\n",
       "686   22.0    7.7250    22.0        22.0\n",
       "971    NaN    7.8792    99.0        -1.0\n",
       "117   30.0   56.9292    30.0        30.0\n",
       "540    2.0   26.0000     2.0         2.0\n",
       "294   49.0  110.8833    49.0        49.0\n",
       "261   35.0   26.2875    35.0        35.0\n",
       "587    2.0   23.0000     2.0         2.0\n",
       "489   42.0   26.0000    42.0        42.0\n",
       "2      2.0  151.5500     2.0         2.0\n",
       "405   18.0   13.0000    18.0        18.0\n",
       "1284   NaN    8.0500    99.0        -1.0"
      ]
     },
     "execution_count": 9,
     "metadata": {},
     "output_type": "execute_result"
    }
   ],
   "source": [
    "## Yêu cầu 2: Với bản mô phòng này, chúng ta sẽ thay thế NA bằng 2 giá trị bất kỳ khác nhau\n",
    "# một ở xa đầu phải của phân phối ==> 99\n",
    "# và thay bằng -1, tận dụng Age chỉ nhận các giá trị dương\n",
    "\n",
    "# trước tiên thay với 99\n",
    "## VIẾT CODE Ở ĐÂY:\n",
    "X_train['Age_99'] = impute_na(X_train,'age',99)\n",
    "\n",
    "# giờ thay với -1\n",
    "## VIẾT CODE Ở ĐÂY:\n",
    "X_train['Age_minus1'] = impute_na(X_train,'age',-1)\n",
    "\n",
    "X_train.head(15)"
   ]
  },
  {
   "cell_type": "markdown",
   "metadata": {
    "id": "Jn_c1MhTQfdp"
   },
   "source": [
    "Xem các hàng có dữ liệu bị khuyết (NaN) trong Age và các biến mới được thay thế bằng 99 hoặc -1 như thế nào."
   ]
  },
  {
   "cell_type": "code",
   "execution_count": 10,
   "metadata": {
    "id": "SstRHf1xQfdp",
    "outputId": "b3b0b1c7-a740-422b-c8c3-f6ff03ec7bac"
   },
   "outputs": [
    {
     "name": "stdout",
     "output_type": "stream",
     "text": [
      "Original variable variance:  194.16304666581854\n",
      "Variance after 99 imputation:  888.7051993280891\n",
      "Variance after -1 imputation:  307.9400526938762\n"
     ]
    }
   ],
   "source": [
    "## Yêu cầu 3: chúng ta thấy phương sai thay đổi sau khi gán giá trị bất kỳ\n",
    "# điều này được dự tính vì phần trăm dữ liệu bị khuyết khá\n",
    "# cao ở Age, ~20%\n",
    "\n",
    "## VIẾT CODE Ở ĐÂY:\n",
    "print('Original variable variance: ', X_train['age'].var())\n",
    "print('Variance after 99 imputation: ', X_train['Age_99'].var())\n",
    "print('Variance after -1 imputation: ', X_train['Age_minus1'].var())"
   ]
  },
  {
   "cell_type": "markdown",
   "metadata": {
    "id": "bDUL1juBmaHv"
   },
   "source": [
    "<details><summary> Gợi ý </summary>\n",
    "\n",
    "[var()](https://pandas.pydata.org/docs/reference/api/pandas.DataFrame.var.html)\n",
    "\n",
    "</details>"
   ]
  },
  {
   "cell_type": "markdown",
   "metadata": {
    "id": "DeT4LfWQQfdq"
   },
   "source": [
    "Trên thực tế, ảnh hưởng đến phương sai cũng được thúc đẩy bởi độ lớn của giá trị tùy ý được gán, so sánh 99 với -1."
   ]
  },
  {
   "cell_type": "code",
   "execution_count": 11,
   "metadata": {
    "id": "hzJyXVV-Qfdr",
    "outputId": "bb21b77a-216a-45fc-f4bb-8cbd3f6601f1"
   },
   "outputs": [
    {
     "data": {
      "text/plain": [
       "<matplotlib.legend.Legend at 0x1daca99a8e0>"
      ]
     },
     "execution_count": 11,
     "metadata": {},
     "output_type": "execute_result"
    },
    {
     "data": {
      "image/png": "[encoded data removed]",
      "text/plain": [
       "<Figure size 432x288 with 1 Axes>"
      ]
     },
     "metadata": {
      "needs_background": "light"
     },
     "output_type": "display_data"
    }
   ],
   "source": [
    "## Yêu cầu 4: chúng ta thấy các phân phối đã thay đổi\n",
    "# với nhiều giá trị hơn tích lũy hướng tới các giá trị tùy ý\n",
    "\n",
    "fig = plt.figure()\n",
    "ax = fig.add_subplot(111)\n",
    "\n",
    "# phân phối ban đầu của biến\n",
    "## VIẾT CODE Ở ĐÂY:\n",
    "X_train['age'].plot(kind='kde', ax=ax)\n",
    "\n",
    "# biến được gán với 99\n",
    "## VIẾT CODE Ở ĐÂY:\n",
    "X_train['Age_99'].plot(kind='kde', ax=ax, color='red')\n",
    "\n",
    "# biến được gán với -1\n",
    "## VIẾT CODE Ở ĐÂY:\n",
    "X_train['Age_minus1'].plot(kind='kde', ax=ax, color='green')\n",
    "\n",
    "# thêm legend\n",
    "lines, labels = ax.get_legend_handles_labels()\n",
    "ax.legend(lines, labels, loc='best')"
   ]
  },
  {
   "cell_type": "markdown",
   "metadata": {
    "id": "ys6oRW2SmpBX"
   },
   "source": [
    "<details><summary> Gợi ý </summary>\n",
    "\n",
    "[plot()](https://pandas.pydata.org/docs/reference/api/pandas.DataFrame.plot.html)\n",
    "\n",
    "</details>"
   ]
  },
  {
   "cell_type": "markdown",
   "metadata": {
    "id": "bkbdatMIQfdr"
   },
   "source": [
    "Như đã đề cập ở trên, gán giá trị tùy ý làm sai lệch phân phối ban đầu của biến Age. Biến đã biến đổi hiển thị nhiều giá trị hơn xung quanh các giá trị bất kỳ.\n",
    "\n",
    "**Điều này quan trọng không?**\n",
    "\n",
    "Còn tùy thuộc vào mô hình học máy mà chúng ta muốn xây dựng. Mô hình tuyến tính giả định rằng các biến được phân phối chuẩn. Việc gán các giá trị bất kỳ có thể làm sai lệch phân phối chuẩn ban đầu nếu % dữ liệu bị khuyết cao. Do đó, biến được gán cuối cùng sẽ không được phân phối chuẩn nữa, nên có thể ảnh hưởng đến chất lượng của mô hình tuyến tính.\n",
    "\n",
    "Mặt khác, kỹ thuật này hoạt động khá tốt với các thuật toán cây."
   ]
  },
  {
   "cell_type": "code",
   "execution_count": 12,
   "metadata": {
    "id": "XXqL5lpjQfds",
    "outputId": "7892884a-99e1-4e22-be57-c9d465904b8b"
   },
   "outputs": [
    {
     "data": {
      "text/html": [
       "<div>\n",
       "<style scoped>\n",
       "    .dataframe tbody tr th:only-of-type {\n",
       "        vertical-align: middle;\n",
       "    }\n",
       "\n",
       "    .dataframe tbody tr th {\n",
       "        vertical-align: top;\n",
       "    }\n",
       "\n",
       "    .dataframe thead th {\n",
       "        text-align: right;\n",
       "    }\n",
       "</style>\n",
       "<table border=\"1\" class=\"dataframe\">\n",
       "  <thead>\n",
       "    <tr style=\"text-align: right;\">\n",
       "      <th></th>\n",
       "      <th>fare</th>\n",
       "      <th>age</th>\n",
       "      <th>Age_99</th>\n",
       "      <th>Age_minus1</th>\n",
       "    </tr>\n",
       "  </thead>\n",
       "  <tbody>\n",
       "    <tr>\n",
       "      <th>fare</th>\n",
       "      <td>2248.326729</td>\n",
       "      <td>136.176223</td>\n",
       "      <td>-38.722001</td>\n",
       "      <td>177.733891</td>\n",
       "    </tr>\n",
       "    <tr>\n",
       "      <th>age</th>\n",
       "      <td>136.176223</td>\n",
       "      <td>194.163047</td>\n",
       "      <td>194.163047</td>\n",
       "      <td>194.163047</td>\n",
       "    </tr>\n",
       "    <tr>\n",
       "      <th>Age_99</th>\n",
       "      <td>-38.722001</td>\n",
       "      <td>194.163047</td>\n",
       "      <td>888.705199</td>\n",
       "      <td>-175.265319</td>\n",
       "    </tr>\n",
       "    <tr>\n",
       "      <th>Age_minus1</th>\n",
       "      <td>177.733891</td>\n",
       "      <td>194.163047</td>\n",
       "      <td>-175.265319</td>\n",
       "      <td>307.940053</td>\n",
       "    </tr>\n",
       "  </tbody>\n",
       "</table>\n",
       "</div>"
      ],
      "text/plain": [
       "                   fare         age      Age_99  Age_minus1\n",
       "fare        2248.326729  136.176223  -38.722001  177.733891\n",
       "age          136.176223  194.163047  194.163047  194.163047\n",
       "Age_99       -38.722001  194.163047  888.705199 -175.265319\n",
       "Age_minus1   177.733891  194.163047 -175.265319  307.940053"
      ]
     },
     "execution_count": 12,
     "metadata": {},
     "output_type": "execute_result"
    }
   ],
   "source": [
    "## Yêu cầu 5: chúng ta cũng nói rằng gán giá trị bất kỳ có thể ảnh hưởng tới mối quan hệ\n",
    "# với các biến khác trong tập dữ liệu, hãy quan sát \n",
    "\n",
    "cols = ['fare', 'age', 'Age_99', 'Age_minus1']\n",
    "## VIẾT CODE Ở ĐÂY:\n",
    "X_train[cols].cov()"
   ]
  },
  {
   "cell_type": "markdown",
   "metadata": {
    "id": "NpF6yteRnNxN"
   },
   "source": [
    "<details><summary> Gợi ý </summary>\n",
    "\n",
    "[cov()](https://pandas.pydata.org/docs/reference/api/pandas.DataFrame.cov.html)\n",
    "\n",
    "</details>"
   ]
  },
  {
   "cell_type": "markdown",
   "metadata": {
    "id": "2s4nkW0bQfdt"
   },
   "source": [
    "Chúng ta thấy hiệp phương sai giữa Age và Fare cũng thay đổi sau khi gán giá trị bất kỳ."
   ]
  },
  {
   "cell_type": "code",
   "execution_count": 13,
   "metadata": {
    "id": "V0ndch6FQfdt",
    "outputId": "a99dfde7-60d2-417b-adf6-d4f141eb620b"
   },
   "outputs": [
    {
     "data": {
      "text/plain": [
       "<AxesSubplot:>"
      ]
     },
     "execution_count": 13,
     "metadata": {},
     "output_type": "execute_result"
    },
    {
     "data": {
      "image/png": "[encoded data removed]",
      "text/plain": [
       "<Figure size 432x288 with 1 Axes>"
      ]
     },
     "metadata": {
      "needs_background": "light"
     },
     "output_type": "display_data"
    }
   ],
   "source": [
    "## Yêu cầu 6: Cuối cùng, gán giá trị bất kỳ có thể \n",
    "# ảnh hưởng tới nhận thức outlier\n",
    "\n",
    "# Hãy tìm hiểu điều này sử dụng biểu đồ hộp\n",
    "col = ['age', 'Age_99', 'Age_minus1']\n",
    "## VIẾT CODE Ở ĐÂY:\n",
    "X_train[col].plot(kind = 'box')"
   ]
  },
  {
   "cell_type": "markdown",
   "metadata": {
    "id": "h116Hompnb_n"
   },
   "source": [
    "<details><summary> Gợi ý </summary>\n",
    "\n",
    "[boxplot()](https://pandas.pydata.org/docs/reference/api/pandas.DataFrame.boxplot.html)\n",
    "\n",
    "</details>"
   ]
  },
  {
   "cell_type": "markdown",
   "metadata": {
    "id": "AgtEQ9wCQfdu"
   },
   "source": [
    "Chúng ta có thể thấy rằng việc thêm các giá trị vào cuối toàn bộ các giá trị mặt nạ phân phối là các outlier trong phân phối ban đầu."
   ]
  },
  {
   "cell_type": "markdown",
   "metadata": {
    "id": "UZg6nTBTQfdu"
   },
   "source": [
    "## Tập dữ liệu giá nhà\n",
    "\n",
    "Tập dữ liệu này có các biến có nhiều hoặc ít dữ liệu bị khuyết. Do đó, chúng ta có thể so sánh ảnh hưởng của gán giá trị bất kỳ trong cả hai trường hợp."
   ]
  },
  {
   "cell_type": "code",
   "execution_count": 14,
   "metadata": {
    "id": "EKG9VooiQfdu"
   },
   "outputs": [],
   "source": [
    "# chúng ta sẽ chỉ sử dụng các biến sau,\n",
    "# 3 trong số đó chứa NA\n",
    "\n",
    "cols_to_use = [\n",
    "    'OverallQual', 'TotalBsmtSF', '1stFlrSF', 'GrLivArea', 'WoodDeckSF',\n",
    "    'BsmtUnfSF', 'LotFrontage', 'MasVnrArea', 'GarageYrBlt', 'SalePrice'\n",
    "]"
   ]
  },
  {
   "cell_type": "code",
   "execution_count": 15,
   "metadata": {
    "id": "EdGaHboaQfdu",
    "outputId": "3c76ba8e-f8b1-4bce-e1a8-fad8334fd726"
   },
   "outputs": [
    {
     "name": "stdout",
     "output_type": "stream",
     "text": [
      "(1460, 10)\n"
     ]
    },
    {
     "data": {
      "text/html": [
       "<div>\n",
       "<style scoped>\n",
       "    .dataframe tbody tr th:only-of-type {\n",
       "        vertical-align: middle;\n",
       "    }\n",
       "\n",
       "    .dataframe tbody tr th {\n",
       "        vertical-align: top;\n",
       "    }\n",
       "\n",
       "    .dataframe thead th {\n",
       "        text-align: right;\n",
       "    }\n",
       "</style>\n",
       "<table border=\"1\" class=\"dataframe\">\n",
       "  <thead>\n",
       "    <tr style=\"text-align: right;\">\n",
       "      <th></th>\n",
       "      <th>LotFrontage</th>\n",
       "      <th>OverallQual</th>\n",
       "      <th>MasVnrArea</th>\n",
       "      <th>BsmtUnfSF</th>\n",
       "      <th>TotalBsmtSF</th>\n",
       "      <th>1stFlrSF</th>\n",
       "      <th>GrLivArea</th>\n",
       "      <th>GarageYrBlt</th>\n",
       "      <th>WoodDeckSF</th>\n",
       "      <th>SalePrice</th>\n",
       "    </tr>\n",
       "  </thead>\n",
       "  <tbody>\n",
       "    <tr>\n",
       "      <th>0</th>\n",
       "      <td>65.0</td>\n",
       "      <td>7</td>\n",
       "      <td>196.0</td>\n",
       "      <td>150</td>\n",
       "      <td>856</td>\n",
       "      <td>856</td>\n",
       "      <td>1710</td>\n",
       "      <td>2003.0</td>\n",
       "      <td>0</td>\n",
       "      <td>208500</td>\n",
       "    </tr>\n",
       "    <tr>\n",
       "      <th>1</th>\n",
       "      <td>80.0</td>\n",
       "      <td>6</td>\n",
       "      <td>0.0</td>\n",
       "      <td>284</td>\n",
       "      <td>1262</td>\n",
       "      <td>1262</td>\n",
       "      <td>1262</td>\n",
       "      <td>1976.0</td>\n",
       "      <td>298</td>\n",
       "      <td>181500</td>\n",
       "    </tr>\n",
       "    <tr>\n",
       "      <th>2</th>\n",
       "      <td>68.0</td>\n",
       "      <td>7</td>\n",
       "      <td>162.0</td>\n",
       "      <td>434</td>\n",
       "      <td>920</td>\n",
       "      <td>920</td>\n",
       "      <td>1786</td>\n",
       "      <td>2001.0</td>\n",
       "      <td>0</td>\n",
       "      <td>223500</td>\n",
       "    </tr>\n",
       "    <tr>\n",
       "      <th>3</th>\n",
       "      <td>60.0</td>\n",
       "      <td>7</td>\n",
       "      <td>0.0</td>\n",
       "      <td>540</td>\n",
       "      <td>756</td>\n",
       "      <td>961</td>\n",
       "      <td>1717</td>\n",
       "      <td>1998.0</td>\n",
       "      <td>0</td>\n",
       "      <td>140000</td>\n",
       "    </tr>\n",
       "    <tr>\n",
       "      <th>4</th>\n",
       "      <td>84.0</td>\n",
       "      <td>8</td>\n",
       "      <td>350.0</td>\n",
       "      <td>490</td>\n",
       "      <td>1145</td>\n",
       "      <td>1145</td>\n",
       "      <td>2198</td>\n",
       "      <td>2000.0</td>\n",
       "      <td>192</td>\n",
       "      <td>250000</td>\n",
       "    </tr>\n",
       "  </tbody>\n",
       "</table>\n",
       "</div>"
      ],
      "text/plain": [
       "   LotFrontage  OverallQual  MasVnrArea  BsmtUnfSF  TotalBsmtSF  1stFlrSF  \\\n",
       "0         65.0            7       196.0        150          856       856   \n",
       "1         80.0            6         0.0        284         1262      1262   \n",
       "2         68.0            7       162.0        434          920       920   \n",
       "3         60.0            7         0.0        540          756       961   \n",
       "4         84.0            8       350.0        490         1145      1145   \n",
       "\n",
       "   GrLivArea  GarageYrBlt  WoodDeckSF  SalePrice  \n",
       "0       1710       2003.0           0     208500  \n",
       "1       1262       1976.0         298     181500  \n",
       "2       1786       2001.0           0     223500  \n",
       "3       1717       1998.0           0     140000  \n",
       "4       2198       2000.0         192     250000  "
      ]
     },
     "execution_count": 15,
     "metadata": {},
     "output_type": "execute_result"
    }
   ],
   "source": [
    "# load tập dữ liệu giá nhà\n",
    "\n",
    "data = pd.read_csv('./datatset/house-price/houseprice.csv', usecols=cols_to_use)\n",
    "print(data.shape)\n",
    "data.head()"
   ]
  },
  {
   "cell_type": "code",
   "execution_count": 16,
   "metadata": {
    "id": "wr4PEvfaQfdv",
    "outputId": "17fe82ec-ffd7-4207-da87-95bc501cf1ce"
   },
   "outputs": [
    {
     "data": {
      "text/plain": [
       "['LotFrontage', 'MasVnrArea', 'GarageYrBlt']"
      ]
     },
     "execution_count": 16,
     "metadata": {},
     "output_type": "execute_result"
    }
   ],
   "source": [
    "# in ra các biến chứa dữ liệu bị khuyết\n",
    "\n",
    "# trong list tiếp theo, lặp qua tất cả các cột có trong list\n",
    "# của tập dữ liệu và lựa chọn các cột chứa dữ liệu bị khuyết\n",
    "\n",
    "[var for var in data.columns if data[var].isnull().sum()>0]"
   ]
  },
  {
   "cell_type": "code",
   "execution_count": 17,
   "metadata": {
    "id": "xwLusrYIQfdv",
    "outputId": "d417b6df-83e3-4440-b85b-c5f7aa63aa86"
   },
   "outputs": [
    {
     "data": {
      "text/plain": [
       "LotFrontage    0.177397\n",
       "MasVnrArea     0.005479\n",
       "GarageYrBlt    0.055479\n",
       "dtype: float64"
      ]
     },
     "execution_count": 17,
     "metadata": {},
     "output_type": "execute_result"
    }
   ],
   "source": [
    "# tìm phần trăm dữ liệu bị khuyết trong các biến đó\n",
    "# code tương tự như đã học ở phần đặc điểm của biến\n",
    "\n",
    "data[['LotFrontage', 'MasVnrArea', 'GarageYrBlt']].isnull().mean()"
   ]
  },
  {
   "cell_type": "markdown",
   "metadata": {
    "id": "c19IECKJQfdw"
   },
   "source": [
    "Trước tiên, chia thành tập huấn luyện và kiểm tra."
   ]
  },
  {
   "cell_type": "code",
   "execution_count": 30,
   "metadata": {
    "id": "vmydyly4Qfdw",
    "outputId": "c49ae035-da3b-4604-ca0e-5031bab51857"
   },
   "outputs": [
    {
     "data": {
      "text/plain": [
       "((1022, 10), (438, 10))"
      ]
     },
     "execution_count": 30,
     "metadata": {},
     "output_type": "execute_result"
    }
   ],
   "source": [
    "# hãy chia thành tập huấn luyện và tập kiểm tra\n",
    "\n",
    "X_train, X_test, y_train, y_test = train_test_split(data,\n",
    "                                                    data['SalePrice'],\n",
    "                                                    test_size=0.3,\n",
    "                                                    random_state=0)\n",
    "X_train.shape, X_test.shape"
   ]
  },
  {
   "cell_type": "code",
   "execution_count": 31,
   "metadata": {
    "id": "mS-g-g1PQfdw",
    "outputId": "7c2fe144-7954-4003-9c6b-732f5e1f2fe5"
   },
   "outputs": [
    {
     "data": {
      "image/png": "[encoded data removed]",
      "text/plain": [
       "<Figure size 720x720 with 12 Axes>"
      ]
     },
     "metadata": {
      "needs_background": "light"
     },
     "output_type": "display_data"
    }
   ],
   "source": [
    "# vẽ biểu đồ phân bố của các biến\n",
    "# chúng ta đã học code này ở phần các đặc điểm của biến\n",
    "\n",
    "X_train.hist(bins=50, figsize=(10,10))\n",
    "plt.show()"
   ]
  },
  {
   "cell_type": "code",
   "execution_count": 32,
   "metadata": {},
   "outputs": [
    {
     "data": {
      "image/png": "[encoded data removed]",
      "text/plain": [
       "<Figure size 720x720 with 12 Axes>"
      ]
     },
     "metadata": {
      "needs_background": "light"
     },
     "output_type": "display_data"
    }
   ],
   "source": [
    "X_test.hist(bins=50, figsize=(10,10))\n",
    "plt.show()"
   ]
  },
  {
   "cell_type": "code",
   "execution_count": 33,
   "metadata": {
    "id": "ZWALhmFNQfdw"
   },
   "outputs": [
    {
     "name": "stderr",
     "output_type": "stream",
     "text": [
      "<ipython-input-33-ef50ff698eeb>:11: SettingWithCopyWarning: \n",
      "A value is trying to be set on a copy of a slice from a DataFrame.\n",
      "Try using .loc[row_indexer,col_indexer] = value instead\n",
      "\n",
      "See the caveats in the documentation: https://pandas.pydata.org/pandas-docs/stable/user_guide/indexing.html#returning-a-view-versus-a-copy\n",
      "  X_train['LotFrontage_imputed'] = impute_na(X_train,'LotFrontage',999)\n",
      "<ipython-input-33-ef50ff698eeb>:12: SettingWithCopyWarning: \n",
      "A value is trying to be set on a copy of a slice from a DataFrame.\n",
      "Try using .loc[row_indexer,col_indexer] = value instead\n",
      "\n",
      "See the caveats in the documentation: https://pandas.pydata.org/pandas-docs/stable/user_guide/indexing.html#returning-a-view-versus-a-copy\n",
      "  X_test['LotFrontage_imputed'] = impute_na(X_test,'LotFrontage',999)\n"
     ]
    }
   ],
   "source": [
    "## Yêu cầu 7: Làm việc với biến LotFrontage trước\n",
    "\n",
    "# tạo một biến mới với giá trị bị khuyết đã thay\n",
    "# bằng 999 sử dụng hàm đã tạo phía trên\n",
    "\n",
    "# trong trường hợp này, chọn 999 để thay giá trị ở xa đầu cuối bên phải của\n",
    "# phân phối. Như chúng ta thấy từ biểu đồ trên, LotFrontAge nhận giá trị\n",
    "# lên tới 300\n",
    "\n",
    "## VIẾT CODE Ở ĐÂY:\n",
    "X_train['LotFrontage_imputed'] = impute_na(X_train,'LotFrontage',999)\n",
    "X_test['LotFrontage_imputed'] = impute_na(X_test,'LotFrontage',999)"
   ]
  },
  {
   "cell_type": "code",
   "execution_count": 34,
   "metadata": {
    "id": "ZKe_gz8_Qfdx"
   },
   "outputs": [
    {
     "name": "stderr",
     "output_type": "stream",
     "text": [
      "<ipython-input-34-b202f4bbe71d>:6: SettingWithCopyWarning: \n",
      "A value is trying to be set on a copy of a slice from a DataFrame.\n",
      "Try using .loc[row_indexer,col_indexer] = value instead\n",
      "\n",
      "See the caveats in the documentation: https://pandas.pydata.org/pandas-docs/stable/user_guide/indexing.html#returning-a-view-versus-a-copy\n",
      "  X_train['MasVnrArea_imputed'] = impute_na(X_train,'MasVnrArea',1500)\n",
      "<ipython-input-34-b202f4bbe71d>:7: SettingWithCopyWarning: \n",
      "A value is trying to be set on a copy of a slice from a DataFrame.\n",
      "Try using .loc[row_indexer,col_indexer] = value instead\n",
      "\n",
      "See the caveats in the documentation: https://pandas.pydata.org/pandas-docs/stable/user_guide/indexing.html#returning-a-view-versus-a-copy\n",
      "  X_test['MasVnrArea_imputed'] = impute_na(X_test,'MasVnrArea',1500)\n"
     ]
    }
   ],
   "source": [
    "## Yêu cầu 8: MasVnrArea nhận các giá trị lên tới 1500, 999 sẽ không\n",
    "# hoạt động với biến này do nó là một giá trị thường, cần chọn\n",
    "# giá trị lớn hơn: 2999\n",
    "\n",
    "## VIẾT CODE Ở ĐÂY:\n",
    "X_train['MasVnrArea_imputed'] = impute_na(X_train,'MasVnrArea',1500)\n",
    "X_test['MasVnrArea_imputed'] = impute_na(X_test,'MasVnrArea',1500)"
   ]
  },
  {
   "cell_type": "code",
   "execution_count": 35,
   "metadata": {
    "id": "EIUib-_tQfdx",
    "outputId": "8a445d92-a6d7-4c10-b2ef-368ed91ad999"
   },
   "outputs": [
    {
     "data": {
      "text/plain": [
       "<matplotlib.legend.Legend at 0x1dacf28c8b0>"
      ]
     },
     "execution_count": 35,
     "metadata": {},
     "output_type": "execute_result"
    },
    {
     "data": {
      "image/png": "[encoded data removed]",
      "text/plain": [
       "<Figure size 432x288 with 1 Axes>"
      ]
     },
     "metadata": {
      "needs_background": "light"
     },
     "output_type": "display_data"
    }
   ],
   "source": [
    "# đánh giá tác động của gán giá trị bất kỳ với phân phối\n",
    "\n",
    "# có thể thấy phân phối cho LotFrontAge đã thay đổi\n",
    "# với nhiều giá trị hơn tích lũy hướng tới 999\n",
    "\n",
    "fig = plt.figure()\n",
    "ax = fig.add_subplot(111)\n",
    "\n",
    "# phân phối ban đầu của biến\n",
    "X_train['LotFrontage'].plot(kind='kde', ax=ax)\n",
    "\n",
    "# biến được gán với 999\n",
    "X_train['LotFrontage_imputed'].plot(kind='kde', ax=ax, color='red')\n",
    "\n",
    "# thêm legend\n",
    "lines, labels = ax.get_legend_handles_labels()\n",
    "ax.legend(lines, labels, loc='best')"
   ]
  },
  {
   "cell_type": "code",
   "execution_count": 36,
   "metadata": {
    "id": "wu2gYWt6Qfdx",
    "outputId": "279d99cd-4a50-4c2e-a516-ea86f319a18c"
   },
   "outputs": [
    {
     "data": {
      "text/plain": [
       "<matplotlib.legend.Legend at 0x1dacfe56100>"
      ]
     },
     "execution_count": 36,
     "metadata": {},
     "output_type": "execute_result"
    },
    {
     "data": {
      "image/png": "[encoded data removed]",
      "text/plain": [
       "<Figure size 432x288 with 1 Axes>"
      ]
     },
     "metadata": {
      "needs_background": "light"
     },
     "output_type": "display_data"
    }
   ],
   "source": [
    "# Với MasVnrArea, do phần trăm dữ liệu bị khuyết \n",
    "# thấp, thay đổi trong phân phối cũng nhỏ\n",
    "\n",
    "fig = plt.figure()\n",
    "ax = fig.add_subplot(111)\n",
    "\n",
    "# phân phối ban đầu của biến\n",
    "X_train['MasVnrArea'].plot(kind='kde', ax=ax)\n",
    "\n",
    "# biến được gán với 2999\n",
    "X_train['MasVnrArea_imputed'].plot(kind='kde', ax=ax, color='red')\n",
    "\n",
    "# thêm legend\n",
    "lines, labels = ax.get_legend_handles_labels()\n",
    "ax.legend(lines, labels, loc='best')"
   ]
  },
  {
   "cell_type": "markdown",
   "metadata": {
    "id": "TmrN8XT5Qfdy"
   },
   "source": [
    "Từ các biểu đồ trên, chúng ta có thể thấy phân phối của LotFrontAge thay đổi khá nhiều, nhiều hơn thay đổi phân phối của MasVnrArea. Đó là do % giá trị bị khuyết ở biến thứ hai khá nhỏ. Tuy nhiên, tùy thuộc vào giá trị bất kỳ mà chúng ta chọn để thay thế NA, phân phối sẽ bị ảnh hưởng ít nhiều.\n",
    "\n",
    "Tại sao chúng ta không thử các con số khác và so sánh các phân phối?\n",
    "\n",
    "Cuối cùng, từ bản mô phỏng, có thể thấy quá trình chọn giá trị bất kỳ khá thủ công. Chúng ta cần tới từng biến, quan sát phân phối và các giá trị min/max, sau đó lựa chọn giá trị bất kỳ. Nó hoạt động tốt đối với một vài biến, nhưng nếu tập dữ liệu chứa hàng trăm hoặc hàng nghìn biến thì điều đó sẽ khá bất tiện. Giải pháp thay thế để quá trình này tự động thực hiện là đặt các giá trị ở cuối phân phối, chúng ta sẽ thấy trong notebook tiếp theo. "
   ]
  },
  {
   "cell_type": "code",
   "execution_count": 37,
   "metadata": {
    "id": "9kj07gUbQfdy",
    "outputId": "64a860eb-c3ec-40b6-b936-db131de10c34"
   },
   "outputs": [
    {
     "name": "stdout",
     "output_type": "stream",
     "text": [
      "Original Variance:  532.5872021885676\n",
      "Variance after imputation:  130742.07296576179\n"
     ]
    }
   ],
   "source": [
    "# tương tự, chúng ta có thể khám phá tác động của kỹ thuật gán tới\n",
    "# phương sai\n",
    "\n",
    "# thấy phương sai thay đổi sau khi gán cho LotFrontAgec\n",
    "# điều này đã được dự kiến, do phần trăm dữ liệu bị khuyết khá\n",
    "# cao, ~20%\n",
    "\n",
    "# thực tế, tác động khá lớn\n",
    "\n",
    "print('Original Variance: ', X_train['LotFrontage'].var())\n",
    "print('Variance after imputation: ', X_train['LotFrontage_imputed'].var())"
   ]
  },
  {
   "cell_type": "code",
   "execution_count": 38,
   "metadata": {
    "id": "DpHGBDSDQfdy",
    "outputId": "34775372-724b-4e73-89ae-196a40fbeeed"
   },
   "outputs": [
    {
     "name": "stdout",
     "output_type": "stream",
     "text": [
      "Original Variance:  32983.538710039466\n",
      "Variance after imputation:  42325.0598488497\n"
     ]
    }
   ],
   "source": [
    "# tương tự với MasnVnrArea, mặc dù % NA nhỏ\n",
    "# giá trị bất kỳ lớn hơn rất nhiều, sẽ tác động lại phương sai\n",
    "# một chút\n",
    "\n",
    "print('Original Variance: ', X_train['MasVnrArea'].var())\n",
    "print('Variance after imputation: ', X_train['MasVnrArea_imputed'].var())"
   ]
  },
  {
   "cell_type": "code",
   "execution_count": 39,
   "metadata": {
    "id": "e6gzDHjwQfdz",
    "outputId": "af1b4f3f-21a2-466b-8c85-35710db50c3c"
   },
   "outputs": [
    {
     "data": {
      "text/html": [
       "<div>\n",
       "<style scoped>\n",
       "    .dataframe tbody tr th:only-of-type {\n",
       "        vertical-align: middle;\n",
       "    }\n",
       "\n",
       "    .dataframe tbody tr th {\n",
       "        vertical-align: top;\n",
       "    }\n",
       "\n",
       "    .dataframe thead th {\n",
       "        text-align: right;\n",
       "    }\n",
       "</style>\n",
       "<table border=\"1\" class=\"dataframe\">\n",
       "  <thead>\n",
       "    <tr style=\"text-align: right;\">\n",
       "      <th></th>\n",
       "      <th>LotFrontage</th>\n",
       "      <th>OverallQual</th>\n",
       "      <th>MasVnrArea</th>\n",
       "      <th>BsmtUnfSF</th>\n",
       "      <th>TotalBsmtSF</th>\n",
       "      <th>1stFlrSF</th>\n",
       "      <th>GrLivArea</th>\n",
       "      <th>GarageYrBlt</th>\n",
       "      <th>WoodDeckSF</th>\n",
       "      <th>SalePrice</th>\n",
       "      <th>LotFrontage_imputed</th>\n",
       "      <th>MasVnrArea_imputed</th>\n",
       "    </tr>\n",
       "  </thead>\n",
       "  <tbody>\n",
       "    <tr>\n",
       "      <th>LotFrontage</th>\n",
       "      <td>532.587202</td>\n",
       "      <td>6.587119</td>\n",
       "      <td>6.805603e+02</td>\n",
       "      <td>9.496573e+02</td>\n",
       "      <td>2.908856e+03</td>\n",
       "      <td>3.379794e+03</td>\n",
       "      <td>3.919952e+03</td>\n",
       "      <td>30.611717</td>\n",
       "      <td>1.347414e+02</td>\n",
       "      <td>6.689645e+05</td>\n",
       "      <td>532.587202</td>\n",
       "      <td>7.164761e+02</td>\n",
       "    </tr>\n",
       "    <tr>\n",
       "      <th>OverallQual</th>\n",
       "      <td>6.587119</td>\n",
       "      <td>1.843859</td>\n",
       "      <td>1.014970e+02</td>\n",
       "      <td>1.746147e+02</td>\n",
       "      <td>2.886241e+02</td>\n",
       "      <td>2.242973e+02</td>\n",
       "      <td>4.091242e+02</td>\n",
       "      <td>17.902809</td>\n",
       "      <td>3.168557e+01</td>\n",
       "      <td>8.320132e+04</td>\n",
       "      <td>-18.279174</td>\n",
       "      <td>1.072965e+02</td>\n",
       "    </tr>\n",
       "    <tr>\n",
       "      <th>MasVnrArea</th>\n",
       "      <td>680.560330</td>\n",
       "      <td>101.496976</td>\n",
       "      <td>3.298354e+04</td>\n",
       "      <td>7.540788e+03</td>\n",
       "      <td>2.478877e+04</td>\n",
       "      <td>2.086595e+04</td>\n",
       "      <td>3.520785e+04</td>\n",
       "      <td>1203.583792</td>\n",
       "      <td>3.208924e+03</td>\n",
       "      <td>6.836439e+06</td>\n",
       "      <td>1582.711167</td>\n",
       "      <td>3.298354e+04</td>\n",
       "    </tr>\n",
       "    <tr>\n",
       "      <th>BsmtUnfSF</th>\n",
       "      <td>949.657293</td>\n",
       "      <td>174.614725</td>\n",
       "      <td>7.540788e+03</td>\n",
       "      <td>1.875241e+05</td>\n",
       "      <td>7.513307e+04</td>\n",
       "      <td>4.987449e+04</td>\n",
       "      <td>5.203392e+04</td>\n",
       "      <td>1823.065167</td>\n",
       "      <td>-1.833201e+03</td>\n",
       "      <td>6.833028e+06</td>\n",
       "      <td>-19005.620715</td>\n",
       "      <td>7.932011e+03</td>\n",
       "    </tr>\n",
       "    <tr>\n",
       "      <th>TotalBsmtSF</th>\n",
       "      <td>2908.855504</td>\n",
       "      <td>288.624075</td>\n",
       "      <td>2.478877e+04</td>\n",
       "      <td>7.513307e+04</td>\n",
       "      <td>1.682931e+05</td>\n",
       "      <td>1.212079e+05</td>\n",
       "      <td>8.615192e+04</td>\n",
       "      <td>3173.042442</td>\n",
       "      <td>1.227966e+04</td>\n",
       "      <td>2.003928e+07</td>\n",
       "      <td>1620.452017</td>\n",
       "      <td>2.484283e+04</td>\n",
       "    </tr>\n",
       "    <tr>\n",
       "      <th>1stFlrSF</th>\n",
       "      <td>3379.793504</td>\n",
       "      <td>224.297266</td>\n",
       "      <td>2.086595e+04</td>\n",
       "      <td>4.987449e+04</td>\n",
       "      <td>1.212079e+05</td>\n",
       "      <td>1.398656e+05</td>\n",
       "      <td>1.044401e+05</td>\n",
       "      <td>2009.195552</td>\n",
       "      <td>1.109406e+04</td>\n",
       "      <td>1.783631e+07</td>\n",
       "      <td>7485.021442</td>\n",
       "      <td>2.025688e+04</td>\n",
       "    </tr>\n",
       "    <tr>\n",
       "      <th>GrLivArea</th>\n",
       "      <td>3919.951834</td>\n",
       "      <td>409.124216</td>\n",
       "      <td>3.520785e+04</td>\n",
       "      <td>5.203392e+04</td>\n",
       "      <td>8.615192e+04</td>\n",
       "      <td>1.044401e+05</td>\n",
       "      <td>2.681277e+05</td>\n",
       "      <td>2738.982988</td>\n",
       "      <td>1.558395e+04</td>\n",
       "      <td>2.934477e+07</td>\n",
       "      <td>9634.034363</td>\n",
       "      <td>3.595634e+04</td>\n",
       "    </tr>\n",
       "    <tr>\n",
       "      <th>GarageYrBlt</th>\n",
       "      <td>30.611717</td>\n",
       "      <td>17.902809</td>\n",
       "      <td>1.203584e+03</td>\n",
       "      <td>1.823065e+03</td>\n",
       "      <td>3.173042e+03</td>\n",
       "      <td>2.009196e+03</td>\n",
       "      <td>2.738983e+03</td>\n",
       "      <td>624.305948</td>\n",
       "      <td>6.658911e+02</td>\n",
       "      <td>9.309355e+05</td>\n",
       "      <td>45.643154</td>\n",
       "      <td>1.385783e+03</td>\n",
       "    </tr>\n",
       "    <tr>\n",
       "      <th>WoodDeckSF</th>\n",
       "      <td>134.741376</td>\n",
       "      <td>31.685571</td>\n",
       "      <td>3.208924e+03</td>\n",
       "      <td>-1.833201e+03</td>\n",
       "      <td>1.227966e+04</td>\n",
       "      <td>1.109406e+04</td>\n",
       "      <td>1.558395e+04</td>\n",
       "      <td>665.891118</td>\n",
       "      <td>1.648582e+04</td>\n",
       "      <td>3.029981e+06</td>\n",
       "      <td>5377.154974</td>\n",
       "      <td>2.938456e+03</td>\n",
       "    </tr>\n",
       "    <tr>\n",
       "      <th>SalePrice</th>\n",
       "      <td>668964.454191</td>\n",
       "      <td>83201.317781</td>\n",
       "      <td>6.836439e+06</td>\n",
       "      <td>6.833028e+06</td>\n",
       "      <td>2.003928e+07</td>\n",
       "      <td>1.783631e+07</td>\n",
       "      <td>2.934477e+07</td>\n",
       "      <td>930935.489321</td>\n",
       "      <td>3.029981e+06</td>\n",
       "      <td>6.105731e+09</td>\n",
       "      <td>950743.964420</td>\n",
       "      <td>6.971763e+06</td>\n",
       "    </tr>\n",
       "    <tr>\n",
       "      <th>LotFrontage_imputed</th>\n",
       "      <td>532.587202</td>\n",
       "      <td>-18.279174</td>\n",
       "      <td>1.582711e+03</td>\n",
       "      <td>-1.900562e+04</td>\n",
       "      <td>1.620452e+03</td>\n",
       "      <td>7.485021e+03</td>\n",
       "      <td>9.634034e+03</td>\n",
       "      <td>45.643154</td>\n",
       "      <td>5.377155e+03</td>\n",
       "      <td>9.507440e+05</td>\n",
       "      <td>130742.072966</td>\n",
       "      <td>1.702628e+03</td>\n",
       "    </tr>\n",
       "    <tr>\n",
       "      <th>MasVnrArea_imputed</th>\n",
       "      <td>716.476142</td>\n",
       "      <td>107.296546</td>\n",
       "      <td>3.298354e+04</td>\n",
       "      <td>7.932011e+03</td>\n",
       "      <td>2.484283e+04</td>\n",
       "      <td>2.025688e+04</td>\n",
       "      <td>3.595634e+04</td>\n",
       "      <td>1385.782979</td>\n",
       "      <td>2.938456e+03</td>\n",
       "      <td>6.971763e+06</td>\n",
       "      <td>1702.628466</td>\n",
       "      <td>4.232506e+04</td>\n",
       "    </tr>\n",
       "  </tbody>\n",
       "</table>\n",
       "</div>"
      ],
      "text/plain": [
       "                       LotFrontage   OverallQual    MasVnrArea     BsmtUnfSF  \\\n",
       "LotFrontage             532.587202      6.587119  6.805603e+02  9.496573e+02   \n",
       "OverallQual               6.587119      1.843859  1.014970e+02  1.746147e+02   \n",
       "MasVnrArea              680.560330    101.496976  3.298354e+04  7.540788e+03   \n",
       "BsmtUnfSF               949.657293    174.614725  7.540788e+03  1.875241e+05   \n",
       "TotalBsmtSF            2908.855504    288.624075  2.478877e+04  7.513307e+04   \n",
       "1stFlrSF               3379.793504    224.297266  2.086595e+04  4.987449e+04   \n",
       "GrLivArea              3919.951834    409.124216  3.520785e+04  5.203392e+04   \n",
       "GarageYrBlt              30.611717     17.902809  1.203584e+03  1.823065e+03   \n",
       "WoodDeckSF              134.741376     31.685571  3.208924e+03 -1.833201e+03   \n",
       "SalePrice            668964.454191  83201.317781  6.836439e+06  6.833028e+06   \n",
       "LotFrontage_imputed     532.587202    -18.279174  1.582711e+03 -1.900562e+04   \n",
       "MasVnrArea_imputed      716.476142    107.296546  3.298354e+04  7.932011e+03   \n",
       "\n",
       "                      TotalBsmtSF      1stFlrSF     GrLivArea    GarageYrBlt  \\\n",
       "LotFrontage          2.908856e+03  3.379794e+03  3.919952e+03      30.611717   \n",
       "OverallQual          2.886241e+02  2.242973e+02  4.091242e+02      17.902809   \n",
       "MasVnrArea           2.478877e+04  2.086595e+04  3.520785e+04    1203.583792   \n",
       "BsmtUnfSF            7.513307e+04  4.987449e+04  5.203392e+04    1823.065167   \n",
       "TotalBsmtSF          1.682931e+05  1.212079e+05  8.615192e+04    3173.042442   \n",
       "1stFlrSF             1.212079e+05  1.398656e+05  1.044401e+05    2009.195552   \n",
       "GrLivArea            8.615192e+04  1.044401e+05  2.681277e+05    2738.982988   \n",
       "GarageYrBlt          3.173042e+03  2.009196e+03  2.738983e+03     624.305948   \n",
       "WoodDeckSF           1.227966e+04  1.109406e+04  1.558395e+04     665.891118   \n",
       "SalePrice            2.003928e+07  1.783631e+07  2.934477e+07  930935.489321   \n",
       "LotFrontage_imputed  1.620452e+03  7.485021e+03  9.634034e+03      45.643154   \n",
       "MasVnrArea_imputed   2.484283e+04  2.025688e+04  3.595634e+04    1385.782979   \n",
       "\n",
       "                       WoodDeckSF     SalePrice  LotFrontage_imputed  \\\n",
       "LotFrontage          1.347414e+02  6.689645e+05           532.587202   \n",
       "OverallQual          3.168557e+01  8.320132e+04           -18.279174   \n",
       "MasVnrArea           3.208924e+03  6.836439e+06          1582.711167   \n",
       "BsmtUnfSF           -1.833201e+03  6.833028e+06        -19005.620715   \n",
       "TotalBsmtSF          1.227966e+04  2.003928e+07          1620.452017   \n",
       "1stFlrSF             1.109406e+04  1.783631e+07          7485.021442   \n",
       "GrLivArea            1.558395e+04  2.934477e+07          9634.034363   \n",
       "GarageYrBlt          6.658911e+02  9.309355e+05            45.643154   \n",
       "WoodDeckSF           1.648582e+04  3.029981e+06          5377.154974   \n",
       "SalePrice            3.029981e+06  6.105731e+09        950743.964420   \n",
       "LotFrontage_imputed  5.377155e+03  9.507440e+05        130742.072966   \n",
       "MasVnrArea_imputed   2.938456e+03  6.971763e+06          1702.628466   \n",
       "\n",
       "                     MasVnrArea_imputed  \n",
       "LotFrontage                7.164761e+02  \n",
       "OverallQual                1.072965e+02  \n",
       "MasVnrArea                 3.298354e+04  \n",
       "BsmtUnfSF                  7.932011e+03  \n",
       "TotalBsmtSF                2.484283e+04  \n",
       "1stFlrSF                   2.025688e+04  \n",
       "GrLivArea                  3.595634e+04  \n",
       "GarageYrBlt                1.385783e+03  \n",
       "WoodDeckSF                 2.938456e+03  \n",
       "SalePrice                  6.971763e+06  \n",
       "LotFrontage_imputed        1.702628e+03  \n",
       "MasVnrArea_imputed         4.232506e+04  "
      ]
     },
     "execution_count": 39,
     "metadata": {},
     "output_type": "execute_result"
    }
   ],
   "source": [
    "# cuối cùng, hãy khám phá hiệp phương sai:\n",
    "# dành chút thời gian so sánh các giá trị trong bảng dưới đây.\n",
    "\n",
    "X_train.cov()"
   ]
  },
  {
   "cell_type": "code",
   "execution_count": null,
   "metadata": {
    "id": "qNi2iW4jQfd0"
   },
   "outputs": [],
   "source": []
  }
 ],
 "metadata": {
  "colab": {
   "collapsed_sections": [],
   "name": "8.3 Gán giá trị bất kỳ.ipynb",
   "provenance": []
  },
  "kernelspec": {
   "display_name": "Python 3",
   "language": "python",
   "name": "python3"
  },
  "language_info": {
   "codemirror_mode": {
    "name": "ipython",
    "version": 3
   },
   "file_extension": ".py",
   "mimetype": "text/x-python",
   "name": "python",
   "nbconvert_exporter": "python",
   "pygments_lexer": "ipython3",
   "version": "3.8.8"
  },
  "toc": {
   "base_numbering": 1,
   "nav_menu": {},
   "number_sections": true,
   "sideBar": true,
   "skip_h1_title": false,
   "title_cell": "Table of Contents",
   "title_sidebar": "Contents",
   "toc_cell": false,
   "toc_position": {},
   "toc_section_display": "block",
   "toc_window_display": true
  }
 },
 "nbformat": 4,
 "nbformat_minor": 1
}
