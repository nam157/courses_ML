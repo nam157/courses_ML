{
 "cells": [
  {
   "cell_type": "markdown",
   "metadata": {
    "id": "RDrlZInzkJs7"
   },
   "source": [
    "## Điều chuẩn Lasso\n",
    "\n",
    "Điều chuẩn gồm việc thêm một penalty vào các tham số khác nhau của mô hình học máy để giảm bớt bậc tự do của mô hình và tránh overfitting. Điều chuẩn mô hình tuyến tính áp dụng penalty cho các hệ số nhân từng yếu tố dự đoán. Điều chuẩn Lasso hoặc l1 có thuộc tính thu nhỏ một số hệ số về 0 nên có thể loại bỏ các đặc trưng đó khỏi mô hình.\n",
    "\n",
    "Chúng ta sẽ minh họa cách lựa chọn đặc trưng sử dụng điều chuẩn Lasso trong bài toán hồi quy và phân loại."
   ]
  },
  {
   "cell_type": "code",
   "execution_count": 1,
   "metadata": {
    "id": "7PccqTX-kJtA"
   },
   "outputs": [],
   "source": [
    "import pandas as pd\n",
    "import numpy as np\n",
    "\n",
    "from sklearn.model_selection import train_test_split\n",
    "\n",
    "from sklearn.linear_model import Lasso, LogisticRegression\n",
    "from sklearn.feature_selection import SelectFromModel\n",
    "from sklearn.preprocessing import StandardScaler"
   ]
  },
  {
   "cell_type": "markdown",
   "metadata": {
    "id": "RJr-uOYlkJtO"
   },
   "source": [
    "## Hồi quy"
   ]
  },
  {
   "cell_type": "code",
   "execution_count": 2,
   "metadata": {
    "id": "kdR6FLACkJtO",
    "outputId": "53a847c6-a9ac-4b26-bece-6e4bfb71ffe2"
   },
   "outputs": [
    {
     "data": {
      "text/plain": [
       "(1460, 81)"
      ]
     },
     "execution_count": 2,
     "metadata": {},
     "output_type": "execute_result"
    }
   ],
   "source": [
    "# load tập dữ liệu\n",
    "\n",
    "data = pd.read_csv('./datatset/house-price/houseprice.csv')\n",
    "data.shape"
   ]
  },
  {
   "cell_type": "code",
   "execution_count": 3,
   "metadata": {
    "id": "kfASuN0rkJtO",
    "outputId": "2557ef52-3eb1-442b-a12d-3869509324ca"
   },
   "outputs": [
    {
     "data": {
      "text/plain": [
       "(1460, 38)"
      ]
     },
     "execution_count": 3,
     "metadata": {},
     "output_type": "execute_result"
    }
   ],
   "source": [
    "# Trên thực tế, nên thực hiện lựa chọn đặc trưng sau khi tiền xử lý dữ liệu,\n",
    "# tất cả các biến hạng mục được mà hóa thành số,\n",
    "# và rồi chúng ta có thể đánh giá tính tất định của các mục tiêu\n",
    "\n",
    "# để đơn giản, chúng ta sẽ chỉ sử dụng biến dạng số\n",
    "# lựa chọn các cột số:\n",
    "\n",
    "numerics = ['int16', 'int32', 'int64', 'float16', 'float32', 'float64']\n",
    "numerical_vars = list(data.select_dtypes(include=numerics).columns)\n",
    "data = data[numerical_vars]\n",
    "data.shape"
   ]
  },
  {
   "cell_type": "code",
   "execution_count": 4,
   "metadata": {
    "id": "cutW6OkwkJtP",
    "outputId": "06dcdc12-657d-4df7-e029-774d286f576a"
   },
   "outputs": [
    {
     "data": {
      "text/plain": [
       "((1022, 37), (438, 37))"
      ]
     },
     "execution_count": 4,
     "metadata": {},
     "output_type": "execute_result"
    }
   ],
   "source": [
    "# chia thành tập huấn luyện và tập kiểm tra\n",
    "X_train, X_test, y_train, y_test = train_test_split(\n",
    "    data.drop(labels=['SalePrice'], axis=1),\n",
    "    data['SalePrice'],\n",
    "    test_size=0.3,\n",
    "    random_state=0)\n",
    "\n",
    "X_train.shape, X_test.shape"
   ]
  },
  {
   "cell_type": "code",
   "execution_count": 5,
   "metadata": {
    "id": "YyRCeE91kJtP"
   },
   "outputs": [],
   "source": [
    "X_train.fillna(0, inplace=True)\n",
    "X_test.fillna(0, inplace=True)"
   ]
  },
  {
   "cell_type": "code",
   "execution_count": 6,
   "metadata": {
    "id": "26f1llaVkJtQ",
    "outputId": "adb4c857-7f7d-4b4f-ddaa-a0d936d42b75"
   },
   "outputs": [
    {
     "data": {
      "text/plain": [
       "StandardScaler()"
      ]
     },
     "execution_count": 6,
     "metadata": {},
     "output_type": "execute_result"
    }
   ],
   "source": [
    "# các đặc trưng trong tập dữ liệu giá nhà ở \n",
    "# các thang đo khác nhau nên nó giúp hồi quy co giãn\n",
    "# các đặc trưng\n",
    "\n",
    "scaler = StandardScaler()\n",
    "scaler.fit(X_train)"
   ]
  },
  {
   "cell_type": "markdown",
   "metadata": {
    "id": "nlJnLySVkJtQ"
   },
   "source": [
    "### Lựa chọn các hệ số với Lasso"
   ]
  },
  {
   "cell_type": "code",
   "execution_count": 7,
   "metadata": {
    "id": "L84zx2C6kJtQ",
    "outputId": "e87eb6d8-7170-4bf4-f973-ebda414e73d6",
    "scrolled": true
   },
   "outputs": [
    {
     "data": {
      "text/plain": [
       "SelectFromModel(estimator=Lasso(alpha=100, random_state=10))"
      ]
     },
     "execution_count": 7,
     "metadata": {},
     "output_type": "execute_result"
    }
   ],
   "source": [
    "## Yêu cầu 1\n",
    "# ở đây, chúng ta huấn luyện hồi quy tuyến tính Lasso và lựa chọn\n",
    "# các đặc trưng khác 0 trên 1 dòng.\n",
    "\n",
    "# nhớ rằng đối tượng hồi quy tuyến tính từ sklearn\n",
    "# không cho phép điều chuẩn. Nên nếu chúng ta muốn tạo\n",
    "# hồi quy tuyến tính được điều chuẩn thì cần đặc biệt import \"Lasso\"\n",
    " \n",
    "# alpha là lượng phạt nên chúng ta đặt alpha lớn\n",
    "# để buộc thuật toán thu nhỏ các hệ số\n",
    "\n",
    "## VIẾT CODE Ở ĐÂY:\n",
    "sel_ = SelectFromModel(Lasso(alpha=100, random_state=10))\n",
    "sel_.fit(scaler.transform(X_train), y_train)"
   ]
  },
  {
   "cell_type": "markdown",
   "metadata": {
    "id": "hzGYmUXUNMWg"
   },
   "source": [
    "<details><summary> Gợi ý </summary>\n",
    "\n",
    "[SelectFromModel()](https://scikit-learn.org/stable/modules/generated/sklearn.feature_selection.SelectFromModel.html)\n",
    "\n",
    "</details>"
   ]
  },
  {
   "cell_type": "code",
   "execution_count": 8,
   "metadata": {
    "id": "7v04NAIXkJtR",
    "outputId": "a2fe983b-5ac1-4f29-d489-29e5b61e9361"
   },
   "outputs": [
    {
     "data": {
      "text/plain": [
       "array([False,  True,  True,  True,  True,  True,  True,  True,  True,\n",
       "        True,  True, False,  True, False,  True,  True,  True,  True,\n",
       "        True,  True,  True,  True,  True,  True,  True,  True,  True,\n",
       "        True,  True,  True,  True,  True,  True,  True, False,  True,\n",
       "        True])"
      ]
     },
     "execution_count": 8,
     "metadata": {},
     "output_type": "execute_result"
    }
   ],
   "source": [
    "sel_.get_support()"
   ]
  },
  {
   "cell_type": "code",
   "execution_count": 10,
   "metadata": {
    "id": "BhPDcU7EkJtR",
    "outputId": "f461475f-2743-4dfd-d20a-5b59cb91c825"
   },
   "outputs": [
    {
     "name": "stdout",
     "output_type": "stream",
     "text": [
      "total features: 37\n",
      "selected features: 33\n",
      "features with coefficients shrank to zero: 4\n"
     ]
    }
   ],
   "source": [
    "## Yêu cầu 2\n",
    "# tạo một list với các đặc trưng đã chọn và in ra kết quả\n",
    "selected_feat = X_train.columns[(sel_.get_support())]\n",
    "\n",
    "print('total features: {}'.format((X_train.shape[1])))\n",
    "print('selected features: {}'.format(len(selected_feat)))\n",
    "## VIẾT CODE Ở ĐÂY:\n",
    "print('features with coefficients shrank to zero: {}'.format(\n",
    "    np.sum(sel_.estimator_.coef_ == 0)))"
   ]
  },
  {
   "cell_type": "markdown",
   "metadata": {
    "id": "cCP1eWt7Nig8"
   },
   "source": [
    "<details><summary> Gợi ý </summary>\n",
    "\n",
    "Using ```estimator_.coef_``` attribute\n",
    "\n",
    "</details>"
   ]
  },
  {
   "cell_type": "markdown",
   "metadata": {
    "id": "srhpRWLekJtR"
   },
   "source": [
    "Chúng ta có thể sử dụng điều chuẩn Lasso với cả hồi quy tuyến tính và logistic để loại bỏ các đặc trưng không quan trọng khỏi tập dữ liệu.\n",
    "\n",
    "\n",
    "Hãy nhớ rằng việc tăng lượng phạt cũng sẽ gia tăng số lượng đặc trưng bị loại. Do đó, chúng ta cần phải theo dõi chất lượng cuối cùng của mô hình để đảm bảo không đặt lượng phạt quá cao khiến nhiều đặc trưng bị loại bỏ hoặc quá thấp khiến các đặc trưng vô dụng vẫn được giữ lại. \n"
   ]
  }
 ],
 "metadata": {
  "colab": {
   "collapsed_sections": [],
   "name": "13.3 Lasso.ipynb",
   "provenance": []
  },
  "kernelspec": {
   "display_name": "Python 3",
   "language": "python",
   "name": "python3"
  },
  "language_info": {
   "codemirror_mode": {
    "name": "ipython",
    "version": 3
   },
   "file_extension": ".py",
   "mimetype": "text/x-python",
   "name": "python",
   "nbconvert_exporter": "python",
   "pygments_lexer": "ipython3",
   "version": "3.8.8"
  },
  "toc": {
   "base_numbering": 1,
   "nav_menu": {},
   "number_sections": true,
   "sideBar": true,
   "skip_h1_title": false,
   "title_cell": "Table of Contents",
   "title_sidebar": "Contents",
   "toc_cell": false,
   "toc_position": {},
   "toc_section_display": "block",
   "toc_window_display": true
  }
 },
 "nbformat": 4,
 "nbformat_minor": 1
}
