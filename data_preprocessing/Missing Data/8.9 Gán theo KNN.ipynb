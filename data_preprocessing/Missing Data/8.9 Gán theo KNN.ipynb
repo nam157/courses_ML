{
 "cells": [
  {
   "cell_type": "markdown",
   "metadata": {
    "id": "fXIJaGWgxdVb"
   },
   "source": [
    "## Gán KNN\n",
    "\n",
    "Các giá trị bị khuyết được ước tính như giá trị trung bình từ K neighbour (lân cận) gần nhất.\n",
    "\n",
    "[KNNImputer từ sklearn](https://scikit-learn.org/stable/modules/generated/sklearn.impute.KNNImputer.html#sklearn.impute.KNNImputer)\n",
    "\n",
    "- K tương tự được gán cho tất cả các biến.\n",
    "- Không thể thực sự tối ưu hóa K để dự đoán các giá trị bị khuyết tốt hơn.\n",
    "- Không thể tối ưu hóa K để dự đoán mục tiêu tốt hơn.\n",
    "\n",
    "**Lưu ý:**\n",
    "\n",
    "Nếu muốn dự đoán chính xác nhất có thể các giá trị của dữ liệu bị khuyết thì chúng ta sẽ không sử dụng gán KNN mà xây dựng các thuật toán KNN riêng lẻ để dự đoán 1 biến từ các biến còn lại. Đây là một bài toán hồi quy phổ biến."
   ]
  },
  {
   "cell_type": "code",
   "execution_count": 15,
   "metadata": {
    "id": "B98L7zjvxdVg"
   },
   "outputs": [],
   "source": [
    "import pandas as pd\n",
    "import numpy as np\n",
    "\n",
    "import matplotlib.pyplot as plt\n",
    "\n",
    "# chia các tập dữ liệu\n",
    "from sklearn.model_selection import train_test_split\n",
    "\n",
    "# gán đa biến\n",
    "from sklearn.impute import KNNImputer"
   ]
  },
  {
   "cell_type": "markdown",
   "metadata": {
    "id": "gnA5ZmfAxdVi"
   },
   "source": [
    "## Load dữ liệu"
   ]
  },
  {
   "cell_type": "code",
   "execution_count": 16,
   "metadata": {
    "id": "37O4BOEjxdVj"
   },
   "outputs": [],
   "source": [
    "# list các biến dạng số\n",
    "\n",
    "cols_to_use = [\n",
    "    'MSSubClass', 'LotFrontage', 'LotArea', 'OverallQual',\n",
    "    'OverallCond', 'YearBuilt', 'YearRemodAdd', 'MasVnrArea',\n",
    "    'BsmtFinSF1', 'BsmtFinSF2', 'BsmtUnfSF', 'TotalBsmtSF',\n",
    "    '1stFlrSF', '2ndFlrSF', 'LowQualFinSF', 'GrLivArea',\n",
    "    'BsmtFullBath', 'BsmtHalfBath', 'FullBath', 'HalfBath',\n",
    "    'BedroomAbvGr', 'KitchenAbvGr', 'TotRmsAbvGrd',\n",
    "    'Fireplaces', 'GarageYrBlt', 'GarageCars', 'GarageArea',\n",
    "    'WoodDeckSF',  'OpenPorchSF', 'EnclosedPorch', '3SsnPorch',\n",
    "    'ScreenPorch', 'PoolArea', 'MiscVal', 'MoSold', 'YrSold',\n",
    "    'SalePrice'\n",
    "]"
   ]
  },
  {
   "cell_type": "code",
   "execution_count": 17,
   "metadata": {
    "id": "ZbTHTreJxdVn",
    "outputId": "99920c8b-675f-4557-9569-b72595e4eb5a"
   },
   "outputs": [
    {
     "name": "stdout",
     "output_type": "stream",
     "text": [
      "LotFrontage 259\n",
      "MasVnrArea 8\n",
      "GarageYrBlt 81\n"
     ]
    }
   ],
   "source": [
    "# load tập dữ liệu với các biến đã chọn\n",
    "\n",
    "data = pd.read_csv('./datatset/house-price/houseprice.csv', usecols=cols_to_use)\n",
    "\n",
    "# tìm các biến có giá trị bị khuyết\n",
    "for var in data.columns:\n",
    "    if data[var].isnull().sum() > 1:\n",
    "        print(var, data[var].isnull().sum())"
   ]
  },
  {
   "cell_type": "code",
   "execution_count": 18,
   "metadata": {
    "id": "Cz0AftjSxdVr",
    "outputId": "88f5da53-1bec-40a3-ab3f-394080673594"
   },
   "outputs": [
    {
     "data": {
      "text/plain": [
       "((1022, 36), (438, 36))"
      ]
     },
     "execution_count": 18,
     "metadata": {},
     "output_type": "execute_result"
    }
   ],
   "source": [
    "# chia thành tập huấn luyện và tập kiểm tra\n",
    "\n",
    "# trước tiên bỏ mục tiêu khỏi list các đặc trưng\n",
    "cols_to_use.remove('SalePrice')\n",
    "\n",
    "X_train, X_test, y_train, y_test = train_test_split(\n",
    "    data[cols_to_use],\n",
    "    data['SalePrice'],\n",
    "    test_size=0.3,\n",
    "    random_state=0)\n",
    "\n",
    "X_train.shape, X_test.shape"
   ]
  },
  {
   "cell_type": "code",
   "execution_count": 19,
   "metadata": {
    "id": "8EE2YL6ZxdVt"
   },
   "outputs": [],
   "source": [
    "# đặt lại index để so sánh các giá trị sau đó \n",
    "# trong bản mô phỏng\n",
    "\n",
    "X_train.reset_index(inplace=True, drop=True)\n",
    "X_test.reset_index(inplace=True, drop=True)"
   ]
  },
  {
   "cell_type": "markdown",
   "metadata": {
    "id": "gMJtwSXIxdVu"
   },
   "source": [
    "## Gán KNN"
   ]
  },
  {
   "cell_type": "code",
   "execution_count": 20,
   "metadata": {},
   "outputs": [],
   "source": [
    "KNNImputer?"
   ]
  },
  {
   "cell_type": "code",
   "execution_count": 21,
   "metadata": {
    "id": "1ViHrynGxdVw"
   },
   "outputs": [],
   "source": [
    "## Yêu cầu 1\n",
    "## VIẾT CODE Ở ĐÂY:\n",
    "imputer = KNNImputer(\n",
    "    n_neighbors=5, # số lượng neighbour K\n",
    "    weights='distance', # hệ số trọng số\n",
    "    metric='nan_euclidean', # phép đo tìm neighbour\n",
    "    add_indicator=False, # thêm chỉ số dự báo \n",
    ")"
   ]
  },
  {
   "cell_type": "markdown",
   "metadata": {
    "id": "56wC2yeBV_ya"
   },
   "source": [
    "<details><summary> Gợi ý </summary>\n",
    "\n",
    "[KNNImputer()](https://scikit-learn.org/stable/modules/generated/sklearn.impute.KNNImputer.html)\n",
    "\n",
    "</details>"
   ]
  },
  {
   "cell_type": "code",
   "execution_count": 22,
   "metadata": {
    "id": "WG1a043AxdVz",
    "outputId": "cb23e0d1-29e4-47e2-e61b-d26d42baf326"
   },
   "outputs": [
    {
     "data": {
      "text/plain": [
       "KNNImputer(weights='distance')"
      ]
     },
     "execution_count": 22,
     "metadata": {},
     "output_type": "execute_result"
    }
   ],
   "source": [
    "## Yêu cầu 2: sử dụng imputer trên để khớp tập dữ liệu huấn luyện\n",
    "## VIẾT CODE Ở ĐÂY:\n",
    "imputer.fit(X_train,y_train)"
   ]
  },
  {
   "cell_type": "code",
   "execution_count": 23,
   "metadata": {
    "id": "Psn16GB2xdV0",
    "outputId": "b27676b9-1d82-4fd3-eafb-f3e819497168"
   },
   "outputs": [
    {
     "data": {
      "text/html": [
       "<div>\n",
       "<style scoped>\n",
       "    .dataframe tbody tr th:only-of-type {\n",
       "        vertical-align: middle;\n",
       "    }\n",
       "\n",
       "    .dataframe tbody tr th {\n",
       "        vertical-align: top;\n",
       "    }\n",
       "\n",
       "    .dataframe thead th {\n",
       "        text-align: right;\n",
       "    }\n",
       "</style>\n",
       "<table border=\"1\" class=\"dataframe\">\n",
       "  <thead>\n",
       "    <tr style=\"text-align: right;\">\n",
       "      <th></th>\n",
       "      <th>MSSubClass</th>\n",
       "      <th>LotFrontage</th>\n",
       "      <th>LotArea</th>\n",
       "      <th>OverallQual</th>\n",
       "      <th>OverallCond</th>\n",
       "      <th>YearBuilt</th>\n",
       "      <th>YearRemodAdd</th>\n",
       "      <th>MasVnrArea</th>\n",
       "      <th>BsmtFinSF1</th>\n",
       "      <th>BsmtFinSF2</th>\n",
       "      <th>...</th>\n",
       "      <th>GarageArea</th>\n",
       "      <th>WoodDeckSF</th>\n",
       "      <th>OpenPorchSF</th>\n",
       "      <th>EnclosedPorch</th>\n",
       "      <th>3SsnPorch</th>\n",
       "      <th>ScreenPorch</th>\n",
       "      <th>PoolArea</th>\n",
       "      <th>MiscVal</th>\n",
       "      <th>MoSold</th>\n",
       "      <th>YrSold</th>\n",
       "    </tr>\n",
       "  </thead>\n",
       "  <tbody>\n",
       "    <tr>\n",
       "      <th>0</th>\n",
       "      <td>60.0</td>\n",
       "      <td>70.115142</td>\n",
       "      <td>9375.0</td>\n",
       "      <td>7.0</td>\n",
       "      <td>5.0</td>\n",
       "      <td>1997.0</td>\n",
       "      <td>1998.0</td>\n",
       "      <td>573.0</td>\n",
       "      <td>739.0</td>\n",
       "      <td>0.0</td>\n",
       "      <td>...</td>\n",
       "      <td>645.0</td>\n",
       "      <td>576.0</td>\n",
       "      <td>36.0</td>\n",
       "      <td>0.0</td>\n",
       "      <td>0.0</td>\n",
       "      <td>0.0</td>\n",
       "      <td>0.0</td>\n",
       "      <td>0.0</td>\n",
       "      <td>2.0</td>\n",
       "      <td>2009.0</td>\n",
       "    </tr>\n",
       "    <tr>\n",
       "      <th>1</th>\n",
       "      <td>120.0</td>\n",
       "      <td>42.533053</td>\n",
       "      <td>2887.0</td>\n",
       "      <td>6.0</td>\n",
       "      <td>5.0</td>\n",
       "      <td>1996.0</td>\n",
       "      <td>1997.0</td>\n",
       "      <td>0.0</td>\n",
       "      <td>1003.0</td>\n",
       "      <td>0.0</td>\n",
       "      <td>...</td>\n",
       "      <td>431.0</td>\n",
       "      <td>307.0</td>\n",
       "      <td>0.0</td>\n",
       "      <td>0.0</td>\n",
       "      <td>0.0</td>\n",
       "      <td>0.0</td>\n",
       "      <td>0.0</td>\n",
       "      <td>0.0</td>\n",
       "      <td>11.0</td>\n",
       "      <td>2008.0</td>\n",
       "    </tr>\n",
       "    <tr>\n",
       "      <th>2</th>\n",
       "      <td>20.0</td>\n",
       "      <td>50.000000</td>\n",
       "      <td>7207.0</td>\n",
       "      <td>5.0</td>\n",
       "      <td>7.0</td>\n",
       "      <td>1958.0</td>\n",
       "      <td>2008.0</td>\n",
       "      <td>0.0</td>\n",
       "      <td>696.0</td>\n",
       "      <td>0.0</td>\n",
       "      <td>...</td>\n",
       "      <td>0.0</td>\n",
       "      <td>117.0</td>\n",
       "      <td>0.0</td>\n",
       "      <td>0.0</td>\n",
       "      <td>0.0</td>\n",
       "      <td>0.0</td>\n",
       "      <td>0.0</td>\n",
       "      <td>0.0</td>\n",
       "      <td>2.0</td>\n",
       "      <td>2010.0</td>\n",
       "    </tr>\n",
       "    <tr>\n",
       "      <th>3</th>\n",
       "      <td>50.0</td>\n",
       "      <td>60.000000</td>\n",
       "      <td>9060.0</td>\n",
       "      <td>6.0</td>\n",
       "      <td>5.0</td>\n",
       "      <td>1939.0</td>\n",
       "      <td>1950.0</td>\n",
       "      <td>0.0</td>\n",
       "      <td>204.0</td>\n",
       "      <td>0.0</td>\n",
       "      <td>...</td>\n",
       "      <td>280.0</td>\n",
       "      <td>0.0</td>\n",
       "      <td>0.0</td>\n",
       "      <td>0.0</td>\n",
       "      <td>0.0</td>\n",
       "      <td>0.0</td>\n",
       "      <td>0.0</td>\n",
       "      <td>0.0</td>\n",
       "      <td>10.0</td>\n",
       "      <td>2009.0</td>\n",
       "    </tr>\n",
       "    <tr>\n",
       "      <th>4</th>\n",
       "      <td>30.0</td>\n",
       "      <td>60.000000</td>\n",
       "      <td>8400.0</td>\n",
       "      <td>2.0</td>\n",
       "      <td>5.0</td>\n",
       "      <td>1920.0</td>\n",
       "      <td>1950.0</td>\n",
       "      <td>0.0</td>\n",
       "      <td>290.0</td>\n",
       "      <td>0.0</td>\n",
       "      <td>...</td>\n",
       "      <td>246.0</td>\n",
       "      <td>0.0</td>\n",
       "      <td>0.0</td>\n",
       "      <td>0.0</td>\n",
       "      <td>0.0</td>\n",
       "      <td>0.0</td>\n",
       "      <td>0.0</td>\n",
       "      <td>0.0</td>\n",
       "      <td>1.0</td>\n",
       "      <td>2009.0</td>\n",
       "    </tr>\n",
       "  </tbody>\n",
       "</table>\n",
       "<p>5 rows × 36 columns</p>\n",
       "</div>"
      ],
      "text/plain": [
       "   MSSubClass  LotFrontage  LotArea  OverallQual  OverallCond  YearBuilt  \\\n",
       "0        60.0    70.115142   9375.0          7.0          5.0     1997.0   \n",
       "1       120.0    42.533053   2887.0          6.0          5.0     1996.0   \n",
       "2        20.0    50.000000   7207.0          5.0          7.0     1958.0   \n",
       "3        50.0    60.000000   9060.0          6.0          5.0     1939.0   \n",
       "4        30.0    60.000000   8400.0          2.0          5.0     1920.0   \n",
       "\n",
       "   YearRemodAdd  MasVnrArea  BsmtFinSF1  BsmtFinSF2  ...  GarageArea  \\\n",
       "0        1998.0       573.0       739.0         0.0  ...       645.0   \n",
       "1        1997.0         0.0      1003.0         0.0  ...       431.0   \n",
       "2        2008.0         0.0       696.0         0.0  ...         0.0   \n",
       "3        1950.0         0.0       204.0         0.0  ...       280.0   \n",
       "4        1950.0         0.0       290.0         0.0  ...       246.0   \n",
       "\n",
       "   WoodDeckSF  OpenPorchSF  EnclosedPorch  3SsnPorch  ScreenPorch  PoolArea  \\\n",
       "0       576.0         36.0            0.0        0.0          0.0       0.0   \n",
       "1       307.0          0.0            0.0        0.0          0.0       0.0   \n",
       "2       117.0          0.0            0.0        0.0          0.0       0.0   \n",
       "3         0.0          0.0            0.0        0.0          0.0       0.0   \n",
       "4         0.0          0.0            0.0        0.0          0.0       0.0   \n",
       "\n",
       "   MiscVal  MoSold  YrSold  \n",
       "0      0.0     2.0  2009.0  \n",
       "1      0.0    11.0  2008.0  \n",
       "2      0.0     2.0  2010.0  \n",
       "3      0.0    10.0  2009.0  \n",
       "4      0.0     1.0  2009.0  \n",
       "\n",
       "[5 rows x 36 columns]"
      ]
     },
     "execution_count": 23,
     "metadata": {},
     "output_type": "execute_result"
    }
   ],
   "source": [
    "## Yêu cầu 3\n",
    "train_t = imputer.transform(X_train)\n",
    "## VIẾT CODE Ở ĐÂY:\n",
    "test_t = imputer.transform(X_test)\n",
    "\n",
    "# sklearn trả về một mảng Numpy\n",
    "# tạo một dataframe\n",
    "train_t = pd.DataFrame(train_t, columns=X_train.columns)\n",
    "## VIẾT CODE Ở ĐÂY:\n",
    "test_t = pd.DataFrame(test_t,columns=X_test.columns)\n",
    "\n",
    "train_t.head()"
   ]
  },
  {
   "cell_type": "code",
   "execution_count": 24,
   "metadata": {
    "id": "48MN7jFGxdV1",
    "outputId": "283a80e9-46f1-41f5-ce02-135218546ada"
   },
   "outputs": [
    {
     "data": {
      "text/plain": [
       "LotFrontage    0\n",
       "MasVnrArea     0\n",
       "GarageYrBlt    0\n",
       "dtype: int64"
      ]
     },
     "execution_count": 24,
     "metadata": {},
     "output_type": "execute_result"
    }
   ],
   "source": [
    "# các biến không có NA sau khi gán\n",
    "\n",
    "train_t[['LotFrontage', 'MasVnrArea', 'GarageYrBlt']].isnull().sum()"
   ]
  },
  {
   "cell_type": "code",
   "execution_count": 25,
   "metadata": {
    "id": "lXnJYSX4xdV2",
    "outputId": "f91e8ae7-51ea-4fab-de09-d5cb2bb2ed41"
   },
   "outputs": [
    {
     "data": {
      "text/plain": [
       "420   NaN\n",
       "490   NaN\n",
       "642   NaN\n",
       "824   NaN\n",
       "921   NaN\n",
       "Name: MasVnrArea, dtype: float64"
      ]
     },
     "execution_count": 25,
     "metadata": {},
     "output_type": "execute_result"
    }
   ],
   "source": [
    "# các quan sát có NA trong tập huấn luyện ban đầu\n",
    "\n",
    "X_train[X_train['MasVnrArea'].isnull()]['MasVnrArea']"
   ]
  },
  {
   "cell_type": "code",
   "execution_count": 27,
   "metadata": {
    "id": "2hD806prxdV3",
    "outputId": "0534b6af-9c56-4eea-9d73-17cea37e55f7"
   },
   "outputs": [
    {
     "data": {
      "text/plain": [
       "420     99.765717\n",
       "490     34.106592\n",
       "642      0.000000\n",
       "824    375.749332\n",
       "921     85.817715\n",
       "Name: MasVnrArea, dtype: float64"
      ]
     },
     "execution_count": 27,
     "metadata": {},
     "output_type": "execute_result"
    }
   ],
   "source": [
    "# thay các giá trị trong tập dữ liệu đã biến đổi\n",
    "\n",
    "train_t[X_train['MasVnrArea'].isnull()]['MasVnrArea']"
   ]
  },
  {
   "cell_type": "code",
   "execution_count": 28,
   "metadata": {
    "id": "orJH-ENgxdV4",
    "outputId": "a8c1b9c9-6444-4f20-f7d8-08404d25dba2"
   },
   "outputs": [
    {
     "data": {
      "text/plain": [
       "103.55358898721731"
      ]
     },
     "execution_count": 28,
     "metadata": {},
     "output_type": "execute_result"
    }
   ],
   "source": [
    "# giá trị trung bình của biến (cho gán mean)\n",
    "\n",
    "X_train['MasVnrArea'].mean()"
   ]
  },
  {
   "cell_type": "markdown",
   "metadata": {
    "id": "tuMnxPiWxdV4"
   },
   "source": [
    "Trong một số trường hợp, các giá trị gán rất khác so với giá trị trung bình mà chúng ta đã sử dụng trong gán mean/median."
   ]
  },
  {
   "cell_type": "markdown",
   "metadata": {
    "id": "Z_N92RhJxdV9"
   },
   "source": [
    "## Tự động tìm các tham số gán tốt nhất\n",
    "\n",
    "húng ta có thể tối ưu hóa các tham số của gán KNN để dự đoán kết quả tốt hơn."
   ]
  },
  {
   "cell_type": "code",
   "execution_count": 29,
   "metadata": {
    "id": "Gy6oKe3nxdV9"
   },
   "outputs": [],
   "source": [
    "# import thêm các class để mô hình hóa\n",
    "from sklearn.preprocessing import StandardScaler\n",
    "from sklearn.linear_model import Lasso\n",
    "from sklearn.pipeline import Pipeline\n",
    "from sklearn.model_selection import GridSearchCV"
   ]
  },
  {
   "cell_type": "code",
   "execution_count": 30,
   "metadata": {
    "id": "9B4Xr8FpxdV-",
    "outputId": "24a0fcf6-68e1-452e-acd6-6d6513b6d74c"
   },
   "outputs": [
    {
     "data": {
      "text/plain": [
       "((1022, 36), (438, 36))"
      ]
     },
     "execution_count": 30,
     "metadata": {},
     "output_type": "execute_result"
    }
   ],
   "source": [
    "# chia thành tập huấn luyện và tập kiểm tra\n",
    "\n",
    "X_train, X_test, y_train, y_test = train_test_split(\n",
    "    data[cols_to_use],  # chỉ các đặc trưng\n",
    "    data['SalePrice'],  # mục tiêu\n",
    "    test_size=0.3,  # phần trăm các quan sát trong tập kiểm tra\n",
    "    random_state=0)  # cho khả năng tái lặp\n",
    "\n",
    "X_train.shape, X_test.shape"
   ]
  },
  {
   "cell_type": "code",
   "execution_count": 31,
   "metadata": {
    "id": "FEQDvoFRxdV-"
   },
   "outputs": [],
   "source": [
    "pipe = Pipeline(steps=[\n",
    "    ('imputer', KNNImputer(\n",
    "        n_neighbors=5,\n",
    "        weights='distance',\n",
    "        add_indicator=False)),\n",
    "    \n",
    "    ('scaler', StandardScaler()),\n",
    "    ('regressor', Lasso(max_iter=2000)),\n",
    "])"
   ]
  },
  {
   "cell_type": "code",
   "execution_count": 34,
   "metadata": {
    "id": "tXDURwnuxdV_"
   },
   "outputs": [],
   "source": [
    "## Yêu cầu 4: tạo grid với tất cả các tham số chúng ta muốn kiểm tra\n",
    "\n",
    "param_grid = {\n",
    "    'imputer__n_neighbors': [3,5,10],\n",
    "    'imputer__weights': ['uniform', 'distance'],\n",
    "    'imputer__add_indicator': [True, False],\n",
    "    'regressor__alpha': [10, 100, 200],\n",
    "}\n",
    "\n",
    "## VIẾT CODE Ở ĐÂY:\n",
    "grid_search = GridSearchCV(pipe,param_grid,cv = 5, n_jobs=-1, scoring='r2')\n",
    "\n",
    "# cv=5 là kiểm định chéo\n",
    "# no_jobs =-1 để sử dụng tất cả cpus có sẵn\n",
    "# scoring='r2' để đánh giá sử dụng r^2\n",
    "\n",
    "# để biết thêm chi tiết về các tham số grid, ghé trang:\n",
    "#https://scikit-learn.org/stable/modules/generated/sklearn.model_selection.GridSearchCV.html"
   ]
  },
  {
   "cell_type": "code",
   "execution_count": 35,
   "metadata": {
    "id": "fcNTuGDmxdV_",
    "outputId": "9ee1889b-a1c3-44c7-ab13-239d1574be11"
   },
   "outputs": [
    {
     "name": "stdout",
     "output_type": "stream",
     "text": [
      "best linear regression from grid search: 0.845\n"
     ]
    }
   ],
   "source": [
    "# huấn luyện trên tất cả các tổ hợp\n",
    "# của các tham số trên\n",
    "grid_search.fit(X_train, y_train)\n",
    "\n",
    "# và in ra hệ số tốt nhất trên tập huấn luyện\n",
    "print((\"best linear regression from grid search: %.3f\"\n",
    "       % grid_search.score(X_train, y_train)))"
   ]
  },
  {
   "cell_type": "code",
   "execution_count": 36,
   "metadata": {
    "id": "XD5xQ5cNxdWB",
    "outputId": "431d0bdc-9e76-4b47-ae09-ef77cea17f27"
   },
   "outputs": [
    {
     "name": "stdout",
     "output_type": "stream",
     "text": [
      "best linear regression from grid search: 0.730\n"
     ]
    }
   ],
   "source": [
    "# kiểm tra chất lượng trên tập kiểm tra\n",
    "print((\"best linear regression from grid search: %.3f\"\n",
    "       % grid_search.score(X_test, y_test)))"
   ]
  },
  {
   "cell_type": "code",
   "execution_count": 37,
   "metadata": {
    "id": "YQRHQrg_xdWB",
    "outputId": "9bb3ca39-7ede-490f-fe73-36862cb0fcbe"
   },
   "outputs": [
    {
     "data": {
      "text/plain": [
       "{'imputer__add_indicator': True,\n",
       " 'imputer__n_neighbors': 10,\n",
       " 'imputer__weights': 'distance',\n",
       " 'regressor__alpha': 200}"
      ]
     },
     "execution_count": 37,
     "metadata": {},
     "output_type": "execute_result"
    }
   ],
   "source": [
    "# tìm các tham số tốt nhất\n",
    "\n",
    "grid_search.best_params_"
   ]
  },
  {
   "cell_type": "markdown",
   "metadata": {
    "id": "yKAnOGtRxdWB"
   },
   "source": [
    "## So sánh với gán đơn biến"
   ]
  },
  {
   "cell_type": "code",
   "execution_count": 38,
   "metadata": {
    "id": "iibtVjV0xdWC"
   },
   "outputs": [],
   "source": [
    "from sklearn.impute import SimpleImputer"
   ]
  },
  {
   "cell_type": "code",
   "execution_count": 39,
   "metadata": {
    "id": "BJDUhAzlxdWC",
    "outputId": "b499b295-e524-4130-df25-89afbaf39fe1"
   },
   "outputs": [
    {
     "data": {
      "text/plain": [
       "((1022, 36), (438, 36))"
      ]
     },
     "execution_count": 39,
     "metadata": {},
     "output_type": "execute_result"
    }
   ],
   "source": [
    "# chia thành tập huấn luyện và tập kiểm tra\n",
    "\n",
    "X_train, X_test, y_train, y_test = train_test_split(\n",
    "    data[cols_to_use],  # chỉ các đặc trưng\n",
    "    data['SalePrice'],  # mục tiêu\n",
    "    test_size=0.3,  # phần trăm các quan sát trong tập kiểm tra\n",
    "    random_state=0)  # cho khả năng tái lặp\n",
    "\n",
    "X_train.shape, X_test.shape"
   ]
  },
  {
   "cell_type": "code",
   "execution_count": 40,
   "metadata": {
    "id": "VcduKIc7xdWD",
    "outputId": "c20ec41c-0ff1-450f-f6a8-d2476860c518"
   },
   "outputs": [
    {
     "name": "stdout",
     "output_type": "stream",
     "text": [
      "best linear regression from grid search: 0.845\n"
     ]
    }
   ],
   "source": [
    "## Yêu cầu 5\n",
    "pipe = Pipeline(steps=[\n",
    "    ('imputer', SimpleImputer(strategy='mean', fill_value=-1)),\n",
    "    ('scaler', StandardScaler()),\n",
    "    ('regressor', Lasso(max_iter=2000)),\n",
    "])\n",
    "\n",
    "param_grid = {\n",
    "    'imputer__strategy': ['mean', 'median', 'constant'],\n",
    "    'imputer__add_indicator': [True, False],\n",
    "    'regressor__alpha': [10, 100, 200],\n",
    "}\n",
    "\n",
    "## VIẾT CODE Ở ĐÂY:\n",
    "grid_search = GridSearchCV(pipe,param_grid,cv =5,n_jobs=-1,scoring='r2')\n",
    "\n",
    "# cv=5 là kiểm định chéo\n",
    "# no_jobs =-1 để sử dụng tất cả cpus có sẵn\n",
    "# scoring='r2' để đánh giá sử dụng r^2\n",
    "\n",
    "# huấn luyện trên tất cả các tổ hợp có thể của các tham số trên\n",
    "## VIẾT CODE Ở ĐÂY:\n",
    "grid_search.fit(X_train, y_train)\n",
    "\n",
    "# và in ra hệ số tốt nhất trên tập huấn luyện\n",
    "## VIẾT CODE Ở ĐÂY:\n",
    "print((\"best linear regression from grid search: %.3f\"\n",
    "       % grid_search.score(X_train, y_train)))"
   ]
  },
  {
   "cell_type": "code",
   "execution_count": 41,
   "metadata": {
    "id": "ZiZMM-yIxdWD",
    "outputId": "9c0603f1-2b1a-4376-a81b-80ac16552d4e"
   },
   "outputs": [
    {
     "name": "stdout",
     "output_type": "stream",
     "text": [
      "best linear regression from grid search: 0.729\n"
     ]
    }
   ],
   "source": [
    "# cuối cùng kiểm cha chất lượng qua tập kiểm tra\n",
    "print((\"best linear regression from grid search: %.3f\"\n",
    "       % grid_search.score(X_test, y_test)))"
   ]
  },
  {
   "cell_type": "code",
   "execution_count": 42,
   "metadata": {
    "id": "GSnCY5RpxdWD",
    "outputId": "b0d6a515-0f11-4762-bf14-90ea55e1ab60"
   },
   "outputs": [
    {
     "data": {
      "text/plain": [
       "{'imputer__add_indicator': False,\n",
       " 'imputer__strategy': 'constant',\n",
       " 'regressor__alpha': 200}"
      ]
     },
     "execution_count": 42,
     "metadata": {},
     "output_type": "execute_result"
    }
   ],
   "source": [
    "# và tìm các tham số khớp tốt nhất như này\n",
    "grid_search.best_params_"
   ]
  },
  {
   "cell_type": "markdown",
   "metadata": {
    "id": "ekVnkHpYxdWE"
   },
   "source": [
    "Chúng ta thấy rằng gán các giá trị với giá trị -1 bất kỳ cho chất lượng khá tương tự như khi thực hiện gán KNN, vì vậy có thể chúng ta sẽ không thêm độ phức tạp bổ sung của các mô hình huấn luyện để gán NA, sau đó chúng ta tiếp tục dự đoán mục tiêu thực cần tìm."
   ]
  },
  {
   "cell_type": "code",
   "execution_count": null,
   "metadata": {
    "id": "LSo-DDozxdWE"
   },
   "outputs": [],
   "source": []
  }
 ],
 "metadata": {
  "colab": {
   "collapsed_sections": [],
   "name": "8.9 Gán theo KNN.ipynb",
   "provenance": []
  },
  "kernelspec": {
   "display_name": "Python 3",
   "language": "python",
   "name": "python3"
  },
  "language_info": {
   "codemirror_mode": {
    "name": "ipython",
    "version": 3
   },
   "file_extension": ".py",
   "mimetype": "text/x-python",
   "name": "python",
   "nbconvert_exporter": "python",
   "pygments_lexer": "ipython3",
   "version": "3.8.8"
  },
  "toc": {
   "base_numbering": 1,
   "nav_menu": {},
   "number_sections": true,
   "sideBar": true,
   "skip_h1_title": false,
   "title_cell": "Table of Contents",
   "title_sidebar": "Contents",
   "toc_cell": false,
   "toc_position": {},
   "toc_section_display": true,
   "toc_window_display": true
  }
 },
 "nbformat": 4,
 "nbformat_minor": 1
}
