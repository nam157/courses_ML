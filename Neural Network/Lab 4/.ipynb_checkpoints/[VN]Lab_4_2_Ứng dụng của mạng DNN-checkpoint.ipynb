{
 "cells": [
  {
   "cell_type": "markdown",
   "metadata": {
    "id": "4MNgHyrBvnvc"
   },
   "source": [
    "Bạn hoàn thành phần này cũng là hoàn thành phần cuối cùng của lab 4.\n",
    "Bạn sẽ sử dụng các hàm đã triển khai trong lab trước đó để xây dựng một mạng sâu và áp dụng nó để phân loại mèo và không phải mèo. Hy vọng rằng bạn sẽ thấy sự cải thiện về độ chính xác so với việc triển khai hồi quy logistic trước đây của mình.\n",
    "\n",
    "**Sau lab này, bạn sẽ có thể:**\n",
    "- Xây dựng và áp dụng mạng nơ ron sâu (deep neural network) cho việc học có giám sát (supervised learning).\n",
    "\n",
    "Hãy bắt đầu nào!"
   ]
  },
  {
   "cell_type": "markdown",
   "metadata": {
    "id": "3uBJF6B2vnvj"
   },
   "source": [
    "## 1 - Thư viện"
   ]
  },
  {
   "cell_type": "markdown",
   "metadata": {
    "id": "wQt3rS58vnvk"
   },
   "source": [
    "Đầu tiên, hãy nhập tất cả các thư viện mà chúng ta sẽ cần trong lab này.\n",
    "- [numpy](www.numpy.org) là thư viện cơ bản cho tính toán khoa học trong Python.\n",
    "- [matplotlib](http://matplotlib.org) là một thư viện để vẽ đồ thị trong Python.\n",
    "- [h5py](http://www.h5py.org) là một thư viện phổ biến để tương tác với tập dữ liệu được lưu trữ trên tệp H5.\n",
    "- [PIL](http://www.pythonware.com/products/pil/) và [scipy](https://www.scipy.org/) được sử dụng ở đây để kiểm tra mô hình của bạn với hình ảnh ở cuối .\n",
    "- dnn_app_utils cung cấp các hàm được triển khai trong lab \"Xây dựng mạng nơ-ron sâu của bạn: Từng bước\" vào notebook này.\n",
    "- np.random.seed(1) được sử dụng để giữ cho tất cả các lệnh gọi hàm ngẫu nhiên nhất quán. Nó sẽ giúp chúng tôi đánh giá bài làm của bạn."
   ]
  },
  {
   "cell_type": "code",
   "execution_count": 2,
   "metadata": {
    "id": "1iWpdZIpvnvl"
   },
   "outputs": [
    {
     "name": "stdout",
     "output_type": "stream",
     "text": [
      "The autoreload extension is already loaded. To reload it, use:\n",
      "  %reload_ext autoreload\n"
     ]
    }
   ],
   "source": [
    "import time\n",
    "import numpy as np\n",
    "import h5py\n",
    "import matplotlib.pyplot as plt\n",
    "import scipy\n",
    "from PIL import Image\n",
    "from scipy import ndimage\n",
    "from dnn_app_utils_v2 import *\n",
    "\n",
    "%matplotlib inline\n",
    "plt.rcParams['figure.figsize'] = (5.0, 4.0) # đặt kích thước mặc định của biểu đồ\n",
    "plt.rcParams['image.interpolation'] = 'nearest'\n",
    "plt.rcParams['image.cmap'] = 'gray'\n",
    "\n",
    "%load_ext autoreload\n",
    "%autoreload 2\n",
    "\n",
    "np.random.seed(1)"
   ]
  },
  {
   "cell_type": "markdown",
   "metadata": {
    "id": "iaIAtqJ_vnvl"
   },
   "source": [
    "## 2 - Tập dữ liệu\n",
    "\n",
    "Chúng ta sẽ sử dụng tập dữ liệu \"Cat vs non-Cat\". Mô hình bạn đã xây dựng có độ chính xác thử nghiệm 70% về phân loại hình ảnh là mèo và không phải mèo. Hy vọng rằng mô hình mới của bạn sẽ hoạt động tốt hơn!\n",
    "\n",
    "**Trình bày bài toán**: Cho tập dữ liệu (\"data.h5\") chứa:\n",
    "    - tập huấn luyện hình ảnh m_train được dán nhãn cat (1) hoặc non-cat (0)\n",
    "    - tập thử nghiệm hình ảnh m_test được dán nhãn cat và non-cat\n",
    "    - mỗi ảnh có shape (num_px, num_px, 3) trong đó 3 là 3 kênh (RGB).\n",
    "\n",
    "Hãy làm quen với tập dữ liệu. Tải dữ liệu bằng cách chạy cell bên dưới."
   ]
  },
  {
   "cell_type": "code",
   "execution_count": 3,
   "metadata": {
    "id": "Qd0G41vtvnvm"
   },
   "outputs": [],
   "source": [
    "train_x_orig, train_y, test_x_orig, test_y, classes = load_data()"
   ]
  },
  {
   "cell_type": "markdown",
   "metadata": {
    "id": "Pe_b1GjUvnvm"
   },
   "source": [
    "Đoạn code sau sẽ hiển thị cho bạn một hình ảnh trong tập dữ liệu. Hãy tùy ý thay đổi chỉ mục và chạy lại cell nhiều lần để xem các hình ảnh khác."
   ]
  },
  {
   "cell_type": "code",
   "execution_count": 4,
   "metadata": {
    "id": "gs_0oUtvvnvm",
    "outputId": "74802e33-c3b1-4593-eafb-79aded7f5f84"
   },
   "outputs": [
    {
     "name": "stdout",
     "output_type": "stream",
     "text": [
      "y = 0. It's a non-cat picture.\n"
     ]
    },
    {
     "data": {
      "image/png": "[encoded data removed]",
      "text/plain": [
       "<Figure size 360x288 with 1 Axes>"
      ]
     },
     "metadata": {
      "needs_background": "light"
     },
     "output_type": "display_data"
    }
   ],
   "source": [
    "# Hình ảnh ví dụ\n",
    "index = 10\n",
    "plt.imshow(train_x_orig[index])\n",
    "print (\"y = \" + str(train_y[0,index]) + \". It's a \" + classes[train_y[0,index]].decode(\"utf-8\") +  \" picture.\")"
   ]
  },
  {
   "cell_type": "code",
   "execution_count": 5,
   "metadata": {
    "id": "tu_NbO6evnvn",
    "outputId": "3a739061-1403-4970-bef5-3e9fbdcab7b7"
   },
   "outputs": [
    {
     "name": "stdout",
     "output_type": "stream",
     "text": [
      "Number of training examples: 209\n",
      "Number of testing examples: 50\n",
      "Each image is of size: (64, 64, 3)\n",
      "train_x_orig shape: (209, 64, 64, 3)\n",
      "train_y shape: (1, 209)\n",
      "test_x_orig shape: (50, 64, 64, 3)\n",
      "test_y shape: (1, 50)\n"
     ]
    }
   ],
   "source": [
    "# Khám phá tập dữ liệu\n",
    "m_train = train_x_orig.shape[0]\n",
    "num_px = train_x_orig.shape[1]\n",
    "m_test = test_x_orig.shape[0]\n",
    "\n",
    "print (\"Number of training examples: \" + str(m_train))\n",
    "print (\"Number of testing examples: \" + str(m_test))\n",
    "print (\"Each image is of size: (\" + str(num_px) + \", \" + str(num_px) + \", 3)\")\n",
    "print (\"train_x_orig shape: \" + str(train_x_orig.shape))\n",
    "print (\"train_y shape: \" + str(train_y.shape))\n",
    "print (\"test_x_orig shape: \" + str(test_x_orig.shape))\n",
    "print (\"test_y shape: \" + str(test_y.shape))"
   ]
  },
  {
   "cell_type": "markdown",
   "metadata": {
    "id": "rSACQ87fvnvo"
   },
   "source": [
    "Như thường lệ, chúng ta sẽ định hình lại và chuẩn hóa các hình ảnh trước khi đưa chúng lên mạng. Code được đưa ra trong cell bên dưới.\n",
    "\n",
    "<img src=\"images/imvectorkiank.png\" style=\"width:450px;height:300px;\">\n",
    "\n",
    "<caption><center> <u>Figure 1</u>: Chuyển ảnh sang vectơ. <br> </center></caption>"
   ]
  },
  {
   "cell_type": "code",
   "execution_count": 6,
   "metadata": {
    "id": "Wzja27fbvnvo",
    "outputId": "08795359-14ce-4a8c-916c-e89de255ad8e"
   },
   "outputs": [
    {
     "name": "stdout",
     "output_type": "stream",
     "text": [
      "train_x's shape: (12288, 209)\n",
      "test_x's shape: (12288, 50)\n"
     ]
    }
   ],
   "source": [
    "# Định hình lại các ví dụ huấn luyện và kiểm tra\n",
    "train_x_flatten = train_x_orig.reshape(train_x_orig.shape[0], -1).T   # \"-1\" làm cho định hình lại làm phẳng các dimension còn lại\n",
    "test_x_flatten = test_x_orig.reshape(test_x_orig.shape[0], -1).T\n",
    "\n",
    "# Chuẩn tắc hóa dữ liệu để có các giá trị nằm trong khoảng 0 và 1.\n",
    "train_x = train_x_flatten/255.\n",
    "test_x = test_x_flatten/255.\n",
    "\n",
    "print (\"train_x's shape: \" + str(train_x.shape))\n",
    "print (\"test_x's shape: \" + str(test_x.shape))\n"
   ]
  },
  {
   "cell_type": "markdown",
   "metadata": {
    "id": "zpu9n3nPvnvo"
   },
   "source": [
    "$12,288$ = $64 \\times 64 \\times 3$ là kích thước của một vectơ hình ảnh được định dạng lại."
   ]
  },
  {
   "cell_type": "markdown",
   "metadata": {
    "id": "WPyYK4yAvnvo"
   },
   "source": [
    "## 3 - Kiến trúc mô hình"
   ]
  },
  {
   "cell_type": "markdown",
   "metadata": {
    "id": "IEYu_ciVvnvp"
   },
   "source": [
    "Bây giờ bạn đã quen thuộc với tập dữ liệu, đã đến lúc xây dựng một mạng lưới nơ-ron sâu để phân biệt hình ảnh là mèo với ảnh không phải mèo.\n",
    "\n",
    "Bạn sẽ xây dựng 2 mô hình khác nhau:\n",
    "- Mạng nơ-ron 2 lớp\n",
    "- Mạng nơ-ron sâu L lớp\n",
    "\n",
    "Sau đó, bạn sẽ so sánh hiệu suất của các mô hình này và cũng có thể thử các giá trị khác nhau cho $L$. \n",
    "\n",
    "Chúng ta hãy nhìn vào hai kiến ​​trúc.\n",
    "\n",
    "### 3.1 - Mạng nơ-ron 2 lớp\n",
    "\n",
    "<img src=\"images/2layerNN_kiank.png\" style=\"width:650px;height:400px;\">\n",
    "<caption><center> <u>Hình 2</u>: Mạng nơ-ron 2 lớp. <br> Mô hình có thể được tóm tắt như sau: ***INPUT -> LINEAR -> RELU -> LINEAR -> SIGMOID -> OUTPUT***. </center></caption>\n",
    "\n",
    "<u>Kiến trúc chi tiết của Hình 2</u>:\n",
    "- Đầu vào là hình (64,64,3) được làm phẳng thành vectơ có kích thước $(12288,1)$. \n",
    "- Vectơ tương ứng: $[x_0,x_1,...,x_{12287}]^T$ is sau đó được nhân với ma trận trọng số $W^{[1]}$ có kích thước $(n^{[1]}, 12288)$.\n",
    "- Sau đó, thêm một bias term và lấy relu của nó để nhận được vectơ sau: $[a_0^{[1]}, a_1^{[1]},..., a_{n^{[1]}-1}^{[1]}]^T$.\n",
    "- Sau đó bạn lặp lại quy trình tương tự.\n",
    "- Nhân vectơ kết quả với $W^{[2]}$ và thêm số chặn (bias) của mình. \n",
    "- Cuối cùng, lấy sigmoid của kết quả. Nếu lớn hơn 0.5, bạn phân loại nó thành cat (mèo).\n",
    "\n",
    "### 3.2 - Mạng nơ-ron sâu L lớp\n",
    "\n",
    "Thật khó để biểu diễn một mạng nơ-ron sâu L lớp với cách biểu diễn trên. Tuy nhiên, đây là một biểu diễn mạng được đơn giản hóa:\n",
    "\n",
    "<img src=\"images/LlayerNN_kiank.png\" style=\"width:650px;height:400px;\">\n",
    "<caption><center> <u>Hình 3</u>: Mạng nơ-ron L-lớp. <br> Mô hình có thể được tóm tắt như sau: ***[LINEAR -> RELU] $\\times$ (L-1) -> LINEAR -> SIGMOID***</center></caption>\n",
    "\n",
    "<u>Kiến trúc chi tiết của Hình 3</u>:\n",
    "- Đầu vào là một hình ảnh (64,64,3) được làm phẳng thành một vector có kích thước (12288,1).\n",
    "- Vectơ tương ứng: $[x_0,x_1,...,x_{12287}]^T$ is sau đó được nhân với ma trận trọng số $W^{[1]}$ và sau đó bạn thêm vào số chặn $b^{[1]}$. Kết quả được gọi là đơn vị tuyến tính.\n",
    "- Tiếp theo, bạn lấy relu của đơn vị tuyến tính. Quá trình này có thể được lặp lại nhiều lần cho mỗi $(W^{[l]}, b^{[l]})$ tùy thuộc vào kiến ​​trúc mô hình.\n",
    "- Cuối cùng, bạn lấy sigmoid của đơn vị tuyến tính cuối. Nếu lớn hơn 0,5, bạn phân loại nó thành cat.\n",
    "\n",
    "### 3.3 - Phương pháp luận chung\n",
    "\n",
    "Như thường lệ, bạn sẽ làm theo phương pháp Deep Learning để xây dựng mô hình:\n",
    "    1. Khởi tạo tham số/Xác định siêu tham số (hyperparameter)\n",
    "    2. Vòng lặp cho num_iterations:\n",
    "        a. Lan truyền xuôi\n",
    "        b. Tính hàm mất mát\n",
    "        c. Lan truyền ngược\n",
    "        d. Cập nhật tham số (sử dụng các tham số và grad từ lan truyền ngược) \n",
    "    4. Sử dụng các thông số đã huấn luyện để dự đoán nhãn\n",
    "\n",
    "Bây giờ chúng ta hãy thực hiện hai mô hình đó!"
   ]
  },
  {
   "cell_type": "markdown",
   "metadata": {
    "id": "msMjmOq4vnvq"
   },
   "source": [
    "## 4 - Mạng nơ-ron 2 lớp\n",
    "\n",
    "**Câu hỏi**:  Sử dụng các hàm trợ giúp mà bạn đã thực hiện trong lab trước để xây dựng mạng nơ-ron 2 lớp với cấu trúc như sau: *LINEAR -> RELU -> LINEAR -> SIGMOID*. Các hàm bạn có thể cần và đầu vào của chúng là:\n",
    "```python\n",
    "def initialize_parameters(n_x, n_h, n_y):\n",
    "    ...\n",
    "    return parameters \n",
    "def linear_activation_forward(A_prev, W, b, activation):\n",
    "    ...\n",
    "    return A, cache\n",
    "def compute_cost(AL, Y):\n",
    "    ...\n",
    "    return cost\n",
    "def linear_activation_backward(dA, cache, activation):\n",
    "    ...\n",
    "    return dA_prev, dW, db\n",
    "def update_parameters(parameters, grads, learning_rate):\n",
    "    ...\n",
    "    return parameters\n",
    "```"
   ]
  },
  {
   "cell_type": "code",
   "execution_count": 7,
   "metadata": {
    "id": "Q3h01k9lvnvs"
   },
   "outputs": [],
   "source": [
    "### CONSTANTS XÁC ĐỊNH MÔ HÌNH ####\n",
    "n_x = 12288     # num_px * num_px * 3\n",
    "n_h = 7\n",
    "n_y = 1\n",
    "layers_dims = (n_x, n_h, n_y)"
   ]
  },
  {
   "cell_type": "code",
   "execution_count": 8,
   "metadata": {
    "id": "Vuiv2O3_vnvs"
   },
   "outputs": [],
   "source": [
    "def two_layer_model(X, Y, layers_dims, learning_rate = 0.0075, num_iterations = 3000, print_cost=False):\n",
    "    \"\"\"\n",
    "    Triển khai mạng nơ-ron 2 lớp: LINEAR->RELU->LINEAR->SIGMOID.\n",
    "    \n",
    "    Đối số:\n",
    "    X -- dữ liệu đầu vào có shape (n_x, số ví dụ)\n",
    "    Y -- vectơ true \"label\" (0 nếu là mèo, 1 nếu không phải mèo), có shape (1, số ví dụ)\n",
    "    layers_dims -- chiều của lớp (n_x, n_h, n_y)\n",
    "    num_iterations -- số lần lặp của vòng lặp tối ưu hóa\n",
    "    learning_rate -- tốc độ học của quy tắc cập nhật gradient descent\n",
    "    print_cost -- Nếu True, điều này sẽ in ra cost sau mỗi 100 lần lặp\n",
    "    \n",
    "    Trả về:\n",
    "    parameters -- dictionary chứa W1, W2, b1, và b2\n",
    "    \"\"\"\n",
    "    \n",
    "    np.random.seed(1)\n",
    "    grads = {}\n",
    "    costs = []                              # theo dõi cost\n",
    "    m = X.shape[1]                           # số ví dụ\n",
    "    (n_x, n_h, n_y) = layers_dims\n",
    "    \n",
    "    # Khởi tạo dictionary parameters bằng cách gọi hàm đã triển khai trước đó\n",
    "    ### BẮT ĐẦU CODE Ở ĐÂY ### (≈ 1 dòng code)\n",
    "    parameters = initialize_parameters(n_x, n_h, n_y)\n",
    "    ### KẾT THÚC CODE Ở ĐÂY ###\n",
    "    \n",
    "    # Lấy W1, b1, W2 và b2 từ dictionary parameters.\n",
    "    W1 = parameters[\"W1\"]\n",
    "    b1 = parameters[\"b1\"]\n",
    "    W2 = parameters[\"W2\"]\n",
    "    b2 = parameters[\"b2\"]\n",
    "    \n",
    "    # vòng lặp (gradient descent)\n",
    "\n",
    "    for i in range(0, num_iterations):\n",
    "\n",
    "        # Lan truyền xuôi: LINEAR -> RELU -> LINEAR -> SIGMOID. Đầu vào: \"X, W1, b1\". Đầu ra: \"A1, cache1, A2, cache2\".\n",
    "        ### BẮT ĐẦU CODE Ở ĐÂY ### (≈ 2 dòng code)\n",
    "        A1, cache1 = linear_activation_forward(X, W1, b1, \"relu\")\n",
    "        A2, cache2 = linear_activation_forward(A1, W2, b2, \"sigmoid\")\n",
    "        ### KẾT THÚC CODE Ở ĐÂY ###\n",
    "        \n",
    "        # Tính cost\n",
    "        ### BẮT ĐẦU CODE Ở ĐÂY ### (≈ 1 dòng code)\n",
    "        cost = compute_cost(A2, Y)\n",
    "        ### KẾT THÚC CODE Ở ĐÂY ###\n",
    "        \n",
    "        # Khởi tạo lan truyền ngược\n",
    "        dA2 = - (np.divide(Y, A2) - np.divide(1 - Y, 1 - A2))\n",
    "        \n",
    "        # Lan truyền ngược. Đầu vào: \"dA2, cache2, cache1\". Đầu ra: \"dA1, dW2, db2; also dA0 (not used), dW1, db1\".\n",
    "        ### BẮT ĐẦU CODE Ở ĐÂY ### (≈ 2 dòng code)\n",
    "        dA1, dW2, db2 = linear_activation_backward(dA2, cache2, \"sigmoid\")\n",
    "        dA0, dW1, db1 = linear_activation_backward(dA1, cache1, \"relu\")\n",
    "        ### KẾT THÚC CODE Ở ĐÂY ###\n",
    "        \n",
    "        # Đặt grads['dWl'] bằng dW1, grads['db1'] bằng db1, grads['dW2'] bằng dW2, grads['db2'] bằng db2\n",
    "        grads['dW1'] = dW1\n",
    "        grads['db1'] = db1\n",
    "        grads['dW2'] = dW2\n",
    "        grads['db2'] = db2\n",
    "        \n",
    "        # Cập nhật tham số.\n",
    "        ### BẮT ĐẦU CODE Ở ĐÂY ### (khoảng 1 dòng code)\n",
    "        parameters = update_parameters(parameters, grads, learning_rate)\n",
    "        ### KẾT THÚC CODE Ở ĐÂY ###\n",
    "\n",
    "        # Truy hồi W1, b1, W2, b2 từ parameters\n",
    "        W1 = parameters[\"W1\"]\n",
    "        b1 = parameters[\"b1\"]\n",
    "        W2 = parameters[\"W2\"]\n",
    "        b2 = parameters[\"b2\"]\n",
    "        \n",
    "        # In ra cost sau mỗi 100 ví dụ\n",
    "        if print_cost and i % 100 == 0:\n",
    "            print(\"Cost after iteration {}: {}\".format(i, np.squeeze(cost)))\n",
    "        if print_cost and i % 100 == 0:\n",
    "            costs.append(cost)\n",
    "       \n",
    "    # vẽ biểu đồ của cost\n",
    "\n",
    "    plt.plot(np.squeeze(costs))\n",
    "    plt.ylabel('cost')\n",
    "    plt.xlabel('iterations (per tens)')\n",
    "    plt.title(\"Learning rate =\" + str(learning_rate))\n",
    "    plt.show()\n",
    "    \n",
    "    return parameters"
   ]
  },
  {
   "cell_type": "markdown",
   "metadata": {
    "id": "N6X8p4pFvnvt"
   },
   "source": [
    "Chạy cell bên dưới để huấn luyện các tham số. Xem liệu mô hình của bạn có chạy không. Cost (mất mát) nên giảm. Có thể mất đến 5 phút để chạy 2500 lần lặp. Kiểm tra xem \"Cost after iteration 0\" (Mất mát sau lần lặp 0) có khớp với kỳ vọng đầu ra bên dưới hay không; nếu không, hãy nhấp vào ô vuông (⬛) trên thanh trên của notebook để dừng cell và cố gắng tìm lỗi của bạn."
   ]
  },
  {
   "cell_type": "code",
   "execution_count": null,
   "metadata": {
    "id": "_cdBRI-tvnvt",
    "outputId": "2e1b4608-1724-419f-885f-5d85546d4621"
   },
   "outputs": [
    {
     "name": "stdout",
     "output_type": "stream",
     "text": [
      "Cost after iteration 0: 0.693049735659989\n",
      "Cost after iteration 100: 0.6464320953428849\n",
      "Cost after iteration 200: 0.6325140647912678\n",
      "Cost after iteration 300: 0.6015024920354665\n",
      "Cost after iteration 400: 0.5601966311605748\n",
      "Cost after iteration 500: 0.5158304772764729\n",
      "Cost after iteration 600: 0.4754901313943325\n",
      "Cost after iteration 700: 0.43391631512257495\n",
      "Cost after iteration 800: 0.4007977536203886\n",
      "Cost after iteration 900: 0.35807050113237976\n",
      "Cost after iteration 1000: 0.33942815383664127\n"
     ]
    }
   ],
   "source": [
    "parameters = two_layer_model(train_x, train_y, layers_dims = (n_x, n_h, n_y), num_iterations = 2500, print_cost=True)"
   ]
  },
  {
   "cell_type": "markdown",
   "metadata": {
    "id": "VW1QdAUyvnvu"
   },
   "source": [
    "**Kỳ vọng đầu ra**:\n",
    "<table> \n",
    "    <tr>\n",
    "        <td> **Cost after iteration 0**</td>\n",
    "        <td> 0.6930497356599888 </td>\n",
    "    </tr>\n",
    "    <tr>\n",
    "        <td> **Cost after iteration 100**</td>\n",
    "        <td> 0.6464320953428849 </td>\n",
    "    </tr>\n",
    "    <tr>\n",
    "        <td> **...**</td>\n",
    "        <td> ... </td>\n",
    "    </tr>\n",
    "    <tr>\n",
    "        <td> **Cost after iteration 2400**</td>\n",
    "        <td> 0.048554785628770206 </td>\n",
    "    </tr>\n",
    "</table>"
   ]
  },
  {
   "cell_type": "markdown",
   "metadata": {
    "id": "uYKPWUdUvnvu"
   },
   "source": [
    "Thật tốt khi bạn đã xây dựng được một triển khai vectơ hóa! Nếu không, nó có thể lâu hơn gấp 10 để huấn luyện điều này.\n",
    "\n",
    "Bây giờ, bạn có thể sử dụng các tham số được huấn luyện để phân loại hình ảnh từ tập dữ liệu. Để xem dự đoán về các tập huấn luyện và thử nghiệm, hãy chạy cell bên dưới."
   ]
  },
  {
   "cell_type": "code",
   "execution_count": null,
   "metadata": {
    "id": "AkoUO9uKvnvu",
    "outputId": "7e798113-14db-4c87-99cf-6b408a3a192e"
   },
   "outputs": [],
   "source": [
    "predictions_train = predict(train_x, train_y, parameters)"
   ]
  },
  {
   "cell_type": "markdown",
   "metadata": {
    "id": "NziA7KA4vnvv"
   },
   "source": [
    "**Kỳ vọng đầu ra**:\n",
    "<table> \n",
    "    <tr>\n",
    "        <td> **Accuracy**</td>\n",
    "        <td> 1.0 </td>\n",
    "    </tr>\n",
    "</table>"
   ]
  },
  {
   "cell_type": "code",
   "execution_count": null,
   "metadata": {
    "id": "FwaqaZ6mvnvv",
    "outputId": "0f6f95e9-b9cd-4e4d-e826-a8e1ea52dbfa",
    "scrolled": true
   },
   "outputs": [],
   "source": [
    "predictions_test = predict(test_x, test_y, parameters)"
   ]
  },
  {
   "cell_type": "markdown",
   "metadata": {
    "id": "9Y0A_1e3vnvv"
   },
   "source": [
    "**Kỳ vọng đầu ra**:\n",
    "\n",
    "<table> \n",
    "    <tr>\n",
    "        <td> **Accuracy**</td>\n",
    "        <td> 0.72 </td>\n",
    "    </tr>\n",
    "</table>"
   ]
  },
  {
   "cell_type": "markdown",
   "metadata": {
    "id": "5kDGi59Mvnvw"
   },
   "source": [
    "**Lưu ý**: Bạn có thể thấy rằng việc chạy mô hình với ít lần lặp hơn (ví dụ: 1500) mang lại độ chính xác tốt hơn trên tập thử nghiệm. Điều này được gọi là \"early stopping\" (dừng sớm) và chúng ta sẽ nói về nó trong các lab tiếp theo. Early stopping là một cách để ngăn ngừa sự quá khớp (overfitting).\n",
    "\n",
    "Xin chúc mừng! Có vẻ như mạng nơ-ron 2 lớp của bạn có hiệu suất (72%) tốt hơn so với triển khai hồi quy logistic (70%). Hãy xem liệu bạn có thể làm tốt hơn nữa với mô hình $ L $-lớp hay không."
   ]
  },
  {
   "cell_type": "markdown",
   "metadata": {
    "id": "XUOrOTGOvnvw"
   },
   "source": [
    "## 5 - Mạng nơ-ron L-lớp\n",
    "\n",
    "**Câu hỏi**: Sử dụng các hàm trợ giúp mà bạn đã triển khai trước đây để xây dựng mạng nơron $ L $-lớp với cấu trúc sau: *[LINEAR -> RELU]$\\times$(L-1) -> LINEAR -> SIGMOID*. Các hàm bạn cần và đầu vào là:\n",
    "```python\n",
    "def initialize_parameters_deep(layer_dims):\n",
    "    ...\n",
    "    return parameters \n",
    "def L_model_forward(X, parameters):\n",
    "    ...\n",
    "    return AL, caches\n",
    "def compute_cost(AL, Y):\n",
    "    ...\n",
    "    return cost\n",
    "def L_model_backward(AL, Y, caches):\n",
    "    ...\n",
    "    return grads\n",
    "def update_parameters(parameters, grads, learning_rate):\n",
    "    ...\n",
    "    return parameters\n",
    "```"
   ]
  },
  {
   "cell_type": "code",
   "execution_count": null,
   "metadata": {
    "id": "1GtBeKKDvnvw"
   },
   "outputs": [],
   "source": [
    "### CONSTANTS ###\n",
    "layers_dims = [12288, 20, 7, 5, 1] #  5-layer model"
   ]
  },
  {
   "cell_type": "code",
   "execution_count": null,
   "metadata": {
    "id": "EW80tzrjvnvw"
   },
   "outputs": [],
   "source": [
    "def L_layer_model(X, Y, layers_dims, learning_rate = 0.0075, num_iterations = 3000, print_cost=False):#lr was 0.009\n",
    "    \"\"\"\n",
    "    Triển khai mạng nơ-ron L lớp: [LINEAR->RELU]*(L-1)->LINEAR->SIGMOID.\n",
    "    \n",
    "    Đối số:\n",
    "    X -- dữ liệu, mảng numpy có shape (số ví dụ, num_px * num_px * 3)\n",
    "    Y -- vectơ true \"label\" (0 nếu là mèo, 1 nếu không phải mèo), có shape (1, số ví dụ)\n",
    "    layers_dims -- danh sách chứa kích thước đầu vào và từng kích thước lớp có length (số lớp + 1).\n",
    "    learning_rate -- tốc độ học của quy tắc cập nhật gradient descent\n",
    "    num_iterations -- số lần lặp của vòng lặp tối ưu hóa\n",
    "    print_cost -- nếu True, in ra cost sau mỗi 100 lần lặp\n",
    "    \n",
    "    Trả về:\n",
    "    parameters -- các tham số mà mô hình đã tìm hiểu. Chúng sẽ được sử dụng sau để dự đoán.\n",
    "    \"\"\"\n",
    "\n",
    "    np.random.seed(1)\n",
    "    costs = []                         # theo dõi cost\n",
    "    \n",
    "    # Khởi tạo tham số.\n",
    "    ### BẮT ĐẦU CODE Ở ĐÂY ###\n",
    "    parameters = initialize_parameters_deep(layers_dims)\n",
    "    ### KẾT THÚC CODE Ở ĐÂY ###\n",
    "    \n",
    "    # Vòng lặp (gradient descent)\n",
    "    for i in range(0, num_iterations):\n",
    "\n",
    "        # Lan truyền xuôi: [LINEAR -> RELU]*(L-1) -> LINEAR -> SIGMOID.\n",
    "        ### BẮT ĐẦU CODE Ở ĐÂY ### (≈ 1 dòng code)\n",
    "        AL, caches = L_model_forward(X, parameters)\n",
    "        ### KẾT THÚC CODE Ở ĐÂY ###\n",
    "        \n",
    "        # Tính cost.\n",
    "        ### BẮT ĐẦU CODE Ở ĐÂY ### (≈ 1 dòng code)\n",
    "        cost = compute_cost(AL, Y)\n",
    "        ### KẾT THÚC CODE Ở ĐÂY ###\n",
    "    \n",
    "        # Lan truyền ngược.\n",
    "        ### BẮT ĐẦU CODE Ở ĐÂY ### (≈ 1 dòng code)\n",
    "        grads = L_model_backward(AL, Y, caches)\n",
    "        ### KẾT THÚC CODE Ở ĐÂY ###\n",
    " \n",
    "        # Cập nhật tham số.\n",
    "        ### BẮT ĐẦU CODE Ở ĐÂY ### (≈ 1 dòng code)\n",
    "        parameters = update_parameters(parameters, grads, learning_rate)\n",
    "        ### KẾT THÚC CODE Ở ĐÂY ###\n",
    "                \n",
    "        # In ra cost sau mỗi 100 ví dụ\n",
    "        if print_cost and i % 100 == 0:\n",
    "            print (\"Cost after iteration %i: %f\" %(i, cost))\n",
    "        if print_cost and i % 100 == 0:\n",
    "            costs.append(cost)\n",
    "            \n",
    "    # vẽ biểu đồ của cost\n",
    "    plt.plot(np.squeeze(costs))\n",
    "    plt.ylabel('cost')\n",
    "    plt.xlabel('iterations (per tens)')\n",
    "    plt.title(\"Learning rate =\" + str(learning_rate))\n",
    "    plt.show()\n",
    "    \n",
    "    return parameters"
   ]
  },
  {
   "cell_type": "markdown",
   "metadata": {
    "id": "r1uxnGDovnvx"
   },
   "source": [
    "Giờ bạn sẽ huấn luyện mô hình như một mạng nơ-ron 5 lớp.\n",
    "\n",
    "Chạy cell bên dưới để huấn luyện mô hình của bạn. Cost (mất mát) sẽ giảm ở mỗi lần lặp lại. Có thể mất đến 5 phút để chạy 2500 lần lặp. Kiểm tra xem \"Cost after iteration 0\" (Mất mát sau lần lặp 0) có khớp với kỳ vọng đầu ra bên dưới hay không; nếu không, hãy nhấp vào ô vuông (⬛) trên thanh trên của notebook để dừng cell và cố gắng tìm lỗi của bạn."
   ]
  },
  {
   "cell_type": "code",
   "execution_count": null,
   "metadata": {
    "id": "bTIOk5o_vnvy",
    "outputId": "41baa1d2-d297-453e-8d2b-78fa11fd5667",
    "scrolled": false
   },
   "outputs": [],
   "source": [
    "parameters = L_layer_model(train_x, train_y, layers_dims, num_iterations = 2500, print_cost = True)"
   ]
  },
  {
   "cell_type": "markdown",
   "metadata": {
    "id": "ivDNzf9Tvnvy"
   },
   "source": [
    "**Kỳ vọng đầu ra**:\n",
    "<table> \n",
    "    <tr>\n",
    "        <td> **Cost after iteration 0**</td>\n",
    "        <td> 0.771749 </td>\n",
    "    </tr>\n",
    "    <tr>\n",
    "        <td> **Cost after iteration 100**</td>\n",
    "        <td> 0.672053 </td>\n",
    "    </tr>\n",
    "    <tr>\n",
    "        <td> **...**</td>\n",
    "        <td> ... </td>\n",
    "    </tr>\n",
    "    <tr>\n",
    "        <td> **Cost after iteration 2400**</td>\n",
    "        <td> 0.092878 </td>\n",
    "    </tr>\n",
    "</table>"
   ]
  },
  {
   "cell_type": "code",
   "execution_count": null,
   "metadata": {
    "id": "vyfKWuwXvnvy",
    "outputId": "432212f0-1d24-40b6-9221-c47ed0478552",
    "scrolled": true
   },
   "outputs": [],
   "source": [
    "pred_train = predict(train_x, train_y, parameters)"
   ]
  },
  {
   "cell_type": "markdown",
   "metadata": {
    "id": "fNY2wd_Svnvz"
   },
   "source": [
    "<table>\n",
    "    <tr>\n",
    "    <td>\n",
    "    **Train Accuracy**\n",
    "    </td>\n",
    "    <td>\n",
    "    0.985645933014\n",
    "    </td>\n",
    "    </tr>\n",
    "</table>"
   ]
  },
  {
   "cell_type": "code",
   "execution_count": null,
   "metadata": {
    "id": "ICChYu7Vvnvz",
    "outputId": "2e0044fb-8b7b-4765-be50-26f7c88ee7c8"
   },
   "outputs": [],
   "source": [
    "pred_test = predict(test_x, test_y, parameters)"
   ]
  },
  {
   "cell_type": "markdown",
   "metadata": {
    "id": "MtLVsUARvnv0"
   },
   "source": [
    "**Kỳ vọng đầu ra**:\n",
    "\n",
    "<table> \n",
    "    <tr>\n",
    "        <td> **Test Accuracy**</td>\n",
    "        <td> 0.8 </td>\n",
    "    </tr>\n",
    "</table>"
   ]
  },
  {
   "cell_type": "markdown",
   "metadata": {
    "id": "4XKszKs9vnv0"
   },
   "source": [
    "Chúc mừng! Có vẻ như mạng nơ-ron 5 lớp của bạn có hiệu suất (80%) tốt hơn so với mạng nơ-ron 2 lớp (72%) trên cùng một tập thử nghiệm.\n",
    "\n",
    "Nhiệm vụ này có hiệu suất tốt. Bạn làm tốt lắm!\n",
    "\n",
    "Mặc dù trong lab tiếp theo về \"Cải thiện mạng nơ-ron sâu\", bạn sẽ học cách đạt được độ chính xác cao hơn nữa bằng cách tìm kiếm các siêu tham số tốt hơn một cách có hệ thống (learning_rate, layer_dims, num_iterations và những thứ khác bạn cũng sẽ học trong lab tiếp theo)."
   ]
  },
  {
   "cell_type": "markdown",
   "metadata": {
    "id": "yxIe0YYgvnv0"
   },
   "source": [
    "##  6) Phân tích kết quả\n",
    "\n",
    "Đầu tiên, chúng ta hãy xem những hình ảnh mà mô hình L-lớp được dán nhãn không chính xác. Điều này sẽ hiển thị một vài hình ảnh bị dán nhãn sai. "
   ]
  },
  {
   "cell_type": "code",
   "execution_count": null,
   "metadata": {
    "id": "5brD2VQyvnv0",
    "outputId": "bd538c70-d6a0-4012-b7b7-6cf56f46c2ee",
    "scrolled": false
   },
   "outputs": [],
   "source": [
    "print_mislabeled_images(classes, test_x, test_y, pred_test)"
   ]
  },
  {
   "cell_type": "markdown",
   "metadata": {
    "id": "he4O8velvnv1"
   },
   "source": [
    "**Một số loại hình ảnh mà mô hình có xu hướng hoạt động kém bao gồm:** \n",
    "- Cơ thể mèo ở vị trí bất thường\n",
    "- Mèo xuất hiện trên nền có màu tương tự\n",
    "- Màu sắc và loài mèo khác thường\n",
    "- Góc máy ảnh\n",
    "- Độ sáng của hình ảnh\n",
    "- Thay đổi tỷ lệ (trong hình, mèo rất lớn hoặc nhỏ)"
   ]
  },
  {
   "cell_type": "markdown",
   "metadata": {
    "id": "-OO2nxajvnv1"
   },
   "source": [
    "## 7) Kiểm tra với hình ảnh của bạn (tác vụ tùy chọn) ##\n",
    "\n",
    "Chúc mừng bạn đã hoàn thành lab này. Bạn có thể sử dụng hình ảnh của mình và xem đầu ra mô hình của bạn. Để làm việc đó:\n",
    "    1. Thêm hình ảnh của bạn vào directory của Jupyter Notebook này, trong folder \"images\"\n",
    "    2. Thay đổi tên hình ảnh của bạn trong code sau\n",
    "    3. Chạy code và kiểm tra xem thuật toán có đúng không (1 = cat, 0 = non-cat)!"
   ]
  },
  {
   "cell_type": "code",
   "execution_count": null,
   "metadata": {
    "id": "4Y32RLafvnv1",
    "scrolled": false
   },
   "outputs": [],
   "source": [
    "## BẮT ĐẦU CODE Ở ĐÂY ##\n",
    "my_image = \"my_image.jpg\" # đổi tên file ảnh\n",
    "my_label_y = [1] # lớp đúng của ảnh (1 -> cat, 0 -> non-cat)\n",
    "## KẾT THÚC CODE Ở ĐÂY ##\n",
    "\n",
    "fname = \"images/\" + my_image\n",
    "image = np.array(ndimage.imread(fname, flatten=False))\n",
    "my_image = scipy.misc.imresize(image, size=(num_px,num_px)).reshape((num_px*num_px*3,1))\n",
    "my_predicted_image = predict(my_image, my_label_y, parameters)\n",
    "\n",
    "plt.imshow(image)\n",
    "print (\"y = \" + str(np.squeeze(my_predicted_image)) + \", your L-layer model predicts a \\\"\" + classes[int(np.squeeze(my_predicted_image)),].decode(\"utf-8\") +  \"\\\" picture.\")"
   ]
  },
  {
   "cell_type": "markdown",
   "metadata": {
    "id": "aoPm_9Wqvnv1"
   },
   "source": [
    "**Tham khảo**:\n",
    "\n",
    "- Để tự động tải lại mô-đun bên ngoài: http://stackoverflow.com/questions/1907993/autoreload-of-modules-in-ipython"
   ]
  }
 ],
 "metadata": {
  "colab": {
   "collapsed_sections": [],
   "name": "[VN]Lab_4_2_Ứng dụng của mạng DNN.ipynb",
   "provenance": []
  },
  "coursera": {
   "course_slug": "neural-networks-deep-learning",
   "graded_item_id": "TSPse",
   "launcher_item_id": "24mxX"
  },
  "kernelspec": {
   "display_name": "Python 3",
   "language": "python",
   "name": "python3"
  },
  "language_info": {
   "codemirror_mode": {
    "name": "ipython",
    "version": 3
   },
   "file_extension": ".py",
   "mimetype": "text/x-python",
   "name": "python",
   "nbconvert_exporter": "python",
   "pygments_lexer": "ipython3",
   "version": "3.8.8"
  }
 },
 "nbformat": 4,
 "nbformat_minor": 1
}
