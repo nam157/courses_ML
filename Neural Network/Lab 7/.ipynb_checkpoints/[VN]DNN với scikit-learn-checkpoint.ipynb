{
 "cells": [
  {
   "cell_type": "markdown",
   "metadata": {
    "id": "P14A0Ue2GGkw"
   },
   "source": [
    "# Mạng nơ-ron với scikit-learn\n",
    "\n",
    "Mục tiêu của notebook này là xây dựng mô hình DNN sử dụng thư viện scikit-learn để dự đoán cảm xúc từ các bài bình luận sản phẩm. Chúng ta sẽ thực hiện:\n",
    "\n",
    " * Load các bình luận về sản phẩm.\n",
    " * Triển khai mô hình DNN với scikit-learn.\n",
    " * Điều chỉnh một vài tham số."
   ]
  },
  {
   "cell_type": "code",
   "execution_count": null,
   "metadata": {
    "id": "YQoS0J2EGGk4"
   },
   "outputs": [],
   "source": [
    "# Import một số thư viện\n",
    "\n",
    "import pandas\n",
    "import numpy as np\n",
    "from utils import get_product_reviews_data"
   ]
  },
  {
   "cell_type": "markdown",
   "metadata": {
    "id": "JPROD7TVGGk6"
   },
   "source": [
    "## Load tập dữ liệu product reviews\n",
    "\n",
    "Như mô-đun trước, chúng ta sẽ load, tiền xử lý dữ liệu, chuyển đổi và chia chúng thành các tập huấn luyện và kiểm tra. Trong notebook này, chúng ta không tập trung vào điều đó nên chỉ cần chạy các cell sau. Có thể kiểm tra code dữ liệu bên trong folder **utils**."
   ]
  },
  {
   "cell_type": "code",
   "execution_count": null,
   "metadata": {
    "id": "jX0gNblfGGk8"
   },
   "outputs": [],
   "source": [
    "train_set, val_set = get_product_reviews_data()\n",
    "\n",
    "sentiment_X_train, sentiment_y_train = train_set\n",
    "sentiment_X_valid, sentiment_y_valid = val_set"
   ]
  },
  {
   "cell_type": "markdown",
   "metadata": {
    "id": "qnXGMYrOGGk9"
   },
   "source": [
    "# Xây dựng phân loại DNN với scikit-learn\n",
    "Giờ hãy sử dụng DNN có sẵn của sklearn: [sklearn.neural_network.MLPClassifier](https://scikit-learn.org/stable/modules/generated/sklearn.neural_network.MLPClassifier.html#sklearn.neural_network.MLPClassifier).\n",
    "\n",
    "## Chọn kích thước lớp ẩn\n",
    "Trước tiên, hãy kiểm tra số lượng đặc trưng ở từng tập dữ liệu rồi chọn kích thước lớp ẩn thích hợp."
   ]
  },
  {
   "cell_type": "code",
   "execution_count": null,
   "metadata": {
    "id": "jolxP6b7GGk-"
   },
   "outputs": [],
   "source": [
    "print (\"Sentiment feature size: \", sentiment_X_train.shape[1])"
   ]
  },
  {
   "cell_type": "markdown",
   "metadata": {
    "id": "RQMZQbhTGGk_"
   },
   "source": [
    "Với tập dữ liệu sentiment, chúng ta sẽ chọn 2 lớp ẩn có 64, 8 nơ-ron tương ứng."
   ]
  },
  {
   "cell_type": "code",
   "execution_count": null,
   "metadata": {
    "id": "iahSOjLwGGlB"
   },
   "outputs": [],
   "source": [
    "from sklearn.neural_network import MLPClassifier\n",
    "\n",
    "clf_sentiment = MLPClassifier(solver='adam', alpha=1e-5, activation='relu',\n",
    "                    hidden_layer_sizes=(64, 8), random_state=1)\n",
    "\n",
    "clf_sentiment.fit(sentiment_X_train, sentiment_y_train)\n",
    "\n",
    "print (\"***Sentiment result***\")\n",
    "print(\"Train accuracy: {}\".format(clf_sentiment.score(sentiment_X_train, sentiment_y_train)))\n",
    "print(\"Validation accuracy: {}\".format(clf_sentiment.score(sentiment_X_valid, sentiment_y_valid)))"
   ]
  },
  {
   "cell_type": "markdown",
   "metadata": {
    "id": "xrOYXdnGGGlF"
   },
   "source": [
    "Như các bạn thấy, DNN đơn giản có các kết quả khá hợp lý và mạng nơ-ron có thể khớp khá tốt với mẫu tronng tập huấn luyện.\n",
    "<br>\n",
    "**Quiz**: Validation accuracy là bao nhiêu?\n",
    "<br>\n",
    "**Đáp án**:"
   ]
  },
  {
   "cell_type": "code",
   "execution_count": null,
   "metadata": {
    "id": "SthMcJIaGGlI"
   },
   "outputs": [],
   "source": []
  }
 ],
 "metadata": {
  "colab": {
   "collapsed_sections": [],
   "name": "[VN]DNN với scikit-learn.ipynb",
   "provenance": [
    {
     "file_id": "1CyM6xirh3ZGl8JPaYPROxVT_uSfUT4Ow",
     "timestamp": 1629690034746
    }
   ]
  },
  "kernelspec": {
   "display_name": "Python 3",
   "language": "python",
   "name": "python3"
  },
  "language_info": {
   "codemirror_mode": {
    "name": "ipython",
    "version": 3
   },
   "file_extension": ".py",
   "mimetype": "text/x-python",
   "name": "python",
   "nbconvert_exporter": "python",
   "pygments_lexer": "ipython3",
   "version": "3.8.8"
  }
 },
 "nbformat": 4,
 "nbformat_minor": 1
}
