{
 "cells": [
  {
   "cell_type": "markdown",
   "metadata": {
    "id": "-tZq1hXCXmYn"
   },
   "source": [
    "# Đánh giá khớp (Hồi quy đa thức)"
   ]
  },
  {
   "cell_type": "markdown",
   "metadata": {
    "id": "N3r8GEwtXmYs"
   },
   "source": [
    "Trong notebook này, chúng ta sẽ so sánh các mô hình hồi quy khác nhau để đánh giá xem mô hình nào khớp nhất. Chúng ta sẽ sử dụng hồi quy đa thức để xem xét chủ đề này. Cụ thể, chúng ta sẽ:\n",
    "* Viết hàm nhận một đặc trưng đơn lẻ (trong mảng Numpy/Series) và một bậc, trả về một DataFrame có từng cột là đặc trưng tới giá trị đa thức lên tới tổng bậc, chẳng hạn: bậc = 3 thì cột 1 là đặc trưng ban đầu, cột 2 là đặc trưng bình phương và cột 3 là đặc trưng lập phương.\n",
    "* Sử dụng matplotlib để trực quan hóa hồi quy đa thức.\n",
    "* Sử dụng matplotlib để trực quan hóa cùng bậc đa thức trong cùng một tập con dữ liệu.\n",
    "* Sử dụng tập kiểm định để chọn bậc đa thức.\n",
    "* Đánh giá khớp cuối cùng sử dụng dữ liệu kiểm tra.\n",
    "\n",
    "Chúng ta vẫn sử dụng dữ liệu nhà ở từ notebook trước."
   ]
  },
  {
   "cell_type": "markdown",
   "metadata": {
    "id": "RMGCkP2yXmYw"
   },
   "source": [
    "## Thư viện"
   ]
  },
  {
   "cell_type": "code",
   "execution_count": 1,
   "metadata": {
    "id": "s52LRfPqXmZI"
   },
   "outputs": [],
   "source": [
    "import sklearn\n",
    "import pandas as pd\n",
    "import numpy as np"
   ]
  },
  {
   "cell_type": "markdown",
   "metadata": {
    "id": "yViY6sRuXmZN"
   },
   "source": [
    "Tiếp theo, chúng ta sẽ viết hàm đa thức nhận một đặc trưng và một bậc cực đại, trả về DataFrame chứa tất cả các lũy thừa của đặc trưng cho đến bậc cực đại.\n",
    "\n",
    "Cách đơn giản nhất để vận dụng lũy thừa vào một Series là sử dụng các hàm `.apply` và `lambda x:`. Tuy nhiên, mảng Numpy chỉ có thể thực hiện nó dễ dàng với các phép số học đơn giản; nếu không, nó sẽ yêu cầu `np.vectorize` khó hiểu hơn. Ví dụ để lấy mảng mock và tính lũy thừa bậc ba, chúng ta có thể làm như sau: "
   ]
  },
  {
   "cell_type": "code",
   "execution_count": 2,
   "metadata": {
    "id": "JRIJWduZXmZQ",
    "outputId": "08707238-b9d5-4027-c12e-540b5d06bf76"
   },
   "outputs": [
    {
     "name": "stdout",
     "output_type": "stream",
     "text": [
      "[1. 2. 3.] [ 1.  8. 27.] [ 1.  8. 27.]\n",
      "0    1.0\n",
      "1    2.0\n",
      "2    3.0\n",
      "dtype: float64 \n",
      " 0     1.0\n",
      "1     8.0\n",
      "2    27.0\n",
      "dtype: float64\n"
     ]
    }
   ],
   "source": [
    "mock = np.array([1., 2., 3.])\n",
    "mock_series = pd.Series(mock)\n",
    "mock_cubed = mock ** 3\n",
    "mock_cubed_long = np.vectorize(lambda x: x ** 3)(mock)\n",
    "mock_series_cubed = mock_series.apply(lambda x: x ** 3)\n",
    "print(mock, mock_cubed, mock_cubed_long)\n",
    "print(mock_series, \"\\n\", mock_series_cubed)"
   ]
  },
  {
   "cell_type": "markdown",
   "metadata": {
    "id": "lmALtseEXmZW"
   },
   "source": [
    "Chúng ta có thể tạo một DataFrame trống sử dụng `pandas.DataFrame()`, sau đó thêm bất kỳ cột nào vào đó với `dataframe['column_name'] = value`. Chẳng hạn, chúng ta tạo một DataFrame trống và đặt cột 'power_1' là lũy thừa bậc một của giá trị mock."
   ]
  },
  {
   "cell_type": "code",
   "execution_count": 3,
   "metadata": {
    "id": "_nOOjdsaXmZY",
    "outputId": "631e135e-4dc4-4107-8b8b-bee49dee729e"
   },
   "outputs": [
    {
     "name": "stdout",
     "output_type": "stream",
     "text": [
      "   power_1\n",
      "0      1.0\n",
      "1      2.0\n",
      "2      3.0\n"
     ]
    }
   ],
   "source": [
    "data = pd.DataFrame()\n",
    "data['power_1'] = mock\n",
    "print(data)"
   ]
  },
  {
   "cell_type": "markdown",
   "metadata": {
    "id": "U5_oDv59XmZc"
   },
   "source": [
    "## Hàm `polynomial_dataframe` "
   ]
  },
  {
   "cell_type": "markdown",
   "metadata": {
    "id": "g5Fa_V7tXmZd"
   },
   "source": [
    "Sử dụng các gợi ý phía trên để hoàn thiện hàm sau: "
   ]
  },
  {
   "cell_type": "code",
   "execution_count": 6,
   "metadata": {
    "id": "QejpEAagXmZf"
   },
   "outputs": [],
   "source": [
    "def polynomial_dataframe(feature, degree):\n",
    "    # giả sử bậc >= 1\n",
    "    # khởi tạo DataFrame:\n",
    "    poly_data = pd.DataFrame()\n",
    "    # và đặt poly_data['power_1'] bằng với đặc trưng đã truyền vào\n",
    "    poly_data['power_1'] = feature\n",
    "    # trước tiên kiểm tra xem bậc có lớn hơn 1 không\n",
    "    if degree > 1:\n",
    "        # thì lặp qua các bậc còn lại: \n",
    "        # range thường bắt đầu range từ 0 và kết thúc ở đầu cuối -1. Chúng ta cần nó bắt đầu từ 2 và ngừng ở bậc\n",
    "        for power in range(2, degree+1): \n",
    "            # trước tiên đặt tên cột:\n",
    "            name = 'power_' + str(power)\n",
    "            # sau đó gán poly_sframe[name] cho lũy thừa thích hợp của đặc trưng\n",
    "            poly_data[name] = feature ** power\n",
    "    return poly_data"
   ]
  },
  {
   "cell_type": "markdown",
   "metadata": {
    "id": "EFEXKbksXmZi"
   },
   "source": [
    "Kiểm tra hàm với biến **mock** và kết quả dự kiến của cell sau:"
   ]
  },
  {
   "cell_type": "code",
   "execution_count": 7,
   "metadata": {
    "id": "uJX0srA8XmZk",
    "outputId": "829e0bc1-0e0b-48d1-e735-7a27e36387c6"
   },
   "outputs": [
    {
     "name": "stdout",
     "output_type": "stream",
     "text": [
      "   power_1  power_2  power_3\n",
      "0      1.0      1.0      1.0\n",
      "1      2.0      4.0      8.0\n",
      "2      3.0      9.0     27.0\n"
     ]
    }
   ],
   "source": [
    "print(polynomial_dataframe(mock, 3))"
   ]
  },
  {
   "cell_type": "markdown",
   "metadata": {
    "id": "ahg2DtorXmZm"
   },
   "source": [
    "# Trực quan hóa hồi quy đa thức"
   ]
  },
  {
   "cell_type": "markdown",
   "metadata": {
    "id": "bDMXYr61XmZn"
   },
   "source": [
    "Sử dụng matplotlib để hiển thị hồi quy đa thức trông như thế nào trong dữ liệu thực."
   ]
  },
  {
   "cell_type": "code",
   "execution_count": 12,
   "metadata": {
    "id": "swewnTKdXmZo"
   },
   "outputs": [
    {
     "data": {
      "text/html": [
       "<div>\n",
       "<style scoped>\n",
       "    .dataframe tbody tr th:only-of-type {\n",
       "        vertical-align: middle;\n",
       "    }\n",
       "\n",
       "    .dataframe tbody tr th {\n",
       "        vertical-align: top;\n",
       "    }\n",
       "\n",
       "    .dataframe thead th {\n",
       "        text-align: right;\n",
       "    }\n",
       "</style>\n",
       "<table border=\"1\" class=\"dataframe\">\n",
       "  <thead>\n",
       "    <tr style=\"text-align: right;\">\n",
       "      <th></th>\n",
       "      <th>date</th>\n",
       "      <th>price</th>\n",
       "      <th>bedrooms</th>\n",
       "      <th>bathrooms</th>\n",
       "      <th>sqft_living</th>\n",
       "      <th>sqft_lot</th>\n",
       "      <th>floors</th>\n",
       "      <th>waterfront</th>\n",
       "      <th>view</th>\n",
       "      <th>condition</th>\n",
       "      <th>grade</th>\n",
       "      <th>sqft_above</th>\n",
       "      <th>sqft_basement</th>\n",
       "      <th>yr_built</th>\n",
       "      <th>yr_renovated</th>\n",
       "      <th>zipcode</th>\n",
       "      <th>lat</th>\n",
       "      <th>long</th>\n",
       "      <th>sqft_living15</th>\n",
       "      <th>sqft_lot15</th>\n",
       "    </tr>\n",
       "    <tr>\n",
       "      <th>id</th>\n",
       "      <th></th>\n",
       "      <th></th>\n",
       "      <th></th>\n",
       "      <th></th>\n",
       "      <th></th>\n",
       "      <th></th>\n",
       "      <th></th>\n",
       "      <th></th>\n",
       "      <th></th>\n",
       "      <th></th>\n",
       "      <th></th>\n",
       "      <th></th>\n",
       "      <th></th>\n",
       "      <th></th>\n",
       "      <th></th>\n",
       "      <th></th>\n",
       "      <th></th>\n",
       "      <th></th>\n",
       "      <th></th>\n",
       "      <th></th>\n",
       "    </tr>\n",
       "  </thead>\n",
       "  <tbody>\n",
       "    <tr>\n",
       "      <th>7129300520</th>\n",
       "      <td>20141013T000000</td>\n",
       "      <td>221900.0</td>\n",
       "      <td>3</td>\n",
       "      <td>1.00</td>\n",
       "      <td>1180</td>\n",
       "      <td>5650</td>\n",
       "      <td>1.0</td>\n",
       "      <td>0</td>\n",
       "      <td>0</td>\n",
       "      <td>3</td>\n",
       "      <td>7</td>\n",
       "      <td>1180</td>\n",
       "      <td>0</td>\n",
       "      <td>1955</td>\n",
       "      <td>0</td>\n",
       "      <td>98178</td>\n",
       "      <td>47.5112</td>\n",
       "      <td>-122.257</td>\n",
       "      <td>1340</td>\n",
       "      <td>5650</td>\n",
       "    </tr>\n",
       "    <tr>\n",
       "      <th>6414100192</th>\n",
       "      <td>20141209T000000</td>\n",
       "      <td>538000.0</td>\n",
       "      <td>3</td>\n",
       "      <td>2.25</td>\n",
       "      <td>2570</td>\n",
       "      <td>7242</td>\n",
       "      <td>2.0</td>\n",
       "      <td>0</td>\n",
       "      <td>0</td>\n",
       "      <td>3</td>\n",
       "      <td>7</td>\n",
       "      <td>2170</td>\n",
       "      <td>400</td>\n",
       "      <td>1951</td>\n",
       "      <td>1991</td>\n",
       "      <td>98125</td>\n",
       "      <td>47.7210</td>\n",
       "      <td>-122.319</td>\n",
       "      <td>1690</td>\n",
       "      <td>7639</td>\n",
       "    </tr>\n",
       "    <tr>\n",
       "      <th>5631500400</th>\n",
       "      <td>20150225T000000</td>\n",
       "      <td>180000.0</td>\n",
       "      <td>2</td>\n",
       "      <td>1.00</td>\n",
       "      <td>770</td>\n",
       "      <td>10000</td>\n",
       "      <td>1.0</td>\n",
       "      <td>0</td>\n",
       "      <td>0</td>\n",
       "      <td>3</td>\n",
       "      <td>6</td>\n",
       "      <td>770</td>\n",
       "      <td>0</td>\n",
       "      <td>1933</td>\n",
       "      <td>0</td>\n",
       "      <td>98028</td>\n",
       "      <td>47.7379</td>\n",
       "      <td>-122.233</td>\n",
       "      <td>2720</td>\n",
       "      <td>8062</td>\n",
       "    </tr>\n",
       "    <tr>\n",
       "      <th>2487200875</th>\n",
       "      <td>20141209T000000</td>\n",
       "      <td>604000.0</td>\n",
       "      <td>4</td>\n",
       "      <td>3.00</td>\n",
       "      <td>1960</td>\n",
       "      <td>5000</td>\n",
       "      <td>1.0</td>\n",
       "      <td>0</td>\n",
       "      <td>0</td>\n",
       "      <td>5</td>\n",
       "      <td>7</td>\n",
       "      <td>1050</td>\n",
       "      <td>910</td>\n",
       "      <td>1965</td>\n",
       "      <td>0</td>\n",
       "      <td>98136</td>\n",
       "      <td>47.5208</td>\n",
       "      <td>-122.393</td>\n",
       "      <td>1360</td>\n",
       "      <td>5000</td>\n",
       "    </tr>\n",
       "    <tr>\n",
       "      <th>1954400510</th>\n",
       "      <td>20150218T000000</td>\n",
       "      <td>510000.0</td>\n",
       "      <td>3</td>\n",
       "      <td>2.00</td>\n",
       "      <td>1680</td>\n",
       "      <td>8080</td>\n",
       "      <td>1.0</td>\n",
       "      <td>0</td>\n",
       "      <td>0</td>\n",
       "      <td>3</td>\n",
       "      <td>8</td>\n",
       "      <td>1680</td>\n",
       "      <td>0</td>\n",
       "      <td>1987</td>\n",
       "      <td>0</td>\n",
       "      <td>98074</td>\n",
       "      <td>47.6168</td>\n",
       "      <td>-122.045</td>\n",
       "      <td>1800</td>\n",
       "      <td>7503</td>\n",
       "    </tr>\n",
       "  </tbody>\n",
       "</table>\n",
       "</div>"
      ],
      "text/plain": [
       "                       date     price  bedrooms  bathrooms  sqft_living  \\\n",
       "id                                                                        \n",
       "7129300520  20141013T000000  221900.0         3       1.00         1180   \n",
       "6414100192  20141209T000000  538000.0         3       2.25         2570   \n",
       "5631500400  20150225T000000  180000.0         2       1.00          770   \n",
       "2487200875  20141209T000000  604000.0         4       3.00         1960   \n",
       "1954400510  20150218T000000  510000.0         3       2.00         1680   \n",
       "\n",
       "            sqft_lot  floors  waterfront  view  condition  grade  sqft_above  \\\n",
       "id                                                                             \n",
       "7129300520      5650     1.0           0     0          3      7        1180   \n",
       "6414100192      7242     2.0           0     0          3      7        2170   \n",
       "5631500400     10000     1.0           0     0          3      6         770   \n",
       "2487200875      5000     1.0           0     0          5      7        1050   \n",
       "1954400510      8080     1.0           0     0          3      8        1680   \n",
       "\n",
       "            sqft_basement  yr_built  yr_renovated  zipcode      lat     long  \\\n",
       "id                                                                             \n",
       "7129300520              0      1955             0    98178  47.5112 -122.257   \n",
       "6414100192            400      1951          1991    98125  47.7210 -122.319   \n",
       "5631500400              0      1933             0    98028  47.7379 -122.233   \n",
       "2487200875            910      1965             0    98136  47.5208 -122.393   \n",
       "1954400510              0      1987             0    98074  47.6168 -122.045   \n",
       "\n",
       "            sqft_living15  sqft_lot15  \n",
       "id                                     \n",
       "7129300520           1340        5650  \n",
       "6414100192           1690        7639  \n",
       "5631500400           2720        8062  \n",
       "2487200875           1360        5000  \n",
       "1954400510           1800        7503  "
      ]
     },
     "execution_count": 12,
     "metadata": {},
     "output_type": "execute_result"
    }
   ],
   "source": [
    "full_data = pd.read_csv(\"kc_house_data.csv\", index_col=0)\n",
    "full_data.head()"
   ]
  },
  {
   "cell_type": "markdown",
   "metadata": {
    "id": "W9d2AclGXmZp"
   },
   "source": [
    "Chúng ta sẽ dùng biến sqft_living. Để vẽ biểu đồ (nối các chấm), chúng ta cần sắp xếp giá trị của sqft_living. Những ngôi nhà có diện tích giống nhau sẽ phân biệt theo giá. "
   ]
  },
  {
   "cell_type": "code",
   "execution_count": 13,
   "metadata": {
    "id": "GNAYNfE1XmZs"
   },
   "outputs": [
    {
     "data": {
      "text/html": [
       "<div>\n",
       "<style scoped>\n",
       "    .dataframe tbody tr th:only-of-type {\n",
       "        vertical-align: middle;\n",
       "    }\n",
       "\n",
       "    .dataframe tbody tr th {\n",
       "        vertical-align: top;\n",
       "    }\n",
       "\n",
       "    .dataframe thead th {\n",
       "        text-align: right;\n",
       "    }\n",
       "</style>\n",
       "<table border=\"1\" class=\"dataframe\">\n",
       "  <thead>\n",
       "    <tr style=\"text-align: right;\">\n",
       "      <th></th>\n",
       "      <th>date</th>\n",
       "      <th>price</th>\n",
       "      <th>bedrooms</th>\n",
       "      <th>bathrooms</th>\n",
       "      <th>sqft_living</th>\n",
       "      <th>sqft_lot</th>\n",
       "      <th>floors</th>\n",
       "      <th>waterfront</th>\n",
       "      <th>view</th>\n",
       "      <th>condition</th>\n",
       "      <th>grade</th>\n",
       "      <th>sqft_above</th>\n",
       "      <th>sqft_basement</th>\n",
       "      <th>yr_built</th>\n",
       "      <th>yr_renovated</th>\n",
       "      <th>zipcode</th>\n",
       "      <th>lat</th>\n",
       "      <th>long</th>\n",
       "      <th>sqft_living15</th>\n",
       "      <th>sqft_lot15</th>\n",
       "    </tr>\n",
       "    <tr>\n",
       "      <th>id</th>\n",
       "      <th></th>\n",
       "      <th></th>\n",
       "      <th></th>\n",
       "      <th></th>\n",
       "      <th></th>\n",
       "      <th></th>\n",
       "      <th></th>\n",
       "      <th></th>\n",
       "      <th></th>\n",
       "      <th></th>\n",
       "      <th></th>\n",
       "      <th></th>\n",
       "      <th></th>\n",
       "      <th></th>\n",
       "      <th></th>\n",
       "      <th></th>\n",
       "      <th></th>\n",
       "      <th></th>\n",
       "      <th></th>\n",
       "      <th></th>\n",
       "    </tr>\n",
       "  </thead>\n",
       "  <tbody>\n",
       "    <tr>\n",
       "      <th>3980300371</th>\n",
       "      <td>20140926T000000</td>\n",
       "      <td>142000.0</td>\n",
       "      <td>0</td>\n",
       "      <td>0.00</td>\n",
       "      <td>290</td>\n",
       "      <td>20875</td>\n",
       "      <td>1.0</td>\n",
       "      <td>0</td>\n",
       "      <td>0</td>\n",
       "      <td>1</td>\n",
       "      <td>1</td>\n",
       "      <td>290</td>\n",
       "      <td>0</td>\n",
       "      <td>1963</td>\n",
       "      <td>0</td>\n",
       "      <td>98024</td>\n",
       "      <td>47.5308</td>\n",
       "      <td>-121.888</td>\n",
       "      <td>1620</td>\n",
       "      <td>22850</td>\n",
       "    </tr>\n",
       "    <tr>\n",
       "      <th>2856101479</th>\n",
       "      <td>20140701T000000</td>\n",
       "      <td>276000.0</td>\n",
       "      <td>1</td>\n",
       "      <td>0.75</td>\n",
       "      <td>370</td>\n",
       "      <td>1801</td>\n",
       "      <td>1.0</td>\n",
       "      <td>0</td>\n",
       "      <td>0</td>\n",
       "      <td>5</td>\n",
       "      <td>5</td>\n",
       "      <td>370</td>\n",
       "      <td>0</td>\n",
       "      <td>1923</td>\n",
       "      <td>0</td>\n",
       "      <td>98117</td>\n",
       "      <td>47.6778</td>\n",
       "      <td>-122.389</td>\n",
       "      <td>1340</td>\n",
       "      <td>5000</td>\n",
       "    </tr>\n",
       "    <tr>\n",
       "      <th>1723049033</th>\n",
       "      <td>20140620T000000</td>\n",
       "      <td>245000.0</td>\n",
       "      <td>1</td>\n",
       "      <td>0.75</td>\n",
       "      <td>380</td>\n",
       "      <td>15000</td>\n",
       "      <td>1.0</td>\n",
       "      <td>0</td>\n",
       "      <td>0</td>\n",
       "      <td>3</td>\n",
       "      <td>5</td>\n",
       "      <td>380</td>\n",
       "      <td>0</td>\n",
       "      <td>1963</td>\n",
       "      <td>0</td>\n",
       "      <td>98168</td>\n",
       "      <td>47.4810</td>\n",
       "      <td>-122.323</td>\n",
       "      <td>1170</td>\n",
       "      <td>15000</td>\n",
       "    </tr>\n",
       "    <tr>\n",
       "      <th>1222029077</th>\n",
       "      <td>20141029T000000</td>\n",
       "      <td>265000.0</td>\n",
       "      <td>0</td>\n",
       "      <td>0.75</td>\n",
       "      <td>384</td>\n",
       "      <td>213444</td>\n",
       "      <td>1.0</td>\n",
       "      <td>0</td>\n",
       "      <td>0</td>\n",
       "      <td>3</td>\n",
       "      <td>4</td>\n",
       "      <td>384</td>\n",
       "      <td>0</td>\n",
       "      <td>2003</td>\n",
       "      <td>0</td>\n",
       "      <td>98070</td>\n",
       "      <td>47.4177</td>\n",
       "      <td>-122.491</td>\n",
       "      <td>1920</td>\n",
       "      <td>224341</td>\n",
       "    </tr>\n",
       "    <tr>\n",
       "      <th>6896300380</th>\n",
       "      <td>20141002T000000</td>\n",
       "      <td>228000.0</td>\n",
       "      <td>0</td>\n",
       "      <td>1.00</td>\n",
       "      <td>390</td>\n",
       "      <td>5900</td>\n",
       "      <td>1.0</td>\n",
       "      <td>0</td>\n",
       "      <td>0</td>\n",
       "      <td>2</td>\n",
       "      <td>4</td>\n",
       "      <td>390</td>\n",
       "      <td>0</td>\n",
       "      <td>1953</td>\n",
       "      <td>0</td>\n",
       "      <td>98118</td>\n",
       "      <td>47.5260</td>\n",
       "      <td>-122.261</td>\n",
       "      <td>2170</td>\n",
       "      <td>6000</td>\n",
       "    </tr>\n",
       "  </tbody>\n",
       "</table>\n",
       "</div>"
      ],
      "text/plain": [
       "                       date     price  bedrooms  bathrooms  sqft_living  \\\n",
       "id                                                                        \n",
       "3980300371  20140926T000000  142000.0         0       0.00          290   \n",
       "2856101479  20140701T000000  276000.0         1       0.75          370   \n",
       "1723049033  20140620T000000  245000.0         1       0.75          380   \n",
       "1222029077  20141029T000000  265000.0         0       0.75          384   \n",
       "6896300380  20141002T000000  228000.0         0       1.00          390   \n",
       "\n",
       "            sqft_lot  floors  waterfront  view  condition  grade  sqft_above  \\\n",
       "id                                                                             \n",
       "3980300371     20875     1.0           0     0          1      1         290   \n",
       "2856101479      1801     1.0           0     0          5      5         370   \n",
       "1723049033     15000     1.0           0     0          3      5         380   \n",
       "1222029077    213444     1.0           0     0          3      4         384   \n",
       "6896300380      5900     1.0           0     0          2      4         390   \n",
       "\n",
       "            sqft_basement  yr_built  yr_renovated  zipcode      lat     long  \\\n",
       "id                                                                             \n",
       "3980300371              0      1963             0    98024  47.5308 -121.888   \n",
       "2856101479              0      1923             0    98117  47.6778 -122.389   \n",
       "1723049033              0      1963             0    98168  47.4810 -122.323   \n",
       "1222029077              0      2003             0    98070  47.4177 -122.491   \n",
       "6896300380              0      1953             0    98118  47.5260 -122.261   \n",
       "\n",
       "            sqft_living15  sqft_lot15  \n",
       "id                                     \n",
       "3980300371           1620       22850  \n",
       "2856101479           1340        5000  \n",
       "1723049033           1170       15000  \n",
       "1222029077           1920      224341  \n",
       "6896300380           2170        6000  "
      ]
     },
     "execution_count": 13,
     "metadata": {},
     "output_type": "execute_result"
    }
   ],
   "source": [
    "full_data = full_data.sort_values(['sqft_living', 'price'])\n",
    "full_data.head()"
   ]
  },
  {
   "cell_type": "markdown",
   "metadata": {
    "id": "4gK3bzmoXmZv"
   },
   "source": [
    "Hãy bắt đầu với đa thức bậc 1 sử dụng 'sqft_living' (chẳng hạn 1 dòng) để dự đoán 'price' và vẽ biểu đồ xem nó trông như thế nào."
   ]
  },
  {
   "cell_type": "code",
   "execution_count": 14,
   "metadata": {
    "id": "c9U3lbRdXmZx"
   },
   "outputs": [],
   "source": [
    "poly1_data = polynomial_dataframe(full_data['sqft_living'], 1)\n",
    "poly1_data['price'] = full_data['price'] # add price to the data since it's the target"
   ]
  },
  {
   "cell_type": "markdown",
   "metadata": {
    "id": "aK_CWgcpXmZ0"
   },
   "source": [
    "Đó là dữ liệu. Đã đến lúc tạo mô hình và thử với nó."
   ]
  },
  {
   "cell_type": "code",
   "execution_count": 15,
   "metadata": {
    "id": "v4aHlNo4XmZ1"
   },
   "outputs": [],
   "source": [
    "from sklearn.linear_model import LinearRegression\n",
    "features_poly1 = np.reshape(poly1_data['power_1'].values, [-1, 1]) #làm phẳng\n",
    "labels_poly1 = poly1_data['price'].values\n",
    "model1 = LinearRegression().fit(features_poly1, labels_poly1)"
   ]
  },
  {
   "cell_type": "code",
   "execution_count": 16,
   "metadata": {
    "id": "4I3y-544XmZ6",
    "outputId": "a23a2a84-45af-40a7-9f2b-8621b223f711"
   },
   "outputs": [
    {
     "data": {
      "text/plain": [
       "array([280.6235679])"
      ]
     },
     "execution_count": 16,
     "metadata": {},
     "output_type": "execute_result"
    }
   ],
   "source": [
    "#hãy xem các trọng số trước khi vẽ biểu đồ\n",
    "model1.coef_"
   ]
  },
  {
   "cell_type": "code",
   "execution_count": 18,
   "metadata": {
    "id": "1kzXyoaKXmZ-"
   },
   "outputs": [],
   "source": [
    "import matplotlib.pyplot as plt\n",
    "%matplotlib inline"
   ]
  },
  {
   "cell_type": "code",
   "execution_count": 19,
   "metadata": {
    "id": "xlqay1feXmaB",
    "outputId": "c706c0d0-9d3d-4909-934f-bbdfecdc5dfe"
   },
   "outputs": [
    {
     "data": {
      "text/plain": [
       "[<matplotlib.lines.Line2D at 0x1dc5e9091f0>,\n",
       " <matplotlib.lines.Line2D at 0x1dc5e9094c0>]"
      ]
     },
     "execution_count": 19,
     "metadata": {},
     "output_type": "execute_result"
    },
    {
     "data": {
      "image/png": "[encoded data removed]",
      "text/plain": [
       "<Figure size 432x288 with 1 Axes>"
      ]
     },
     "metadata": {
      "needs_background": "light"
     },
     "output_type": "display_data"
    }
   ],
   "source": [
    "plt.plot(poly1_data['power_1'],poly1_data['price'],'.',\n",
    "        poly1_data['power_1'], model1.predict(features_poly1),'-')"
   ]
  },
  {
   "cell_type": "markdown",
   "metadata": {
    "id": "WXGin2TtXmaF"
   },
   "source": [
    "Hãy giải nén lệnh plt.plot(). Cặp đầu tiên là lũy thừa bậc 1 của sqft và giá thực, sau đó yêu cầu in chúng thành các giá trị thứ ba ('.'). Cặp tiếp theo là lũy thừa bậc 1 của sqft và các giá trị dự đoán từ mô hình tuyến tính được vẽ thành một đường '-'.\n",
    "\n",
    "Không có gì ngạc nhiên khi giá trị dự đoán đều nằm trên một đường, đặc biệt là đường với slope 280 và intercept -43579. Sẽ ra sao nếu chúng ta muốn vẽ một bậc đa thức thứ hai?"
   ]
  },
  {
   "cell_type": "code",
   "execution_count": 20,
   "metadata": {
    "id": "F6ql_JjRXmaL"
   },
   "outputs": [],
   "source": [
    "poly2_data = polynomial_dataframe(full_data['sqft_living'], 2) # create polynomial up to 2 degree\n",
    "features_poly2 = poly2_data.values # extract the features immediately\n",
    "poly2_data['price'] = full_data['price']\n",
    "labels_poly2 = poly2_data['price'].values # receive the labels\n",
    "\n",
    "model2 = LinearRegression().fit(features_poly2, labels_poly2)"
   ]
  },
  {
   "cell_type": "code",
   "execution_count": 21,
   "metadata": {
    "id": "QdOoASpPXmaQ",
    "outputId": "c893a3c5-18fc-420d-9b22-e2307c278147"
   },
   "outputs": [
    {
     "data": {
      "text/plain": [
       "array([6.79940947e+01, 3.85812609e-02])"
      ]
     },
     "execution_count": 21,
     "metadata": {},
     "output_type": "execute_result"
    }
   ],
   "source": [
    "model2.coef_"
   ]
  },
  {
   "cell_type": "code",
   "execution_count": 22,
   "metadata": {
    "id": "QJoEy5q9XmaS",
    "outputId": "0bbae917-0f29-44f7-cb18-fccdd050450e"
   },
   "outputs": [
    {
     "data": {
      "text/plain": [
       "[<matplotlib.lines.Line2D at 0x1dc5d830a60>,\n",
       " <matplotlib.lines.Line2D at 0x1dc5d830f40>]"
      ]
     },
     "execution_count": 22,
     "metadata": {},
     "output_type": "execute_result"
    },
    {
     "data": {
      "image/png": "[encoded data removed]",
      "text/plain": [
       "<Figure size 432x288 with 1 Axes>"
      ]
     },
     "metadata": {
      "needs_background": "light"
     },
     "output_type": "display_data"
    }
   ],
   "source": [
    "plt.plot(poly2_data['power_1'],poly2_data['price'],'.',\n",
    "        poly2_data['power_1'], model2.predict(features_poly2),'-')"
   ]
  },
  {
   "cell_type": "markdown",
   "metadata": {
    "id": "hK8wfPnvXmaV"
   },
   "source": [
    "Mô hình kết quả có dạng một nửa parabol. Thử với mô hình với bậc 3 xem nó trông thế nào:"
   ]
  },
  {
   "cell_type": "code",
   "execution_count": 23,
   "metadata": {
    "id": "wKmFtrCmXmaW"
   },
   "outputs": [
    {
     "data": {
      "text/plain": [
       "array([-9.01819864e+01,  8.70465089e-02, -3.84055260e-06])"
      ]
     },
     "execution_count": 23,
     "metadata": {},
     "output_type": "execute_result"
    }
   ],
   "source": [
    "poly3_data = polynomial_dataframe(full_data['sqft_living'],3)\n",
    "X = poly3_data.values\n",
    "poly3_data['price'] = full_data['price']\n",
    "y = poly3_data['price'].values\n",
    "model3 = LinearRegression().fit(X,y)\n",
    "model3.coef_"
   ]
  },
  {
   "cell_type": "code",
   "execution_count": 30,
   "metadata": {
    "id": "tb_4ipMZXmaX"
   },
   "outputs": [
    {
     "data": {
      "text/plain": [
       "[<matplotlib.lines.Line2D at 0x1dc613d54c0>,\n",
       " <matplotlib.lines.Line2D at 0x1dc611894c0>]"
      ]
     },
     "execution_count": 30,
     "metadata": {},
     "output_type": "execute_result"
    },
    {
     "data": {
      "image/png": "[encoded data removed]",
      "text/plain": [
       "<Figure size 432x288 with 1 Axes>"
      ]
     },
     "metadata": {
      "needs_background": "light"
     },
     "output_type": "display_data"
    }
   ],
   "source": [
    "plt.plot(poly3_data['power_3'],poly3_data['price'],'.',\n",
    "        poly3_data['power_3'], model3.predict(X),'-')"
   ]
  },
  {
   "cell_type": "markdown",
   "metadata": {
    "id": "dK6zHxUmXmaY"
   },
   "source": [
    "Giờ hãy thử đa thức bậc 15: "
   ]
  },
  {
   "cell_type": "code",
   "execution_count": 31,
   "metadata": {
    "id": "uJflARQFXmaZ"
   },
   "outputs": [
    {
     "data": {
      "text/plain": [
       "array([ 1.71495698e-05,  4.22139198e-02,  4.59118025e-06, -4.51855332e-10,\n",
       "       -2.27803887e-14, -2.28983499e-16, -5.23019128e-16,  3.53883589e-16,\n",
       "       -1.98625838e-16, -2.68882139e-16,  1.02782366e-16,  7.22946009e-16,\n",
       "        4.36282954e-16, -4.05925293e-16,  4.16333634e-17])"
      ]
     },
     "execution_count": 31,
     "metadata": {},
     "output_type": "execute_result"
    }
   ],
   "source": [
    "poly15_data = polynomial_dataframe(full_data['sqft_living'],15)\n",
    "X = poly15_data.values\n",
    "poly15_data['price'] = full_data['price']\n",
    "y = poly15_data['price'].values\n",
    "model15 = LinearRegression().fit(X,y)\n",
    "model15.coef_"
   ]
  },
  {
   "cell_type": "code",
   "execution_count": 32,
   "metadata": {
    "id": "m4-23iRYXmaa"
   },
   "outputs": [
    {
     "data": {
      "text/plain": [
       "[<matplotlib.lines.Line2D at 0x1dc611af970>,\n",
       " <matplotlib.lines.Line2D at 0x1dc611d5c70>]"
      ]
     },
     "execution_count": 32,
     "metadata": {},
     "output_type": "execute_result"
    },
    {
     "data": {
      "image/png": "[encoded data removed]",
      "text/plain": [
       "<Figure size 432x288 with 1 Axes>"
      ]
     },
     "metadata": {
      "needs_background": "light"
     },
     "output_type": "display_data"
    }
   ],
   "source": [
    "plt.plot(poly15_data['power_15'],poly15_data['price'],'.',\n",
    "        poly15_data['power_15'], model15.predict(X),'-')"
   ]
  },
  {
   "cell_type": "markdown",
   "metadata": {
    "id": "VYhIEsLyXmac"
   },
   "source": [
    "Đa thức bậc 15 như thế nào? Nó có thích hợp không? Nếu chúng ta thay đổi dữ liệu thì có được đường cong cũng tương tự không? Hãy xem kết quả."
   ]
  },
  {
   "cell_type": "markdown",
   "metadata": {
    "id": "kTgHc7GSXmae"
   },
   "source": [
    "## Thay đổi dữ liệu và học lại"
   ]
  },
  {
   "cell_type": "markdown",
   "metadata": {
    "id": "OV0xJEYiXmag"
   },
   "source": [
    "Chúng ta sẽ chia dữ liệu bán hàng thành 4 tập con có kích thước tương tự nhau. Sau đó ước tính một mô hình đa thức bậc 15 cho cả 4 tập con dữ liệu. In ra các hệ số (nên dùng `.coef_` để truy cập các tham số của mô hình) và vẽ biểu đồ kết quả khớp (đã thực hiện phía trên). Quiz sẽ hỏi về các kết quả này.\n",
    "\n",
    "Để chia dữ liệu bán hàng thành 4 tập con, chúng ta thực hiện như sau:\n",
    "* Đầu tiên, chia full_data thành 2 tập con với `train_test_split(full_data, train_size=0.5, test_size=0.5 seed=0)`. \n",
    "* Tiếp theo chia mỗi tập con kết quả thành 2 tập con nữa với `train_test_split(big_set_?, train_size=0.5, test_size=0.5, random_state=0)`.\n",
    "\n",
    "Chúng ta thiết lập `seed=0` trong các bước này để những người dùng khác nhau sẽ được các kết quả thống nhất. \n",
    "Chúng ta nên kết thúc với 4 tập con (`set_1`, `set_2`, `set_3`, `set_4`) có kích thước xấp xỉ nhau. "
   ]
  },
  {
   "cell_type": "code",
   "execution_count": 33,
   "metadata": {
    "id": "76dnOPQyXmai"
   },
   "outputs": [],
   "source": [
    "from sklearn.model_selection import train_test_split\n",
    "big_set_1, big_set_2 = train_test_split(full_data, train_size=0.5, test_size=0.5, random_state=0)\n",
    "set_1, set_2 = train_test_split(big_set_1, train_size=0.5, test_size=0.5, random_state=0)\n",
    "set_3, set_4 = train_test_split(big_set_2, train_size=0.5, test_size=0.5, random_state=0)"
   ]
  },
  {
   "cell_type": "markdown",
   "metadata": {
    "id": "t1Cd3dVqXmaj"
   },
   "source": [
    "**test_size=0.5 có cần thiết không?**"
   ]
  },
  {
   "cell_type": "markdown",
   "metadata": {
    "id": "cKMuQHHjXmal"
   },
   "source": [
    "Khớp đa thức bậc 15 vào set_1, set_2, set_3, và set_4 sử dụng sqft_living để đoán giá. Vẽ biểu đồ mô hình kết quả (in các hệ số cho 'power_1' nếu muốn). "
   ]
  },
  {
   "cell_type": "code",
   "execution_count": 35,
   "metadata": {},
   "outputs": [
    {
     "data": {
      "text/plain": [
       "array([ 1.55440823e-05,  3.30889191e-02,  9.02918554e-06, -8.90865884e-10,\n",
       "       -2.10335221e-14, -2.08166817e-17, -1.01264483e-15,  1.04256881e-15,\n",
       "        8.65193334e-17, -1.02261949e-15,  1.82579646e-16, -5.81999726e-16,\n",
       "        1.30104261e-16, -4.32054566e-16,  8.74300632e-16])"
      ]
     },
     "execution_count": 35,
     "metadata": {},
     "output_type": "execute_result"
    }
   ],
   "source": [
    "poly1_data = polynomial_dataframe(set_1['sqft_living'],15)\n",
    "X1 = poly1_data.values\n",
    "poly1_data['price'] = set_1['price']\n",
    "y1 = poly1_data['price'].values\n",
    "model1 = LinearRegression().fit(X1,y1)\n",
    "model1.coef_"
   ]
  },
  {
   "cell_type": "code",
   "execution_count": 38,
   "metadata": {},
   "outputs": [
    {
     "data": {
      "text/plain": [
       "array([ 2.68928288e-05,  5.29186473e-02,  3.30861232e-07, -1.44430872e-10,\n",
       "       -8.99627595e-15,  1.83880688e-16, -4.97865638e-16,  1.12757026e-16,\n",
       "       -2.83627288e-16,  4.47558657e-16, -6.58327559e-16,  7.59808882e-16,\n",
       "        6.67868538e-16,  2.25514052e-16, -3.33066907e-16])"
      ]
     },
     "execution_count": 38,
     "metadata": {},
     "output_type": "execute_result"
    }
   ],
   "source": [
    "poly2_data = polynomial_dataframe(set_2['sqft_living'],15)\n",
    "X2 = poly2_data.values\n",
    "poly2_data['price'] = set_2['price']\n",
    "y2 = poly2_data['price'].values\n",
    "model2 = LinearRegression().fit(X2,y2)\n",
    "model2.coef_"
   ]
  },
  {
   "cell_type": "code",
   "execution_count": 40,
   "metadata": {},
   "outputs": [
    {
     "data": {
      "text/plain": [
       "array([ 1.64293776e-05,  4.07318750e-02,  5.91852810e-06, -5.57824734e-10,\n",
       "       -5.47582812e-14, -6.41847686e-16, -2.34187669e-17,  9.41087486e-17,\n",
       "       -6.80011603e-16,  3.23092247e-16,  5.49039980e-16,  1.73645820e-15,\n",
       "        2.52835947e-16, -6.38378239e-16, -7.77156117e-16])"
      ]
     },
     "execution_count": 40,
     "metadata": {},
     "output_type": "execute_result"
    }
   ],
   "source": [
    "poly3_data = polynomial_dataframe(set_3['sqft_living'],15)\n",
    "X3 = poly3_data.values\n",
    "poly3_data['price'] = set_3['price']\n",
    "y3 = poly3_data['price'].values\n",
    "model3 = LinearRegression().fit(X3,y3)\n",
    "model3.coef_"
   ]
  },
  {
   "cell_type": "code",
   "execution_count": 41,
   "metadata": {},
   "outputs": [
    {
     "data": {
      "text/plain": [
       "array([ 3.43728517e-05,  7.53705513e-02, -9.57527776e-06,  8.28127444e-10,\n",
       "        1.71251902e-14, -9.71445147e-17, -3.13984949e-16,  1.22298005e-16,\n",
       "        1.81712284e-16, -9.12464548e-16,  6.38378239e-16,  9.72746189e-16,\n",
       "        1.16746890e-15, -7.11236625e-16,  4.71844785e-16])"
      ]
     },
     "execution_count": 41,
     "metadata": {},
     "output_type": "execute_result"
    }
   ],
   "source": [
    "poly4_data = polynomial_dataframe(set_4['sqft_living'],15)\n",
    "X4 = poly4_data.values\n",
    "poly4_data['price'] = set_4['price']\n",
    "y4 = poly4_data['price'].values\n",
    "model4 = LinearRegression().fit(X4,y4)\n",
    "model4.coef_"
   ]
  },
  {
   "cell_type": "code",
   "execution_count": 57,
   "metadata": {
    "id": "ikBpnveRXmaq"
   },
   "outputs": [
    {
     "data": {
      "text/plain": [
       "[<matplotlib.lines.Line2D at 0x1dc671c1bb0>,\n",
       " <matplotlib.lines.Line2D at 0x1dc671c1c40>]"
      ]
     },
     "execution_count": 57,
     "metadata": {},
     "output_type": "execute_result"
    },
    {
     "data": {
      "image/png": "[encoded data removed]",
      "text/plain": [
       "<Figure size 432x288 with 4 Axes>"
      ]
     },
     "metadata": {
      "needs_background": "light"
     },
     "output_type": "display_data"
    }
   ],
   "source": [
    "ax1 = plt.subplot(2,2,1)\n",
    "ax2 = plt.subplot(2,2,2)\n",
    "ax3 = plt.subplot(2,2,3)\n",
    "ax4 = plt.subplot(2,2,4)\n",
    "ax1.plot(poly1_data['power_15'],poly1_data['price'],'.',\n",
    "        poly1_data['power_15'], model1.predict(X1),'-')\n",
    "ax2.plot(poly2_data['power_15'],poly2_data['price'],'.',\n",
    "        poly2_data['power_15'], model2.predict(X2),'-')\n",
    "ax3.plot(poly3_data['power_15'],poly3_data['price'],'.',\n",
    "        poly3_data['power_15'], model3.predict(X3),'-')\n",
    "ax4.plot(poly4_data['power_15'],poly4_data['price'],'.',\n",
    "        poly4_data['power_15'], model4.predict(X4),'-')"
   ]
  },
  {
   "cell_type": "markdown",
   "metadata": {
    "id": "ihdVUiBCXmar"
   },
   "source": [
    "\n",
    "**Quiz: Dấu (dương hoặc âm) của power_15 có tương tự ở cả 4 mô hình không??**\n",
    "\n",
    "**Quiz: (Đúng/Sai) Đồ thị khớp đã vẽ trông tương tự nhau ở cả 4 mô hình.**"
   ]
  },
  {
   "cell_type": "markdown",
   "metadata": {
    "id": "Ai1VdJaeXmas"
   },
   "source": [
    "# Chọn bậc đa thức"
   ]
  },
  {
   "cell_type": "markdown",
   "metadata": {
    "id": "QlntTwSZXmau"
   },
   "source": [
    "Khi có tham số như bậc của đa thức, có một cách để lựa chọn các tham số này, đó là tập kiểm định. (Chúng ta sẽ khám phá một phương pháp khác sau).\n",
    "\n",
    "Chúng ta chia tập dữ liệu bán hàng thành tập huấn luyện, tập kiểm tra và tập kiểm đinh như sau:\n",
    "\n",
    "* Chia dữ liệu bán hàng thành 2 tập: `train_and_validation` và `test_data`. Sử dụng `train_test_split`.\n",
    "* Tiếp tục chia tập huấn luyện thành 2 tập: `train_data` và `validation_data`. Sử dụng `train_test_split`.\n",
    "\n",
    "Lần này, chúng ta sẽ thiết lập `random_state=1` để những người dùng có khác nhau có kết quả thống nhất."
   ]
  },
  {
   "cell_type": "code",
   "execution_count": 58,
   "metadata": {
    "id": "VmJRLKMeXmaw"
   },
   "outputs": [],
   "source": [
    "train_and_validation,test_data = train_test_split(full_data,test_size = 0.2)\n",
    "train_data,validation = train_test_split(train_and_validation,test_size = 0.2)"
   ]
  },
  {
   "cell_type": "markdown",
   "metadata": {
    "id": "JPsMwrgrXmay"
   },
   "source": [
    "Tiếp theo, chúng ta sẽ viết một vòng lặp như sau:\n",
    "* Với bậc [1, 2, 3, 4, 5, 6, 7, 8, 9, 10, 11, 12, 13, 14, 15] (để nhận trong python, sử dụng `range(1, 15+1)` tích hợp sẵn)\n",
    "    * Xây DataFrame của dữ liệu đa thức có train_data['sqft_living'] ở bậc hiện tại <br>\n",
    "    *Gợi ý:* DataFrame giữ cho `.values` thống nhất với thứ tự cột\n",
    "    * Load các nhãn của train_data\n",
    "    * Tìm hiểu mô hình hồi quy đa thức 'sqft' -> 'price' với bậc đó trong dữ liệu HUẤN LUYỆN \n",
    "    * Tính RSS trong dữ liệu KIỂM ĐỊNH (ở đây sẽ sử dụng `.predict()`) cho các bậc đó. Chúng ta sẽ cần áp dụng tất cả các bước trên vào tập kiểm định.\n",
    "* Báo lại bậc nào có RSS thấp nhất trong dữ liệu kiểm định (chỉ mục python từ 0)."
   ]
  },
  {
   "cell_type": "code",
   "execution_count": 66,
   "metadata": {},
   "outputs": [],
   "source": [
    "def RSS(y,X,model):\n",
    "    y_pr = model.predict(X)\n",
    "    rss = np.sum((y - y_pr)**2)\n",
    "    return rss"
   ]
  },
  {
   "cell_type": "code",
   "execution_count": 92,
   "metadata": {
    "id": "Z1uE68OtXmaz"
   },
   "outputs": [
    {
     "name": "stdout",
     "output_type": "stream",
     "text": [
      "[280.90472958]\n",
      "[8.63974445e+01 3.50472757e-02]\n",
      "[-9.57277503e+01  8.91770173e-02 -4.03936673e-06]\n",
      "[ 1.62282168e+02 -2.62801638e-02  1.44493665e-05 -8.71061657e-10]\n",
      "[ 1.62039692e-05  3.98918984e-02  5.30250560e-06 -4.92260373e-10\n",
      " -2.16562879e-14]\n",
      "[ 1.60765377e-05  3.96293095e-02  5.36543911e-06 -4.95598410e-10\n",
      " -2.15626128e-14 -5.06539255e-16]\n",
      "[ 1.60439126e-05  3.95608229e-02  5.39102237e-06 -4.97305397e-10\n",
      " -2.15348572e-14 -4.82253126e-16 -4.91794105e-16]\n",
      "[ 1.60280240e-05  3.95263313e-02  5.40136296e-06 -4.97877877e-10\n",
      " -2.14168960e-14 -5.06539255e-16 -5.03069808e-16  4.28476699e-16]\n",
      "[ 1.60412392e-05  3.95404075e-02  5.39494816e-06 -4.97403426e-10\n",
      " -2.14238349e-14 -4.92661467e-16 -4.75314232e-16  3.97251676e-16\n",
      " -3.10515502e-16]\n",
      "[ 1.60186797e-05  3.95041900e-02  5.40440301e-06 -4.97976353e-10\n",
      " -2.13960794e-14 -4.92661467e-16 -4.85722573e-16  4.01588485e-16\n",
      " -3.05311332e-16 -1.07552856e-16]\n",
      "[ 1.60247954e-05  3.95559530e-02  5.38986171e-06 -4.97131849e-10\n",
      " -2.14411822e-14 -4.96130914e-16 -5.03937170e-16  4.16333634e-16\n",
      " -3.10515502e-16 -1.26634814e-16  2.72785267e-16]\n",
      "[ 1.60358769e-05  3.95648965e-02  5.39271936e-06 -4.97428919e-10\n",
      " -2.15522045e-14 -5.20417043e-16 -5.32560107e-16  3.35668993e-16\n",
      " -3.11382864e-16 -1.97758476e-16  3.03142927e-16  5.90673344e-16]\n",
      "[ 1.60367236e-05  3.95902932e-02  5.38867995e-06 -4.97228198e-10\n",
      " -2.15799600e-14 -4.75314232e-16 -5.34294831e-16  3.46944695e-16\n",
      " -3.08780779e-16 -1.82145965e-16  3.04443970e-16  6.18428919e-16\n",
      "  2.06432094e-16]\n",
      "[ 1.59950730e-05  3.95144345e-02  5.40283110e-06 -4.97807510e-10\n",
      " -2.16320017e-14 -5.37764278e-16 -5.48172618e-16  3.24393290e-16\n",
      " -2.81892565e-16 -2.46330734e-16  2.39391840e-16  6.58327559e-16\n",
      "  2.48065457e-16 -6.93889390e-16]\n",
      "[ 1.60710122e-05  3.96653860e-02  5.36561723e-06 -4.95816181e-10\n",
      " -2.16666962e-14 -5.16947596e-16 -5.57713598e-16  3.21791205e-16\n",
      " -3.00974523e-16 -2.42861287e-16  2.40259201e-16  6.58327559e-16\n",
      "  2.57606436e-16 -6.93889390e-16  1.87350135e-16]\n"
     ]
    }
   ],
   "source": [
    "total_rss = []\n",
    "for i in range(1,16):\n",
    "    poly_total = polynomial_dataframe(train_data['sqft_living'],i)\n",
    "    X = poly_total.values\n",
    "    poly_total['price'] = train_data['price']\n",
    "    y = poly_total['price'].values\n",
    "    model = LinearRegression().fit(X,y)\n",
    "    print(model.coef_)\n",
    "    poly_total_test = polynomial_dataframe(test_data['sqft_living'],i)\n",
    "    X_test = poly_total_test.values\n",
    "    poly_total_test['price'] = test_data['price']\n",
    "    y_test = poly_total_test['price'].values\n",
    "    total_rss.append(RSS(y_test,X_test,model))"
   ]
  },
  {
   "cell_type": "code",
   "execution_count": 93,
   "metadata": {},
   "outputs": [
    {
     "data": {
      "text/plain": [
       "([305591230637177.2,\n",
       "  268212218683053.44,\n",
       "  263919081710673.94,\n",
       "  262430950896005.78,\n",
       "  261824819928044.88,\n",
       "  261784218627612.25,\n",
       "  261724913066254.25,\n",
       "  261772086869553.62,\n",
       "  261747233623600.9,\n",
       "  261736468323865.4,\n",
       "  261783274589736.25,\n",
       "  261648313911451.94,\n",
       "  261606696882691.9,\n",
       "  261780005097909.28,\n",
       "  261780185447601.12],\n",
       " 15)"
      ]
     },
     "execution_count": 93,
     "metadata": {},
     "output_type": "execute_result"
    }
   ],
   "source": [
    "total_rss,len(total_rss)"
   ]
  },
  {
   "cell_type": "markdown",
   "metadata": {
    "id": "koQpGs03Xma5"
   },
   "source": [
    "Chúng ta đã chọn bậc của đa thức sử dụng dữ liệu kiểm định, hãy tính RSS của mô hình này trong dữ liệu KIỂM TRA. Báo cáo RSS trong quiz."
   ]
  },
  {
   "cell_type": "code",
   "execution_count": 94,
   "metadata": {
    "id": "N77axvQGXma9"
   },
   "outputs": [
    {
     "name": "stdout",
     "output_type": "stream",
     "text": [
      "12\n"
     ]
    }
   ],
   "source": [
    "for i in range(len(total_rss)):\n",
    "    if total_rss[i] == min(total_rss):\n",
    "        print(i)"
   ]
  }
 ],
 "metadata": {
  "colab": {
   "collapsed_sections": [],
   "name": "[VN]Lab-3.ipynb",
   "provenance": []
  },
  "kernelspec": {
   "display_name": "Python 3",
   "language": "python",
   "name": "python3"
  },
  "language_info": {
   "codemirror_mode": {
    "name": "ipython",
    "version": 3
   },
   "file_extension": ".py",
   "mimetype": "text/x-python",
   "name": "python",
   "nbconvert_exporter": "python",
   "pygments_lexer": "ipython3",
   "version": "3.8.8"
  }
 },
 "nbformat": 4,
 "nbformat_minor": 1
}
