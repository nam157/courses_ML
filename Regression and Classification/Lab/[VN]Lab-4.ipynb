{
 "cells": [
  {
   "cell_type": "markdown",
   "metadata": {
    "id": "VVUKL7jIMH33"
   },
   "source": [
    "# Hồi quy Ridge Regression (diễn giải)"
   ]
  },
  {
   "cell_type": "markdown",
   "metadata": {
    "id": "0vrMMNPMMH38"
   },
   "source": [
    "Trong notebook này, chúng ta sẽ chạy hồi quy Ridge nhiều lần với các L2 penalty khác nhau để xem cái nào sẽ khớp tốt nhất. Chúng ta sẽ tham khảo lại ví dụ hồi quy đa thức để thấy được hiệu quả của điều chuẩn L2.\n",
    "* Sử dụng triển khai được tích hợp sẵn của Hồi quy Ridge từ sklearn để chạy hồi quy đa thức.\n",
    "* Sử dụng matplotlib để trực quan hóa hồi quy đa thức.\n",
    "* Sử dụng triển khai trên để chạy hồi quy đa thức, lần này là với L2 penalty.\n",
    "* Sử dụng matplotlib để trực quan hóa hồi quy đa thức với điều chuẩn L2.\n",
    "* Chọn L2 penalty tốt nhất sử dụng kiểm định chéo.\n",
    "* Đánh giá khớp cuối cùng sử dụng dữ liệu kiểm tra.\n",
    "\n",
    "Chúng ta sẽ tiếp tục sử dụng dữ liệu giá nhà từ các notebook trước đó. (Trong bài tập lập trình tiếp theo, chúng ta sẽ triển khai thuật toán học hồi quy Ridge với gradient descent.)"
   ]
  },
  {
   "cell_type": "markdown",
   "metadata": {
    "id": "VcfzkQ2PMH3-"
   },
   "source": [
    "## Thư viện"
   ]
  },
  {
   "cell_type": "code",
   "execution_count": 1,
   "metadata": {
    "id": "W20HLZsEMH4B"
   },
   "outputs": [],
   "source": [
    "import pandas as pd\n",
    "import numpy as np"
   ]
  },
  {
   "cell_type": "markdown",
   "metadata": {
    "id": "kk_-_EC-MH4M"
   },
   "source": [
    "## Hồi quy đa thức"
   ]
  },
  {
   "cell_type": "markdown",
   "metadata": {
    "id": "THfgTOGiMH4P"
   },
   "source": [
    "Chúng ta sẽ lấy nguồn từ lab trước (*lab-3.ipynb*), đã có hàm tạo DataFrame với các cột chứa lũy thừa của một đầu vào đã biết. Copy và paste hàm `polynomial_dataframe`:"
   ]
  },
  {
   "cell_type": "code",
   "execution_count": 2,
   "metadata": {
    "id": "35ETgMu4MH4T"
   },
   "outputs": [],
   "source": [
    "def polynomial_dataframe(feature, degree):\n",
    "    data = pd.DataFrame()\n",
    "    data['power_1'] = feature\n",
    "    if degree > 1:\n",
    "        for i in range(2,degree+1):\n",
    "            name = 'power_' + str(i)\n",
    "            data[name] = feature ** i\n",
    "    return data"
   ]
  },
  {
   "cell_type": "markdown",
   "metadata": {
    "id": "xR4cfYlIMH4f"
   },
   "source": [
    "Chúng ta sẽ dùng matplotlib để hiển thị xem hồi quy đa thức trông như thế nào với dữ liệu nhà ở."
   ]
  },
  {
   "cell_type": "code",
   "execution_count": 3,
   "metadata": {
    "id": "06SszSocMH4k"
   },
   "outputs": [],
   "source": [
    "import matplotlib.pyplot as plt\n",
    "%matplotlib inline"
   ]
  },
  {
   "cell_type": "code",
   "execution_count": 4,
   "metadata": {
    "id": "6GB7vW5nMH4v"
   },
   "outputs": [],
   "source": [
    "full_data = pd.read_csv(\"kc_house_data.csv\", index_col=0)"
   ]
  },
  {
   "cell_type": "markdown",
   "metadata": {
    "id": "P800G-jSMH45"
   },
   "source": [
    "Ở lab trước, chúng ta đã dùng biến 'sqft_living'. Để vẽ biểu đồ (nối các chấm), chúng ta cần sắp xếp theo theo giá trị 'sqft_living'; với các ngôi nhà có cùng diện tích, chúng ta sẽ chọn theo giá."
   ]
  },
  {
   "cell_type": "code",
   "execution_count": 5,
   "metadata": {
    "id": "45kD_iqOMH47"
   },
   "outputs": [],
   "source": [
    "full_data = full_data.sort_values(['sqft_living', 'price'])"
   ]
  },
  {
   "cell_type": "markdown",
   "metadata": {
    "id": "glxnRQIvMH5D"
   },
   "source": [
    "Hãy xem lại  mô hình đa thức bậc 15 sử dụng đầu vào 'sqft_living'. Tạo các đặc trưng đa thức bậc 15 sử dụng `polynomial_dataframe()` và khớp mô hình với các đặc trưng này, sử dụng L2 penalty của `1e-5`:"
   ]
  },
  {
   "cell_type": "code",
   "execution_count": 6,
   "metadata": {
    "id": "ifNuc9vyMH5F"
   },
   "outputs": [],
   "source": [
    "l2_small_penalty = 1e-5"
   ]
  },
  {
   "cell_type": "markdown",
   "metadata": {
    "id": "7N5PNVAKMH5O"
   },
   "source": [
    "\n",
    "Lưu ý: Nếu có quá nhiều đặc trưng và quá ít điểm dữ liệu, giải pháp có thể không ổn định về mặt số học, đôi khi có thể dẫn đến các kết quả kỳ lạ không thể đoán trước. Do đó, thay vì không sử dụng điều chuẩn, chúng ta sẽ đưa vào một ít điều chuẩn (`l2_penalty=1e-5`) để làm cho giải pháp ổn định về mặt số học. (Trong bài giảng, chúng ta đã thảo luận là điều chuẩn cũng có thể giúp ổn định số, ở đây chúng ta có một ví dụ thực tế.)\n",
    "\n",
    "Với L2 penalty trên, hãy khớp mô hình và in ra các trọng số tìm được. Có thể tham khảo [Hồi quy Ridge của sklearn](https://scikit-learn.org/stable/modules/generated/sklearn.linear_model.Ridge.html).\n",
    "\n",
    "Chúng ta cũng có thể chuẩn hóa các giá trị cho phân phối Gauss qua [StandardScaler của sklearn](https://scikit-learn.org/stable/modules/generated/sklearn.preprocessing.StandardScaler.html), vì các giá trị penalty điều chỉnh độ lớn của trọng số, tỷ lệ nghịch với các giá trị đa thức (rất lớn).  "
   ]
  },
  {
   "cell_type": "code",
   "execution_count": 7,
   "metadata": {
    "id": "VCYXQCIPMH5Q"
   },
   "outputs": [
    {
     "data": {
      "text/plain": [
       "(array([  66302.88611122,   69629.18248656,  318517.57918023,\n",
       "        -214032.49153798,  -11942.64888294,    -785.01485673,\n",
       "          -2425.65579973,    1844.69134914,   -1112.58390264,\n",
       "          -1300.13430765,    1164.71408109,    3544.54416876,\n",
       "           2157.26004229,   -2039.47889013,     347.69928627]),\n",
       "             power_1    power_2        power_3            power_4  \\\n",
       " id                                                                 \n",
       " 3980300371      290      84100       24389000         7072810000   \n",
       " 2856101479      370     136900       50653000        18741610000   \n",
       " 1723049033      380     144400       54872000        20851360000   \n",
       " 1222029077      384     147456       56623104        21743271936   \n",
       " 6896300380      390     152100       59319000        23134410000   \n",
       " ...             ...        ...            ...                ...   \n",
       " 1924059029     9640   92929600   895841344000   8635910556160000   \n",
       " 9208900037     9890   97812100   967361669000   9567206906410000   \n",
       " 9808700762    10040  100801600  1012048064000  10160962562560000   \n",
       " 6762700020    12050  145202500  1749690125000  21083766006250000   \n",
       " 1225069038    13540  183331600  2482309864000  33610475558560000   \n",
       " \n",
       "                         power_5              power_6              power_7  \\\n",
       " id                                                                          \n",
       " 3980300371        2051114900000      594823321000000   172498763090000000   \n",
       " 2856101479        6934395700000     2565726409000000   949318771330000000   \n",
       " 1723049033        7923516800000     3010936384000000  1144155825920000000   \n",
       " 1222029077        8349416423424     3206175906594816  1231171548132409344   \n",
       " 6896300380        9022419900000     3518743761000000  1372310066790000000   \n",
       " ...                         ...                  ...                  ...   \n",
       " 1924059029 -8983542607165358080  6112692992292945920  7459874275690807296   \n",
       " 9208900037  2385955935847141920  3718535253717071936 -6494023715004475264   \n",
       " 9808700762 -8664400314154909696  4265897498952073216 -3728849674763763712   \n",
       " 6762700020 -4195036656621222624 -6112950321561191360 -3202288490116285312   \n",
       " 1225069038 -6082762779836390400  4104250128421949440 -8493155253683601408   \n",
       " \n",
       "                         power_8              power_9             power_10  \\\n",
       " id                                                                          \n",
       " 3980300371 -5315590925028654848  8005133933292429824 -2800912632598854656   \n",
       " 2856101479   759807991618519296  4427795793208865280 -3475779072869940224   \n",
       " 1723049033 -7942643919429238784  7061338705255727104  8530817309291315200   \n",
       " 1222029077 -6845471433603153920 -9223372036854775808                    0   \n",
       " 6896300380   245347910523003136  3451964735423464960  -346070565645933568   \n",
       " ...                         ...                  ...                  ...   \n",
       " 1924059029  7779618339550134272 -8940610439742488576 -4296326746564722688   \n",
       " 9208900037  5668323262398365952    61825116511904256  2707847870317888512   \n",
       " 9808700762 -9207009071507439616 -1736524576130596864 -2533594695666237440   \n",
       " 6762700020  3012296299143971072 -5021932375546162688 -8964563563931089920   \n",
       " 1225069038  -319579370618290176  7880179150095646720  1657969959010041856   \n",
       " \n",
       "                        power_11             power_12             power_13  \\\n",
       " id                                                                          \n",
       " 3980300371  -607924210447579136  8169419707297566720  7948473681471741952   \n",
       " 2856101479  5233828197790730240  -391694556932730880  2646966524565987328   \n",
       " 1723049033 -4916379442181308416 -5103036584232484864 -2245774268841328640   \n",
       " 1222029077                    0                    0                    0   \n",
       " 6896300380 -5840312085947230208 -8772192453144932352 -8507403090256568320   \n",
       " ...                         ...                  ...                  ...   \n",
       " 1924059029 -3649391405983334400 -2192205115228684288  7111397666629615616   \n",
       " 9208900037 -4056957582351562752 -1642129138680852480 -7522396689225605120   \n",
       " 9808700762   769333156447780864 -5080876148582252544 -6749167958905323520   \n",
       " 6762700020  1142350273500727296  4049716696438411264  7448117121091706880   \n",
       " 1225069038  -774292708557586432 -6172640002694971392  4651761488065724416   \n",
       " \n",
       "                        power_14             power_15      price  \n",
       " id                                                               \n",
       " 3980300371  -785641586888785920 -6475131313233297408   142000.0  \n",
       " 2856101479  1700178182809075712  1876629133233258496   276000.0  \n",
       " 1723049033 -4843994769065508864  3956395126061793280   245000.0  \n",
       " 1222029077                    0                    0   265000.0  \n",
       " 6896300380  2526728067657646080  7746510479875735552   228000.0  \n",
       " ...                         ...                  ...        ...  \n",
       " 1924059029  5772528404800733184 -6653048102649331712  4668000.0  \n",
       " 9208900037  -784407170612969472  8292337669453152256  6885000.0  \n",
       " 9808700762 -6755324674265055232  5218229408866762752  7062500.0  \n",
       " 6762700020  6401390558099292160 -7527491156874330112  7700000.0  \n",
       " 1225069038  7666280765499375616  1612662097898897408  2280000.0  \n",
       " \n",
       " [21613 rows x 16 columns])"
      ]
     },
     "execution_count": 7,
     "metadata": {},
     "output_type": "execute_result"
    }
   ],
   "source": [
    "from sklearn.linear_model import Ridge, LinearRegression\n",
    "from sklearn.preprocessing import StandardScaler\n",
    "# Mức độ trợ giúp: vừa phải\n",
    "scaler = StandardScaler()\n",
    "poly_data = polynomial_dataframe(full_data['sqft_living'], 15)\n",
    "poly_features = scaler.fit_transform(poly_data.values)\n",
    "# hãy tự thực hiện tiếp\n",
    "poly_data['price'] = full_data['price']\n",
    "labels_poly = poly_data['price'].values\n",
    "ridge = Ridge(l2_small_penalty).fit(poly_features,labels_poly)\n",
    "ridge.coef_,poly_data"
   ]
  },
  {
   "cell_type": "markdown",
   "metadata": {
    "id": "rf9haUEmMH5d"
   },
   "source": [
    "***QUIZ:  Giá trị tìm được cho các hệ số của đặc trưng `power_1` là?***"
   ]
  },
  {
   "cell_type": "markdown",
   "metadata": {
    "id": "JB7ZkhDWMH5g"
   },
   "source": [
    "# Quan sát overfitting"
   ]
  },
  {
   "cell_type": "markdown",
   "metadata": {
    "id": "33LxBDqbMH5l"
   },
   "source": [
    "\n",
    "Theo lab trước, khớp đa thức bậc 15 thay đổi rất nhiều mỗi khi dữ liệu thay đổi. Cụ thể, khi chúng ta chia dữ liệu bán nhà thành 4 tập con và khớp mô hình bậc 15 thì kết quả của mỗi tập con lại khác; mô hình có *phương sai cao*. Chúng ta sẽ thấy ngay sau đây, hồi quy Ridge sẽ giảm phương sai đó. Nhưng trước tiên, chúng ta cần tái hiện lại những gì đã làm."
   ]
  },
  {
   "cell_type": "markdown",
   "metadata": {
    "id": "IYinkpENMH5n"
   },
   "source": [
    "Trước tiên, chia dữ liệu thành 4 tập con có kích thước tương tự nhau và gọi chúng là `set_1`, `set_2`, `set_3`, và `set_4`. Sử dụng hàm `train_test_split` và thiết lập `random_state=0`. "
   ]
  },
  {
   "cell_type": "code",
   "execution_count": 8,
   "metadata": {
    "id": "dU9EfuonMH5o"
   },
   "outputs": [],
   "source": [
    "from sklearn.model_selection import train_test_split\n",
    "seed = 20\n",
    "big_set_1, big_set_2 = train_test_split(full_data, train_size=0.5, test_size=0.5, random_state=0)\n",
    "set_1, set_2 = train_test_split(big_set_1, train_size=0.5, test_size=0.5, random_state=0)\n",
    "set_3, set_4 = train_test_split(big_set_2, train_size=0.5, test_size=0.5, random_state=0)"
   ]
  },
  {
   "cell_type": "markdown",
   "metadata": {
    "id": "tUMvZSMOMH5t"
   },
   "source": [
    "Tiếp theo, khớp đa thức bậc 15 trong `set_1`, `set_2`, `set_3` và `set_4`, sử dụng 'sqft_living' để đoán giá. In các trọng số và vẽ biểu đồ mô hình kết quả."
   ]
  },
  {
   "cell_type": "code",
   "execution_count": 9,
   "metadata": {
    "id": "FKafX2vyMH5w"
   },
   "outputs": [
    {
     "data": {
      "text/plain": [
       "array([-4.93611052e+04,  2.99989870e+05,  1.30810539e+05, -1.21256567e+05,\n",
       "       -1.24244494e+04, -2.29137795e+02, -5.42343351e+03,  5.66819211e+03,\n",
       "        4.75415807e+02, -5.35298665e+03,  6.93510858e+02, -2.95631726e+03,\n",
       "        6.07136435e+02, -2.07020955e+03,  4.59349101e+03])"
      ]
     },
     "execution_count": 9,
     "metadata": {},
     "output_type": "execute_result"
    }
   ],
   "source": [
    "# Chúng ta khớp sử dụng LinearRegression.\n",
    "poly1_data = polynomial_dataframe(set_1['sqft_living'],15)\n",
    "X1 = scaler.fit_transform(poly1_data.values)\n",
    "poly1_data['price'] = set_1['price']\n",
    "y1 = poly1_data['price'].values\n",
    "model1 = LinearRegression().fit(X1,y1)\n",
    "model1.coef_"
   ]
  },
  {
   "cell_type": "code",
   "execution_count": 10,
   "metadata": {
    "id": "oYl_V_jwMH55",
    "scrolled": false
   },
   "outputs": [
    {
     "data": {
      "text/plain": [
       "array([-33200.76651328, 359423.27034271, -90759.22823174,  15064.8582596 ,\n",
       "        -4618.00854672,    915.0521381 ,  -2746.0635908 ,    607.56108086,\n",
       "        -1622.24093379,   2394.56644597,  -3597.3711092 ,   4080.8414802 ,\n",
       "         3261.25632711,   1149.21982414,  -1710.95360896])"
      ]
     },
     "execution_count": 10,
     "metadata": {},
     "output_type": "execute_result"
    }
   ],
   "source": [
    "poly2_data = polynomial_dataframe(set_2['sqft_living'],15)\n",
    "X2 = scaler.fit_transform(poly2_data.values)\n",
    "poly2_data['price'] = set_2['price']\n",
    "y2 = poly2_data['price'].values\n",
    "model2 = LinearRegression().fit(X2,y2)\n",
    "model2.coef_"
   ]
  },
  {
   "cell_type": "code",
   "execution_count": 11,
   "metadata": {
    "id": "oRvMoJ_rMH5-"
   },
   "outputs": [
    {
     "data": {
      "text/plain": [
       "array([ 2.16035177e+05, -3.14694299e+05,  9.69922573e+05, -6.44918344e+05,\n",
       "       -2.85020266e+04, -2.08169323e+03,  1.00555889e+03,  4.61430209e+02,\n",
       "       -3.64620577e+03,  2.25062443e+03,  5.27054406e+03,  8.10259542e+03,\n",
       "        1.44326368e+03, -3.17461365e+03, -4.04417477e+03])"
      ]
     },
     "execution_count": 11,
     "metadata": {},
     "output_type": "execute_result"
    }
   ],
   "source": [
    "poly3_data = polynomial_dataframe(set_3['sqft_living'],15)\n",
    "X3 = scaler.fit_transform(poly3_data.values)\n",
    "poly3_data['price'] = set_3['price']\n",
    "y3 = poly3_data['price'].values\n",
    "model3 = LinearRegression().fit(X3,y3)\n",
    "model3.coef_"
   ]
  },
  {
   "cell_type": "code",
   "execution_count": 12,
   "metadata": {
    "id": "Mw-QEwOIMH6I"
   },
   "outputs": [
    {
     "data": {
      "text/plain": [
       "array([-2.67403772e+05,  1.11404311e+06, -1.05981341e+06,  4.99733800e+05,\n",
       "        9.42868715e+03, -1.24089558e+03, -2.59046106e+03,  6.57457853e+02,\n",
       "        9.46405216e+02, -4.64184984e+03,  1.79050013e+03,  5.68139793e+03,\n",
       "        5.39054430e+03, -3.08669802e+03,  1.95819816e+03])"
      ]
     },
     "execution_count": 12,
     "metadata": {},
     "output_type": "execute_result"
    }
   ],
   "source": [
    "poly4_data = polynomial_dataframe(set_4['sqft_living'],15)\n",
    "X4 = scaler.fit_transform(poly4_data.values)\n",
    "poly4_data['price'] = set_4['price']\n",
    "y4 = poly4_data['price'].values\n",
    "model4 = LinearRegression().fit(X4,y4)\n",
    "model4.coef_"
   ]
  },
  {
   "cell_type": "markdown",
   "metadata": {
    "id": "BHXGHFkYMH6O"
   },
   "source": [
    "4 đồ thị cần khác nhau theo các hệ số đã thấy.\n",
    "\n",
    "***QUIZ:  Với các mô hình đã thấy trong mỗi tập huấn luyện, gía trị tuyệt đối nhỏ nhất và lớn nhất cho hệ số của đặc trưng `power_1` là?***"
   ]
  },
  {
   "cell_type": "markdown",
   "metadata": {
    "id": "VoPtjmQnMH6R"
   },
   "source": [
    "# Hồi quy Ridge"
   ]
  },
  {
   "cell_type": "markdown",
   "metadata": {
    "id": "KIWDTF17MH6S"
   },
   "source": [
    "Nhìn chung, bất cứ khi nào thấy trọng số thay đổi quá nhiều đế đáp ứng thay đổi trong dữ liệu thì phương sai của ước tính cũng lớn. Hồi quy Ridge giúp giải quyết vấn đề này bằng cách phạt các trọng số \"lớn\" (Các trọng số của `model15` trông khá nhỏ nhưng chúng không hề nhỏ vì đầu vào 'sqft_living' theo đơn vị hàng nghìn).\n",
    "\n",
    "Với đối số `l2_penalty=1e3`, hãy khớp mô hình đa thức bậc 15 trong `set_1`, `set_2`, `set_3` và `set_4`. Ngoài thay đổi trong `l2_penalty`, code <u>cũng cần tương tự</u> như phép thử trên."
   ]
  },
  {
   "cell_type": "code",
   "execution_count": 13,
   "metadata": {
    "id": "MGol3bQWMH6T",
    "scrolled": false
   },
   "outputs": [
    {
     "data": {
      "text/plain": [
       "array([89003.761726  , 86553.53922101, 59102.8095943 , 19231.9092444 ,\n",
       "       23247.45711276,  -391.66083698, -3934.79972194,  3804.26143221,\n",
       "         505.54728092, -4116.36180986,  2619.18069725, -3137.17340567,\n",
       "         110.38430155, -2943.56479366,  2866.08059908])"
      ]
     },
     "execution_count": 13,
     "metadata": {},
     "output_type": "execute_result"
    }
   ],
   "source": [
    "# Chúng ta khớp sử dụng Ridge regression.\n",
    "poly1_data = polynomial_dataframe(set_1['sqft_living'],15)\n",
    "X1 = scaler.fit_transform(poly1_data.values)\n",
    "poly1_data['price'] = set_1['price']\n",
    "y1 = poly1_data['price'].values\n",
    "model1 = Ridge(alpha=1e3).fit(X1,y1)\n",
    "model1.coef_"
   ]
  },
  {
   "cell_type": "code",
   "execution_count": 14,
   "metadata": {
    "id": "34zUlob1MH6Z",
    "scrolled": false
   },
   "outputs": [
    {
     "data": {
      "text/plain": [
       "array([86741.53309463, 75961.37438113, 51252.17343879, 24001.60250935,\n",
       "       15313.35864431,  -126.0719775 , -1106.00227092,   258.16750655,\n",
       "       -1442.77446899,  1293.66664842, -1970.34750958,  2481.77613172,\n",
       "        1869.29500613,   843.02155962, -2758.79429432])"
      ]
     },
     "execution_count": 14,
     "metadata": {},
     "output_type": "execute_result"
    }
   ],
   "source": [
    "poly2_data = polynomial_dataframe(set_2['sqft_living'],15)\n",
    "X2 = scaler.fit_transform(poly2_data.values)\n",
    "poly2_data['price'] = set_2['price']\n",
    "y2 = poly2_data['price'].values\n",
    "model2 = Ridge(alpha = 1e3).fit(X2,y2)\n",
    "model2.coef_"
   ]
  },
  {
   "cell_type": "code",
   "execution_count": 15,
   "metadata": {
    "id": "aLll4AbHMH6g"
   },
   "outputs": [
    {
     "data": {
      "text/plain": [
       "array([123240.6436004 , 121521.10030798,  47646.1081885 , -32493.48988723,\n",
       "        -4802.25832146,  -1254.96821906,   2643.86458089,   -240.09862389,\n",
       "        -5503.22358272,   2751.43968712,   6139.75314865,   6048.96711635,\n",
       "         -159.53375078,  -4191.54288019,  -2520.45580487])"
      ]
     },
     "execution_count": 15,
     "metadata": {},
     "output_type": "execute_result"
    }
   ],
   "source": [
    "poly3_data = polynomial_dataframe(set_3['sqft_living'],15)\n",
    "X3 = scaler.fit_transform(poly3_data.values)\n",
    "poly3_data['price'] = set_3['price']\n",
    "y3 = poly3_data['price'].values\n",
    "model3 = Ridge(alpha=1e3).fit(X3,y3)\n",
    "model3.coef_"
   ]
  },
  {
   "cell_type": "code",
   "execution_count": 16,
   "metadata": {
    "id": "miFqMNCXMH6o"
   },
   "outputs": [
    {
     "data": {
      "text/plain": [
       "array([87015.21620978, 79783.71500094, 58595.96089746, 40601.30338539,\n",
       "       16842.47168264, -2370.58465379,  -658.13688017,   824.70475472,\n",
       "         936.99375512, -4596.8413255 ,  2664.6945947 ,  3923.87925897,\n",
       "        3712.77664624, -3710.74928782,   485.95708085])"
      ]
     },
     "execution_count": 16,
     "metadata": {},
     "output_type": "execute_result"
    }
   ],
   "source": [
    "poly4_data = polynomial_dataframe(set_4['sqft_living'],15)\n",
    "X4 = scaler.fit_transform(poly4_data.values)\n",
    "poly4_data['price'] = set_4['price']\n",
    "y4 = poly4_data['price'].values\n",
    "model4 = Ridge(alpha=1e3).fit(X4,y4)\n",
    "model4.coef_"
   ]
  },
  {
   "cell_type": "markdown",
   "metadata": {
    "id": "cZ-xpdVfMH6u"
   },
   "source": [
    "Các đồ thị thay đổi khá ít, giờ hãy áp dụng điều chuẩn bậc cao hơn.\n",
    "\n",
    "***QUIZ:  Với các mô hình đã thấy có điều chuẩn mức độ cao hơn trong từng tập huấn luyện, giá trị nhỏ nhất và lớn nhất cho hệ số của đặc trưng `power_1` là bao nhiêu?*** (Với câu này, các số âm nhỏ hơn số dương, chẳng hạn: -5 < -3 < 5,..)"
   ]
  },
  {
   "cell_type": "markdown",
   "metadata": {
    "id": "wugqYf-MMH6w"
   },
   "source": [
    "## Chọn L2 penalty qua kiểm định chéo "
   ]
  },
  {
   "cell_type": "markdown",
   "metadata": {
    "id": "dzT-BhisMH6x"
   },
   "source": [
    "Cũng giống như bậc đa thức, L2 penalty là tham số mà chúng ta cần lựa chọn. Chúng ta có thể sử dụng tập kiểm định như đã làm trước đó, nhưng cách tiếp cận này có một nhược điểm lớn: nó để lại ít quan sát hơn cho việc huấn luyện. **Kiểm định chéo** khắc phục vấn đề này bằng cách sử dụng tất cả các tập huấn luyện một cách thông minh.\n",
    "\n",
    "Chúng ta sẽ triển khai một loại kiểm định chéo là **kiểm định chéo k-fold**. Phương thức này có tên như vậy vì nó liên quan đến việc chia tập huấn luyện thành k segment (phân đoạn) có kích thước như nhau. Tương tự như phương pháp tập kiểm định, chúng ta đo lỗi kiểm định với một trong các phân đoạn được chỉ định làm tập kiểm định. Khác biệt chính là chúng ta lặp lại quy trình k lần như sau:\n",
    "\n",
    "Đặt segment 0 là tập kiểm định, khớp mô hình với các dữ liệu còn lại và đánh giá nó trên tập kiểm định này.<br>\n",
    "Đặt segment 1 là tập kiểm định, khớp mô hình với các dữ liệu còn lại và đánh giá nó trên tập kiểm định này.<br>\n",
    "...<br>\n",
    "Đặt segment k-1 là tập kiểm định, khớp mô hình với các dữ liệu còn lại và đánh giá nó trên tập kiểm định này.\n",
    "\n",
    "Sau quá trình này, chúng ta tính giá trị trung bình của k lỗi kiểm định và sử dụng nó để ước tính sai số tổng quát hóa. Lưu ý rằng tất cả các quan sát được sử dụng cho cả huấn luyện và kiểm định khi lặp lại các phân đoạn dữ liệu.\n",
    "\n",
    "Để ước tính tốt sai số tổng quát hóa, cần xáo trộn dữ liệu huấn luyện trước khi chia chúng thành các segment. Sklearn có hàm shuffle nên chúng ta sẽ sử dụng hàm này. "
   ]
  },
  {
   "cell_type": "code",
   "execution_count": 17,
   "metadata": {
    "id": "HXnQwfyoMH61"
   },
   "outputs": [],
   "source": [
    "import sklearn\n",
    "train_and_validation, test_data = train_test_split(full_data, train_size=0.9, test_size=0.1, random_state=1)\n",
    "train_and_validation = sklearn.utils.shuffle(train_and_validation, random_state=1)"
   ]
  },
  {
   "cell_type": "markdown",
   "metadata": {
    "id": "ayYvIzSYMH66"
   },
   "source": [
    "Khi dữ liệu đã được xáo trộn, chúng ta sẽ chia nó thành các segment bằng nhau, mỗi segment sẽ nhận `n/k` phần tử, trong đó `n` là số lượng quan sát trong tập huấn luyện còn `k` là số lượng segment. Do segment 0 bắt đầu tại chỉ mục 0 và chứa `n/k` phần tử nên nó sẽ chấm dứt ở chỉ mục `(n/k)-1`. Segment 1 bắt đầu tại vị trí của segment 0 ở chỉ mục `(n/k)`.Với `n/k` phần tử, segment 1 ngừng ở chỉ mục `(n*2/k)-1`. Tiếp tục cho tới chỉ mục `i` bắt đầu tại chỉ mục `(n*i/k)` và ngừng ở `(n*(i+1)/k)-1`."
   ]
  },
  {
   "cell_type": "markdown",
   "metadata": {
    "id": "RAQD4ox1MH67"
   },
   "source": [
    "Với mô hình này, chúng ta viết một vòng lặp ngắn in các chỉ số bắt đầu và kết thúc của mỗi segment để đảm bảo chúng ta đang thực hiện đúng các phân tách."
   ]
  },
  {
   "cell_type": "code",
   "execution_count": 18,
   "metadata": {
    "id": "dheyb20lMH68"
   },
   "outputs": [
    {
     "name": "stdout",
     "output_type": "stream",
     "text": [
      "0 (0, 1944)\n",
      "1 (1945, 3889)\n",
      "2 (3890, 5834)\n",
      "3 (5835, 7779)\n",
      "4 (7780, 9724)\n",
      "5 (9725, 11669)\n",
      "6 (11670, 13614)\n",
      "7 (13615, 15559)\n",
      "8 (15560, 17504)\n",
      "9 (17505, 19450)\n"
     ]
    }
   ],
   "source": [
    "n = len(train_and_validation)\n",
    "k = 10 # kiểm định chéo 10-fold \n",
    "\n",
    "for i in range(k):\n",
    "    start = (n*i)//k\n",
    "    end = (n*(i+1))//k-1\n",
    "    print(i, (start, end))"
   ]
  },
  {
   "cell_type": "markdown",
   "metadata": {
    "id": "SCWf-zc0MH7D"
   },
   "source": [
    "Một trong những ưu điểm của thư viện dữ liệu nói chung là khả năng chấp nhận các slice. Để trích xuất một slice liên tục từ DataFrame, hãy sử dụng dấu hai chấm \":\" trong dấu ngoặc vuông \"[]\". Ví dụ: cell sau đây trích xuất các hàng từ 0 đến 9 của `train_and_validation`. Lưu ý rằng chỉ mục đầu tiên (0) được chứa trong slice nhưng chỉ mục cuối cùng (10) bị bỏ qua."
   ]
  },
  {
   "cell_type": "code",
   "execution_count": 19,
   "metadata": {
    "id": "d1OlHZH9MH7E"
   },
   "outputs": [
    {
     "data": {
      "text/html": [
       "<div>\n",
       "<style scoped>\n",
       "    .dataframe tbody tr th:only-of-type {\n",
       "        vertical-align: middle;\n",
       "    }\n",
       "\n",
       "    .dataframe tbody tr th {\n",
       "        vertical-align: top;\n",
       "    }\n",
       "\n",
       "    .dataframe thead th {\n",
       "        text-align: right;\n",
       "    }\n",
       "</style>\n",
       "<table border=\"1\" class=\"dataframe\">\n",
       "  <thead>\n",
       "    <tr style=\"text-align: right;\">\n",
       "      <th></th>\n",
       "      <th>date</th>\n",
       "      <th>price</th>\n",
       "      <th>bedrooms</th>\n",
       "      <th>bathrooms</th>\n",
       "      <th>sqft_living</th>\n",
       "      <th>sqft_lot</th>\n",
       "      <th>floors</th>\n",
       "      <th>waterfront</th>\n",
       "      <th>view</th>\n",
       "      <th>condition</th>\n",
       "      <th>grade</th>\n",
       "      <th>sqft_above</th>\n",
       "      <th>sqft_basement</th>\n",
       "      <th>yr_built</th>\n",
       "      <th>yr_renovated</th>\n",
       "      <th>zipcode</th>\n",
       "      <th>lat</th>\n",
       "      <th>long</th>\n",
       "      <th>sqft_living15</th>\n",
       "      <th>sqft_lot15</th>\n",
       "    </tr>\n",
       "    <tr>\n",
       "      <th>id</th>\n",
       "      <th></th>\n",
       "      <th></th>\n",
       "      <th></th>\n",
       "      <th></th>\n",
       "      <th></th>\n",
       "      <th></th>\n",
       "      <th></th>\n",
       "      <th></th>\n",
       "      <th></th>\n",
       "      <th></th>\n",
       "      <th></th>\n",
       "      <th></th>\n",
       "      <th></th>\n",
       "      <th></th>\n",
       "      <th></th>\n",
       "      <th></th>\n",
       "      <th></th>\n",
       "      <th></th>\n",
       "      <th></th>\n",
       "      <th></th>\n",
       "    </tr>\n",
       "  </thead>\n",
       "  <tbody>\n",
       "    <tr>\n",
       "      <th>6123600285</th>\n",
       "      <td>20141107T000000</td>\n",
       "      <td>185000.0</td>\n",
       "      <td>3</td>\n",
       "      <td>1.50</td>\n",
       "      <td>1010</td>\n",
       "      <td>7755</td>\n",
       "      <td>1.0</td>\n",
       "      <td>0</td>\n",
       "      <td>0</td>\n",
       "      <td>3</td>\n",
       "      <td>6</td>\n",
       "      <td>1010</td>\n",
       "      <td>0</td>\n",
       "      <td>1953</td>\n",
       "      <td>0</td>\n",
       "      <td>98148</td>\n",
       "      <td>47.4238</td>\n",
       "      <td>-122.332</td>\n",
       "      <td>1270</td>\n",
       "      <td>8350</td>\n",
       "    </tr>\n",
       "    <tr>\n",
       "      <th>3323059027</th>\n",
       "      <td>20140528T000000</td>\n",
       "      <td>326000.0</td>\n",
       "      <td>3</td>\n",
       "      <td>2.75</td>\n",
       "      <td>1720</td>\n",
       "      <td>28000</td>\n",
       "      <td>1.0</td>\n",
       "      <td>0</td>\n",
       "      <td>0</td>\n",
       "      <td>4</td>\n",
       "      <td>7</td>\n",
       "      <td>1720</td>\n",
       "      <td>0</td>\n",
       "      <td>1958</td>\n",
       "      <td>0</td>\n",
       "      <td>98058</td>\n",
       "      <td>47.4375</td>\n",
       "      <td>-122.176</td>\n",
       "      <td>2000</td>\n",
       "      <td>41817</td>\n",
       "    </tr>\n",
       "    <tr>\n",
       "      <th>5316100920</th>\n",
       "      <td>20140725T000000</td>\n",
       "      <td>2250000.0</td>\n",
       "      <td>3</td>\n",
       "      <td>4.25</td>\n",
       "      <td>5150</td>\n",
       "      <td>7800</td>\n",
       "      <td>2.5</td>\n",
       "      <td>0</td>\n",
       "      <td>2</td>\n",
       "      <td>3</td>\n",
       "      <td>11</td>\n",
       "      <td>4170</td>\n",
       "      <td>980</td>\n",
       "      <td>1954</td>\n",
       "      <td>0</td>\n",
       "      <td>98112</td>\n",
       "      <td>47.6288</td>\n",
       "      <td>-122.282</td>\n",
       "      <td>4270</td>\n",
       "      <td>7800</td>\n",
       "    </tr>\n",
       "    <tr>\n",
       "      <th>4315700175</th>\n",
       "      <td>20140612T000000</td>\n",
       "      <td>440000.0</td>\n",
       "      <td>3</td>\n",
       "      <td>1.00</td>\n",
       "      <td>1210</td>\n",
       "      <td>5750</td>\n",
       "      <td>1.5</td>\n",
       "      <td>0</td>\n",
       "      <td>0</td>\n",
       "      <td>4</td>\n",
       "      <td>7</td>\n",
       "      <td>1210</td>\n",
       "      <td>0</td>\n",
       "      <td>1910</td>\n",
       "      <td>0</td>\n",
       "      <td>98136</td>\n",
       "      <td>47.5403</td>\n",
       "      <td>-122.391</td>\n",
       "      <td>1160</td>\n",
       "      <td>5000</td>\n",
       "    </tr>\n",
       "    <tr>\n",
       "      <th>303000445</th>\n",
       "      <td>20140523T000000</td>\n",
       "      <td>175000.0</td>\n",
       "      <td>2</td>\n",
       "      <td>1.00</td>\n",
       "      <td>1300</td>\n",
       "      <td>44431</td>\n",
       "      <td>1.0</td>\n",
       "      <td>0</td>\n",
       "      <td>0</td>\n",
       "      <td>5</td>\n",
       "      <td>6</td>\n",
       "      <td>1300</td>\n",
       "      <td>0</td>\n",
       "      <td>1958</td>\n",
       "      <td>0</td>\n",
       "      <td>98001</td>\n",
       "      <td>47.3270</td>\n",
       "      <td>-122.267</td>\n",
       "      <td>1470</td>\n",
       "      <td>14850</td>\n",
       "    </tr>\n",
       "    <tr>\n",
       "      <th>2130410050</th>\n",
       "      <td>20140513T000000</td>\n",
       "      <td>287000.0</td>\n",
       "      <td>3</td>\n",
       "      <td>2.25</td>\n",
       "      <td>1490</td>\n",
       "      <td>9600</td>\n",
       "      <td>1.0</td>\n",
       "      <td>0</td>\n",
       "      <td>0</td>\n",
       "      <td>4</td>\n",
       "      <td>7</td>\n",
       "      <td>1170</td>\n",
       "      <td>320</td>\n",
       "      <td>1987</td>\n",
       "      <td>0</td>\n",
       "      <td>98019</td>\n",
       "      <td>47.7378</td>\n",
       "      <td>-121.977</td>\n",
       "      <td>1590</td>\n",
       "      <td>10104</td>\n",
       "    </tr>\n",
       "    <tr>\n",
       "      <th>7972601885</th>\n",
       "      <td>20150430T000000</td>\n",
       "      <td>350000.0</td>\n",
       "      <td>5</td>\n",
       "      <td>1.75</td>\n",
       "      <td>1380</td>\n",
       "      <td>7620</td>\n",
       "      <td>1.0</td>\n",
       "      <td>0</td>\n",
       "      <td>0</td>\n",
       "      <td>3</td>\n",
       "      <td>7</td>\n",
       "      <td>1180</td>\n",
       "      <td>200</td>\n",
       "      <td>1955</td>\n",
       "      <td>0</td>\n",
       "      <td>98106</td>\n",
       "      <td>47.5279</td>\n",
       "      <td>-122.345</td>\n",
       "      <td>1990</td>\n",
       "      <td>7620</td>\n",
       "    </tr>\n",
       "    <tr>\n",
       "      <th>3362400511</th>\n",
       "      <td>20150304T000000</td>\n",
       "      <td>570000.0</td>\n",
       "      <td>3</td>\n",
       "      <td>1.75</td>\n",
       "      <td>1260</td>\n",
       "      <td>3328</td>\n",
       "      <td>1.0</td>\n",
       "      <td>0</td>\n",
       "      <td>0</td>\n",
       "      <td>5</td>\n",
       "      <td>6</td>\n",
       "      <td>700</td>\n",
       "      <td>560</td>\n",
       "      <td>1905</td>\n",
       "      <td>0</td>\n",
       "      <td>98103</td>\n",
       "      <td>47.6823</td>\n",
       "      <td>-122.349</td>\n",
       "      <td>1380</td>\n",
       "      <td>3536</td>\n",
       "    </tr>\n",
       "    <tr>\n",
       "      <th>7889600190</th>\n",
       "      <td>20150113T000000</td>\n",
       "      <td>229000.0</td>\n",
       "      <td>3</td>\n",
       "      <td>1.00</td>\n",
       "      <td>1590</td>\n",
       "      <td>6240</td>\n",
       "      <td>1.0</td>\n",
       "      <td>0</td>\n",
       "      <td>0</td>\n",
       "      <td>3</td>\n",
       "      <td>7</td>\n",
       "      <td>1060</td>\n",
       "      <td>530</td>\n",
       "      <td>1956</td>\n",
       "      <td>0</td>\n",
       "      <td>98146</td>\n",
       "      <td>47.4936</td>\n",
       "      <td>-122.337</td>\n",
       "      <td>1410</td>\n",
       "      <td>6240</td>\n",
       "    </tr>\n",
       "    <tr>\n",
       "      <th>452002135</th>\n",
       "      <td>20150422T000000</td>\n",
       "      <td>1070000.0</td>\n",
       "      <td>4</td>\n",
       "      <td>2.50</td>\n",
       "      <td>2740</td>\n",
       "      <td>5000</td>\n",
       "      <td>2.0</td>\n",
       "      <td>0</td>\n",
       "      <td>0</td>\n",
       "      <td>3</td>\n",
       "      <td>9</td>\n",
       "      <td>2740</td>\n",
       "      <td>0</td>\n",
       "      <td>2012</td>\n",
       "      <td>0</td>\n",
       "      <td>98107</td>\n",
       "      <td>47.6740</td>\n",
       "      <td>-122.371</td>\n",
       "      <td>1660</td>\n",
       "      <td>5000</td>\n",
       "    </tr>\n",
       "  </tbody>\n",
       "</table>\n",
       "</div>"
      ],
      "text/plain": [
       "                       date      price  bedrooms  bathrooms  sqft_living  \\\n",
       "id                                                                         \n",
       "6123600285  20141107T000000   185000.0         3       1.50         1010   \n",
       "3323059027  20140528T000000   326000.0         3       2.75         1720   \n",
       "5316100920  20140725T000000  2250000.0         3       4.25         5150   \n",
       "4315700175  20140612T000000   440000.0         3       1.00         1210   \n",
       "303000445   20140523T000000   175000.0         2       1.00         1300   \n",
       "2130410050  20140513T000000   287000.0         3       2.25         1490   \n",
       "7972601885  20150430T000000   350000.0         5       1.75         1380   \n",
       "3362400511  20150304T000000   570000.0         3       1.75         1260   \n",
       "7889600190  20150113T000000   229000.0         3       1.00         1590   \n",
       "452002135   20150422T000000  1070000.0         4       2.50         2740   \n",
       "\n",
       "            sqft_lot  floors  waterfront  view  condition  grade  sqft_above  \\\n",
       "id                                                                             \n",
       "6123600285      7755     1.0           0     0          3      6        1010   \n",
       "3323059027     28000     1.0           0     0          4      7        1720   \n",
       "5316100920      7800     2.5           0     2          3     11        4170   \n",
       "4315700175      5750     1.5           0     0          4      7        1210   \n",
       "303000445      44431     1.0           0     0          5      6        1300   \n",
       "2130410050      9600     1.0           0     0          4      7        1170   \n",
       "7972601885      7620     1.0           0     0          3      7        1180   \n",
       "3362400511      3328     1.0           0     0          5      6         700   \n",
       "7889600190      6240     1.0           0     0          3      7        1060   \n",
       "452002135       5000     2.0           0     0          3      9        2740   \n",
       "\n",
       "            sqft_basement  yr_built  yr_renovated  zipcode      lat     long  \\\n",
       "id                                                                             \n",
       "6123600285              0      1953             0    98148  47.4238 -122.332   \n",
       "3323059027              0      1958             0    98058  47.4375 -122.176   \n",
       "5316100920            980      1954             0    98112  47.6288 -122.282   \n",
       "4315700175              0      1910             0    98136  47.5403 -122.391   \n",
       "303000445               0      1958             0    98001  47.3270 -122.267   \n",
       "2130410050            320      1987             0    98019  47.7378 -121.977   \n",
       "7972601885            200      1955             0    98106  47.5279 -122.345   \n",
       "3362400511            560      1905             0    98103  47.6823 -122.349   \n",
       "7889600190            530      1956             0    98146  47.4936 -122.337   \n",
       "452002135               0      2012             0    98107  47.6740 -122.371   \n",
       "\n",
       "            sqft_living15  sqft_lot15  \n",
       "id                                     \n",
       "6123600285           1270        8350  \n",
       "3323059027           2000       41817  \n",
       "5316100920           4270        7800  \n",
       "4315700175           1160        5000  \n",
       "303000445            1470       14850  \n",
       "2130410050           1590       10104  \n",
       "7972601885           1990        7620  \n",
       "3362400511           1380        3536  \n",
       "7889600190           1410        6240  \n",
       "452002135            1660        5000  "
      ]
     },
     "execution_count": 19,
     "metadata": {},
     "output_type": "execute_result"
    }
   ],
   "source": [
    "train_and_validation[0:10] # rows 0 to 9"
   ]
  },
  {
   "cell_type": "markdown",
   "metadata": {
    "id": "BVejNgM7MH7K"
   },
   "source": [
    "Giờ hãy trích xuất segment riêng với cắt mảng. Chúng ta nhóm các ngôi nhà trong dataframe `train_and_validation` thành k=10 segment có kích thước như nhau với chỉ mục đầu và kết thúc được tính như trên. Trích xuất segment thứ 4 (segment 3) và gán nó cho biến `validation4`. "
   ]
  },
  {
   "cell_type": "code",
   "execution_count": 20,
   "metadata": {
    "id": "rEYQLIo3MH7L"
   },
   "outputs": [
    {
     "data": {
      "text/html": [
       "<div>\n",
       "<style scoped>\n",
       "    .dataframe tbody tr th:only-of-type {\n",
       "        vertical-align: middle;\n",
       "    }\n",
       "\n",
       "    .dataframe tbody tr th {\n",
       "        vertical-align: top;\n",
       "    }\n",
       "\n",
       "    .dataframe thead th {\n",
       "        text-align: right;\n",
       "    }\n",
       "</style>\n",
       "<table border=\"1\" class=\"dataframe\">\n",
       "  <thead>\n",
       "    <tr style=\"text-align: right;\">\n",
       "      <th></th>\n",
       "      <th>date</th>\n",
       "      <th>price</th>\n",
       "      <th>bedrooms</th>\n",
       "      <th>bathrooms</th>\n",
       "      <th>sqft_living</th>\n",
       "      <th>sqft_lot</th>\n",
       "      <th>floors</th>\n",
       "      <th>waterfront</th>\n",
       "      <th>view</th>\n",
       "      <th>condition</th>\n",
       "      <th>grade</th>\n",
       "      <th>sqft_above</th>\n",
       "      <th>sqft_basement</th>\n",
       "      <th>yr_built</th>\n",
       "      <th>yr_renovated</th>\n",
       "      <th>zipcode</th>\n",
       "      <th>lat</th>\n",
       "      <th>long</th>\n",
       "      <th>sqft_living15</th>\n",
       "      <th>sqft_lot15</th>\n",
       "    </tr>\n",
       "    <tr>\n",
       "      <th>id</th>\n",
       "      <th></th>\n",
       "      <th></th>\n",
       "      <th></th>\n",
       "      <th></th>\n",
       "      <th></th>\n",
       "      <th></th>\n",
       "      <th></th>\n",
       "      <th></th>\n",
       "      <th></th>\n",
       "      <th></th>\n",
       "      <th></th>\n",
       "      <th></th>\n",
       "      <th></th>\n",
       "      <th></th>\n",
       "      <th></th>\n",
       "      <th></th>\n",
       "      <th></th>\n",
       "      <th></th>\n",
       "      <th></th>\n",
       "      <th></th>\n",
       "    </tr>\n",
       "  </thead>\n",
       "  <tbody>\n",
       "    <tr>\n",
       "      <th>7853301520</th>\n",
       "      <td>20140903T000000</td>\n",
       "      <td>695000.0</td>\n",
       "      <td>5</td>\n",
       "      <td>3.25</td>\n",
       "      <td>3940</td>\n",
       "      <td>9780</td>\n",
       "      <td>2.0</td>\n",
       "      <td>0</td>\n",
       "      <td>0</td>\n",
       "      <td>3</td>\n",
       "      <td>9</td>\n",
       "      <td>3940</td>\n",
       "      <td>0</td>\n",
       "      <td>2007</td>\n",
       "      <td>0</td>\n",
       "      <td>98065</td>\n",
       "      <td>47.5435</td>\n",
       "      <td>-121.888</td>\n",
       "      <td>3550</td>\n",
       "      <td>8468</td>\n",
       "    </tr>\n",
       "    <tr>\n",
       "      <th>9357000650</th>\n",
       "      <td>20140527T000000</td>\n",
       "      <td>535000.0</td>\n",
       "      <td>4</td>\n",
       "      <td>2.50</td>\n",
       "      <td>2340</td>\n",
       "      <td>5600</td>\n",
       "      <td>2.0</td>\n",
       "      <td>0</td>\n",
       "      <td>0</td>\n",
       "      <td>3</td>\n",
       "      <td>7</td>\n",
       "      <td>2340</td>\n",
       "      <td>0</td>\n",
       "      <td>1921</td>\n",
       "      <td>2013</td>\n",
       "      <td>98146</td>\n",
       "      <td>47.5117</td>\n",
       "      <td>-122.379</td>\n",
       "      <td>1310</td>\n",
       "      <td>5600</td>\n",
       "    </tr>\n",
       "    <tr>\n",
       "      <th>5608010420</th>\n",
       "      <td>20141120T000000</td>\n",
       "      <td>808000.0</td>\n",
       "      <td>4</td>\n",
       "      <td>2.75</td>\n",
       "      <td>3340</td>\n",
       "      <td>7230</td>\n",
       "      <td>2.0</td>\n",
       "      <td>0</td>\n",
       "      <td>0</td>\n",
       "      <td>3</td>\n",
       "      <td>9</td>\n",
       "      <td>3340</td>\n",
       "      <td>0</td>\n",
       "      <td>1996</td>\n",
       "      <td>0</td>\n",
       "      <td>98027</td>\n",
       "      <td>47.5490</td>\n",
       "      <td>-122.096</td>\n",
       "      <td>3230</td>\n",
       "      <td>7529</td>\n",
       "    </tr>\n",
       "    <tr>\n",
       "      <th>2473101070</th>\n",
       "      <td>20150227T000000</td>\n",
       "      <td>315000.0</td>\n",
       "      <td>3</td>\n",
       "      <td>2.00</td>\n",
       "      <td>1500</td>\n",
       "      <td>7828</td>\n",
       "      <td>1.0</td>\n",
       "      <td>0</td>\n",
       "      <td>0</td>\n",
       "      <td>4</td>\n",
       "      <td>7</td>\n",
       "      <td>1500</td>\n",
       "      <td>0</td>\n",
       "      <td>1967</td>\n",
       "      <td>0</td>\n",
       "      <td>98058</td>\n",
       "      <td>47.4484</td>\n",
       "      <td>-122.158</td>\n",
       "      <td>1500</td>\n",
       "      <td>7700</td>\n",
       "    </tr>\n",
       "    <tr>\n",
       "      <th>8141200080</th>\n",
       "      <td>20140814T000000</td>\n",
       "      <td>680000.0</td>\n",
       "      <td>8</td>\n",
       "      <td>2.75</td>\n",
       "      <td>2530</td>\n",
       "      <td>4800</td>\n",
       "      <td>2.0</td>\n",
       "      <td>0</td>\n",
       "      <td>0</td>\n",
       "      <td>4</td>\n",
       "      <td>7</td>\n",
       "      <td>1390</td>\n",
       "      <td>1140</td>\n",
       "      <td>1901</td>\n",
       "      <td>0</td>\n",
       "      <td>98112</td>\n",
       "      <td>47.6241</td>\n",
       "      <td>-122.305</td>\n",
       "      <td>1540</td>\n",
       "      <td>4800</td>\n",
       "    </tr>\n",
       "    <tr>\n",
       "      <th>...</th>\n",
       "      <td>...</td>\n",
       "      <td>...</td>\n",
       "      <td>...</td>\n",
       "      <td>...</td>\n",
       "      <td>...</td>\n",
       "      <td>...</td>\n",
       "      <td>...</td>\n",
       "      <td>...</td>\n",
       "      <td>...</td>\n",
       "      <td>...</td>\n",
       "      <td>...</td>\n",
       "      <td>...</td>\n",
       "      <td>...</td>\n",
       "      <td>...</td>\n",
       "      <td>...</td>\n",
       "      <td>...</td>\n",
       "      <td>...</td>\n",
       "      <td>...</td>\n",
       "      <td>...</td>\n",
       "      <td>...</td>\n",
       "    </tr>\n",
       "    <tr>\n",
       "      <th>8079100140</th>\n",
       "      <td>20140728T000000</td>\n",
       "      <td>690000.0</td>\n",
       "      <td>4</td>\n",
       "      <td>2.50</td>\n",
       "      <td>2120</td>\n",
       "      <td>8448</td>\n",
       "      <td>2.0</td>\n",
       "      <td>0</td>\n",
       "      <td>0</td>\n",
       "      <td>4</td>\n",
       "      <td>9</td>\n",
       "      <td>2120</td>\n",
       "      <td>0</td>\n",
       "      <td>1989</td>\n",
       "      <td>0</td>\n",
       "      <td>98029</td>\n",
       "      <td>47.5654</td>\n",
       "      <td>-122.010</td>\n",
       "      <td>2140</td>\n",
       "      <td>8122</td>\n",
       "    </tr>\n",
       "    <tr>\n",
       "      <th>8151600663</th>\n",
       "      <td>20140917T000000</td>\n",
       "      <td>333000.0</td>\n",
       "      <td>3</td>\n",
       "      <td>1.00</td>\n",
       "      <td>1250</td>\n",
       "      <td>8450</td>\n",
       "      <td>1.0</td>\n",
       "      <td>0</td>\n",
       "      <td>0</td>\n",
       "      <td>4</td>\n",
       "      <td>7</td>\n",
       "      <td>1250</td>\n",
       "      <td>0</td>\n",
       "      <td>1954</td>\n",
       "      <td>0</td>\n",
       "      <td>98146</td>\n",
       "      <td>47.5030</td>\n",
       "      <td>-122.364</td>\n",
       "      <td>1350</td>\n",
       "      <td>9300</td>\n",
       "    </tr>\n",
       "    <tr>\n",
       "      <th>2768301482</th>\n",
       "      <td>20140821T000000</td>\n",
       "      <td>490000.0</td>\n",
       "      <td>3</td>\n",
       "      <td>2.25</td>\n",
       "      <td>1280</td>\n",
       "      <td>1520</td>\n",
       "      <td>2.0</td>\n",
       "      <td>0</td>\n",
       "      <td>0</td>\n",
       "      <td>3</td>\n",
       "      <td>8</td>\n",
       "      <td>1080</td>\n",
       "      <td>200</td>\n",
       "      <td>2008</td>\n",
       "      <td>0</td>\n",
       "      <td>98107</td>\n",
       "      <td>47.6651</td>\n",
       "      <td>-122.368</td>\n",
       "      <td>1280</td>\n",
       "      <td>1681</td>\n",
       "    </tr>\n",
       "    <tr>\n",
       "      <th>3223049158</th>\n",
       "      <td>20150417T000000</td>\n",
       "      <td>222200.0</td>\n",
       "      <td>2</td>\n",
       "      <td>1.00</td>\n",
       "      <td>1210</td>\n",
       "      <td>10000</td>\n",
       "      <td>1.0</td>\n",
       "      <td>0</td>\n",
       "      <td>0</td>\n",
       "      <td>3</td>\n",
       "      <td>7</td>\n",
       "      <td>1210</td>\n",
       "      <td>0</td>\n",
       "      <td>1953</td>\n",
       "      <td>0</td>\n",
       "      <td>98148</td>\n",
       "      <td>47.4402</td>\n",
       "      <td>-122.333</td>\n",
       "      <td>1620</td>\n",
       "      <td>10959</td>\n",
       "    </tr>\n",
       "    <tr>\n",
       "      <th>2141320230</th>\n",
       "      <td>20150410T000000</td>\n",
       "      <td>710000.0</td>\n",
       "      <td>4</td>\n",
       "      <td>2.25</td>\n",
       "      <td>2000</td>\n",
       "      <td>8068</td>\n",
       "      <td>2.0</td>\n",
       "      <td>0</td>\n",
       "      <td>0</td>\n",
       "      <td>5</td>\n",
       "      <td>8</td>\n",
       "      <td>2000</td>\n",
       "      <td>0</td>\n",
       "      <td>1976</td>\n",
       "      <td>0</td>\n",
       "      <td>98006</td>\n",
       "      <td>47.5584</td>\n",
       "      <td>-122.137</td>\n",
       "      <td>2080</td>\n",
       "      <td>7837</td>\n",
       "    </tr>\n",
       "  </tbody>\n",
       "</table>\n",
       "<p>1944 rows × 20 columns</p>\n",
       "</div>"
      ],
      "text/plain": [
       "                       date     price  bedrooms  bathrooms  sqft_living  \\\n",
       "id                                                                        \n",
       "7853301520  20140903T000000  695000.0         5       3.25         3940   \n",
       "9357000650  20140527T000000  535000.0         4       2.50         2340   \n",
       "5608010420  20141120T000000  808000.0         4       2.75         3340   \n",
       "2473101070  20150227T000000  315000.0         3       2.00         1500   \n",
       "8141200080  20140814T000000  680000.0         8       2.75         2530   \n",
       "...                     ...       ...       ...        ...          ...   \n",
       "8079100140  20140728T000000  690000.0         4       2.50         2120   \n",
       "8151600663  20140917T000000  333000.0         3       1.00         1250   \n",
       "2768301482  20140821T000000  490000.0         3       2.25         1280   \n",
       "3223049158  20150417T000000  222200.0         2       1.00         1210   \n",
       "2141320230  20150410T000000  710000.0         4       2.25         2000   \n",
       "\n",
       "            sqft_lot  floors  waterfront  view  condition  grade  sqft_above  \\\n",
       "id                                                                             \n",
       "7853301520      9780     2.0           0     0          3      9        3940   \n",
       "9357000650      5600     2.0           0     0          3      7        2340   \n",
       "5608010420      7230     2.0           0     0          3      9        3340   \n",
       "2473101070      7828     1.0           0     0          4      7        1500   \n",
       "8141200080      4800     2.0           0     0          4      7        1390   \n",
       "...              ...     ...         ...   ...        ...    ...         ...   \n",
       "8079100140      8448     2.0           0     0          4      9        2120   \n",
       "8151600663      8450     1.0           0     0          4      7        1250   \n",
       "2768301482      1520     2.0           0     0          3      8        1080   \n",
       "3223049158     10000     1.0           0     0          3      7        1210   \n",
       "2141320230      8068     2.0           0     0          5      8        2000   \n",
       "\n",
       "            sqft_basement  yr_built  yr_renovated  zipcode      lat     long  \\\n",
       "id                                                                             \n",
       "7853301520              0      2007             0    98065  47.5435 -121.888   \n",
       "9357000650              0      1921          2013    98146  47.5117 -122.379   \n",
       "5608010420              0      1996             0    98027  47.5490 -122.096   \n",
       "2473101070              0      1967             0    98058  47.4484 -122.158   \n",
       "8141200080           1140      1901             0    98112  47.6241 -122.305   \n",
       "...                   ...       ...           ...      ...      ...      ...   \n",
       "8079100140              0      1989             0    98029  47.5654 -122.010   \n",
       "8151600663              0      1954             0    98146  47.5030 -122.364   \n",
       "2768301482            200      2008             0    98107  47.6651 -122.368   \n",
       "3223049158              0      1953             0    98148  47.4402 -122.333   \n",
       "2141320230              0      1976             0    98006  47.5584 -122.137   \n",
       "\n",
       "            sqft_living15  sqft_lot15  \n",
       "id                                     \n",
       "7853301520           3550        8468  \n",
       "9357000650           1310        5600  \n",
       "5608010420           3230        7529  \n",
       "2473101070           1500        7700  \n",
       "8141200080           1540        4800  \n",
       "...                   ...         ...  \n",
       "8079100140           2140        8122  \n",
       "8151600663           1350        9300  \n",
       "2768301482           1280        1681  \n",
       "3223049158           1620       10959  \n",
       "2141320230           2080        7837  \n",
       "\n",
       "[1944 rows x 20 columns]"
      ]
     },
     "execution_count": 20,
     "metadata": {},
     "output_type": "execute_result"
    }
   ],
   "source": [
    "validation4 = train_and_validation[5835: 7779]\n",
    "validation4"
   ]
  },
  {
   "cell_type": "markdown",
   "metadata": {
    "id": "rpbBFCx5MH7R"
   },
   "source": [
    "\n",
    "Để xác minh rằng chúng ta đã trích xuất đúng các phần tử, hãy chạy cell sau, cell này sẽ tính giá trung bình của segment thứ tư. Khi làm tròn đến số nguyên gần nhất, giá trị trung bình sẽ là 544,330 USD."
   ]
  },
  {
   "cell_type": "code",
   "execution_count": 21,
   "metadata": {
    "id": "PkXCYyxYMH7T"
   },
   "outputs": [
    {
     "name": "stdout",
     "output_type": "stream",
     "text": [
      "545311.0\n"
     ]
    }
   ],
   "source": [
    "print( round(validation4['price'].mean(), 0) )"
   ]
  },
  {
   "cell_type": "markdown",
   "metadata": {
    "id": "ZJPG1EaHMH7Y"
   },
   "source": [
    "Sau khi chỉ định một trong k segment làm tập kiểm định, chúng ta huấn luyện một mô hình với dữ liệu còn lại. Để chọn phần còn lại, chúng ta cắt (0:start) và (end+1:n) của dữ liệu và paste chúng lại với nhau. DataFrame có phương thức `append()` paste hai tập hợp hàng rời rạc từ một tập dữ liệu chung. Ví dụ: cell sau sẽ paste hàng đầu tiên và cuối cùng của dataframe `train_and_validation`."
   ]
  },
  {
   "cell_type": "code",
   "execution_count": 22,
   "metadata": {
    "id": "qao1cWIWMH7a"
   },
   "outputs": [
    {
     "name": "stdout",
     "output_type": "stream",
     "text": [
      "                       date      price  bedrooms  bathrooms  sqft_living  \\\n",
      "id                                                                         \n",
      "6123600285  20141107T000000   185000.0         3       1.50         1010   \n",
      "3323059027  20140528T000000   326000.0         3       2.75         1720   \n",
      "6151800612  20150107T000000   162000.0         4       1.00         1460   \n",
      "1088100450  20140725T000000  1720000.0         5       4.00         4590   \n",
      "\n",
      "            sqft_lot  floors  waterfront  view  condition  grade  sqft_above  \\\n",
      "id                                                                             \n",
      "6123600285      7755     1.0           0     0          3      6        1010   \n",
      "3323059027     28000     1.0           0     0          4      7        1720   \n",
      "6151800612     16638     1.0           0     0          4      6        1460   \n",
      "1088100450     35046     2.0           0     0          3     10        4590   \n",
      "\n",
      "            sqft_basement  yr_built  yr_renovated  zipcode      lat     long  \\\n",
      "id                                                                             \n",
      "6123600285              0      1953             0    98148  47.4238 -122.332   \n",
      "3323059027              0      1958             0    98058  47.4375 -122.176   \n",
      "6151800612              0      1975             0    98010  47.3431 -122.048   \n",
      "1088100450              0      2008             0    98033  47.6647 -122.160   \n",
      "\n",
      "            sqft_living15  sqft_lot15  \n",
      "id                                     \n",
      "6123600285           1270        8350  \n",
      "3323059027           2000       41817  \n",
      "6151800612           1460       16638  \n",
      "1088100450           3350       35857  \n"
     ]
    }
   ],
   "source": [
    "n = len(train_and_validation)\n",
    "first_two = train_and_validation[0:2]\n",
    "last_two = train_and_validation[n-2:n]\n",
    "print(first_two.append(last_two))"
   ]
  },
  {
   "cell_type": "markdown",
   "metadata": {
    "id": "PcQb83MxMH7f"
   },
   "source": [
    "Trích xuất phần dữ liệu còn lại sau khi đã *loại trừ* segment thứ 4 (segment 3) và gán tập con cho `train4`."
   ]
  },
  {
   "cell_type": "code",
   "execution_count": 23,
   "metadata": {
    "id": "NHBeNdXNMH7i"
   },
   "outputs": [
    {
     "data": {
      "text/html": [
       "<div>\n",
       "<style scoped>\n",
       "    .dataframe tbody tr th:only-of-type {\n",
       "        vertical-align: middle;\n",
       "    }\n",
       "\n",
       "    .dataframe tbody tr th {\n",
       "        vertical-align: top;\n",
       "    }\n",
       "\n",
       "    .dataframe thead th {\n",
       "        text-align: right;\n",
       "    }\n",
       "</style>\n",
       "<table border=\"1\" class=\"dataframe\">\n",
       "  <thead>\n",
       "    <tr style=\"text-align: right;\">\n",
       "      <th></th>\n",
       "      <th>date</th>\n",
       "      <th>price</th>\n",
       "      <th>bedrooms</th>\n",
       "      <th>bathrooms</th>\n",
       "      <th>sqft_living</th>\n",
       "      <th>sqft_lot</th>\n",
       "      <th>floors</th>\n",
       "      <th>waterfront</th>\n",
       "      <th>view</th>\n",
       "      <th>condition</th>\n",
       "      <th>grade</th>\n",
       "      <th>sqft_above</th>\n",
       "      <th>sqft_basement</th>\n",
       "      <th>yr_built</th>\n",
       "      <th>yr_renovated</th>\n",
       "      <th>zipcode</th>\n",
       "      <th>lat</th>\n",
       "      <th>long</th>\n",
       "      <th>sqft_living15</th>\n",
       "      <th>sqft_lot15</th>\n",
       "    </tr>\n",
       "    <tr>\n",
       "      <th>id</th>\n",
       "      <th></th>\n",
       "      <th></th>\n",
       "      <th></th>\n",
       "      <th></th>\n",
       "      <th></th>\n",
       "      <th></th>\n",
       "      <th></th>\n",
       "      <th></th>\n",
       "      <th></th>\n",
       "      <th></th>\n",
       "      <th></th>\n",
       "      <th></th>\n",
       "      <th></th>\n",
       "      <th></th>\n",
       "      <th></th>\n",
       "      <th></th>\n",
       "      <th></th>\n",
       "      <th></th>\n",
       "      <th></th>\n",
       "      <th></th>\n",
       "    </tr>\n",
       "  </thead>\n",
       "  <tbody>\n",
       "    <tr>\n",
       "      <th>6123600285</th>\n",
       "      <td>20141107T000000</td>\n",
       "      <td>185000.0</td>\n",
       "      <td>3</td>\n",
       "      <td>1.50</td>\n",
       "      <td>1010</td>\n",
       "      <td>7755</td>\n",
       "      <td>1.0</td>\n",
       "      <td>0</td>\n",
       "      <td>0</td>\n",
       "      <td>3</td>\n",
       "      <td>6</td>\n",
       "      <td>1010</td>\n",
       "      <td>0</td>\n",
       "      <td>1953</td>\n",
       "      <td>0</td>\n",
       "      <td>98148</td>\n",
       "      <td>47.4238</td>\n",
       "      <td>-122.332</td>\n",
       "      <td>1270</td>\n",
       "      <td>8350</td>\n",
       "    </tr>\n",
       "    <tr>\n",
       "      <th>3323059027</th>\n",
       "      <td>20140528T000000</td>\n",
       "      <td>326000.0</td>\n",
       "      <td>3</td>\n",
       "      <td>2.75</td>\n",
       "      <td>1720</td>\n",
       "      <td>28000</td>\n",
       "      <td>1.0</td>\n",
       "      <td>0</td>\n",
       "      <td>0</td>\n",
       "      <td>4</td>\n",
       "      <td>7</td>\n",
       "      <td>1720</td>\n",
       "      <td>0</td>\n",
       "      <td>1958</td>\n",
       "      <td>0</td>\n",
       "      <td>98058</td>\n",
       "      <td>47.4375</td>\n",
       "      <td>-122.176</td>\n",
       "      <td>2000</td>\n",
       "      <td>41817</td>\n",
       "    </tr>\n",
       "    <tr>\n",
       "      <th>5316100920</th>\n",
       "      <td>20140725T000000</td>\n",
       "      <td>2250000.0</td>\n",
       "      <td>3</td>\n",
       "      <td>4.25</td>\n",
       "      <td>5150</td>\n",
       "      <td>7800</td>\n",
       "      <td>2.5</td>\n",
       "      <td>0</td>\n",
       "      <td>2</td>\n",
       "      <td>3</td>\n",
       "      <td>11</td>\n",
       "      <td>4170</td>\n",
       "      <td>980</td>\n",
       "      <td>1954</td>\n",
       "      <td>0</td>\n",
       "      <td>98112</td>\n",
       "      <td>47.6288</td>\n",
       "      <td>-122.282</td>\n",
       "      <td>4270</td>\n",
       "      <td>7800</td>\n",
       "    </tr>\n",
       "    <tr>\n",
       "      <th>4315700175</th>\n",
       "      <td>20140612T000000</td>\n",
       "      <td>440000.0</td>\n",
       "      <td>3</td>\n",
       "      <td>1.00</td>\n",
       "      <td>1210</td>\n",
       "      <td>5750</td>\n",
       "      <td>1.5</td>\n",
       "      <td>0</td>\n",
       "      <td>0</td>\n",
       "      <td>4</td>\n",
       "      <td>7</td>\n",
       "      <td>1210</td>\n",
       "      <td>0</td>\n",
       "      <td>1910</td>\n",
       "      <td>0</td>\n",
       "      <td>98136</td>\n",
       "      <td>47.5403</td>\n",
       "      <td>-122.391</td>\n",
       "      <td>1160</td>\n",
       "      <td>5000</td>\n",
       "    </tr>\n",
       "    <tr>\n",
       "      <th>303000445</th>\n",
       "      <td>20140523T000000</td>\n",
       "      <td>175000.0</td>\n",
       "      <td>2</td>\n",
       "      <td>1.00</td>\n",
       "      <td>1300</td>\n",
       "      <td>44431</td>\n",
       "      <td>1.0</td>\n",
       "      <td>0</td>\n",
       "      <td>0</td>\n",
       "      <td>5</td>\n",
       "      <td>6</td>\n",
       "      <td>1300</td>\n",
       "      <td>0</td>\n",
       "      <td>1958</td>\n",
       "      <td>0</td>\n",
       "      <td>98001</td>\n",
       "      <td>47.3270</td>\n",
       "      <td>-122.267</td>\n",
       "      <td>1470</td>\n",
       "      <td>14850</td>\n",
       "    </tr>\n",
       "  </tbody>\n",
       "</table>\n",
       "</div>"
      ],
      "text/plain": [
       "                       date      price  bedrooms  bathrooms  sqft_living  \\\n",
       "id                                                                         \n",
       "6123600285  20141107T000000   185000.0         3       1.50         1010   \n",
       "3323059027  20140528T000000   326000.0         3       2.75         1720   \n",
       "5316100920  20140725T000000  2250000.0         3       4.25         5150   \n",
       "4315700175  20140612T000000   440000.0         3       1.00         1210   \n",
       "303000445   20140523T000000   175000.0         2       1.00         1300   \n",
       "\n",
       "            sqft_lot  floors  waterfront  view  condition  grade  sqft_above  \\\n",
       "id                                                                             \n",
       "6123600285      7755     1.0           0     0          3      6        1010   \n",
       "3323059027     28000     1.0           0     0          4      7        1720   \n",
       "5316100920      7800     2.5           0     2          3     11        4170   \n",
       "4315700175      5750     1.5           0     0          4      7        1210   \n",
       "303000445      44431     1.0           0     0          5      6        1300   \n",
       "\n",
       "            sqft_basement  yr_built  yr_renovated  zipcode      lat     long  \\\n",
       "id                                                                             \n",
       "6123600285              0      1953             0    98148  47.4238 -122.332   \n",
       "3323059027              0      1958             0    98058  47.4375 -122.176   \n",
       "5316100920            980      1954             0    98112  47.6288 -122.282   \n",
       "4315700175              0      1910             0    98136  47.5403 -122.391   \n",
       "303000445               0      1958             0    98001  47.3270 -122.267   \n",
       "\n",
       "            sqft_living15  sqft_lot15  \n",
       "id                                     \n",
       "6123600285           1270        8350  \n",
       "3323059027           2000       41817  \n",
       "5316100920           4270        7800  \n",
       "4315700175           1160        5000  \n",
       "303000445            1470       14850  "
      ]
     },
     "execution_count": 23,
     "metadata": {},
     "output_type": "execute_result"
    }
   ],
   "source": [
    "# segment thứ 4 bắt đầu và kết thúc ở đâu? .append có tác dụng gì? \n",
    "n = len(train_and_validation)\n",
    "first = train_and_validation[0 : 5835]\n",
    "last = train_and_validation[7779: n]\n",
    "train4 = first.append(last)\n",
    "train4.head()"
   ]
  },
  {
   "cell_type": "markdown",
   "metadata": {
    "id": "9gwRZPGKMH7o"
   },
   "source": [
    "Để xác minh rằng chúng ta đã trích xuất đúng các phần tử, hãy chạy cell sau, cell này sẽ tính giá trung bình của segment thứ tư. Khi làm tròn đến số nguyên gần nhất, giá trị trung bình sẽ là 540,120 USD."
   ]
  },
  {
   "cell_type": "code",
   "execution_count": 24,
   "metadata": {
    "id": "bzsyZHH6MH7s"
   },
   "outputs": [
    {
     "name": "stdout",
     "output_type": "stream",
     "text": [
      "540114.0\n"
     ]
    }
   ],
   "source": [
    "print( round(train4['price'].mean(), 0) )"
   ]
  },
  {
   "cell_type": "markdown",
   "metadata": {
    "id": "JHkgU6KyMH7x"
   },
   "source": [
    "Chúng ta đã sẵn sàng để triển khai kiểm định chéo k-fold. Viết một hàm tính k lỗi kiểm định bằng cách chỉ định từng segment trong số k segment làm tập kiểm định. Nó chấp nhận dưới dạng các tham số (i) `k`, (ii) `l2_penalty`, (iii) dataframe, (iv) tên của cột đầu ra (ví dụ: `price`) và (v) danh sách tên các đặc trưng. Hàm trả về lỗi kiểm định trung bình bằng cách sử dụng k segment làm tập kiểm định.\n",
    "\n",
    "* Với từng i trong [0, 1, ..., k-1]:\n",
    "  * Tính chỉ mục bắt đầu và kết thúc của segment i và gọi 'start' và 'end'\n",
    "  * Tạo tập kiểm định bằng cách lấy slice (start:end+1) từ dữ liệu.  \n",
    "  * Tạo tập kiểm định bằng cách nối slice (end+1:n) với cuối của slice (0:start). \n",
    "  * Huấn luyện mô hình tuyến tính dùng tập huấn luyện vừa tạo với l2_penalty đã cho. \n",
    "  * Tính lỗi kiểm định sử dụng tập kiểm định vừa tạo. \n",
    "\n",
    "Sklearn cũng có hàm `mean_squared_error` tích hợp sẵn."
   ]
  },
  {
   "cell_type": "code",
   "execution_count": 25,
   "metadata": {},
   "outputs": [],
   "source": [
    "from sklearn.metrics import mean_squared_error"
   ]
  },
  {
   "cell_type": "code",
   "execution_count": 26,
   "metadata": {
    "id": "mYbI8bmyMH7z"
   },
   "outputs": [],
   "source": [
    "def k_fold_cross_validation(k, l2_penalty, data, output_name, features_list):\n",
    "    n = len(data)\n",
    "    errors = []\n",
    "    for i in range(k):\n",
    "        start = (n*i)//k\n",
    "        end = (n*(i+1))//k-1\n",
    "        validation = data[start:end + 1]\n",
    "        train = data[0:start].append(data[end + 1 : n])\n",
    "        ridge = Ridge(alpha=l2_penalty).fit(train[features_list],train[output_name])\n",
    "        y_pr = ridge.predict(validation[features_list])\n",
    "        mean_error = mean_squared_error(validation[output_name],y_pr)\n",
    "        errors.append(mean_error)\n",
    "    return sum(errors)/len(errors)"
   ]
  },
  {
   "cell_type": "markdown",
   "metadata": {
    "id": "Zr2zhJrTMH75"
   },
   "source": [
    "Chúng ta đã có một hàm tính toán lỗi kiểm định trung bình cho mô hình, hãy viết một vòng lặp để tìm mô hình tối thiểu hóa lỗi kiểm định trung bình, thực hiện như sau:\n",
    "* Chúng ta sẽ khớp mô hình đa thức bậc 15 sử dụng đầu vào `sqft_living`.\n",
    "* Với `l2_penalty` trong [10^0, 10^0.5, 10^1, 10^1.5, ..., 10^2] (trong Python, chúng ta sẽ dùng hàm Numpy sau: `np.logspace(0, 10, num=21)`.)\n",
    "    * Chạy kiểm định chéo 10-fold với `l2_penalty`\n",
    "* Báo lại L2 penalty nào cho lỗi kiểm định trung bình thấp nhất.\n",
    "\n",
    "Lưu ý: vì bậc của đa thức hiện được cố định là 15, để mọi thứ nhanh hơn, chúng ta hãy tạo các đặc trưng của đa thức trước và sử dụng lại chúng trong suốt vòng lặp. Hãy dùng `train_and_validation` khi tạo các đối tượng đa thức!\n",
    "\n",
    "Nếu thấy nhiều màu đỏ từ `scipy.linalg.solve`, hãy import `warnings` và sử dụng `warnings.filterwarnings('ignore')`. Đây không phải là phương pháp tốt nhất nhưng lại hữu ích. Sau khi đã hoàn tất, hãy đặt `warnings.resetwarnings()` để chuyển nó trở lại bình thường."
   ]
  },
  {
   "cell_type": "code",
   "execution_count": 27,
   "metadata": {
    "id": "yydEZVn_MH77"
   },
   "outputs": [
    {
     "name": "stdout",
     "output_type": "stream",
     "text": [
      "65982812110.801125\n",
      "65982812096.456276\n",
      "65982812051.09276\n",
      "65982811907.64154\n",
      "65982811454.00808\n",
      "65982810019.50104\n",
      "65982805483.25017\n",
      "65982791138.95856\n",
      "65982745784.26225\n",
      "65982602419.45823\n",
      "65982149652.73076\n",
      "65980723779.13721\n",
      "65976272984.480515\n",
      "65962756471.07756\n",
      "65924926809.38943\n",
      "65839673606.52605\n",
      "65716806811.286766\n",
      "65621019138.10646\n",
      "65576295887.105125\n",
      "65560158471.710464\n",
      "65554837975.93181\n"
     ]
    }
   ],
   "source": [
    "# Hãy thực \n",
    "import warnings\n",
    "warnings.filterwarnings('ignore')\n",
    "output_name = 'price'\n",
    "data15 = polynomial_dataframe(train_and_validation[\"sqft_living\"],15)\n",
    "list_features = data15.columns\n",
    "data15['price'] = train_and_validation[output_name]\n",
    "cross_val_errors = []\n",
    "min_error = None\n",
    "best_l2_penalty = None\n",
    "l2_penalty_bests = np.logspace(0,10,num=21)\n",
    "for l2_penalty in l2_penalty_bests:\n",
    "    avg_val_error = k_fold_cross_validation(10,l2_penalty,data15,output_name,list_features)\n",
    "    print(avg_val_error)\n",
    "    cross_val_errors.append(avg_val_error)\n",
    "    if min_error is None or avg_val_error < min_error:\n",
    "        min_error = avg_val_error\n",
    "        best_l2_penalty = l2_penalty"
   ]
  },
  {
   "cell_type": "code",
   "execution_count": 28,
   "metadata": {},
   "outputs": [
    {
     "data": {
      "text/plain": [
       "10000000000.0"
      ]
     },
     "execution_count": 28,
     "metadata": {},
     "output_type": "execute_result"
    }
   ],
   "source": [
    "best_l2_penalty"
   ]
  },
  {
   "cell_type": "code",
   "execution_count": 29,
   "metadata": {},
   "outputs": [],
   "source": [
    "# warnings.resetwarnings()"
   ]
  },
  {
   "cell_type": "markdown",
   "metadata": {
    "id": "HtOYofhRMH8G"
   },
   "source": [
    "***QUIZ:  Giá trị tốt nhất cho L2 penalty theo kiểm định 10-fold là bao nhiêu?***"
   ]
  },
  {
   "cell_type": "markdown",
   "metadata": {
    "id": "7_Ii1d_YMH8I"
   },
   "source": [
    "Sẽ rất hữu ích khi vẽ các lỗi kiểm định chéo k-fold mà chúng ta có được để hiểu rõ hơn cách xử lý của phương thức. Chúng ta cũng có thể dùng `plt.xscale('log')` cho biểu đồ trực quan. [Quitter.](https://xkcd.com/1162/)"
   ]
  },
  {
   "cell_type": "code",
   "execution_count": 30,
   "metadata": {
    "id": "KxPQK30CMH8L"
   },
   "outputs": [
    {
     "data": {
      "image/png": "[encoded data removed]",
      "text/plain": [
       "<Figure size 432x288 with 1 Axes>"
      ]
     },
     "metadata": {
      "needs_background": "light"
     },
     "output_type": "display_data"
    }
   ],
   "source": [
    "# Vẽ các giá trị l2-penalty (có thể trong log) trên trục x và lỗi kiểm định chéo trên trục y\n",
    "\n",
    "plt.plot(l2_penalty_bests,cross_val_errors,'k-')\n",
    "plt.xlabel('$\\L2_penalty$')\n",
    "plt.ylabel('K-fold cross validation error')\n",
    "plt.xscale('log')\n",
    "plt.yscale('log')"
   ]
  },
  {
   "cell_type": "markdown",
   "metadata": {
    "id": "J7ZjNm7DMH8T"
   },
   "source": [
    "Khi đã tìm thấy giá trị tốt nhất cho L2 penalty bằng kiểm định chéo, cần huấn luyện lại mô hình cuối cùng trong tất cả dữ liệu huấn luyện sử dụng `l2_penalty`. Theo cách này, mô hình cuối sẽ được huấn luyện trong toàn bộ tập dữ liệu."
   ]
  },
  {
   "cell_type": "code",
   "execution_count": 31,
   "metadata": {
    "id": "yfsV8RKWMH8V"
   },
   "outputs": [
    {
     "data": {
      "text/plain": [
       "array([ 0.5570285 ,  0.57718529,  0.49260139,  0.33987416,  0.2800478 ,\n",
       "       -0.03414476,  0.01466691, -0.00876355, -0.01270022, -0.01340712,\n",
       "        0.0125993 , -0.00254701, -0.00582813, -0.02224985, -0.03449293])"
      ]
     },
     "execution_count": 31,
     "metadata": {},
     "output_type": "execute_result"
    }
   ],
   "source": [
    "output_name = 'price'\n",
    "data15 = polynomial_dataframe(full_data[\"sqft_living\"],15)\n",
    "X  = scaler.fit_transform(data15.values)\n",
    "data15['price'] = full_data[output_name]\n",
    "y = data15['price'].values\n",
    "model = Ridge(alpha=best_l2_penalty).fit(X,y)\n",
    "model.coef_"
   ]
  },
  {
   "cell_type": "code",
   "execution_count": 32,
   "metadata": {},
   "outputs": [
    {
     "data": {
      "text/plain": [
       "[<matplotlib.lines.Line2D at 0x1c23c2f1760>,\n",
       " <matplotlib.lines.Line2D at 0x1c23c2f1880>]"
      ]
     },
     "execution_count": 32,
     "metadata": {},
     "output_type": "execute_result"
    },
    {
     "data": {
      "image/png": "[encoded data removed]",
      "text/plain": [
       "<Figure size 432x288 with 1 Axes>"
      ]
     },
     "metadata": {
      "needs_background": "light"
     },
     "output_type": "display_data"
    }
   ],
   "source": [
    "plt.plot(data15['power_1'],data15['price'],'.',\n",
    "        data15['power_1'], model.predict(X),'-')"
   ]
  },
  {
   "cell_type": "markdown",
   "metadata": {
    "id": "0CdIGVRRMH8b"
   },
   "source": [
    "***QUIZ: Với L2 penalty tốt nhất tìm thấy ở trên, hãy huấn luyện một mô hình sử dụng tất cả dữ liệu huấn luyện. RSS trong dữ liệu KIỂM TRA của mô hình với L2 penalty đó là bao nhiêu? ***"
   ]
  },
  {
   "cell_type": "code",
   "execution_count": 33,
   "metadata": {
    "id": "WYLheewBMH8c"
   },
   "outputs": [
    {
     "data": {
      "text/plain": [
       "array([540088.42777395, 540088.84450494, 540101.88543675, ...,\n",
       "       540086.90641408, 540087.77946447, 540087.26824396])"
      ]
     },
     "execution_count": 33,
     "metadata": {},
     "output_type": "execute_result"
    }
   ],
   "source": [
    "output_name = 'price'\n",
    "data_test = polynomial_dataframe(test_data[\"sqft_living\"],15)\n",
    "X  = scaler.fit_transform(data_test.values)\n",
    "yy = model.predict(X)\n",
    "yy"
   ]
  },
  {
   "cell_type": "code",
   "execution_count": 34,
   "metadata": {},
   "outputs": [],
   "source": [
    "test_errors = yy - test_data['price']\n",
    "RSS_test = sum(test_errors * test_errors)"
   ]
  },
  {
   "cell_type": "code",
   "execution_count": 35,
   "metadata": {},
   "outputs": [
    {
     "data": {
      "text/plain": [
       "310621999489738.06"
      ]
     },
     "execution_count": 35,
     "metadata": {},
     "output_type": "execute_result"
    }
   ],
   "source": [
    "RSS_test"
   ]
  },
  {
   "cell_type": "code",
   "execution_count": null,
   "metadata": {},
   "outputs": [],
   "source": []
  }
 ],
 "metadata": {
  "colab": {
   "collapsed_sections": [],
   "name": "[VN]Lab-4.ipynbL",
   "provenance": []
  },
  "kernelspec": {
   "display_name": "Python 3",
   "language": "python",
   "name": "python3"
  },
  "language_info": {
   "codemirror_mode": {
    "name": "ipython",
    "version": 3
   },
   "file_extension": ".py",
   "mimetype": "text/x-python",
   "name": "python",
   "nbconvert_exporter": "python",
   "pygments_lexer": "ipython3",
   "version": "3.8.8"
  }
 },
 "nbformat": 4,
 "nbformat_minor": 1
}
