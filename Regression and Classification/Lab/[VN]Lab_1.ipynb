{
 "cells": [
  {
   "cell_type": "markdown",
   "metadata": {
    "id": "QS0MLxMeMFFR"
   },
   "source": [
    "# Hồi quy tuyến tính đơn giản (Simple Linear Regression)"
   ]
  },
  {
   "cell_type": "markdown",
   "metadata": {
    "id": "hRC4HXtwMFFS"
   },
   "source": [
    "Trong notebook này, chúng ta sẽ sử dụng dữ liệu doanh số bán nhà ở Quận King để dự đoán giá nhà sử dụng hồi quy tuyến tính đơn giản (1 đầu vào). Chúng ta sẽ:\n",
    "* Sử dụng thư viện pandas để load tập dữ liệu hiện có.\n",
    "* Viết một hàm tính toán trọng số của Hồi quy tuyến tính đơn giản với biểu thức dạng đóng.\n",
    "* Viết một hàm dự đoán đầu ra với đặc trưng đầu vào đã cho.\n",
    "* Thực hiện hồi quy để dự đoán đầu vào với đầu ra đã cho.\n",
    "* So sánh 2 mô hình khác nhau dự đoán giá nhà.\n",
    "\n",
    "Trong notebook này, các bạn sẽ được cung cấp một số code hoàn chỉnh và cũng cần tự tạo code để trả lời các quiz. Code chúng tôi cung cấp giúp bạn hoàn thiện các bài toán là tùy chọn, các bạn có thể bỏ qua helper code và viết code của riêng mình. "
   ]
  },
  {
   "cell_type": "markdown",
   "metadata": {
    "id": "uIzazYSSMFFU"
   },
   "source": [
    "## Import thư viện"
   ]
  },
  {
   "cell_type": "code",
   "execution_count": 1,
   "metadata": {
    "id": "m0KDb9SeMFFW"
   },
   "outputs": [],
   "source": [
    "import numpy as np\n",
    "import pandas as pd"
   ]
  },
  {
   "cell_type": "markdown",
   "metadata": {
    "id": "7gPz5_FoMFFX"
   },
   "source": [
    "## Load dữ liệu bán nhà\n",
    "\n",
    "Tập dữ liệu từ doanh số bán nhà quận King, Seatle, WA."
   ]
  },
  {
   "cell_type": "code",
   "execution_count": 3,
   "metadata": {
    "id": "0uLKB_1cMFFX"
   },
   "outputs": [
    {
     "data": {
      "text/html": [
       "<div>\n",
       "<style scoped>\n",
       "    .dataframe tbody tr th:only-of-type {\n",
       "        vertical-align: middle;\n",
       "    }\n",
       "\n",
       "    .dataframe tbody tr th {\n",
       "        vertical-align: top;\n",
       "    }\n",
       "\n",
       "    .dataframe thead th {\n",
       "        text-align: right;\n",
       "    }\n",
       "</style>\n",
       "<table border=\"1\" class=\"dataframe\">\n",
       "  <thead>\n",
       "    <tr style=\"text-align: right;\">\n",
       "      <th></th>\n",
       "      <th>date</th>\n",
       "      <th>price</th>\n",
       "      <th>bedrooms</th>\n",
       "      <th>bathrooms</th>\n",
       "      <th>sqft_living</th>\n",
       "      <th>sqft_lot</th>\n",
       "      <th>floors</th>\n",
       "      <th>waterfront</th>\n",
       "      <th>view</th>\n",
       "      <th>condition</th>\n",
       "      <th>grade</th>\n",
       "      <th>sqft_above</th>\n",
       "      <th>sqft_basement</th>\n",
       "      <th>yr_built</th>\n",
       "      <th>yr_renovated</th>\n",
       "      <th>zipcode</th>\n",
       "      <th>lat</th>\n",
       "      <th>long</th>\n",
       "      <th>sqft_living15</th>\n",
       "      <th>sqft_lot15</th>\n",
       "    </tr>\n",
       "    <tr>\n",
       "      <th>id</th>\n",
       "      <th></th>\n",
       "      <th></th>\n",
       "      <th></th>\n",
       "      <th></th>\n",
       "      <th></th>\n",
       "      <th></th>\n",
       "      <th></th>\n",
       "      <th></th>\n",
       "      <th></th>\n",
       "      <th></th>\n",
       "      <th></th>\n",
       "      <th></th>\n",
       "      <th></th>\n",
       "      <th></th>\n",
       "      <th></th>\n",
       "      <th></th>\n",
       "      <th></th>\n",
       "      <th></th>\n",
       "      <th></th>\n",
       "      <th></th>\n",
       "    </tr>\n",
       "  </thead>\n",
       "  <tbody>\n",
       "    <tr>\n",
       "      <th>7129300520</th>\n",
       "      <td>20141013T000000</td>\n",
       "      <td>221900.0</td>\n",
       "      <td>3</td>\n",
       "      <td>1.00</td>\n",
       "      <td>1180</td>\n",
       "      <td>5650</td>\n",
       "      <td>1.0</td>\n",
       "      <td>0</td>\n",
       "      <td>0</td>\n",
       "      <td>3</td>\n",
       "      <td>7</td>\n",
       "      <td>1180</td>\n",
       "      <td>0</td>\n",
       "      <td>1955</td>\n",
       "      <td>0</td>\n",
       "      <td>98178</td>\n",
       "      <td>47.5112</td>\n",
       "      <td>-122.257</td>\n",
       "      <td>1340</td>\n",
       "      <td>5650</td>\n",
       "    </tr>\n",
       "    <tr>\n",
       "      <th>6414100192</th>\n",
       "      <td>20141209T000000</td>\n",
       "      <td>538000.0</td>\n",
       "      <td>3</td>\n",
       "      <td>2.25</td>\n",
       "      <td>2570</td>\n",
       "      <td>7242</td>\n",
       "      <td>2.0</td>\n",
       "      <td>0</td>\n",
       "      <td>0</td>\n",
       "      <td>3</td>\n",
       "      <td>7</td>\n",
       "      <td>2170</td>\n",
       "      <td>400</td>\n",
       "      <td>1951</td>\n",
       "      <td>1991</td>\n",
       "      <td>98125</td>\n",
       "      <td>47.7210</td>\n",
       "      <td>-122.319</td>\n",
       "      <td>1690</td>\n",
       "      <td>7639</td>\n",
       "    </tr>\n",
       "    <tr>\n",
       "      <th>5631500400</th>\n",
       "      <td>20150225T000000</td>\n",
       "      <td>180000.0</td>\n",
       "      <td>2</td>\n",
       "      <td>1.00</td>\n",
       "      <td>770</td>\n",
       "      <td>10000</td>\n",
       "      <td>1.0</td>\n",
       "      <td>0</td>\n",
       "      <td>0</td>\n",
       "      <td>3</td>\n",
       "      <td>6</td>\n",
       "      <td>770</td>\n",
       "      <td>0</td>\n",
       "      <td>1933</td>\n",
       "      <td>0</td>\n",
       "      <td>98028</td>\n",
       "      <td>47.7379</td>\n",
       "      <td>-122.233</td>\n",
       "      <td>2720</td>\n",
       "      <td>8062</td>\n",
       "    </tr>\n",
       "    <tr>\n",
       "      <th>2487200875</th>\n",
       "      <td>20141209T000000</td>\n",
       "      <td>604000.0</td>\n",
       "      <td>4</td>\n",
       "      <td>3.00</td>\n",
       "      <td>1960</td>\n",
       "      <td>5000</td>\n",
       "      <td>1.0</td>\n",
       "      <td>0</td>\n",
       "      <td>0</td>\n",
       "      <td>5</td>\n",
       "      <td>7</td>\n",
       "      <td>1050</td>\n",
       "      <td>910</td>\n",
       "      <td>1965</td>\n",
       "      <td>0</td>\n",
       "      <td>98136</td>\n",
       "      <td>47.5208</td>\n",
       "      <td>-122.393</td>\n",
       "      <td>1360</td>\n",
       "      <td>5000</td>\n",
       "    </tr>\n",
       "    <tr>\n",
       "      <th>1954400510</th>\n",
       "      <td>20150218T000000</td>\n",
       "      <td>510000.0</td>\n",
       "      <td>3</td>\n",
       "      <td>2.00</td>\n",
       "      <td>1680</td>\n",
       "      <td>8080</td>\n",
       "      <td>1.0</td>\n",
       "      <td>0</td>\n",
       "      <td>0</td>\n",
       "      <td>3</td>\n",
       "      <td>8</td>\n",
       "      <td>1680</td>\n",
       "      <td>0</td>\n",
       "      <td>1987</td>\n",
       "      <td>0</td>\n",
       "      <td>98074</td>\n",
       "      <td>47.6168</td>\n",
       "      <td>-122.045</td>\n",
       "      <td>1800</td>\n",
       "      <td>7503</td>\n",
       "    </tr>\n",
       "  </tbody>\n",
       "</table>\n",
       "</div>"
      ],
      "text/plain": [
       "                       date     price  bedrooms  bathrooms  sqft_living  \\\n",
       "id                                                                        \n",
       "7129300520  20141013T000000  221900.0         3       1.00         1180   \n",
       "6414100192  20141209T000000  538000.0         3       2.25         2570   \n",
       "5631500400  20150225T000000  180000.0         2       1.00          770   \n",
       "2487200875  20141209T000000  604000.0         4       3.00         1960   \n",
       "1954400510  20150218T000000  510000.0         3       2.00         1680   \n",
       "\n",
       "            sqft_lot  floors  waterfront  view  condition  grade  sqft_above  \\\n",
       "id                                                                             \n",
       "7129300520      5650     1.0           0     0          3      7        1180   \n",
       "6414100192      7242     2.0           0     0          3      7        2170   \n",
       "5631500400     10000     1.0           0     0          3      6         770   \n",
       "2487200875      5000     1.0           0     0          5      7        1050   \n",
       "1954400510      8080     1.0           0     0          3      8        1680   \n",
       "\n",
       "            sqft_basement  yr_built  yr_renovated  zipcode      lat     long  \\\n",
       "id                                                                             \n",
       "7129300520              0      1955             0    98178  47.5112 -122.257   \n",
       "6414100192            400      1951          1991    98125  47.7210 -122.319   \n",
       "5631500400              0      1933             0    98028  47.7379 -122.233   \n",
       "2487200875            910      1965             0    98136  47.5208 -122.393   \n",
       "1954400510              0      1987             0    98074  47.6168 -122.045   \n",
       "\n",
       "            sqft_living15  sqft_lot15  \n",
       "id                                     \n",
       "7129300520           1340        5650  \n",
       "6414100192           1690        7639  \n",
       "5631500400           2720        8062  \n",
       "2487200875           1360        5000  \n",
       "1954400510           1800        7503  "
      ]
     },
     "execution_count": 3,
     "metadata": {},
     "output_type": "execute_result"
    }
   ],
   "source": [
    "full_data = pd.read_csv(\"kc_house_data.csv\", index_col=0)\n",
    "full_data.head()"
   ]
  },
  {
   "cell_type": "markdown",
   "metadata": {
    "id": "SxX_yUCgMFFY"
   },
   "source": [
    "## Đọc dữ liệu"
   ]
  },
  {
   "cell_type": "markdown",
   "metadata": {
    "id": "hfyfBu26MFFZ"
   },
   "source": [
    "Chúng ta sẽ chia dữ liệu thành train/test set. Để duy trì thời gian chạy nhất quán, chúng ta cần một gái trị seed (default = 0)."
   ]
  },
  {
   "cell_type": "code",
   "execution_count": 4,
   "metadata": {
    "id": "BpqdAqsmMFFa"
   },
   "outputs": [],
   "source": [
    "from sklearn.model_selection import train_test_split\n",
    "train_data, test_data = train_test_split(full_data, train_size=0.8, test_size=0.2, random_state=0)"
   ]
  },
  {
   "cell_type": "markdown",
   "metadata": {
    "id": "YA26BxNAMFFb"
   },
   "source": [
    "## Các hàm Pandas hữu ích"
   ]
  },
  {
   "cell_type": "markdown",
   "metadata": {
    "id": "nBIsEdX4MFFb"
   },
   "source": [
    "In order to make use of the closed form solution as well as taking advantage of pandas's built-in capacity, we will do some simple exercise. In particular: Để tận dụng biểu thức dạng đóng cũng như các tiện ích được tích hợp sẵn của pandas, chúng ta cùng làm một số bài tập đơn giản. Cụ thể:\n",
    "* Tính tổng một cột.\n",
    "* Tính trung bình cộng của các cột.\n",
    "* Nhân và cập nhật một cột với một hằng số.\n",
    "* Nhân một cột với giá trị của một cột khác."
   ]
  },
  {
   "cell_type": "code",
   "execution_count": 5,
   "metadata": {
    "id": "TPYlV1V7MFFc",
    "outputId": "56512753-7b47-404d-9192-357b6d8c2c58",
    "scrolled": true
   },
   "outputs": [
    {
     "name": "stdout",
     "output_type": "stream",
     "text": [
      "average price (function): 540088.14\n",
      "average price (manual):  540088.14\n"
     ]
    }
   ],
   "source": [
    "# Hãy tính mean của House Prices in King County theo 2 cách khác nhau:\n",
    "prices = full_data['price']\n",
    "\n",
    "# gọi lại trung bình cộng, là tổng các giá chia tổng số lượng ngôi nhà:\n",
    "avg_price_auto = prices.mean()\n",
    "avg_price_manual = sum(prices.values) / float(len(prices))\n",
    "print(\"average price (function): %.2f\" % (avg_price_auto))\n",
    "print(\"average price (manual):  %.2f\" % (avg_price_manual))"
   ]
  },
  {
   "cell_type": "code",
   "execution_count": 6,
   "metadata": {
    "id": "ziRZxVASMFFe",
    "outputId": "a5440318-cdfa-43bf-8c8e-0f28ec4a37d5"
   },
   "outputs": [
    {
     "name": "stdout",
     "output_type": "stream",
     "text": [
      "the sum of price squared is: 9.22E+15\n"
     ]
    }
   ],
   "source": [
    "# nhân từng giá với 0.5 như sau:\n",
    "half_prices = 0.5*prices\n",
    "# Hãy tính tổng bình phương giá cả, nhân 2 SArrays có cùng độ dài với *\n",
    "prices_squared = prices*prices\n",
    "sum_prices_squared = prices_squared.sum() # price_squared là SArray của bình phương và chúng ta muốn thêm vào.\n",
    "print(\"the sum of price squared is: %.2E\" % (sum_prices_squared))"
   ]
  },
  {
   "cell_type": "markdown",
   "metadata": {
    "id": "bXZNatSyMFFf"
   },
   "source": [
    "Ngoài ra: Kí hiệu python x.xxe+yy nghĩa là x.xx \\* 10^(yy). Ví dụ: 100 = 10^2 = 1*10^2 = 1e2\n",
    "\n",
    "Thay thế kí hiệu số mũ (%.2E) bằng kí hiệu float (%.4f) và hiển thị sự khác biệt."
   ]
  },
  {
   "cell_type": "markdown",
   "metadata": {
    "id": "0BwqNASoMFFf"
   },
   "source": [
    "## Xây hàm hồi quy tuyến tính đơn giản chung"
   ]
  },
  {
   "cell_type": "markdown",
   "metadata": {
    "id": "1Cq8a4pAMFFg"
   },
   "source": [
    "Với các hàm này, chúng ta có thể sử dụng biểu thức dạng đóng từ bài giảng để tính slope (độ dốc) và intercept (hệ số chặn) cho một hồi quy tuyến tính đơn giản trên các quan sát được lưu trữ dưới dạng cột DataFrame: input_feature, output.\n",
    "\n",
    "Hoàn thành hàm sau (hoặc viết hàm của riêng mình) để tính slope và intercept của hồi quy tuyến tính đơn giản: "
   ]
  },
  {
   "cell_type": "code",
   "execution_count": 17,
   "metadata": {
    "id": "qPSeRxunMFFh"
   },
   "outputs": [],
   "source": [
    "def simple_linear_regression(input_feature, output):\n",
    "    numerator = np.mean(input_feature * output) - np.mean(input_feature) * np.mean(output)\n",
    "    denominator = np.mean(input_feature ** 2) - np.mean(input_feature) * np.mean(input_feature)\n",
    "    slope = numerator / denominator\n",
    "    intercept = np.mean(output) - slope*np.mean(input_feature)\n",
    "    return (intercept, slope)"
   ]
  },
  {
   "cell_type": "markdown",
   "metadata": {
    "id": "nqUqWYhKMFFi"
   },
   "source": [
    "Chúng ta có thể kiểm tra xem hàm có hoạt động hay không bằng cách truyền cho nó một thứ gì đó cho chúng ta biết câu trả lời. Cụ thể, có thể tạo một đặc trưng rồi đặt đầu ra chính xác trên một dòng: output = 1 + 1\\*input_feature, sau đó chúng ta biết cả slope và intercept là 1"
   ]
  },
  {
   "cell_type": "code",
   "execution_count": 19,
   "metadata": {
    "id": "BjtLg63yMFFi",
    "outputId": "9f902b13-4628-4db1-bd4e-207ce5a3616c",
    "scrolled": true
   },
   "outputs": [
    {
     "name": "stdout",
     "output_type": "stream",
     "text": [
      "Intercept: 1.00\n",
      "Slope: 1.00\n"
     ]
    }
   ],
   "source": [
    "mock_feature = np.array(range(5))\n",
    "mock_output = 1 + 1*mock_feature\n",
    "(mock_intercept, mock_slope) =  simple_linear_regression(mock_feature, mock_output)\n",
    "print(\"Intercept: %.2f\" % (mock_intercept))\n",
    "print(\"Slope: %.2f\" % (mock_slope))"
   ]
  },
  {
   "cell_type": "markdown",
   "metadata": {
    "id": "qA3NPj7EMFFj"
   },
   "source": [
    "Nó đã hoạt động. Giờ hãy xây dựng mô hình hồi quy để dự đoán giá dựa trên sqft_living. Hãy nhớ chúng ta đang huấn luyện train_data!"
   ]
  },
  {
   "cell_type": "code",
   "execution_count": 20,
   "metadata": {
    "id": "8GcDIGsOMFFl",
    "outputId": "20a6b1a2-aa00-4a91-c949-27d469db07e7"
   },
   "outputs": [
    {
     "name": "stdout",
     "output_type": "stream",
     "text": [
      "Intercept: -48257.06\n",
      "Slope: 283.97\n"
     ]
    }
   ],
   "source": [
    "sqft_features = train_data['sqft_living'].values\n",
    "sqft_labels = train_data['price'].values\n",
    "sqft_intercept, sqft_slope = simple_linear_regression(sqft_features, sqft_labels)\n",
    "\n",
    "print(\"Intercept: %.2f\" % (sqft_intercept))\n",
    "print(\"Slope: %.2f\" % (sqft_slope))"
   ]
  },
  {
   "cell_type": "markdown",
   "metadata": {
    "id": "-3_qHzcCMFFn"
   },
   "source": [
    "# Dự đoán giá"
   ]
  },
  {
   "cell_type": "markdown",
   "metadata": {
    "id": "NK3TEcVZMFFo"
   },
   "source": [
    "Bây giờ chúng ta có các tham số mô hình: intercept & slope, chúng ta đã có thể đưa ra dự đoán. Với numpy, thật dễ để nhân một mảng numpy với một hằng số và thêm một giá trị không đổi. Hoàn thành hàm sau để trả về đầu ra dự đoán với input_feature, slope và intercept:"
   ]
  },
  {
   "cell_type": "code",
   "execution_count": 21,
   "metadata": {
    "id": "Jx3yugiFMFFo"
   },
   "outputs": [],
   "source": [
    "def get_regression_predictions(input_feature, intercept, slope):\n",
    "    # tính các giá trị đã dự đoán:\n",
    "    predicted_values = intercept + slope * input_feature\n",
    "    return predicted_values"
   ]
  },
  {
   "cell_type": "markdown",
   "metadata": {
    "id": "_4TDuYvNMFFp"
   },
   "source": [
    "Hãy đưa ra dự đoán với slope và intercept. Sử dụng (hoặc thay đổi) thông tin sau để tìm ra giá ước tính cho một ngôi nhà rộng 2,000 feet vuông theo mô hình squarefeet mà chúng ta đã ước tính ở trên.\n",
    "\n",
    "**Quiz: Với Slope và Intercept từ (4), giá dự đoán cho một ngôi nhà có diện tích 2,000 feet vuông là bao nhiêu?** "
   ]
  },
  {
   "cell_type": "code",
   "execution_count": 26,
   "metadata": {
    "id": "sq6MdmCqMFFq"
   },
   "outputs": [
    {
     "name": "stdout",
     "output_type": "stream",
     "text": [
      "The estimated price for a house with 2000 squarefeet is $-96513843.2135\n"
     ]
    }
   ],
   "source": [
    "my_house_sqft = 2000\n",
    "estimated_price = get_regression_predictions(my_house_sqft,sqft_slope,sqft_intercept)\n",
    "print(\"The estimated price for a house with %d squarefeet is $%.4f\" % (my_house_sqft, estimated_price))"
   ]
  },
  {
   "cell_type": "markdown",
   "metadata": {
    "id": "Mv4iRk89MFFq"
   },
   "source": [
    "# Tổng bình phương phần dư (RSS)"
   ]
  },
  {
   "cell_type": "markdown",
   "metadata": {
    "id": "gb-nJva9MFFr"
   },
   "source": [
    "Chúng ta đã có một mô hình và có thể đưa ra dự đoán, hãy đánh giá mô hình với RSS. RSS là tổng bình phương phần dư và phần dư chỉ là một từ ngữ hoa mỹ để chỉ hiệu giữa đầu ra được dự đoán và đầu ra thực.\n",
    "\n",
    "Hoàn thành hàm sau (hoặc tự viết hàm) để tính RSS của một mô hình hồi quy tuyến tính đơn giản với input_feature, output, intercept và slope: "
   ]
  },
  {
   "cell_type": "code",
   "execution_count": 27,
   "metadata": {
    "id": "II5eCUA4MFFs"
   },
   "outputs": [],
   "source": [
    "def get_residual_sum_of_squares(input_feature, output, intercept, slope):\n",
    "    # Trước tiên lấy các dự đoán\n",
    "    y_predict = get_regression_predictions(input_feature,slope,intercept)\n",
    "    # sau đó tính các phần dư (chúng ta sẽ bình phương nên thứ tự trừ không quan trọng)\n",
    "    RSS = 1/2 * sum(output - y_predict) ** 2\n",
    "    return(RSS)"
   ]
  },
  {
   "cell_type": "markdown",
   "metadata": {
    "id": "5RTiRwUKMFFt"
   },
   "source": [
    "Hãy kiểm tra hàm `get_residual_sum_of_squares` bằng cách áp dụng nó vào mô hình kiểm thử, trong đó dữ liệu nằm chính xác trên 1 dòng. Do chúng nằm trên 1 dòng nên RSS sẽ bằng 0! "
   ]
  },
  {
   "cell_type": "code",
   "execution_count": 28,
   "metadata": {
    "id": "6UYxUItmMFFu",
    "outputId": "5713e5fc-8716-4636-ce15-3eff061bc3a4",
    "scrolled": false
   },
   "outputs": [
    {
     "name": "stdout",
     "output_type": "stream",
     "text": [
      "0.00\n"
     ]
    }
   ],
   "source": [
    "print(\"%.2f\" % get_residual_sum_of_squares(mock_feature, mock_output, mock_intercept, mock_slope)) # should be 0.0"
   ]
  },
  {
   "cell_type": "markdown",
   "metadata": {
    "id": "UIjV_obXMFFw"
   },
   "source": [
    "Bây giờ hãy sử dụng hàm của bạn để tính toán RSS trong dữ liệu huấn luyện từ mô hình squarefeet đã tính ở trên.\n",
    "\n",
    "**Quiz: Với hàm này, slope và intercept của mô hình squarefeet thì RSS cho hồi quy tuyến tính đơn giản sử dụng squarefeet để dự đoán giá trên dữ liệu HUẤN LUYỆN là bao nhiêu?**"
   ]
  },
  {
   "cell_type": "code",
   "execution_count": 30,
   "metadata": {
    "id": "-hQnqqU7MFFx"
   },
   "outputs": [
    {
     "name": "stdout",
     "output_type": "stream",
     "text": [
      "The RSS of predicting Prices based on Square Feet is : 1.52E+24\n"
     ]
    }
   ],
   "source": [
    "# You have made your bed, time to lie in it\n",
    "train_features = train_data['sqft_living'].values\n",
    "train_labels = train_data['price']\n",
    "rss_prices_on_sqft = get_residual_sum_of_squares(train_features,train_labels,sqft_intercept,sqft_slope)\n",
    "print('The RSS of predicting Prices based on Square Feet is : %.2E' % (rss_prices_on_sqft))"
   ]
  },
  {
   "cell_type": "markdown",
   "metadata": {
    "id": "jNeY-1stMFFy"
   },
   "source": [
    "# Dự đoán squarefeet với price (giá) đã biết"
   ]
  },
  {
   "cell_type": "markdown",
   "metadata": {
    "id": "0tUmy9U9MFFz"
   },
   "source": [
    "Vậy nếu chúng ta muốn đoán squarefeet với price đã biết thì sao? Cho phương trình $y = a + b*x$, chúng ta có thể giải hàm tìm x. Như vậy nếu có intercept (a), slope (b) và price (y), có thể tìm squarefeet dự đoán(x). \n",
    "\n",
    "Hoàn thành hàm sau để tính ước lượng hồi quy ngược, tức là dự đoán input_feature với output đã biết."
   ]
  },
  {
   "cell_type": "code",
   "execution_count": 31,
   "metadata": {
    "id": "3m5yBoWfMFF0"
   },
   "outputs": [],
   "source": [
    "def inverse_regression_predictions(output, intercept, slope):\n",
    "    # giải output = intercept + slope*input_feature để tìm input_feature. Sử dụng phương trình này để tính dự đoán ngược:\n",
    "    estimated_feature = (output - intercept)/slope\n",
    "    return estimated_feature"
   ]
  },
  {
   "cell_type": "markdown",
   "metadata": {
    "id": "QFF8fxmbMFF2"
   },
   "source": [
    "Chúng ta đã có một hàm để tính squaredeet với giá đã biết từ mô hình hồi quy đơn giản, hãy xem cách dự kiến diện tích của một ngôi nhà với giá 800,000 USD.\n",
    "\n",
    "**Quiz: Cho hàm này, slope và intercept từ (3), ngôi nhà giá 800,000 USD ước tính rộng bao nhiêu bao nhiêu feet vuông?**"
   ]
  },
  {
   "cell_type": "code",
   "execution_count": 32,
   "metadata": {
    "id": "SPJA_wAMMFF5"
   },
   "outputs": [
    {
     "name": "stdout",
     "output_type": "stream",
     "text": [
      "The estimated squarefeet for a house worth $800000.00 is 2987\n"
     ]
    }
   ],
   "source": [
    "# kết quả đã có, hãy thêm tham số vào hàm dưới đây \n",
    "my_house_price = 800000\n",
    "estimated_squarefeet = inverse_regression_predictions(my_house_price,sqft_intercept,sqft_slope)\n",
    "print(\"The estimated squarefeet for a house worth $%.2f is %d\" % (my_house_price, estimated_squarefeet))"
   ]
  },
  {
   "cell_type": "markdown",
   "metadata": {
    "id": "Lv61ERs7MFF6"
   },
   "source": [
    "# Mô hình mới: ước tính giá từ số phòng ngủ (bedrooms)"
   ]
  },
  {
   "cell_type": "markdown",
   "metadata": {
    "id": "2-9lux64MFF7"
   },
   "source": [
    "Chúng ta đã tạo một mô hình dự đoán giá nhà bằng sử dụng squarefeet, nhưng còn nhiều đặc trưng khác trong dữ liệu bán hàng. Sử dụng hàm hồi quy tuyến tính đơn giản để ước tính các tham số hồi quy từ việc dự đoán Giá nhà dựa vào số lượng phòng ngủ. Sử dụng dữ liệu huấn luyện!"
   ]
  },
  {
   "cell_type": "code",
   "execution_count": 34,
   "metadata": {
    "id": "wOk1DsYhMFF8"
   },
   "outputs": [],
   "source": [
    "# Ước tính slope và intercept để dự đoán 'price' dựa theo 'bedrooms'. Sử dụng Ctrl+C và Ctrl+V \n",
    "sqft_bedrooms = full_data['bedrooms'].values\n",
    "sqft_price = full_data['price'].values\n",
    "intercept,slope = simple_linear_regression(sqft_bedrooms,sqft_price)"
   ]
  },
  {
   "cell_type": "markdown",
   "metadata": {
    "id": "_7lIDD_jMFF9"
   },
   "source": [
    "# Kiểm tra thuật toán Hồi quy Tuyến tinh "
   ]
  },
  {
   "cell_type": "markdown",
   "metadata": {
    "id": "SxjJjE_zMFF9"
   },
   "source": [
    "Chúng ta đã có 2 mô hình dự đoán giá nhà. Làm cách nào để biết mô hình nào tốt hơn? Tính RSS trên dữ liệu KIỂM TRA (dữ liệu này không liên quan đến việc học mô hình). Tính RSS từ dự đoán giá khi sử dụng bedrooms và squarefeet.\n",
    "\n",
    "**Quiz: Mô hình nào (squarefeet hay bedrooms) có RSS thấp nhất trong dữ liệu KIỂM TRA? Lý do?**"
   ]
  },
  {
   "cell_type": "code",
   "execution_count": 35,
   "metadata": {
    "id": "xHAvjoSkMFF-"
   },
   "outputs": [
    {
     "name": "stdout",
     "output_type": "stream",
     "text": [
      "Bedroom regressions result: 9.32E+15\n"
     ]
    }
   ],
   "source": [
    "# Tính RSS sử dụng bedrooms trong dữ liệu KIỂM TRA. Mức độ hỗ trợ: cao.\n",
    "bdrm_test_features = test_data['bedrooms'].values\n",
    "bdrm_test_labels = test_data['price'].values\n",
    "rss_prices_on_bedroom = get_residual_sum_of_squares(bdrm_test_features,bdrm_test_labels,intercept,slope)\n",
    "print(\"Bedroom regressions result: %.2E\" % rss_prices_on_bedroom)"
   ]
  },
  {
   "cell_type": "code",
   "execution_count": 37,
   "metadata": {
    "id": "pvPg9G9OMFGG"
   },
   "outputs": [
    {
     "data": {
      "text/plain": [
       "5.528996230326797e+26"
      ]
     },
     "execution_count": 37,
     "metadata": {},
     "output_type": "execute_result"
    }
   ],
   "source": [
    "# Tính RSS sử dụng squarefeet trong dữ liệu KIỂM TRA. Mức độ hỗ trợ: không cao\n",
    "sqft_lot = full_data['sqft_lot'].values\n",
    "sqft_price = full_data['price'].values\n",
    "intercept,slope = simple_linear_regression(sqft_lot,sqft_price)\n",
    "x = test_data['sqft_lot'].values\n",
    "y = test_data['price'].values\n",
    "rss_prices_on_lot = get_residual_sum_of_squares(x,y,intercept,slope)\n",
    "rss_prices_on_lot"
   ]
  },
  {
   "cell_type": "code",
   "execution_count": null,
   "metadata": {
    "id": "Q1um9aQuMFGI"
   },
   "outputs": [],
   "source": []
  }
 ],
 "metadata": {
  "colab": {
   "collapsed_sections": [],
   "name": "[VN]Lab-1.ipynb",
   "provenance": []
  },
  "kernelspec": {
   "display_name": "Python 3",
   "language": "python",
   "name": "python3"
  },
  "language_info": {
   "codemirror_mode": {
    "name": "ipython",
    "version": 3
   },
   "file_extension": ".py",
   "mimetype": "text/x-python",
   "name": "python",
   "nbconvert_exporter": "python",
   "pygments_lexer": "ipython3",
   "version": "3.8.8"
  }
 },
 "nbformat": 4,
 "nbformat_minor": 1
}
