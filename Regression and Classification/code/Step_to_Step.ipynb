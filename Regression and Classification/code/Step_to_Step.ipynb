{
 "cells": [
  {
   "cell_type": "markdown",
   "id": "31a211f4",
   "metadata": {},
   "source": [
    "Tổng hợp các trình tự một bài toán ML với dữ liệu thô\n",
    "- Tiền Xử Lý Dữ Liệu\n",
    "    - Kiểm tra dữ liệu\n",
    "    - Viualization data\n",
    "    - Missing Data\n",
    "    - Encoding data\n",
    "    - Features selection\n",
    "- Xây dựng các thuật toán\n",
    "    - Code pandas,numpys\n",
    "    - Code theo thư viện\n",
    "- Đánh giá kết quả\n",
    "    - Accuracy\n",
    "    - Matrix confusion\n",
    "    - ROC-AUC\n",
    "    - MSE"
   ]
  },
  {
   "cell_type": "code",
   "execution_count": 1,
   "id": "c26ba3fe",
   "metadata": {},
   "outputs": [],
   "source": [
    "#Load thư viện liên quan\n",
    "import numpy as np\n",
    "import pandas as pd\n",
    "import matplotlib.pyplot as plt\n",
    "from sklearn.preprocessing import MinMaxScaler,StandardScaler,OneHotEncoder\n",
    "from sklearn.model_selection import train_test_split\n",
    "from sklearn.linear_model import LinearRegression,Ridge,Lasso,ElasticNet\n",
    "from sklearn.feature_selection import SelectFromModel\n",
    "from feature_engine.selection import DropDuplicateFeatures,DropConstantFeatures,RecursiveFeatureElimination,RecursiveFeatureAddition\n",
    "from sklearn.ensemble import GradientBoostingRegressor\n",
    "from sklearn.model_selection import GridSearchCV"
   ]
  },
  {
   "cell_type": "code",
   "execution_count": 2,
   "id": "90cbd54d",
   "metadata": {},
   "outputs": [
    {
     "data": {
      "text/html": [
       "<div>\n",
       "<style scoped>\n",
       "    .dataframe tbody tr th:only-of-type {\n",
       "        vertical-align: middle;\n",
       "    }\n",
       "\n",
       "    .dataframe tbody tr th {\n",
       "        vertical-align: top;\n",
       "    }\n",
       "\n",
       "    .dataframe thead th {\n",
       "        text-align: right;\n",
       "    }\n",
       "</style>\n",
       "<table border=\"1\" class=\"dataframe\">\n",
       "  <thead>\n",
       "    <tr style=\"text-align: right;\">\n",
       "      <th></th>\n",
       "      <th>Id</th>\n",
       "      <th>MSSubClass</th>\n",
       "      <th>MSZoning</th>\n",
       "      <th>LotFrontage</th>\n",
       "      <th>LotArea</th>\n",
       "      <th>Street</th>\n",
       "      <th>Alley</th>\n",
       "      <th>LotShape</th>\n",
       "      <th>LandContour</th>\n",
       "      <th>Utilities</th>\n",
       "      <th>...</th>\n",
       "      <th>PoolArea</th>\n",
       "      <th>PoolQC</th>\n",
       "      <th>Fence</th>\n",
       "      <th>MiscFeature</th>\n",
       "      <th>MiscVal</th>\n",
       "      <th>MoSold</th>\n",
       "      <th>YrSold</th>\n",
       "      <th>SaleType</th>\n",
       "      <th>SaleCondition</th>\n",
       "      <th>SalePrice</th>\n",
       "    </tr>\n",
       "  </thead>\n",
       "  <tbody>\n",
       "    <tr>\n",
       "      <th>0</th>\n",
       "      <td>1</td>\n",
       "      <td>60</td>\n",
       "      <td>RL</td>\n",
       "      <td>65.0</td>\n",
       "      <td>8450</td>\n",
       "      <td>Pave</td>\n",
       "      <td>NaN</td>\n",
       "      <td>Reg</td>\n",
       "      <td>Lvl</td>\n",
       "      <td>AllPub</td>\n",
       "      <td>...</td>\n",
       "      <td>0</td>\n",
       "      <td>NaN</td>\n",
       "      <td>NaN</td>\n",
       "      <td>NaN</td>\n",
       "      <td>0</td>\n",
       "      <td>2</td>\n",
       "      <td>2008</td>\n",
       "      <td>WD</td>\n",
       "      <td>Normal</td>\n",
       "      <td>208500</td>\n",
       "    </tr>\n",
       "    <tr>\n",
       "      <th>1</th>\n",
       "      <td>2</td>\n",
       "      <td>20</td>\n",
       "      <td>RL</td>\n",
       "      <td>80.0</td>\n",
       "      <td>9600</td>\n",
       "      <td>Pave</td>\n",
       "      <td>NaN</td>\n",
       "      <td>Reg</td>\n",
       "      <td>Lvl</td>\n",
       "      <td>AllPub</td>\n",
       "      <td>...</td>\n",
       "      <td>0</td>\n",
       "      <td>NaN</td>\n",
       "      <td>NaN</td>\n",
       "      <td>NaN</td>\n",
       "      <td>0</td>\n",
       "      <td>5</td>\n",
       "      <td>2007</td>\n",
       "      <td>WD</td>\n",
       "      <td>Normal</td>\n",
       "      <td>181500</td>\n",
       "    </tr>\n",
       "    <tr>\n",
       "      <th>2</th>\n",
       "      <td>3</td>\n",
       "      <td>60</td>\n",
       "      <td>RL</td>\n",
       "      <td>68.0</td>\n",
       "      <td>11250</td>\n",
       "      <td>Pave</td>\n",
       "      <td>NaN</td>\n",
       "      <td>IR1</td>\n",
       "      <td>Lvl</td>\n",
       "      <td>AllPub</td>\n",
       "      <td>...</td>\n",
       "      <td>0</td>\n",
       "      <td>NaN</td>\n",
       "      <td>NaN</td>\n",
       "      <td>NaN</td>\n",
       "      <td>0</td>\n",
       "      <td>9</td>\n",
       "      <td>2008</td>\n",
       "      <td>WD</td>\n",
       "      <td>Normal</td>\n",
       "      <td>223500</td>\n",
       "    </tr>\n",
       "    <tr>\n",
       "      <th>3</th>\n",
       "      <td>4</td>\n",
       "      <td>70</td>\n",
       "      <td>RL</td>\n",
       "      <td>60.0</td>\n",
       "      <td>9550</td>\n",
       "      <td>Pave</td>\n",
       "      <td>NaN</td>\n",
       "      <td>IR1</td>\n",
       "      <td>Lvl</td>\n",
       "      <td>AllPub</td>\n",
       "      <td>...</td>\n",
       "      <td>0</td>\n",
       "      <td>NaN</td>\n",
       "      <td>NaN</td>\n",
       "      <td>NaN</td>\n",
       "      <td>0</td>\n",
       "      <td>2</td>\n",
       "      <td>2006</td>\n",
       "      <td>WD</td>\n",
       "      <td>Abnorml</td>\n",
       "      <td>140000</td>\n",
       "    </tr>\n",
       "    <tr>\n",
       "      <th>4</th>\n",
       "      <td>5</td>\n",
       "      <td>60</td>\n",
       "      <td>RL</td>\n",
       "      <td>84.0</td>\n",
       "      <td>14260</td>\n",
       "      <td>Pave</td>\n",
       "      <td>NaN</td>\n",
       "      <td>IR1</td>\n",
       "      <td>Lvl</td>\n",
       "      <td>AllPub</td>\n",
       "      <td>...</td>\n",
       "      <td>0</td>\n",
       "      <td>NaN</td>\n",
       "      <td>NaN</td>\n",
       "      <td>NaN</td>\n",
       "      <td>0</td>\n",
       "      <td>12</td>\n",
       "      <td>2008</td>\n",
       "      <td>WD</td>\n",
       "      <td>Normal</td>\n",
       "      <td>250000</td>\n",
       "    </tr>\n",
       "  </tbody>\n",
       "</table>\n",
       "<p>5 rows × 81 columns</p>\n",
       "</div>"
      ],
      "text/plain": [
       "   Id  MSSubClass MSZoning  LotFrontage  LotArea Street Alley LotShape  \\\n",
       "0   1          60       RL         65.0     8450   Pave   NaN      Reg   \n",
       "1   2          20       RL         80.0     9600   Pave   NaN      Reg   \n",
       "2   3          60       RL         68.0    11250   Pave   NaN      IR1   \n",
       "3   4          70       RL         60.0     9550   Pave   NaN      IR1   \n",
       "4   5          60       RL         84.0    14260   Pave   NaN      IR1   \n",
       "\n",
       "  LandContour Utilities  ... PoolArea PoolQC Fence MiscFeature MiscVal MoSold  \\\n",
       "0         Lvl    AllPub  ...        0    NaN   NaN         NaN       0      2   \n",
       "1         Lvl    AllPub  ...        0    NaN   NaN         NaN       0      5   \n",
       "2         Lvl    AllPub  ...        0    NaN   NaN         NaN       0      9   \n",
       "3         Lvl    AllPub  ...        0    NaN   NaN         NaN       0      2   \n",
       "4         Lvl    AllPub  ...        0    NaN   NaN         NaN       0     12   \n",
       "\n",
       "  YrSold  SaleType  SaleCondition  SalePrice  \n",
       "0   2008        WD         Normal     208500  \n",
       "1   2007        WD         Normal     181500  \n",
       "2   2008        WD         Normal     223500  \n",
       "3   2006        WD        Abnorml     140000  \n",
       "4   2008        WD         Normal     250000  \n",
       "\n",
       "[5 rows x 81 columns]"
      ]
     },
     "execution_count": 2,
     "metadata": {},
     "output_type": "execute_result"
    }
   ],
   "source": [
    "data = pd.read_csv('houseprice.csv')\n",
    "data.head()"
   ]
  },
  {
   "cell_type": "code",
   "execution_count": 3,
   "id": "72501632",
   "metadata": {},
   "outputs": [],
   "source": [
    "data = data.drop('Id',axis = 1)"
   ]
  },
  {
   "cell_type": "code",
   "execution_count": 4,
   "id": "02fe1fa2",
   "metadata": {},
   "outputs": [
    {
     "name": "stdout",
     "output_type": "stream",
     "text": [
      "<class 'pandas.core.frame.DataFrame'>\n",
      "RangeIndex: 1460 entries, 0 to 1459\n",
      "Data columns (total 80 columns):\n",
      " #   Column         Non-Null Count  Dtype  \n",
      "---  ------         --------------  -----  \n",
      " 0   MSSubClass     1460 non-null   int64  \n",
      " 1   MSZoning       1460 non-null   object \n",
      " 2   LotFrontage    1201 non-null   float64\n",
      " 3   LotArea        1460 non-null   int64  \n",
      " 4   Street         1460 non-null   object \n",
      " 5   Alley          91 non-null     object \n",
      " 6   LotShape       1460 non-null   object \n",
      " 7   LandContour    1460 non-null   object \n",
      " 8   Utilities      1460 non-null   object \n",
      " 9   LotConfig      1460 non-null   object \n",
      " 10  LandSlope      1460 non-null   object \n",
      " 11  Neighborhood   1460 non-null   object \n",
      " 12  Condition1     1460 non-null   object \n",
      " 13  Condition2     1460 non-null   object \n",
      " 14  BldgType       1460 non-null   object \n",
      " 15  HouseStyle     1460 non-null   object \n",
      " 16  OverallQual    1460 non-null   int64  \n",
      " 17  OverallCond    1460 non-null   int64  \n",
      " 18  YearBuilt      1460 non-null   int64  \n",
      " 19  YearRemodAdd   1460 non-null   int64  \n",
      " 20  RoofStyle      1460 non-null   object \n",
      " 21  RoofMatl       1460 non-null   object \n",
      " 22  Exterior1st    1460 non-null   object \n",
      " 23  Exterior2nd    1460 non-null   object \n",
      " 24  MasVnrType     1452 non-null   object \n",
      " 25  MasVnrArea     1452 non-null   float64\n",
      " 26  ExterQual      1460 non-null   object \n",
      " 27  ExterCond      1460 non-null   object \n",
      " 28  Foundation     1460 non-null   object \n",
      " 29  BsmtQual       1423 non-null   object \n",
      " 30  BsmtCond       1423 non-null   object \n",
      " 31  BsmtExposure   1422 non-null   object \n",
      " 32  BsmtFinType1   1423 non-null   object \n",
      " 33  BsmtFinSF1     1460 non-null   int64  \n",
      " 34  BsmtFinType2   1422 non-null   object \n",
      " 35  BsmtFinSF2     1460 non-null   int64  \n",
      " 36  BsmtUnfSF      1460 non-null   int64  \n",
      " 37  TotalBsmtSF    1460 non-null   int64  \n",
      " 38  Heating        1460 non-null   object \n",
      " 39  HeatingQC      1460 non-null   object \n",
      " 40  CentralAir     1460 non-null   object \n",
      " 41  Electrical     1459 non-null   object \n",
      " 42  1stFlrSF       1460 non-null   int64  \n",
      " 43  2ndFlrSF       1460 non-null   int64  \n",
      " 44  LowQualFinSF   1460 non-null   int64  \n",
      " 45  GrLivArea      1460 non-null   int64  \n",
      " 46  BsmtFullBath   1460 non-null   int64  \n",
      " 47  BsmtHalfBath   1460 non-null   int64  \n",
      " 48  FullBath       1460 non-null   int64  \n",
      " 49  HalfBath       1460 non-null   int64  \n",
      " 50  BedroomAbvGr   1460 non-null   int64  \n",
      " 51  KitchenAbvGr   1460 non-null   int64  \n",
      " 52  KitchenQual    1460 non-null   object \n",
      " 53  TotRmsAbvGrd   1460 non-null   int64  \n",
      " 54  Functional     1460 non-null   object \n",
      " 55  Fireplaces     1460 non-null   int64  \n",
      " 56  FireplaceQu    770 non-null    object \n",
      " 57  GarageType     1379 non-null   object \n",
      " 58  GarageYrBlt    1379 non-null   float64\n",
      " 59  GarageFinish   1379 non-null   object \n",
      " 60  GarageCars     1460 non-null   int64  \n",
      " 61  GarageArea     1460 non-null   int64  \n",
      " 62  GarageQual     1379 non-null   object \n",
      " 63  GarageCond     1379 non-null   object \n",
      " 64  PavedDrive     1460 non-null   object \n",
      " 65  WoodDeckSF     1460 non-null   int64  \n",
      " 66  OpenPorchSF    1460 non-null   int64  \n",
      " 67  EnclosedPorch  1460 non-null   int64  \n",
      " 68  3SsnPorch      1460 non-null   int64  \n",
      " 69  ScreenPorch    1460 non-null   int64  \n",
      " 70  PoolArea       1460 non-null   int64  \n",
      " 71  PoolQC         7 non-null      object \n",
      " 72  Fence          281 non-null    object \n",
      " 73  MiscFeature    54 non-null     object \n",
      " 74  MiscVal        1460 non-null   int64  \n",
      " 75  MoSold         1460 non-null   int64  \n",
      " 76  YrSold         1460 non-null   int64  \n",
      " 77  SaleType       1460 non-null   object \n",
      " 78  SaleCondition  1460 non-null   object \n",
      " 79  SalePrice      1460 non-null   int64  \n",
      "dtypes: float64(3), int64(34), object(43)\n",
      "memory usage: 912.6+ KB\n"
     ]
    }
   ],
   "source": [
    "data.info()"
   ]
  },
  {
   "cell_type": "code",
   "execution_count": 5,
   "id": "f70e305d",
   "metadata": {},
   "outputs": [
    {
     "data": {
      "text/plain": [
       "['LotFrontage',\n",
       " 'Alley',\n",
       " 'MasVnrType',\n",
       " 'MasVnrArea',\n",
       " 'BsmtQual',\n",
       " 'BsmtCond',\n",
       " 'BsmtExposure',\n",
       " 'BsmtFinType1',\n",
       " 'BsmtFinType2',\n",
       " 'Electrical',\n",
       " 'FireplaceQu',\n",
       " 'GarageType',\n",
       " 'GarageYrBlt',\n",
       " 'GarageFinish',\n",
       " 'GarageQual',\n",
       " 'GarageCond',\n",
       " 'PoolQC',\n",
       " 'Fence',\n",
       " 'MiscFeature']"
      ]
     },
     "execution_count": 5,
     "metadata": {},
     "output_type": "execute_result"
    }
   ],
   "source": [
    "[var for var in data.columns if data[var].isnull().sum() > 0]"
   ]
  },
  {
   "cell_type": "code",
   "execution_count": 6,
   "id": "ac344129",
   "metadata": {},
   "outputs": [
    {
     "data": {
      "text/html": [
       "<div>\n",
       "<style scoped>\n",
       "    .dataframe tbody tr th:only-of-type {\n",
       "        vertical-align: middle;\n",
       "    }\n",
       "\n",
       "    .dataframe tbody tr th {\n",
       "        vertical-align: top;\n",
       "    }\n",
       "\n",
       "    .dataframe thead th {\n",
       "        text-align: right;\n",
       "    }\n",
       "</style>\n",
       "<table border=\"1\" class=\"dataframe\">\n",
       "  <thead>\n",
       "    <tr style=\"text-align: right;\">\n",
       "      <th></th>\n",
       "      <th>MSSubClass</th>\n",
       "      <th>LotFrontage</th>\n",
       "      <th>LotArea</th>\n",
       "      <th>OverallQual</th>\n",
       "      <th>OverallCond</th>\n",
       "      <th>YearBuilt</th>\n",
       "      <th>YearRemodAdd</th>\n",
       "      <th>MasVnrArea</th>\n",
       "      <th>BsmtFinSF1</th>\n",
       "      <th>BsmtFinSF2</th>\n",
       "      <th>...</th>\n",
       "      <th>WoodDeckSF</th>\n",
       "      <th>OpenPorchSF</th>\n",
       "      <th>EnclosedPorch</th>\n",
       "      <th>3SsnPorch</th>\n",
       "      <th>ScreenPorch</th>\n",
       "      <th>PoolArea</th>\n",
       "      <th>MiscVal</th>\n",
       "      <th>MoSold</th>\n",
       "      <th>YrSold</th>\n",
       "      <th>SalePrice</th>\n",
       "    </tr>\n",
       "  </thead>\n",
       "  <tbody>\n",
       "    <tr>\n",
       "      <th>count</th>\n",
       "      <td>1460.000000</td>\n",
       "      <td>1201.000000</td>\n",
       "      <td>1460.000000</td>\n",
       "      <td>1460.000000</td>\n",
       "      <td>1460.000000</td>\n",
       "      <td>1460.000000</td>\n",
       "      <td>1460.000000</td>\n",
       "      <td>1452.000000</td>\n",
       "      <td>1460.000000</td>\n",
       "      <td>1460.000000</td>\n",
       "      <td>...</td>\n",
       "      <td>1460.000000</td>\n",
       "      <td>1460.000000</td>\n",
       "      <td>1460.000000</td>\n",
       "      <td>1460.000000</td>\n",
       "      <td>1460.000000</td>\n",
       "      <td>1460.000000</td>\n",
       "      <td>1460.000000</td>\n",
       "      <td>1460.000000</td>\n",
       "      <td>1460.000000</td>\n",
       "      <td>1460.000000</td>\n",
       "    </tr>\n",
       "    <tr>\n",
       "      <th>mean</th>\n",
       "      <td>56.897260</td>\n",
       "      <td>70.049958</td>\n",
       "      <td>10516.828082</td>\n",
       "      <td>6.099315</td>\n",
       "      <td>5.575342</td>\n",
       "      <td>1971.267808</td>\n",
       "      <td>1984.865753</td>\n",
       "      <td>103.685262</td>\n",
       "      <td>443.639726</td>\n",
       "      <td>46.549315</td>\n",
       "      <td>...</td>\n",
       "      <td>94.244521</td>\n",
       "      <td>46.660274</td>\n",
       "      <td>21.954110</td>\n",
       "      <td>3.409589</td>\n",
       "      <td>15.060959</td>\n",
       "      <td>2.758904</td>\n",
       "      <td>43.489041</td>\n",
       "      <td>6.321918</td>\n",
       "      <td>2007.815753</td>\n",
       "      <td>180921.195890</td>\n",
       "    </tr>\n",
       "    <tr>\n",
       "      <th>std</th>\n",
       "      <td>42.300571</td>\n",
       "      <td>24.284752</td>\n",
       "      <td>9981.264932</td>\n",
       "      <td>1.382997</td>\n",
       "      <td>1.112799</td>\n",
       "      <td>30.202904</td>\n",
       "      <td>20.645407</td>\n",
       "      <td>181.066207</td>\n",
       "      <td>456.098091</td>\n",
       "      <td>161.319273</td>\n",
       "      <td>...</td>\n",
       "      <td>125.338794</td>\n",
       "      <td>66.256028</td>\n",
       "      <td>61.119149</td>\n",
       "      <td>29.317331</td>\n",
       "      <td>55.757415</td>\n",
       "      <td>40.177307</td>\n",
       "      <td>496.123024</td>\n",
       "      <td>2.703626</td>\n",
       "      <td>1.328095</td>\n",
       "      <td>79442.502883</td>\n",
       "    </tr>\n",
       "    <tr>\n",
       "      <th>min</th>\n",
       "      <td>20.000000</td>\n",
       "      <td>21.000000</td>\n",
       "      <td>1300.000000</td>\n",
       "      <td>1.000000</td>\n",
       "      <td>1.000000</td>\n",
       "      <td>1872.000000</td>\n",
       "      <td>1950.000000</td>\n",
       "      <td>0.000000</td>\n",
       "      <td>0.000000</td>\n",
       "      <td>0.000000</td>\n",
       "      <td>...</td>\n",
       "      <td>0.000000</td>\n",
       "      <td>0.000000</td>\n",
       "      <td>0.000000</td>\n",
       "      <td>0.000000</td>\n",
       "      <td>0.000000</td>\n",
       "      <td>0.000000</td>\n",
       "      <td>0.000000</td>\n",
       "      <td>1.000000</td>\n",
       "      <td>2006.000000</td>\n",
       "      <td>34900.000000</td>\n",
       "    </tr>\n",
       "    <tr>\n",
       "      <th>25%</th>\n",
       "      <td>20.000000</td>\n",
       "      <td>59.000000</td>\n",
       "      <td>7553.500000</td>\n",
       "      <td>5.000000</td>\n",
       "      <td>5.000000</td>\n",
       "      <td>1954.000000</td>\n",
       "      <td>1967.000000</td>\n",
       "      <td>0.000000</td>\n",
       "      <td>0.000000</td>\n",
       "      <td>0.000000</td>\n",
       "      <td>...</td>\n",
       "      <td>0.000000</td>\n",
       "      <td>0.000000</td>\n",
       "      <td>0.000000</td>\n",
       "      <td>0.000000</td>\n",
       "      <td>0.000000</td>\n",
       "      <td>0.000000</td>\n",
       "      <td>0.000000</td>\n",
       "      <td>5.000000</td>\n",
       "      <td>2007.000000</td>\n",
       "      <td>129975.000000</td>\n",
       "    </tr>\n",
       "    <tr>\n",
       "      <th>50%</th>\n",
       "      <td>50.000000</td>\n",
       "      <td>69.000000</td>\n",
       "      <td>9478.500000</td>\n",
       "      <td>6.000000</td>\n",
       "      <td>5.000000</td>\n",
       "      <td>1973.000000</td>\n",
       "      <td>1994.000000</td>\n",
       "      <td>0.000000</td>\n",
       "      <td>383.500000</td>\n",
       "      <td>0.000000</td>\n",
       "      <td>...</td>\n",
       "      <td>0.000000</td>\n",
       "      <td>25.000000</td>\n",
       "      <td>0.000000</td>\n",
       "      <td>0.000000</td>\n",
       "      <td>0.000000</td>\n",
       "      <td>0.000000</td>\n",
       "      <td>0.000000</td>\n",
       "      <td>6.000000</td>\n",
       "      <td>2008.000000</td>\n",
       "      <td>163000.000000</td>\n",
       "    </tr>\n",
       "    <tr>\n",
       "      <th>75%</th>\n",
       "      <td>70.000000</td>\n",
       "      <td>80.000000</td>\n",
       "      <td>11601.500000</td>\n",
       "      <td>7.000000</td>\n",
       "      <td>6.000000</td>\n",
       "      <td>2000.000000</td>\n",
       "      <td>2004.000000</td>\n",
       "      <td>166.000000</td>\n",
       "      <td>712.250000</td>\n",
       "      <td>0.000000</td>\n",
       "      <td>...</td>\n",
       "      <td>168.000000</td>\n",
       "      <td>68.000000</td>\n",
       "      <td>0.000000</td>\n",
       "      <td>0.000000</td>\n",
       "      <td>0.000000</td>\n",
       "      <td>0.000000</td>\n",
       "      <td>0.000000</td>\n",
       "      <td>8.000000</td>\n",
       "      <td>2009.000000</td>\n",
       "      <td>214000.000000</td>\n",
       "    </tr>\n",
       "    <tr>\n",
       "      <th>max</th>\n",
       "      <td>190.000000</td>\n",
       "      <td>313.000000</td>\n",
       "      <td>215245.000000</td>\n",
       "      <td>10.000000</td>\n",
       "      <td>9.000000</td>\n",
       "      <td>2010.000000</td>\n",
       "      <td>2010.000000</td>\n",
       "      <td>1600.000000</td>\n",
       "      <td>5644.000000</td>\n",
       "      <td>1474.000000</td>\n",
       "      <td>...</td>\n",
       "      <td>857.000000</td>\n",
       "      <td>547.000000</td>\n",
       "      <td>552.000000</td>\n",
       "      <td>508.000000</td>\n",
       "      <td>480.000000</td>\n",
       "      <td>738.000000</td>\n",
       "      <td>15500.000000</td>\n",
       "      <td>12.000000</td>\n",
       "      <td>2010.000000</td>\n",
       "      <td>755000.000000</td>\n",
       "    </tr>\n",
       "  </tbody>\n",
       "</table>\n",
       "<p>8 rows × 37 columns</p>\n",
       "</div>"
      ],
      "text/plain": [
       "        MSSubClass  LotFrontage        LotArea  OverallQual  OverallCond  \\\n",
       "count  1460.000000  1201.000000    1460.000000  1460.000000  1460.000000   \n",
       "mean     56.897260    70.049958   10516.828082     6.099315     5.575342   \n",
       "std      42.300571    24.284752    9981.264932     1.382997     1.112799   \n",
       "min      20.000000    21.000000    1300.000000     1.000000     1.000000   \n",
       "25%      20.000000    59.000000    7553.500000     5.000000     5.000000   \n",
       "50%      50.000000    69.000000    9478.500000     6.000000     5.000000   \n",
       "75%      70.000000    80.000000   11601.500000     7.000000     6.000000   \n",
       "max     190.000000   313.000000  215245.000000    10.000000     9.000000   \n",
       "\n",
       "         YearBuilt  YearRemodAdd   MasVnrArea   BsmtFinSF1   BsmtFinSF2  ...  \\\n",
       "count  1460.000000   1460.000000  1452.000000  1460.000000  1460.000000  ...   \n",
       "mean   1971.267808   1984.865753   103.685262   443.639726    46.549315  ...   \n",
       "std      30.202904     20.645407   181.066207   456.098091   161.319273  ...   \n",
       "min    1872.000000   1950.000000     0.000000     0.000000     0.000000  ...   \n",
       "25%    1954.000000   1967.000000     0.000000     0.000000     0.000000  ...   \n",
       "50%    1973.000000   1994.000000     0.000000   383.500000     0.000000  ...   \n",
       "75%    2000.000000   2004.000000   166.000000   712.250000     0.000000  ...   \n",
       "max    2010.000000   2010.000000  1600.000000  5644.000000  1474.000000  ...   \n",
       "\n",
       "        WoodDeckSF  OpenPorchSF  EnclosedPorch    3SsnPorch  ScreenPorch  \\\n",
       "count  1460.000000  1460.000000    1460.000000  1460.000000  1460.000000   \n",
       "mean     94.244521    46.660274      21.954110     3.409589    15.060959   \n",
       "std     125.338794    66.256028      61.119149    29.317331    55.757415   \n",
       "min       0.000000     0.000000       0.000000     0.000000     0.000000   \n",
       "25%       0.000000     0.000000       0.000000     0.000000     0.000000   \n",
       "50%       0.000000    25.000000       0.000000     0.000000     0.000000   \n",
       "75%     168.000000    68.000000       0.000000     0.000000     0.000000   \n",
       "max     857.000000   547.000000     552.000000   508.000000   480.000000   \n",
       "\n",
       "          PoolArea       MiscVal       MoSold       YrSold      SalePrice  \n",
       "count  1460.000000   1460.000000  1460.000000  1460.000000    1460.000000  \n",
       "mean      2.758904     43.489041     6.321918  2007.815753  180921.195890  \n",
       "std      40.177307    496.123024     2.703626     1.328095   79442.502883  \n",
       "min       0.000000      0.000000     1.000000  2006.000000   34900.000000  \n",
       "25%       0.000000      0.000000     5.000000  2007.000000  129975.000000  \n",
       "50%       0.000000      0.000000     6.000000  2008.000000  163000.000000  \n",
       "75%       0.000000      0.000000     8.000000  2009.000000  214000.000000  \n",
       "max     738.000000  15500.000000    12.000000  2010.000000  755000.000000  \n",
       "\n",
       "[8 rows x 37 columns]"
      ]
     },
     "execution_count": 6,
     "metadata": {},
     "output_type": "execute_result"
    }
   ],
   "source": [
    "data.describe()"
   ]
  },
  {
   "cell_type": "code",
   "execution_count": 7,
   "id": "a38a079d",
   "metadata": {},
   "outputs": [
    {
     "data": {
      "image/png": "[encoded data removed]",
      "text/plain": [
       "<Figure size 1080x864 with 4 Axes>"
      ]
     },
     "metadata": {
      "needs_background": "light"
     },
     "output_type": "display_data"
    }
   ],
   "source": [
    "fig, ax = plt.subplots(2, 2, figsize=(15, 12))\n",
    "data.plot(kind = 'scatter',x = 'SalePrice',y = 'LotArea',ax = ax[0][0])\n",
    "plt.xlabel('Price')\n",
    "plt.ylabel('LotArea')\n",
    "data.plot(kind = 'scatter',x = 'SalePrice',y = 'LotFrontage',ax = ax[0][1])\n",
    "plt.xlabel('Price')\n",
    "plt.ylabel('LotFrontage')\n",
    "data.plot(kind = 'scatter',x = 'SalePrice',y = 'GarageYrBlt',ax = ax[1][0])\n",
    "plt.xlabel('Price')\n",
    "plt.ylabel('GarageYrBlt')\n",
    "data.plot(kind = 'scatter',x = 'SalePrice',y = 'MasVnrArea',ax = ax[1][1])\n",
    "plt.xlabel('Price')\n",
    "plt.ylabel('MasVnrArea')\n",
    "plt.show()"
   ]
  },
  {
   "cell_type": "code",
   "execution_count": 8,
   "id": "cb2da9a7",
   "metadata": {},
   "outputs": [
    {
     "data": {
      "text/plain": [
       "<AxesSubplot:>"
      ]
     },
     "execution_count": 8,
     "metadata": {},
     "output_type": "execute_result"
    },
    {
     "data": {
      "image/png": "[encoded data removed]",
      "text/plain": [
       "<Figure size 1080x864 with 4 Axes>"
      ]
     },
     "metadata": {
      "needs_background": "light"
     },
     "output_type": "display_data"
    }
   ],
   "source": [
    "fig, ax = plt.subplots(2, 2, figsize=(15, 12))\n",
    "data['GrLivArea'].plot(kind = 'box',ax = ax[0][0])\n",
    "data['Fireplaces'].plot(kind = 'box',ax = ax[0][1])\n",
    "data['GarageArea'].plot(kind = 'box',ax = ax[1][0])\n",
    "data['TotalBsmtSF'].plot(kind = 'box',ax = ax[1][1])"
   ]
  },
  {
   "cell_type": "markdown",
   "id": "f3db5a69",
   "metadata": {},
   "source": [
    "#### Missing Data"
   ]
  },
  {
   "cell_type": "code",
   "execution_count": 9,
   "id": "eed3b903",
   "metadata": {},
   "outputs": [],
   "source": [
    "features_missing_colums = [var for var in data.columns if data[var].isnull().sum() > 0]"
   ]
  },
  {
   "cell_type": "code",
   "execution_count": 10,
   "id": "44bdf7d3",
   "metadata": {},
   "outputs": [
    {
     "data": {
      "text/plain": [
       "['LotFrontage',\n",
       " 'Alley',\n",
       " 'MasVnrType',\n",
       " 'MasVnrArea',\n",
       " 'BsmtQual',\n",
       " 'BsmtCond',\n",
       " 'BsmtExposure',\n",
       " 'BsmtFinType1',\n",
       " 'BsmtFinType2',\n",
       " 'Electrical',\n",
       " 'FireplaceQu',\n",
       " 'GarageType',\n",
       " 'GarageYrBlt',\n",
       " 'GarageFinish',\n",
       " 'GarageQual',\n",
       " 'GarageCond',\n",
       " 'PoolQC',\n",
       " 'Fence',\n",
       " 'MiscFeature']"
      ]
     },
     "execution_count": 10,
     "metadata": {},
     "output_type": "execute_result"
    }
   ],
   "source": [
    "features_missing_colums"
   ]
  },
  {
   "cell_type": "code",
   "execution_count": 11,
   "id": "6fbd340d",
   "metadata": {},
   "outputs": [
    {
     "data": {
      "text/html": [
       "<div>\n",
       "<style scoped>\n",
       "    .dataframe tbody tr th:only-of-type {\n",
       "        vertical-align: middle;\n",
       "    }\n",
       "\n",
       "    .dataframe tbody tr th {\n",
       "        vertical-align: top;\n",
       "    }\n",
       "\n",
       "    .dataframe thead th {\n",
       "        text-align: right;\n",
       "    }\n",
       "</style>\n",
       "<table border=\"1\" class=\"dataframe\">\n",
       "  <thead>\n",
       "    <tr style=\"text-align: right;\">\n",
       "      <th></th>\n",
       "      <th>missing_value</th>\n",
       "    </tr>\n",
       "  </thead>\n",
       "  <tbody>\n",
       "    <tr>\n",
       "      <th>PoolQC</th>\n",
       "      <td>0.995205</td>\n",
       "    </tr>\n",
       "    <tr>\n",
       "      <th>MiscFeature</th>\n",
       "      <td>0.963014</td>\n",
       "    </tr>\n",
       "    <tr>\n",
       "      <th>Alley</th>\n",
       "      <td>0.937671</td>\n",
       "    </tr>\n",
       "    <tr>\n",
       "      <th>Fence</th>\n",
       "      <td>0.807534</td>\n",
       "    </tr>\n",
       "    <tr>\n",
       "      <th>FireplaceQu</th>\n",
       "      <td>0.472603</td>\n",
       "    </tr>\n",
       "    <tr>\n",
       "      <th>LotFrontage</th>\n",
       "      <td>0.177397</td>\n",
       "    </tr>\n",
       "    <tr>\n",
       "      <th>GarageYrBlt</th>\n",
       "      <td>0.055479</td>\n",
       "    </tr>\n",
       "    <tr>\n",
       "      <th>GarageCond</th>\n",
       "      <td>0.055479</td>\n",
       "    </tr>\n",
       "    <tr>\n",
       "      <th>GarageType</th>\n",
       "      <td>0.055479</td>\n",
       "    </tr>\n",
       "    <tr>\n",
       "      <th>GarageFinish</th>\n",
       "      <td>0.055479</td>\n",
       "    </tr>\n",
       "    <tr>\n",
       "      <th>GarageQual</th>\n",
       "      <td>0.055479</td>\n",
       "    </tr>\n",
       "    <tr>\n",
       "      <th>BsmtExposure</th>\n",
       "      <td>0.026027</td>\n",
       "    </tr>\n",
       "    <tr>\n",
       "      <th>BsmtFinType2</th>\n",
       "      <td>0.026027</td>\n",
       "    </tr>\n",
       "    <tr>\n",
       "      <th>BsmtCond</th>\n",
       "      <td>0.025342</td>\n",
       "    </tr>\n",
       "    <tr>\n",
       "      <th>BsmtQual</th>\n",
       "      <td>0.025342</td>\n",
       "    </tr>\n",
       "    <tr>\n",
       "      <th>BsmtFinType1</th>\n",
       "      <td>0.025342</td>\n",
       "    </tr>\n",
       "    <tr>\n",
       "      <th>MasVnrArea</th>\n",
       "      <td>0.005479</td>\n",
       "    </tr>\n",
       "    <tr>\n",
       "      <th>MasVnrType</th>\n",
       "      <td>0.005479</td>\n",
       "    </tr>\n",
       "    <tr>\n",
       "      <th>Electrical</th>\n",
       "      <td>0.000685</td>\n",
       "    </tr>\n",
       "  </tbody>\n",
       "</table>\n",
       "</div>"
      ],
      "text/plain": [
       "              missing_value\n",
       "PoolQC             0.995205\n",
       "MiscFeature        0.963014\n",
       "Alley              0.937671\n",
       "Fence              0.807534\n",
       "FireplaceQu        0.472603\n",
       "LotFrontage        0.177397\n",
       "GarageYrBlt        0.055479\n",
       "GarageCond         0.055479\n",
       "GarageType         0.055479\n",
       "GarageFinish       0.055479\n",
       "GarageQual         0.055479\n",
       "BsmtExposure       0.026027\n",
       "BsmtFinType2       0.026027\n",
       "BsmtCond           0.025342\n",
       "BsmtQual           0.025342\n",
       "BsmtFinType1       0.025342\n",
       "MasVnrArea         0.005479\n",
       "MasVnrType         0.005479\n",
       "Electrical         0.000685"
      ]
     },
     "execution_count": 11,
     "metadata": {},
     "output_type": "execute_result"
    }
   ],
   "source": [
    "missing_data = data.isnull().sum().sort_values(ascending=False) /len(data)\n",
    "missing_data=missing_data.drop(missing_data[missing_data == 0].index)\n",
    "missing_data= pd.DataFrame({'missing_value':missing_data})\n",
    "missing_data"
   ]
  },
  {
   "cell_type": "code",
   "execution_count": 12,
   "id": "644b5c8b",
   "metadata": {},
   "outputs": [
    {
     "data": {
      "text/plain": [
       "<AxesSubplot:>"
      ]
     },
     "execution_count": 12,
     "metadata": {},
     "output_type": "execute_result"
    },
    {
     "data": {
      "image/png": "[encoded data removed]",
      "text/plain": [
       "<Figure size 1512x864 with 1 Axes>"
      ]
     },
     "metadata": {
      "needs_background": "light"
     },
     "output_type": "display_data"
    }
   ],
   "source": [
    "import seaborn as sns\n",
    "plt.figure(figsize=(21,12))\n",
    "sns.barplot(x = missing_data.index,y = missing_data['missing_value'].values)"
   ]
  },
  {
   "cell_type": "code",
   "execution_count": 13,
   "id": "3ca73ce8",
   "metadata": {},
   "outputs": [
    {
     "name": "stdout",
     "output_type": "stream",
     "text": [
      "PoolQC\n",
      "[nan 'Ex' 'Fa' 'Gd']\n",
      "MiscFeature\n",
      "[nan 'Shed' 'Gar2' 'Othr' 'TenC']\n",
      "Alley\n",
      "[nan 'Grvl' 'Pave']\n",
      "Fence\n",
      "[nan 'MnPrv' 'GdWo' 'GdPrv' 'MnWw']\n",
      "FireplaceQu\n",
      "[nan 'TA' 'Gd' 'Fa' 'Ex' 'Po']\n",
      "LotFrontage\n",
      "[ 65.  80.  68.  60.  84.  85.  75.  nan  51.  50.  70.  91.  72.  66.\n",
      " 101.  57.  44. 110.  98.  47. 108. 112.  74. 115.  61.  48.  33.  52.\n",
      " 100.  24.  89.  63.  76.  81.  95.  69.  21.  32.  78. 121. 122.  40.\n",
      " 105.  73.  77.  64.  94.  34.  90.  55.  88.  82.  71. 120. 107.  92.\n",
      " 134.  62.  86. 141.  97.  54.  41.  79. 174.  99.  67.  83.  43. 103.\n",
      "  93.  30. 129. 140.  35.  37. 118.  87. 116. 150. 111.  49.  96.  59.\n",
      "  36.  56. 102.  58.  38. 109. 130.  53. 137.  45. 106. 104.  42.  39.\n",
      " 144. 114. 128. 149. 313. 168. 182. 138. 160. 152. 124. 153.  46.]\n",
      "GarageYrBlt\n",
      "[2003. 1976. 2001. 1998. 2000. 1993. 2004. 1973. 1931. 1939. 1965. 2005.\n",
      " 1962. 2006. 1960. 1991. 1970. 1967. 1958. 1930. 2002. 1968. 2007. 2008.\n",
      " 1957. 1920. 1966. 1959. 1995. 1954. 1953.   nan 1983. 1977. 1997. 1985.\n",
      " 1963. 1981. 1964. 1999. 1935. 1990. 1945. 1987. 1989. 1915. 1956. 1948.\n",
      " 1974. 2009. 1950. 1961. 1921. 1900. 1979. 1951. 1969. 1936. 1975. 1971.\n",
      " 1923. 1984. 1926. 1955. 1986. 1988. 1916. 1932. 1972. 1918. 1980. 1924.\n",
      " 1996. 1940. 1949. 1994. 1910. 1978. 1982. 1992. 1925. 1941. 2010. 1927.\n",
      " 1947. 1937. 1942. 1938. 1952. 1928. 1922. 1934. 1906. 1914. 1946. 1908.\n",
      " 1929. 1933.]\n",
      "GarageCond\n",
      "['TA' 'Fa' nan 'Gd' 'Po' 'Ex']\n",
      "GarageType\n",
      "['Attchd' 'Detchd' 'BuiltIn' 'CarPort' nan 'Basment' '2Types']\n",
      "GarageFinish\n",
      "['RFn' 'Unf' 'Fin' nan]\n",
      "GarageQual\n",
      "['TA' 'Fa' 'Gd' nan 'Ex' 'Po']\n",
      "BsmtExposure\n",
      "['No' 'Gd' 'Mn' 'Av' nan]\n",
      "BsmtFinType2\n",
      "['Unf' 'BLQ' nan 'ALQ' 'Rec' 'LwQ' 'GLQ']\n",
      "BsmtCond\n",
      "['TA' 'Gd' nan 'Fa' 'Po']\n",
      "BsmtQual\n",
      "['Gd' 'TA' 'Ex' nan 'Fa']\n",
      "BsmtFinType1\n",
      "['GLQ' 'ALQ' 'Unf' 'Rec' 'BLQ' nan 'LwQ']\n",
      "MasVnrArea\n",
      "[1.960e+02 0.000e+00 1.620e+02 3.500e+02 1.860e+02 2.400e+02 2.860e+02\n",
      " 3.060e+02 2.120e+02 1.800e+02 3.800e+02 2.810e+02 6.400e+02 2.000e+02\n",
      " 2.460e+02 1.320e+02 6.500e+02 1.010e+02 4.120e+02 2.720e+02 4.560e+02\n",
      " 1.031e+03 1.780e+02 5.730e+02 3.440e+02 2.870e+02 1.670e+02 1.115e+03\n",
      " 4.000e+01 1.040e+02 5.760e+02 4.430e+02 4.680e+02 6.600e+01 2.200e+01\n",
      " 2.840e+02 7.600e+01 2.030e+02 6.800e+01 1.830e+02 4.800e+01 2.800e+01\n",
      " 3.360e+02 6.000e+02 7.680e+02 4.800e+02 2.200e+02 1.840e+02 1.129e+03\n",
      " 1.160e+02 1.350e+02 2.660e+02 8.500e+01 3.090e+02 1.360e+02 2.880e+02\n",
      " 7.000e+01 3.200e+02 5.000e+01 1.200e+02 4.360e+02 2.520e+02 8.400e+01\n",
      " 6.640e+02 2.260e+02 3.000e+02 6.530e+02 1.120e+02 4.910e+02 2.680e+02\n",
      " 7.480e+02 9.800e+01 2.750e+02 1.380e+02 2.050e+02 2.620e+02 1.280e+02\n",
      " 2.600e+02 1.530e+02 6.400e+01 3.120e+02 1.600e+01 9.220e+02 1.420e+02\n",
      " 2.900e+02 1.270e+02 5.060e+02 2.970e+02       nan 6.040e+02 2.540e+02\n",
      " 3.600e+01 1.020e+02 4.720e+02 4.810e+02 1.080e+02 3.020e+02 1.720e+02\n",
      " 3.990e+02 2.700e+02 4.600e+01 2.100e+02 1.740e+02 3.480e+02 3.150e+02\n",
      " 2.990e+02 3.400e+02 1.660e+02 7.200e+01 3.100e+01 3.400e+01 2.380e+02\n",
      " 1.600e+03 3.650e+02 5.600e+01 1.500e+02 2.780e+02 2.560e+02 2.250e+02\n",
      " 3.700e+02 3.880e+02 1.750e+02 2.960e+02 1.460e+02 1.130e+02 1.760e+02\n",
      " 6.160e+02 3.000e+01 1.060e+02 8.700e+02 3.620e+02 5.300e+02 5.000e+02\n",
      " 5.100e+02 2.470e+02 3.050e+02 2.550e+02 1.250e+02 1.000e+02 4.320e+02\n",
      " 1.260e+02 4.730e+02 7.400e+01 1.450e+02 2.320e+02 3.760e+02 4.200e+01\n",
      " 1.610e+02 1.100e+02 1.800e+01 2.240e+02 2.480e+02 8.000e+01 3.040e+02\n",
      " 2.150e+02 7.720e+02 4.350e+02 3.780e+02 5.620e+02 1.680e+02 8.900e+01\n",
      " 2.850e+02 3.600e+02 9.400e+01 3.330e+02 9.210e+02 7.620e+02 5.940e+02\n",
      " 2.190e+02 1.880e+02 4.790e+02 5.840e+02 1.820e+02 2.500e+02 2.920e+02\n",
      " 2.450e+02 2.070e+02 8.200e+01 9.700e+01 3.350e+02 2.080e+02 4.200e+02\n",
      " 1.700e+02 4.590e+02 2.800e+02 9.900e+01 1.920e+02 2.040e+02 2.330e+02\n",
      " 1.560e+02 4.520e+02 5.130e+02 2.610e+02 1.640e+02 2.590e+02 2.090e+02\n",
      " 2.630e+02 2.160e+02 3.510e+02 6.600e+02 3.810e+02 5.400e+01 5.280e+02\n",
      " 2.580e+02 4.640e+02 5.700e+01 1.470e+02 1.170e+03 2.930e+02 6.300e+02\n",
      " 4.660e+02 1.090e+02 4.100e+01 1.600e+02 2.890e+02 6.510e+02 1.690e+02\n",
      " 9.500e+01 4.420e+02 2.020e+02 3.380e+02 8.940e+02 3.280e+02 6.730e+02\n",
      " 6.030e+02 1.000e+00 3.750e+02 9.000e+01 3.800e+01 1.570e+02 1.100e+01\n",
      " 1.400e+02 1.300e+02 1.480e+02 8.600e+02 4.240e+02 1.047e+03 2.430e+02\n",
      " 8.160e+02 3.870e+02 2.230e+02 1.580e+02 1.370e+02 1.150e+02 1.890e+02\n",
      " 2.740e+02 1.170e+02 6.000e+01 1.220e+02 9.200e+01 4.150e+02 7.600e+02\n",
      " 2.700e+01 7.500e+01 3.610e+02 1.050e+02 3.420e+02 2.980e+02 5.410e+02\n",
      " 2.360e+02 1.440e+02 4.230e+02 4.400e+01 1.510e+02 9.750e+02 4.500e+02\n",
      " 2.300e+02 5.710e+02 2.400e+01 5.300e+01 2.060e+02 1.400e+01 3.240e+02\n",
      " 2.950e+02 3.960e+02 6.700e+01 1.540e+02 4.250e+02 4.500e+01 1.378e+03\n",
      " 3.370e+02 1.490e+02 1.430e+02 5.100e+01 1.710e+02 2.340e+02 6.300e+01\n",
      " 7.660e+02 3.200e+01 8.100e+01 1.630e+02 5.540e+02 2.180e+02 6.320e+02\n",
      " 1.140e+02 5.670e+02 3.590e+02 4.510e+02 6.210e+02 7.880e+02 8.600e+01\n",
      " 7.960e+02 3.910e+02 2.280e+02 8.800e+01 1.650e+02 4.280e+02 4.100e+02\n",
      " 5.640e+02 3.680e+02 3.180e+02 5.790e+02 6.500e+01 7.050e+02 4.080e+02\n",
      " 2.440e+02 1.230e+02 3.660e+02 7.310e+02 4.480e+02 2.940e+02 3.100e+02\n",
      " 2.370e+02 4.260e+02 9.600e+01 4.380e+02 1.940e+02 1.190e+02]\n",
      "MasVnrType\n",
      "['BrkFace' 'None' 'Stone' 'BrkCmn' nan]\n",
      "Electrical\n",
      "['SBrkr' 'FuseF' 'FuseA' 'FuseP' 'Mix' nan]\n"
     ]
    }
   ],
   "source": [
    "for var in missing_data.index:\n",
    "    print(var)\n",
    "    print(data[var].unique())"
   ]
  },
  {
   "cell_type": "code",
   "execution_count": 14,
   "id": "dff1c989",
   "metadata": {},
   "outputs": [],
   "source": [
    "\"\"\"\n",
    "Gán hạng mục sau:PoolQC,MiscFeature,Alley,Fence,FireplaceQu,GarageCond,GarageType,GarageFinish,GarageQual thành \"None\" \n",
    "(Ta có thể thấy rằng tỷ lể khuyết quá lớn, gắn mode,ngẫu nhiên không hiệu quả)\n",
    "\"\"\"\n",
    "all_data_missing = data.copy()\n",
    "all_data_missing['PoolQC'] = data['PoolQC'].fillna('None')\n",
    "all_data_missing['MiscFeature'] = data['MiscFeature'].fillna('None')\n",
    "all_data_missing['Alley'] = data['Alley'].fillna('None')\n",
    "all_data_missing['Fence'] = data['Fence'].fillna('None')\n",
    "all_data_missing['FireplaceQu'] = data['FireplaceQu'].fillna('None')\n",
    "all_data_missing['GarageCond'] = data['GarageCond'].fillna('None')\n",
    "all_data_missing['GarageType'] = data['GarageType'].fillna('None')\n",
    "all_data_missing['GarageFinish'] = data['GarageFinish'].fillna('None')\n",
    "all_data_missing['GarageQual'] = data['GarageQual'].fillna('None')"
   ]
  },
  {
   "cell_type": "code",
   "execution_count": 15,
   "id": "4099b2bd",
   "metadata": {},
   "outputs": [],
   "source": [
    "\"\"\"\n",
    "Ta có thể thẩy LotFrontage và Neighborhood nó tương đương nhau ta có thể lấy giá trị trung bình\n",
    "\"\"\"\n",
    "all_data_missing['LotFrontage'] = data.groupby(['Neighborhood'])['LotFrontage'].transform(lambda x: x.fillna(x.median()))"
   ]
  },
  {
   "cell_type": "code",
   "execution_count": 16,
   "id": "a1ed6da6",
   "metadata": {},
   "outputs": [],
   "source": [
    "from sklearn.impute import SimpleImputer"
   ]
  },
  {
   "cell_type": "code",
   "execution_count": 17,
   "id": "2650adac",
   "metadata": {},
   "outputs": [],
   "source": [
    "\"\"\"\n",
    "Các hạng mục sau: BsmtExposure,BsmtFinType2,BsmtCond,BsmtQual,BsmtFinType1 ta có thể thấy tỷ khuyết khá thấp ta có thể gán\n",
    "theo nhãn xuất hiện thường xuyên nhất\n",
    "\"\"\"\n",
    "features_colums = ['BsmtExposure','BsmtFinType2','BsmtCond','BsmtFinType1','MasVnrType','Electrical',\n",
    "                   \"BsmtQual\",'Electrical']\n",
    "sel = SimpleImputer(strategy='most_frequent')\n",
    "all_data_missing[features_colums] = sel.fit_transform(data[features_colums])"
   ]
  },
  {
   "cell_type": "code",
   "execution_count": 18,
   "id": "7edfc302",
   "metadata": {},
   "outputs": [],
   "source": [
    "\"\"\"\n",
    "Các hạng mục sau: GarageYrBlt gán giá trị bất kỳ\n",
    "\"\"\"\n",
    "all_data_missing['GarageYrBlt'] = data['GarageYrBlt'].fillna(0)"
   ]
  },
  {
   "cell_type": "code",
   "execution_count": 19,
   "id": "fa800bd4",
   "metadata": {},
   "outputs": [],
   "source": [
    "median = data['MasVnrArea'].median()\n",
    "all_data_missing['MasVnrArea'] = data['MasVnrArea'].fillna(median)"
   ]
  },
  {
   "cell_type": "code",
   "execution_count": 20,
   "id": "639d7072",
   "metadata": {},
   "outputs": [
    {
     "data": {
      "text/plain": [
       "LotFrontage     0.0\n",
       "Alley           0.0\n",
       "MasVnrType      0.0\n",
       "MasVnrArea      0.0\n",
       "BsmtQual        0.0\n",
       "BsmtCond        0.0\n",
       "BsmtExposure    0.0\n",
       "BsmtFinType1    0.0\n",
       "BsmtFinType2    0.0\n",
       "Electrical      0.0\n",
       "FireplaceQu     0.0\n",
       "GarageType      0.0\n",
       "GarageYrBlt     0.0\n",
       "GarageFinish    0.0\n",
       "GarageQual      0.0\n",
       "GarageCond      0.0\n",
       "PoolQC          0.0\n",
       "Fence           0.0\n",
       "MiscFeature     0.0\n",
       "dtype: float64"
      ]
     },
     "execution_count": 20,
     "metadata": {},
     "output_type": "execute_result"
    }
   ],
   "source": [
    "all_data_missing[features_missing_colums].isnull().mean()"
   ]
  },
  {
   "cell_type": "code",
   "execution_count": 21,
   "id": "67324d3d",
   "metadata": {},
   "outputs": [
    {
     "data": {
      "text/html": [
       "<div>\n",
       "<style scoped>\n",
       "    .dataframe tbody tr th:only-of-type {\n",
       "        vertical-align: middle;\n",
       "    }\n",
       "\n",
       "    .dataframe tbody tr th {\n",
       "        vertical-align: top;\n",
       "    }\n",
       "\n",
       "    .dataframe thead th {\n",
       "        text-align: right;\n",
       "    }\n",
       "</style>\n",
       "<table border=\"1\" class=\"dataframe\">\n",
       "  <thead>\n",
       "    <tr style=\"text-align: right;\">\n",
       "      <th></th>\n",
       "      <th>MSSubClass</th>\n",
       "      <th>MSZoning</th>\n",
       "      <th>LotFrontage</th>\n",
       "      <th>LotArea</th>\n",
       "      <th>Street</th>\n",
       "      <th>Alley</th>\n",
       "      <th>LotShape</th>\n",
       "      <th>LandContour</th>\n",
       "      <th>Utilities</th>\n",
       "      <th>LotConfig</th>\n",
       "      <th>...</th>\n",
       "      <th>PoolArea</th>\n",
       "      <th>PoolQC</th>\n",
       "      <th>Fence</th>\n",
       "      <th>MiscFeature</th>\n",
       "      <th>MiscVal</th>\n",
       "      <th>MoSold</th>\n",
       "      <th>YrSold</th>\n",
       "      <th>SaleType</th>\n",
       "      <th>SaleCondition</th>\n",
       "      <th>SalePrice</th>\n",
       "    </tr>\n",
       "  </thead>\n",
       "  <tbody>\n",
       "    <tr>\n",
       "      <th>0</th>\n",
       "      <td>60</td>\n",
       "      <td>RL</td>\n",
       "      <td>65.0</td>\n",
       "      <td>8450</td>\n",
       "      <td>Pave</td>\n",
       "      <td>None</td>\n",
       "      <td>Reg</td>\n",
       "      <td>Lvl</td>\n",
       "      <td>AllPub</td>\n",
       "      <td>Inside</td>\n",
       "      <td>...</td>\n",
       "      <td>0</td>\n",
       "      <td>None</td>\n",
       "      <td>None</td>\n",
       "      <td>None</td>\n",
       "      <td>0</td>\n",
       "      <td>2</td>\n",
       "      <td>2008</td>\n",
       "      <td>WD</td>\n",
       "      <td>Normal</td>\n",
       "      <td>208500</td>\n",
       "    </tr>\n",
       "    <tr>\n",
       "      <th>1</th>\n",
       "      <td>20</td>\n",
       "      <td>RL</td>\n",
       "      <td>80.0</td>\n",
       "      <td>9600</td>\n",
       "      <td>Pave</td>\n",
       "      <td>None</td>\n",
       "      <td>Reg</td>\n",
       "      <td>Lvl</td>\n",
       "      <td>AllPub</td>\n",
       "      <td>FR2</td>\n",
       "      <td>...</td>\n",
       "      <td>0</td>\n",
       "      <td>None</td>\n",
       "      <td>None</td>\n",
       "      <td>None</td>\n",
       "      <td>0</td>\n",
       "      <td>5</td>\n",
       "      <td>2007</td>\n",
       "      <td>WD</td>\n",
       "      <td>Normal</td>\n",
       "      <td>181500</td>\n",
       "    </tr>\n",
       "    <tr>\n",
       "      <th>2</th>\n",
       "      <td>60</td>\n",
       "      <td>RL</td>\n",
       "      <td>68.0</td>\n",
       "      <td>11250</td>\n",
       "      <td>Pave</td>\n",
       "      <td>None</td>\n",
       "      <td>IR1</td>\n",
       "      <td>Lvl</td>\n",
       "      <td>AllPub</td>\n",
       "      <td>Inside</td>\n",
       "      <td>...</td>\n",
       "      <td>0</td>\n",
       "      <td>None</td>\n",
       "      <td>None</td>\n",
       "      <td>None</td>\n",
       "      <td>0</td>\n",
       "      <td>9</td>\n",
       "      <td>2008</td>\n",
       "      <td>WD</td>\n",
       "      <td>Normal</td>\n",
       "      <td>223500</td>\n",
       "    </tr>\n",
       "    <tr>\n",
       "      <th>3</th>\n",
       "      <td>70</td>\n",
       "      <td>RL</td>\n",
       "      <td>60.0</td>\n",
       "      <td>9550</td>\n",
       "      <td>Pave</td>\n",
       "      <td>None</td>\n",
       "      <td>IR1</td>\n",
       "      <td>Lvl</td>\n",
       "      <td>AllPub</td>\n",
       "      <td>Corner</td>\n",
       "      <td>...</td>\n",
       "      <td>0</td>\n",
       "      <td>None</td>\n",
       "      <td>None</td>\n",
       "      <td>None</td>\n",
       "      <td>0</td>\n",
       "      <td>2</td>\n",
       "      <td>2006</td>\n",
       "      <td>WD</td>\n",
       "      <td>Abnorml</td>\n",
       "      <td>140000</td>\n",
       "    </tr>\n",
       "    <tr>\n",
       "      <th>4</th>\n",
       "      <td>60</td>\n",
       "      <td>RL</td>\n",
       "      <td>84.0</td>\n",
       "      <td>14260</td>\n",
       "      <td>Pave</td>\n",
       "      <td>None</td>\n",
       "      <td>IR1</td>\n",
       "      <td>Lvl</td>\n",
       "      <td>AllPub</td>\n",
       "      <td>FR2</td>\n",
       "      <td>...</td>\n",
       "      <td>0</td>\n",
       "      <td>None</td>\n",
       "      <td>None</td>\n",
       "      <td>None</td>\n",
       "      <td>0</td>\n",
       "      <td>12</td>\n",
       "      <td>2008</td>\n",
       "      <td>WD</td>\n",
       "      <td>Normal</td>\n",
       "      <td>250000</td>\n",
       "    </tr>\n",
       "    <tr>\n",
       "      <th>...</th>\n",
       "      <td>...</td>\n",
       "      <td>...</td>\n",
       "      <td>...</td>\n",
       "      <td>...</td>\n",
       "      <td>...</td>\n",
       "      <td>...</td>\n",
       "      <td>...</td>\n",
       "      <td>...</td>\n",
       "      <td>...</td>\n",
       "      <td>...</td>\n",
       "      <td>...</td>\n",
       "      <td>...</td>\n",
       "      <td>...</td>\n",
       "      <td>...</td>\n",
       "      <td>...</td>\n",
       "      <td>...</td>\n",
       "      <td>...</td>\n",
       "      <td>...</td>\n",
       "      <td>...</td>\n",
       "      <td>...</td>\n",
       "      <td>...</td>\n",
       "    </tr>\n",
       "    <tr>\n",
       "      <th>1455</th>\n",
       "      <td>60</td>\n",
       "      <td>RL</td>\n",
       "      <td>62.0</td>\n",
       "      <td>7917</td>\n",
       "      <td>Pave</td>\n",
       "      <td>None</td>\n",
       "      <td>Reg</td>\n",
       "      <td>Lvl</td>\n",
       "      <td>AllPub</td>\n",
       "      <td>Inside</td>\n",
       "      <td>...</td>\n",
       "      <td>0</td>\n",
       "      <td>None</td>\n",
       "      <td>None</td>\n",
       "      <td>None</td>\n",
       "      <td>0</td>\n",
       "      <td>8</td>\n",
       "      <td>2007</td>\n",
       "      <td>WD</td>\n",
       "      <td>Normal</td>\n",
       "      <td>175000</td>\n",
       "    </tr>\n",
       "    <tr>\n",
       "      <th>1456</th>\n",
       "      <td>20</td>\n",
       "      <td>RL</td>\n",
       "      <td>85.0</td>\n",
       "      <td>13175</td>\n",
       "      <td>Pave</td>\n",
       "      <td>None</td>\n",
       "      <td>Reg</td>\n",
       "      <td>Lvl</td>\n",
       "      <td>AllPub</td>\n",
       "      <td>Inside</td>\n",
       "      <td>...</td>\n",
       "      <td>0</td>\n",
       "      <td>None</td>\n",
       "      <td>MnPrv</td>\n",
       "      <td>None</td>\n",
       "      <td>0</td>\n",
       "      <td>2</td>\n",
       "      <td>2010</td>\n",
       "      <td>WD</td>\n",
       "      <td>Normal</td>\n",
       "      <td>210000</td>\n",
       "    </tr>\n",
       "    <tr>\n",
       "      <th>1457</th>\n",
       "      <td>70</td>\n",
       "      <td>RL</td>\n",
       "      <td>66.0</td>\n",
       "      <td>9042</td>\n",
       "      <td>Pave</td>\n",
       "      <td>None</td>\n",
       "      <td>Reg</td>\n",
       "      <td>Lvl</td>\n",
       "      <td>AllPub</td>\n",
       "      <td>Inside</td>\n",
       "      <td>...</td>\n",
       "      <td>0</td>\n",
       "      <td>None</td>\n",
       "      <td>GdPrv</td>\n",
       "      <td>Shed</td>\n",
       "      <td>2500</td>\n",
       "      <td>5</td>\n",
       "      <td>2010</td>\n",
       "      <td>WD</td>\n",
       "      <td>Normal</td>\n",
       "      <td>266500</td>\n",
       "    </tr>\n",
       "    <tr>\n",
       "      <th>1458</th>\n",
       "      <td>20</td>\n",
       "      <td>RL</td>\n",
       "      <td>68.0</td>\n",
       "      <td>9717</td>\n",
       "      <td>Pave</td>\n",
       "      <td>None</td>\n",
       "      <td>Reg</td>\n",
       "      <td>Lvl</td>\n",
       "      <td>AllPub</td>\n",
       "      <td>Inside</td>\n",
       "      <td>...</td>\n",
       "      <td>0</td>\n",
       "      <td>None</td>\n",
       "      <td>None</td>\n",
       "      <td>None</td>\n",
       "      <td>0</td>\n",
       "      <td>4</td>\n",
       "      <td>2010</td>\n",
       "      <td>WD</td>\n",
       "      <td>Normal</td>\n",
       "      <td>142125</td>\n",
       "    </tr>\n",
       "    <tr>\n",
       "      <th>1459</th>\n",
       "      <td>20</td>\n",
       "      <td>RL</td>\n",
       "      <td>75.0</td>\n",
       "      <td>9937</td>\n",
       "      <td>Pave</td>\n",
       "      <td>None</td>\n",
       "      <td>Reg</td>\n",
       "      <td>Lvl</td>\n",
       "      <td>AllPub</td>\n",
       "      <td>Inside</td>\n",
       "      <td>...</td>\n",
       "      <td>0</td>\n",
       "      <td>None</td>\n",
       "      <td>None</td>\n",
       "      <td>None</td>\n",
       "      <td>0</td>\n",
       "      <td>6</td>\n",
       "      <td>2008</td>\n",
       "      <td>WD</td>\n",
       "      <td>Normal</td>\n",
       "      <td>147500</td>\n",
       "    </tr>\n",
       "  </tbody>\n",
       "</table>\n",
       "<p>1460 rows × 80 columns</p>\n",
       "</div>"
      ],
      "text/plain": [
       "      MSSubClass MSZoning  LotFrontage  LotArea Street Alley LotShape  \\\n",
       "0             60       RL         65.0     8450   Pave  None      Reg   \n",
       "1             20       RL         80.0     9600   Pave  None      Reg   \n",
       "2             60       RL         68.0    11250   Pave  None      IR1   \n",
       "3             70       RL         60.0     9550   Pave  None      IR1   \n",
       "4             60       RL         84.0    14260   Pave  None      IR1   \n",
       "...          ...      ...          ...      ...    ...   ...      ...   \n",
       "1455          60       RL         62.0     7917   Pave  None      Reg   \n",
       "1456          20       RL         85.0    13175   Pave  None      Reg   \n",
       "1457          70       RL         66.0     9042   Pave  None      Reg   \n",
       "1458          20       RL         68.0     9717   Pave  None      Reg   \n",
       "1459          20       RL         75.0     9937   Pave  None      Reg   \n",
       "\n",
       "     LandContour Utilities LotConfig  ... PoolArea PoolQC  Fence MiscFeature  \\\n",
       "0            Lvl    AllPub    Inside  ...        0   None   None        None   \n",
       "1            Lvl    AllPub       FR2  ...        0   None   None        None   \n",
       "2            Lvl    AllPub    Inside  ...        0   None   None        None   \n",
       "3            Lvl    AllPub    Corner  ...        0   None   None        None   \n",
       "4            Lvl    AllPub       FR2  ...        0   None   None        None   \n",
       "...          ...       ...       ...  ...      ...    ...    ...         ...   \n",
       "1455         Lvl    AllPub    Inside  ...        0   None   None        None   \n",
       "1456         Lvl    AllPub    Inside  ...        0   None  MnPrv        None   \n",
       "1457         Lvl    AllPub    Inside  ...        0   None  GdPrv        Shed   \n",
       "1458         Lvl    AllPub    Inside  ...        0   None   None        None   \n",
       "1459         Lvl    AllPub    Inside  ...        0   None   None        None   \n",
       "\n",
       "     MiscVal MoSold  YrSold  SaleType  SaleCondition  SalePrice  \n",
       "0          0      2    2008        WD         Normal     208500  \n",
       "1          0      5    2007        WD         Normal     181500  \n",
       "2          0      9    2008        WD         Normal     223500  \n",
       "3          0      2    2006        WD        Abnorml     140000  \n",
       "4          0     12    2008        WD         Normal     250000  \n",
       "...      ...    ...     ...       ...            ...        ...  \n",
       "1455       0      8    2007        WD         Normal     175000  \n",
       "1456       0      2    2010        WD         Normal     210000  \n",
       "1457    2500      5    2010        WD         Normal     266500  \n",
       "1458       0      4    2010        WD         Normal     142125  \n",
       "1459       0      6    2008        WD         Normal     147500  \n",
       "\n",
       "[1460 rows x 80 columns]"
      ]
     },
     "execution_count": 21,
     "metadata": {},
     "output_type": "execute_result"
    }
   ],
   "source": [
    "all_data_missing"
   ]
  },
  {
   "cell_type": "markdown",
   "id": "9d8a5d0b",
   "metadata": {},
   "source": [
    "#### Encoding"
   ]
  },
  {
   "cell_type": "code",
   "execution_count": 22,
   "id": "05e6f2cd",
   "metadata": {},
   "outputs": [],
   "source": [
    "categorical_cols = all_data_missing.columns[all_data_missing.dtypes == 'object']\n",
    "number_cols = [col for col in all_data_missing.columns if all_data_missing[col].dtype=='int64' or all_data_missing[col].dtype=='float64'] "
   ]
  },
  {
   "cell_type": "code",
   "execution_count": 23,
   "id": "38c3eac5",
   "metadata": {},
   "outputs": [],
   "source": [
    "X_train,X_test,y_train,y_test = train_test_split(all_data_missing.drop('SalePrice',axis = 1),data['SalePrice'],test_size=0.3,random_state=0)"
   ]
  },
  {
   "cell_type": "code",
   "execution_count": 24,
   "id": "31a1d3c8",
   "metadata": {},
   "outputs": [],
   "source": [
    "#Mã hóa số nguyên theo mục tiêu\n",
    "from feature_engine.encoding import OrdinalEncoder\n",
    "variable_ord_ = ['MSZoning','Street','LotShape','LandContour','SaleType','BsmtQual','BsmtCond', 'ExterQual', \n",
    "'ExterCond', 'HeatingQC', 'KitchenQual', 'PoolQC','Condition1', 'Condition2','BsmtExposure', 'BsmtFinType1', 'BsmtFinType2']\n",
    "ord_ = OrdinalEncoder(encoding_method='arbitrary',variables=variable_ord_)\n",
    "X_train = ord_.fit_transform(X_train)\n",
    "X_test = ord_.fit_transform(X_test)"
   ]
  },
  {
   "cell_type": "code",
   "execution_count": 25,
   "id": "3311fc55",
   "metadata": {},
   "outputs": [
    {
     "data": {
      "text/plain": [
       "{'MSZoning': {'RL': 0, 'RM': 1, 'FV': 2, 'RH': 3, 'C (all)': 4},\n",
       " 'Street': {'Pave': 0, 'Grvl': 1},\n",
       " 'LotShape': {'IR1': 0, 'Reg': 1, 'IR2': 2, 'IR3': 3},\n",
       " 'LandContour': {'Lvl': 0, 'Bnk': 1, 'HLS': 2, 'Low': 3},\n",
       " 'SaleType': {'WD': 0,\n",
       "  'New': 1,\n",
       "  'ConLD': 2,\n",
       "  'COD': 3,\n",
       "  'CWD': 4,\n",
       "  'Oth': 5,\n",
       "  'ConLI': 6,\n",
       "  'Con': 7},\n",
       " 'BsmtQual': {'TA': 0, 'Gd': 1, 'Ex': 2, 'Fa': 3},\n",
       " 'BsmtCond': {'TA': 0, 'Gd': 1, 'Fa': 2},\n",
       " 'ExterQual': {'Gd': 0, 'TA': 1, 'Fa': 2, 'Ex': 3},\n",
       " 'ExterCond': {'TA': 0, 'Gd': 1, 'Fa': 2, 'Ex': 3},\n",
       " 'HeatingQC': {'TA': 0, 'Ex': 1, 'Fa': 2, 'Gd': 3},\n",
       " 'KitchenQual': {'TA': 0, 'Fa': 1, 'Gd': 2, 'Ex': 3},\n",
       " 'PoolQC': {'None': 0, 'Ex': 1, 'Fa': 2, 'Gd': 3},\n",
       " 'Condition1': {'Norm': 0,\n",
       "  'Artery': 1,\n",
       "  'RRAn': 2,\n",
       "  'Feedr': 3,\n",
       "  'RRNn': 4,\n",
       "  'PosN': 5,\n",
       "  'RRAe': 6,\n",
       "  'PosA': 7},\n",
       " 'Condition2': {'Norm': 0,\n",
       "  'RRAn': 1,\n",
       "  'RRNn': 2,\n",
       "  'Artery': 3,\n",
       "  'Feedr': 4,\n",
       "  'PosN': 5,\n",
       "  'PosA': 6},\n",
       " 'BsmtExposure': {'No': 0, 'Gd': 1, 'Av': 2, 'Mn': 3},\n",
       " 'BsmtFinType1': {'Rec': 0, 'BLQ': 1, 'LwQ': 2, 'Unf': 3, 'ALQ': 4, 'GLQ': 5},\n",
       " 'BsmtFinType2': {'Unf': 0, 'Rec': 1, 'GLQ': 2, 'ALQ': 3, 'BLQ': 4, 'LwQ': 5}}"
      ]
     },
     "execution_count": 25,
     "metadata": {},
     "output_type": "execute_result"
    }
   ],
   "source": [
    "ord_.encoder_dict_"
   ]
  },
  {
   "cell_type": "code",
   "execution_count": 26,
   "id": "0250b8c2",
   "metadata": {},
   "outputs": [
    {
     "data": {
      "text/html": [
       "<div>\n",
       "<style scoped>\n",
       "    .dataframe tbody tr th:only-of-type {\n",
       "        vertical-align: middle;\n",
       "    }\n",
       "\n",
       "    .dataframe tbody tr th {\n",
       "        vertical-align: top;\n",
       "    }\n",
       "\n",
       "    .dataframe thead th {\n",
       "        text-align: right;\n",
       "    }\n",
       "</style>\n",
       "<table border=\"1\" class=\"dataframe\">\n",
       "  <thead>\n",
       "    <tr style=\"text-align: right;\">\n",
       "      <th></th>\n",
       "      <th>MSSubClass</th>\n",
       "      <th>MSZoning</th>\n",
       "      <th>LotFrontage</th>\n",
       "      <th>LotArea</th>\n",
       "      <th>Street</th>\n",
       "      <th>Alley</th>\n",
       "      <th>LotShape</th>\n",
       "      <th>LandContour</th>\n",
       "      <th>Utilities</th>\n",
       "      <th>LotConfig</th>\n",
       "      <th>...</th>\n",
       "      <th>ScreenPorch</th>\n",
       "      <th>PoolArea</th>\n",
       "      <th>PoolQC</th>\n",
       "      <th>Fence</th>\n",
       "      <th>MiscFeature</th>\n",
       "      <th>MiscVal</th>\n",
       "      <th>MoSold</th>\n",
       "      <th>YrSold</th>\n",
       "      <th>SaleType</th>\n",
       "      <th>SaleCondition</th>\n",
       "    </tr>\n",
       "  </thead>\n",
       "  <tbody>\n",
       "    <tr>\n",
       "      <th>64</th>\n",
       "      <td>60</td>\n",
       "      <td>0</td>\n",
       "      <td>70.0</td>\n",
       "      <td>9375</td>\n",
       "      <td>0</td>\n",
       "      <td>None</td>\n",
       "      <td>0</td>\n",
       "      <td>0</td>\n",
       "      <td>AllPub</td>\n",
       "      <td>Inside</td>\n",
       "      <td>...</td>\n",
       "      <td>0</td>\n",
       "      <td>0</td>\n",
       "      <td>0</td>\n",
       "      <td>GdPrv</td>\n",
       "      <td>None</td>\n",
       "      <td>0</td>\n",
       "      <td>2</td>\n",
       "      <td>2009</td>\n",
       "      <td>0</td>\n",
       "      <td>Normal</td>\n",
       "    </tr>\n",
       "    <tr>\n",
       "      <th>682</th>\n",
       "      <td>120</td>\n",
       "      <td>0</td>\n",
       "      <td>80.0</td>\n",
       "      <td>2887</td>\n",
       "      <td>0</td>\n",
       "      <td>None</td>\n",
       "      <td>0</td>\n",
       "      <td>1</td>\n",
       "      <td>AllPub</td>\n",
       "      <td>Inside</td>\n",
       "      <td>...</td>\n",
       "      <td>0</td>\n",
       "      <td>0</td>\n",
       "      <td>0</td>\n",
       "      <td>None</td>\n",
       "      <td>None</td>\n",
       "      <td>0</td>\n",
       "      <td>11</td>\n",
       "      <td>2008</td>\n",
       "      <td>0</td>\n",
       "      <td>Normal</td>\n",
       "    </tr>\n",
       "    <tr>\n",
       "      <th>960</th>\n",
       "      <td>20</td>\n",
       "      <td>0</td>\n",
       "      <td>50.0</td>\n",
       "      <td>7207</td>\n",
       "      <td>0</td>\n",
       "      <td>None</td>\n",
       "      <td>1</td>\n",
       "      <td>0</td>\n",
       "      <td>AllPub</td>\n",
       "      <td>Inside</td>\n",
       "      <td>...</td>\n",
       "      <td>0</td>\n",
       "      <td>0</td>\n",
       "      <td>0</td>\n",
       "      <td>None</td>\n",
       "      <td>None</td>\n",
       "      <td>0</td>\n",
       "      <td>2</td>\n",
       "      <td>2010</td>\n",
       "      <td>0</td>\n",
       "      <td>Normal</td>\n",
       "    </tr>\n",
       "    <tr>\n",
       "      <th>1384</th>\n",
       "      <td>50</td>\n",
       "      <td>0</td>\n",
       "      <td>60.0</td>\n",
       "      <td>9060</td>\n",
       "      <td>0</td>\n",
       "      <td>None</td>\n",
       "      <td>0</td>\n",
       "      <td>0</td>\n",
       "      <td>AllPub</td>\n",
       "      <td>Inside</td>\n",
       "      <td>...</td>\n",
       "      <td>0</td>\n",
       "      <td>0</td>\n",
       "      <td>0</td>\n",
       "      <td>MnPrv</td>\n",
       "      <td>None</td>\n",
       "      <td>0</td>\n",
       "      <td>10</td>\n",
       "      <td>2009</td>\n",
       "      <td>0</td>\n",
       "      <td>Normal</td>\n",
       "    </tr>\n",
       "    <tr>\n",
       "      <th>1100</th>\n",
       "      <td>30</td>\n",
       "      <td>0</td>\n",
       "      <td>60.0</td>\n",
       "      <td>8400</td>\n",
       "      <td>0</td>\n",
       "      <td>None</td>\n",
       "      <td>0</td>\n",
       "      <td>2</td>\n",
       "      <td>AllPub</td>\n",
       "      <td>Inside</td>\n",
       "      <td>...</td>\n",
       "      <td>0</td>\n",
       "      <td>0</td>\n",
       "      <td>0</td>\n",
       "      <td>None</td>\n",
       "      <td>None</td>\n",
       "      <td>0</td>\n",
       "      <td>1</td>\n",
       "      <td>2009</td>\n",
       "      <td>0</td>\n",
       "      <td>Normal</td>\n",
       "    </tr>\n",
       "    <tr>\n",
       "      <th>...</th>\n",
       "      <td>...</td>\n",
       "      <td>...</td>\n",
       "      <td>...</td>\n",
       "      <td>...</td>\n",
       "      <td>...</td>\n",
       "      <td>...</td>\n",
       "      <td>...</td>\n",
       "      <td>...</td>\n",
       "      <td>...</td>\n",
       "      <td>...</td>\n",
       "      <td>...</td>\n",
       "      <td>...</td>\n",
       "      <td>...</td>\n",
       "      <td>...</td>\n",
       "      <td>...</td>\n",
       "      <td>...</td>\n",
       "      <td>...</td>\n",
       "      <td>...</td>\n",
       "      <td>...</td>\n",
       "      <td>...</td>\n",
       "      <td>...</td>\n",
       "    </tr>\n",
       "    <tr>\n",
       "      <th>763</th>\n",
       "      <td>60</td>\n",
       "      <td>0</td>\n",
       "      <td>82.0</td>\n",
       "      <td>9430</td>\n",
       "      <td>0</td>\n",
       "      <td>None</td>\n",
       "      <td>0</td>\n",
       "      <td>0</td>\n",
       "      <td>AllPub</td>\n",
       "      <td>Inside</td>\n",
       "      <td>...</td>\n",
       "      <td>180</td>\n",
       "      <td>0</td>\n",
       "      <td>0</td>\n",
       "      <td>None</td>\n",
       "      <td>None</td>\n",
       "      <td>0</td>\n",
       "      <td>7</td>\n",
       "      <td>2009</td>\n",
       "      <td>0</td>\n",
       "      <td>Normal</td>\n",
       "    </tr>\n",
       "    <tr>\n",
       "      <th>835</th>\n",
       "      <td>20</td>\n",
       "      <td>0</td>\n",
       "      <td>60.0</td>\n",
       "      <td>9600</td>\n",
       "      <td>0</td>\n",
       "      <td>None</td>\n",
       "      <td>0</td>\n",
       "      <td>0</td>\n",
       "      <td>AllPub</td>\n",
       "      <td>Inside</td>\n",
       "      <td>...</td>\n",
       "      <td>0</td>\n",
       "      <td>0</td>\n",
       "      <td>0</td>\n",
       "      <td>None</td>\n",
       "      <td>None</td>\n",
       "      <td>0</td>\n",
       "      <td>2</td>\n",
       "      <td>2010</td>\n",
       "      <td>0</td>\n",
       "      <td>Normal</td>\n",
       "    </tr>\n",
       "    <tr>\n",
       "      <th>1216</th>\n",
       "      <td>90</td>\n",
       "      <td>1</td>\n",
       "      <td>68.0</td>\n",
       "      <td>8930</td>\n",
       "      <td>0</td>\n",
       "      <td>None</td>\n",
       "      <td>0</td>\n",
       "      <td>0</td>\n",
       "      <td>AllPub</td>\n",
       "      <td>Inside</td>\n",
       "      <td>...</td>\n",
       "      <td>0</td>\n",
       "      <td>0</td>\n",
       "      <td>0</td>\n",
       "      <td>None</td>\n",
       "      <td>None</td>\n",
       "      <td>0</td>\n",
       "      <td>4</td>\n",
       "      <td>2010</td>\n",
       "      <td>0</td>\n",
       "      <td>Normal</td>\n",
       "    </tr>\n",
       "    <tr>\n",
       "      <th>559</th>\n",
       "      <td>120</td>\n",
       "      <td>0</td>\n",
       "      <td>43.0</td>\n",
       "      <td>3196</td>\n",
       "      <td>0</td>\n",
       "      <td>None</td>\n",
       "      <td>0</td>\n",
       "      <td>0</td>\n",
       "      <td>AllPub</td>\n",
       "      <td>Inside</td>\n",
       "      <td>...</td>\n",
       "      <td>0</td>\n",
       "      <td>0</td>\n",
       "      <td>0</td>\n",
       "      <td>None</td>\n",
       "      <td>None</td>\n",
       "      <td>0</td>\n",
       "      <td>10</td>\n",
       "      <td>2006</td>\n",
       "      <td>0</td>\n",
       "      <td>Normal</td>\n",
       "    </tr>\n",
       "    <tr>\n",
       "      <th>684</th>\n",
       "      <td>60</td>\n",
       "      <td>0</td>\n",
       "      <td>58.0</td>\n",
       "      <td>16770</td>\n",
       "      <td>0</td>\n",
       "      <td>None</td>\n",
       "      <td>2</td>\n",
       "      <td>0</td>\n",
       "      <td>AllPub</td>\n",
       "      <td>CulDSac</td>\n",
       "      <td>...</td>\n",
       "      <td>0</td>\n",
       "      <td>0</td>\n",
       "      <td>0</td>\n",
       "      <td>None</td>\n",
       "      <td>None</td>\n",
       "      <td>0</td>\n",
       "      <td>6</td>\n",
       "      <td>2010</td>\n",
       "      <td>0</td>\n",
       "      <td>Normal</td>\n",
       "    </tr>\n",
       "  </tbody>\n",
       "</table>\n",
       "<p>1022 rows × 79 columns</p>\n",
       "</div>"
      ],
      "text/plain": [
       "      MSSubClass  MSZoning  LotFrontage  LotArea  Street Alley  LotShape  \\\n",
       "64            60         0         70.0     9375       0  None         0   \n",
       "682          120         0         80.0     2887       0  None         0   \n",
       "960           20         0         50.0     7207       0  None         1   \n",
       "1384          50         0         60.0     9060       0  None         0   \n",
       "1100          30         0         60.0     8400       0  None         0   \n",
       "...          ...       ...          ...      ...     ...   ...       ...   \n",
       "763           60         0         82.0     9430       0  None         0   \n",
       "835           20         0         60.0     9600       0  None         0   \n",
       "1216          90         1         68.0     8930       0  None         0   \n",
       "559          120         0         43.0     3196       0  None         0   \n",
       "684           60         0         58.0    16770       0  None         2   \n",
       "\n",
       "      LandContour Utilities LotConfig  ... ScreenPorch PoolArea  PoolQC  \\\n",
       "64              0    AllPub    Inside  ...           0        0       0   \n",
       "682             1    AllPub    Inside  ...           0        0       0   \n",
       "960             0    AllPub    Inside  ...           0        0       0   \n",
       "1384            0    AllPub    Inside  ...           0        0       0   \n",
       "1100            2    AllPub    Inside  ...           0        0       0   \n",
       "...           ...       ...       ...  ...         ...      ...     ...   \n",
       "763             0    AllPub    Inside  ...         180        0       0   \n",
       "835             0    AllPub    Inside  ...           0        0       0   \n",
       "1216            0    AllPub    Inside  ...           0        0       0   \n",
       "559             0    AllPub    Inside  ...           0        0       0   \n",
       "684             0    AllPub   CulDSac  ...           0        0       0   \n",
       "\n",
       "      Fence MiscFeature MiscVal  MoSold  YrSold  SaleType  SaleCondition  \n",
       "64    GdPrv        None       0       2    2009         0         Normal  \n",
       "682    None        None       0      11    2008         0         Normal  \n",
       "960    None        None       0       2    2010         0         Normal  \n",
       "1384  MnPrv        None       0      10    2009         0         Normal  \n",
       "1100   None        None       0       1    2009         0         Normal  \n",
       "...     ...         ...     ...     ...     ...       ...            ...  \n",
       "763    None        None       0       7    2009         0         Normal  \n",
       "835    None        None       0       2    2010         0         Normal  \n",
       "1216   None        None       0       4    2010         0         Normal  \n",
       "559    None        None       0      10    2006         0         Normal  \n",
       "684    None        None       0       6    2010         0         Normal  \n",
       "\n",
       "[1022 rows x 79 columns]"
      ]
     },
     "execution_count": 26,
     "metadata": {},
     "output_type": "execute_result"
    }
   ],
   "source": [
    "X_train"
   ]
  },
  {
   "cell_type": "code",
   "execution_count": 27,
   "id": "5eeb3f1d",
   "metadata": {},
   "outputs": [],
   "source": [
    "variable_remaining = [var for var in X_train.columns if var not in variable_ord_]"
   ]
  },
  {
   "cell_type": "code",
   "execution_count": 28,
   "id": "f393e914",
   "metadata": {},
   "outputs": [],
   "source": [
    "categorical_cols = [col for col in variable_remaining if X_train[col].dtype == 'object']\n",
    "number_cols = [col for col in variable_remaining if X_train[col].dtype=='int64' or X_train[col].dtype=='float64'] "
   ]
  },
  {
   "cell_type": "code",
   "execution_count": 29,
   "id": "f8472b81",
   "metadata": {},
   "outputs": [],
   "source": [
    "from feature_engine.encoding import OneHotEncoder as fe_OneHotEncoder"
   ]
  },
  {
   "cell_type": "code",
   "execution_count": 30,
   "id": "effb95e0",
   "metadata": {},
   "outputs": [],
   "source": [
    "ohe_enc = fe_OneHotEncoder(\n",
    "    top_categories=None,\n",
    "    variables=categorical_cols,  \n",
    "    drop_last=True)"
   ]
  },
  {
   "cell_type": "code",
   "execution_count": 31,
   "id": "192d2d80",
   "metadata": {},
   "outputs": [
    {
     "data": {
      "text/plain": [
       "OneHotEncoder(drop_last=True,\n",
       "              variables=['Alley', 'Utilities', 'LotConfig', 'LandSlope',\n",
       "                         'Neighborhood', 'BldgType', 'HouseStyle', 'RoofStyle',\n",
       "                         'RoofMatl', 'Exterior1st', 'Exterior2nd', 'MasVnrType',\n",
       "                         'Foundation', 'Heating', 'CentralAir', 'Electrical',\n",
       "                         'Functional', 'FireplaceQu', 'GarageType',\n",
       "                         'GarageFinish', 'GarageQual', 'GarageCond',\n",
       "                         'PavedDrive', 'Fence', 'MiscFeature',\n",
       "                         'SaleCondition'])"
      ]
     },
     "execution_count": 31,
     "metadata": {},
     "output_type": "execute_result"
    }
   ],
   "source": [
    "ohe_enc.fit(X_train)"
   ]
  },
  {
   "cell_type": "code",
   "execution_count": 32,
   "id": "80a62a12",
   "metadata": {},
   "outputs": [
    {
     "data": {
      "text/plain": [
       "79"
      ]
     },
     "execution_count": 32,
     "metadata": {},
     "output_type": "execute_result"
    }
   ],
   "source": [
    "ohe_enc.n_features_in_"
   ]
  },
  {
   "cell_type": "code",
   "execution_count": 33,
   "id": "4d6f3220",
   "metadata": {},
   "outputs": [],
   "source": [
    "X_train = ohe_enc.transform(X_train)\n",
    "X_test = ohe_enc.transform(X_test)"
   ]
  },
  {
   "cell_type": "code",
   "execution_count": 34,
   "id": "e9a9328a",
   "metadata": {},
   "outputs": [
    {
     "data": {
      "text/html": [
       "<div>\n",
       "<style scoped>\n",
       "    .dataframe tbody tr th:only-of-type {\n",
       "        vertical-align: middle;\n",
       "    }\n",
       "\n",
       "    .dataframe tbody tr th {\n",
       "        vertical-align: top;\n",
       "    }\n",
       "\n",
       "    .dataframe thead th {\n",
       "        text-align: right;\n",
       "    }\n",
       "</style>\n",
       "<table border=\"1\" class=\"dataframe\">\n",
       "  <thead>\n",
       "    <tr style=\"text-align: right;\">\n",
       "      <th></th>\n",
       "      <th>MSSubClass</th>\n",
       "      <th>MSZoning</th>\n",
       "      <th>LotFrontage</th>\n",
       "      <th>LotArea</th>\n",
       "      <th>Street</th>\n",
       "      <th>LotShape</th>\n",
       "      <th>LandContour</th>\n",
       "      <th>Condition1</th>\n",
       "      <th>Condition2</th>\n",
       "      <th>OverallQual</th>\n",
       "      <th>...</th>\n",
       "      <th>Fence_MnPrv</th>\n",
       "      <th>Fence_GdWo</th>\n",
       "      <th>MiscFeature_None</th>\n",
       "      <th>MiscFeature_Shed</th>\n",
       "      <th>MiscFeature_Gar2</th>\n",
       "      <th>SaleCondition_Normal</th>\n",
       "      <th>SaleCondition_Alloca</th>\n",
       "      <th>SaleCondition_Abnorml</th>\n",
       "      <th>SaleCondition_Partial</th>\n",
       "      <th>SaleCondition_AdjLand</th>\n",
       "    </tr>\n",
       "  </thead>\n",
       "  <tbody>\n",
       "    <tr>\n",
       "      <th>64</th>\n",
       "      <td>60</td>\n",
       "      <td>0</td>\n",
       "      <td>70.0</td>\n",
       "      <td>9375</td>\n",
       "      <td>0</td>\n",
       "      <td>0</td>\n",
       "      <td>0</td>\n",
       "      <td>0</td>\n",
       "      <td>0</td>\n",
       "      <td>7</td>\n",
       "      <td>...</td>\n",
       "      <td>0</td>\n",
       "      <td>0</td>\n",
       "      <td>1</td>\n",
       "      <td>0</td>\n",
       "      <td>0</td>\n",
       "      <td>1</td>\n",
       "      <td>0</td>\n",
       "      <td>0</td>\n",
       "      <td>0</td>\n",
       "      <td>0</td>\n",
       "    </tr>\n",
       "    <tr>\n",
       "      <th>682</th>\n",
       "      <td>120</td>\n",
       "      <td>0</td>\n",
       "      <td>80.0</td>\n",
       "      <td>2887</td>\n",
       "      <td>0</td>\n",
       "      <td>0</td>\n",
       "      <td>1</td>\n",
       "      <td>0</td>\n",
       "      <td>0</td>\n",
       "      <td>6</td>\n",
       "      <td>...</td>\n",
       "      <td>0</td>\n",
       "      <td>0</td>\n",
       "      <td>1</td>\n",
       "      <td>0</td>\n",
       "      <td>0</td>\n",
       "      <td>1</td>\n",
       "      <td>0</td>\n",
       "      <td>0</td>\n",
       "      <td>0</td>\n",
       "      <td>0</td>\n",
       "    </tr>\n",
       "    <tr>\n",
       "      <th>960</th>\n",
       "      <td>20</td>\n",
       "      <td>0</td>\n",
       "      <td>50.0</td>\n",
       "      <td>7207</td>\n",
       "      <td>0</td>\n",
       "      <td>1</td>\n",
       "      <td>0</td>\n",
       "      <td>0</td>\n",
       "      <td>0</td>\n",
       "      <td>5</td>\n",
       "      <td>...</td>\n",
       "      <td>0</td>\n",
       "      <td>0</td>\n",
       "      <td>1</td>\n",
       "      <td>0</td>\n",
       "      <td>0</td>\n",
       "      <td>1</td>\n",
       "      <td>0</td>\n",
       "      <td>0</td>\n",
       "      <td>0</td>\n",
       "      <td>0</td>\n",
       "    </tr>\n",
       "    <tr>\n",
       "      <th>1384</th>\n",
       "      <td>50</td>\n",
       "      <td>0</td>\n",
       "      <td>60.0</td>\n",
       "      <td>9060</td>\n",
       "      <td>0</td>\n",
       "      <td>0</td>\n",
       "      <td>0</td>\n",
       "      <td>0</td>\n",
       "      <td>0</td>\n",
       "      <td>6</td>\n",
       "      <td>...</td>\n",
       "      <td>1</td>\n",
       "      <td>0</td>\n",
       "      <td>1</td>\n",
       "      <td>0</td>\n",
       "      <td>0</td>\n",
       "      <td>1</td>\n",
       "      <td>0</td>\n",
       "      <td>0</td>\n",
       "      <td>0</td>\n",
       "      <td>0</td>\n",
       "    </tr>\n",
       "    <tr>\n",
       "      <th>1100</th>\n",
       "      <td>30</td>\n",
       "      <td>0</td>\n",
       "      <td>60.0</td>\n",
       "      <td>8400</td>\n",
       "      <td>0</td>\n",
       "      <td>0</td>\n",
       "      <td>2</td>\n",
       "      <td>0</td>\n",
       "      <td>0</td>\n",
       "      <td>2</td>\n",
       "      <td>...</td>\n",
       "      <td>0</td>\n",
       "      <td>0</td>\n",
       "      <td>1</td>\n",
       "      <td>0</td>\n",
       "      <td>0</td>\n",
       "      <td>1</td>\n",
       "      <td>0</td>\n",
       "      <td>0</td>\n",
       "      <td>0</td>\n",
       "      <td>0</td>\n",
       "    </tr>\n",
       "    <tr>\n",
       "      <th>...</th>\n",
       "      <td>...</td>\n",
       "      <td>...</td>\n",
       "      <td>...</td>\n",
       "      <td>...</td>\n",
       "      <td>...</td>\n",
       "      <td>...</td>\n",
       "      <td>...</td>\n",
       "      <td>...</td>\n",
       "      <td>...</td>\n",
       "      <td>...</td>\n",
       "      <td>...</td>\n",
       "      <td>...</td>\n",
       "      <td>...</td>\n",
       "      <td>...</td>\n",
       "      <td>...</td>\n",
       "      <td>...</td>\n",
       "      <td>...</td>\n",
       "      <td>...</td>\n",
       "      <td>...</td>\n",
       "      <td>...</td>\n",
       "      <td>...</td>\n",
       "    </tr>\n",
       "    <tr>\n",
       "      <th>763</th>\n",
       "      <td>60</td>\n",
       "      <td>0</td>\n",
       "      <td>82.0</td>\n",
       "      <td>9430</td>\n",
       "      <td>0</td>\n",
       "      <td>0</td>\n",
       "      <td>0</td>\n",
       "      <td>0</td>\n",
       "      <td>0</td>\n",
       "      <td>8</td>\n",
       "      <td>...</td>\n",
       "      <td>0</td>\n",
       "      <td>0</td>\n",
       "      <td>1</td>\n",
       "      <td>0</td>\n",
       "      <td>0</td>\n",
       "      <td>1</td>\n",
       "      <td>0</td>\n",
       "      <td>0</td>\n",
       "      <td>0</td>\n",
       "      <td>0</td>\n",
       "    </tr>\n",
       "    <tr>\n",
       "      <th>835</th>\n",
       "      <td>20</td>\n",
       "      <td>0</td>\n",
       "      <td>60.0</td>\n",
       "      <td>9600</td>\n",
       "      <td>0</td>\n",
       "      <td>0</td>\n",
       "      <td>0</td>\n",
       "      <td>0</td>\n",
       "      <td>0</td>\n",
       "      <td>4</td>\n",
       "      <td>...</td>\n",
       "      <td>0</td>\n",
       "      <td>0</td>\n",
       "      <td>1</td>\n",
       "      <td>0</td>\n",
       "      <td>0</td>\n",
       "      <td>1</td>\n",
       "      <td>0</td>\n",
       "      <td>0</td>\n",
       "      <td>0</td>\n",
       "      <td>0</td>\n",
       "    </tr>\n",
       "    <tr>\n",
       "      <th>1216</th>\n",
       "      <td>90</td>\n",
       "      <td>1</td>\n",
       "      <td>68.0</td>\n",
       "      <td>8930</td>\n",
       "      <td>0</td>\n",
       "      <td>0</td>\n",
       "      <td>0</td>\n",
       "      <td>6</td>\n",
       "      <td>0</td>\n",
       "      <td>6</td>\n",
       "      <td>...</td>\n",
       "      <td>0</td>\n",
       "      <td>0</td>\n",
       "      <td>1</td>\n",
       "      <td>0</td>\n",
       "      <td>0</td>\n",
       "      <td>1</td>\n",
       "      <td>0</td>\n",
       "      <td>0</td>\n",
       "      <td>0</td>\n",
       "      <td>0</td>\n",
       "    </tr>\n",
       "    <tr>\n",
       "      <th>559</th>\n",
       "      <td>120</td>\n",
       "      <td>0</td>\n",
       "      <td>43.0</td>\n",
       "      <td>3196</td>\n",
       "      <td>0</td>\n",
       "      <td>0</td>\n",
       "      <td>0</td>\n",
       "      <td>0</td>\n",
       "      <td>0</td>\n",
       "      <td>7</td>\n",
       "      <td>...</td>\n",
       "      <td>0</td>\n",
       "      <td>0</td>\n",
       "      <td>1</td>\n",
       "      <td>0</td>\n",
       "      <td>0</td>\n",
       "      <td>1</td>\n",
       "      <td>0</td>\n",
       "      <td>0</td>\n",
       "      <td>0</td>\n",
       "      <td>0</td>\n",
       "    </tr>\n",
       "    <tr>\n",
       "      <th>684</th>\n",
       "      <td>60</td>\n",
       "      <td>0</td>\n",
       "      <td>58.0</td>\n",
       "      <td>16770</td>\n",
       "      <td>0</td>\n",
       "      <td>2</td>\n",
       "      <td>0</td>\n",
       "      <td>0</td>\n",
       "      <td>0</td>\n",
       "      <td>7</td>\n",
       "      <td>...</td>\n",
       "      <td>0</td>\n",
       "      <td>0</td>\n",
       "      <td>1</td>\n",
       "      <td>0</td>\n",
       "      <td>0</td>\n",
       "      <td>1</td>\n",
       "      <td>0</td>\n",
       "      <td>0</td>\n",
       "      <td>0</td>\n",
       "      <td>0</td>\n",
       "    </tr>\n",
       "  </tbody>\n",
       "</table>\n",
       "<p>1022 rows × 197 columns</p>\n",
       "</div>"
      ],
      "text/plain": [
       "      MSSubClass  MSZoning  LotFrontage  LotArea  Street  LotShape  \\\n",
       "64            60         0         70.0     9375       0         0   \n",
       "682          120         0         80.0     2887       0         0   \n",
       "960           20         0         50.0     7207       0         1   \n",
       "1384          50         0         60.0     9060       0         0   \n",
       "1100          30         0         60.0     8400       0         0   \n",
       "...          ...       ...          ...      ...     ...       ...   \n",
       "763           60         0         82.0     9430       0         0   \n",
       "835           20         0         60.0     9600       0         0   \n",
       "1216          90         1         68.0     8930       0         0   \n",
       "559          120         0         43.0     3196       0         0   \n",
       "684           60         0         58.0    16770       0         2   \n",
       "\n",
       "      LandContour  Condition1  Condition2  OverallQual  ...  Fence_MnPrv  \\\n",
       "64              0           0           0            7  ...            0   \n",
       "682             1           0           0            6  ...            0   \n",
       "960             0           0           0            5  ...            0   \n",
       "1384            0           0           0            6  ...            1   \n",
       "1100            2           0           0            2  ...            0   \n",
       "...           ...         ...         ...          ...  ...          ...   \n",
       "763             0           0           0            8  ...            0   \n",
       "835             0           0           0            4  ...            0   \n",
       "1216            0           6           0            6  ...            0   \n",
       "559             0           0           0            7  ...            0   \n",
       "684             0           0           0            7  ...            0   \n",
       "\n",
       "      Fence_GdWo  MiscFeature_None  MiscFeature_Shed  MiscFeature_Gar2  \\\n",
       "64             0                 1                 0                 0   \n",
       "682            0                 1                 0                 0   \n",
       "960            0                 1                 0                 0   \n",
       "1384           0                 1                 0                 0   \n",
       "1100           0                 1                 0                 0   \n",
       "...          ...               ...               ...               ...   \n",
       "763            0                 1                 0                 0   \n",
       "835            0                 1                 0                 0   \n",
       "1216           0                 1                 0                 0   \n",
       "559            0                 1                 0                 0   \n",
       "684            0                 1                 0                 0   \n",
       "\n",
       "      SaleCondition_Normal  SaleCondition_Alloca  SaleCondition_Abnorml  \\\n",
       "64                       1                     0                      0   \n",
       "682                      1                     0                      0   \n",
       "960                      1                     0                      0   \n",
       "1384                     1                     0                      0   \n",
       "1100                     1                     0                      0   \n",
       "...                    ...                   ...                    ...   \n",
       "763                      1                     0                      0   \n",
       "835                      1                     0                      0   \n",
       "1216                     1                     0                      0   \n",
       "559                      1                     0                      0   \n",
       "684                      1                     0                      0   \n",
       "\n",
       "      SaleCondition_Partial  SaleCondition_AdjLand  \n",
       "64                        0                      0  \n",
       "682                       0                      0  \n",
       "960                       0                      0  \n",
       "1384                      0                      0  \n",
       "1100                      0                      0  \n",
       "...                     ...                    ...  \n",
       "763                       0                      0  \n",
       "835                       0                      0  \n",
       "1216                      0                      0  \n",
       "559                       0                      0  \n",
       "684                       0                      0  \n",
       "\n",
       "[1022 rows x 197 columns]"
      ]
     },
     "execution_count": 34,
     "metadata": {},
     "output_type": "execute_result"
    }
   ],
   "source": [
    "X_train"
   ]
  },
  {
   "cell_type": "code",
   "execution_count": 35,
   "id": "1d2d1564",
   "metadata": {},
   "outputs": [],
   "source": [
    "X_train_drop = X_train.drop(number_cols,axis=1)\n",
    "X_test_drop = X_test.drop(number_cols,axis=1)"
   ]
  },
  {
   "cell_type": "code",
   "execution_count": 36,
   "id": "0d7ecfb1",
   "metadata": {},
   "outputs": [
    {
     "data": {
      "text/html": [
       "<div>\n",
       "<style scoped>\n",
       "    .dataframe tbody tr th:only-of-type {\n",
       "        vertical-align: middle;\n",
       "    }\n",
       "\n",
       "    .dataframe tbody tr th {\n",
       "        vertical-align: top;\n",
       "    }\n",
       "\n",
       "    .dataframe thead th {\n",
       "        text-align: right;\n",
       "    }\n",
       "</style>\n",
       "<table border=\"1\" class=\"dataframe\">\n",
       "  <thead>\n",
       "    <tr style=\"text-align: right;\">\n",
       "      <th></th>\n",
       "      <th>MSZoning</th>\n",
       "      <th>Street</th>\n",
       "      <th>LotShape</th>\n",
       "      <th>LandContour</th>\n",
       "      <th>Condition1</th>\n",
       "      <th>Condition2</th>\n",
       "      <th>ExterQual</th>\n",
       "      <th>ExterCond</th>\n",
       "      <th>BsmtQual</th>\n",
       "      <th>BsmtCond</th>\n",
       "      <th>...</th>\n",
       "      <th>Fence_MnPrv</th>\n",
       "      <th>Fence_GdWo</th>\n",
       "      <th>MiscFeature_None</th>\n",
       "      <th>MiscFeature_Shed</th>\n",
       "      <th>MiscFeature_Gar2</th>\n",
       "      <th>SaleCondition_Normal</th>\n",
       "      <th>SaleCondition_Alloca</th>\n",
       "      <th>SaleCondition_Abnorml</th>\n",
       "      <th>SaleCondition_Partial</th>\n",
       "      <th>SaleCondition_AdjLand</th>\n",
       "    </tr>\n",
       "  </thead>\n",
       "  <tbody>\n",
       "    <tr>\n",
       "      <th>64</th>\n",
       "      <td>0</td>\n",
       "      <td>0</td>\n",
       "      <td>0</td>\n",
       "      <td>0</td>\n",
       "      <td>0</td>\n",
       "      <td>0</td>\n",
       "      <td>0</td>\n",
       "      <td>0</td>\n",
       "      <td>0</td>\n",
       "      <td>0</td>\n",
       "      <td>...</td>\n",
       "      <td>0</td>\n",
       "      <td>0</td>\n",
       "      <td>1</td>\n",
       "      <td>0</td>\n",
       "      <td>0</td>\n",
       "      <td>1</td>\n",
       "      <td>0</td>\n",
       "      <td>0</td>\n",
       "      <td>0</td>\n",
       "      <td>0</td>\n",
       "    </tr>\n",
       "    <tr>\n",
       "      <th>682</th>\n",
       "      <td>0</td>\n",
       "      <td>0</td>\n",
       "      <td>0</td>\n",
       "      <td>1</td>\n",
       "      <td>0</td>\n",
       "      <td>0</td>\n",
       "      <td>0</td>\n",
       "      <td>0</td>\n",
       "      <td>0</td>\n",
       "      <td>0</td>\n",
       "      <td>...</td>\n",
       "      <td>0</td>\n",
       "      <td>0</td>\n",
       "      <td>1</td>\n",
       "      <td>0</td>\n",
       "      <td>0</td>\n",
       "      <td>1</td>\n",
       "      <td>0</td>\n",
       "      <td>0</td>\n",
       "      <td>0</td>\n",
       "      <td>0</td>\n",
       "    </tr>\n",
       "    <tr>\n",
       "      <th>960</th>\n",
       "      <td>0</td>\n",
       "      <td>0</td>\n",
       "      <td>1</td>\n",
       "      <td>0</td>\n",
       "      <td>0</td>\n",
       "      <td>0</td>\n",
       "      <td>0</td>\n",
       "      <td>1</td>\n",
       "      <td>1</td>\n",
       "      <td>0</td>\n",
       "      <td>...</td>\n",
       "      <td>0</td>\n",
       "      <td>0</td>\n",
       "      <td>1</td>\n",
       "      <td>0</td>\n",
       "      <td>0</td>\n",
       "      <td>1</td>\n",
       "      <td>0</td>\n",
       "      <td>0</td>\n",
       "      <td>0</td>\n",
       "      <td>0</td>\n",
       "    </tr>\n",
       "    <tr>\n",
       "      <th>1384</th>\n",
       "      <td>0</td>\n",
       "      <td>0</td>\n",
       "      <td>0</td>\n",
       "      <td>0</td>\n",
       "      <td>0</td>\n",
       "      <td>0</td>\n",
       "      <td>0</td>\n",
       "      <td>0</td>\n",
       "      <td>1</td>\n",
       "      <td>0</td>\n",
       "      <td>...</td>\n",
       "      <td>1</td>\n",
       "      <td>0</td>\n",
       "      <td>1</td>\n",
       "      <td>0</td>\n",
       "      <td>0</td>\n",
       "      <td>1</td>\n",
       "      <td>0</td>\n",
       "      <td>0</td>\n",
       "      <td>0</td>\n",
       "      <td>0</td>\n",
       "    </tr>\n",
       "    <tr>\n",
       "      <th>1100</th>\n",
       "      <td>0</td>\n",
       "      <td>0</td>\n",
       "      <td>0</td>\n",
       "      <td>2</td>\n",
       "      <td>0</td>\n",
       "      <td>0</td>\n",
       "      <td>0</td>\n",
       "      <td>0</td>\n",
       "      <td>1</td>\n",
       "      <td>1</td>\n",
       "      <td>...</td>\n",
       "      <td>0</td>\n",
       "      <td>0</td>\n",
       "      <td>1</td>\n",
       "      <td>0</td>\n",
       "      <td>0</td>\n",
       "      <td>1</td>\n",
       "      <td>0</td>\n",
       "      <td>0</td>\n",
       "      <td>0</td>\n",
       "      <td>0</td>\n",
       "    </tr>\n",
       "    <tr>\n",
       "      <th>...</th>\n",
       "      <td>...</td>\n",
       "      <td>...</td>\n",
       "      <td>...</td>\n",
       "      <td>...</td>\n",
       "      <td>...</td>\n",
       "      <td>...</td>\n",
       "      <td>...</td>\n",
       "      <td>...</td>\n",
       "      <td>...</td>\n",
       "      <td>...</td>\n",
       "      <td>...</td>\n",
       "      <td>...</td>\n",
       "      <td>...</td>\n",
       "      <td>...</td>\n",
       "      <td>...</td>\n",
       "      <td>...</td>\n",
       "      <td>...</td>\n",
       "      <td>...</td>\n",
       "      <td>...</td>\n",
       "      <td>...</td>\n",
       "      <td>...</td>\n",
       "    </tr>\n",
       "    <tr>\n",
       "      <th>763</th>\n",
       "      <td>0</td>\n",
       "      <td>0</td>\n",
       "      <td>0</td>\n",
       "      <td>0</td>\n",
       "      <td>0</td>\n",
       "      <td>0</td>\n",
       "      <td>1</td>\n",
       "      <td>0</td>\n",
       "      <td>0</td>\n",
       "      <td>0</td>\n",
       "      <td>...</td>\n",
       "      <td>0</td>\n",
       "      <td>0</td>\n",
       "      <td>1</td>\n",
       "      <td>0</td>\n",
       "      <td>0</td>\n",
       "      <td>1</td>\n",
       "      <td>0</td>\n",
       "      <td>0</td>\n",
       "      <td>0</td>\n",
       "      <td>0</td>\n",
       "    </tr>\n",
       "    <tr>\n",
       "      <th>835</th>\n",
       "      <td>0</td>\n",
       "      <td>0</td>\n",
       "      <td>0</td>\n",
       "      <td>0</td>\n",
       "      <td>0</td>\n",
       "      <td>0</td>\n",
       "      <td>0</td>\n",
       "      <td>0</td>\n",
       "      <td>0</td>\n",
       "      <td>0</td>\n",
       "      <td>...</td>\n",
       "      <td>0</td>\n",
       "      <td>0</td>\n",
       "      <td>1</td>\n",
       "      <td>0</td>\n",
       "      <td>0</td>\n",
       "      <td>1</td>\n",
       "      <td>0</td>\n",
       "      <td>0</td>\n",
       "      <td>0</td>\n",
       "      <td>0</td>\n",
       "    </tr>\n",
       "    <tr>\n",
       "      <th>1216</th>\n",
       "      <td>1</td>\n",
       "      <td>0</td>\n",
       "      <td>0</td>\n",
       "      <td>0</td>\n",
       "      <td>6</td>\n",
       "      <td>0</td>\n",
       "      <td>0</td>\n",
       "      <td>0</td>\n",
       "      <td>1</td>\n",
       "      <td>0</td>\n",
       "      <td>...</td>\n",
       "      <td>0</td>\n",
       "      <td>0</td>\n",
       "      <td>1</td>\n",
       "      <td>0</td>\n",
       "      <td>0</td>\n",
       "      <td>1</td>\n",
       "      <td>0</td>\n",
       "      <td>0</td>\n",
       "      <td>0</td>\n",
       "      <td>0</td>\n",
       "    </tr>\n",
       "    <tr>\n",
       "      <th>559</th>\n",
       "      <td>0</td>\n",
       "      <td>0</td>\n",
       "      <td>0</td>\n",
       "      <td>0</td>\n",
       "      <td>0</td>\n",
       "      <td>0</td>\n",
       "      <td>1</td>\n",
       "      <td>0</td>\n",
       "      <td>0</td>\n",
       "      <td>0</td>\n",
       "      <td>...</td>\n",
       "      <td>0</td>\n",
       "      <td>0</td>\n",
       "      <td>1</td>\n",
       "      <td>0</td>\n",
       "      <td>0</td>\n",
       "      <td>1</td>\n",
       "      <td>0</td>\n",
       "      <td>0</td>\n",
       "      <td>0</td>\n",
       "      <td>0</td>\n",
       "    </tr>\n",
       "    <tr>\n",
       "      <th>684</th>\n",
       "      <td>0</td>\n",
       "      <td>0</td>\n",
       "      <td>2</td>\n",
       "      <td>0</td>\n",
       "      <td>0</td>\n",
       "      <td>0</td>\n",
       "      <td>1</td>\n",
       "      <td>0</td>\n",
       "      <td>0</td>\n",
       "      <td>0</td>\n",
       "      <td>...</td>\n",
       "      <td>0</td>\n",
       "      <td>0</td>\n",
       "      <td>1</td>\n",
       "      <td>0</td>\n",
       "      <td>0</td>\n",
       "      <td>1</td>\n",
       "      <td>0</td>\n",
       "      <td>0</td>\n",
       "      <td>0</td>\n",
       "      <td>0</td>\n",
       "    </tr>\n",
       "  </tbody>\n",
       "</table>\n",
       "<p>1022 rows × 161 columns</p>\n",
       "</div>"
      ],
      "text/plain": [
       "      MSZoning  Street  LotShape  LandContour  Condition1  Condition2  \\\n",
       "64           0       0         0            0           0           0   \n",
       "682          0       0         0            1           0           0   \n",
       "960          0       0         1            0           0           0   \n",
       "1384         0       0         0            0           0           0   \n",
       "1100         0       0         0            2           0           0   \n",
       "...        ...     ...       ...          ...         ...         ...   \n",
       "763          0       0         0            0           0           0   \n",
       "835          0       0         0            0           0           0   \n",
       "1216         1       0         0            0           6           0   \n",
       "559          0       0         0            0           0           0   \n",
       "684          0       0         2            0           0           0   \n",
       "\n",
       "      ExterQual  ExterCond  BsmtQual  BsmtCond  ...  Fence_MnPrv  Fence_GdWo  \\\n",
       "64            0          0         0         0  ...            0           0   \n",
       "682           0          0         0         0  ...            0           0   \n",
       "960           0          1         1         0  ...            0           0   \n",
       "1384          0          0         1         0  ...            1           0   \n",
       "1100          0          0         1         1  ...            0           0   \n",
       "...         ...        ...       ...       ...  ...          ...         ...   \n",
       "763           1          0         0         0  ...            0           0   \n",
       "835           0          0         0         0  ...            0           0   \n",
       "1216          0          0         1         0  ...            0           0   \n",
       "559           1          0         0         0  ...            0           0   \n",
       "684           1          0         0         0  ...            0           0   \n",
       "\n",
       "      MiscFeature_None  MiscFeature_Shed  MiscFeature_Gar2  \\\n",
       "64                   1                 0                 0   \n",
       "682                  1                 0                 0   \n",
       "960                  1                 0                 0   \n",
       "1384                 1                 0                 0   \n",
       "1100                 1                 0                 0   \n",
       "...                ...               ...               ...   \n",
       "763                  1                 0                 0   \n",
       "835                  1                 0                 0   \n",
       "1216                 1                 0                 0   \n",
       "559                  1                 0                 0   \n",
       "684                  1                 0                 0   \n",
       "\n",
       "      SaleCondition_Normal  SaleCondition_Alloca  SaleCondition_Abnorml  \\\n",
       "64                       1                     0                      0   \n",
       "682                      1                     0                      0   \n",
       "960                      1                     0                      0   \n",
       "1384                     1                     0                      0   \n",
       "1100                     1                     0                      0   \n",
       "...                    ...                   ...                    ...   \n",
       "763                      1                     0                      0   \n",
       "835                      1                     0                      0   \n",
       "1216                     1                     0                      0   \n",
       "559                      1                     0                      0   \n",
       "684                      1                     0                      0   \n",
       "\n",
       "      SaleCondition_Partial  SaleCondition_AdjLand  \n",
       "64                        0                      0  \n",
       "682                       0                      0  \n",
       "960                       0                      0  \n",
       "1384                      0                      0  \n",
       "1100                      0                      0  \n",
       "...                     ...                    ...  \n",
       "763                       0                      0  \n",
       "835                       0                      0  \n",
       "1216                      0                      0  \n",
       "559                       0                      0  \n",
       "684                       0                      0  \n",
       "\n",
       "[1022 rows x 161 columns]"
      ]
     },
     "execution_count": 36,
     "metadata": {},
     "output_type": "execute_result"
    }
   ],
   "source": [
    "X_train_drop"
   ]
  },
  {
   "cell_type": "markdown",
   "id": "e33acc48",
   "metadata": {},
   "source": [
    "#### Scale Data"
   ]
  },
  {
   "cell_type": "code",
   "execution_count": 37,
   "id": "65127732",
   "metadata": {},
   "outputs": [],
   "source": [
    "scale = StandardScaler()\n",
    "data_scale_train = scale.fit_transform(X_train[number_cols])\n",
    "data_scale_test = scale.fit_transform(X_test[number_cols])"
   ]
  },
  {
   "cell_type": "code",
   "execution_count": 38,
   "id": "76f4af9e",
   "metadata": {},
   "outputs": [],
   "source": [
    "t_dataframe = pd.DataFrame(data_scale_train,columns=number_cols)\n",
    "te_dataframe =  pd.DataFrame(data_scale_test,columns=number_cols)"
   ]
  },
  {
   "cell_type": "code",
   "execution_count": 39,
   "id": "9534e320",
   "metadata": {},
   "outputs": [],
   "source": [
    "X_train_ = pd.DataFrame(np.concatenate([t_dataframe,X_train_drop],axis = 1),columns=X_train.columns)\n",
    "X_test_ = pd.DataFrame(np.concatenate([te_dataframe,X_test_drop],axis = 1),columns=X_test.columns)"
   ]
  },
  {
   "cell_type": "code",
   "execution_count": 40,
   "id": "1f7a764c",
   "metadata": {},
   "outputs": [
    {
     "data": {
      "text/plain": [
       "((1022, 197), (438, 197))"
      ]
     },
     "execution_count": 40,
     "metadata": {},
     "output_type": "execute_result"
    }
   ],
   "source": [
    "X_train_.shape,X_test_.shape"
   ]
  },
  {
   "cell_type": "markdown",
   "id": "fbd6f19d",
   "metadata": {},
   "source": [
    "#### Select features"
   ]
  },
  {
   "cell_type": "markdown",
   "id": "c00c85a6",
   "metadata": {},
   "source": [
    "##### Lựa chon đặc trưng:  Xóa các Features trùng nhau, không thay đổi"
   ]
  },
  {
   "cell_type": "code",
   "execution_count": 41,
   "id": "a924dda6",
   "metadata": {},
   "outputs": [
    {
     "data": {
      "text/plain": [
       "DropConstantFeatures()"
      ]
     },
     "execution_count": 41,
     "metadata": {},
     "output_type": "execute_result"
    }
   ],
   "source": [
    "dropfeatures = DropConstantFeatures(variables=None, missing_values='raise')\n",
    "dropfeatures.fit(X_train_)"
   ]
  },
  {
   "cell_type": "code",
   "execution_count": 42,
   "id": "2d89c0fd",
   "metadata": {},
   "outputs": [
    {
     "data": {
      "text/plain": [
       "[]"
      ]
     },
     "execution_count": 42,
     "metadata": {},
     "output_type": "execute_result"
    }
   ],
   "source": [
    "dropfeatures.features_to_drop_"
   ]
  },
  {
   "cell_type": "code",
   "execution_count": 43,
   "id": "7070c140",
   "metadata": {},
   "outputs": [
    {
     "data": {
      "text/plain": [
       "197"
      ]
     },
     "execution_count": 43,
     "metadata": {},
     "output_type": "execute_result"
    }
   ],
   "source": [
    "dropfeatures.n_features_in_"
   ]
  },
  {
   "cell_type": "code",
   "execution_count": 44,
   "id": "89437281",
   "metadata": {},
   "outputs": [
    {
     "data": {
      "text/plain": [
       "DropDuplicateFeatures(missing_values='raise')"
      ]
     },
     "execution_count": 44,
     "metadata": {},
     "output_type": "execute_result"
    }
   ],
   "source": [
    "dropfeatures = DropDuplicateFeatures(variables=None, missing_values='raise')\n",
    "dropfeatures.fit(X_train_)"
   ]
  },
  {
   "cell_type": "code",
   "execution_count": 45,
   "id": "b741257c",
   "metadata": {},
   "outputs": [
    {
     "data": {
      "text/plain": [
       "{'Exterior2nd_AsphShn',\n",
       " 'Exterior2nd_CBlock',\n",
       " 'GarageCond_None',\n",
       " 'GarageFinish_None',\n",
       " 'GarageQual_None'}"
      ]
     },
     "execution_count": 45,
     "metadata": {},
     "output_type": "execute_result"
    }
   ],
   "source": [
    "dropfeatures.features_to_drop_"
   ]
  },
  {
   "cell_type": "code",
   "execution_count": 46,
   "id": "458a57d7",
   "metadata": {},
   "outputs": [
    {
     "data": {
      "text/plain": [
       "[{'Exterior1st_AsphShn', 'Exterior2nd_AsphShn'},\n",
       " {'Exterior1st_CBlock', 'Exterior2nd_CBlock'},\n",
       " {'GarageCond_None',\n",
       "  'GarageFinish_None',\n",
       "  'GarageQual_None',\n",
       "  'GarageType_None'}]"
      ]
     },
     "execution_count": 46,
     "metadata": {},
     "output_type": "execute_result"
    }
   ],
   "source": [
    "dropfeatures.duplicated_feature_sets_"
   ]
  },
  {
   "cell_type": "code",
   "execution_count": 47,
   "id": "64e8637e",
   "metadata": {},
   "outputs": [],
   "source": [
    "X_train = dropfeatures.transform(X_train_)\n",
    "X_test = dropfeatures.transform(X_test_)"
   ]
  },
  {
   "cell_type": "code",
   "execution_count": 48,
   "id": "5b7da307",
   "metadata": {},
   "outputs": [
    {
     "data": {
      "text/plain": [
       "((1022, 192), (438, 192))"
      ]
     },
     "execution_count": 48,
     "metadata": {},
     "output_type": "execute_result"
    }
   ],
   "source": [
    "X_train.shape,X_test.shape"
   ]
  },
  {
   "cell_type": "markdown",
   "id": "f70f8bd6",
   "metadata": {},
   "source": [
    "##### Lựa chọn đặc trưng theo model Lasso"
   ]
  },
  {
   "cell_type": "code",
   "execution_count": 49,
   "id": "0c3c46b0",
   "metadata": {},
   "outputs": [
    {
     "name": "stderr",
     "output_type": "stream",
     "text": [
      "C:\\ProgramData\\Anaconda3\\lib\\site-packages\\sklearn\\linear_model\\_coordinate_descent.py:530: ConvergenceWarning: Objective did not converge. You might want to increase the number of iterations. Duality gap: 140936923592.2673, tolerance: 500724925.9023501\n",
      "  model = cd_fast.enet_coordinate_descent(\n",
      "C:\\ProgramData\\Anaconda3\\lib\\site-packages\\sklearn\\linear_model\\_coordinate_descent.py:530: ConvergenceWarning: Objective did not converge. You might want to increase the number of iterations. Duality gap: 161605656159.92526, tolerance: 485030198.0440296\n",
      "  model = cd_fast.enet_coordinate_descent(\n",
      "C:\\ProgramData\\Anaconda3\\lib\\site-packages\\sklearn\\linear_model\\_coordinate_descent.py:530: ConvergenceWarning: Objective did not converge. You might want to increase the number of iterations. Duality gap: 179262893692.09973, tolerance: 458893202.3544333\n",
      "  model = cd_fast.enet_coordinate_descent(\n",
      "C:\\ProgramData\\Anaconda3\\lib\\site-packages\\sklearn\\linear_model\\_coordinate_descent.py:530: ConvergenceWarning: Objective did not converge. You might want to increase the number of iterations. Duality gap: 183810720342.37964, tolerance: 518126867.364776\n",
      "  model = cd_fast.enet_coordinate_descent(\n",
      "C:\\ProgramData\\Anaconda3\\lib\\site-packages\\sklearn\\linear_model\\_coordinate_descent.py:530: ConvergenceWarning: Objective did not converge. You might want to increase the number of iterations. Duality gap: 199172052746.17044, tolerance: 529288351.3041684\n",
      "  model = cd_fast.enet_coordinate_descent(\n",
      "C:\\ProgramData\\Anaconda3\\lib\\site-packages\\sklearn\\linear_model\\_coordinate_descent.py:530: ConvergenceWarning: Objective did not converge. You might want to increase the number of iterations. Duality gap: 93333140690.62062, tolerance: 500724925.9023501\n",
      "  model = cd_fast.enet_coordinate_descent(\n",
      "C:\\ProgramData\\Anaconda3\\lib\\site-packages\\sklearn\\linear_model\\_coordinate_descent.py:530: ConvergenceWarning: Objective did not converge. You might want to increase the number of iterations. Duality gap: 134098154179.41821, tolerance: 485030198.0440296\n",
      "  model = cd_fast.enet_coordinate_descent(\n",
      "C:\\ProgramData\\Anaconda3\\lib\\site-packages\\sklearn\\linear_model\\_coordinate_descent.py:530: ConvergenceWarning: Objective did not converge. You might want to increase the number of iterations. Duality gap: 45286458141.42624, tolerance: 458893202.3544333\n",
      "  model = cd_fast.enet_coordinate_descent(\n",
      "C:\\ProgramData\\Anaconda3\\lib\\site-packages\\sklearn\\linear_model\\_coordinate_descent.py:530: ConvergenceWarning: Objective did not converge. You might want to increase the number of iterations. Duality gap: 120370445720.99017, tolerance: 518126867.364776\n",
      "  model = cd_fast.enet_coordinate_descent(\n",
      "C:\\ProgramData\\Anaconda3\\lib\\site-packages\\sklearn\\linear_model\\_coordinate_descent.py:530: ConvergenceWarning: Objective did not converge. You might want to increase the number of iterations. Duality gap: 106846281897.13823, tolerance: 529288351.3041684\n",
      "  model = cd_fast.enet_coordinate_descent(\n",
      "C:\\ProgramData\\Anaconda3\\lib\\site-packages\\sklearn\\linear_model\\_coordinate_descent.py:530: ConvergenceWarning: Objective did not converge. You might want to increase the number of iterations. Duality gap: 1156554112.9899902, tolerance: 500724925.9023501\n",
      "  model = cd_fast.enet_coordinate_descent(\n",
      "C:\\ProgramData\\Anaconda3\\lib\\site-packages\\sklearn\\linear_model\\_coordinate_descent.py:530: ConvergenceWarning: Objective did not converge. You might want to increase the number of iterations. Duality gap: 1070516244.8445435, tolerance: 485030198.0440296\n",
      "  model = cd_fast.enet_coordinate_descent(\n",
      "C:\\ProgramData\\Anaconda3\\lib\\site-packages\\sklearn\\linear_model\\_coordinate_descent.py:530: ConvergenceWarning: Objective did not converge. You might want to increase the number of iterations. Duality gap: 1549684931.6194458, tolerance: 529288351.3041684\n",
      "  model = cd_fast.enet_coordinate_descent(\n"
     ]
    },
    {
     "data": {
      "text/plain": [
       "GridSearchCV(estimator=Lasso(), param_grid={'alpha': [0.01, 1, 10, 100]},\n",
       "             scoring='r2')"
      ]
     },
     "execution_count": 49,
     "metadata": {},
     "output_type": "execute_result"
    }
   ],
   "source": [
    "parameters = {'alpha':[0.01, 1, 10, 100]}\n",
    "model = Lasso()\n",
    "clf = GridSearchCV(model,parameters,scoring='r2')\n",
    "clf.fit(X_train_,y_train)"
   ]
  },
  {
   "cell_type": "code",
   "execution_count": 50,
   "id": "5b953cb1",
   "metadata": {},
   "outputs": [
    {
     "data": {
      "text/plain": [
       "{'alpha': 100}"
      ]
     },
     "execution_count": 50,
     "metadata": {},
     "output_type": "execute_result"
    }
   ],
   "source": [
    "clf.best_params_"
   ]
  },
  {
   "cell_type": "code",
   "execution_count": 51,
   "id": "a9dc1272",
   "metadata": {},
   "outputs": [],
   "source": [
    "model_lasso = SelectFromModel(Lasso(alpha=clf.best_params_['alpha'])).fit(X_train_,y_train)"
   ]
  },
  {
   "cell_type": "code",
   "execution_count": 52,
   "id": "0084d6ec",
   "metadata": {},
   "outputs": [
    {
     "data": {
      "text/plain": [
       "Index(['MSSubClass', 'MSZoning', 'LotFrontage', 'LotArea', 'Street',\n",
       "       'LotShape', 'LandContour', 'Condition1', 'Condition2', 'OverallQual',\n",
       "       'YearBuilt', 'MasVnrArea', 'ExterQual', 'ExterCond', 'BsmtQual',\n",
       "       'BsmtCond', 'BsmtExposure', 'BsmtFinType1', 'BsmtFinSF1',\n",
       "       'BsmtFinType2', 'BsmtFinSF2', 'BsmtUnfSF', 'TotalBsmtSF', 'HeatingQC',\n",
       "       '1stFlrSF', '2ndFlrSF', 'LowQualFinSF', 'GrLivArea', 'BsmtFullBath',\n",
       "       'BsmtHalfBath', 'FullBath', 'HalfBath', 'BedroomAbvGr', 'KitchenQual',\n",
       "       'TotRmsAbvGrd', 'Fireplaces', 'GarageYrBlt', 'GarageCars', 'GarageArea',\n",
       "       'WoodDeckSF', 'OpenPorchSF', 'EnclosedPorch', '3SsnPorch',\n",
       "       'ScreenPorch', 'PoolArea', 'PoolQC', 'MiscVal', 'MoSold', 'SaleType',\n",
       "       'LotConfig_CulDSac', 'LotConfig_FR2', 'LandSlope_Mod',\n",
       "       'Neighborhood_BrkSide', 'Neighborhood_Edwards', 'Neighborhood_Sawyer',\n",
       "       'Neighborhood_Crawfor', 'Neighborhood_NAmes', 'Neighborhood_Mitchel',\n",
       "       'Neighborhood_Gilbert', 'Neighborhood_Somerst', 'Neighborhood_NWAmes',\n",
       "       'Neighborhood_NridgHt', 'Neighborhood_NoRidge', 'Neighborhood_IDOTRR',\n",
       "       'Neighborhood_StoneBr', 'BldgType_1Fam', 'BldgType_Twnhs',\n",
       "       'HouseStyle_2Story', 'RoofStyle_Gable', 'RoofStyle_Shed',\n",
       "       'RoofMatl_WdShngl', 'Exterior1st_VinylSd', 'Exterior1st_Wd Sdng',\n",
       "       'Exterior1st_BrkFace', 'Exterior1st_CemntBd', 'Exterior1st_Stucco',\n",
       "       'Exterior2nd_Wd Shng', 'MasVnrType_BrkFace', 'MasVnrType_None',\n",
       "       'MasVnrType_Stone', 'Foundation_PConc', 'Foundation_BrkTil',\n",
       "       'Electrical_SBrkr', 'Electrical_FuseF', 'Functional_Typ',\n",
       "       'FireplaceQu_None', 'FireplaceQu_Gd', 'FireplaceQu_Fa',\n",
       "       'GarageType_Attchd', 'GarageType_BuiltIn', 'GarageFinish_RFn',\n",
       "       'Fence_None', 'SaleCondition_Abnorml', 'SaleCondition_Partial'],\n",
       "      dtype='object')"
      ]
     },
     "execution_count": 52,
     "metadata": {},
     "output_type": "execute_result"
    }
   ],
   "source": [
    "selected_feat = X_train_.columns[(model_lasso.get_support())]\n",
    "selected_feat "
   ]
  },
  {
   "cell_type": "code",
   "execution_count": 53,
   "id": "a68f55fd",
   "metadata": {},
   "outputs": [],
   "source": [
    "X_train_lasso = X_train_[selected_feat]\n",
    "X_test_lasso = X_test[selected_feat]"
   ]
  },
  {
   "cell_type": "code",
   "execution_count": 54,
   "id": "c5ee9098",
   "metadata": {},
   "outputs": [
    {
     "data": {
      "text/plain": [
       "((1022, 94), (438, 94))"
      ]
     },
     "execution_count": 54,
     "metadata": {},
     "output_type": "execute_result"
    }
   ],
   "source": [
    "X_train_lasso.shape,X_test_lasso.shape"
   ]
  },
  {
   "cell_type": "markdown",
   "id": "18abc984",
   "metadata": {},
   "source": [
    "##### Lựa chọn đặc trưng theo phương pháp loại bỏ đặc trưng đệ quy"
   ]
  },
  {
   "cell_type": "code",
   "execution_count": 55,
   "id": "b9b99ba0",
   "metadata": {},
   "outputs": [
    {
     "data": {
      "text/plain": [
       "RecursiveFeatureElimination(cv=5,\n",
       "                            estimator=GradientBoostingRegressor(max_depth=4,\n",
       "                                                                n_estimators=10,\n",
       "                                                                random_state=0),\n",
       "                            scoring='r2', threshold=0.001)"
      ]
     },
     "execution_count": 55,
     "metadata": {},
     "output_type": "execute_result"
    }
   ],
   "source": [
    "model = GradientBoostingRegressor(n_estimators = 10,max_depth=4,random_state=0)\n",
    "sel = RecursiveFeatureElimination(\n",
    "    estimator= model,\n",
    "    scoring= 'r2',\n",
    "    threshold = .001,\n",
    "    cv = 5\n",
    "    )\n",
    "sel.fit(X_train_,y_train)"
   ]
  },
  {
   "cell_type": "code",
   "execution_count": 56,
   "id": "3fd55cde",
   "metadata": {},
   "outputs": [
    {
     "data": {
      "text/plain": [
       "<AxesSubplot:>"
      ]
     },
     "execution_count": 56,
     "metadata": {},
     "output_type": "execute_result"
    },
    {
     "data": {
      "image/png": "[encoded data removed]",
      "text/plain": [
       "<Figure size 2160x432 with 1 Axes>"
      ]
     },
     "metadata": {
      "needs_background": "light"
     },
     "output_type": "display_data"
    }
   ],
   "source": [
    "sel.feature_importances_.plot.bar(figsize=(30,6))"
   ]
  },
  {
   "cell_type": "code",
   "execution_count": 57,
   "id": "bca99244",
   "metadata": {},
   "outputs": [
    {
     "data": {
      "text/plain": [
       "['MSZoning',\n",
       " 'BsmtFinSF1',\n",
       " 'BsmtFinType2',\n",
       " '1stFlrSF',\n",
       " 'BedroomAbvGr',\n",
       " 'KitchenAbvGr',\n",
       " 'KitchenQual',\n",
       " 'WoodDeckSF',\n",
       " 'MiscVal',\n",
       " 'Alley_Pave',\n",
       " 'LandSlope_Gtl',\n",
       " 'Neighborhood_NWAmes',\n",
       " 'HouseStyle_SLvl',\n",
       " 'RoofStyle_Hip',\n",
       " 'Exterior2nd_HdBoard',\n",
       " 'Exterior2nd_BrkFace',\n",
       " 'Exterior2nd_Stucco',\n",
       " 'Heating_GasA',\n",
       " 'Heating_Wall',\n",
       " 'Electrical_SBrkr',\n",
       " 'Electrical_FuseP',\n",
       " 'Functional_Min2',\n",
       " 'GarageType_Attchd',\n",
       " 'GarageFinish_RFn',\n",
       " 'SaleCondition_Partial']"
      ]
     },
     "execution_count": 57,
     "metadata": {},
     "output_type": "execute_result"
    }
   ],
   "source": [
    "sel.features_to_drop_"
   ]
  },
  {
   "cell_type": "code",
   "execution_count": 58,
   "id": "2464b36b",
   "metadata": {},
   "outputs": [],
   "source": [
    "X_train_FeatureElimination = sel.transform(X_train_)\n",
    "X_test_FeatureElimination = sel.transform(X_test_)"
   ]
  },
  {
   "cell_type": "code",
   "execution_count": 59,
   "id": "80ca32ed",
   "metadata": {},
   "outputs": [
    {
     "data": {
      "text/plain": [
       "((1022, 172), (438, 172))"
      ]
     },
     "execution_count": 59,
     "metadata": {},
     "output_type": "execute_result"
    }
   ],
   "source": [
    "X_train_FeatureElimination.shape,X_test_FeatureElimination.shape"
   ]
  },
  {
   "cell_type": "markdown",
   "id": "bc9b428a",
   "metadata": {},
   "source": [
    "##### Lựa chọn đặc trưng bằng cách thêm đặc trưng đệ quy"
   ]
  },
  {
   "cell_type": "code",
   "execution_count": 60,
   "id": "3e3a80eb",
   "metadata": {},
   "outputs": [
    {
     "data": {
      "text/plain": [
       "RecursiveFeatureAddition(cv=5,\n",
       "                         estimator=GradientBoostingRegressor(max_depth=2,\n",
       "                                                             n_estimators=10,\n",
       "                                                             random_state=10),\n",
       "                         scoring='r2', threshold=0.001)"
      ]
     },
     "execution_count": 60,
     "metadata": {},
     "output_type": "execute_result"
    }
   ],
   "source": [
    "model = GradientBoostingRegressor(n_estimators = 10,max_depth=2,random_state=10)\n",
    "rfa = RecursiveFeatureAddition(\n",
    "    estimator= model,\n",
    "    scoring= 'r2',\n",
    "    threshold = .001,\n",
    "    cv = 5\n",
    "    )\n",
    "rfa.fit(X_train_,y_train)"
   ]
  },
  {
   "cell_type": "code",
   "execution_count": 61,
   "id": "4527dc33",
   "metadata": {},
   "outputs": [
    {
     "data": {
      "text/plain": [
       "<AxesSubplot:>"
      ]
     },
     "execution_count": 61,
     "metadata": {},
     "output_type": "execute_result"
    },
    {
     "data": {
      "image/png": "[encoded data removed]",
      "text/plain": [
       "<Figure size 2160x504 with 1 Axes>"
      ]
     },
     "metadata": {
      "needs_background": "light"
     },
     "output_type": "display_data"
    }
   ],
   "source": [
    "rfa.feature_importances_.plot.bar(figsize = (30,7))"
   ]
  },
  {
   "cell_type": "code",
   "execution_count": 62,
   "id": "e51ded35",
   "metadata": {},
   "outputs": [
    {
     "data": {
      "text/plain": [
       "<AxesSubplot:>"
      ]
     },
     "execution_count": 62,
     "metadata": {},
     "output_type": "execute_result"
    },
    {
     "data": {
      "image/png": "[encoded data removed]",
      "text/plain": [
       "<Figure size 2160x504 with 1 Axes>"
      ]
     },
     "metadata": {
      "needs_background": "light"
     },
     "output_type": "display_data"
    }
   ],
   "source": [
    "pd.Series(rfa.performance_drifts_).plot.bar(figsize = (30,7))"
   ]
  },
  {
   "cell_type": "code",
   "execution_count": 63,
   "id": "8894f9bc",
   "metadata": {},
   "outputs": [],
   "source": [
    "X_train_features_add = rfa.transform(X_train_)\n",
    "X_test_features_add = rfa.transform(X_test_)"
   ]
  },
  {
   "cell_type": "code",
   "execution_count": 64,
   "id": "41dfa14d",
   "metadata": {},
   "outputs": [
    {
     "data": {
      "text/html": [
       "<div>\n",
       "<style scoped>\n",
       "    .dataframe tbody tr th:only-of-type {\n",
       "        vertical-align: middle;\n",
       "    }\n",
       "\n",
       "    .dataframe tbody tr th {\n",
       "        vertical-align: top;\n",
       "    }\n",
       "\n",
       "    .dataframe thead th {\n",
       "        text-align: right;\n",
       "    }\n",
       "</style>\n",
       "<table border=\"1\" class=\"dataframe\">\n",
       "  <thead>\n",
       "    <tr style=\"text-align: right;\">\n",
       "      <th></th>\n",
       "      <th>LotArea</th>\n",
       "      <th>YearRemodAdd</th>\n",
       "      <th>ExterCond</th>\n",
       "      <th>HeatingQC</th>\n",
       "      <th>GarageType_Attchd</th>\n",
       "    </tr>\n",
       "  </thead>\n",
       "  <tbody>\n",
       "    <tr>\n",
       "      <th>0</th>\n",
       "      <td>0.678402</td>\n",
       "      <td>-0.280153</td>\n",
       "      <td>0.988996</td>\n",
       "      <td>0.321398</td>\n",
       "      <td>1.0</td>\n",
       "    </tr>\n",
       "    <tr>\n",
       "      <th>1</th>\n",
       "      <td>-0.058396</td>\n",
       "      <td>0.345845</td>\n",
       "      <td>-0.446594</td>\n",
       "      <td>0.321398</td>\n",
       "      <td>1.0</td>\n",
       "    </tr>\n",
       "    <tr>\n",
       "      <th>2</th>\n",
       "      <td>-0.795194</td>\n",
       "      <td>-0.812519</td>\n",
       "      <td>-1.283217</td>\n",
       "      <td>-2.404485</td>\n",
       "      <td>0.0</td>\n",
       "    </tr>\n",
       "    <tr>\n",
       "      <th>3</th>\n",
       "      <td>-0.058396</td>\n",
       "      <td>-1.240552</td>\n",
       "      <td>-0.510355</td>\n",
       "      <td>-1.041544</td>\n",
       "      <td>0.0</td>\n",
       "    </tr>\n",
       "    <tr>\n",
       "      <th>4</th>\n",
       "      <td>-3.005590</td>\n",
       "      <td>-1.936105</td>\n",
       "      <td>-2.094722</td>\n",
       "      <td>-1.041544</td>\n",
       "      <td>0.0</td>\n",
       "    </tr>\n",
       "    <tr>\n",
       "      <th>...</th>\n",
       "      <td>...</td>\n",
       "      <td>...</td>\n",
       "      <td>...</td>\n",
       "      <td>...</td>\n",
       "      <td>...</td>\n",
       "    </tr>\n",
       "    <tr>\n",
       "      <th>1017</th>\n",
       "      <td>1.415201</td>\n",
       "      <td>0.284315</td>\n",
       "      <td>1.628539</td>\n",
       "      <td>1.684340</td>\n",
       "      <td>1.0</td>\n",
       "    </tr>\n",
       "    <tr>\n",
       "      <th>1018</th>\n",
       "      <td>-1.531993</td>\n",
       "      <td>-0.253401</td>\n",
       "      <td>-0.879397</td>\n",
       "      <td>0.321398</td>\n",
       "      <td>1.0</td>\n",
       "    </tr>\n",
       "    <tr>\n",
       "      <th>1019</th>\n",
       "      <td>-0.058396</td>\n",
       "      <td>0.418075</td>\n",
       "      <td>0.733952</td>\n",
       "      <td>0.321398</td>\n",
       "      <td>1.0</td>\n",
       "    </tr>\n",
       "    <tr>\n",
       "      <th>1020</th>\n",
       "      <td>0.678402</td>\n",
       "      <td>1.057449</td>\n",
       "      <td>0.067359</td>\n",
       "      <td>0.321398</td>\n",
       "      <td>1.0</td>\n",
       "    </tr>\n",
       "    <tr>\n",
       "      <th>1021</th>\n",
       "      <td>0.678402</td>\n",
       "      <td>0.089025</td>\n",
       "      <td>0.612226</td>\n",
       "      <td>0.321398</td>\n",
       "      <td>1.0</td>\n",
       "    </tr>\n",
       "  </tbody>\n",
       "</table>\n",
       "<p>1022 rows × 5 columns</p>\n",
       "</div>"
      ],
      "text/plain": [
       "       LotArea  YearRemodAdd  ExterCond  HeatingQC  GarageType_Attchd\n",
       "0     0.678402     -0.280153   0.988996   0.321398                1.0\n",
       "1    -0.058396      0.345845  -0.446594   0.321398                1.0\n",
       "2    -0.795194     -0.812519  -1.283217  -2.404485                0.0\n",
       "3    -0.058396     -1.240552  -0.510355  -1.041544                0.0\n",
       "4    -3.005590     -1.936105  -2.094722  -1.041544                0.0\n",
       "...        ...           ...        ...        ...                ...\n",
       "1017  1.415201      0.284315   1.628539   1.684340                1.0\n",
       "1018 -1.531993     -0.253401  -0.879397   0.321398                1.0\n",
       "1019 -0.058396      0.418075   0.733952   0.321398                1.0\n",
       "1020  0.678402      1.057449   0.067359   0.321398                1.0\n",
       "1021  0.678402      0.089025   0.612226   0.321398                1.0\n",
       "\n",
       "[1022 rows x 5 columns]"
      ]
     },
     "execution_count": 64,
     "metadata": {},
     "output_type": "execute_result"
    }
   ],
   "source": [
    "X_train_features_add"
   ]
  },
  {
   "cell_type": "code",
   "execution_count": 65,
   "id": "98ddeaf9",
   "metadata": {},
   "outputs": [
    {
     "data": {
      "text/plain": [
       "((1022, 5), (438, 5))"
      ]
     },
     "execution_count": 65,
     "metadata": {},
     "output_type": "execute_result"
    }
   ],
   "source": [
    "X_train_features_add.shape,X_test_features_add.shape"
   ]
  },
  {
   "cell_type": "markdown",
   "id": "b2bf0614",
   "metadata": {},
   "source": [
    "### Triển khai mô hình"
   ]
  },
  {
   "cell_type": "markdown",
   "id": "b27ee82b",
   "metadata": {},
   "source": [
    "#### Linear Regression "
   ]
  },
  {
   "cell_type": "code",
   "execution_count": 66,
   "id": "2f070d05",
   "metadata": {},
   "outputs": [],
   "source": [
    "def get_numpy_array(X,y):\n",
    "    one = np.ones((len(X),1))\n",
    "    X = np.array(X)\n",
    "    X_bar = np.concatenate((one,X),axis = 1)\n",
    "    y = np.array(y)\n",
    "    return X_bar,y"
   ]
  },
  {
   "cell_type": "code",
   "execution_count": 67,
   "id": "df06d2de",
   "metadata": {},
   "outputs": [],
   "source": [
    "def predict(X,w):\n",
    "    return X.dot(w)"
   ]
  },
  {
   "cell_type": "code",
   "execution_count": 68,
   "id": "1ba7de1f",
   "metadata": {},
   "outputs": [],
   "source": [
    "def loss_function(X,y,w):\n",
    "    y_predict = predict(X,w)\n",
    "    total = y - y_predict\n",
    "    return np.sum(total**2)"
   ]
  },
  {
   "cell_type": "code",
   "execution_count": 69,
   "id": "06d706f0",
   "metadata": {},
   "outputs": [],
   "source": [
    "def feature_derivative(errors, feature):\n",
    "    derivative = 2 * errors.dot(feature)\n",
    "    return(derivative)"
   ]
  },
  {
   "cell_type": "code",
   "execution_count": 70,
   "id": "c8011ccb",
   "metadata": {},
   "outputs": [],
   "source": [
    "def update_weight(X,y,w,step_size,num_iters):\n",
    "    costs = []\n",
    "    for _ in range(num_iters):\n",
    "        y_pr = predict(X,w)\n",
    "        error = y_pr - y\n",
    "        for i in range(len(w)):\n",
    "            devivative = feature_derivative(error,X[:,i])\n",
    "            w[i] = w[i] - step_size * devivative\n",
    "        cost = loss_function(X,y,w)\n",
    "        costs.append(cost)\n",
    "    return w,costs"
   ]
  },
  {
   "cell_type": "code",
   "execution_count": 71,
   "id": "3d532114",
   "metadata": {},
   "outputs": [],
   "source": [
    "initialization_weights = np.zeros(X_train_lasso.shape[1] + 1)\n",
    "num_iters = 100\n",
    "step_size = 0.00001\n",
    "X_train_lasso1,y_train1 = get_numpy_array(X_train_lasso,y_train)\n",
    "X_test_lasso1,y_test1 = get_numpy_array(X_test_lasso,y_test)\n",
    "weights,loss = update_weight(X_train_lasso1,y_train1,initialization_weights,step_size,num_iters)"
   ]
  },
  {
   "cell_type": "code",
   "execution_count": 72,
   "id": "ef78afaf",
   "metadata": {},
   "outputs": [
    {
     "data": {
      "text/plain": [
       "[<matplotlib.lines.Line2D at 0x233e1712fa0>]"
      ]
     },
     "execution_count": 72,
     "metadata": {},
     "output_type": "execute_result"
    },
    {
     "data": {
      "image/png": "[encoded data removed]",
      "text/plain": [
       "<Figure size 432x288 with 1 Axes>"
      ]
     },
     "metadata": {
      "needs_background": "light"
     },
     "output_type": "display_data"
    }
   ],
   "source": [
    "plt.plot(loss)"
   ]
  },
  {
   "cell_type": "code",
   "execution_count": 73,
   "id": "2d57ad0a",
   "metadata": {},
   "outputs": [
    {
     "data": {
      "text/plain": [
       "array([ 2.19785823e+04, -5.44389759e+02,  1.43619839e+03,  1.93493307e+03,\n",
       "        1.25711930e+04,  5.65282209e+03,  4.28742593e+03,  6.27615107e+03,\n",
       "        7.19073054e+03,  1.00477418e+04, -1.48448508e+03,  8.74214135e+03,\n",
       "        3.92185259e+03, -6.71409050e+02,  1.25229897e+04,  4.80775242e+03,\n",
       "        2.52690789e+00,  5.89558374e+03,  2.86936299e+02, -1.62810352e+03,\n",
       "       -2.73081846e+03,  5.51549718e+03,  6.23599105e+03, -1.09899945e+03,\n",
       "        3.73064111e+03,  4.20616947e+03,  3.20545740e+03,  4.10063410e+02,\n",
       "        6.17076513e+02,  1.07146190e+03,  1.60316479e+03,  9.81594402e+02,\n",
       "        4.84053611e+02, -6.46726399e+02,  2.32867917e+03, -4.30199838e+02,\n",
       "        7.56060824e+03,  5.31468847e+02, -1.76002432e+03, -1.33680638e+03,\n",
       "        1.22005407e+04,  2.84648405e+03,  1.33310384e+04,  1.07317693e+03,\n",
       "        5.60795395e+03,  4.53926541e+03,  2.10192434e+03,  6.01066279e+03,\n",
       "        1.17192923e+04,  1.30268828e+03,  2.19668301e+03,  1.34241546e+02,\n",
       "        1.31039306e+03,  1.32449190e+03,  7.78383721e+02,  1.23318363e+03,\n",
       "        2.94826697e+03,  2.26169987e+03, -6.74767288e+02, -6.73130919e+02,\n",
       "        1.67843500e+03,  1.21077880e+02,  2.42133982e+03,  3.83055618e+03,\n",
       "       -2.71361260e+02,  1.64553224e+03,  1.77159189e+04,  6.22930148e+02,\n",
       "        5.78655054e+03,  1.18807014e+04,  2.27533559e+02,  9.65436279e+02,\n",
       "        6.82094014e+03,  2.39494043e+03,  2.61601874e+03,  1.14167421e+03,\n",
       "        9.89624033e+02,  5.68605200e+02,  6.96732261e+03,  1.18309411e+04,\n",
       "        3.24066278e+03,  1.19247520e+04,  1.77829814e+03,  1.84332598e+04,\n",
       "        8.35352860e+02,  2.02554388e+04,  7.44497914e+03,  5.78814351e+03,\n",
       "        4.16674609e+02,  1.23053243e+04,  2.09192905e+03,  4.60861673e+03,\n",
       "        1.54774759e+04, -5.05196130e+02,  2.77307802e+03])"
      ]
     },
     "execution_count": 73,
     "metadata": {},
     "output_type": "execute_result"
    }
   ],
   "source": [
    "weights"
   ]
  },
  {
   "cell_type": "code",
   "execution_count": 74,
   "id": "57591519",
   "metadata": {},
   "outputs": [
    {
     "data": {
      "text/plain": [
       "1121116804800.7937"
      ]
     },
     "execution_count": 74,
     "metadata": {},
     "output_type": "execute_result"
    }
   ],
   "source": [
    "loss_function(X_test_lasso1,y_test,weights)"
   ]
  },
  {
   "cell_type": "code",
   "execution_count": 75,
   "id": "fcc883f8",
   "metadata": {},
   "outputs": [
    {
     "data": {
      "text/plain": [
       "array([183831.65342178, 117872.39345242,  93310.78214664, 206871.83383602,\n",
       "        88744.26990678,  67779.94691779, 271238.30465413, 155932.89438735,\n",
       "       475033.32542987, 188024.01644987, 228878.20056354, 120716.60393096,\n",
       "       275109.95324004, 127092.92057975,  96034.91729486, 135677.43500666,\n",
       "       267495.24238963, 143775.20418364, 143867.37829554, 211776.39952863,\n",
       "       105499.21393701, 203241.80450054, 110359.69954804, 196410.40750591,\n",
       "       195688.51833484, 221404.36932111, 192909.33027059,  62092.9928285 ,\n",
       "       366123.33634199,  88987.10658567, 137308.44575052, 249599.85488482,\n",
       "       177389.71665595, 330114.31695346, 309912.76658525, 237894.45446318,\n",
       "       325597.06783956,  84877.32037835, 253940.76272944, 364032.95131087,\n",
       "       229001.25266305,  67393.64112725, 233168.30688753, 321059.63772604,\n",
       "       356187.29606872, 100536.14605369,  88262.36044704, 113784.6440799 ,\n",
       "       174713.14147869, 108245.36330021, 414610.01926317, 145132.56051873,\n",
       "       194748.51617697,  10660.38288508, 294948.87258997,  71979.46557628,\n",
       "       176526.52920229, 258544.35369384, 105029.39674568,  94812.62595003,\n",
       "       194428.12893653, 100503.18227788, 100471.64950802, 183542.29603649,\n",
       "       276502.19634019, 172838.56365127, 115413.43841726, 288236.52176502,\n",
       "       158670.33514045, 224852.56276323, 242673.30459396, 111715.93285348,\n",
       "         9497.65266558, 293802.64123949,  23165.82116076, 273548.52267312,\n",
       "       117618.02786251,  53847.36209506, 342802.09414623, 170133.03209874,\n",
       "       134930.15666841, 126218.86769082, 146045.42390991, 171983.16415242,\n",
       "       192935.75209683, 263645.72416891,  79006.19517902, 204506.829736  ,\n",
       "       247745.98269816, 128529.16641155, 252261.31847201, 231441.31088836,\n",
       "       230946.51932966, 261879.04509151, 229835.48921185, 108327.95130404,\n",
       "       275561.59925169, 192231.87192759, 104130.97131592, 158876.09221573,\n",
       "       295832.98710695, 212110.92269393, 116120.11882367, 113541.71349541,\n",
       "       140561.21521156, 252753.79264793, 177807.14058308,  91977.1855446 ,\n",
       "       222051.4708003 , 162260.8657568 , 102001.13353558, 135722.68448094,\n",
       "       175288.41209673, 106406.183211  , 198204.27203443, 185450.00033011,\n",
       "       412437.82023531, 117750.74176692, 248466.17892435, 300748.58274744,\n",
       "       207620.79725198, 186399.32328071,  79393.62263918, 195721.99707862,\n",
       "       261564.06302363, 343064.30232334, 367650.18399766, 248631.17496022,\n",
       "       217535.56991777, 175921.69278702, 256168.54809751, 238318.15618038,\n",
       "       116545.8739059 , 202982.96240352, 105184.51913829, 211968.65763825,\n",
       "       127412.55764963, 185558.15173099,  89894.20221282, 228978.73047865,\n",
       "       162530.95115239, 164983.93530905, 226553.07318807, 184106.3819012 ,\n",
       "       127956.66129122, 232995.15408028, 253645.86558277, 143791.5127419 ,\n",
       "       332921.64214369, 299425.91716367, 191599.35858605, 376097.309518  ,\n",
       "       288017.93318443, 160065.28968518, 184342.06972244, 315244.44220925,\n",
       "       121701.16137864, 218504.43844975, 143444.19530284, 215365.80711698,\n",
       "       131740.24655704, 114829.24125355, 238516.02443786, 105818.99485082,\n",
       "       259730.01801209, 116221.75962362, 164549.37781257, 302497.43190629,\n",
       "       257018.98291054, 212481.95448039, 155517.48697193, 163072.90157362,\n",
       "       234434.01753343, 240955.58997427,  79234.02663941,  95653.64278171,\n",
       "       114622.30175901, 250631.41583076, 168925.13885835, 157989.85411039,\n",
       "       272038.22407592, 206966.38350364, 127743.17314393, 322087.8377772 ,\n",
       "        73937.57109909, 179419.2018174 ,  69651.51145852, 260019.09839401,\n",
       "       223564.83900325, 211434.17327923, 170103.20789752, 208983.44435965,\n",
       "       234377.72900227, 145193.81476491, 159243.56729759, 140067.1753121 ,\n",
       "        94125.66311762, 139623.45283293, 162045.18889449, 114455.61734984,\n",
       "        73125.84972049, 247795.01223078, 114968.18894001, 104520.82885428,\n",
       "       174254.85324647, 191624.58321806, 145911.48846678, 355842.09847437,\n",
       "       268853.22082263,  15631.34183417, 184694.85851095, 276365.05946255,\n",
       "        22182.22476667, 136676.12838474, 344928.74943617, 137049.48021591,\n",
       "       177859.39795044, 221322.6978208 , 281771.68809667, 111216.47026021,\n",
       "       242967.19888225, 186949.54689707, 179114.12195637, 106368.3070101 ,\n",
       "       223191.93212053, 311816.21163866, 249302.52203135, 172652.23205918,\n",
       "       114096.03055995, 153784.16810866,  30262.62060878, 210874.24392314,\n",
       "        87591.63320782, 191436.74447774, 269071.63735787, 101742.92512558,\n",
       "       118572.20466108, 101912.23949341,  35644.47795048, 163423.89454972,\n",
       "        77061.64006124, 213160.83064392, 236088.97787012, 274212.96535524,\n",
       "       211685.59138564, 157862.35181276, 228080.23055304, 243066.5138072 ,\n",
       "        90852.71312426, 248232.70050863, 195301.57883233, 323834.70988066,\n",
       "       125355.28861161, 427368.84125543, 282747.62656118, 246587.19978978,\n",
       "       153435.1346332 , 235810.29778105, 446829.53325426, 770263.31838033,\n",
       "       260362.93317596, 105596.94722945, 129546.83328745,  53063.39990421,\n",
       "       434260.20177113, 393724.12616862, 353599.73528041,  60617.7974434 ,\n",
       "       207236.80045541, 257633.89219365, 163442.14678116, 208053.78710221,\n",
       "       125054.37176607, 178079.88717774, 104958.00790947, 265022.13822132,\n",
       "       235878.10007171, 172462.20809965, 243136.13765724, 115539.58997625,\n",
       "       150851.81407391, 360509.12911351, 184998.3626917 , 104849.85695031,\n",
       "       247796.74988719,  81611.92798438, 118995.18385088, 288564.26830303,\n",
       "       456067.55872627, 169988.17118734,  92968.84861121, 113134.42638922,\n",
       "       360789.75340356,  73637.3252505 , 153585.48649221, 292699.96264215,\n",
       "       248115.64118884, 243107.76241432, 129892.60779444, 190940.74654782,\n",
       "        85799.63418748, 135897.05112087, 221452.13598308, 216077.67331636,\n",
       "       148669.33272093, 121670.28684571, 168277.86218592, 217960.40283577,\n",
       "       227283.75221239, 229597.33383182,  53256.41039697, 198837.55724174,\n",
       "       128791.38812048,  97219.68097857, 124701.39713955, 202001.03696578,\n",
       "       329626.21657827, 122095.1654385 , 184465.35473078, 154232.99846792,\n",
       "        99046.32405684, 253853.6511104 ,  65863.48903803, 228663.83613672,\n",
       "       173401.84300953, 281244.71509932, 128858.59199443, 409099.06339211,\n",
       "       178478.48999919, 104736.22278431,  80428.9877445 , 259812.36159087,\n",
       "       126143.95217823, 227609.49021765, 156891.87562955, 171982.22169406,\n",
       "       152227.13880572, 222001.99899569, 175015.3283697 ,  93275.48171874,\n",
       "       356006.59170718, 198857.26570961, 212081.40440669, 240179.01001094,\n",
       "       167175.60816442,  77475.74602796, 153179.20004031,  56996.60480724,\n",
       "       137128.8627007 , 134456.89974014, 274849.71034385, 306581.69699213,\n",
       "        77094.1956293 ,  69749.73636682, 211182.01533378, 423331.9277099 ,\n",
       "       315726.01569825, 176695.75360796, 277572.91505426, 298690.80356179,\n",
       "       335769.31177611, 197585.69459527, 289819.41631148, 255419.06999099,\n",
       "        91847.90829381, 128588.5224447 , 206362.48651064, 153882.01861467,\n",
       "       212380.0231461 , 202713.2282389 , 392890.114687  ,  83219.01957974,\n",
       "       132043.86598696,  90005.28582538, 127466.32012143,  41118.03940082,\n",
       "       271517.72427752, 270913.09358641,  91152.31139509, 299244.13595583,\n",
       "       145448.58948716,  46010.0930945 , 156743.76278194, 105430.34661751,\n",
       "       112776.95921293,  66701.73363803, 118235.18081983, 237706.08638676,\n",
       "       270265.06501696, 357918.57640615,  86615.56630108,  74846.69031331,\n",
       "       213813.54988761, 105355.78017285, 121589.49846512, 217718.23999266,\n",
       "       277962.04354381, 231175.25751126, 121739.16655304, 222168.79731519,\n",
       "       398018.96355989, 237348.79211499, 192836.41659519, 151083.36810987,\n",
       "       131739.07950466, 316702.89548601, 130135.69972319, 326101.89051613,\n",
       "       272930.87173459, 247731.93757522, 123416.44715877, 102406.55735367,\n",
       "       256373.93453168, 113485.95919893,  59764.65814437, 104197.56620466,\n",
       "       257243.52824371, 170621.25135408, 315893.38397452, 111040.06909751,\n",
       "       286725.19335702, 370870.8119661 ,  50144.71558375, 164666.95841701,\n",
       "       113497.01204804,  83542.94675816, 337972.99347667,  94271.32790652,\n",
       "       216532.27165607,  92385.81603505, 147479.10883717, 263588.06286655,\n",
       "       170615.36360664, 167489.89352885, 133241.4463045 , 338415.21893095,\n",
       "       252241.05235767, 460538.89599478])"
      ]
     },
     "execution_count": 75,
     "metadata": {},
     "output_type": "execute_result"
    }
   ],
   "source": [
    "predict(X_test_lasso1,weights)"
   ]
  },
  {
   "cell_type": "code",
   "execution_count": 76,
   "id": "a6c3c49b",
   "metadata": {},
   "outputs": [
    {
     "name": "stdout",
     "output_type": "stream",
     "text": [
      "0.6229738348502194\n"
     ]
    }
   ],
   "source": [
    "from sklearn.metrics import r2_score\n",
    "r2 = r2_score(y_test1,predict(X_test_lasso1,weights))\n",
    "print(r2)"
   ]
  },
  {
   "cell_type": "markdown",
   "id": "0b012e74",
   "metadata": {},
   "source": [
    "#### Ridge Regression"
   ]
  },
  {
   "cell_type": "code",
   "execution_count": 77,
   "id": "3c4c5449",
   "metadata": {},
   "outputs": [],
   "source": [
    "def loss_function_ridge(X,y,w,l2_penalty):\n",
    "    return np.sum((y - predict(X,w))**2) + l2_penalty * np.sum(w**2)"
   ]
  },
  {
   "cell_type": "code",
   "execution_count": 78,
   "id": "665ace9e",
   "metadata": {},
   "outputs": [],
   "source": [
    "def feature_devivative_ridge(X,w,lambdaa,error,flag):\n",
    "    if flag == True:\n",
    "        return 2* error.dot(X)\n",
    "    return 2* error.dot(X) + 2 * lambdaa * w"
   ]
  },
  {
   "cell_type": "code",
   "execution_count": 79,
   "id": "b3e645c4",
   "metadata": {},
   "outputs": [],
   "source": [
    "def update_weights_ridge(X,y,w,step_size,num_iters,l2_penlaty):\n",
    "    costs = []\n",
    "    for _ in range(num_iters):\n",
    "        y_pr = predict(X,w)\n",
    "        error = y_pr - y\n",
    "        for i in range(len(w)):\n",
    "            if i == 0:\n",
    "                devivative  = feature_devivative_ridge(X[:,i],w[i],l2_penlaty,error,True)\n",
    "            else:\n",
    "                devivative  = feature_devivative_ridge(X[:,i],w[i],l2_penlaty,error,False)\n",
    "            w[i] = w[i] - step_size * devivative\n",
    "        cost = loss_function_ridge(X,y,w,l2_penlaty)\n",
    "        costs.append(cost)\n",
    "    return w,costs"
   ]
  },
  {
   "cell_type": "code",
   "execution_count": 80,
   "id": "34ddc837",
   "metadata": {},
   "outputs": [],
   "source": [
    "initialization_weights = np.zeros(X_train_lasso.shape[1] + 1)\n",
    "num_iters = 100\n",
    "step_size = 0.00001\n",
    "l2_penalty = 0.000001\n",
    "X_train_lasso2,y_train2 = get_numpy_array(X_train_lasso,y_train)\n",
    "X_test_lasso2,y_test2 = get_numpy_array(X_test_lasso,y_test)\n",
    "weights_ridge,loss_ridge = update_weights_ridge(X_train_lasso2,y_train2,initialization_weights,step_size,num_iters,l2_penalty)"
   ]
  },
  {
   "cell_type": "code",
   "execution_count": 81,
   "id": "5c6d8797",
   "metadata": {},
   "outputs": [
    {
     "data": {
      "text/plain": [
       "[<matplotlib.lines.Line2D at 0x233e2030e50>]"
      ]
     },
     "execution_count": 81,
     "metadata": {},
     "output_type": "execute_result"
    },
    {
     "data": {
      "image/png": "[encoded data removed]",
      "text/plain": [
       "<Figure size 432x288 with 1 Axes>"
      ]
     },
     "metadata": {
      "needs_background": "light"
     },
     "output_type": "display_data"
    }
   ],
   "source": [
    "plt.plot(loss_ridge)"
   ]
  },
  {
   "cell_type": "code",
   "execution_count": 82,
   "id": "1ee5f309",
   "metadata": {},
   "outputs": [
    {
     "data": {
      "text/plain": [
       "array([ 2.19785824e+04, -5.44389759e+02,  1.43619839e+03,  1.93493307e+03,\n",
       "        1.25711930e+04,  5.65282209e+03,  4.28742593e+03,  6.27615107e+03,\n",
       "        7.19073054e+03,  1.00477418e+04, -1.48448508e+03,  8.74214135e+03,\n",
       "        3.92185259e+03, -6.71409049e+02,  1.25229897e+04,  4.80775242e+03,\n",
       "        2.52690790e+00,  5.89558374e+03,  2.86936301e+02, -1.62810351e+03,\n",
       "       -2.73081846e+03,  5.51549718e+03,  6.23599105e+03, -1.09899945e+03,\n",
       "        3.73064112e+03,  4.20616948e+03,  3.20545740e+03,  4.10063413e+02,\n",
       "        6.17076512e+02,  1.07146190e+03,  1.60316479e+03,  9.81594402e+02,\n",
       "        4.84053611e+02, -6.46726398e+02,  2.32867917e+03, -4.30199838e+02,\n",
       "        7.56060824e+03,  5.31468848e+02, -1.76002432e+03, -1.33680638e+03,\n",
       "        1.22005407e+04,  2.84648405e+03,  1.33310384e+04,  1.07317693e+03,\n",
       "        5.60795395e+03,  4.53926541e+03,  2.10192434e+03,  6.01066279e+03,\n",
       "        1.17192923e+04,  1.30268828e+03,  2.19668301e+03,  1.34241546e+02,\n",
       "        1.31039306e+03,  1.32449190e+03,  7.78383721e+02,  1.23318363e+03,\n",
       "        2.94826697e+03,  2.26169987e+03, -6.74767287e+02, -6.73130917e+02,\n",
       "        1.67843500e+03,  1.21077881e+02,  2.42133982e+03,  3.83055617e+03,\n",
       "       -2.71361260e+02,  1.64553224e+03,  1.77159188e+04,  6.22930148e+02,\n",
       "        5.78655053e+03,  1.18807014e+04,  2.27533559e+02,  9.65436278e+02,\n",
       "        6.82094014e+03,  2.39494043e+03,  2.61601874e+03,  1.14167421e+03,\n",
       "        9.89624032e+02,  5.68605200e+02,  6.96732260e+03,  1.18309410e+04,\n",
       "        3.24066277e+03,  1.19247520e+04,  1.77829814e+03,  1.84332598e+04,\n",
       "        8.35352859e+02,  2.02554388e+04,  7.44497913e+03,  5.78814350e+03,\n",
       "        4.16674609e+02,  1.23053243e+04,  2.09192905e+03,  4.60861673e+03,\n",
       "        1.54774759e+04, -5.05196129e+02,  2.77307802e+03])"
      ]
     },
     "execution_count": 82,
     "metadata": {},
     "output_type": "execute_result"
    }
   ],
   "source": [
    "weights_ridge"
   ]
  },
  {
   "cell_type": "code",
   "execution_count": 83,
   "id": "cab747fd",
   "metadata": {},
   "outputs": [
    {
     "data": {
      "text/plain": [
       "array([183831.65338511, 117872.39342695,  93310.78213828, 206871.83381406,\n",
       "        88744.26990771,  67779.94693068, 271238.30466042, 155932.89437366,\n",
       "       475033.32537984, 188024.01645399, 228878.20054935, 120716.60394373,\n",
       "       275109.95321845, 127092.92060036,  96034.91728483, 135677.43496452,\n",
       "       267495.24237659, 143775.20416931, 143867.37828532, 211776.39949813,\n",
       "       105499.21392073, 203241.80450966, 110359.69956653, 196410.40749006,\n",
       "       195688.51833422, 221404.36927655, 192909.33027533,  62092.99281313,\n",
       "       366123.33631155,  88987.10656067, 137308.44576571, 249599.85486743,\n",
       "       177389.71666427, 330114.31695081, 309912.76658113, 237894.45446355,\n",
       "       325597.06781041,  84877.32038153, 253940.76271328, 364032.95128641,\n",
       "       229001.25265253,  67393.64115035, 233168.30688874, 321059.63773247,\n",
       "       356187.29604587, 100536.14608108,  88262.36045955, 113784.64408426,\n",
       "       174713.14146753, 108245.3632896 , 414610.01923275, 145132.56051908,\n",
       "       194748.51616898,  10660.38287423, 294948.87256975,  71979.46559354,\n",
       "       176526.52917144, 258544.35367845, 105029.39673308,  94812.62595197,\n",
       "       194428.12894099, 100503.18226024, 100471.64949583, 183542.29604127,\n",
       "       276502.19632504, 172838.56365254, 115413.43837479, 288236.52175134,\n",
       "       158670.33512057, 224852.56275124, 242673.30458832, 111715.93285587,\n",
       "         9497.65270179, 293802.64123033,  23165.82119193, 273548.52267034,\n",
       "       117618.02785096,  53847.36210437, 342802.09415199, 170133.03209777,\n",
       "       134930.15669031, 126218.86768718, 146045.42388515, 171983.16415238,\n",
       "       192935.75204875, 263645.72416967,  79006.19519033, 204506.82972251,\n",
       "       247745.98270092, 128529.1663777 , 252261.31846137, 231441.31090776,\n",
       "       230946.51931701, 261879.04508126, 229835.48921001, 108327.95129701,\n",
       "       275561.59924661, 192231.87191478, 104130.97131625, 158876.09219057,\n",
       "       295832.98709271, 212110.92267977, 116120.11882009, 113541.71348551,\n",
       "       140561.21518883, 252753.79262981, 177807.14058626,  91977.18553934,\n",
       "       222051.47079207, 162260.8657074 , 102001.13351393, 135722.68447189,\n",
       "       175288.41207152, 106406.18320344, 198204.27203931, 185450.00032178,\n",
       "       412437.82020021, 117750.7417749 , 248466.17886909, 300748.58273253,\n",
       "       207620.79722422, 186399.32326533,  79393.62262776, 195721.99706346,\n",
       "       261564.06301122, 343064.3023091 , 367650.18396045, 248631.1749399 ,\n",
       "       217535.56991472, 175921.69279242, 256168.54809959, 238318.15617328,\n",
       "       116545.87391918, 202982.96236265, 105184.51914274, 211968.65763303,\n",
       "       127412.55763254, 185558.15172248,  89894.2022019 , 228978.73046401,\n",
       "       162530.95112722, 164983.93532039, 226553.07319952, 184106.38188896,\n",
       "       127956.66132572, 232995.15406944, 253645.8655848 , 143791.51274056,\n",
       "       332921.64211353, 299425.91715145, 191599.35855608, 376097.30948623,\n",
       "       288017.93315186, 160065.28967479, 184342.06968989, 315244.44216617,\n",
       "       121701.16135493, 218504.43840663, 143444.19529535, 215365.80710026,\n",
       "       131740.24656199, 114829.24124096, 238516.02441647, 105818.99489464,\n",
       "       259730.01801666, 116221.75959353, 164549.37782273, 302497.43187379,\n",
       "       257018.98291326, 212481.95446624, 155517.48695595, 163072.90156796,\n",
       "       234434.017533  , 240955.58996833,  79234.02665472,  95653.6427991 ,\n",
       "       114622.3017228 , 250631.41581622, 168925.1388265 , 157989.85410477,\n",
       "       272038.22406164, 206966.38349282, 127743.17312077, 322087.83775906,\n",
       "        73937.57108439, 179419.20182083,  69651.51143794, 260019.09839606,\n",
       "       223564.83900709, 211434.17329178, 170103.20789333, 208983.44435083,\n",
       "       234377.72899061, 145193.81478097, 159243.56728337, 140067.17532947,\n",
       "        94125.66313838, 139623.45283786, 162045.18886198, 114455.61736666,\n",
       "        73125.84972068, 247795.01223978, 114968.18894235, 104520.82881618,\n",
       "       174254.85320804, 191624.58322341, 145911.4884458 , 355842.09848688,\n",
       "       268853.22081225,  15631.34181758, 184694.85853912, 276365.05944915,\n",
       "        22182.22478798, 136676.12834735, 344928.74941985, 137049.48022887,\n",
       "       177859.39794824, 221322.69781647, 281771.68809654, 111216.47024498,\n",
       "       242967.19888664, 186949.54689348, 179114.12192681, 106368.30699708,\n",
       "       223191.93211937, 311816.21162855, 249302.52201764, 172652.23208351,\n",
       "       114096.03053965, 153784.16810567,  30262.62063284, 210874.24390882,\n",
       "        87591.63321111, 191436.74445629, 269071.63734013, 101742.92511439,\n",
       "       118572.20464774, 101912.23946165,  35644.47794323, 163423.89452949,\n",
       "        77061.64004599, 213160.83063692, 236088.97785292, 274212.96536246,\n",
       "       211685.59137817, 157862.35180411, 228080.2305576 , 243066.51379576,\n",
       "        90852.71310882, 248232.70050714, 195301.57880114, 323834.7098686 ,\n",
       "       125355.28857753, 427368.84119745, 282747.62656717, 246587.19977894,\n",
       "       153435.13459047, 235810.29777019, 446829.53321005, 770263.31828446,\n",
       "       260362.93316047, 105596.94724852, 129546.83328072,  53063.39988882,\n",
       "       434260.20175954, 393724.12615131, 353599.73524932,  60617.79744477,\n",
       "       207236.80039011, 257633.89218219, 163442.14676526, 208053.7870597 ,\n",
       "       125054.37172838, 178079.88716148, 104958.00789089, 265022.13820758,\n",
       "       235878.100074  , 172462.20806309, 243136.13763414, 115539.58995278,\n",
       "       150851.81406835, 360509.12910118, 184998.36263736, 104849.8569342 ,\n",
       "       247796.7498757 ,  81611.92800571, 118995.18382529, 288564.26829397,\n",
       "       456067.55867742, 169988.17115107,  92968.8485771 , 113134.42636706,\n",
       "       360789.75338551,  73637.32526627, 153585.48647673, 292699.96263241,\n",
       "       248115.64117914, 243107.76240182, 129892.60777928, 190940.74654332,\n",
       "        85799.63421242, 135897.05110953, 221452.13597159, 216077.67332043,\n",
       "       148669.33273086, 121670.28683829, 168277.86218839, 217960.40283885,\n",
       "       227283.75220836, 229597.33383351,  53256.41040066, 198837.55726744,\n",
       "       128791.38810971,  97219.68094814, 124701.39712439, 202001.03697771,\n",
       "       329626.21656817, 122095.16542827, 184465.35472074, 154232.99842013,\n",
       "        99046.32404929, 253853.65109453,  65863.48903837, 228663.83613925,\n",
       "       173401.84299406, 281244.71509022, 128858.59200786, 409099.06335977,\n",
       "       178478.48999361, 104736.22276719,  80428.98773417, 259812.3615822 ,\n",
       "       126143.95214515, 227609.49021058, 156891.87564437, 171982.22169738,\n",
       "       152227.13881536, 222001.99899476, 175015.32833857,  93275.48169992,\n",
       "       356006.59168663, 198857.26571145, 212081.40436989, 240179.01000166,\n",
       "       167175.6081657 ,  77475.7460315 , 153179.2000002 ,  56996.60482181,\n",
       "       137128.86267906, 134456.89976175, 274849.71032723, 306581.69696556,\n",
       "        77094.19562044,  69749.73636919, 211182.01533452, 423331.92767831,\n",
       "       315726.01567494, 176695.75359312, 277572.9150433 , 298690.80351382,\n",
       "       335769.31173469, 197585.69458632, 289819.41630297, 255419.06998372,\n",
       "        91847.90827472, 128588.52244461, 206362.48649717, 153882.0186029 ,\n",
       "       212380.02315229, 202713.22823721, 392890.11464811,  83219.0195766 ,\n",
       "       132043.86599187,  90005.28582455, 127466.32013282,  41118.03941188,\n",
       "       271517.72426238, 270913.09357618,  91152.31140703, 299244.13595327,\n",
       "       145448.58947169,  46010.09308906, 156743.76276592, 105430.3466008 ,\n",
       "       112776.95918477,  66701.73364648, 118235.18081945, 237706.08636345,\n",
       "       270265.06502352, 357918.57637603,  86615.56628797,  74846.69030219,\n",
       "       213813.54986083, 105355.78016172, 121589.49846515, 217718.23997083,\n",
       "       277962.04351565, 231175.2574902 , 121739.16655022, 222168.79731265,\n",
       "       398018.96353611, 237348.79209729, 192836.41656424, 151083.36810542,\n",
       "       131739.07949114, 316702.89546281, 130135.69971444, 326101.89051569,\n",
       "       272930.87171986, 247731.93757803, 123416.44716369, 102406.55732715,\n",
       "       256373.93452052, 113485.95920072,  59764.65815124, 104197.56620686,\n",
       "       257243.52823148, 170621.25133618, 315893.38395763, 111040.06908998,\n",
       "       286725.19334006, 370870.81194315,  50144.71556672, 164666.95841094,\n",
       "       113497.01207014,  83542.94676353, 337972.99343225,  94271.3279101 ,\n",
       "       216532.27163673,  92385.81601113, 147479.10881474, 263588.06283615,\n",
       "       170615.36362856, 167489.89352081, 133241.44630443, 338415.2189098 ,\n",
       "       252241.05234561, 460538.89594781])"
      ]
     },
     "execution_count": 83,
     "metadata": {},
     "output_type": "execute_result"
    }
   ],
   "source": [
    "predict(X_test_lasso2,weights_ridge)"
   ]
  },
  {
   "cell_type": "code",
   "execution_count": 84,
   "id": "9b58fe6e",
   "metadata": {},
   "outputs": [
    {
     "name": "stdout",
     "output_type": "stream",
     "text": [
      "0.6229738349261693\n"
     ]
    }
   ],
   "source": [
    "from sklearn.metrics import r2_score\n",
    "r2 = r2_score(y_test2,predict(X_test_lasso2,weights_ridge))\n",
    "print(r2)"
   ]
  },
  {
   "cell_type": "markdown",
   "id": "45d36a73",
   "metadata": {},
   "source": [
    "##### Lasso Regression"
   ]
  },
  {
   "cell_type": "code",
   "execution_count": 85,
   "id": "a130006b",
   "metadata": {},
   "outputs": [],
   "source": [
    "def lasso_step(i, feature_matrix, output, weights, l1_penalty):\n",
    "    # tính prediction\n",
    "    prediction = predict(feature_matrix,weights)\n",
    "    # tính ro[i] = SUM[ [feature_i]*(output - prediction + weight[i]*[feature_i]) ]\n",
    "    ro_i =  np.sum(feature_matrix[:,i]@(output - prediction +  weights[i]*(feature_matrix[:,i])))\n",
    "\n",
    "    if i == 0: # intercept -- không điều chuẩn\n",
    "        new_weight_i = ro_i \n",
    "    elif ro_i < -l1_penalty/2.:\n",
    "        new_weight_i = ro_i + (l1_penalty / 2)\n",
    "    elif ro_i > l1_penalty/2.:\n",
    "        new_weight_i = ro_i - (l1_penalty/2)\n",
    "    else:\n",
    "        new_weight_i = 0.\n",
    "    \n",
    "    return new_weight_i"
   ]
  },
  {
   "cell_type": "code",
   "execution_count": 86,
   "id": "cc330f7c",
   "metadata": {},
   "outputs": [],
   "source": [
    "def loss_function_lasso(X,y,w,l1_penalty):\n",
    "    return np.sum((y - predict(X,w))**2) + l1_penalty * np.sum((w))"
   ]
  },
  {
   "cell_type": "code",
   "execution_count": 87,
   "id": "7dc4ab58",
   "metadata": {},
   "outputs": [],
   "source": [
    "def update_weights_lasso(feature_matrix, output, initial_weights, l1_penalty, tolerance):\n",
    "    m,n = feature_matrix.shape\n",
    "    weights = np.array(initial_weights.copy())\n",
    "    converged = False\n",
    "    while not converged:\n",
    "        change = []\n",
    "        for i in range(n):\n",
    "            old_weights_i = weights[i]\n",
    "            weights[i] = lasso_step(i,feature_matrix,output,weights,l1_penalty)\n",
    "            change_weight = abs(old_weights_i - weights[i])\n",
    "            change.append(change_weight)\n",
    "        if max(change) < tolerance:\n",
    "            converged = True\n",
    "    return weights"
   ]
  },
  {
   "cell_type": "markdown",
   "id": "54deba07",
   "metadata": {},
   "source": [
    "#### Sử dụng thư viện"
   ]
  },
  {
   "cell_type": "code",
   "execution_count": 124,
   "id": "7f4bf1cf",
   "metadata": {},
   "outputs": [],
   "source": [
    "from sklearn.model_selection import KFold, cross_val_score\n",
    "from sklearn.linear_model import LinearRegression\n",
    "from sklearn.tree import DecisionTreeRegressor\n",
    "from sklearn.ensemble import RandomForestRegressor"
   ]
  },
  {
   "cell_type": "markdown",
   "id": "ce90a81a",
   "metadata": {},
   "source": [
    "#### Sử dụng hồi quy tuyến tính"
   ]
  },
  {
   "cell_type": "code",
   "execution_count": 157,
   "id": "f99efc90",
   "metadata": {},
   "outputs": [],
   "source": [
    "def LinearReg(X_train,y_train,X_test,y_test):\n",
    "    lin_reg = LinearRegression()\n",
    "    lin_reg.fit(X_train,y_train)\n",
    "    print(lin_reg.predict(X_train.iloc[:5]))\n",
    "    print(y_test[:5])\n",
    "    print('Score:',lin_reg.score(X_test,y_test))"
   ]
  },
  {
   "cell_type": "code",
   "execution_count": 158,
   "id": "a678543a",
   "metadata": {},
   "outputs": [
    {
     "name": "stdout",
     "output_type": "stream",
     "text": [
      "[236246.04151349 163238.21868983 152888.1345742   97709.02196708\n",
      "  44526.16643362]\n",
      "529    200624\n",
      "491    133000\n",
      "459    110000\n",
      "279    192000\n",
      "655     88000\n",
      "Name: SalePrice, dtype: int64\n",
      "Score: 0.7252327673725035\n"
     ]
    }
   ],
   "source": [
    "LinearReg(X_train_lasso,y_train,X_test_lasso,y_test)"
   ]
  },
  {
   "cell_type": "code",
   "execution_count": 161,
   "id": "eeb5fc1c",
   "metadata": {},
   "outputs": [
    {
     "name": "stdout",
     "output_type": "stream",
     "text": [
      "[243371.7382726  157232.70404766 145475.2234589   87390.57382267\n",
      "  47900.92021842]\n",
      "529    200624\n",
      "491    133000\n",
      "459    110000\n",
      "279    192000\n",
      "655     88000\n",
      "Name: SalePrice, dtype: int64\n",
      "Score: -1.3381237971096132e+23\n"
     ]
    }
   ],
   "source": [
    "LinearReg(X_train_FeatureElimination,y_train,X_test_FeatureElimination,y_test)"
   ]
  },
  {
   "cell_type": "code",
   "execution_count": 162,
   "id": "6edcf7b0",
   "metadata": {},
   "outputs": [
    {
     "name": "stdout",
     "output_type": "stream",
     "text": [
      "[228552.23499667 179480.85088554  79401.74135716 132824.30432092\n",
      " -11164.81411071]\n",
      "529    200624\n",
      "491    133000\n",
      "459    110000\n",
      "279    192000\n",
      "655     88000\n",
      "Name: SalePrice, dtype: int64\n",
      "Score: 0.7200330173388876\n"
     ]
    }
   ],
   "source": [
    "LinearReg(X_train_features_add,y_train,X_test_features_add,y_test)"
   ]
  },
  {
   "cell_type": "markdown",
   "id": "bea6c436",
   "metadata": {},
   "source": [
    "#### Sử dụng DecisionTree"
   ]
  },
  {
   "cell_type": "code",
   "execution_count": 163,
   "id": "36dcca4f",
   "metadata": {},
   "outputs": [],
   "source": [
    "def decisiontree(X_train,y_train,X_test,y_test):\n",
    "    model_tree = DecisionTreeRegressor(random_state=1)\n",
    "    model_tree.fit(X_train,y_train)\n",
    "    print(model_tree.predict(X_test.iloc[:5]))\n",
    "    print(y_test[:5])\n",
    "    print('Score:',model_tree.score(X_test,y_test))"
   ]
  },
  {
   "cell_type": "code",
   "execution_count": 164,
   "id": "2eb364df",
   "metadata": {},
   "outputs": [
    {
     "name": "stdout",
     "output_type": "stream",
     "text": [
      "[188000. 152000. 104900. 236000. 113000.]\n",
      "529    200624\n",
      "491    133000\n",
      "459    110000\n",
      "279    192000\n",
      "655     88000\n",
      "Name: SalePrice, dtype: int64\n",
      "Score: 0.7232364076200166\n"
     ]
    }
   ],
   "source": [
    "decisiontree(X_train_lasso,y_train,X_test_lasso,y_test)"
   ]
  },
  {
   "cell_type": "code",
   "execution_count": 165,
   "id": "50d75109",
   "metadata": {},
   "outputs": [
    {
     "name": "stdout",
     "output_type": "stream",
     "text": [
      "[230000. 157900. 117000. 205000. 112000.]\n",
      "529    200624\n",
      "491    133000\n",
      "459    110000\n",
      "279    192000\n",
      "655     88000\n",
      "Name: SalePrice, dtype: int64\n",
      "Score: 0.661696020105166\n"
     ]
    }
   ],
   "source": [
    "decisiontree(X_train_FeatureElimination,y_train,X_test_FeatureElimination,y_test)"
   ]
  },
  {
   "cell_type": "code",
   "execution_count": 166,
   "id": "ee0fd404",
   "metadata": {},
   "outputs": [
    {
     "name": "stdout",
     "output_type": "stream",
     "text": [
      "[256000. 140000.  87000. 222500.  85000.]\n",
      "529    200624\n",
      "491    133000\n",
      "459    110000\n",
      "279    192000\n",
      "655     88000\n",
      "Name: SalePrice, dtype: int64\n",
      "Score: 0.7108020807896055\n"
     ]
    }
   ],
   "source": [
    "decisiontree(X_train_features_add,y_train,X_test_features_add,y_test)"
   ]
  },
  {
   "cell_type": "markdown",
   "id": "bffeaaa0",
   "metadata": {},
   "source": [
    "#### Sử dụng RandomForestRegressor"
   ]
  },
  {
   "cell_type": "code",
   "execution_count": 167,
   "id": "c2de6dcf",
   "metadata": {},
   "outputs": [],
   "source": [
    "def RandomForest(X_train,y_train,X_test,y_test):\n",
    "    model_random = RandomForestRegressor()\n",
    "    model_random.fit(X_train,y_train)\n",
    "    print(model_random.predict(X_test.iloc[:5]))\n",
    "    print(y_test[:5])\n",
    "    print('Score',model_random.score(X_test,y_test))"
   ]
  },
  {
   "cell_type": "code",
   "execution_count": 168,
   "id": "1d00ec7f",
   "metadata": {},
   "outputs": [
    {
     "name": "stdout",
     "output_type": "stream",
     "text": [
      "[211986.17 154939.42 104830.37 230803.68 109223.  ]\n",
      "529    200624\n",
      "491    133000\n",
      "459    110000\n",
      "279    192000\n",
      "655     88000\n",
      "Name: SalePrice, dtype: int64\n",
      "Score 0.8479730686592779\n"
     ]
    }
   ],
   "source": [
    "RandomForest(X_train_lasso,y_train,X_test_lasso,y_test)"
   ]
  },
  {
   "cell_type": "code",
   "execution_count": 169,
   "id": "ba8e02a3",
   "metadata": {},
   "outputs": [
    {
     "name": "stdout",
     "output_type": "stream",
     "text": [
      "[224626.7  149090.   106967.5  230699.18 101938.  ]\n",
      "529    200624\n",
      "491    133000\n",
      "459    110000\n",
      "279    192000\n",
      "655     88000\n",
      "Name: SalePrice, dtype: int64\n",
      "Score 0.8664340147643554\n"
     ]
    }
   ],
   "source": [
    "RandomForest(X_train_FeatureElimination,y_train,X_test_FeatureElimination,y_test)"
   ]
  },
  {
   "cell_type": "code",
   "execution_count": 170,
   "id": "7ebc7352",
   "metadata": {},
   "outputs": [
    {
     "name": "stdout",
     "output_type": "stream",
     "text": [
      "[216324.8        145864.         110949.         226765.05\n",
      "  89412.08166667]\n",
      "529    200624\n",
      "491    133000\n",
      "459    110000\n",
      "279    192000\n",
      "655     88000\n",
      "Name: SalePrice, dtype: int64\n",
      "Score 0.8364330624877421\n"
     ]
    }
   ],
   "source": [
    "RandomForest(X_train_features_add,y_train,X_test_features_add,y_test)"
   ]
  },
  {
   "cell_type": "markdown",
   "id": "3eb1ea15",
   "metadata": {},
   "source": [
    "#### Đánh giá mô hình: Kiểm định chéo"
   ]
  },
  {
   "cell_type": "code",
   "execution_count": 181,
   "id": "48e4bf85",
   "metadata": {},
   "outputs": [],
   "source": [
    "from sklearn.model_selection import cross_val_score\n",
    "def kford(model,X,y):\n",
    "    kf = KFold(10, shuffle=True, random_state=0).get_n_splits(X.values)\n",
    "    scores = cross_val_score(\n",
    "        model, X, y,\n",
    "    scoring=\"neg_mean_squared_error\", cv=kf)\n",
    "    rmse_scores = np.sqrt(-scores)\n",
    "    print(\"Scores:\", rmse_scores)\n",
    "    print(\"Mean:\", rmse_scores.mean())\n",
    "    print(\"Standard deviation:\", rmse_scores.std())"
   ]
  },
  {
   "cell_type": "markdown",
   "id": "95b8fe32",
   "metadata": {},
   "source": [
    "##### Kiểm định chéo chọn 3 tập dữ liệu đc lọc qua 3 cách: Model: Linear Regression"
   ]
  },
  {
   "cell_type": "code",
   "execution_count": 182,
   "id": "f5acc710",
   "metadata": {},
   "outputs": [
    {
     "name": "stdout",
     "output_type": "stream",
     "text": [
      "Scores: [22759.3906924  46825.74365586 35052.22041897 20125.15092472\n",
      " 23188.15322549 34167.69005725 19731.9142482  27359.96714231\n",
      " 20279.36855821 20780.36427036]\n",
      "Mean: 27026.996319376667\n",
      "Standard deviation: 8519.675776064994\n"
     ]
    }
   ],
   "source": [
    "kford(lin_reg,X_train_lasso,y_train)"
   ]
  },
  {
   "cell_type": "code",
   "execution_count": 183,
   "id": "e6f3edb8",
   "metadata": {},
   "outputs": [
    {
     "name": "stdout",
     "output_type": "stream",
     "text": [
      "Scores: [2.23883316e+12 1.08771235e+16 8.54857433e+05 4.68855313e+12\n",
      " 8.71681166e+13 1.00971182e+14 2.09833624e+04 2.44262105e+15\n",
      " 2.07109120e+04 3.19260754e+04]\n",
      "Mean: 1351481128103510.2\n",
      "Standard deviation: 3256240503726463.0\n"
     ]
    }
   ],
   "source": [
    "kford(lin_reg,X_train_FeatureElimination,y_train)"
   ]
  },
  {
   "cell_type": "code",
   "execution_count": 184,
   "id": "c9ba4fc2",
   "metadata": {},
   "outputs": [
    {
     "name": "stdout",
     "output_type": "stream",
     "text": [
      "Scores: [31561.02211786 49205.34128416 38419.15835635 31993.79505815\n",
      " 36446.45672167 48359.36315756 32992.34323782 37921.77511642\n",
      " 33282.84198068 29824.87064886]\n",
      "Mean: 37000.69676795238\n",
      "Standard deviation: 6458.956559010021\n"
     ]
    }
   ],
   "source": [
    "kford(lin_reg,X_train_features_add,y_train)"
   ]
  },
  {
   "cell_type": "markdown",
   "id": "8ab6a402",
   "metadata": {},
   "source": [
    "##### Kiểm định chéo chọn 3 tập dữ liệu đc lọc qua 3 cách: Model: DecisionTree"
   ]
  },
  {
   "cell_type": "code",
   "execution_count": 187,
   "id": "2d915469",
   "metadata": {},
   "outputs": [
    {
     "name": "stdout",
     "output_type": "stream",
     "text": [
      "Scores: [35423.70313499 53882.81944669 44701.33355174 40417.51077012\n",
      " 39062.86503478 48987.33143085 36961.93458114 37435.27587901\n",
      " 34909.94083549 32018.225225  ]\n",
      "Mean: 40380.09398898024\n",
      "Standard deviation: 6492.940298072709\n"
     ]
    }
   ],
   "source": [
    "kford(model_tree,X_train_lasso,y_train)"
   ]
  },
  {
   "cell_type": "code",
   "execution_count": 188,
   "id": "b4090573",
   "metadata": {},
   "outputs": [
    {
     "name": "stdout",
     "output_type": "stream",
     "text": [
      "Scores: [36608.54531125 46383.99214943 34857.7385312  43251.97877022\n",
      " 35517.08960459 69092.25523346 39545.11170951 45874.00037037\n",
      " 34519.71114663 30865.35267139]\n",
      "Mean: 41651.57754980492\n",
      "Standard deviation: 10376.128407065726\n"
     ]
    }
   ],
   "source": [
    "kford(model_tree,X_train_FeatureElimination,y_train)"
   ]
  },
  {
   "cell_type": "code",
   "execution_count": 189,
   "id": "1756f1c0",
   "metadata": {},
   "outputs": [
    {
     "name": "stdout",
     "output_type": "stream",
     "text": [
      "Scores: [34691.66913912 69708.84849581 40185.57045721 40550.45429735\n",
      " 46081.36259054 69939.87117589 39465.78368173 39365.13437862\n",
      " 34275.12663527 33522.45291247]\n",
      "Mean: 44778.62737640076\n",
      "Standard deviation: 13006.070834460743\n"
     ]
    }
   ],
   "source": [
    "kford(model_tree,X_train_features_add,y_train)"
   ]
  },
  {
   "cell_type": "markdown",
   "id": "478f919d",
   "metadata": {},
   "source": [
    "##### Kiểm định chéo chọn 3 tập dữ liệu đc lọc qua 3 cách: Model: Randomforest"
   ]
  },
  {
   "cell_type": "code",
   "execution_count": 190,
   "id": "358c10e4",
   "metadata": {},
   "outputs": [
    {
     "name": "stdout",
     "output_type": "stream",
     "text": [
      "Scores: [24445.82211451 43520.53163322 31039.09590964 25685.94338086\n",
      " 27028.52912557 37285.73882359 25325.33211734 26963.54234137\n",
      " 23098.67530614 20764.3788218 ]\n",
      "Mean: 28515.758957405324\n",
      "Standard deviation: 6612.291305533348\n"
     ]
    }
   ],
   "source": [
    "kford(model_random,X_train_lasso,y_train)"
   ]
  },
  {
   "cell_type": "code",
   "execution_count": 191,
   "id": "2009bda0",
   "metadata": {},
   "outputs": [
    {
     "name": "stdout",
     "output_type": "stream",
     "text": [
      "Scores: [24001.8411502  45401.1556932  28868.67749633 24880.79385486\n",
      " 26821.00695832 38232.42060216 25235.37693888 28056.71703809\n",
      " 23436.88210032 21723.65443446]\n",
      "Mean: 28665.85262668314\n",
      "Standard deviation: 7062.501795398284\n"
     ]
    }
   ],
   "source": [
    "kford(model_random,X_train_FeatureElimination,y_train)"
   ]
  },
  {
   "cell_type": "code",
   "execution_count": 192,
   "id": "dac41e09",
   "metadata": {},
   "outputs": [
    {
     "name": "stdout",
     "output_type": "stream",
     "text": [
      "Scores: [29779.39360131 56776.89084046 31228.26613608 31881.10068952\n",
      " 35250.80422165 48269.15890267 33282.2863767  32513.4968044\n",
      " 27047.58669673 26153.85279279]\n",
      "Mean: 35218.28370623101\n",
      "Standard deviation: 9228.903803082087\n"
     ]
    }
   ],
   "source": [
    "kford(model_random,X_train_features_add,y_train)"
   ]
  },
  {
   "cell_type": "markdown",
   "id": "d4f2702e",
   "metadata": {},
   "source": [
    "Ta có thể rằng Thuật toán DecisionTree ko còn hiệu quả, và RandomForest đang làm rất tốt "
   ]
  },
  {
   "cell_type": "markdown",
   "id": "aca270d5",
   "metadata": {},
   "source": [
    "#### Tối ưu tham số"
   ]
  },
  {
   "cell_type": "code",
   "execution_count": 198,
   "id": "2a5cca29",
   "metadata": {},
   "outputs": [
    {
     "name": "stderr",
     "output_type": "stream",
     "text": [
      "C:\\ProgramData\\Anaconda3\\lib\\site-packages\\sklearn\\model_selection\\_validation.py:610: FitFailedWarning: Estimator fit failed. The score on this train-test partition for these parameters will be set to nan. Details: \n",
      "Traceback (most recent call last):\n",
      "  File \"C:\\ProgramData\\Anaconda3\\lib\\site-packages\\sklearn\\model_selection\\_validation.py\", line 593, in _fit_and_score\n",
      "    estimator.fit(X_train, y_train, **fit_params)\n",
      "  File \"C:\\ProgramData\\Anaconda3\\lib\\site-packages\\sklearn\\ensemble\\_forest.py\", line 349, in fit\n",
      "    self._validate_estimator()\n",
      "  File \"C:\\ProgramData\\Anaconda3\\lib\\site-packages\\sklearn\\ensemble\\_base.py\", line 129, in _validate_estimator\n",
      "    raise ValueError(\"n_estimators must be an integer, \"\n",
      "ValueError: n_estimators must be an integer, got <class 'float'>.\n",
      "\n",
      "  warnings.warn(\"Estimator fit failed. The score on this train-test\"\n",
      "C:\\ProgramData\\Anaconda3\\lib\\site-packages\\sklearn\\model_selection\\_validation.py:610: FitFailedWarning: Estimator fit failed. The score on this train-test partition for these parameters will be set to nan. Details: \n",
      "Traceback (most recent call last):\n",
      "  File \"C:\\ProgramData\\Anaconda3\\lib\\site-packages\\sklearn\\model_selection\\_validation.py\", line 593, in _fit_and_score\n",
      "    estimator.fit(X_train, y_train, **fit_params)\n",
      "  File \"C:\\ProgramData\\Anaconda3\\lib\\site-packages\\sklearn\\ensemble\\_forest.py\", line 349, in fit\n",
      "    self._validate_estimator()\n",
      "  File \"C:\\ProgramData\\Anaconda3\\lib\\site-packages\\sklearn\\ensemble\\_base.py\", line 129, in _validate_estimator\n",
      "    raise ValueError(\"n_estimators must be an integer, \"\n",
      "ValueError: n_estimators must be an integer, got <class 'float'>.\n",
      "\n",
      "  warnings.warn(\"Estimator fit failed. The score on this train-test\"\n",
      "C:\\ProgramData\\Anaconda3\\lib\\site-packages\\sklearn\\model_selection\\_validation.py:610: FitFailedWarning: Estimator fit failed. The score on this train-test partition for these parameters will be set to nan. Details: \n",
      "Traceback (most recent call last):\n",
      "  File \"C:\\ProgramData\\Anaconda3\\lib\\site-packages\\sklearn\\model_selection\\_validation.py\", line 593, in _fit_and_score\n",
      "    estimator.fit(X_train, y_train, **fit_params)\n",
      "  File \"C:\\ProgramData\\Anaconda3\\lib\\site-packages\\sklearn\\ensemble\\_forest.py\", line 349, in fit\n",
      "    self._validate_estimator()\n",
      "  File \"C:\\ProgramData\\Anaconda3\\lib\\site-packages\\sklearn\\ensemble\\_base.py\", line 129, in _validate_estimator\n",
      "    raise ValueError(\"n_estimators must be an integer, \"\n",
      "ValueError: n_estimators must be an integer, got <class 'float'>.\n",
      "\n",
      "  warnings.warn(\"Estimator fit failed. The score on this train-test\"\n",
      "C:\\ProgramData\\Anaconda3\\lib\\site-packages\\sklearn\\model_selection\\_validation.py:610: FitFailedWarning: Estimator fit failed. The score on this train-test partition for these parameters will be set to nan. Details: \n",
      "Traceback (most recent call last):\n",
      "  File \"C:\\ProgramData\\Anaconda3\\lib\\site-packages\\sklearn\\model_selection\\_validation.py\", line 593, in _fit_and_score\n",
      "    estimator.fit(X_train, y_train, **fit_params)\n",
      "  File \"C:\\ProgramData\\Anaconda3\\lib\\site-packages\\sklearn\\ensemble\\_forest.py\", line 349, in fit\n",
      "    self._validate_estimator()\n",
      "  File \"C:\\ProgramData\\Anaconda3\\lib\\site-packages\\sklearn\\ensemble\\_base.py\", line 129, in _validate_estimator\n",
      "    raise ValueError(\"n_estimators must be an integer, \"\n",
      "ValueError: n_estimators must be an integer, got <class 'float'>.\n",
      "\n",
      "  warnings.warn(\"Estimator fit failed. The score on this train-test\"\n",
      "C:\\ProgramData\\Anaconda3\\lib\\site-packages\\sklearn\\model_selection\\_validation.py:610: FitFailedWarning: Estimator fit failed. The score on this train-test partition for these parameters will be set to nan. Details: \n",
      "Traceback (most recent call last):\n",
      "  File \"C:\\ProgramData\\Anaconda3\\lib\\site-packages\\sklearn\\model_selection\\_validation.py\", line 593, in _fit_and_score\n",
      "    estimator.fit(X_train, y_train, **fit_params)\n",
      "  File \"C:\\ProgramData\\Anaconda3\\lib\\site-packages\\sklearn\\ensemble\\_forest.py\", line 349, in fit\n",
      "    self._validate_estimator()\n",
      "  File \"C:\\ProgramData\\Anaconda3\\lib\\site-packages\\sklearn\\ensemble\\_base.py\", line 129, in _validate_estimator\n",
      "    raise ValueError(\"n_estimators must be an integer, \"\n",
      "ValueError: n_estimators must be an integer, got <class 'float'>.\n",
      "\n",
      "  warnings.warn(\"Estimator fit failed. The score on this train-test\"\n",
      "C:\\ProgramData\\Anaconda3\\lib\\site-packages\\sklearn\\model_selection\\_validation.py:610: FitFailedWarning: Estimator fit failed. The score on this train-test partition for these parameters will be set to nan. Details: \n",
      "Traceback (most recent call last):\n",
      "  File \"C:\\ProgramData\\Anaconda3\\lib\\site-packages\\sklearn\\model_selection\\_validation.py\", line 593, in _fit_and_score\n",
      "    estimator.fit(X_train, y_train, **fit_params)\n",
      "  File \"C:\\ProgramData\\Anaconda3\\lib\\site-packages\\sklearn\\ensemble\\_forest.py\", line 349, in fit\n",
      "    self._validate_estimator()\n",
      "  File \"C:\\ProgramData\\Anaconda3\\lib\\site-packages\\sklearn\\ensemble\\_base.py\", line 129, in _validate_estimator\n",
      "    raise ValueError(\"n_estimators must be an integer, \"\n",
      "ValueError: n_estimators must be an integer, got <class 'float'>.\n",
      "\n",
      "  warnings.warn(\"Estimator fit failed. The score on this train-test\"\n",
      "C:\\ProgramData\\Anaconda3\\lib\\site-packages\\sklearn\\model_selection\\_validation.py:610: FitFailedWarning: Estimator fit failed. The score on this train-test partition for these parameters will be set to nan. Details: \n",
      "Traceback (most recent call last):\n",
      "  File \"C:\\ProgramData\\Anaconda3\\lib\\site-packages\\sklearn\\model_selection\\_validation.py\", line 593, in _fit_and_score\n",
      "    estimator.fit(X_train, y_train, **fit_params)\n",
      "  File \"C:\\ProgramData\\Anaconda3\\lib\\site-packages\\sklearn\\ensemble\\_forest.py\", line 349, in fit\n",
      "    self._validate_estimator()\n",
      "  File \"C:\\ProgramData\\Anaconda3\\lib\\site-packages\\sklearn\\ensemble\\_base.py\", line 129, in _validate_estimator\n",
      "    raise ValueError(\"n_estimators must be an integer, \"\n",
      "ValueError: n_estimators must be an integer, got <class 'float'>.\n",
      "\n",
      "  warnings.warn(\"Estimator fit failed. The score on this train-test\"\n",
      "C:\\ProgramData\\Anaconda3\\lib\\site-packages\\sklearn\\model_selection\\_validation.py:610: FitFailedWarning: Estimator fit failed. The score on this train-test partition for these parameters will be set to nan. Details: \n",
      "Traceback (most recent call last):\n",
      "  File \"C:\\ProgramData\\Anaconda3\\lib\\site-packages\\sklearn\\model_selection\\_validation.py\", line 593, in _fit_and_score\n",
      "    estimator.fit(X_train, y_train, **fit_params)\n",
      "  File \"C:\\ProgramData\\Anaconda3\\lib\\site-packages\\sklearn\\ensemble\\_forest.py\", line 349, in fit\n",
      "    self._validate_estimator()\n",
      "  File \"C:\\ProgramData\\Anaconda3\\lib\\site-packages\\sklearn\\ensemble\\_base.py\", line 129, in _validate_estimator\n",
      "    raise ValueError(\"n_estimators must be an integer, \"\n",
      "ValueError: n_estimators must be an integer, got <class 'float'>.\n",
      "\n",
      "  warnings.warn(\"Estimator fit failed. The score on this train-test\"\n",
      "C:\\ProgramData\\Anaconda3\\lib\\site-packages\\sklearn\\model_selection\\_validation.py:610: FitFailedWarning: Estimator fit failed. The score on this train-test partition for these parameters will be set to nan. Details: \n",
      "Traceback (most recent call last):\n",
      "  File \"C:\\ProgramData\\Anaconda3\\lib\\site-packages\\sklearn\\model_selection\\_validation.py\", line 593, in _fit_and_score\n",
      "    estimator.fit(X_train, y_train, **fit_params)\n",
      "  File \"C:\\ProgramData\\Anaconda3\\lib\\site-packages\\sklearn\\ensemble\\_forest.py\", line 349, in fit\n",
      "    self._validate_estimator()\n",
      "  File \"C:\\ProgramData\\Anaconda3\\lib\\site-packages\\sklearn\\ensemble\\_base.py\", line 129, in _validate_estimator\n",
      "    raise ValueError(\"n_estimators must be an integer, \"\n",
      "ValueError: n_estimators must be an integer, got <class 'float'>.\n",
      "\n",
      "  warnings.warn(\"Estimator fit failed. The score on this train-test\"\n",
      "C:\\ProgramData\\Anaconda3\\lib\\site-packages\\sklearn\\model_selection\\_validation.py:610: FitFailedWarning: Estimator fit failed. The score on this train-test partition for these parameters will be set to nan. Details: \n",
      "Traceback (most recent call last):\n",
      "  File \"C:\\ProgramData\\Anaconda3\\lib\\site-packages\\sklearn\\model_selection\\_validation.py\", line 593, in _fit_and_score\n",
      "    estimator.fit(X_train, y_train, **fit_params)\n",
      "  File \"C:\\ProgramData\\Anaconda3\\lib\\site-packages\\sklearn\\ensemble\\_forest.py\", line 349, in fit\n",
      "    self._validate_estimator()\n",
      "  File \"C:\\ProgramData\\Anaconda3\\lib\\site-packages\\sklearn\\ensemble\\_base.py\", line 129, in _validate_estimator\n",
      "    raise ValueError(\"n_estimators must be an integer, \"\n",
      "ValueError: n_estimators must be an integer, got <class 'float'>.\n",
      "\n",
      "  warnings.warn(\"Estimator fit failed. The score on this train-test\"\n"
     ]
    },
    {
     "name": "stderr",
     "output_type": "stream",
     "text": [
      "C:\\ProgramData\\Anaconda3\\lib\\site-packages\\sklearn\\model_selection\\_search.py:918: UserWarning: One or more of the test scores are non-finite: [            nan -1.91211487e+09 -8.82545182e+08 -8.61060133e+08]\n",
      "  warnings.warn(\n"
     ]
    },
    {
     "data": {
      "text/plain": [
       "GridSearchCV(cv=10, estimator=RandomForestRegressor(),\n",
       "             param_grid={'n_estimators': [0.5, 1, 100, 1000]},\n",
       "             scoring='neg_mean_squared_error')"
      ]
     },
     "execution_count": 198,
     "metadata": {},
     "output_type": "execute_result"
    }
   ],
   "source": [
    "parameters = {'n_estimators':[0.5,1,100,1000]}\n",
    "model_random_forest = RandomForestRegressor()\n",
    "grid_search =  GridSearchCV(model_random_forest,parameters,cv = 10,scoring='neg_mean_squared_error')\n",
    "grid_search.fit(X_train_FeatureElimination,y_train)"
   ]
  },
  {
   "cell_type": "code",
   "execution_count": 199,
   "id": "12326b0c",
   "metadata": {},
   "outputs": [
    {
     "data": {
      "text/plain": [
       "{'n_estimators': 1000}"
      ]
     },
     "execution_count": 199,
     "metadata": {},
     "output_type": "execute_result"
    }
   ],
   "source": [
    "grid_search.best_params_"
   ]
  },
  {
   "cell_type": "code",
   "execution_count": 201,
   "id": "aa0b8af8",
   "metadata": {},
   "outputs": [
    {
     "data": {
      "text/plain": [
       "array([212063.567, 153691.517, 107671.491, 230120.715, 108614.986,\n",
       "       112755.717, 264827.608, 140313.719, 499165.243, 157575.63 ,\n",
       "       182546.897, 157251.586, 217692.004, 121245.823, 128133.146,\n",
       "       149868.825, 223606.482, 115463.521, 146895.002, 182775.331,\n",
       "       144167.245, 139451.169, 121688.393, 169414.857, 182663.564,\n",
       "       219854.372, 168097.123,  87483.759, 329256.17 , 119770.042,\n",
       "       158860.272, 195335.385, 139588.739, 292818.781, 336589.333,\n",
       "       185349.684, 274754.912, 126972.018, 230336.145, 295974.954,\n",
       "       207037.031, 133819.202, 179571.125, 283655.472, 334639.77 ,\n",
       "       152662.559, 127795.026, 129106.342, 177490.931,  96164.927,\n",
       "       380864.735, 148274.383, 167581.456,  96054.372, 233780.678,\n",
       "       119067.467, 139564.449, 253615.787, 147739.217, 107763.74 ,\n",
       "       143444.652, 137111.307, 147343.871, 155088.316, 186496.431,\n",
       "       166171.969, 130239.936, 214428.464, 129847.614, 190734.189,\n",
       "       183853.131, 121951.686,  91614.373, 231349.06 ,  97820.156,\n",
       "       264437.852, 132696.652, 113566.57 , 277967.117, 156241.631,\n",
       "       138370.282, 131474.45 , 125309.384, 144469.435, 181533.241,\n",
       "       194392.346, 104610.45 , 191312.344, 171595.301, 142956.122,\n",
       "       187437.371, 198231.264, 184171.592, 218849.813, 195312.16 ,\n",
       "       153589.208, 205843.113, 182822.48 , 120609.313, 154764.147,\n",
       "       253867.015, 214602.141, 116149.888, 161987.208, 114713.506,\n",
       "       274885.954, 162901.847, 108353.295, 173149.216, 124216.784,\n",
       "       101658.509, 129617.364, 204175.097, 124594.704, 172804.782,\n",
       "       162438.136, 397029.236, 134339.835, 193855.097, 264363.564,\n",
       "       154092.288, 167691.649, 139357.514, 218589.717, 220788.619,\n",
       "       208649.468, 372062.817, 199616.684, 197444.157, 174115.904,\n",
       "       211693.312, 201709.256, 161907.951, 175935.988, 111500.92 ,\n",
       "       229362.744, 150096.919, 188471.76 , 116215.37 , 175187.606,\n",
       "       142259.076, 138123.369, 207189.747, 147019.315, 144555.928,\n",
       "       175604.772, 235466.781, 142878.712, 289049.724, 234149.365,\n",
       "       168358.347, 355401.157, 283453.284, 184332.005, 193917.085,\n",
       "       263087.871, 123709.553, 215177.694, 124877.243, 174772.303,\n",
       "       121016.324, 148955.394, 201510.935, 132654.151, 255132.336,\n",
       "       137618.151, 160667.094, 270809.186, 187386.319, 179164.767,\n",
       "       183150.533, 170263.701, 173881.969, 158631.825, 131672.443,\n",
       "       118361.646, 140073.282, 233450.361, 119963.477, 150547.372,\n",
       "       305706.4  , 206628.603, 119233.899, 284338.059, 112455.381,\n",
       "       177031.312, 109145.458, 197289.377, 196203.848, 138537.795,\n",
       "       144707.787, 155533.195, 197156.852, 132763.167, 122075.753,\n",
       "       142750.73 ,  98796.133, 132876.162, 177743.416, 143323.087,\n",
       "       138331.111, 206241.048, 115033.478, 126445.561, 154962.278,\n",
       "       178128.21 , 156211.998, 316832.447, 266596.574,  74687.186,\n",
       "       156871.77 , 239716.334,  92944.467, 103258.093, 346781.276,\n",
       "       212347.457, 192717.976, 252550.079, 254256.224,  91047.18 ,\n",
       "       213815.315, 166255.686, 149626.384, 124095.084, 186497.285,\n",
       "       248814.479, 244499.415, 194496.756, 133909.863, 169655.772,\n",
       "        91062.871, 158266.062, 108880.807, 150084.756, 219419.584,\n",
       "       134379.593, 148132.141, 124759.734,  93516.862, 189326.165,\n",
       "       120043.926, 194225.637, 201828.753, 210329.252, 166736.232,\n",
       "       191700.472, 215106.388, 193499.805, 127078.786, 194904.962,\n",
       "       176448.649, 269355.252, 102375.666, 417474.   , 228166.739,\n",
       "       227851.251, 102465.387, 210039.994, 393445.66 , 421237.714,\n",
       "       214271.214, 149317.935, 158152.67 , 103575.321, 401418.302,\n",
       "       302247.848, 330366.467,  82922.707, 228111.722, 251323.357,\n",
       "       141540.722, 228057.466, 149416.601, 186286.842, 157129.704,\n",
       "       230177.839, 213863.458, 182574.954, 222509.845, 118903.098,\n",
       "       135278.15 , 353856.032, 157973.992, 157422.564, 199207.106,\n",
       "       173027.626, 120453.281, 295366.926, 412313.816, 179144.378,\n",
       "        77845.879, 107648.285, 316580.237, 115011.131, 121916.728,\n",
       "       278166.294, 227792.649, 180525.708, 156368.071, 165220.195,\n",
       "       106387.91 , 125568.724, 182573.529, 169652.663, 172769.12 ,\n",
       "       156259.409, 130292.2  , 171868.523, 181628.07 , 181511.721,\n",
       "       106904.373, 151860.414, 161500.994, 134778.559, 130478.883,\n",
       "       140261.895, 303495.586, 120346.273, 187169.529, 182159.319,\n",
       "       107680.733, 240621.405, 113048.987, 239860.563, 158986.143,\n",
       "       228695.1  , 135761.141, 325039.424, 193274.586, 144963.03 ,\n",
       "       126418.81 , 227377.472, 164298.263, 183149.499, 172370.955,\n",
       "       151022.799, 139077.523, 206411.266, 154460.658, 134363.597,\n",
       "       336011.528, 161528.947, 176772.346, 222747.562, 159221.502,\n",
       "       157387.077, 111041.36 , 101345.624,  98797.422, 140099.979,\n",
       "       209259.098, 361149.312, 123532.891, 100207.77 , 163978.315,\n",
       "       372571.729, 317699.458, 156428.793, 294663.561, 218239.715,\n",
       "       352860.889, 194445.029, 227726.164, 258889.962, 102006.838,\n",
       "       161471.486, 176830.052, 123404.604, 189548.729, 157639.034,\n",
       "       405359.341, 112464.798, 151711.238, 144121.259, 146879.907,\n",
       "        80154.608, 181812.372, 285596.701, 122729.1  , 251013.907,\n",
       "       174792.827, 108821.963, 142792.861, 139157.449, 131421.007,\n",
       "       101307.722, 141325.708, 200899.084, 231998.578, 340869.311,\n",
       "       118714.896, 117933.983, 205778.283,  85316.559, 142506.407,\n",
       "       167396.374, 179580.408, 172154.91 , 150678.435, 185703.312,\n",
       "       335533.301, 212470.337, 163541.635, 109450.711, 149836.222,\n",
       "       264312.548, 121152.83 , 304456.711, 240314.888, 257900.768,\n",
       "       146184.169, 124803.314, 188996.005, 157031.777, 146295.655,\n",
       "       128897.89 , 189568.215, 110299.909, 254792.293, 146334.785,\n",
       "       270328.444, 374609.887, 120292.639, 157387.368, 145669.478,\n",
       "       119897.157, 301448.458, 130743.669, 202954.943, 138554.126,\n",
       "       157345.839, 212611.132, 149551.5  , 186876.093, 165910.658,\n",
       "       336506.699, 210023.948, 428343.247])"
      ]
     },
     "execution_count": 201,
     "metadata": {},
     "output_type": "execute_result"
    }
   ],
   "source": [
    "model_lasso = RandomForestRegressor(n_estimators=  grid_search.best_params_['n_estimators'], random_state = 0)\n",
    "model_lasso.fit(X_train_lasso, y_train)\n",
    "model_lasso.predict(X_test_lasso)"
   ]
  },
  {
   "cell_type": "code",
   "execution_count": 204,
   "id": "001f3c04",
   "metadata": {},
   "outputs": [
    {
     "data": {
      "text/plain": [
       "0.8498754199776057"
      ]
     },
     "execution_count": 204,
     "metadata": {},
     "output_type": "execute_result"
    }
   ],
   "source": [
    "r2_score(y_test,model_lasso.predict(X_test_lasso))"
   ]
  },
  {
   "cell_type": "code",
   "execution_count": 205,
   "id": "8d2cfedf",
   "metadata": {},
   "outputs": [
    {
     "data": {
      "text/plain": [
       "array([220847.449     , 153997.709     , 105905.237     , 227652.643     ,\n",
       "       107143.319     , 110174.844     , 263054.614     , 137456.998     ,\n",
       "       510992.317     , 155396.351     , 195909.355     , 156668.433     ,\n",
       "       224098.889     , 123097.389     , 131109.204     , 150487.712     ,\n",
       "       219759.699     , 115577.375     , 145847.293     , 196230.403     ,\n",
       "       140057.245     , 137418.968     , 111464.92      , 172537.259     ,\n",
       "       181199.426     , 225375.706     , 165218.21      ,  93063.197     ,\n",
       "       315298.396     , 117376.126     , 157629.908     , 199602.354     ,\n",
       "       138224.687     , 289219.165     , 352422.58      , 184535.525     ,\n",
       "       279527.592     , 127339.933     , 232980.665     , 301221.229     ,\n",
       "       207142.869     , 135892.223     , 187827.92      , 285753.316     ,\n",
       "       337128.069     , 151381.679     , 128471.81      , 129078.675     ,\n",
       "       177857.064     , 103685.375     , 380814.095     , 147605.649     ,\n",
       "       165621.941     ,  97141.293     , 232328.627     , 114709.554     ,\n",
       "       141348.051     , 248903.299     , 145228.402     , 110286.218     ,\n",
       "       142126.02      , 135857.117     , 145421.928     , 155458.247     ,\n",
       "       186475.458     , 165552.618     , 130876.417     , 209608.522     ,\n",
       "       130134.909     , 200574.612     , 187379.659     , 123820.529     ,\n",
       "        87020.242     , 235162.779     , 100029.163     , 267277.02      ,\n",
       "       133624.008     , 115433.477     , 278867.785     , 155027.574     ,\n",
       "       137476.798     , 129293.166     , 122928.979     , 144574.219     ,\n",
       "       182179.52      , 197464.186     , 104645.662     , 197904.45      ,\n",
       "       173596.19      , 142623.084     , 188215.153     , 195629.074     ,\n",
       "       185108.918     , 221632.383     , 192488.728     , 153550.478     ,\n",
       "       206452.763     , 181084.919     , 119720.359     , 154540.896     ,\n",
       "       255775.65      , 210310.213     , 124865.761     , 163131.603     ,\n",
       "       119268.664     , 282242.19      , 157566.29      ,  97815.055     ,\n",
       "       173313.241     , 127590.508     ,  91711.979     , 130238.182     ,\n",
       "       203618.183     , 126254.075     , 170105.887     , 160850.056     ,\n",
       "       406344.997     , 132531.568     , 192679.024     , 259980.491     ,\n",
       "       159326.245     , 159522.145     , 138394.074     , 219803.077     ,\n",
       "       223979.936     , 222424.536     , 383722.032     , 197971.012     ,\n",
       "       194900.963     , 173751.227     , 201973.052     , 200787.59      ,\n",
       "       162069.166     , 174809.786     , 110696.644     , 231898.139     ,\n",
       "       147369.5       , 184795.031     , 114160.103     , 173938.568     ,\n",
       "       138769.029     , 142380.799     , 205360.198     , 144021.163     ,\n",
       "       144042.785     , 175973.236     , 240246.584     , 142203.373     ,\n",
       "       287803.234     , 236177.469     , 165563.99      , 344505.159     ,\n",
       "       285095.204     , 185556.911     , 196383.566     , 266887.351     ,\n",
       "       123446.729     , 215987.937     , 123447.221     , 175128.269     ,\n",
       "       122732.479     , 149638.336     , 197785.938     , 123936.222     ,\n",
       "       257180.565     , 133498.983     , 162224.369     , 272980.096     ,\n",
       "       199049.952     , 178842.767     , 178947.326     , 170076.871     ,\n",
       "       171978.316     , 157516.408     , 128202.285     , 119307.926     ,\n",
       "       139935.048     , 231722.84      , 122184.328     , 148899.263     ,\n",
       "       305234.782     , 199582.588     , 119218.224     , 290681.98      ,\n",
       "       116224.402     , 174612.984     , 104811.032     , 195567.277     ,\n",
       "       194805.53      , 137158.218     , 142913.33      , 158634.394     ,\n",
       "       201518.644     , 131371.329     , 119956.035     , 143521.559     ,\n",
       "       102137.686     , 139011.55      , 177290.957     , 141840.219     ,\n",
       "       139674.407     , 213315.49      , 113115.716     , 125495.384     ,\n",
       "       154040.715     , 175937.818     , 153313.345     , 310680.03      ,\n",
       "       268521.572     ,  74692.558     , 154880.306     , 252838.28      ,\n",
       "        91158.553     , 106936.884     , 351532.188     , 211001.42      ,\n",
       "       190347.66      , 260697.343     , 255990.522     ,  95421.384     ,\n",
       "       206429.914     , 165097.765     , 148438.781     , 122450.602     ,\n",
       "       190369.816     , 244041.082     , 248151.754     , 194436.431     ,\n",
       "       137197.861     , 169860.408     ,  90269.021     , 150430.128     ,\n",
       "       104535.754     , 145106.509     , 225740.556     , 136107.458     ,\n",
       "       146939.41      , 121302.233     ,  95880.171     , 190993.101     ,\n",
       "       119450.711     , 193778.663     , 210179.095     , 210972.737     ,\n",
       "       165161.889     , 198609.168     , 217336.328     , 196506.069     ,\n",
       "       125737.099     , 190026.925     , 175026.026     , 264780.475     ,\n",
       "       103832.756     , 438212.249     , 232219.228     , 234849.893     ,\n",
       "       103751.207     , 211385.927     , 392186.879     , 398077.029     ,\n",
       "       220566.872     , 146800.497     , 153140.919     ,  99287.43      ,\n",
       "       392667.303     , 311124.809     , 335474.491     ,  75132.106     ,\n",
       "       227692.645     , 260157.645     , 138619.471     , 234457.382     ,\n",
       "       149338.728     , 186615.414     , 155774.134     , 228333.011     ,\n",
       "       221597.283     , 184907.088     , 230021.98      , 123209.226     ,\n",
       "       134833.886     , 372378.469     , 157641.469     , 158876.047     ,\n",
       "       195361.101     , 169217.312     , 121828.597     , 299236.292     ,\n",
       "       427321.876     , 178926.162     ,  82922.959     ,  94792.985     ,\n",
       "       316173.186     , 106094.433     , 124745.743     , 277984.931     ,\n",
       "       215863.717     , 193872.101     , 156044.454     , 168171.43671429,\n",
       "       102560.583     , 127645.285     , 196066.565     , 169496.845     ,\n",
       "       170439.856     , 156152.493     , 131359.362     , 173175.349     ,\n",
       "       184443.999     , 180375.751     , 111610.372     , 152124.936     ,\n",
       "       163948.24071429, 135911.522     , 130339.727     , 138498.526     ,\n",
       "       298473.824     , 126665.884     , 198164.265     , 179667.482     ,\n",
       "       110765.319     , 250606.083     , 114529.655     , 242259.411     ,\n",
       "       159720.934     , 227461.238     , 134009.909     , 327784.188     ,\n",
       "       189745.958     , 143629.333     , 126557.448     , 240081.941     ,\n",
       "       161951.909     , 191056.542     , 169373.988     , 151582.736     ,\n",
       "       137943.101     , 211898.196     , 160141.186     , 135230.04      ,\n",
       "       338276.754     , 162589.806     , 168666.604     , 229803.931     ,\n",
       "       162391.486     , 155485.212     , 115402.912     , 109264.336     ,\n",
       "       102420.287     , 138026.446     , 210006.224     , 355490.462     ,\n",
       "       121524.        , 105918.701     , 161887.149     , 376272.946     ,\n",
       "       319199.915     , 156164.292     , 295569.569     , 218749.051     ,\n",
       "       345034.772     , 193021.238     , 230127.957     , 258612.222     ,\n",
       "       105427.985     , 157778.514     , 176727.777     , 125565.611     ,\n",
       "       189535.242     , 159283.295     , 425006.054     , 112425.446     ,\n",
       "       150800.22      , 142837.009     , 143368.182     ,  76469.331     ,\n",
       "       180113.116     , 289289.124     , 120087.328     , 247792.088     ,\n",
       "       173153.396     , 111392.591     , 142332.756     , 135619.418     ,\n",
       "       130637.375     , 101925.214     , 135306.206     , 196166.963     ,\n",
       "       228654.226     , 344073.97      , 118499.375     , 125191.178     ,\n",
       "       211240.13      ,  88450.785     , 141325.244     , 167070.331     ,\n",
       "       173659.212     , 169143.18      , 149841.437     , 187987.961     ,\n",
       "       329698.55      , 214310.784     , 161188.119     , 111408.498     ,\n",
       "       148142.5       , 258754.55      , 110636.225     , 301554.85      ,\n",
       "       238873.598     , 253346.973     , 144809.113     , 124484.587     ,\n",
       "       203456.558     , 153233.545     , 146231.475     , 127743.124     ,\n",
       "       201953.422     , 107673.034     , 263727.609     , 144309.441     ,\n",
       "       262197.889     , 363124.709     , 118087.127     , 158090.86      ,\n",
       "       143549.216     , 116581.761     , 307125.457     , 127314.885     ,\n",
       "       209851.74      , 137383.024     , 155535.686     , 211472.417     ,\n",
       "       147663.17      , 192614.487     , 166361.816     , 344828.423     ,\n",
       "       212132.044     , 437880.492     ])"
      ]
     },
     "execution_count": 205,
     "metadata": {},
     "output_type": "execute_result"
    }
   ],
   "source": [
    "model_lasso = RandomForestRegressor(n_estimators=  grid_search.best_params_['n_estimators'], random_state = 0)\n",
    "model_lasso.fit(X_train_FeatureElimination, y_train)\n",
    "model_lasso.predict(X_test_FeatureElimination)"
   ]
  },
  {
   "cell_type": "code",
   "execution_count": 206,
   "id": "dc6780a6",
   "metadata": {},
   "outputs": [
    {
     "data": {
      "text/plain": [
       "0.8599346290472698"
      ]
     },
     "execution_count": 206,
     "metadata": {},
     "output_type": "execute_result"
    }
   ],
   "source": [
    "r2_score(y_test,model_lasso.predict(X_test_FeatureElimination))"
   ]
  },
  {
   "cell_type": "code",
   "execution_count": 207,
   "id": "15ddcf82",
   "metadata": {},
   "outputs": [
    {
     "data": {
      "text/plain": [
       "array([219695.62      , 146292.8       , 108405.22033333, 227238.739     ,\n",
       "        89949.1335    , 113212.47233333, 246991.557     , 132370.728     ,\n",
       "       631625.593     , 141639.41553333, 212264.03533333, 153122.27285714,\n",
       "       232124.699     , 121204.55      , 116072.41666667, 133084.252     ,\n",
       "       222992.664     ,  92236.45414286, 140895.035     , 202219.726     ,\n",
       "       147578.896     , 137973.36146978, 127438.31461977, 171326.26666667,\n",
       "       168962.35      , 215576.084     , 172713.525     ,  63257.211     ,\n",
       "       320338.16933333, 107591.749     , 154676.86066667, 210574.35      ,\n",
       "       135707.52475996, 297364.602     , 374877.094     , 184381.82716667,\n",
       "       281396.996     , 133386.476     , 226660.562     , 296293.097     ,\n",
       "       218395.612     , 139132.314     , 187101.228     , 278356.15      ,\n",
       "       363272.854     , 140580.56390476, 128238.22446825, 118596.65933333,\n",
       "       183100.7       , 108330.406     , 419261.919     , 153531.50916667,\n",
       "       164699.46733333,  88219.076     , 200858.67      , 105141.0598373 ,\n",
       "       152788.082     , 231567.72566667, 132295.488     , 107547.417     ,\n",
       "       145659.66      , 141199.19547619, 137317.772     , 152067.85      ,\n",
       "       191718.5       , 168877.4       , 119877.35      , 195655.66428571,\n",
       "       114339.90233333, 163408.652     , 179546.52461905, 140978.1172619 ,\n",
       "        86218.24433333, 212266.49666667,  88327.2017619 , 272192.10166667,\n",
       "       127879.98552381, 115685.02      , 268761.512     , 137259.962     ,\n",
       "       130118.05833333, 112339.46647619, 113884.081     , 136179.88      ,\n",
       "       175506.15333333, 207047.43047619, 105089.87566667, 199685.85733333,\n",
       "       174252.34      , 148966.11833333, 179646.35      , 170099.        ,\n",
       "       171106.6815    , 209764.764     , 190833.6002381 , 141684.304     ,\n",
       "       201428.56426984, 155523.564     , 107954.44789683, 135431.71933333,\n",
       "       233850.077     , 219564.615     , 147691.59      , 168742.1372381 ,\n",
       "       101261.92079726, 273898.716     , 150356.69240793,  81584.27047619,\n",
       "       177684.35      , 114736.919     , 113666.99166667, 116482.47814286,\n",
       "       194587.43      , 122083.10933333, 169814.65690476, 168594.5       ,\n",
       "       460278.312     , 135186.90285714, 162678.81      , 265575.939     ,\n",
       "       138632.42033333, 173626.66729762, 135005.122     , 226489.939     ,\n",
       "       207347.361     , 200287.58538095, 398511.315     , 185979.30975   ,\n",
       "       185238.0677381 , 176429.43366667, 232630.26733333, 197432.45157143,\n",
       "       148702.408     , 172809.325     , 105360.9002381 , 212981.92      ,\n",
       "       144706.03      , 212626.73533333, 117972.982     , 170642.2       ,\n",
       "       147537.63595238, 127458.89816667, 222209.58      , 125794.7615    ,\n",
       "       106589.839     , 172086.85483333, 247380.457     , 143724.22761905,\n",
       "       306120.062     , 220887.30673016, 164813.67066667, 317291.28133333,\n",
       "       320345.746     , 154266.54033333, 217536.719     , 277366.468     ,\n",
       "       122077.60133333, 210853.63652381, 111976.9       , 176676.83666667,\n",
       "       107954.44789683, 148355.61      , 191749.63666667, 100688.77184524,\n",
       "       251834.069     , 117966.26066667, 170237.31442381, 290837.905     ,\n",
       "       204404.05633333, 163685.45      , 169761.12158333, 174249.4       ,\n",
       "       161519.417     , 160275.8       , 139024.78333333,  99849.025     ,\n",
       "       140001.67206349, 231467.06      , 129325.348     , 152019.83833333,\n",
       "       267303.87      , 217957.999     , 127454.72916667, 292817.48133333,\n",
       "       110773.13539683, 175003.95      ,  88361.22447619, 180114.04091667,\n",
       "       233377.96342857, 137973.36146978, 136179.88      , 146231.44033333,\n",
       "       218457.08219048, 124354.84583333, 133807.64      , 141878.03109524,\n",
       "        98313.95266667, 147381.97333333, 201405.8       , 149770.30066667,\n",
       "       145898.59      , 189352.0805    , 111197.881     ,  95046.53728571,\n",
       "       135127.772     , 175075.7       , 141576.904     , 348328.735     ,\n",
       "       268272.577     ,  75646.525     , 131982.701     , 276089.925     ,\n",
       "        99710.24966667, 104844.3       , 343681.105     , 221831.76      ,\n",
       "       199126.661     , 277843.981     , 275319.22466667,  63257.211     ,\n",
       "       206972.81461905, 171319.56825   , 147265.65      , 112339.46647619,\n",
       "       229933.12704762, 223733.902     , 258714.564     , 219274.67857143,\n",
       "       137317.772     , 196218.08541667,  99710.24966667, 152895.6784    ,\n",
       "        99932.1082381 , 136978.94730159, 204079.933     , 128262.97033333,\n",
       "       136129.406     , 102221.757     , 123723.01966667, 168877.4       ,\n",
       "       126086.66728571, 168157.68333333, 216157.75      , 218562.524     ,\n",
       "       182611.748     , 183236.76      , 207429.374     , 188188.04666667,\n",
       "       116972.579     , 189013.729     , 164666.87066667, 265594.73      ,\n",
       "       108527.53590476, 482571.92      , 212860.656     , 281904.589     ,\n",
       "       107751.20257143, 225689.51      , 381973.092     , 410277.667     ,\n",
       "       218094.121     , 123944.426     , 157832.24466667, 116756.66666667,\n",
       "       397396.133     , 333803.955     , 310275.488     ,  72997.80509524,\n",
       "       206028.5       , 285729.22133333, 144785.672     , 210195.669     ,\n",
       "       129432.216     , 186680.24766667, 158061.99      , 223509.06      ,\n",
       "       241355.58      , 190803.7       , 234458.478     , 108440.278     ,\n",
       "       128459.30655556, 367709.537     , 141877.38      , 162760.09666667,\n",
       "       188642.2034881 , 144959.79333333, 111096.335     , 272313.18      ,\n",
       "       460705.244     , 202163.5       ,  70136.2       , 100092.15      ,\n",
       "       346546.947     , 120797.11409524, 137107.49566667, 286828.591     ,\n",
       "       224065.49309524, 180001.80091667, 165676.9465    , 173681.03332143,\n",
       "        69050.55755556, 135208.36230159, 159786.50988095, 166304.18333333,\n",
       "       189741.4       , 168113.83216667, 155262.16190476, 154822.58885714,\n",
       "       185322.17591667, 182983.81389286, 125794.7615    , 130849.276     ,\n",
       "       167961.01      , 119641.381     , 116303.63      , 137973.36146978,\n",
       "       311531.117     , 109964.795     , 194871.31216667, 224436.2       ,\n",
       "       122777.654     , 274000.921     , 113090.37533333, 247002.608     ,\n",
       "       131282.11833333, 225688.979     , 132841.32633333, 344437.38      ,\n",
       "       184056.44      , 142980.36396825, 117692.826     , 239076.85      ,\n",
       "       171616.5       , 190922.88833333, 173017.635     , 153933.85857143,\n",
       "       151200.639     , 186695.4       , 166509.77619048, 140414.36952381,\n",
       "       339204.171     , 177978.43333333, 168296.635     , 233209.136     ,\n",
       "       166709.54      , 146934.01716667, 109571.55783333, 127679.199     ,\n",
       "       122755.476     , 126472.84166667, 210109.566     , 386032.261     ,\n",
       "       126816.6       , 122365.7462381 , 165635.06766667, 403011.839     ,\n",
       "       323200.825     , 133426.746     , 285254.521     , 185778.854     ,\n",
       "       390271.059     , 182264.6       , 222284.69419048, 247459.713     ,\n",
       "       103462.498     , 186149.15      , 176067.14066667, 102451.85583333,\n",
       "       141041.713     , 164092.959     , 458371.691     , 115035.70428571,\n",
       "       134398.642     , 126662.66142857, 132687.4952381 ,  65250.1       ,\n",
       "       171746.8       , 284044.904     , 121681.14828571, 253435.333     ,\n",
       "       169580.57278571, 112774.27366667, 141462.24216667, 130118.69      ,\n",
       "       128665.30178571, 100183.32966667, 141693.05333333, 193010.59333333,\n",
       "       218051.888     , 373615.904     ,  99662.46666667, 112857.048     ,\n",
       "       214236.51      ,  69313.01533333, 143033.08896825, 166721.635     ,\n",
       "       154836.79466667, 176614.11866667, 145362.412     , 173736.35      ,\n",
       "       329632.736     , 217180.88414286, 153680.307     ,  98313.95266667,\n",
       "       152570.39142857, 231447.099     , 108207.224     , 283223.778     ,\n",
       "       230025.967     , 249157.718     , 164725.685     , 113206.768     ,\n",
       "       194732.30842857, 146946.316     , 146906.55      , 131951.051     ,\n",
       "       211573.361     ,  88361.22447619, 256079.669     , 151305.57107459,\n",
       "       256703.199     , 346502.913     , 110118.486     , 160840.5875    ,\n",
       "       147596.61      , 106740.76257143, 247637.692     , 102777.38122619,\n",
       "       221713.152     , 103660.28861905, 155451.55      , 215197.922     ,\n",
       "       132193.79416667, 200785.55933333, 189028.45      , 379557.583     ,\n",
       "       220341.261     , 463008.981     ])"
      ]
     },
     "execution_count": 207,
     "metadata": {},
     "output_type": "execute_result"
    }
   ],
   "source": [
    "model_lasso = RandomForestRegressor(n_estimators=  grid_search.best_params_['n_estimators'])\n",
    "model_lasso.fit(X_train_features_add, y_train)\n",
    "model_lasso.predict(X_test_features_add)"
   ]
  },
  {
   "cell_type": "code",
   "execution_count": 208,
   "id": "622cc059",
   "metadata": {},
   "outputs": [
    {
     "data": {
      "text/plain": [
       "0.8344391080431935"
      ]
     },
     "execution_count": 208,
     "metadata": {},
     "output_type": "execute_result"
    }
   ],
   "source": [
    "r2_score(y_test,model_lasso.predict(X_test_features_add))"
   ]
  },
  {
   "cell_type": "code",
   "execution_count": null,
   "id": "a9b07a5d",
   "metadata": {},
   "outputs": [],
   "source": []
  }
 ],
 "metadata": {
  "kernelspec": {
   "display_name": "Python 3",
   "language": "python",
   "name": "python3"
  },
  "language_info": {
   "codemirror_mode": {
    "name": "ipython",
    "version": 3
   },
   "file_extension": ".py",
   "mimetype": "text/x-python",
   "name": "python",
   "nbconvert_exporter": "python",
   "pygments_lexer": "ipython3",
   "version": "3.8.8"
  }
 },
 "nbformat": 4,
 "nbformat_minor": 5
}
