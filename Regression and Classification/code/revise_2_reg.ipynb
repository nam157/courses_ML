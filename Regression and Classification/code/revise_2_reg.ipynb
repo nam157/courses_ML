{
 "cells": [
  {
   "cell_type": "code",
   "execution_count": 1,
   "id": "f64b3ef6",
   "metadata": {},
   "outputs": [],
   "source": [
    "import pandas as pd\n",
    "import numpy as np\n",
    "import matplotlib.pyplot as plt\n",
    "import seaborn as sns"
   ]
  },
  {
   "cell_type": "markdown",
   "id": "de32a058",
   "metadata": {},
   "source": [
    "## TÌM HIỂU DỮ LIỆU"
   ]
  },
  {
   "cell_type": "code",
   "execution_count": 2,
   "id": "02ee0c24",
   "metadata": {},
   "outputs": [
    {
     "data": {
      "text/html": [
       "<div>\n",
       "<style scoped>\n",
       "    .dataframe tbody tr th:only-of-type {\n",
       "        vertical-align: middle;\n",
       "    }\n",
       "\n",
       "    .dataframe tbody tr th {\n",
       "        vertical-align: top;\n",
       "    }\n",
       "\n",
       "    .dataframe thead th {\n",
       "        text-align: right;\n",
       "    }\n",
       "</style>\n",
       "<table border=\"1\" class=\"dataframe\">\n",
       "  <thead>\n",
       "    <tr style=\"text-align: right;\">\n",
       "      <th></th>\n",
       "      <th>model</th>\n",
       "      <th>year</th>\n",
       "      <th>price</th>\n",
       "      <th>transmission</th>\n",
       "      <th>mileage</th>\n",
       "      <th>fuelType</th>\n",
       "      <th>tax</th>\n",
       "      <th>mpg</th>\n",
       "      <th>engineSize</th>\n",
       "    </tr>\n",
       "  </thead>\n",
       "  <tbody>\n",
       "    <tr>\n",
       "      <th>0</th>\n",
       "      <td>5 Series</td>\n",
       "      <td>2014</td>\n",
       "      <td>11200</td>\n",
       "      <td>Automatic</td>\n",
       "      <td>67068</td>\n",
       "      <td>Diesel</td>\n",
       "      <td>125</td>\n",
       "      <td>57.6</td>\n",
       "      <td>2.0</td>\n",
       "    </tr>\n",
       "    <tr>\n",
       "      <th>1</th>\n",
       "      <td>6 Series</td>\n",
       "      <td>2018</td>\n",
       "      <td>27000</td>\n",
       "      <td>Automatic</td>\n",
       "      <td>14827</td>\n",
       "      <td>Petrol</td>\n",
       "      <td>145</td>\n",
       "      <td>42.8</td>\n",
       "      <td>2.0</td>\n",
       "    </tr>\n",
       "    <tr>\n",
       "      <th>2</th>\n",
       "      <td>5 Series</td>\n",
       "      <td>2016</td>\n",
       "      <td>16000</td>\n",
       "      <td>Automatic</td>\n",
       "      <td>62794</td>\n",
       "      <td>Diesel</td>\n",
       "      <td>160</td>\n",
       "      <td>51.4</td>\n",
       "      <td>3.0</td>\n",
       "    </tr>\n",
       "    <tr>\n",
       "      <th>3</th>\n",
       "      <td>1 Series</td>\n",
       "      <td>2017</td>\n",
       "      <td>12750</td>\n",
       "      <td>Automatic</td>\n",
       "      <td>26676</td>\n",
       "      <td>Diesel</td>\n",
       "      <td>145</td>\n",
       "      <td>72.4</td>\n",
       "      <td>1.5</td>\n",
       "    </tr>\n",
       "    <tr>\n",
       "      <th>4</th>\n",
       "      <td>7 Series</td>\n",
       "      <td>2014</td>\n",
       "      <td>14500</td>\n",
       "      <td>Automatic</td>\n",
       "      <td>39554</td>\n",
       "      <td>Diesel</td>\n",
       "      <td>160</td>\n",
       "      <td>50.4</td>\n",
       "      <td>3.0</td>\n",
       "    </tr>\n",
       "  </tbody>\n",
       "</table>\n",
       "</div>"
      ],
      "text/plain": [
       "       model  year  price transmission  mileage fuelType  tax   mpg  \\\n",
       "0   5 Series  2014  11200    Automatic    67068   Diesel  125  57.6   \n",
       "1   6 Series  2018  27000    Automatic    14827   Petrol  145  42.8   \n",
       "2   5 Series  2016  16000    Automatic    62794   Diesel  160  51.4   \n",
       "3   1 Series  2017  12750    Automatic    26676   Diesel  145  72.4   \n",
       "4   7 Series  2014  14500    Automatic    39554   Diesel  160  50.4   \n",
       "\n",
       "   engineSize  \n",
       "0         2.0  \n",
       "1         2.0  \n",
       "2         3.0  \n",
       "3         1.5  \n",
       "4         3.0  "
      ]
     },
     "execution_count": 2,
     "metadata": {},
     "output_type": "execute_result"
    }
   ],
   "source": [
    "path = 'C:/Users/nguye/OneDrive/Code/revise_knowledge/dataset/sub_data/bmw.csv'\n",
    "df = pd.read_csv(path)\n",
    "df.head()"
   ]
  },
  {
   "cell_type": "code",
   "execution_count": 3,
   "id": "b4816e64",
   "metadata": {},
   "outputs": [
    {
     "data": {
      "text/plain": [
       "(10781, 9)"
      ]
     },
     "execution_count": 3,
     "metadata": {},
     "output_type": "execute_result"
    }
   ],
   "source": [
    "df.shape"
   ]
  },
  {
   "cell_type": "code",
   "execution_count": 4,
   "id": "a2875d4f",
   "metadata": {},
   "outputs": [
    {
     "name": "stdout",
     "output_type": "stream",
     "text": [
      "<class 'pandas.core.frame.DataFrame'>\n",
      "RangeIndex: 10781 entries, 0 to 10780\n",
      "Data columns (total 9 columns):\n",
      " #   Column        Non-Null Count  Dtype  \n",
      "---  ------        --------------  -----  \n",
      " 0   model         10781 non-null  object \n",
      " 1   year          10781 non-null  int64  \n",
      " 2   price         10781 non-null  int64  \n",
      " 3   transmission  10781 non-null  object \n",
      " 4   mileage       10781 non-null  int64  \n",
      " 5   fuelType      10781 non-null  object \n",
      " 6   tax           10781 non-null  int64  \n",
      " 7   mpg           10781 non-null  float64\n",
      " 8   engineSize    10781 non-null  float64\n",
      "dtypes: float64(2), int64(4), object(3)\n",
      "memory usage: 758.2+ KB\n"
     ]
    }
   ],
   "source": [
    "df.info()"
   ]
  },
  {
   "cell_type": "code",
   "execution_count": 5,
   "id": "2a458349",
   "metadata": {},
   "outputs": [
    {
     "data": {
      "text/html": [
       "<div>\n",
       "<style scoped>\n",
       "    .dataframe tbody tr th:only-of-type {\n",
       "        vertical-align: middle;\n",
       "    }\n",
       "\n",
       "    .dataframe tbody tr th {\n",
       "        vertical-align: top;\n",
       "    }\n",
       "\n",
       "    .dataframe thead th {\n",
       "        text-align: right;\n",
       "    }\n",
       "</style>\n",
       "<table border=\"1\" class=\"dataframe\">\n",
       "  <thead>\n",
       "    <tr style=\"text-align: right;\">\n",
       "      <th></th>\n",
       "      <th>year</th>\n",
       "      <th>price</th>\n",
       "      <th>mileage</th>\n",
       "      <th>tax</th>\n",
       "      <th>mpg</th>\n",
       "      <th>engineSize</th>\n",
       "    </tr>\n",
       "  </thead>\n",
       "  <tbody>\n",
       "    <tr>\n",
       "      <th>count</th>\n",
       "      <td>10781.000000</td>\n",
       "      <td>10781.000000</td>\n",
       "      <td>10781.000000</td>\n",
       "      <td>10781.000000</td>\n",
       "      <td>10781.000000</td>\n",
       "      <td>10781.000000</td>\n",
       "    </tr>\n",
       "    <tr>\n",
       "      <th>mean</th>\n",
       "      <td>2017.078935</td>\n",
       "      <td>22733.408867</td>\n",
       "      <td>25496.986550</td>\n",
       "      <td>131.702068</td>\n",
       "      <td>56.399035</td>\n",
       "      <td>2.167767</td>\n",
       "    </tr>\n",
       "    <tr>\n",
       "      <th>std</th>\n",
       "      <td>2.349038</td>\n",
       "      <td>11415.528189</td>\n",
       "      <td>25143.192559</td>\n",
       "      <td>61.510755</td>\n",
       "      <td>31.336958</td>\n",
       "      <td>0.552054</td>\n",
       "    </tr>\n",
       "    <tr>\n",
       "      <th>min</th>\n",
       "      <td>1996.000000</td>\n",
       "      <td>1200.000000</td>\n",
       "      <td>1.000000</td>\n",
       "      <td>0.000000</td>\n",
       "      <td>5.500000</td>\n",
       "      <td>0.000000</td>\n",
       "    </tr>\n",
       "    <tr>\n",
       "      <th>25%</th>\n",
       "      <td>2016.000000</td>\n",
       "      <td>14950.000000</td>\n",
       "      <td>5529.000000</td>\n",
       "      <td>135.000000</td>\n",
       "      <td>45.600000</td>\n",
       "      <td>2.000000</td>\n",
       "    </tr>\n",
       "    <tr>\n",
       "      <th>50%</th>\n",
       "      <td>2017.000000</td>\n",
       "      <td>20462.000000</td>\n",
       "      <td>18347.000000</td>\n",
       "      <td>145.000000</td>\n",
       "      <td>53.300000</td>\n",
       "      <td>2.000000</td>\n",
       "    </tr>\n",
       "    <tr>\n",
       "      <th>75%</th>\n",
       "      <td>2019.000000</td>\n",
       "      <td>27940.000000</td>\n",
       "      <td>38206.000000</td>\n",
       "      <td>145.000000</td>\n",
       "      <td>62.800000</td>\n",
       "      <td>2.000000</td>\n",
       "    </tr>\n",
       "    <tr>\n",
       "      <th>max</th>\n",
       "      <td>2020.000000</td>\n",
       "      <td>123456.000000</td>\n",
       "      <td>214000.000000</td>\n",
       "      <td>580.000000</td>\n",
       "      <td>470.800000</td>\n",
       "      <td>6.600000</td>\n",
       "    </tr>\n",
       "  </tbody>\n",
       "</table>\n",
       "</div>"
      ],
      "text/plain": [
       "               year          price        mileage           tax           mpg  \\\n",
       "count  10781.000000   10781.000000   10781.000000  10781.000000  10781.000000   \n",
       "mean    2017.078935   22733.408867   25496.986550    131.702068     56.399035   \n",
       "std        2.349038   11415.528189   25143.192559     61.510755     31.336958   \n",
       "min     1996.000000    1200.000000       1.000000      0.000000      5.500000   \n",
       "25%     2016.000000   14950.000000    5529.000000    135.000000     45.600000   \n",
       "50%     2017.000000   20462.000000   18347.000000    145.000000     53.300000   \n",
       "75%     2019.000000   27940.000000   38206.000000    145.000000     62.800000   \n",
       "max     2020.000000  123456.000000  214000.000000    580.000000    470.800000   \n",
       "\n",
       "         engineSize  \n",
       "count  10781.000000  \n",
       "mean       2.167767  \n",
       "std        0.552054  \n",
       "min        0.000000  \n",
       "25%        2.000000  \n",
       "50%        2.000000  \n",
       "75%        2.000000  \n",
       "max        6.600000  "
      ]
     },
     "execution_count": 5,
     "metadata": {},
     "output_type": "execute_result"
    }
   ],
   "source": [
    "df.describe()"
   ]
  },
  {
   "cell_type": "code",
   "execution_count": 6,
   "id": "c0c667f1",
   "metadata": {},
   "outputs": [
    {
     "data": {
      "text/html": [
       "<div>\n",
       "<style scoped>\n",
       "    .dataframe tbody tr th:only-of-type {\n",
       "        vertical-align: middle;\n",
       "    }\n",
       "\n",
       "    .dataframe tbody tr th {\n",
       "        vertical-align: top;\n",
       "    }\n",
       "\n",
       "    .dataframe thead th {\n",
       "        text-align: right;\n",
       "    }\n",
       "</style>\n",
       "<table border=\"1\" class=\"dataframe\">\n",
       "  <thead>\n",
       "    <tr style=\"text-align: right;\">\n",
       "      <th></th>\n",
       "      <th>year</th>\n",
       "      <th>price</th>\n",
       "      <th>mileage</th>\n",
       "      <th>tax</th>\n",
       "      <th>mpg</th>\n",
       "      <th>engineSize</th>\n",
       "    </tr>\n",
       "  </thead>\n",
       "  <tbody>\n",
       "    <tr>\n",
       "      <th>year</th>\n",
       "      <td>1.000000</td>\n",
       "      <td>0.623756</td>\n",
       "      <td>-0.774382</td>\n",
       "      <td>0.025200</td>\n",
       "      <td>-0.071762</td>\n",
       "      <td>-0.026337</td>\n",
       "    </tr>\n",
       "    <tr>\n",
       "      <th>price</th>\n",
       "      <td>0.623756</td>\n",
       "      <td>1.000000</td>\n",
       "      <td>-0.605397</td>\n",
       "      <td>0.263484</td>\n",
       "      <td>-0.204882</td>\n",
       "      <td>0.460196</td>\n",
       "    </tr>\n",
       "    <tr>\n",
       "      <th>mileage</th>\n",
       "      <td>-0.774382</td>\n",
       "      <td>-0.605397</td>\n",
       "      <td>1.000000</td>\n",
       "      <td>-0.170747</td>\n",
       "      <td>0.118609</td>\n",
       "      <td>-0.002540</td>\n",
       "    </tr>\n",
       "    <tr>\n",
       "      <th>tax</th>\n",
       "      <td>0.025200</td>\n",
       "      <td>0.263484</td>\n",
       "      <td>-0.170747</td>\n",
       "      <td>1.000000</td>\n",
       "      <td>-0.351798</td>\n",
       "      <td>0.429616</td>\n",
       "    </tr>\n",
       "    <tr>\n",
       "      <th>mpg</th>\n",
       "      <td>-0.071762</td>\n",
       "      <td>-0.204882</td>\n",
       "      <td>0.118609</td>\n",
       "      <td>-0.351798</td>\n",
       "      <td>1.000000</td>\n",
       "      <td>-0.399844</td>\n",
       "    </tr>\n",
       "    <tr>\n",
       "      <th>engineSize</th>\n",
       "      <td>-0.026337</td>\n",
       "      <td>0.460196</td>\n",
       "      <td>-0.002540</td>\n",
       "      <td>0.429616</td>\n",
       "      <td>-0.399844</td>\n",
       "      <td>1.000000</td>\n",
       "    </tr>\n",
       "  </tbody>\n",
       "</table>\n",
       "</div>"
      ],
      "text/plain": [
       "                year     price   mileage       tax       mpg  engineSize\n",
       "year        1.000000  0.623756 -0.774382  0.025200 -0.071762   -0.026337\n",
       "price       0.623756  1.000000 -0.605397  0.263484 -0.204882    0.460196\n",
       "mileage    -0.774382 -0.605397  1.000000 -0.170747  0.118609   -0.002540\n",
       "tax         0.025200  0.263484 -0.170747  1.000000 -0.351798    0.429616\n",
       "mpg        -0.071762 -0.204882  0.118609 -0.351798  1.000000   -0.399844\n",
       "engineSize -0.026337  0.460196 -0.002540  0.429616 -0.399844    1.000000"
      ]
     },
     "execution_count": 6,
     "metadata": {},
     "output_type": "execute_result"
    }
   ],
   "source": [
    "tmp = df.corr()\n",
    "tmp"
   ]
  },
  {
   "cell_type": "code",
   "execution_count": 7,
   "id": "c8ece925",
   "metadata": {},
   "outputs": [
    {
     "data": {
      "text/plain": [
       "array([' 5 Series', ' 6 Series', ' 1 Series', ' 7 Series', ' 2 Series',\n",
       "       ' 4 Series', ' X3', ' 3 Series', ' X5', ' X4', ' i3', ' X1', ' M4',\n",
       "       ' X2', ' X6', ' 8 Series', ' Z4', ' X7', ' M5', ' i8', ' M2',\n",
       "       ' M3', ' M6', ' Z3'], dtype=object)"
      ]
     },
     "execution_count": 7,
     "metadata": {},
     "output_type": "execute_result"
    }
   ],
   "source": [
    "df.model.unique()"
   ]
  },
  {
   "cell_type": "code",
   "execution_count": 8,
   "id": "55b66a31",
   "metadata": {},
   "outputs": [
    {
     "data": {
      "text/plain": [
       "array(['Automatic', 'Manual', 'Semi-Auto'], dtype=object)"
      ]
     },
     "execution_count": 8,
     "metadata": {},
     "output_type": "execute_result"
    }
   ],
   "source": [
    "df.transmission.unique()"
   ]
  },
  {
   "cell_type": "code",
   "execution_count": 9,
   "id": "ee8a7536",
   "metadata": {},
   "outputs": [
    {
     "data": {
      "text/plain": [
       "array(['Diesel', 'Petrol', 'Other', 'Hybrid', 'Electric'], dtype=object)"
      ]
     },
     "execution_count": 9,
     "metadata": {},
     "output_type": "execute_result"
    }
   ],
   "source": [
    "df.fuelType.unique()"
   ]
  },
  {
   "cell_type": "code",
   "execution_count": 10,
   "id": "3ec92301",
   "metadata": {},
   "outputs": [
    {
     "data": {
      "text/html": [
       "<div>\n",
       "<style scoped>\n",
       "    .dataframe tbody tr th:only-of-type {\n",
       "        vertical-align: middle;\n",
       "    }\n",
       "\n",
       "    .dataframe tbody tr th {\n",
       "        vertical-align: top;\n",
       "    }\n",
       "\n",
       "    .dataframe thead th {\n",
       "        text-align: right;\n",
       "    }\n",
       "</style>\n",
       "<table border=\"1\" class=\"dataframe\">\n",
       "  <thead>\n",
       "    <tr style=\"text-align: right;\">\n",
       "      <th></th>\n",
       "      <th>model</th>\n",
       "      <th>transmission</th>\n",
       "      <th>fuelType</th>\n",
       "    </tr>\n",
       "  </thead>\n",
       "  <tbody>\n",
       "    <tr>\n",
       "      <th>count</th>\n",
       "      <td>10781</td>\n",
       "      <td>10781</td>\n",
       "      <td>10781</td>\n",
       "    </tr>\n",
       "    <tr>\n",
       "      <th>unique</th>\n",
       "      <td>24</td>\n",
       "      <td>3</td>\n",
       "      <td>5</td>\n",
       "    </tr>\n",
       "    <tr>\n",
       "      <th>top</th>\n",
       "      <td>3 Series</td>\n",
       "      <td>Semi-Auto</td>\n",
       "      <td>Diesel</td>\n",
       "    </tr>\n",
       "    <tr>\n",
       "      <th>freq</th>\n",
       "      <td>2443</td>\n",
       "      <td>4666</td>\n",
       "      <td>7027</td>\n",
       "    </tr>\n",
       "  </tbody>\n",
       "</table>\n",
       "</div>"
      ],
      "text/plain": [
       "            model transmission fuelType\n",
       "count       10781        10781    10781\n",
       "unique         24            3        5\n",
       "top      3 Series    Semi-Auto   Diesel\n",
       "freq         2443         4666     7027"
      ]
     },
     "execution_count": 10,
     "metadata": {},
     "output_type": "execute_result"
    }
   ],
   "source": [
    "df.describe(include='object')"
   ]
  },
  {
   "cell_type": "code",
   "execution_count": 11,
   "id": "a76ef21c",
   "metadata": {},
   "outputs": [
    {
     "data": {
      "text/plain": [
       "array([2. , 3. , 1.5, 0.6, 1.6, 4.4, 0. , 2.2, 2.5, 4. , 3.2, 1. , 5. ,\n",
       "       1.9, 6.6, 2.8, 3.5])"
      ]
     },
     "execution_count": 11,
     "metadata": {},
     "output_type": "execute_result"
    }
   ],
   "source": [
    "df.engineSize.unique()"
   ]
  },
  {
   "cell_type": "markdown",
   "id": "ced25894",
   "metadata": {},
   "source": [
    "## TIỀN XỬ LÝ DỮ LIỆU"
   ]
  },
  {
   "cell_type": "markdown",
   "id": "95a4c59f",
   "metadata": {},
   "source": [
    "### Visualization data"
   ]
  },
  {
   "cell_type": "code",
   "execution_count": 12,
   "id": "5562ee7a",
   "metadata": {},
   "outputs": [
    {
     "data": {
      "image/png": "[encoded data removed]",
      "text/plain": [
       "<Figure size 720x648 with 6 Axes>"
      ]
     },
     "metadata": {
      "needs_background": "light"
     },
     "output_type": "display_data"
    }
   ],
   "source": [
    "df.hist(bins = 30,figsize=(10,9))\n",
    "plt.show()"
   ]
  },
  {
   "cell_type": "code",
   "execution_count": 13,
   "id": "efad3b24",
   "metadata": {},
   "outputs": [
    {
     "data": {
      "text/plain": [
       "<AxesSubplot:xlabel='tax', ylabel='price'>"
      ]
     },
     "execution_count": 13,
     "metadata": {},
     "output_type": "execute_result"
    },
    {
     "data": {
      "image/png": "[encoded data removed]",
      "text/plain": [
       "<Figure size 1080x720 with 4 Axes>"
      ]
     },
     "metadata": {
      "needs_background": "light"
     },
     "output_type": "display_data"
    }
   ],
   "source": [
    "fig,ax = plt.subplots(2,2,figsize = (15,10))\n",
    "sns.scatterplot(x = df['year'],y = df['price'],ax = ax[0,0])\n",
    "sns.scatterplot(x = df['mileage'],y = df['price'],ax = ax[0,1])\n",
    "sns.scatterplot(x = df['engineSize'],y = df['price'],ax = ax[1,0])\n",
    "sns.scatterplot(x = df['tax'],y = df['price'],ax = ax[1,1])"
   ]
  },
  {
   "cell_type": "code",
   "execution_count": 14,
   "id": "4fe3fe8c",
   "metadata": {},
   "outputs": [
    {
     "data": {
      "text/plain": [
       "<AxesSubplot:xlabel='tax'>"
      ]
     },
     "execution_count": 14,
     "metadata": {},
     "output_type": "execute_result"
    },
    {
     "data": {
      "image/png": "[encoded data removed]",
      "text/plain": [
       "<Figure size 1080x720 with 4 Axes>"
      ]
     },
     "metadata": {
      "needs_background": "light"
     },
     "output_type": "display_data"
    }
   ],
   "source": [
    "fig,ax = plt.subplots(2,2,figsize = (15,10))\n",
    "sns.boxplot(x = df['year'],ax = ax[0,0],color='red')\n",
    "sns.boxplot(x = df['mileage'],ax = ax[0,1],color='yellow')\n",
    "sns.boxplot(x = df['engineSize'],ax = ax[1,0])\n",
    "sns.boxplot(x = df['tax'],ax = ax[1,1],color='blue')"
   ]
  },
  {
   "cell_type": "code",
   "execution_count": 15,
   "id": "f760088e",
   "metadata": {},
   "outputs": [
    {
     "data": {
      "text/plain": [
       "<AxesSubplot:xlabel='transmission', ylabel='price'>"
      ]
     },
     "execution_count": 15,
     "metadata": {},
     "output_type": "execute_result"
    },
    {
     "data": {
      "image/png": "[encoded data removed]",
      "text/plain": [
       "<Figure size 1440x720 with 3 Axes>"
      ]
     },
     "metadata": {
      "needs_background": "light"
     },
     "output_type": "display_data"
    }
   ],
   "source": [
    "fig,ax = plt.subplots(1,3,figsize = (20,10))\n",
    "sns.barplot(x = df['fuelType'], y = df['price'],ax = ax[0])\n",
    "sns.barplot(y = df['model'],x = df['price'],ax = ax[1])\n",
    "sns.barplot(x = df['transmission'],y = df['price'],ax = ax[2])"
   ]
  },
  {
   "cell_type": "code",
   "execution_count": 16,
   "id": "d1859114",
   "metadata": {},
   "outputs": [
    {
     "data": {
      "text/plain": [
       "<AxesSubplot:xlabel='transmission', ylabel='count'>"
      ]
     },
     "execution_count": 16,
     "metadata": {},
     "output_type": "execute_result"
    },
    {
     "data": {
      "image/png": "[encoded data removed]",
      "text/plain": [
       "<Figure size 1440x720 with 3 Axes>"
      ]
     },
     "metadata": {
      "needs_background": "light"
     },
     "output_type": "display_data"
    }
   ],
   "source": [
    "fig,ax = plt.subplots(1,3,figsize = (20,10))\n",
    "sns.countplot(x = df['fuelType'],ax = ax[0])\n",
    "sns.countplot(y = df['model'],ax = ax[1])\n",
    "sns.countplot(x = df['transmission'],ax = ax[2])"
   ]
  },
  {
   "cell_type": "code",
   "execution_count": 17,
   "id": "918ebc2b",
   "metadata": {},
   "outputs": [
    {
     "data": {
      "text/html": [
       "<style type=\"text/css\">\n",
       "#T_2a107_row0_col0, #T_2a107_row1_col1, #T_2a107_row2_col2, #T_2a107_row3_col3, #T_2a107_row4_col4, #T_2a107_row5_col5 {\n",
       "  background-color: #023858;\n",
       "  color: #f1f1f1;\n",
       "}\n",
       "#T_2a107_row0_col1 {\n",
       "  background-color: #056dab;\n",
       "  color: #f1f1f1;\n",
       "}\n",
       "#T_2a107_row0_col2, #T_2a107_row2_col0, #T_2a107_row2_col1, #T_2a107_row4_col3, #T_2a107_row4_col5, #T_2a107_row5_col4 {\n",
       "  background-color: #fff7fb;\n",
       "  color: #000000;\n",
       "}\n",
       "#T_2a107_row0_col3 {\n",
       "  background-color: #c6cce3;\n",
       "  color: #000000;\n",
       "}\n",
       "#T_2a107_row0_col4 {\n",
       "  background-color: #d4d4e8;\n",
       "  color: #000000;\n",
       "}\n",
       "#T_2a107_row0_col5 {\n",
       "  background-color: #cacee5;\n",
       "  color: #000000;\n",
       "}\n",
       "#T_2a107_row1_col0 {\n",
       "  background-color: #0569a5;\n",
       "  color: #f1f1f1;\n",
       "}\n",
       "#T_2a107_row1_col2 {\n",
       "  background-color: #f1ebf4;\n",
       "  color: #000000;\n",
       "}\n",
       "#T_2a107_row1_col3 {\n",
       "  background-color: #86b0d3;\n",
       "  color: #000000;\n",
       "}\n",
       "#T_2a107_row1_col4 {\n",
       "  background-color: #e9e5f1;\n",
       "  color: #000000;\n",
       "}\n",
       "#T_2a107_row1_col5 {\n",
       "  background-color: #3b92c1;\n",
       "  color: #f1f1f1;\n",
       "}\n",
       "#T_2a107_row2_col3 {\n",
       "  background-color: #eae6f1;\n",
       "  color: #000000;\n",
       "}\n",
       "#T_2a107_row2_col4 {\n",
       "  background-color: #a8bedc;\n",
       "  color: #000000;\n",
       "}\n",
       "#T_2a107_row2_col5 {\n",
       "  background-color: #c5cce3;\n",
       "  color: #000000;\n",
       "}\n",
       "#T_2a107_row3_col0 {\n",
       "  background-color: #88b1d4;\n",
       "  color: #000000;\n",
       "}\n",
       "#T_2a107_row3_col1 {\n",
       "  background-color: #60a1ca;\n",
       "  color: #f1f1f1;\n",
       "}\n",
       "#T_2a107_row3_col2 {\n",
       "  background-color: #b1c2de;\n",
       "  color: #000000;\n",
       "}\n",
       "#T_2a107_row3_col4 {\n",
       "  background-color: #faf3f9;\n",
       "  color: #000000;\n",
       "}\n",
       "#T_2a107_row3_col5 {\n",
       "  background-color: #4697c4;\n",
       "  color: #f1f1f1;\n",
       "}\n",
       "#T_2a107_row4_col0 {\n",
       "  background-color: #9ebad9;\n",
       "  color: #000000;\n",
       "}\n",
       "#T_2a107_row4_col1 {\n",
       "  background-color: #d1d2e6;\n",
       "  color: #000000;\n",
       "}\n",
       "#T_2a107_row4_col2 {\n",
       "  background-color: #73a9cf;\n",
       "  color: #f1f1f1;\n",
       "}\n",
       "#T_2a107_row5_col0 {\n",
       "  background-color: #94b6d7;\n",
       "  color: #000000;\n",
       "}\n",
       "#T_2a107_row5_col1 {\n",
       "  background-color: #2786bb;\n",
       "  color: #f1f1f1;\n",
       "}\n",
       "#T_2a107_row5_col2 {\n",
       "  background-color: #8eb3d5;\n",
       "  color: #000000;\n",
       "}\n",
       "#T_2a107_row5_col3 {\n",
       "  background-color: #4e9ac6;\n",
       "  color: #f1f1f1;\n",
       "}\n",
       "</style>\n",
       "<table id=\"T_2a107_\">\n",
       "  <thead>\n",
       "    <tr>\n",
       "      <th class=\"blank level0\" >&nbsp;</th>\n",
       "      <th class=\"col_heading level0 col0\" >year</th>\n",
       "      <th class=\"col_heading level0 col1\" >price</th>\n",
       "      <th class=\"col_heading level0 col2\" >mileage</th>\n",
       "      <th class=\"col_heading level0 col3\" >tax</th>\n",
       "      <th class=\"col_heading level0 col4\" >mpg</th>\n",
       "      <th class=\"col_heading level0 col5\" >engineSize</th>\n",
       "    </tr>\n",
       "  </thead>\n",
       "  <tbody>\n",
       "    <tr>\n",
       "      <th id=\"T_2a107_level0_row0\" class=\"row_heading level0 row0\" >year</th>\n",
       "      <td id=\"T_2a107_row0_col0\" class=\"data row0 col0\" >1.000000</td>\n",
       "      <td id=\"T_2a107_row0_col1\" class=\"data row0 col1\" >0.623756</td>\n",
       "      <td id=\"T_2a107_row0_col2\" class=\"data row0 col2\" >-0.774382</td>\n",
       "      <td id=\"T_2a107_row0_col3\" class=\"data row0 col3\" >0.025200</td>\n",
       "      <td id=\"T_2a107_row0_col4\" class=\"data row0 col4\" >-0.071762</td>\n",
       "      <td id=\"T_2a107_row0_col5\" class=\"data row0 col5\" >-0.026337</td>\n",
       "    </tr>\n",
       "    <tr>\n",
       "      <th id=\"T_2a107_level0_row1\" class=\"row_heading level0 row1\" >price</th>\n",
       "      <td id=\"T_2a107_row1_col0\" class=\"data row1 col0\" >0.623756</td>\n",
       "      <td id=\"T_2a107_row1_col1\" class=\"data row1 col1\" >1.000000</td>\n",
       "      <td id=\"T_2a107_row1_col2\" class=\"data row1 col2\" >-0.605397</td>\n",
       "      <td id=\"T_2a107_row1_col3\" class=\"data row1 col3\" >0.263484</td>\n",
       "      <td id=\"T_2a107_row1_col4\" class=\"data row1 col4\" >-0.204882</td>\n",
       "      <td id=\"T_2a107_row1_col5\" class=\"data row1 col5\" >0.460196</td>\n",
       "    </tr>\n",
       "    <tr>\n",
       "      <th id=\"T_2a107_level0_row2\" class=\"row_heading level0 row2\" >mileage</th>\n",
       "      <td id=\"T_2a107_row2_col0\" class=\"data row2 col0\" >-0.774382</td>\n",
       "      <td id=\"T_2a107_row2_col1\" class=\"data row2 col1\" >-0.605397</td>\n",
       "      <td id=\"T_2a107_row2_col2\" class=\"data row2 col2\" >1.000000</td>\n",
       "      <td id=\"T_2a107_row2_col3\" class=\"data row2 col3\" >-0.170747</td>\n",
       "      <td id=\"T_2a107_row2_col4\" class=\"data row2 col4\" >0.118609</td>\n",
       "      <td id=\"T_2a107_row2_col5\" class=\"data row2 col5\" >-0.002540</td>\n",
       "    </tr>\n",
       "    <tr>\n",
       "      <th id=\"T_2a107_level0_row3\" class=\"row_heading level0 row3\" >tax</th>\n",
       "      <td id=\"T_2a107_row3_col0\" class=\"data row3 col0\" >0.025200</td>\n",
       "      <td id=\"T_2a107_row3_col1\" class=\"data row3 col1\" >0.263484</td>\n",
       "      <td id=\"T_2a107_row3_col2\" class=\"data row3 col2\" >-0.170747</td>\n",
       "      <td id=\"T_2a107_row3_col3\" class=\"data row3 col3\" >1.000000</td>\n",
       "      <td id=\"T_2a107_row3_col4\" class=\"data row3 col4\" >-0.351798</td>\n",
       "      <td id=\"T_2a107_row3_col5\" class=\"data row3 col5\" >0.429616</td>\n",
       "    </tr>\n",
       "    <tr>\n",
       "      <th id=\"T_2a107_level0_row4\" class=\"row_heading level0 row4\" >mpg</th>\n",
       "      <td id=\"T_2a107_row4_col0\" class=\"data row4 col0\" >-0.071762</td>\n",
       "      <td id=\"T_2a107_row4_col1\" class=\"data row4 col1\" >-0.204882</td>\n",
       "      <td id=\"T_2a107_row4_col2\" class=\"data row4 col2\" >0.118609</td>\n",
       "      <td id=\"T_2a107_row4_col3\" class=\"data row4 col3\" >-0.351798</td>\n",
       "      <td id=\"T_2a107_row4_col4\" class=\"data row4 col4\" >1.000000</td>\n",
       "      <td id=\"T_2a107_row4_col5\" class=\"data row4 col5\" >-0.399844</td>\n",
       "    </tr>\n",
       "    <tr>\n",
       "      <th id=\"T_2a107_level0_row5\" class=\"row_heading level0 row5\" >engineSize</th>\n",
       "      <td id=\"T_2a107_row5_col0\" class=\"data row5 col0\" >-0.026337</td>\n",
       "      <td id=\"T_2a107_row5_col1\" class=\"data row5 col1\" >0.460196</td>\n",
       "      <td id=\"T_2a107_row5_col2\" class=\"data row5 col2\" >-0.002540</td>\n",
       "      <td id=\"T_2a107_row5_col3\" class=\"data row5 col3\" >0.429616</td>\n",
       "      <td id=\"T_2a107_row5_col4\" class=\"data row5 col4\" >-0.399844</td>\n",
       "      <td id=\"T_2a107_row5_col5\" class=\"data row5 col5\" >1.000000</td>\n",
       "    </tr>\n",
       "  </tbody>\n",
       "</table>\n"
      ],
      "text/plain": [
       "<pandas.io.formats.style.Styler at 0x1a49f6a2580>"
      ]
     },
     "execution_count": 17,
     "metadata": {},
     "output_type": "execute_result"
    }
   ],
   "source": [
    "tmp = df.corr()\n",
    "tmp.style.background_gradient()"
   ]
  },
  {
   "cell_type": "markdown",
   "id": "1c07af9f",
   "metadata": {},
   "source": [
    "### Xử lý dữ liệu bị khuyết"
   ]
  },
  {
   "cell_type": "raw",
   "id": "c756184d",
   "metadata": {},
   "source": [
    "Tập dữ liệu này không có dữ liệu khuyết"
   ]
  },
  {
   "cell_type": "markdown",
   "id": "4847acf6",
   "metadata": {},
   "source": [
    "### Xử lý outlier"
   ]
  },
  {
   "cell_type": "code",
   "execution_count": 18,
   "id": "5f09bb5f",
   "metadata": {},
   "outputs": [],
   "source": [
    "def cesoring(data,col):\n",
    "    IQR = data[col].quantile(0.75) - data[col].quantile(0.25)\n",
    "    lower = data[col].quantile(0.25) - (IQR*1.5)\n",
    "    upper = data[col].quantile(0.75) + (IQR*1.5)\n",
    "    return lower,upper\n",
    "def replace_(data,col,lower,upper):\n",
    "    return np.where(data[col] > upper,upper,np.where(data[col] < lower,lower,data[col]))"
   ]
  },
  {
   "cell_type": "code",
   "execution_count": 19,
   "id": "0487a7e2",
   "metadata": {},
   "outputs": [],
   "source": [
    "lower_year,upper_year = cesoring(df,'year')\n",
    "lower_mileage,upper_mileage = cesoring(df,'mileage')\n",
    "lower_tax,upper_tax = cesoring(df,'tax')"
   ]
  },
  {
   "cell_type": "code",
   "execution_count": 20,
   "id": "fa11db16",
   "metadata": {},
   "outputs": [],
   "source": [
    "df['year'] = replace_(df,'year',lower_year,upper_year)\n",
    "df['mileage'] = replace_(df,'mileage',lower_mileage,upper_mileage)\n",
    "df['tax'] = replace_(df,'tax',lower_tax,upper_tax)"
   ]
  },
  {
   "cell_type": "code",
   "execution_count": 21,
   "id": "7e2c6cdb",
   "metadata": {},
   "outputs": [
    {
     "data": {
      "text/plain": [
       "<AxesSubplot:xlabel='tax'>"
      ]
     },
     "execution_count": 21,
     "metadata": {},
     "output_type": "execute_result"
    },
    {
     "data": {
      "image/png": "[encoded data removed]",
      "text/plain": [
       "<Figure size 1080x720 with 4 Axes>"
      ]
     },
     "metadata": {
      "needs_background": "light"
     },
     "output_type": "display_data"
    }
   ],
   "source": [
    "fig,ax = plt.subplots(2,2,figsize = (15,10))\n",
    "sns.boxplot(x = df['year'],ax = ax[0,0],color='red')\n",
    "sns.boxplot(x = df['mileage'],ax = ax[0,1],color='yellow')\n",
    "sns.boxplot(x = df['engineSize'],ax = ax[1,0])\n",
    "sns.boxplot(x = df['tax'],ax = ax[1,1],color='blue')"
   ]
  },
  {
   "cell_type": "markdown",
   "id": "86b41268",
   "metadata": {},
   "source": [
    "### Mã hóa dữ liệu"
   ]
  },
  {
   "cell_type": "code",
   "execution_count": 22,
   "id": "6fdd570e",
   "metadata": {},
   "outputs": [],
   "source": [
    "df_encoding = df.copy()"
   ]
  },
  {
   "cell_type": "code",
   "execution_count": 23,
   "id": "69a86944",
   "metadata": {},
   "outputs": [
    {
     "name": "stdout",
     "output_type": "stream",
     "text": [
      "['year', 'mileage', 'tax', 'mpg', 'engineSize']\n",
      "\n",
      "['model', 'transmission', 'fuelType']\n"
     ]
    }
   ],
   "source": [
    "numberics = [col for col in df_encoding.columns if df_encoding[col].dtype != 'O' and col != 'price']\n",
    "categorical = [col for col in df_encoding.columns if df_encoding[col].dtype == 'O']\n",
    "print(numberics)\n",
    "print()\n",
    "print(categorical)"
   ]
  },
  {
   "cell_type": "code",
   "execution_count": 24,
   "id": "36faa673",
   "metadata": {},
   "outputs": [],
   "source": [
    "from feature_engine.encoding import OneHotEncoder"
   ]
  },
  {
   "cell_type": "code",
   "execution_count": 25,
   "id": "4180cdce",
   "metadata": {},
   "outputs": [],
   "source": [
    "encoder = OneHotEncoder(drop_last=True,variables=categorical)\n",
    "df_encoding = encoder.fit_transform(df_encoding)"
   ]
  },
  {
   "cell_type": "code",
   "execution_count": 26,
   "id": "20c87239",
   "metadata": {},
   "outputs": [
    {
     "data": {
      "text/html": [
       "<div>\n",
       "<style scoped>\n",
       "    .dataframe tbody tr th:only-of-type {\n",
       "        vertical-align: middle;\n",
       "    }\n",
       "\n",
       "    .dataframe tbody tr th {\n",
       "        vertical-align: top;\n",
       "    }\n",
       "\n",
       "    .dataframe thead th {\n",
       "        text-align: right;\n",
       "    }\n",
       "</style>\n",
       "<table border=\"1\" class=\"dataframe\">\n",
       "  <thead>\n",
       "    <tr style=\"text-align: right;\">\n",
       "      <th></th>\n",
       "      <th>year</th>\n",
       "      <th>price</th>\n",
       "      <th>mileage</th>\n",
       "      <th>tax</th>\n",
       "      <th>mpg</th>\n",
       "      <th>engineSize</th>\n",
       "      <th>model_ 5 Series</th>\n",
       "      <th>model_ 6 Series</th>\n",
       "      <th>model_ 1 Series</th>\n",
       "      <th>model_ 7 Series</th>\n",
       "      <th>...</th>\n",
       "      <th>model_ i8</th>\n",
       "      <th>model_ M2</th>\n",
       "      <th>model_ M3</th>\n",
       "      <th>model_ M6</th>\n",
       "      <th>transmission_Automatic</th>\n",
       "      <th>transmission_Manual</th>\n",
       "      <th>fuelType_Diesel</th>\n",
       "      <th>fuelType_Petrol</th>\n",
       "      <th>fuelType_Other</th>\n",
       "      <th>fuelType_Hybrid</th>\n",
       "    </tr>\n",
       "  </thead>\n",
       "  <tbody>\n",
       "    <tr>\n",
       "      <th>0</th>\n",
       "      <td>2014.0</td>\n",
       "      <td>11200</td>\n",
       "      <td>67068.0</td>\n",
       "      <td>125.0</td>\n",
       "      <td>57.6</td>\n",
       "      <td>2.0</td>\n",
       "      <td>1</td>\n",
       "      <td>0</td>\n",
       "      <td>0</td>\n",
       "      <td>0</td>\n",
       "      <td>...</td>\n",
       "      <td>0</td>\n",
       "      <td>0</td>\n",
       "      <td>0</td>\n",
       "      <td>0</td>\n",
       "      <td>1</td>\n",
       "      <td>0</td>\n",
       "      <td>1</td>\n",
       "      <td>0</td>\n",
       "      <td>0</td>\n",
       "      <td>0</td>\n",
       "    </tr>\n",
       "    <tr>\n",
       "      <th>1</th>\n",
       "      <td>2018.0</td>\n",
       "      <td>27000</td>\n",
       "      <td>14827.0</td>\n",
       "      <td>145.0</td>\n",
       "      <td>42.8</td>\n",
       "      <td>2.0</td>\n",
       "      <td>0</td>\n",
       "      <td>1</td>\n",
       "      <td>0</td>\n",
       "      <td>0</td>\n",
       "      <td>...</td>\n",
       "      <td>0</td>\n",
       "      <td>0</td>\n",
       "      <td>0</td>\n",
       "      <td>0</td>\n",
       "      <td>1</td>\n",
       "      <td>0</td>\n",
       "      <td>0</td>\n",
       "      <td>1</td>\n",
       "      <td>0</td>\n",
       "      <td>0</td>\n",
       "    </tr>\n",
       "    <tr>\n",
       "      <th>2</th>\n",
       "      <td>2016.0</td>\n",
       "      <td>16000</td>\n",
       "      <td>62794.0</td>\n",
       "      <td>160.0</td>\n",
       "      <td>51.4</td>\n",
       "      <td>3.0</td>\n",
       "      <td>1</td>\n",
       "      <td>0</td>\n",
       "      <td>0</td>\n",
       "      <td>0</td>\n",
       "      <td>...</td>\n",
       "      <td>0</td>\n",
       "      <td>0</td>\n",
       "      <td>0</td>\n",
       "      <td>0</td>\n",
       "      <td>1</td>\n",
       "      <td>0</td>\n",
       "      <td>1</td>\n",
       "      <td>0</td>\n",
       "      <td>0</td>\n",
       "      <td>0</td>\n",
       "    </tr>\n",
       "    <tr>\n",
       "      <th>3</th>\n",
       "      <td>2017.0</td>\n",
       "      <td>12750</td>\n",
       "      <td>26676.0</td>\n",
       "      <td>145.0</td>\n",
       "      <td>72.4</td>\n",
       "      <td>1.5</td>\n",
       "      <td>0</td>\n",
       "      <td>0</td>\n",
       "      <td>1</td>\n",
       "      <td>0</td>\n",
       "      <td>...</td>\n",
       "      <td>0</td>\n",
       "      <td>0</td>\n",
       "      <td>0</td>\n",
       "      <td>0</td>\n",
       "      <td>1</td>\n",
       "      <td>0</td>\n",
       "      <td>1</td>\n",
       "      <td>0</td>\n",
       "      <td>0</td>\n",
       "      <td>0</td>\n",
       "    </tr>\n",
       "    <tr>\n",
       "      <th>4</th>\n",
       "      <td>2014.0</td>\n",
       "      <td>14500</td>\n",
       "      <td>39554.0</td>\n",
       "      <td>160.0</td>\n",
       "      <td>50.4</td>\n",
       "      <td>3.0</td>\n",
       "      <td>0</td>\n",
       "      <td>0</td>\n",
       "      <td>0</td>\n",
       "      <td>1</td>\n",
       "      <td>...</td>\n",
       "      <td>0</td>\n",
       "      <td>0</td>\n",
       "      <td>0</td>\n",
       "      <td>0</td>\n",
       "      <td>1</td>\n",
       "      <td>0</td>\n",
       "      <td>1</td>\n",
       "      <td>0</td>\n",
       "      <td>0</td>\n",
       "      <td>0</td>\n",
       "    </tr>\n",
       "  </tbody>\n",
       "</table>\n",
       "<p>5 rows × 35 columns</p>\n",
       "</div>"
      ],
      "text/plain": [
       "     year  price  mileage    tax   mpg  engineSize  model_ 5 Series  \\\n",
       "0  2014.0  11200  67068.0  125.0  57.6         2.0                1   \n",
       "1  2018.0  27000  14827.0  145.0  42.8         2.0                0   \n",
       "2  2016.0  16000  62794.0  160.0  51.4         3.0                1   \n",
       "3  2017.0  12750  26676.0  145.0  72.4         1.5                0   \n",
       "4  2014.0  14500  39554.0  160.0  50.4         3.0                0   \n",
       "\n",
       "   model_ 6 Series  model_ 1 Series  model_ 7 Series  ...  model_ i8  \\\n",
       "0                0                0                0  ...          0   \n",
       "1                1                0                0  ...          0   \n",
       "2                0                0                0  ...          0   \n",
       "3                0                1                0  ...          0   \n",
       "4                0                0                1  ...          0   \n",
       "\n",
       "   model_ M2  model_ M3  model_ M6  transmission_Automatic  \\\n",
       "0          0          0          0                       1   \n",
       "1          0          0          0                       1   \n",
       "2          0          0          0                       1   \n",
       "3          0          0          0                       1   \n",
       "4          0          0          0                       1   \n",
       "\n",
       "   transmission_Manual  fuelType_Diesel  fuelType_Petrol  fuelType_Other  \\\n",
       "0                    0                1                0               0   \n",
       "1                    0                0                1               0   \n",
       "2                    0                1                0               0   \n",
       "3                    0                1                0               0   \n",
       "4                    0                1                0               0   \n",
       "\n",
       "   fuelType_Hybrid  \n",
       "0                0  \n",
       "1                0  \n",
       "2                0  \n",
       "3                0  \n",
       "4                0  \n",
       "\n",
       "[5 rows x 35 columns]"
      ]
     },
     "execution_count": 26,
     "metadata": {},
     "output_type": "execute_result"
    }
   ],
   "source": [
    "df_encoding.head()"
   ]
  },
  {
   "cell_type": "markdown",
   "id": "c37b313a",
   "metadata": {},
   "source": [
    "### Chia tập dữ liệu"
   ]
  },
  {
   "cell_type": "code",
   "execution_count": 27,
   "id": "e5f9d124",
   "metadata": {},
   "outputs": [],
   "source": [
    "from sklearn.model_selection import train_test_split"
   ]
  },
  {
   "cell_type": "code",
   "execution_count": 28,
   "id": "8d808b6d",
   "metadata": {},
   "outputs": [],
   "source": [
    "X_train,X_test,y_train,y_test = train_test_split(df_encoding.drop('price',axis = 1),df_encoding['price'],test_size=0.2,random_state=1)"
   ]
  },
  {
   "cell_type": "code",
   "execution_count": 29,
   "id": "5df650b2",
   "metadata": {},
   "outputs": [
    {
     "data": {
      "text/plain": [
       "((8624, 34), (2157, 34))"
      ]
     },
     "execution_count": 29,
     "metadata": {},
     "output_type": "execute_result"
    }
   ],
   "source": [
    "X_train.shape,X_test.shape"
   ]
  },
  {
   "cell_type": "code",
   "execution_count": 30,
   "id": "9bb377fd",
   "metadata": {},
   "outputs": [
    {
     "data": {
      "text/html": [
       "<div>\n",
       "<style scoped>\n",
       "    .dataframe tbody tr th:only-of-type {\n",
       "        vertical-align: middle;\n",
       "    }\n",
       "\n",
       "    .dataframe tbody tr th {\n",
       "        vertical-align: top;\n",
       "    }\n",
       "\n",
       "    .dataframe thead th {\n",
       "        text-align: right;\n",
       "    }\n",
       "</style>\n",
       "<table border=\"1\" class=\"dataframe\">\n",
       "  <thead>\n",
       "    <tr style=\"text-align: right;\">\n",
       "      <th></th>\n",
       "      <th>year</th>\n",
       "      <th>mileage</th>\n",
       "      <th>tax</th>\n",
       "      <th>mpg</th>\n",
       "      <th>engineSize</th>\n",
       "      <th>model_ 5 Series</th>\n",
       "      <th>model_ 6 Series</th>\n",
       "      <th>model_ 1 Series</th>\n",
       "      <th>model_ 7 Series</th>\n",
       "      <th>model_ 2 Series</th>\n",
       "      <th>...</th>\n",
       "      <th>model_ i8</th>\n",
       "      <th>model_ M2</th>\n",
       "      <th>model_ M3</th>\n",
       "      <th>model_ M6</th>\n",
       "      <th>transmission_Automatic</th>\n",
       "      <th>transmission_Manual</th>\n",
       "      <th>fuelType_Diesel</th>\n",
       "      <th>fuelType_Petrol</th>\n",
       "      <th>fuelType_Other</th>\n",
       "      <th>fuelType_Hybrid</th>\n",
       "    </tr>\n",
       "  </thead>\n",
       "  <tbody>\n",
       "    <tr>\n",
       "      <th>1321</th>\n",
       "      <td>2019.0</td>\n",
       "      <td>123.0</td>\n",
       "      <td>145.0</td>\n",
       "      <td>53.3</td>\n",
       "      <td>2.0</td>\n",
       "      <td>0</td>\n",
       "      <td>0</td>\n",
       "      <td>1</td>\n",
       "      <td>0</td>\n",
       "      <td>0</td>\n",
       "      <td>...</td>\n",
       "      <td>0</td>\n",
       "      <td>0</td>\n",
       "      <td>0</td>\n",
       "      <td>0</td>\n",
       "      <td>0</td>\n",
       "      <td>1</td>\n",
       "      <td>1</td>\n",
       "      <td>0</td>\n",
       "      <td>0</td>\n",
       "      <td>0</td>\n",
       "    </tr>\n",
       "    <tr>\n",
       "      <th>7992</th>\n",
       "      <td>2018.0</td>\n",
       "      <td>23814.0</td>\n",
       "      <td>145.0</td>\n",
       "      <td>64.2</td>\n",
       "      <td>2.0</td>\n",
       "      <td>0</td>\n",
       "      <td>0</td>\n",
       "      <td>0</td>\n",
       "      <td>0</td>\n",
       "      <td>0</td>\n",
       "      <td>...</td>\n",
       "      <td>0</td>\n",
       "      <td>0</td>\n",
       "      <td>0</td>\n",
       "      <td>0</td>\n",
       "      <td>1</td>\n",
       "      <td>0</td>\n",
       "      <td>1</td>\n",
       "      <td>0</td>\n",
       "      <td>0</td>\n",
       "      <td>0</td>\n",
       "    </tr>\n",
       "    <tr>\n",
       "      <th>4357</th>\n",
       "      <td>2016.0</td>\n",
       "      <td>46126.0</td>\n",
       "      <td>160.0</td>\n",
       "      <td>47.1</td>\n",
       "      <td>3.0</td>\n",
       "      <td>0</td>\n",
       "      <td>0</td>\n",
       "      <td>0</td>\n",
       "      <td>0</td>\n",
       "      <td>0</td>\n",
       "      <td>...</td>\n",
       "      <td>0</td>\n",
       "      <td>0</td>\n",
       "      <td>0</td>\n",
       "      <td>0</td>\n",
       "      <td>1</td>\n",
       "      <td>0</td>\n",
       "      <td>1</td>\n",
       "      <td>0</td>\n",
       "      <td>0</td>\n",
       "      <td>0</td>\n",
       "    </tr>\n",
       "    <tr>\n",
       "      <th>2123</th>\n",
       "      <td>2019.0</td>\n",
       "      <td>6427.0</td>\n",
       "      <td>145.0</td>\n",
       "      <td>44.8</td>\n",
       "      <td>2.0</td>\n",
       "      <td>0</td>\n",
       "      <td>0</td>\n",
       "      <td>0</td>\n",
       "      <td>0</td>\n",
       "      <td>0</td>\n",
       "      <td>...</td>\n",
       "      <td>0</td>\n",
       "      <td>0</td>\n",
       "      <td>0</td>\n",
       "      <td>0</td>\n",
       "      <td>0</td>\n",
       "      <td>0</td>\n",
       "      <td>0</td>\n",
       "      <td>1</td>\n",
       "      <td>0</td>\n",
       "      <td>0</td>\n",
       "    </tr>\n",
       "    <tr>\n",
       "      <th>8431</th>\n",
       "      <td>2015.0</td>\n",
       "      <td>27562.0</td>\n",
       "      <td>120.0</td>\n",
       "      <td>68.9</td>\n",
       "      <td>2.0</td>\n",
       "      <td>0</td>\n",
       "      <td>0</td>\n",
       "      <td>0</td>\n",
       "      <td>0</td>\n",
       "      <td>1</td>\n",
       "      <td>...</td>\n",
       "      <td>0</td>\n",
       "      <td>0</td>\n",
       "      <td>0</td>\n",
       "      <td>0</td>\n",
       "      <td>0</td>\n",
       "      <td>1</td>\n",
       "      <td>1</td>\n",
       "      <td>0</td>\n",
       "      <td>0</td>\n",
       "      <td>0</td>\n",
       "    </tr>\n",
       "  </tbody>\n",
       "</table>\n",
       "<p>5 rows × 34 columns</p>\n",
       "</div>"
      ],
      "text/plain": [
       "        year  mileage    tax   mpg  engineSize  model_ 5 Series  \\\n",
       "1321  2019.0    123.0  145.0  53.3         2.0                0   \n",
       "7992  2018.0  23814.0  145.0  64.2         2.0                0   \n",
       "4357  2016.0  46126.0  160.0  47.1         3.0                0   \n",
       "2123  2019.0   6427.0  145.0  44.8         2.0                0   \n",
       "8431  2015.0  27562.0  120.0  68.9         2.0                0   \n",
       "\n",
       "      model_ 6 Series  model_ 1 Series  model_ 7 Series  model_ 2 Series  ...  \\\n",
       "1321                0                1                0                0  ...   \n",
       "7992                0                0                0                0  ...   \n",
       "4357                0                0                0                0  ...   \n",
       "2123                0                0                0                0  ...   \n",
       "8431                0                0                0                1  ...   \n",
       "\n",
       "      model_ i8  model_ M2  model_ M3  model_ M6  transmission_Automatic  \\\n",
       "1321          0          0          0          0                       0   \n",
       "7992          0          0          0          0                       1   \n",
       "4357          0          0          0          0                       1   \n",
       "2123          0          0          0          0                       0   \n",
       "8431          0          0          0          0                       0   \n",
       "\n",
       "      transmission_Manual  fuelType_Diesel  fuelType_Petrol  fuelType_Other  \\\n",
       "1321                    1                1                0               0   \n",
       "7992                    0                1                0               0   \n",
       "4357                    0                1                0               0   \n",
       "2123                    0                0                1               0   \n",
       "8431                    1                1                0               0   \n",
       "\n",
       "      fuelType_Hybrid  \n",
       "1321                0  \n",
       "7992                0  \n",
       "4357                0  \n",
       "2123                0  \n",
       "8431                0  \n",
       "\n",
       "[5 rows x 34 columns]"
      ]
     },
     "execution_count": 30,
     "metadata": {},
     "output_type": "execute_result"
    }
   ],
   "source": [
    "X_train.head()"
   ]
  },
  {
   "cell_type": "code",
   "execution_count": 31,
   "id": "01f370b0",
   "metadata": {},
   "outputs": [
    {
     "data": {
      "text/html": [
       "<div>\n",
       "<style scoped>\n",
       "    .dataframe tbody tr th:only-of-type {\n",
       "        vertical-align: middle;\n",
       "    }\n",
       "\n",
       "    .dataframe tbody tr th {\n",
       "        vertical-align: top;\n",
       "    }\n",
       "\n",
       "    .dataframe thead th {\n",
       "        text-align: right;\n",
       "    }\n",
       "</style>\n",
       "<table border=\"1\" class=\"dataframe\">\n",
       "  <thead>\n",
       "    <tr style=\"text-align: right;\">\n",
       "      <th></th>\n",
       "      <th>year</th>\n",
       "      <th>mileage</th>\n",
       "      <th>tax</th>\n",
       "      <th>mpg</th>\n",
       "      <th>engineSize</th>\n",
       "      <th>model_ 5 Series</th>\n",
       "      <th>model_ 6 Series</th>\n",
       "      <th>model_ 1 Series</th>\n",
       "      <th>model_ 7 Series</th>\n",
       "      <th>model_ 2 Series</th>\n",
       "      <th>...</th>\n",
       "      <th>model_ i8</th>\n",
       "      <th>model_ M2</th>\n",
       "      <th>model_ M3</th>\n",
       "      <th>model_ M6</th>\n",
       "      <th>transmission_Automatic</th>\n",
       "      <th>transmission_Manual</th>\n",
       "      <th>fuelType_Diesel</th>\n",
       "      <th>fuelType_Petrol</th>\n",
       "      <th>fuelType_Other</th>\n",
       "      <th>fuelType_Hybrid</th>\n",
       "    </tr>\n",
       "  </thead>\n",
       "  <tbody>\n",
       "    <tr>\n",
       "      <th>3840</th>\n",
       "      <td>2017.0</td>\n",
       "      <td>47717.0</td>\n",
       "      <td>160.0</td>\n",
       "      <td>42.8</td>\n",
       "      <td>3.0</td>\n",
       "      <td>0</td>\n",
       "      <td>0</td>\n",
       "      <td>0</td>\n",
       "      <td>0</td>\n",
       "      <td>0</td>\n",
       "      <td>...</td>\n",
       "      <td>0</td>\n",
       "      <td>0</td>\n",
       "      <td>0</td>\n",
       "      <td>0</td>\n",
       "      <td>1</td>\n",
       "      <td>0</td>\n",
       "      <td>1</td>\n",
       "      <td>0</td>\n",
       "      <td>0</td>\n",
       "      <td>0</td>\n",
       "    </tr>\n",
       "    <tr>\n",
       "      <th>7757</th>\n",
       "      <td>2015.0</td>\n",
       "      <td>45000.0</td>\n",
       "      <td>160.0</td>\n",
       "      <td>51.4</td>\n",
       "      <td>3.0</td>\n",
       "      <td>1</td>\n",
       "      <td>0</td>\n",
       "      <td>0</td>\n",
       "      <td>0</td>\n",
       "      <td>0</td>\n",
       "      <td>...</td>\n",
       "      <td>0</td>\n",
       "      <td>0</td>\n",
       "      <td>0</td>\n",
       "      <td>0</td>\n",
       "      <td>1</td>\n",
       "      <td>0</td>\n",
       "      <td>1</td>\n",
       "      <td>0</td>\n",
       "      <td>0</td>\n",
       "      <td>0</td>\n",
       "    </tr>\n",
       "    <tr>\n",
       "      <th>10325</th>\n",
       "      <td>2016.0</td>\n",
       "      <td>41063.0</td>\n",
       "      <td>120.0</td>\n",
       "      <td>470.8</td>\n",
       "      <td>0.6</td>\n",
       "      <td>0</td>\n",
       "      <td>0</td>\n",
       "      <td>0</td>\n",
       "      <td>0</td>\n",
       "      <td>0</td>\n",
       "      <td>...</td>\n",
       "      <td>0</td>\n",
       "      <td>0</td>\n",
       "      <td>0</td>\n",
       "      <td>0</td>\n",
       "      <td>1</td>\n",
       "      <td>0</td>\n",
       "      <td>0</td>\n",
       "      <td>0</td>\n",
       "      <td>1</td>\n",
       "      <td>0</td>\n",
       "    </tr>\n",
       "    <tr>\n",
       "      <th>685</th>\n",
       "      <td>2015.0</td>\n",
       "      <td>45000.0</td>\n",
       "      <td>120.0</td>\n",
       "      <td>72.4</td>\n",
       "      <td>1.5</td>\n",
       "      <td>0</td>\n",
       "      <td>0</td>\n",
       "      <td>1</td>\n",
       "      <td>0</td>\n",
       "      <td>0</td>\n",
       "      <td>...</td>\n",
       "      <td>0</td>\n",
       "      <td>0</td>\n",
       "      <td>0</td>\n",
       "      <td>0</td>\n",
       "      <td>0</td>\n",
       "      <td>0</td>\n",
       "      <td>1</td>\n",
       "      <td>0</td>\n",
       "      <td>0</td>\n",
       "      <td>0</td>\n",
       "    </tr>\n",
       "    <tr>\n",
       "      <th>1947</th>\n",
       "      <td>2017.0</td>\n",
       "      <td>18099.0</td>\n",
       "      <td>145.0</td>\n",
       "      <td>57.6</td>\n",
       "      <td>2.0</td>\n",
       "      <td>0</td>\n",
       "      <td>0</td>\n",
       "      <td>0</td>\n",
       "      <td>0</td>\n",
       "      <td>0</td>\n",
       "      <td>...</td>\n",
       "      <td>0</td>\n",
       "      <td>0</td>\n",
       "      <td>0</td>\n",
       "      <td>0</td>\n",
       "      <td>0</td>\n",
       "      <td>0</td>\n",
       "      <td>1</td>\n",
       "      <td>0</td>\n",
       "      <td>0</td>\n",
       "      <td>0</td>\n",
       "    </tr>\n",
       "  </tbody>\n",
       "</table>\n",
       "<p>5 rows × 34 columns</p>\n",
       "</div>"
      ],
      "text/plain": [
       "         year  mileage    tax    mpg  engineSize  model_ 5 Series  \\\n",
       "3840   2017.0  47717.0  160.0   42.8         3.0                0   \n",
       "7757   2015.0  45000.0  160.0   51.4         3.0                1   \n",
       "10325  2016.0  41063.0  120.0  470.8         0.6                0   \n",
       "685    2015.0  45000.0  120.0   72.4         1.5                0   \n",
       "1947   2017.0  18099.0  145.0   57.6         2.0                0   \n",
       "\n",
       "       model_ 6 Series  model_ 1 Series  model_ 7 Series  model_ 2 Series  \\\n",
       "3840                 0                0                0                0   \n",
       "7757                 0                0                0                0   \n",
       "10325                0                0                0                0   \n",
       "685                  0                1                0                0   \n",
       "1947                 0                0                0                0   \n",
       "\n",
       "       ...  model_ i8  model_ M2  model_ M3  model_ M6  \\\n",
       "3840   ...          0          0          0          0   \n",
       "7757   ...          0          0          0          0   \n",
       "10325  ...          0          0          0          0   \n",
       "685    ...          0          0          0          0   \n",
       "1947   ...          0          0          0          0   \n",
       "\n",
       "       transmission_Automatic  transmission_Manual  fuelType_Diesel  \\\n",
       "3840                        1                    0                1   \n",
       "7757                        1                    0                1   \n",
       "10325                       1                    0                0   \n",
       "685                         0                    0                1   \n",
       "1947                        0                    0                1   \n",
       "\n",
       "       fuelType_Petrol  fuelType_Other  fuelType_Hybrid  \n",
       "3840                 0               0                0  \n",
       "7757                 0               0                0  \n",
       "10325                0               1                0  \n",
       "685                  0               0                0  \n",
       "1947                 0               0                0  \n",
       "\n",
       "[5 rows x 34 columns]"
      ]
     },
     "execution_count": 31,
     "metadata": {},
     "output_type": "execute_result"
    }
   ],
   "source": [
    "X_test.head()"
   ]
  },
  {
   "cell_type": "markdown",
   "id": "6cccbc96",
   "metadata": {},
   "source": [
    "### Chuẩn hóa dữ liệu"
   ]
  },
  {
   "cell_type": "raw",
   "id": "51696fd6",
   "metadata": {},
   "source": [
    "- Chuẩn tắc hóa: thường được sử dụng trong mọi trường hợp\n",
    "- Co dãn min-max: thường sử dụng các đặc trưng đó là phân phối chuẩn"
   ]
  },
  {
   "cell_type": "code",
   "execution_count": 32,
   "id": "566e31ed",
   "metadata": {},
   "outputs": [],
   "source": [
    "from sklearn.preprocessing import StandardScaler"
   ]
  },
  {
   "cell_type": "code",
   "execution_count": 33,
   "id": "1927db24",
   "metadata": {},
   "outputs": [],
   "source": [
    "scale = StandardScaler().fit(X_train[numberics])"
   ]
  },
  {
   "cell_type": "code",
   "execution_count": 34,
   "id": "bb430544",
   "metadata": {},
   "outputs": [],
   "source": [
    "X_train[numberics] = scale.transform(X_train[numberics])\n",
    "X_test[numberics] = scale.transform(X_test[numberics])"
   ]
  },
  {
   "cell_type": "markdown",
   "id": "63083d9a",
   "metadata": {},
   "source": [
    "### Lựa chọn đặc trưng"
   ]
  },
  {
   "cell_type": "raw",
   "id": "0ed6adc1",
   "metadata": {},
   "source": [
    "- Lựa chọn đặc trưng phương pháp lọc\n",
    "- Lựa chọn theo phương pháp nhúng\n",
    "- Lựa chọn theo phương pháp lai hóa"
   ]
  },
  {
   "cell_type": "code",
   "execution_count": 35,
   "id": "24376035",
   "metadata": {},
   "outputs": [],
   "source": [
    "from feature_engine.selection import DropConstantFeatures,DropDuplicateFeatures\n",
    "from sklearn.pipeline import Pipeline"
   ]
  },
  {
   "cell_type": "code",
   "execution_count": 36,
   "id": "2d60fb53",
   "metadata": {},
   "outputs": [],
   "source": [
    "pipe = Pipeline(\n",
    "    [('constant',DropConstantFeatures(tol=0.998)),\n",
    "     ('duplicated',DropDuplicateFeatures())]\n",
    ").fit(X_train)"
   ]
  },
  {
   "cell_type": "code",
   "execution_count": 37,
   "id": "ff63dc4f",
   "metadata": {},
   "outputs": [],
   "source": [
    "X_train = pipe.transform(X_train)\n",
    "X_test = pipe.transform(X_test)"
   ]
  },
  {
   "cell_type": "code",
   "execution_count": 38,
   "id": "cbde15b1",
   "metadata": {},
   "outputs": [
    {
     "data": {
      "text/plain": [
       "((8624, 31), (2157, 31))"
      ]
     },
     "execution_count": 38,
     "metadata": {},
     "output_type": "execute_result"
    }
   ],
   "source": [
    "X_train.shape,X_test.shape"
   ]
  },
  {
   "cell_type": "code",
   "execution_count": 39,
   "id": "7ea375fd",
   "metadata": {},
   "outputs": [
    {
     "data": {
      "text/html": [
       "<div>\n",
       "<style scoped>\n",
       "    .dataframe tbody tr th:only-of-type {\n",
       "        vertical-align: middle;\n",
       "    }\n",
       "\n",
       "    .dataframe tbody tr th {\n",
       "        vertical-align: top;\n",
       "    }\n",
       "\n",
       "    .dataframe thead th {\n",
       "        text-align: right;\n",
       "    }\n",
       "</style>\n",
       "<table border=\"1\" class=\"dataframe\">\n",
       "  <thead>\n",
       "    <tr style=\"text-align: right;\">\n",
       "      <th></th>\n",
       "      <th>year</th>\n",
       "      <th>mileage</th>\n",
       "      <th>tax</th>\n",
       "      <th>mpg</th>\n",
       "      <th>engineSize</th>\n",
       "      <th>model_ 5 Series</th>\n",
       "      <th>model_ 6 Series</th>\n",
       "      <th>model_ 1 Series</th>\n",
       "      <th>model_ 7 Series</th>\n",
       "      <th>model_ 2 Series</th>\n",
       "      <th>...</th>\n",
       "      <th>model_ Z4</th>\n",
       "      <th>model_ X7</th>\n",
       "      <th>model_ M5</th>\n",
       "      <th>model_ M3</th>\n",
       "      <th>transmission_Automatic</th>\n",
       "      <th>transmission_Manual</th>\n",
       "      <th>fuelType_Diesel</th>\n",
       "      <th>fuelType_Petrol</th>\n",
       "      <th>fuelType_Other</th>\n",
       "      <th>fuelType_Hybrid</th>\n",
       "    </tr>\n",
       "  </thead>\n",
       "  <tbody>\n",
       "    <tr>\n",
       "      <th>1321</th>\n",
       "      <td>0.894496</td>\n",
       "      <td>-1.055023</td>\n",
       "      <td>0.277932</td>\n",
       "      <td>-0.095789</td>\n",
       "      <td>-0.30557</td>\n",
       "      <td>0</td>\n",
       "      <td>0</td>\n",
       "      <td>1</td>\n",
       "      <td>0</td>\n",
       "      <td>0</td>\n",
       "      <td>...</td>\n",
       "      <td>0</td>\n",
       "      <td>0</td>\n",
       "      <td>0</td>\n",
       "      <td>0</td>\n",
       "      <td>0</td>\n",
       "      <td>1</td>\n",
       "      <td>1</td>\n",
       "      <td>0</td>\n",
       "      <td>0</td>\n",
       "      <td>0</td>\n",
       "    </tr>\n",
       "    <tr>\n",
       "      <th>7992</th>\n",
       "      <td>0.415223</td>\n",
       "      <td>-0.053730</td>\n",
       "      <td>0.277932</td>\n",
       "      <td>0.257472</td>\n",
       "      <td>-0.30557</td>\n",
       "      <td>0</td>\n",
       "      <td>0</td>\n",
       "      <td>0</td>\n",
       "      <td>0</td>\n",
       "      <td>0</td>\n",
       "      <td>...</td>\n",
       "      <td>0</td>\n",
       "      <td>0</td>\n",
       "      <td>0</td>\n",
       "      <td>0</td>\n",
       "      <td>1</td>\n",
       "      <td>0</td>\n",
       "      <td>1</td>\n",
       "      <td>0</td>\n",
       "      <td>0</td>\n",
       "      <td>0</td>\n",
       "    </tr>\n",
       "    <tr>\n",
       "      <th>4357</th>\n",
       "      <td>-0.543322</td>\n",
       "      <td>0.889279</td>\n",
       "      <td>1.474778</td>\n",
       "      <td>-0.296727</td>\n",
       "      <td>1.51359</td>\n",
       "      <td>0</td>\n",
       "      <td>0</td>\n",
       "      <td>0</td>\n",
       "      <td>0</td>\n",
       "      <td>0</td>\n",
       "      <td>...</td>\n",
       "      <td>0</td>\n",
       "      <td>0</td>\n",
       "      <td>0</td>\n",
       "      <td>0</td>\n",
       "      <td>1</td>\n",
       "      <td>0</td>\n",
       "      <td>1</td>\n",
       "      <td>0</td>\n",
       "      <td>0</td>\n",
       "      <td>0</td>\n",
       "    </tr>\n",
       "    <tr>\n",
       "      <th>2123</th>\n",
       "      <td>0.894496</td>\n",
       "      <td>-0.788586</td>\n",
       "      <td>0.277932</td>\n",
       "      <td>-0.371268</td>\n",
       "      <td>-0.30557</td>\n",
       "      <td>0</td>\n",
       "      <td>0</td>\n",
       "      <td>0</td>\n",
       "      <td>0</td>\n",
       "      <td>0</td>\n",
       "      <td>...</td>\n",
       "      <td>0</td>\n",
       "      <td>0</td>\n",
       "      <td>0</td>\n",
       "      <td>0</td>\n",
       "      <td>0</td>\n",
       "      <td>0</td>\n",
       "      <td>0</td>\n",
       "      <td>1</td>\n",
       "      <td>0</td>\n",
       "      <td>0</td>\n",
       "    </tr>\n",
       "    <tr>\n",
       "      <th>8431</th>\n",
       "      <td>-1.022595</td>\n",
       "      <td>0.104678</td>\n",
       "      <td>-1.716811</td>\n",
       "      <td>0.409795</td>\n",
       "      <td>-0.30557</td>\n",
       "      <td>0</td>\n",
       "      <td>0</td>\n",
       "      <td>0</td>\n",
       "      <td>0</td>\n",
       "      <td>1</td>\n",
       "      <td>...</td>\n",
       "      <td>0</td>\n",
       "      <td>0</td>\n",
       "      <td>0</td>\n",
       "      <td>0</td>\n",
       "      <td>0</td>\n",
       "      <td>1</td>\n",
       "      <td>1</td>\n",
       "      <td>0</td>\n",
       "      <td>0</td>\n",
       "      <td>0</td>\n",
       "    </tr>\n",
       "  </tbody>\n",
       "</table>\n",
       "<p>5 rows × 31 columns</p>\n",
       "</div>"
      ],
      "text/plain": [
       "          year   mileage       tax       mpg  engineSize  model_ 5 Series  \\\n",
       "1321  0.894496 -1.055023  0.277932 -0.095789    -0.30557                0   \n",
       "7992  0.415223 -0.053730  0.277932  0.257472    -0.30557                0   \n",
       "4357 -0.543322  0.889279  1.474778 -0.296727     1.51359                0   \n",
       "2123  0.894496 -0.788586  0.277932 -0.371268    -0.30557                0   \n",
       "8431 -1.022595  0.104678 -1.716811  0.409795    -0.30557                0   \n",
       "\n",
       "      model_ 6 Series  model_ 1 Series  model_ 7 Series  model_ 2 Series  ...  \\\n",
       "1321                0                1                0                0  ...   \n",
       "7992                0                0                0                0  ...   \n",
       "4357                0                0                0                0  ...   \n",
       "2123                0                0                0                0  ...   \n",
       "8431                0                0                0                1  ...   \n",
       "\n",
       "      model_ Z4  model_ X7  model_ M5  model_ M3  transmission_Automatic  \\\n",
       "1321          0          0          0          0                       0   \n",
       "7992          0          0          0          0                       1   \n",
       "4357          0          0          0          0                       1   \n",
       "2123          0          0          0          0                       0   \n",
       "8431          0          0          0          0                       0   \n",
       "\n",
       "      transmission_Manual  fuelType_Diesel  fuelType_Petrol  fuelType_Other  \\\n",
       "1321                    1                1                0               0   \n",
       "7992                    0                1                0               0   \n",
       "4357                    0                1                0               0   \n",
       "2123                    0                0                1               0   \n",
       "8431                    1                1                0               0   \n",
       "\n",
       "      fuelType_Hybrid  \n",
       "1321                0  \n",
       "7992                0  \n",
       "4357                0  \n",
       "2123                0  \n",
       "8431                0  \n",
       "\n",
       "[5 rows x 31 columns]"
      ]
     },
     "execution_count": 39,
     "metadata": {},
     "output_type": "execute_result"
    }
   ],
   "source": [
    "X_train.head()"
   ]
  },
  {
   "cell_type": "code",
   "execution_count": 40,
   "id": "20dbf2e1",
   "metadata": {},
   "outputs": [],
   "source": [
    "from sklearn.linear_model import Lasso\n",
    "from sklearn.model_selection import GridSearchCV\n",
    "from sklearn.feature_selection import SelectFromModel"
   ]
  },
  {
   "cell_type": "code",
   "execution_count": 41,
   "id": "38768f74",
   "metadata": {},
   "outputs": [],
   "source": [
    "paramter = {'alpha':[10,20]}\n",
    "clf = GridSearchCV(Lasso(),paramter,cv = 10,scoring='neg_mean_squared_error').fit(X_train,y_train)"
   ]
  },
  {
   "cell_type": "code",
   "execution_count": 42,
   "id": "456f21ad",
   "metadata": {},
   "outputs": [
    {
     "data": {
      "text/plain": [
       "{'alpha': 10}"
      ]
     },
     "execution_count": 42,
     "metadata": {},
     "output_type": "execute_result"
    }
   ],
   "source": [
    "clf.best_params_"
   ]
  },
  {
   "cell_type": "code",
   "execution_count": 43,
   "id": "f97e9334",
   "metadata": {},
   "outputs": [],
   "source": [
    "model = SelectFromModel(Lasso(clf.best_params_['alpha'])).fit(X_train,y_train)"
   ]
  },
  {
   "cell_type": "code",
   "execution_count": 44,
   "id": "bd94bcec",
   "metadata": {},
   "outputs": [],
   "source": [
    "features_selection = X_train.columns[model.get_support()]"
   ]
  },
  {
   "cell_type": "code",
   "execution_count": 45,
   "id": "80ac3790",
   "metadata": {},
   "outputs": [],
   "source": [
    "X_train_lasso = X_train[features_selection]\n",
    "X_test_lasso = X_test[features_selection]"
   ]
  },
  {
   "cell_type": "code",
   "execution_count": 46,
   "id": "99508732",
   "metadata": {},
   "outputs": [
    {
     "data": {
      "text/plain": [
       "((8624, 27), (2157, 27))"
      ]
     },
     "execution_count": 46,
     "metadata": {},
     "output_type": "execute_result"
    }
   ],
   "source": [
    "X_train_lasso.shape,X_test_lasso.shape"
   ]
  },
  {
   "cell_type": "code",
   "execution_count": 47,
   "id": "c1103442",
   "metadata": {},
   "outputs": [],
   "source": [
    "from feature_engine.selection import RecursiveFeatureAddition\n",
    "from sklearn.ensemble import GradientBoostingRegressor"
   ]
  },
  {
   "cell_type": "code",
   "execution_count": 48,
   "id": "66be9759",
   "metadata": {},
   "outputs": [],
   "source": [
    "paramter = {'learning_rate':[0.01,0.1,0.5],'n_estimators':[5,8,10,15],'max_depth':[3,5,10]}\n",
    "clf = GridSearchCV(GradientBoostingRegressor(),paramter,cv = 10,scoring='neg_mean_squared_error').fit(X_train,y_train)"
   ]
  },
  {
   "cell_type": "code",
   "execution_count": 49,
   "id": "b0540c4c",
   "metadata": {},
   "outputs": [],
   "source": [
    "model = RecursiveFeatureAddition(\n",
    "    GradientBoostingRegressor(learning_rate=clf.best_params_['learning_rate'],n_estimators=clf.best_params_['n_estimators']\n",
    "                             ,max_depth=clf.best_params_['max_depth']),\n",
    "    cv = 10,scoring = 'neg_mean_squared_error'\n",
    ").fit(X_train,y_train)"
   ]
  },
  {
   "cell_type": "code",
   "execution_count": 50,
   "id": "b714843a",
   "metadata": {},
   "outputs": [
    {
     "data": {
      "text/plain": [
       "['mileage',\n",
       " 'tax',\n",
       " 'model_ 6 Series',\n",
       " 'model_ i3',\n",
       " 'model_ M4',\n",
       " 'transmission_Automatic',\n",
       " 'fuelType_Petrol',\n",
       " 'fuelType_Other',\n",
       " 'fuelType_Hybrid']"
      ]
     },
     "execution_count": 50,
     "metadata": {},
     "output_type": "execute_result"
    }
   ],
   "source": [
    "model.features_to_drop_"
   ]
  },
  {
   "cell_type": "code",
   "execution_count": 51,
   "id": "c6434f87",
   "metadata": {},
   "outputs": [
    {
     "data": {
      "text/plain": [
       "<AxesSubplot:>"
      ]
     },
     "execution_count": 51,
     "metadata": {},
     "output_type": "execute_result"
    },
    {
     "data": {
      "image/png": "[encoded data removed]",
      "text/plain": [
       "<Figure size 720x576 with 1 Axes>"
      ]
     },
     "metadata": {
      "needs_background": "light"
     },
     "output_type": "display_data"
    }
   ],
   "source": [
    "model.feature_importances_.plot.bar(figsize = (10,8))"
   ]
  },
  {
   "cell_type": "code",
   "execution_count": 52,
   "id": "ff9599bb",
   "metadata": {},
   "outputs": [],
   "source": [
    "X_train_add = model.transform(X_train)\n",
    "X_test_add = model.transform(X_test)"
   ]
  },
  {
   "cell_type": "code",
   "execution_count": 53,
   "id": "c6c9ed20",
   "metadata": {},
   "outputs": [
    {
     "data": {
      "text/plain": [
       "((8624, 22), (2157, 22))"
      ]
     },
     "execution_count": 53,
     "metadata": {},
     "output_type": "execute_result"
    }
   ],
   "source": [
    "X_train_add.shape,X_test_add.shape"
   ]
  },
  {
   "cell_type": "markdown",
   "id": "09c46e9e",
   "metadata": {},
   "source": [
    "## HUẤN LUYỆN THUẬT TOÁN - ĐÁNH GIÁ - TỐI ƯU"
   ]
  },
  {
   "cell_type": "code",
   "execution_count": 54,
   "id": "7499a87c",
   "metadata": {},
   "outputs": [],
   "source": [
    "from sklearn.model_selection import KFold,cross_val_score"
   ]
  },
  {
   "cell_type": "code",
   "execution_count": 55,
   "id": "8947bc7e",
   "metadata": {},
   "outputs": [],
   "source": [
    "def rmse(model,X,y):\n",
    "    cv = KFold(n_splits=10,random_state=1,shuffle=True)\n",
    "    score = cross_val_score(model,X,y,cv = cv,scoring='neg_mean_squared_error')\n",
    "    score = np.sqrt(-score)\n",
    "    print(f\"Mean: {score.mean()} and std: {score.std()}\")"
   ]
  },
  {
   "cell_type": "code",
   "execution_count": 56,
   "id": "fdb89348",
   "metadata": {},
   "outputs": [
    {
     "name": "stdout",
     "output_type": "stream",
     "text": [
      "Mean: 4025.796035125829 and std: 623.6922788677147\n",
      "Mean: 4043.858387173305 and std: 626.2242787611814\n",
      "Mean: 4546.965351281424 and std: 607.9704078266002\n"
     ]
    }
   ],
   "source": [
    "from sklearn.linear_model import Ridge\n",
    "rmse(Ridge(alpha=0.5),X_train,y_train)\n",
    "rmse(Ridge(alpha=0.5),X_train_lasso,y_train)\n",
    "rmse(Ridge(alpha=0.5),X_train_add,y_train)"
   ]
  },
  {
   "cell_type": "code",
   "execution_count": 57,
   "id": "9a084959",
   "metadata": {},
   "outputs": [
    {
     "name": "stdout",
     "output_type": "stream",
     "text": [
      "Mean: 11216.705346380415 and std: 511.650753750705\n",
      "Mean: 11200.667329307089 and std: 512.7104541700778\n",
      "Mean: 11235.622007245662 and std: 509.5518986365214\n"
     ]
    }
   ],
   "source": [
    "from sklearn.svm import SVR\n",
    "rmse(SVR(),X_train,y_train)\n",
    "rmse(SVR(),X_train_lasso,y_train)\n",
    "rmse(SVR(),X_train_add,y_train)"
   ]
  },
  {
   "cell_type": "code",
   "execution_count": 58,
   "id": "ae3822a6",
   "metadata": {},
   "outputs": [
    {
     "name": "stdout",
     "output_type": "stream",
     "text": [
      "Mean: 3521.7193195658338 and std: 612.4461624109057\n",
      "Mean: 3563.5588412075604 and std: 729.3149075522479\n",
      "Mean: 3061.351207629751 and std: 637.1220929792061\n"
     ]
    }
   ],
   "source": [
    "from sklearn.tree import DecisionTreeRegressor\n",
    "rmse(DecisionTreeRegressor(),X_train,y_train)\n",
    "rmse(DecisionTreeRegressor(),X_train_lasso,y_train)\n",
    "rmse(DecisionTreeRegressor(),X_train_add,y_train)"
   ]
  },
  {
   "cell_type": "code",
   "execution_count": 59,
   "id": "13c39925",
   "metadata": {},
   "outputs": [
    {
     "name": "stdout",
     "output_type": "stream",
     "text": [
      "Mean: 2797.8733934474194 and std: 685.1498043339955\n",
      "Mean: 2831.6050051373045 and std: 700.5048391084612\n",
      "Mean: 2937.155770833615 and std: 641.3221296144563\n"
     ]
    }
   ],
   "source": [
    "from sklearn.ensemble import RandomForestRegressor\n",
    "rmse(RandomForestRegressor(),X_train,y_train)\n",
    "rmse(RandomForestRegressor(),X_train_lasso,y_train)\n",
    "rmse(RandomForestRegressor(),X_train_add,y_train)"
   ]
  },
  {
   "cell_type": "raw",
   "id": "fe67062f",
   "metadata": {},
   "source": [
    "Qua các mô hình cơ sở ta có thể dễ dàng nhìn thấy rằng DecisionTree có vẻ đang làm rất tốt và đầy hứa hẹn. Và mô hình thể hiện tệ nhất chắc là SVM. Và trên 3 tập dữ liệu thì có vẻ cả 3 đều rất tốt"
   ]
  },
  {
   "cell_type": "code",
   "execution_count": 60,
   "id": "d5bb0787",
   "metadata": {},
   "outputs": [],
   "source": [
    "from sklearn.tree import DecisionTreeRegressor\n",
    "model = DecisionTreeRegressor()\n",
    "paramter = {'max_depth':[3,5,7,10,15]}\n",
    "clf = GridSearchCV(model,paramter,cv = 10,scoring='neg_mean_squared_error').fit(X_train,y_train)"
   ]
  },
  {
   "cell_type": "code",
   "execution_count": 61,
   "id": "2f412103",
   "metadata": {},
   "outputs": [
    {
     "data": {
      "text/plain": [
       "{'max_depth': 10}"
      ]
     },
     "execution_count": 61,
     "metadata": {},
     "output_type": "execute_result"
    }
   ],
   "source": [
    "clf.best_params_"
   ]
  },
  {
   "cell_type": "code",
   "execution_count": 62,
   "id": "dc14eee9",
   "metadata": {},
   "outputs": [],
   "source": [
    "model = DecisionTreeRegressor(max_depth=clf.best_params_['max_depth']).fit(X_train,y_train)"
   ]
  },
  {
   "cell_type": "code",
   "execution_count": 63,
   "id": "f0e107a1",
   "metadata": {},
   "outputs": [],
   "source": [
    "from sklearn.metrics import mean_squared_error,r2_score"
   ]
  },
  {
   "cell_type": "code",
   "execution_count": 64,
   "id": "657d9dd5",
   "metadata": {},
   "outputs": [
    {
     "data": {
      "text/plain": [
       "7173134.5177555205"
      ]
     },
     "execution_count": 64,
     "metadata": {},
     "output_type": "execute_result"
    }
   ],
   "source": [
    "error = mean_squared_error(y_train,model.predict(X_train))\n",
    "error"
   ]
  },
  {
   "cell_type": "code",
   "execution_count": 65,
   "id": "c86deb98",
   "metadata": {},
   "outputs": [
    {
     "data": {
      "text/plain": [
       "9572761.87689217"
      ]
     },
     "execution_count": 65,
     "metadata": {},
     "output_type": "execute_result"
    }
   ],
   "source": [
    "error = mean_squared_error(y_test,model.predict(X_test))\n",
    "error"
   ]
  },
  {
   "cell_type": "code",
   "execution_count": 66,
   "id": "65dd210e",
   "metadata": {},
   "outputs": [
    {
     "name": "stdout",
     "output_type": "stream",
     "text": [
      "[33004.         18025.03333333 16785.23       12994.29891304\n",
      " 19891.20661157]\n",
      "[35470, 15490, 17000, 10991, 21050]\n"
     ]
    }
   ],
   "source": [
    "y_pred = model.predict(X_test[:5])\n",
    "print(y_pred)\n",
    "print(list(y_test[:5]))"
   ]
  },
  {
   "cell_type": "code",
   "execution_count": 67,
   "id": "d35505a1",
   "metadata": {},
   "outputs": [
    {
     "data": {
      "text/plain": [
       "0.9260337653327683"
      ]
     },
     "execution_count": 67,
     "metadata": {},
     "output_type": "execute_result"
    }
   ],
   "source": [
    "r2_score(y_test,model.predict(X_test))"
   ]
  }
 ],
 "metadata": {
  "kernelspec": {
   "display_name": "Python 3 (ipykernel)",
   "language": "python",
   "name": "python3"
  },
  "language_info": {
   "codemirror_mode": {
    "name": "ipython",
    "version": 3
   },
   "file_extension": ".py",
   "mimetype": "text/x-python",
   "name": "python",
   "nbconvert_exporter": "python",
   "pygments_lexer": "ipython3",
   "version": "3.9.7"
  }
 },
 "nbformat": 4,
 "nbformat_minor": 5
}
