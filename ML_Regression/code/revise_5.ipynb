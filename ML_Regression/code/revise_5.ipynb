{
 "cells": [
  {
   "cell_type": "code",
   "execution_count": 1,
   "id": "2903dd32",
   "metadata": {},
   "outputs": [],
   "source": [
    "import pandas as pd\n",
    "import numpy as np\n",
    "import matplotlib.pyplot as plt\n",
    "import seaborn as sns"
   ]
  },
  {
   "cell_type": "code",
   "execution_count": 2,
   "id": "6b0d8c09",
   "metadata": {},
   "outputs": [
    {
     "data": {
      "text/html": [
       "<div>\n",
       "<style scoped>\n",
       "    .dataframe tbody tr th:only-of-type {\n",
       "        vertical-align: middle;\n",
       "    }\n",
       "\n",
       "    .dataframe tbody tr th {\n",
       "        vertical-align: top;\n",
       "    }\n",
       "\n",
       "    .dataframe thead th {\n",
       "        text-align: right;\n",
       "    }\n",
       "</style>\n",
       "<table border=\"1\" class=\"dataframe\">\n",
       "  <thead>\n",
       "    <tr style=\"text-align: right;\">\n",
       "      <th></th>\n",
       "      <th>model</th>\n",
       "      <th>year</th>\n",
       "      <th>price</th>\n",
       "      <th>transmission</th>\n",
       "      <th>mileage</th>\n",
       "      <th>fuelType</th>\n",
       "      <th>tax</th>\n",
       "      <th>mpg</th>\n",
       "      <th>engineSize</th>\n",
       "    </tr>\n",
       "  </thead>\n",
       "  <tbody>\n",
       "    <tr>\n",
       "      <th>0</th>\n",
       "      <td>Fiesta</td>\n",
       "      <td>2017</td>\n",
       "      <td>12000</td>\n",
       "      <td>Automatic</td>\n",
       "      <td>15944</td>\n",
       "      <td>Petrol</td>\n",
       "      <td>150</td>\n",
       "      <td>57.7</td>\n",
       "      <td>1.0</td>\n",
       "    </tr>\n",
       "    <tr>\n",
       "      <th>1</th>\n",
       "      <td>Focus</td>\n",
       "      <td>2018</td>\n",
       "      <td>14000</td>\n",
       "      <td>Manual</td>\n",
       "      <td>9083</td>\n",
       "      <td>Petrol</td>\n",
       "      <td>150</td>\n",
       "      <td>57.7</td>\n",
       "      <td>1.0</td>\n",
       "    </tr>\n",
       "    <tr>\n",
       "      <th>2</th>\n",
       "      <td>Focus</td>\n",
       "      <td>2017</td>\n",
       "      <td>13000</td>\n",
       "      <td>Manual</td>\n",
       "      <td>12456</td>\n",
       "      <td>Petrol</td>\n",
       "      <td>150</td>\n",
       "      <td>57.7</td>\n",
       "      <td>1.0</td>\n",
       "    </tr>\n",
       "    <tr>\n",
       "      <th>3</th>\n",
       "      <td>Fiesta</td>\n",
       "      <td>2019</td>\n",
       "      <td>17500</td>\n",
       "      <td>Manual</td>\n",
       "      <td>10460</td>\n",
       "      <td>Petrol</td>\n",
       "      <td>145</td>\n",
       "      <td>40.3</td>\n",
       "      <td>1.5</td>\n",
       "    </tr>\n",
       "    <tr>\n",
       "      <th>4</th>\n",
       "      <td>Fiesta</td>\n",
       "      <td>2019</td>\n",
       "      <td>16500</td>\n",
       "      <td>Automatic</td>\n",
       "      <td>1482</td>\n",
       "      <td>Petrol</td>\n",
       "      <td>145</td>\n",
       "      <td>48.7</td>\n",
       "      <td>1.0</td>\n",
       "    </tr>\n",
       "  </tbody>\n",
       "</table>\n",
       "</div>"
      ],
      "text/plain": [
       "     model  year  price transmission  mileage fuelType  tax   mpg  engineSize\n",
       "0   Fiesta  2017  12000    Automatic    15944   Petrol  150  57.7         1.0\n",
       "1    Focus  2018  14000       Manual     9083   Petrol  150  57.7         1.0\n",
       "2    Focus  2017  13000       Manual    12456   Petrol  150  57.7         1.0\n",
       "3   Fiesta  2019  17500       Manual    10460   Petrol  145  40.3         1.5\n",
       "4   Fiesta  2019  16500    Automatic     1482   Petrol  145  48.7         1.0"
      ]
     },
     "execution_count": 2,
     "metadata": {},
     "output_type": "execute_result"
    }
   ],
   "source": [
    "df = pd.read_csv('dataset/sub_data/ford.csv')\n",
    "df.head()"
   ]
  },
  {
   "cell_type": "code",
   "execution_count": 3,
   "id": "e514af63",
   "metadata": {},
   "outputs": [
    {
     "data": {
      "text/plain": [
       "(17965, 9)"
      ]
     },
     "execution_count": 3,
     "metadata": {},
     "output_type": "execute_result"
    }
   ],
   "source": [
    "df.shape"
   ]
  },
  {
   "cell_type": "code",
   "execution_count": 4,
   "id": "0d9d29e4",
   "metadata": {},
   "outputs": [
    {
     "name": "stdout",
     "output_type": "stream",
     "text": [
      "<class 'pandas.core.frame.DataFrame'>\n",
      "RangeIndex: 17965 entries, 0 to 17964\n",
      "Data columns (total 9 columns):\n",
      " #   Column        Non-Null Count  Dtype  \n",
      "---  ------        --------------  -----  \n",
      " 0   model         17965 non-null  object \n",
      " 1   year          17965 non-null  int64  \n",
      " 2   price         17965 non-null  int64  \n",
      " 3   transmission  17965 non-null  object \n",
      " 4   mileage       17965 non-null  int64  \n",
      " 5   fuelType      17965 non-null  object \n",
      " 6   tax           17965 non-null  int64  \n",
      " 7   mpg           17965 non-null  float64\n",
      " 8   engineSize    17965 non-null  float64\n",
      "dtypes: float64(2), int64(4), object(3)\n",
      "memory usage: 1.2+ MB\n"
     ]
    }
   ],
   "source": [
    "df.info()"
   ]
  },
  {
   "cell_type": "code",
   "execution_count": 5,
   "id": "9fe8baf2",
   "metadata": {},
   "outputs": [
    {
     "data": {
      "text/html": [
       "<div>\n",
       "<style scoped>\n",
       "    .dataframe tbody tr th:only-of-type {\n",
       "        vertical-align: middle;\n",
       "    }\n",
       "\n",
       "    .dataframe tbody tr th {\n",
       "        vertical-align: top;\n",
       "    }\n",
       "\n",
       "    .dataframe thead th {\n",
       "        text-align: right;\n",
       "    }\n",
       "</style>\n",
       "<table border=\"1\" class=\"dataframe\">\n",
       "  <thead>\n",
       "    <tr style=\"text-align: right;\">\n",
       "      <th></th>\n",
       "      <th>year</th>\n",
       "      <th>price</th>\n",
       "      <th>mileage</th>\n",
       "      <th>tax</th>\n",
       "      <th>mpg</th>\n",
       "      <th>engineSize</th>\n",
       "    </tr>\n",
       "  </thead>\n",
       "  <tbody>\n",
       "    <tr>\n",
       "      <th>count</th>\n",
       "      <td>17965.000000</td>\n",
       "      <td>17965.000000</td>\n",
       "      <td>17965.000000</td>\n",
       "      <td>17965.000000</td>\n",
       "      <td>17965.000000</td>\n",
       "      <td>17965.000000</td>\n",
       "    </tr>\n",
       "    <tr>\n",
       "      <th>mean</th>\n",
       "      <td>2016.866574</td>\n",
       "      <td>12279.756415</td>\n",
       "      <td>23363.630504</td>\n",
       "      <td>113.334539</td>\n",
       "      <td>57.906991</td>\n",
       "      <td>1.350827</td>\n",
       "    </tr>\n",
       "    <tr>\n",
       "      <th>std</th>\n",
       "      <td>2.050346</td>\n",
       "      <td>4741.382606</td>\n",
       "      <td>19472.114690</td>\n",
       "      <td>62.010438</td>\n",
       "      <td>10.125977</td>\n",
       "      <td>0.432371</td>\n",
       "    </tr>\n",
       "    <tr>\n",
       "      <th>min</th>\n",
       "      <td>1996.000000</td>\n",
       "      <td>495.000000</td>\n",
       "      <td>1.000000</td>\n",
       "      <td>0.000000</td>\n",
       "      <td>20.800000</td>\n",
       "      <td>0.000000</td>\n",
       "    </tr>\n",
       "    <tr>\n",
       "      <th>25%</th>\n",
       "      <td>2016.000000</td>\n",
       "      <td>8999.000000</td>\n",
       "      <td>9987.000000</td>\n",
       "      <td>30.000000</td>\n",
       "      <td>52.300000</td>\n",
       "      <td>1.000000</td>\n",
       "    </tr>\n",
       "    <tr>\n",
       "      <th>50%</th>\n",
       "      <td>2017.000000</td>\n",
       "      <td>11291.000000</td>\n",
       "      <td>18243.000000</td>\n",
       "      <td>145.000000</td>\n",
       "      <td>58.900000</td>\n",
       "      <td>1.200000</td>\n",
       "    </tr>\n",
       "    <tr>\n",
       "      <th>75%</th>\n",
       "      <td>2018.000000</td>\n",
       "      <td>15299.000000</td>\n",
       "      <td>31064.000000</td>\n",
       "      <td>145.000000</td>\n",
       "      <td>65.700000</td>\n",
       "      <td>1.500000</td>\n",
       "    </tr>\n",
       "    <tr>\n",
       "      <th>max</th>\n",
       "      <td>2060.000000</td>\n",
       "      <td>54995.000000</td>\n",
       "      <td>177644.000000</td>\n",
       "      <td>580.000000</td>\n",
       "      <td>201.800000</td>\n",
       "      <td>5.000000</td>\n",
       "    </tr>\n",
       "  </tbody>\n",
       "</table>\n",
       "</div>"
      ],
      "text/plain": [
       "               year         price        mileage           tax           mpg  \\\n",
       "count  17965.000000  17965.000000   17965.000000  17965.000000  17965.000000   \n",
       "mean    2016.866574  12279.756415   23363.630504    113.334539     57.906991   \n",
       "std        2.050346   4741.382606   19472.114690     62.010438     10.125977   \n",
       "min     1996.000000    495.000000       1.000000      0.000000     20.800000   \n",
       "25%     2016.000000   8999.000000    9987.000000     30.000000     52.300000   \n",
       "50%     2017.000000  11291.000000   18243.000000    145.000000     58.900000   \n",
       "75%     2018.000000  15299.000000   31064.000000    145.000000     65.700000   \n",
       "max     2060.000000  54995.000000  177644.000000    580.000000    201.800000   \n",
       "\n",
       "         engineSize  \n",
       "count  17965.000000  \n",
       "mean       1.350827  \n",
       "std        0.432371  \n",
       "min        0.000000  \n",
       "25%        1.000000  \n",
       "50%        1.200000  \n",
       "75%        1.500000  \n",
       "max        5.000000  "
      ]
     },
     "execution_count": 5,
     "metadata": {},
     "output_type": "execute_result"
    }
   ],
   "source": [
    "df.describe()"
   ]
  },
  {
   "cell_type": "code",
   "execution_count": 6,
   "id": "06b30e59",
   "metadata": {},
   "outputs": [
    {
     "data": {
      "text/plain": [
       "model           0.0\n",
       "year            0.0\n",
       "price           0.0\n",
       "transmission    0.0\n",
       "mileage         0.0\n",
       "fuelType        0.0\n",
       "tax             0.0\n",
       "mpg             0.0\n",
       "engineSize      0.0\n",
       "dtype: float64"
      ]
     },
     "execution_count": 6,
     "metadata": {},
     "output_type": "execute_result"
    }
   ],
   "source": [
    "df.isnull().mean()"
   ]
  },
  {
   "cell_type": "code",
   "execution_count": 7,
   "id": "eecdcc85",
   "metadata": {},
   "outputs": [
    {
     "data": {
      "text/plain": [
       "array([2017, 2018, 2019, 2015, 2014, 2016, 2013, 2020, 2012, 2008, 2010,\n",
       "       2009, 2011, 1998, 2007, 2005, 2006, 2002, 2003, 1996, 2004, 2000,\n",
       "       2060], dtype=int64)"
      ]
     },
     "execution_count": 7,
     "metadata": {},
     "output_type": "execute_result"
    }
   ],
   "source": [
    "df.year.unique()"
   ]
  },
  {
   "cell_type": "code",
   "execution_count": 8,
   "id": "31ecce7b",
   "metadata": {},
   "outputs": [
    {
     "data": {
      "text/plain": [
       "array([15944,  9083, 12456, ..., 31348,  7010,  5007], dtype=int64)"
      ]
     },
     "execution_count": 8,
     "metadata": {},
     "output_type": "execute_result"
    }
   ],
   "source": [
    "df.mileage.unique()"
   ]
  },
  {
   "cell_type": "code",
   "execution_count": 9,
   "id": "8e929760",
   "metadata": {},
   "outputs": [
    {
     "data": {
      "text/plain": [
       " Fiesta                   6557\n",
       " Focus                    4588\n",
       " Kuga                     2225\n",
       " EcoSport                 1143\n",
       " C-MAX                     543\n",
       " Ka+                       531\n",
       " Mondeo                    526\n",
       " B-MAX                     355\n",
       " S-MAX                     296\n",
       " Grand C-MAX               247\n",
       " Galaxy                    228\n",
       " Edge                      208\n",
       " KA                        199\n",
       " Puma                       80\n",
       " Tourneo Custom             69\n",
       " Grand Tourneo Connect      59\n",
       " Mustang                    57\n",
       " Tourneo Connect            33\n",
       " Fusion                     16\n",
       " Streetka                    2\n",
       " Ranger                      1\n",
       " Escort                      1\n",
       " Transit Tourneo             1\n",
       "Name: model, dtype: int64"
      ]
     },
     "execution_count": 9,
     "metadata": {},
     "output_type": "execute_result"
    }
   ],
   "source": [
    "df.model.value_counts()"
   ]
  },
  {
   "cell_type": "code",
   "execution_count": 10,
   "id": "da04e29d",
   "metadata": {},
   "outputs": [
    {
     "data": {
      "text/plain": [
       "Manual       15517\n",
       "Automatic     1361\n",
       "Semi-Auto     1087\n",
       "Name: transmission, dtype: int64"
      ]
     },
     "execution_count": 10,
     "metadata": {},
     "output_type": "execute_result"
    }
   ],
   "source": [
    "df.transmission.value_counts()"
   ]
  },
  {
   "cell_type": "code",
   "execution_count": 11,
   "id": "d27d02b5",
   "metadata": {},
   "outputs": [
    {
     "data": {
      "text/plain": [
       "Petrol      12178\n",
       "Diesel       5762\n",
       "Hybrid         22\n",
       "Electric        2\n",
       "Other           1\n",
       "Name: fuelType, dtype: int64"
      ]
     },
     "execution_count": 11,
     "metadata": {},
     "output_type": "execute_result"
    }
   ],
   "source": [
    "df.fuelType.value_counts()"
   ]
  },
  {
   "cell_type": "code",
   "execution_count": 12,
   "id": "b8951944",
   "metadata": {},
   "outputs": [
    {
     "data": {
      "image/png": "[encoded data removed]",
      "text/plain": [
       "<Figure size 720x648 with 6 Axes>"
      ]
     },
     "metadata": {
      "needs_background": "light"
     },
     "output_type": "display_data"
    }
   ],
   "source": [
    "df.hist(bins = 30,figsize = (10,9))\n",
    "plt.show()"
   ]
  },
  {
   "cell_type": "code",
   "execution_count": 13,
   "id": "48a46f17",
   "metadata": {},
   "outputs": [
    {
     "data": {
      "text/plain": [
       "<AxesSubplot:xlabel='transmission', ylabel='price'>"
      ]
     },
     "execution_count": 13,
     "metadata": {},
     "output_type": "execute_result"
    },
    {
     "data": {
      "image/png": "[encoded data removed]",
      "text/plain": [
       "<Figure size 432x288 with 1 Axes>"
      ]
     },
     "metadata": {
      "needs_background": "light"
     },
     "output_type": "display_data"
    }
   ],
   "source": [
    "sns.barplot(x = 'transmission',y= 'price',data = df)"
   ]
  },
  {
   "cell_type": "code",
   "execution_count": 14,
   "id": "64779f3e",
   "metadata": {},
   "outputs": [
    {
     "data": {
      "text/plain": [
       "<AxesSubplot:xlabel='price', ylabel='model'>"
      ]
     },
     "execution_count": 14,
     "metadata": {},
     "output_type": "execute_result"
    },
    {
     "data": {
      "image/png": "[encoded data removed]",
      "text/plain": [
       "<Figure size 720x720 with 1 Axes>"
      ]
     },
     "metadata": {
      "needs_background": "light"
     },
     "output_type": "display_data"
    }
   ],
   "source": [
    "plt.figure(figsize=(10,10))\n",
    "sns.barplot(x = 'price',y= 'model',data = df)"
   ]
  },
  {
   "cell_type": "code",
   "execution_count": 15,
   "id": "29d714cc",
   "metadata": {},
   "outputs": [
    {
     "data": {
      "text/plain": [
       "<AxesSubplot:xlabel='fuelType', ylabel='price'>"
      ]
     },
     "execution_count": 15,
     "metadata": {},
     "output_type": "execute_result"
    },
    {
     "data": {
      "image/png": "[encoded data removed]",
      "text/plain": [
       "<Figure size 720x720 with 1 Axes>"
      ]
     },
     "metadata": {
      "needs_background": "light"
     },
     "output_type": "display_data"
    }
   ],
   "source": [
    "plt.figure(figsize=(10,10))\n",
    "sns.barplot(y = 'price',x= 'fuelType',data = df)"
   ]
  },
  {
   "cell_type": "code",
   "execution_count": 16,
   "id": "9909f0d4",
   "metadata": {},
   "outputs": [
    {
     "data": {
      "text/plain": [
       "<AxesSubplot:xlabel='mpg', ylabel='price'>"
      ]
     },
     "execution_count": 16,
     "metadata": {},
     "output_type": "execute_result"
    },
    {
     "data": {
      "image/png": "[encoded data removed]",
      "text/plain": [
       "<Figure size 720x576 with 4 Axes>"
      ]
     },
     "metadata": {
      "needs_background": "light"
     },
     "output_type": "display_data"
    }
   ],
   "source": [
    "fig = plt.figure(figsize=(10,8))\n",
    "ax = fig.add_subplot(221)\n",
    "sns.scatterplot(x = 'year',y = 'price',data = df)\n",
    "\n",
    "ax = fig.add_subplot(222)\n",
    "sns.scatterplot(x = 'mileage',y = 'price',data = df)\n",
    "\n",
    "ax = fig.add_subplot(223)\n",
    "sns.scatterplot(x = 'engineSize',y = 'price',data = df)\n",
    "\n",
    "ax = fig.add_subplot(224)\n",
    "sns.scatterplot(x = 'mpg',y = 'price',data = df)"
   ]
  },
  {
   "cell_type": "code",
   "execution_count": 17,
   "id": "4131630a",
   "metadata": {},
   "outputs": [
    {
     "data": {
      "text/html": [
       "<style type=\"text/css\">\n",
       "#T_5d4f4_row0_col0, #T_5d4f4_row1_col1, #T_5d4f4_row2_col2, #T_5d4f4_row3_col3, #T_5d4f4_row4_col4, #T_5d4f4_row5_col5 {\n",
       "  background-color: #023858;\n",
       "  color: #f1f1f1;\n",
       "}\n",
       "#T_5d4f4_row0_col1 {\n",
       "  background-color: #056dac;\n",
       "  color: #f1f1f1;\n",
       "}\n",
       "#T_5d4f4_row0_col2, #T_5d4f4_row2_col0, #T_5d4f4_row2_col1, #T_5d4f4_row3_col4, #T_5d4f4_row4_col3, #T_5d4f4_row4_col5 {\n",
       "  background-color: #fff7fb;\n",
       "  color: #000000;\n",
       "}\n",
       "#T_5d4f4_row0_col3, #T_5d4f4_row1_col5 {\n",
       "  background-color: #63a2cb;\n",
       "  color: #f1f1f1;\n",
       "}\n",
       "#T_5d4f4_row0_col4 {\n",
       "  background-color: #b9c6e0;\n",
       "  color: #000000;\n",
       "}\n",
       "#T_5d4f4_row0_col5, #T_5d4f4_row1_col2, #T_5d4f4_row1_col4 {\n",
       "  background-color: #f0eaf4;\n",
       "  color: #000000;\n",
       "}\n",
       "#T_5d4f4_row1_col0 {\n",
       "  background-color: #0569a5;\n",
       "  color: #f1f1f1;\n",
       "}\n",
       "#T_5d4f4_row1_col3 {\n",
       "  background-color: #4094c3;\n",
       "  color: #f1f1f1;\n",
       "}\n",
       "#T_5d4f4_row2_col3, #T_5d4f4_row5_col4 {\n",
       "  background-color: #e4e1ef;\n",
       "  color: #000000;\n",
       "}\n",
       "#T_5d4f4_row2_col4 {\n",
       "  background-color: #96b6d7;\n",
       "  color: #000000;\n",
       "}\n",
       "#T_5d4f4_row2_col5 {\n",
       "  background-color: #a5bddb;\n",
       "  color: #000000;\n",
       "}\n",
       "#T_5d4f4_row3_col0 {\n",
       "  background-color: #4897c4;\n",
       "  color: #f1f1f1;\n",
       "}\n",
       "#T_5d4f4_row3_col1 {\n",
       "  background-color: #3d93c2;\n",
       "  color: #f1f1f1;\n",
       "}\n",
       "#T_5d4f4_row3_col2 {\n",
       "  background-color: #cccfe5;\n",
       "  color: #000000;\n",
       "}\n",
       "#T_5d4f4_row3_col5 {\n",
       "  background-color: #adc1dd;\n",
       "  color: #000000;\n",
       "}\n",
       "#T_5d4f4_row4_col0 {\n",
       "  background-color: #9cb9d9;\n",
       "  color: #000000;\n",
       "}\n",
       "#T_5d4f4_row4_col1 {\n",
       "  background-color: #ede8f3;\n",
       "  color: #000000;\n",
       "}\n",
       "#T_5d4f4_row4_col2 {\n",
       "  background-color: #79abd0;\n",
       "  color: #f1f1f1;\n",
       "}\n",
       "#T_5d4f4_row5_col0 {\n",
       "  background-color: #b4c4df;\n",
       "  color: #000000;\n",
       "}\n",
       "#T_5d4f4_row5_col1 {\n",
       "  background-color: #3b92c1;\n",
       "  color: #f1f1f1;\n",
       "}\n",
       "#T_5d4f4_row5_col2 {\n",
       "  background-color: #60a1ca;\n",
       "  color: #f1f1f1;\n",
       "}\n",
       "#T_5d4f4_row5_col3 {\n",
       "  background-color: #84b0d3;\n",
       "  color: #f1f1f1;\n",
       "}\n",
       "</style>\n",
       "<table id=\"T_5d4f4_\">\n",
       "  <thead>\n",
       "    <tr>\n",
       "      <th class=\"blank level0\" >&nbsp;</th>\n",
       "      <th class=\"col_heading level0 col0\" >year</th>\n",
       "      <th class=\"col_heading level0 col1\" >price</th>\n",
       "      <th class=\"col_heading level0 col2\" >mileage</th>\n",
       "      <th class=\"col_heading level0 col3\" >tax</th>\n",
       "      <th class=\"col_heading level0 col4\" >mpg</th>\n",
       "      <th class=\"col_heading level0 col5\" >engineSize</th>\n",
       "    </tr>\n",
       "  </thead>\n",
       "  <tbody>\n",
       "    <tr>\n",
       "      <th id=\"T_5d4f4_level0_row0\" class=\"row_heading level0 row0\" >year</th>\n",
       "      <td id=\"T_5d4f4_row0_col0\" class=\"data row0 col0\" >1.000000</td>\n",
       "      <td id=\"T_5d4f4_row0_col1\" class=\"data row0 col1\" >0.635994</td>\n",
       "      <td id=\"T_5d4f4_row0_col2\" class=\"data row0 col2\" >-0.707899</td>\n",
       "      <td id=\"T_5d4f4_row0_col3\" class=\"data row0 col3\" >0.298457</td>\n",
       "      <td id=\"T_5d4f4_row0_col4\" class=\"data row0 col4\" >-0.022969</td>\n",
       "      <td id=\"T_5d4f4_row0_col5\" class=\"data row0 col5\" >-0.137358</td>\n",
       "    </tr>\n",
       "    <tr>\n",
       "      <th id=\"T_5d4f4_level0_row1\" class=\"row_heading level0 row1\" >price</th>\n",
       "      <td id=\"T_5d4f4_row1_col0\" class=\"data row1 col0\" >0.635994</td>\n",
       "      <td id=\"T_5d4f4_row1_col1\" class=\"data row1 col1\" >1.000000</td>\n",
       "      <td id=\"T_5d4f4_row1_col2\" class=\"data row1 col2\" >-0.530727</td>\n",
       "      <td id=\"T_5d4f4_row1_col3\" class=\"data row1 col3\" >0.406821</td>\n",
       "      <td id=\"T_5d4f4_row1_col4\" class=\"data row1 col4\" >-0.346427</td>\n",
       "      <td id=\"T_5d4f4_row1_col5\" class=\"data row1 col5\" >0.411156</td>\n",
       "    </tr>\n",
       "    <tr>\n",
       "      <th id=\"T_5d4f4_level0_row2\" class=\"row_heading level0 row2\" >mileage</th>\n",
       "      <td id=\"T_5d4f4_row2_col0\" class=\"data row2 col0\" >-0.707899</td>\n",
       "      <td id=\"T_5d4f4_row2_col1\" class=\"data row2 col1\" >-0.530727</td>\n",
       "      <td id=\"T_5d4f4_row2_col2\" class=\"data row2 col2\" >1.000000</td>\n",
       "      <td id=\"T_5d4f4_row2_col3\" class=\"data row2 col3\" >-0.260550</td>\n",
       "      <td id=\"T_5d4f4_row2_col4\" class=\"data row2 col4\" >0.120077</td>\n",
       "      <td id=\"T_5d4f4_row2_col5\" class=\"data row2 col5\" >0.215001</td>\n",
       "    </tr>\n",
       "    <tr>\n",
       "      <th id=\"T_5d4f4_level0_row3\" class=\"row_heading level0 row3\" >tax</th>\n",
       "      <td id=\"T_5d4f4_row3_col0\" class=\"data row3 col0\" >0.298457</td>\n",
       "      <td id=\"T_5d4f4_row3_col1\" class=\"data row3 col1\" >0.406821</td>\n",
       "      <td id=\"T_5d4f4_row3_col2\" class=\"data row3 col2\" >-0.260550</td>\n",
       "      <td id=\"T_5d4f4_row3_col3\" class=\"data row3 col3\" >1.000000</td>\n",
       "      <td id=\"T_5d4f4_row3_col4\" class=\"data row3 col4\" >-0.503013</td>\n",
       "      <td id=\"T_5d4f4_row3_col5\" class=\"data row3 col5\" >0.184311</td>\n",
       "    </tr>\n",
       "    <tr>\n",
       "      <th id=\"T_5d4f4_level0_row4\" class=\"row_heading level0 row4\" >mpg</th>\n",
       "      <td id=\"T_5d4f4_row4_col0\" class=\"data row4 col0\" >-0.022969</td>\n",
       "      <td id=\"T_5d4f4_row4_col1\" class=\"data row4 col1\" >-0.346427</td>\n",
       "      <td id=\"T_5d4f4_row4_col2\" class=\"data row4 col2\" >0.120077</td>\n",
       "      <td id=\"T_5d4f4_row4_col3\" class=\"data row4 col3\" >-0.503013</td>\n",
       "      <td id=\"T_5d4f4_row4_col4\" class=\"data row4 col4\" >1.000000</td>\n",
       "      <td id=\"T_5d4f4_row4_col5\" class=\"data row4 col5\" >-0.260527</td>\n",
       "    </tr>\n",
       "    <tr>\n",
       "      <th id=\"T_5d4f4_level0_row5\" class=\"row_heading level0 row5\" >engineSize</th>\n",
       "      <td id=\"T_5d4f4_row5_col0\" class=\"data row5 col0\" >-0.137358</td>\n",
       "      <td id=\"T_5d4f4_row5_col1\" class=\"data row5 col1\" >0.411156</td>\n",
       "      <td id=\"T_5d4f4_row5_col2\" class=\"data row5 col2\" >0.215001</td>\n",
       "      <td id=\"T_5d4f4_row5_col3\" class=\"data row5 col3\" >0.184311</td>\n",
       "      <td id=\"T_5d4f4_row5_col4\" class=\"data row5 col4\" >-0.260527</td>\n",
       "      <td id=\"T_5d4f4_row5_col5\" class=\"data row5 col5\" >1.000000</td>\n",
       "    </tr>\n",
       "  </tbody>\n",
       "</table>\n"
      ],
      "text/plain": [
       "<pandas.io.formats.style.Styler at 0x1ae9355c4f0>"
      ]
     },
     "execution_count": 17,
     "metadata": {},
     "output_type": "execute_result"
    }
   ],
   "source": [
    "tmp = df.corr()\n",
    "tmp.style.background_gradient()"
   ]
  },
  {
   "cell_type": "code",
   "execution_count": 18,
   "id": "aa78cf7a",
   "metadata": {},
   "outputs": [
    {
     "data": {
      "text/plain": [
       "model           0.0\n",
       "year            0.0\n",
       "price           0.0\n",
       "transmission    0.0\n",
       "mileage         0.0\n",
       "fuelType        0.0\n",
       "tax             0.0\n",
       "mpg             0.0\n",
       "engineSize      0.0\n",
       "dtype: float64"
      ]
     },
     "execution_count": 18,
     "metadata": {},
     "output_type": "execute_result"
    }
   ],
   "source": [
    "df.isnull().mean()"
   ]
  },
  {
   "cell_type": "code",
   "execution_count": 19,
   "id": "3bae9674",
   "metadata": {},
   "outputs": [
    {
     "data": {
      "text/plain": [
       "model            object\n",
       "year              int64\n",
       "price             int64\n",
       "transmission     object\n",
       "mileage           int64\n",
       "fuelType         object\n",
       "tax               int64\n",
       "mpg             float64\n",
       "engineSize      float64\n",
       "dtype: object"
      ]
     },
     "execution_count": 19,
     "metadata": {},
     "output_type": "execute_result"
    }
   ],
   "source": [
    "df.dtypes"
   ]
  },
  {
   "cell_type": "code",
   "execution_count": 20,
   "id": "e367b019",
   "metadata": {},
   "outputs": [],
   "source": [
    "variable_categorical = [i for i in df.columns if df[i].dtype == 'object']\n",
    "variable_numberic = [i for i in df.columns if df[i].dtype == 'int64' or df[i].dtype == 'float64']"
   ]
  },
  {
   "cell_type": "code",
   "execution_count": 21,
   "id": "b374d824",
   "metadata": {},
   "outputs": [],
   "source": [
    "from sklearn.model_selection import train_test_split\n",
    "X_train,X_test,y_train,y_test = train_test_split(df.drop('price',axis = 1),df['price'],test_size = 0.2,random_state=0)"
   ]
  },
  {
   "cell_type": "code",
   "execution_count": 22,
   "id": "9be928fb",
   "metadata": {},
   "outputs": [
    {
     "data": {
      "text/plain": [
       "((14372, 8), (3593, 8))"
      ]
     },
     "execution_count": 22,
     "metadata": {},
     "output_type": "execute_result"
    }
   ],
   "source": [
    "X_train.shape,X_test.shape"
   ]
  },
  {
   "cell_type": "code",
   "execution_count": 23,
   "id": "f6591558",
   "metadata": {},
   "outputs": [
    {
     "data": {
      "text/plain": [
       "[' Streetka', ' Ranger', ' Escort', ' Transit Tourneo']"
      ]
     },
     "execution_count": 23,
     "metadata": {},
     "output_type": "execute_result"
    }
   ],
   "source": [
    "## Kieerm tra nhan hiem\n",
    "[i for i in X_train['model'].unique() if i not in X_test['model'].unique()]"
   ]
  },
  {
   "cell_type": "code",
   "execution_count": 24,
   "id": "25b1fcbc",
   "metadata": {},
   "outputs": [
    {
     "data": {
      "text/plain": [
       "[]"
      ]
     },
     "execution_count": 24,
     "metadata": {},
     "output_type": "execute_result"
    }
   ],
   "source": [
    "[i for i in X_test['model'].unique() if i not in X_train['model'].unique()]"
   ]
  },
  {
   "cell_type": "code",
   "execution_count": 25,
   "id": "72712dd1",
   "metadata": {},
   "outputs": [
    {
     "data": {
      "text/plain": [
       " Fiesta                   0.364528\n",
       " Focus                    0.256540\n",
       " Kuga                     0.121417\n",
       " EcoSport                 0.062691\n",
       " C-MAX                    0.030546\n",
       " Ka+                      0.030267\n",
       " Mondeo                   0.029850\n",
       " B-MAX                    0.020109\n",
       " S-MAX                    0.016630\n",
       " Grand C-MAX              0.014125\n",
       " Galaxy                   0.012316\n",
       " Edge                     0.011481\n",
       " KA                       0.011272\n",
       " Puma                     0.004105\n",
       " Tourneo Custom           0.004036\n",
       " Mustang                  0.003618\n",
       " Grand Tourneo Connect    0.003549\n",
       " Tourneo Connect          0.001809\n",
       " Fusion                   0.000765\n",
       " Streetka                 0.000139\n",
       " Ranger                   0.000070\n",
       " Escort                   0.000070\n",
       " Transit Tourneo          0.000070\n",
       "Name: model, dtype: float64"
      ]
     },
     "execution_count": 25,
     "metadata": {},
     "output_type": "execute_result"
    }
   ],
   "source": [
    "tmp = X_train['model'].value_counts().sort_values(ascending=False) / len(X_train)\n",
    "tmp"
   ]
  },
  {
   "cell_type": "code",
   "execution_count": 26,
   "id": "8f350f89",
   "metadata": {},
   "outputs": [
    {
     "data": {
      "text/plain": [
       "{' Fiesta': 'Fiesta',\n",
       " ' EcoSport': 'EcoSport',\n",
       " ' Focus': 'Focus',\n",
       " ' Tourneo Connect': 'Tourneo Connect',\n",
       " ' Kuga': 'Kuga',\n",
       " ' Ka+': 'Ka+',\n",
       " ' Edge': 'Edge',\n",
       " ' B-MAX': 'B-MAX',\n",
       " ' Grand C-MAX': 'Grand C-MAX',\n",
       " ' C-MAX': 'C-MAX',\n",
       " ' Tourneo Custom': 'Tourneo Custom',\n",
       " ' KA': 'KA',\n",
       " ' Grand Tourneo Connect': 'Grand Tourneo Connect',\n",
       " ' Mondeo': 'Mondeo',\n",
       " ' S-MAX': 'S-MAX',\n",
       " ' Galaxy': 'Galaxy',\n",
       " ' Mustang': 'Mustang',\n",
       " ' Puma': 'Puma',\n",
       " ' Streetka': 'rare',\n",
       " ' Fusion': 'rare',\n",
       " ' Ranger': 'rare',\n",
       " ' Escort': 'rare',\n",
       " ' Transit Tourneo': 'rare'}"
      ]
     },
     "execution_count": 26,
     "metadata": {},
     "output_type": "execute_result"
    }
   ],
   "source": [
    "dic = {k :('rare' if k not in tmp[tmp >= 0.0008].index else k.strip())for k in X_train['model'].unique() }\n",
    "dic"
   ]
  },
  {
   "cell_type": "code",
   "execution_count": 27,
   "id": "029573b7",
   "metadata": {},
   "outputs": [],
   "source": [
    "df['model'] = df['model'].map(dic)"
   ]
  },
  {
   "cell_type": "code",
   "execution_count": 28,
   "id": "3826a904",
   "metadata": {},
   "outputs": [
    {
     "data": {
      "text/plain": [
       "<AxesSubplot:>"
      ]
     },
     "execution_count": 28,
     "metadata": {},
     "output_type": "execute_result"
    },
    {
     "data": {
      "image/png": "[encoded data removed]",
      "text/plain": [
       "<Figure size 1080x720 with 1 Axes>"
      ]
     },
     "metadata": {
      "needs_background": "light"
     },
     "output_type": "display_data"
    }
   ],
   "source": [
    "df.model.value_counts().sort_values(ascending=False).plot.bar(figsize = (15,10))"
   ]
  },
  {
   "cell_type": "code",
   "execution_count": 220,
   "id": "85619f4c",
   "metadata": {},
   "outputs": [],
   "source": [
    "df_1 = df.copy()"
   ]
  },
  {
   "cell_type": "code",
   "execution_count": 30,
   "id": "0c4223b1",
   "metadata": {},
   "outputs": [],
   "source": [
    "from sklearn.model_selection import train_test_split\n",
    "X_train,X_test,y_train,y_test = train_test_split(df.drop('price',axis = 1),df['price'],test_size = 0.2,random_state=0)"
   ]
  },
  {
   "cell_type": "code",
   "execution_count": 31,
   "id": "725d1b6e",
   "metadata": {},
   "outputs": [
    {
     "data": {
      "text/plain": [
       "[]"
      ]
     },
     "execution_count": 31,
     "metadata": {},
     "output_type": "execute_result"
    }
   ],
   "source": [
    "## Kieerm tra nhan hiem\n",
    "[i for i in X_train['model'].unique() if i not in X_test['model'].unique()]"
   ]
  },
  {
   "cell_type": "code",
   "execution_count": 32,
   "id": "cebc93e6",
   "metadata": {},
   "outputs": [
    {
     "data": {
      "text/plain": [
       "[]"
      ]
     },
     "execution_count": 32,
     "metadata": {},
     "output_type": "execute_result"
    }
   ],
   "source": [
    "## Kieerm tra nhan hiem\n",
    "[i for i in X_test['model'].unique() if i not in X_train['model'].unique()]"
   ]
  },
  {
   "cell_type": "markdown",
   "id": "d13e5b6b",
   "metadata": {},
   "source": [
    "#### Mã hóa dữ liệu"
   ]
  },
  {
   "cell_type": "code",
   "execution_count": 33,
   "id": "52a4b4da",
   "metadata": {},
   "outputs": [],
   "source": [
    "variable_categorical = [i for i in variable_categorical if i != 'model']"
   ]
  },
  {
   "cell_type": "code",
   "execution_count": 34,
   "id": "04fe21d8",
   "metadata": {},
   "outputs": [
    {
     "data": {
      "text/plain": [
       "['transmission', 'fuelType']"
      ]
     },
     "execution_count": 34,
     "metadata": {},
     "output_type": "execute_result"
    }
   ],
   "source": [
    "variable_categorical"
   ]
  },
  {
   "cell_type": "code",
   "execution_count": 35,
   "id": "6bb97182",
   "metadata": {},
   "outputs": [],
   "source": [
    "from feature_engine.encoding import OneHotEncoder,OrdinalEncoder"
   ]
  },
  {
   "cell_type": "code",
   "execution_count": 36,
   "id": "fd26cdb6",
   "metadata": {},
   "outputs": [],
   "source": [
    "encoder = OneHotEncoder(drop_last=True,variables=variable_categorical).fit(X_train,y_train)"
   ]
  },
  {
   "cell_type": "code",
   "execution_count": 37,
   "id": "9132284a",
   "metadata": {},
   "outputs": [
    {
     "data": {
      "text/plain": [
       "{'transmission': ['Manual', 'Semi-Auto'],\n",
       " 'fuelType': ['Petrol', 'Diesel', 'Hybrid', 'Other']}"
      ]
     },
     "execution_count": 37,
     "metadata": {},
     "output_type": "execute_result"
    }
   ],
   "source": [
    "encoder.encoder_dict_"
   ]
  },
  {
   "cell_type": "code",
   "execution_count": 38,
   "id": "d28a0403",
   "metadata": {},
   "outputs": [
    {
     "data": {
      "text/plain": [
       "['transmission', 'fuelType']"
      ]
     },
     "execution_count": 38,
     "metadata": {},
     "output_type": "execute_result"
    }
   ],
   "source": [
    "encoder.variables_"
   ]
  },
  {
   "cell_type": "code",
   "execution_count": 39,
   "id": "61fd600e",
   "metadata": {},
   "outputs": [],
   "source": [
    "X_train = encoder.transform(X_train)\n",
    "X_test = encoder.transform(X_test)"
   ]
  },
  {
   "cell_type": "code",
   "execution_count": 40,
   "id": "10e99983",
   "metadata": {},
   "outputs": [
    {
     "data": {
      "text/html": [
       "<div>\n",
       "<style scoped>\n",
       "    .dataframe tbody tr th:only-of-type {\n",
       "        vertical-align: middle;\n",
       "    }\n",
       "\n",
       "    .dataframe tbody tr th {\n",
       "        vertical-align: top;\n",
       "    }\n",
       "\n",
       "    .dataframe thead th {\n",
       "        text-align: right;\n",
       "    }\n",
       "</style>\n",
       "<table border=\"1\" class=\"dataframe\">\n",
       "  <thead>\n",
       "    <tr style=\"text-align: right;\">\n",
       "      <th></th>\n",
       "      <th>model</th>\n",
       "      <th>year</th>\n",
       "      <th>mileage</th>\n",
       "      <th>tax</th>\n",
       "      <th>mpg</th>\n",
       "      <th>engineSize</th>\n",
       "      <th>transmission_Manual</th>\n",
       "      <th>transmission_Semi-Auto</th>\n",
       "      <th>fuelType_Petrol</th>\n",
       "      <th>fuelType_Diesel</th>\n",
       "      <th>fuelType_Hybrid</th>\n",
       "      <th>fuelType_Other</th>\n",
       "    </tr>\n",
       "  </thead>\n",
       "  <tbody>\n",
       "    <tr>\n",
       "      <th>7219</th>\n",
       "      <td>Fiesta</td>\n",
       "      <td>2014</td>\n",
       "      <td>26611</td>\n",
       "      <td>0</td>\n",
       "      <td>65.7</td>\n",
       "      <td>1.0</td>\n",
       "      <td>1</td>\n",
       "      <td>0</td>\n",
       "      <td>1</td>\n",
       "      <td>0</td>\n",
       "      <td>0</td>\n",
       "      <td>0</td>\n",
       "    </tr>\n",
       "    <tr>\n",
       "      <th>3257</th>\n",
       "      <td>EcoSport</td>\n",
       "      <td>2018</td>\n",
       "      <td>8169</td>\n",
       "      <td>145</td>\n",
       "      <td>53.3</td>\n",
       "      <td>1.0</td>\n",
       "      <td>1</td>\n",
       "      <td>0</td>\n",
       "      <td>1</td>\n",
       "      <td>0</td>\n",
       "      <td>0</td>\n",
       "      <td>0</td>\n",
       "    </tr>\n",
       "    <tr>\n",
       "      <th>14535</th>\n",
       "      <td>Focus</td>\n",
       "      <td>2019</td>\n",
       "      <td>3914</td>\n",
       "      <td>145</td>\n",
       "      <td>60.1</td>\n",
       "      <td>1.0</td>\n",
       "      <td>1</td>\n",
       "      <td>0</td>\n",
       "      <td>1</td>\n",
       "      <td>0</td>\n",
       "      <td>0</td>\n",
       "      <td>0</td>\n",
       "    </tr>\n",
       "    <tr>\n",
       "      <th>4436</th>\n",
       "      <td>EcoSport</td>\n",
       "      <td>2017</td>\n",
       "      <td>20962</td>\n",
       "      <td>125</td>\n",
       "      <td>53.3</td>\n",
       "      <td>1.0</td>\n",
       "      <td>1</td>\n",
       "      <td>0</td>\n",
       "      <td>1</td>\n",
       "      <td>0</td>\n",
       "      <td>0</td>\n",
       "      <td>0</td>\n",
       "    </tr>\n",
       "    <tr>\n",
       "      <th>14091</th>\n",
       "      <td>Fiesta</td>\n",
       "      <td>2016</td>\n",
       "      <td>32000</td>\n",
       "      <td>0</td>\n",
       "      <td>65.7</td>\n",
       "      <td>1.0</td>\n",
       "      <td>1</td>\n",
       "      <td>0</td>\n",
       "      <td>1</td>\n",
       "      <td>0</td>\n",
       "      <td>0</td>\n",
       "      <td>0</td>\n",
       "    </tr>\n",
       "    <tr>\n",
       "      <th>...</th>\n",
       "      <td>...</td>\n",
       "      <td>...</td>\n",
       "      <td>...</td>\n",
       "      <td>...</td>\n",
       "      <td>...</td>\n",
       "      <td>...</td>\n",
       "      <td>...</td>\n",
       "      <td>...</td>\n",
       "      <td>...</td>\n",
       "      <td>...</td>\n",
       "      <td>...</td>\n",
       "      <td>...</td>\n",
       "    </tr>\n",
       "    <tr>\n",
       "      <th>9225</th>\n",
       "      <td>Focus</td>\n",
       "      <td>2016</td>\n",
       "      <td>53530</td>\n",
       "      <td>0</td>\n",
       "      <td>74.3</td>\n",
       "      <td>1.5</td>\n",
       "      <td>1</td>\n",
       "      <td>0</td>\n",
       "      <td>0</td>\n",
       "      <td>1</td>\n",
       "      <td>0</td>\n",
       "      <td>0</td>\n",
       "    </tr>\n",
       "    <tr>\n",
       "      <th>13123</th>\n",
       "      <td>B-MAX</td>\n",
       "      <td>2017</td>\n",
       "      <td>26806</td>\n",
       "      <td>160</td>\n",
       "      <td>44.1</td>\n",
       "      <td>1.6</td>\n",
       "      <td>0</td>\n",
       "      <td>1</td>\n",
       "      <td>1</td>\n",
       "      <td>0</td>\n",
       "      <td>0</td>\n",
       "      <td>0</td>\n",
       "    </tr>\n",
       "    <tr>\n",
       "      <th>9845</th>\n",
       "      <td>Fiesta</td>\n",
       "      <td>2015</td>\n",
       "      <td>18136</td>\n",
       "      <td>0</td>\n",
       "      <td>88.3</td>\n",
       "      <td>1.5</td>\n",
       "      <td>1</td>\n",
       "      <td>0</td>\n",
       "      <td>0</td>\n",
       "      <td>1</td>\n",
       "      <td>0</td>\n",
       "      <td>0</td>\n",
       "    </tr>\n",
       "    <tr>\n",
       "      <th>10799</th>\n",
       "      <td>Kuga</td>\n",
       "      <td>2018</td>\n",
       "      <td>10435</td>\n",
       "      <td>145</td>\n",
       "      <td>54.3</td>\n",
       "      <td>1.5</td>\n",
       "      <td>1</td>\n",
       "      <td>0</td>\n",
       "      <td>0</td>\n",
       "      <td>1</td>\n",
       "      <td>0</td>\n",
       "      <td>0</td>\n",
       "    </tr>\n",
       "    <tr>\n",
       "      <th>2732</th>\n",
       "      <td>Kuga</td>\n",
       "      <td>2014</td>\n",
       "      <td>42342</td>\n",
       "      <td>145</td>\n",
       "      <td>53.3</td>\n",
       "      <td>2.0</td>\n",
       "      <td>1</td>\n",
       "      <td>0</td>\n",
       "      <td>0</td>\n",
       "      <td>1</td>\n",
       "      <td>0</td>\n",
       "      <td>0</td>\n",
       "    </tr>\n",
       "  </tbody>\n",
       "</table>\n",
       "<p>14372 rows × 12 columns</p>\n",
       "</div>"
      ],
      "text/plain": [
       "          model  year  mileage  tax   mpg  engineSize  transmission_Manual  \\\n",
       "7219     Fiesta  2014    26611    0  65.7         1.0                    1   \n",
       "3257   EcoSport  2018     8169  145  53.3         1.0                    1   \n",
       "14535     Focus  2019     3914  145  60.1         1.0                    1   \n",
       "4436   EcoSport  2017    20962  125  53.3         1.0                    1   \n",
       "14091    Fiesta  2016    32000    0  65.7         1.0                    1   \n",
       "...         ...   ...      ...  ...   ...         ...                  ...   \n",
       "9225      Focus  2016    53530    0  74.3         1.5                    1   \n",
       "13123     B-MAX  2017    26806  160  44.1         1.6                    0   \n",
       "9845     Fiesta  2015    18136    0  88.3         1.5                    1   \n",
       "10799      Kuga  2018    10435  145  54.3         1.5                    1   \n",
       "2732       Kuga  2014    42342  145  53.3         2.0                    1   \n",
       "\n",
       "       transmission_Semi-Auto  fuelType_Petrol  fuelType_Diesel  \\\n",
       "7219                        0                1                0   \n",
       "3257                        0                1                0   \n",
       "14535                       0                1                0   \n",
       "4436                        0                1                0   \n",
       "14091                       0                1                0   \n",
       "...                       ...              ...              ...   \n",
       "9225                        0                0                1   \n",
       "13123                       1                1                0   \n",
       "9845                        0                0                1   \n",
       "10799                       0                0                1   \n",
       "2732                        0                0                1   \n",
       "\n",
       "       fuelType_Hybrid  fuelType_Other  \n",
       "7219                 0               0  \n",
       "3257                 0               0  \n",
       "14535                0               0  \n",
       "4436                 0               0  \n",
       "14091                0               0  \n",
       "...                ...             ...  \n",
       "9225                 0               0  \n",
       "13123                0               0  \n",
       "9845                 0               0  \n",
       "10799                0               0  \n",
       "2732                 0               0  \n",
       "\n",
       "[14372 rows x 12 columns]"
      ]
     },
     "execution_count": 40,
     "metadata": {},
     "output_type": "execute_result"
    }
   ],
   "source": [
    "X_train"
   ]
  },
  {
   "cell_type": "code",
   "execution_count": 41,
   "id": "1a7be541",
   "metadata": {},
   "outputs": [],
   "source": [
    "encoder = OrdinalEncoder(encoding_method='arbitrary',variables=['model']).fit(X_train,y_train)"
   ]
  },
  {
   "cell_type": "code",
   "execution_count": 42,
   "id": "3095cc39",
   "metadata": {},
   "outputs": [
    {
     "data": {
      "text/plain": [
       "{'model': {'Fiesta': 0,\n",
       "  'EcoSport': 1,\n",
       "  'Focus': 2,\n",
       "  'Tourneo Connect': 3,\n",
       "  'Kuga': 4,\n",
       "  'Ka+': 5,\n",
       "  'Edge': 6,\n",
       "  'B-MAX': 7,\n",
       "  'Grand C-MAX': 8,\n",
       "  'C-MAX': 9,\n",
       "  'Tourneo Custom': 10,\n",
       "  'KA': 11,\n",
       "  'Grand Tourneo Connect': 12,\n",
       "  'Mondeo': 13,\n",
       "  'S-MAX': 14,\n",
       "  'Galaxy': 15,\n",
       "  'Mustang': 16,\n",
       "  'Puma': 17,\n",
       "  'rare': 18}}"
      ]
     },
     "execution_count": 42,
     "metadata": {},
     "output_type": "execute_result"
    }
   ],
   "source": [
    "encoder.encoder_dict_"
   ]
  },
  {
   "cell_type": "code",
   "execution_count": 43,
   "id": "58d06373",
   "metadata": {},
   "outputs": [],
   "source": [
    "X_train = encoder.transform(X_train)\n",
    "X_test = encoder.transform(X_test)"
   ]
  },
  {
   "cell_type": "code",
   "execution_count": 44,
   "id": "13ddb261",
   "metadata": {},
   "outputs": [
    {
     "data": {
      "text/html": [
       "<div>\n",
       "<style scoped>\n",
       "    .dataframe tbody tr th:only-of-type {\n",
       "        vertical-align: middle;\n",
       "    }\n",
       "\n",
       "    .dataframe tbody tr th {\n",
       "        vertical-align: top;\n",
       "    }\n",
       "\n",
       "    .dataframe thead th {\n",
       "        text-align: right;\n",
       "    }\n",
       "</style>\n",
       "<table border=\"1\" class=\"dataframe\">\n",
       "  <thead>\n",
       "    <tr style=\"text-align: right;\">\n",
       "      <th></th>\n",
       "      <th>model</th>\n",
       "      <th>year</th>\n",
       "      <th>mileage</th>\n",
       "      <th>tax</th>\n",
       "      <th>mpg</th>\n",
       "      <th>engineSize</th>\n",
       "      <th>transmission_Manual</th>\n",
       "      <th>transmission_Semi-Auto</th>\n",
       "      <th>fuelType_Petrol</th>\n",
       "      <th>fuelType_Diesel</th>\n",
       "      <th>fuelType_Hybrid</th>\n",
       "      <th>fuelType_Other</th>\n",
       "    </tr>\n",
       "  </thead>\n",
       "  <tbody>\n",
       "    <tr>\n",
       "      <th>12173</th>\n",
       "      <td>2</td>\n",
       "      <td>2017</td>\n",
       "      <td>26754</td>\n",
       "      <td>145</td>\n",
       "      <td>74.3</td>\n",
       "      <td>1.5</td>\n",
       "      <td>1</td>\n",
       "      <td>0</td>\n",
       "      <td>0</td>\n",
       "      <td>1</td>\n",
       "      <td>0</td>\n",
       "      <td>0</td>\n",
       "    </tr>\n",
       "    <tr>\n",
       "      <th>2734</th>\n",
       "      <td>0</td>\n",
       "      <td>2018</td>\n",
       "      <td>32709</td>\n",
       "      <td>145</td>\n",
       "      <td>65.7</td>\n",
       "      <td>1.0</td>\n",
       "      <td>1</td>\n",
       "      <td>0</td>\n",
       "      <td>1</td>\n",
       "      <td>0</td>\n",
       "      <td>0</td>\n",
       "      <td>0</td>\n",
       "    </tr>\n",
       "    <tr>\n",
       "      <th>7031</th>\n",
       "      <td>2</td>\n",
       "      <td>2017</td>\n",
       "      <td>40820</td>\n",
       "      <td>150</td>\n",
       "      <td>50.4</td>\n",
       "      <td>1.5</td>\n",
       "      <td>1</td>\n",
       "      <td>0</td>\n",
       "      <td>1</td>\n",
       "      <td>0</td>\n",
       "      <td>0</td>\n",
       "      <td>0</td>\n",
       "    </tr>\n",
       "    <tr>\n",
       "      <th>3750</th>\n",
       "      <td>2</td>\n",
       "      <td>2017</td>\n",
       "      <td>28786</td>\n",
       "      <td>20</td>\n",
       "      <td>67.3</td>\n",
       "      <td>2.0</td>\n",
       "      <td>1</td>\n",
       "      <td>0</td>\n",
       "      <td>0</td>\n",
       "      <td>1</td>\n",
       "      <td>0</td>\n",
       "      <td>0</td>\n",
       "    </tr>\n",
       "    <tr>\n",
       "      <th>651</th>\n",
       "      <td>4</td>\n",
       "      <td>2017</td>\n",
       "      <td>23270</td>\n",
       "      <td>145</td>\n",
       "      <td>54.3</td>\n",
       "      <td>2.0</td>\n",
       "      <td>0</td>\n",
       "      <td>1</td>\n",
       "      <td>0</td>\n",
       "      <td>1</td>\n",
       "      <td>0</td>\n",
       "      <td>0</td>\n",
       "    </tr>\n",
       "  </tbody>\n",
       "</table>\n",
       "</div>"
      ],
      "text/plain": [
       "       model  year  mileage  tax   mpg  engineSize  transmission_Manual  \\\n",
       "12173      2  2017    26754  145  74.3         1.5                    1   \n",
       "2734       0  2018    32709  145  65.7         1.0                    1   \n",
       "7031       2  2017    40820  150  50.4         1.5                    1   \n",
       "3750       2  2017    28786   20  67.3         2.0                    1   \n",
       "651        4  2017    23270  145  54.3         2.0                    0   \n",
       "\n",
       "       transmission_Semi-Auto  fuelType_Petrol  fuelType_Diesel  \\\n",
       "12173                       0                0                1   \n",
       "2734                        0                1                0   \n",
       "7031                        0                1                0   \n",
       "3750                        0                0                1   \n",
       "651                         1                0                1   \n",
       "\n",
       "       fuelType_Hybrid  fuelType_Other  \n",
       "12173                0               0  \n",
       "2734                 0               0  \n",
       "7031                 0               0  \n",
       "3750                 0               0  \n",
       "651                  0               0  "
      ]
     },
     "execution_count": 44,
     "metadata": {},
     "output_type": "execute_result"
    }
   ],
   "source": [
    "X_test.head()"
   ]
  },
  {
   "cell_type": "code",
   "execution_count": 45,
   "id": "12a8e513",
   "metadata": {},
   "outputs": [
    {
     "data": {
      "text/plain": [
       "(14372, 12)"
      ]
     },
     "execution_count": 45,
     "metadata": {},
     "output_type": "execute_result"
    }
   ],
   "source": [
    "X_train.shape"
   ]
  },
  {
   "cell_type": "markdown",
   "id": "f3af572f",
   "metadata": {},
   "source": [
    "#### Co dãn đặc trưng"
   ]
  },
  {
   "cell_type": "code",
   "execution_count": 46,
   "id": "ce229127",
   "metadata": {},
   "outputs": [],
   "source": [
    "from sklearn.preprocessing import StandardScaler"
   ]
  },
  {
   "cell_type": "code",
   "execution_count": 47,
   "id": "184c9999",
   "metadata": {},
   "outputs": [],
   "source": [
    "variable_numberic = [i for i in variable_numberic if i != 'price']"
   ]
  },
  {
   "cell_type": "code",
   "execution_count": 48,
   "id": "00b5ecd0",
   "metadata": {},
   "outputs": [],
   "source": [
    "scale = StandardScaler().fit(X_train[variable_numberic])"
   ]
  },
  {
   "cell_type": "code",
   "execution_count": 49,
   "id": "b2efb185",
   "metadata": {},
   "outputs": [],
   "source": [
    "X_train[variable_numberic] = scale.transform(X_train[variable_numberic])\n",
    "X_test[variable_numberic] = scale.transform(X_test[variable_numberic])"
   ]
  },
  {
   "cell_type": "code",
   "execution_count": 50,
   "id": "a9db09ba",
   "metadata": {},
   "outputs": [
    {
     "data": {
      "text/html": [
       "<div>\n",
       "<style scoped>\n",
       "    .dataframe tbody tr th:only-of-type {\n",
       "        vertical-align: middle;\n",
       "    }\n",
       "\n",
       "    .dataframe tbody tr th {\n",
       "        vertical-align: top;\n",
       "    }\n",
       "\n",
       "    .dataframe thead th {\n",
       "        text-align: right;\n",
       "    }\n",
       "</style>\n",
       "<table border=\"1\" class=\"dataframe\">\n",
       "  <thead>\n",
       "    <tr style=\"text-align: right;\">\n",
       "      <th></th>\n",
       "      <th>model</th>\n",
       "      <th>year</th>\n",
       "      <th>mileage</th>\n",
       "      <th>tax</th>\n",
       "      <th>mpg</th>\n",
       "      <th>engineSize</th>\n",
       "      <th>transmission_Manual</th>\n",
       "      <th>transmission_Semi-Auto</th>\n",
       "      <th>fuelType_Petrol</th>\n",
       "      <th>fuelType_Diesel</th>\n",
       "      <th>fuelType_Hybrid</th>\n",
       "      <th>fuelType_Other</th>\n",
       "    </tr>\n",
       "  </thead>\n",
       "  <tbody>\n",
       "    <tr>\n",
       "      <th>count</th>\n",
       "      <td>14372.0</td>\n",
       "      <td>14372.0</td>\n",
       "      <td>14372.0</td>\n",
       "      <td>14372.0</td>\n",
       "      <td>14372.0</td>\n",
       "      <td>14372.0</td>\n",
       "      <td>14372.0</td>\n",
       "      <td>14372.0</td>\n",
       "      <td>14372.0</td>\n",
       "      <td>14372.0</td>\n",
       "      <td>14372.0</td>\n",
       "      <td>14372.0</td>\n",
       "    </tr>\n",
       "    <tr>\n",
       "      <th>mean</th>\n",
       "      <td>3.0</td>\n",
       "      <td>-0.0</td>\n",
       "      <td>0.0</td>\n",
       "      <td>-0.0</td>\n",
       "      <td>-0.0</td>\n",
       "      <td>0.0</td>\n",
       "      <td>0.9</td>\n",
       "      <td>0.1</td>\n",
       "      <td>0.7</td>\n",
       "      <td>0.3</td>\n",
       "      <td>0.0</td>\n",
       "      <td>0.0</td>\n",
       "    </tr>\n",
       "    <tr>\n",
       "      <th>std</th>\n",
       "      <td>3.9</td>\n",
       "      <td>1.0</td>\n",
       "      <td>1.0</td>\n",
       "      <td>1.0</td>\n",
       "      <td>1.0</td>\n",
       "      <td>1.0</td>\n",
       "      <td>0.3</td>\n",
       "      <td>0.2</td>\n",
       "      <td>0.5</td>\n",
       "      <td>0.5</td>\n",
       "      <td>0.0</td>\n",
       "      <td>0.0</td>\n",
       "    </tr>\n",
       "    <tr>\n",
       "      <th>min</th>\n",
       "      <td>0.0</td>\n",
       "      <td>-10.1</td>\n",
       "      <td>-1.2</td>\n",
       "      <td>-1.8</td>\n",
       "      <td>-3.7</td>\n",
       "      <td>-3.1</td>\n",
       "      <td>0.0</td>\n",
       "      <td>0.0</td>\n",
       "      <td>0.0</td>\n",
       "      <td>0.0</td>\n",
       "      <td>0.0</td>\n",
       "      <td>0.0</td>\n",
       "    </tr>\n",
       "    <tr>\n",
       "      <th>25%</th>\n",
       "      <td>0.0</td>\n",
       "      <td>-0.4</td>\n",
       "      <td>-0.7</td>\n",
       "      <td>-1.3</td>\n",
       "      <td>-0.6</td>\n",
       "      <td>-0.8</td>\n",
       "      <td>1.0</td>\n",
       "      <td>0.0</td>\n",
       "      <td>0.0</td>\n",
       "      <td>0.0</td>\n",
       "      <td>0.0</td>\n",
       "      <td>0.0</td>\n",
       "    </tr>\n",
       "    <tr>\n",
       "      <th>50%</th>\n",
       "      <td>2.0</td>\n",
       "      <td>0.1</td>\n",
       "      <td>-0.3</td>\n",
       "      <td>0.5</td>\n",
       "      <td>0.1</td>\n",
       "      <td>-0.3</td>\n",
       "      <td>1.0</td>\n",
       "      <td>0.0</td>\n",
       "      <td>1.0</td>\n",
       "      <td>0.0</td>\n",
       "      <td>0.0</td>\n",
       "      <td>0.0</td>\n",
       "    </tr>\n",
       "    <tr>\n",
       "      <th>75%</th>\n",
       "      <td>4.0</td>\n",
       "      <td>0.6</td>\n",
       "      <td>0.4</td>\n",
       "      <td>0.5</td>\n",
       "      <td>0.8</td>\n",
       "      <td>0.3</td>\n",
       "      <td>1.0</td>\n",
       "      <td>0.0</td>\n",
       "      <td>1.0</td>\n",
       "      <td>1.0</td>\n",
       "      <td>0.0</td>\n",
       "      <td>0.0</td>\n",
       "    </tr>\n",
       "    <tr>\n",
       "      <th>max</th>\n",
       "      <td>18.0</td>\n",
       "      <td>20.9</td>\n",
       "      <td>7.9</td>\n",
       "      <td>7.5</td>\n",
       "      <td>14.2</td>\n",
       "      <td>8.3</td>\n",
       "      <td>1.0</td>\n",
       "      <td>1.0</td>\n",
       "      <td>1.0</td>\n",
       "      <td>1.0</td>\n",
       "      <td>1.0</td>\n",
       "      <td>1.0</td>\n",
       "    </tr>\n",
       "  </tbody>\n",
       "</table>\n",
       "</div>"
      ],
      "text/plain": [
       "         model     year  mileage      tax      mpg  engineSize  \\\n",
       "count  14372.0  14372.0  14372.0  14372.0  14372.0     14372.0   \n",
       "mean       3.0     -0.0      0.0     -0.0     -0.0         0.0   \n",
       "std        3.9      1.0      1.0      1.0      1.0         1.0   \n",
       "min        0.0    -10.1     -1.2     -1.8     -3.7        -3.1   \n",
       "25%        0.0     -0.4     -0.7     -1.3     -0.6        -0.8   \n",
       "50%        2.0      0.1     -0.3      0.5      0.1        -0.3   \n",
       "75%        4.0      0.6      0.4      0.5      0.8         0.3   \n",
       "max       18.0     20.9      7.9      7.5     14.2         8.3   \n",
       "\n",
       "       transmission_Manual  transmission_Semi-Auto  fuelType_Petrol  \\\n",
       "count              14372.0                 14372.0          14372.0   \n",
       "mean                   0.9                     0.1              0.7   \n",
       "std                    0.3                     0.2              0.5   \n",
       "min                    0.0                     0.0              0.0   \n",
       "25%                    1.0                     0.0              0.0   \n",
       "50%                    1.0                     0.0              1.0   \n",
       "75%                    1.0                     0.0              1.0   \n",
       "max                    1.0                     1.0              1.0   \n",
       "\n",
       "       fuelType_Diesel  fuelType_Hybrid  fuelType_Other  \n",
       "count          14372.0          14372.0         14372.0  \n",
       "mean               0.3              0.0             0.0  \n",
       "std                0.5              0.0             0.0  \n",
       "min                0.0              0.0             0.0  \n",
       "25%                0.0              0.0             0.0  \n",
       "50%                0.0              0.0             0.0  \n",
       "75%                1.0              0.0             0.0  \n",
       "max                1.0              1.0             1.0  "
      ]
     },
     "execution_count": 50,
     "metadata": {},
     "output_type": "execute_result"
    }
   ],
   "source": [
    "round(X_train.describe(),1)"
   ]
  },
  {
   "cell_type": "markdown",
   "id": "22e60dea",
   "metadata": {},
   "source": [
    "### Lựa chọn đặc trưng"
   ]
  },
  {
   "cell_type": "code",
   "execution_count": 51,
   "id": "808edcc5",
   "metadata": {},
   "outputs": [],
   "source": [
    "from feature_engine.selection import DropDuplicateFeatures,DropConstantFeatures"
   ]
  },
  {
   "cell_type": "code",
   "execution_count": 52,
   "id": "c640debe",
   "metadata": {},
   "outputs": [],
   "source": [
    "drop = DropConstantFeatures(tol = 0.998).fit(X_train,y_train)"
   ]
  },
  {
   "cell_type": "code",
   "execution_count": 53,
   "id": "cb5f9350",
   "metadata": {},
   "outputs": [
    {
     "data": {
      "text/plain": [
       "['fuelType_Hybrid', 'fuelType_Other']"
      ]
     },
     "execution_count": 53,
     "metadata": {},
     "output_type": "execute_result"
    }
   ],
   "source": [
    "drop.features_to_drop_"
   ]
  },
  {
   "cell_type": "code",
   "execution_count": 54,
   "id": "ce78357c",
   "metadata": {},
   "outputs": [
    {
     "data": {
      "text/plain": [
       "12"
      ]
     },
     "execution_count": 54,
     "metadata": {},
     "output_type": "execute_result"
    }
   ],
   "source": [
    "drop.n_features_in_"
   ]
  },
  {
   "cell_type": "code",
   "execution_count": 55,
   "id": "6fb261d4",
   "metadata": {},
   "outputs": [],
   "source": [
    "X_train = drop.transform(X_train)\n",
    "X_test = drop.transform(X_test)"
   ]
  },
  {
   "cell_type": "code",
   "execution_count": 56,
   "id": "aceec544",
   "metadata": {},
   "outputs": [],
   "source": [
    "drop = DropDuplicateFeatures().fit(X_train,y_train)"
   ]
  },
  {
   "cell_type": "code",
   "execution_count": 57,
   "id": "754e767d",
   "metadata": {},
   "outputs": [
    {
     "data": {
      "text/plain": [
       "set()"
      ]
     },
     "execution_count": 57,
     "metadata": {},
     "output_type": "execute_result"
    }
   ],
   "source": [
    "drop.features_to_drop_"
   ]
  },
  {
   "cell_type": "code",
   "execution_count": 58,
   "id": "f4ab74c5",
   "metadata": {},
   "outputs": [],
   "source": [
    "X_train = drop.transform(X_train)\n",
    "X_test = drop.transform(X_test)"
   ]
  },
  {
   "cell_type": "code",
   "execution_count": 59,
   "id": "ef755903",
   "metadata": {},
   "outputs": [
    {
     "data": {
      "text/html": [
       "<div>\n",
       "<style scoped>\n",
       "    .dataframe tbody tr th:only-of-type {\n",
       "        vertical-align: middle;\n",
       "    }\n",
       "\n",
       "    .dataframe tbody tr th {\n",
       "        vertical-align: top;\n",
       "    }\n",
       "\n",
       "    .dataframe thead th {\n",
       "        text-align: right;\n",
       "    }\n",
       "</style>\n",
       "<table border=\"1\" class=\"dataframe\">\n",
       "  <thead>\n",
       "    <tr style=\"text-align: right;\">\n",
       "      <th></th>\n",
       "      <th>model</th>\n",
       "      <th>year</th>\n",
       "      <th>mileage</th>\n",
       "      <th>tax</th>\n",
       "      <th>mpg</th>\n",
       "      <th>engineSize</th>\n",
       "      <th>transmission_Manual</th>\n",
       "      <th>transmission_Semi-Auto</th>\n",
       "      <th>fuelType_Petrol</th>\n",
       "      <th>fuelType_Diesel</th>\n",
       "    </tr>\n",
       "  </thead>\n",
       "  <tbody>\n",
       "    <tr>\n",
       "      <th>7219</th>\n",
       "      <td>0</td>\n",
       "      <td>-1.387392</td>\n",
       "      <td>0.165620</td>\n",
       "      <td>-1.805835</td>\n",
       "      <td>0.760060</td>\n",
       "      <td>-0.802488</td>\n",
       "      <td>1</td>\n",
       "      <td>0</td>\n",
       "      <td>1</td>\n",
       "      <td>0</td>\n",
       "    </tr>\n",
       "    <tr>\n",
       "      <th>3257</th>\n",
       "      <td>1</td>\n",
       "      <td>0.554052</td>\n",
       "      <td>-0.781885</td>\n",
       "      <td>0.513309</td>\n",
       "      <td>-0.460273</td>\n",
       "      <td>-0.802488</td>\n",
       "      <td>1</td>\n",
       "      <td>0</td>\n",
       "      <td>1</td>\n",
       "      <td>0</td>\n",
       "    </tr>\n",
       "    <tr>\n",
       "      <th>14535</th>\n",
       "      <td>2</td>\n",
       "      <td>1.039412</td>\n",
       "      <td>-1.000497</td>\n",
       "      <td>0.513309</td>\n",
       "      <td>0.208942</td>\n",
       "      <td>-0.802488</td>\n",
       "      <td>1</td>\n",
       "      <td>0</td>\n",
       "      <td>1</td>\n",
       "      <td>0</td>\n",
       "    </tr>\n",
       "    <tr>\n",
       "      <th>4436</th>\n",
       "      <td>1</td>\n",
       "      <td>0.068691</td>\n",
       "      <td>-0.124612</td>\n",
       "      <td>0.193427</td>\n",
       "      <td>-0.460273</td>\n",
       "      <td>-0.802488</td>\n",
       "      <td>1</td>\n",
       "      <td>0</td>\n",
       "      <td>1</td>\n",
       "      <td>0</td>\n",
       "    </tr>\n",
       "    <tr>\n",
       "      <th>14091</th>\n",
       "      <td>0</td>\n",
       "      <td>-0.416670</td>\n",
       "      <td>0.442493</td>\n",
       "      <td>-1.805835</td>\n",
       "      <td>0.760060</td>\n",
       "      <td>-0.802488</td>\n",
       "      <td>1</td>\n",
       "      <td>0</td>\n",
       "      <td>1</td>\n",
       "      <td>0</td>\n",
       "    </tr>\n",
       "  </tbody>\n",
       "</table>\n",
       "</div>"
      ],
      "text/plain": [
       "       model      year   mileage       tax       mpg  engineSize  \\\n",
       "7219       0 -1.387392  0.165620 -1.805835  0.760060   -0.802488   \n",
       "3257       1  0.554052 -0.781885  0.513309 -0.460273   -0.802488   \n",
       "14535      2  1.039412 -1.000497  0.513309  0.208942   -0.802488   \n",
       "4436       1  0.068691 -0.124612  0.193427 -0.460273   -0.802488   \n",
       "14091      0 -0.416670  0.442493 -1.805835  0.760060   -0.802488   \n",
       "\n",
       "       transmission_Manual  transmission_Semi-Auto  fuelType_Petrol  \\\n",
       "7219                     1                       0                1   \n",
       "3257                     1                       0                1   \n",
       "14535                    1                       0                1   \n",
       "4436                     1                       0                1   \n",
       "14091                    1                       0                1   \n",
       "\n",
       "       fuelType_Diesel  \n",
       "7219                 0  \n",
       "3257                 0  \n",
       "14535                0  \n",
       "4436                 0  \n",
       "14091                0  "
      ]
     },
     "execution_count": 59,
     "metadata": {},
     "output_type": "execute_result"
    }
   ],
   "source": [
    "X_train.head()"
   ]
  },
  {
   "cell_type": "code",
   "execution_count": 60,
   "id": "d8735c33",
   "metadata": {},
   "outputs": [
    {
     "data": {
      "text/plain": [
       "(14372, 10)"
      ]
     },
     "execution_count": 60,
     "metadata": {},
     "output_type": "execute_result"
    }
   ],
   "source": [
    "X_train.shape"
   ]
  },
  {
   "cell_type": "markdown",
   "id": "27988ef7",
   "metadata": {},
   "source": [
    "###### Lựa chọn đặc trưng theo lai hóa"
   ]
  },
  {
   "cell_type": "code",
   "execution_count": 61,
   "id": "ec70b5c8",
   "metadata": {},
   "outputs": [],
   "source": [
    "from feature_engine.selection import RecursiveFeatureAddition,RecursiveFeatureElimination\n",
    "from sklearn.ensemble import GradientBoostingRegressor"
   ]
  },
  {
   "cell_type": "code",
   "execution_count": 62,
   "id": "cad00c2d",
   "metadata": {},
   "outputs": [],
   "source": [
    "model = GradientBoostingRegressor()\n",
    "clf = RecursiveFeatureAddition(model,scoring='neg_mean_squared_error',cv = 5).fit(X_train,y_train)"
   ]
  },
  {
   "cell_type": "code",
   "execution_count": 63,
   "id": "ae0189b3",
   "metadata": {},
   "outputs": [
    {
     "data": {
      "text/plain": [
       "<AxesSubplot:>"
      ]
     },
     "execution_count": 63,
     "metadata": {},
     "output_type": "execute_result"
    },
    {
     "data": {
      "image/png": "[encoded data removed]",
      "text/plain": [
       "<Figure size 720x576 with 1 Axes>"
      ]
     },
     "metadata": {
      "needs_background": "light"
     },
     "output_type": "display_data"
    }
   ],
   "source": [
    "clf.feature_importances_.plot.bar(figsize = (10,8))"
   ]
  },
  {
   "cell_type": "code",
   "execution_count": 64,
   "id": "8b0e78e8",
   "metadata": {},
   "outputs": [
    {
     "data": {
      "text/plain": [
       "['tax', 'fuelType_Diesel']"
      ]
     },
     "execution_count": 64,
     "metadata": {},
     "output_type": "execute_result"
    }
   ],
   "source": [
    "clf.features_to_drop_"
   ]
  },
  {
   "cell_type": "code",
   "execution_count": 65,
   "id": "a0a300e6",
   "metadata": {},
   "outputs": [],
   "source": [
    "X_train_add = clf.transform(X_train)\n",
    "X_test_add = clf.transform(X_test)"
   ]
  },
  {
   "cell_type": "code",
   "execution_count": 66,
   "id": "036b7bf9",
   "metadata": {},
   "outputs": [
    {
     "data": {
      "text/plain": [
       "((14372, 8), (3593, 8))"
      ]
     },
     "execution_count": 66,
     "metadata": {},
     "output_type": "execute_result"
    }
   ],
   "source": [
    "X_train_add.shape,X_test_add.shape"
   ]
  },
  {
   "cell_type": "code",
   "execution_count": 67,
   "id": "c3948c5f",
   "metadata": {},
   "outputs": [],
   "source": [
    "model = GradientBoostingRegressor()\n",
    "clf = RecursiveFeatureElimination(model,scoring='neg_mean_squared_error',cv = 5).fit(X_train,y_train)"
   ]
  },
  {
   "cell_type": "code",
   "execution_count": 68,
   "id": "a4967eef",
   "metadata": {},
   "outputs": [
    {
     "data": {
      "text/plain": [
       "<AxesSubplot:>"
      ]
     },
     "execution_count": 68,
     "metadata": {},
     "output_type": "execute_result"
    },
    {
     "data": {
      "image/png": "[encoded data removed]",
      "text/plain": [
       "<Figure size 720x576 with 1 Axes>"
      ]
     },
     "metadata": {
      "needs_background": "light"
     },
     "output_type": "display_data"
    }
   ],
   "source": [
    "clf.feature_importances_.plot.bar(figsize = (10,8))"
   ]
  },
  {
   "cell_type": "code",
   "execution_count": 69,
   "id": "c669ed32",
   "metadata": {},
   "outputs": [
    {
     "data": {
      "text/plain": [
       "['fuelType_Diesel']"
      ]
     },
     "execution_count": 69,
     "metadata": {},
     "output_type": "execute_result"
    }
   ],
   "source": [
    "clf.features_to_drop_"
   ]
  },
  {
   "cell_type": "code",
   "execution_count": 70,
   "id": "e7dc9f13",
   "metadata": {},
   "outputs": [],
   "source": [
    "X_train_eli = clf.transform(X_train)\n",
    "X_test_eli = clf.transform(X_test)"
   ]
  },
  {
   "cell_type": "code",
   "execution_count": 71,
   "id": "54e33194",
   "metadata": {},
   "outputs": [
    {
     "data": {
      "text/plain": [
       "((14372, 9), (3593, 9))"
      ]
     },
     "execution_count": 71,
     "metadata": {},
     "output_type": "execute_result"
    }
   ],
   "source": [
    "X_train_eli.shape,X_test_eli.shape"
   ]
  },
  {
   "cell_type": "markdown",
   "id": "68d9889d",
   "metadata": {},
   "source": [
    "##### Lựa chọn đặc trưng theo pp nhúng"
   ]
  },
  {
   "cell_type": "code",
   "execution_count": 72,
   "id": "569aea10",
   "metadata": {},
   "outputs": [],
   "source": [
    "from sklearn.linear_model import Lasso\n",
    "from sklearn.model_selection import GridSearchCV\n",
    "from sklearn.feature_selection import SelectFromModel"
   ]
  },
  {
   "cell_type": "code",
   "execution_count": 73,
   "id": "c2f4e09b",
   "metadata": {
    "collapsed": true
   },
   "outputs": [
    {
     "name": "stderr",
     "output_type": "stream",
     "text": [
      "C:\\Users\\nguye\\.conda\\envs\\tf-gpu\\lib\\site-packages\\sklearn\\linear_model\\_coordinate_descent.py:647: ConvergenceWarning: Objective did not converge. You might want to increase the number of iterations, check the scale of the features or consider increasing regularisation. Duality gap: 2.710e+10, tolerance: 2.591e+07\n",
      "  model = cd_fast.enet_coordinate_descent(\n",
      "C:\\Users\\nguye\\.conda\\envs\\tf-gpu\\lib\\site-packages\\sklearn\\linear_model\\_coordinate_descent.py:647: ConvergenceWarning: Objective did not converge. You might want to increase the number of iterations, check the scale of the features or consider increasing regularisation. Duality gap: 1.866e+10, tolerance: 2.571e+07\n",
      "  model = cd_fast.enet_coordinate_descent(\n",
      "C:\\Users\\nguye\\.conda\\envs\\tf-gpu\\lib\\site-packages\\sklearn\\linear_model\\_coordinate_descent.py:647: ConvergenceWarning: Objective did not converge. You might want to increase the number of iterations, check the scale of the features or consider increasing regularisation. Duality gap: 2.162e+10, tolerance: 2.576e+07\n",
      "  model = cd_fast.enet_coordinate_descent(\n",
      "C:\\Users\\nguye\\.conda\\envs\\tf-gpu\\lib\\site-packages\\sklearn\\linear_model\\_coordinate_descent.py:647: ConvergenceWarning: Objective did not converge. You might want to increase the number of iterations, check the scale of the features or consider increasing regularisation. Duality gap: 1.752e+10, tolerance: 2.550e+07\n",
      "  model = cd_fast.enet_coordinate_descent(\n",
      "C:\\Users\\nguye\\.conda\\envs\\tf-gpu\\lib\\site-packages\\sklearn\\linear_model\\_coordinate_descent.py:647: ConvergenceWarning: Objective did not converge. You might want to increase the number of iterations, check the scale of the features or consider increasing regularisation. Duality gap: 2.870e+10, tolerance: 2.623e+07\n",
      "  model = cd_fast.enet_coordinate_descent(\n",
      "C:\\Users\\nguye\\.conda\\envs\\tf-gpu\\lib\\site-packages\\sklearn\\linear_model\\_coordinate_descent.py:647: ConvergenceWarning: Objective did not converge. You might want to increase the number of iterations, check the scale of the features or consider increasing regularisation. Duality gap: 1.248e+10, tolerance: 2.591e+07\n",
      "  model = cd_fast.enet_coordinate_descent(\n",
      "C:\\Users\\nguye\\.conda\\envs\\tf-gpu\\lib\\site-packages\\sklearn\\linear_model\\_coordinate_descent.py:647: ConvergenceWarning: Objective did not converge. You might want to increase the number of iterations, check the scale of the features or consider increasing regularisation. Duality gap: 4.535e+09, tolerance: 2.571e+07\n",
      "  model = cd_fast.enet_coordinate_descent(\n",
      "C:\\Users\\nguye\\.conda\\envs\\tf-gpu\\lib\\site-packages\\sklearn\\linear_model\\_coordinate_descent.py:647: ConvergenceWarning: Objective did not converge. You might want to increase the number of iterations, check the scale of the features or consider increasing regularisation. Duality gap: 6.713e+09, tolerance: 2.576e+07\n",
      "  model = cd_fast.enet_coordinate_descent(\n",
      "C:\\Users\\nguye\\.conda\\envs\\tf-gpu\\lib\\site-packages\\sklearn\\linear_model\\_coordinate_descent.py:647: ConvergenceWarning: Objective did not converge. You might want to increase the number of iterations, check the scale of the features or consider increasing regularisation. Duality gap: 4.054e+09, tolerance: 2.550e+07\n",
      "  model = cd_fast.enet_coordinate_descent(\n",
      "C:\\Users\\nguye\\.conda\\envs\\tf-gpu\\lib\\site-packages\\sklearn\\linear_model\\_coordinate_descent.py:647: ConvergenceWarning: Objective did not converge. You might want to increase the number of iterations, check the scale of the features or consider increasing regularisation. Duality gap: 1.600e+10, tolerance: 2.623e+07\n",
      "  model = cd_fast.enet_coordinate_descent(\n",
      "C:\\Users\\nguye\\.conda\\envs\\tf-gpu\\lib\\site-packages\\sklearn\\linear_model\\_coordinate_descent.py:647: ConvergenceWarning: Objective did not converge. You might want to increase the number of iterations, check the scale of the features or consider increasing regularisation. Duality gap: 4.955e+08, tolerance: 2.591e+07\n",
      "  model = cd_fast.enet_coordinate_descent(\n",
      "C:\\Users\\nguye\\.conda\\envs\\tf-gpu\\lib\\site-packages\\sklearn\\linear_model\\_coordinate_descent.py:647: ConvergenceWarning: Objective did not converge. You might want to increase the number of iterations, check the scale of the features or consider increasing regularisation. Duality gap: 7.773e+07, tolerance: 2.571e+07\n",
      "  model = cd_fast.enet_coordinate_descent(\n",
      "C:\\Users\\nguye\\.conda\\envs\\tf-gpu\\lib\\site-packages\\sklearn\\linear_model\\_coordinate_descent.py:647: ConvergenceWarning: Objective did not converge. You might want to increase the number of iterations, check the scale of the features or consider increasing regularisation. Duality gap: 1.542e+08, tolerance: 2.576e+07\n",
      "  model = cd_fast.enet_coordinate_descent(\n",
      "C:\\Users\\nguye\\.conda\\envs\\tf-gpu\\lib\\site-packages\\sklearn\\linear_model\\_coordinate_descent.py:647: ConvergenceWarning: Objective did not converge. You might want to increase the number of iterations, check the scale of the features or consider increasing regularisation. Duality gap: 7.543e+07, tolerance: 2.550e+07\n",
      "  model = cd_fast.enet_coordinate_descent(\n",
      "C:\\Users\\nguye\\.conda\\envs\\tf-gpu\\lib\\site-packages\\sklearn\\linear_model\\_coordinate_descent.py:647: ConvergenceWarning: Objective did not converge. You might want to increase the number of iterations, check the scale of the features or consider increasing regularisation. Duality gap: 8.577e+08, tolerance: 2.623e+07\n",
      "  model = cd_fast.enet_coordinate_descent(\n",
      "C:\\Users\\nguye\\.conda\\envs\\tf-gpu\\lib\\site-packages\\sklearn\\linear_model\\_coordinate_descent.py:647: ConvergenceWarning: Objective did not converge. You might want to increase the number of iterations, check the scale of the features or consider increasing regularisation. Duality gap: 1.147e+08, tolerance: 2.591e+07\n",
      "  model = cd_fast.enet_coordinate_descent(\n",
      "C:\\Users\\nguye\\.conda\\envs\\tf-gpu\\lib\\site-packages\\sklearn\\linear_model\\_coordinate_descent.py:647: ConvergenceWarning: Objective did not converge. You might want to increase the number of iterations, check the scale of the features or consider increasing regularisation. Duality gap: 3.354e+07, tolerance: 2.576e+07\n",
      "  model = cd_fast.enet_coordinate_descent(\n",
      "C:\\Users\\nguye\\.conda\\envs\\tf-gpu\\lib\\site-packages\\sklearn\\linear_model\\_coordinate_descent.py:647: ConvergenceWarning: Objective did not converge. You might want to increase the number of iterations, check the scale of the features or consider increasing regularisation. Duality gap: 1.832e+08, tolerance: 2.623e+07\n",
      "  model = cd_fast.enet_coordinate_descent(\n",
      "C:\\Users\\nguye\\.conda\\envs\\tf-gpu\\lib\\site-packages\\sklearn\\linear_model\\_coordinate_descent.py:647: ConvergenceWarning: Objective did not converge. You might want to increase the number of iterations, check the scale of the features or consider increasing regularisation. Duality gap: 1.026e+10, tolerance: 3.228e+07\n",
      "  model = cd_fast.enet_coordinate_descent(\n"
     ]
    }
   ],
   "source": [
    "paramter = {'alpha': [0.01,0.05,0.5,1,5,10,50,100,200]}\n",
    "clf = GridSearchCV(Lasso(),paramter,cv=5,scoring='neg_mean_squared_error').fit(X_train,y_train)"
   ]
  },
  {
   "cell_type": "code",
   "execution_count": 74,
   "id": "8f6b2074",
   "metadata": {},
   "outputs": [
    {
     "data": {
      "text/plain": [
       "{'alpha': 0.05}"
      ]
     },
     "execution_count": 74,
     "metadata": {},
     "output_type": "execute_result"
    }
   ],
   "source": [
    "clf.best_params_"
   ]
  },
  {
   "cell_type": "code",
   "execution_count": 75,
   "id": "1143f4cd",
   "metadata": {},
   "outputs": [
    {
     "name": "stderr",
     "output_type": "stream",
     "text": [
      "C:\\Users\\nguye\\.conda\\envs\\tf-gpu\\lib\\site-packages\\sklearn\\linear_model\\_coordinate_descent.py:647: ConvergenceWarning: Objective did not converge. You might want to increase the number of iterations, check the scale of the features or consider increasing regularisation. Duality gap: 1.026e+10, tolerance: 3.228e+07\n",
      "  model = cd_fast.enet_coordinate_descent(\n"
     ]
    }
   ],
   "source": [
    "model = SelectFromModel(Lasso(clf.best_params_['alpha'])).fit(X_train,y_train)"
   ]
  },
  {
   "cell_type": "code",
   "execution_count": 76,
   "id": "510ef3e3",
   "metadata": {},
   "outputs": [],
   "source": [
    "select = X_train.columns[model.get_support()]"
   ]
  },
  {
   "cell_type": "code",
   "execution_count": 77,
   "id": "5d82bec8",
   "metadata": {},
   "outputs": [],
   "source": [
    "X_train_lasso = X_train[select]\n",
    "X_test_lasso = X_test[select]"
   ]
  },
  {
   "cell_type": "markdown",
   "id": "de0448be",
   "metadata": {},
   "source": [
    "### Triển khai mô hình"
   ]
  },
  {
   "cell_type": "code",
   "execution_count": 78,
   "id": "258799a5",
   "metadata": {},
   "outputs": [],
   "source": [
    "from sklearn.linear_model import LinearRegression"
   ]
  },
  {
   "cell_type": "code",
   "execution_count": 79,
   "id": "c71c1719",
   "metadata": {},
   "outputs": [],
   "source": [
    "model = LinearRegression().fit(X_train_lasso,y_train)"
   ]
  },
  {
   "cell_type": "code",
   "execution_count": 80,
   "id": "8cc2f937",
   "metadata": {
    "collapsed": true
   },
   "outputs": [
    {
     "data": {
      "text/plain": [
       "array([   56.33973445,  2348.29381777, -1243.32654163,    83.42974583,\n",
       "       -1067.98154351,  1670.99897684,  -787.32205301,  -380.35590617,\n",
       "       -8245.9801658 , -6892.36436009])"
      ]
     },
     "execution_count": 80,
     "metadata": {},
     "output_type": "execute_result"
    }
   ],
   "source": [
    "model.coef_"
   ]
  },
  {
   "cell_type": "code",
   "execution_count": 81,
   "id": "5bd97106",
   "metadata": {},
   "outputs": [
    {
     "data": {
      "text/plain": [
       "array([11868.25160383, 10156.02268464, 12134.77552178, 14216.58088176,\n",
       "       16621.73650012])"
      ]
     },
     "execution_count": 81,
     "metadata": {},
     "output_type": "execute_result"
    }
   ],
   "source": [
    "model.predict(X_test[:5])"
   ]
  },
  {
   "cell_type": "code",
   "execution_count": 82,
   "id": "3ecaa8c7",
   "metadata": {},
   "outputs": [
    {
     "data": {
      "text/plain": [
       "[11670, 10000, 11599, 14899, 19498]"
      ]
     },
     "execution_count": 82,
     "metadata": {},
     "output_type": "execute_result"
    }
   ],
   "source": [
    "list(y_test[:5])"
   ]
  },
  {
   "cell_type": "code",
   "execution_count": 83,
   "id": "07a1c44f",
   "metadata": {},
   "outputs": [],
   "source": [
    "from sklearn.model_selection import cross_val_score,KFold\n",
    "def rmse(model,X,y):\n",
    "    cv = KFold(n_splits=10,shuffle=True).get_n_splits(X.values)\n",
    "    score = cross_val_score(model,X,y,cv = cv,scoring='neg_mean_squared_error')\n",
    "    score = np.sqrt(-score)\n",
    "    print(f\"Gía trị rmse của 10 fold: \\n {score}\")\n",
    "    print(f'Giá trị trung bình: {score.mean()} và Độ lệch chuẩn: {score.std()}')"
   ]
  },
  {
   "cell_type": "code",
   "execution_count": 84,
   "id": "e3f82c2a",
   "metadata": {},
   "outputs": [
    {
     "name": "stdout",
     "output_type": "stream",
     "text": [
      "Gía trị rmse của 10 fold: \n",
      " [2232.24571851 2292.96953774 2570.78320596 2408.49899813 2465.5657062\n",
      " 2489.09742582 2808.18982245 2382.85162565 2305.44173987 2456.08053691]\n",
      "Giá trị trung bình: 2441.1724317238118 và Độ lệch chuẩn: 155.92336773817442\n",
      "--------------------------------------------------\n",
      "Gía trị rmse của 10 fold: \n",
      " [2232.24571851 2292.96953774 2570.78320596 2408.49899813 2465.5657062\n",
      " 2489.09742582 2808.18982245 2382.85162565 2305.44173987 2456.08053691]\n",
      "Giá trị trung bình: 2441.1724317238118 và Độ lệch chuẩn: 155.92336773817442\n",
      "--------------------------------------------------\n",
      "Gía trị rmse của 10 fold: \n",
      " [2236.13847441 2294.39372731 2573.04303896 2406.37895202 2465.06309615\n",
      " 2485.89494985 2803.47564814 2385.54793252 2302.57069619 2452.04512972]\n",
      "Giá trị trung bình: 2440.4551645278543 và Độ lệch chuẩn: 154.41354861041432\n"
     ]
    }
   ],
   "source": [
    "model = LinearRegression()\n",
    "rmse(model,X_train_add,y_train)\n",
    "print(\"--------------------------------------------------\")\n",
    "rmse(model,X_train_add,y_train)\n",
    "print('--------------------------------------------------')\n",
    "rmse(model,X_train_eli,y_train)"
   ]
  },
  {
   "cell_type": "code",
   "execution_count": 85,
   "id": "13ea48b2",
   "metadata": {},
   "outputs": [
    {
     "name": "stdout",
     "output_type": "stream",
     "text": [
      "Gía trị rmse của 10 fold: \n",
      " [1587.51251243 1510.32942451 1743.90259209 1486.4452783  1577.98345991\n",
      " 1498.01245505 1786.29021927 1563.87672497 1755.84235642 1531.38522637]\n",
      "Giá trị trung bình: 1604.158024933396 và Độ lệch chuẩn: 108.40499985911148\n",
      "--------------------------------------------------\n",
      "Gía trị rmse của 10 fold: \n",
      " [1572.0897452  1504.03815082 1733.57764858 1500.90880599 1595.97262014\n",
      " 1499.38156176 1800.73445333 1577.47933836 1778.3554077  1538.74650213]\n",
      "Giá trị trung bình: 1610.1284234020757 và Độ lệch chuẩn: 110.96319004908668\n",
      "--------------------------------------------------\n",
      "Gía trị rmse của 10 fold: \n",
      " [1683.43493327 1540.07525172 1741.06536632 1480.07180877 1577.19401944\n",
      " 1464.32950698 1722.71258113 1420.63074256 1812.68817349 1661.4518533 ]\n",
      "Giá trị trung bình: 1610.365423698201 và Độ lệch chuẩn: 126.06785673326489\n"
     ]
    }
   ],
   "source": [
    "from sklearn.tree import DecisionTreeRegressor\n",
    "model = DecisionTreeRegressor()\n",
    "rmse(model,X_train_add,y_train)\n",
    "print(\"--------------------------------------------------\")\n",
    "rmse(model,X_train_add,y_train)\n",
    "print('--------------------------------------------------')\n",
    "rmse(model,X_train_eli,y_train)"
   ]
  },
  {
   "cell_type": "code",
   "execution_count": 86,
   "id": "5f214523",
   "metadata": {},
   "outputs": [
    {
     "name": "stdout",
     "output_type": "stream",
     "text": [
      "Gía trị rmse của 10 fold: \n",
      " [1203.05893547 1259.30620931 1451.49943321 1205.43221681 1362.43147338\n",
      " 1220.39559268 1501.45806522 1282.79768319 1343.87863388 1243.99419489]\n",
      "Giá trị trung bình: 1307.4252438048586 và Độ lệch chuẩn: 99.2850255638918\n",
      "--------------------------------------------------\n",
      "Gía trị rmse của 10 fold: \n",
      " [1198.69602684 1266.91049279 1470.69247634 1210.06132624 1361.06270147\n",
      " 1229.7029829  1491.53913454 1252.14204909 1366.74970607 1240.67345923]\n",
      "Giá trị trung bình: 1308.8230355504456 và Độ lệch chuẩn: 101.69903970525412\n",
      "--------------------------------------------------\n",
      "Gía trị rmse của 10 fold: \n",
      " [1202.07966097 1254.07159411 1423.77351549 1202.65713211 1337.51326469\n",
      " 1234.17927263 1464.26644498 1171.59899399 1357.36462083 1232.58562711]\n",
      "Giá trị trung bình: 1288.0090126920427 và Độ lệch chuẩn: 95.9691535999135\n"
     ]
    }
   ],
   "source": [
    "from sklearn.ensemble import RandomForestRegressor\n",
    "model = RandomForestRegressor()\n",
    "rmse(model,X_train_add,y_train)\n",
    "print(\"--------------------------------------------------\")\n",
    "rmse(model,X_train_add,y_train)\n",
    "print('--------------------------------------------------')\n",
    "rmse(model,X_train_eli,y_train)"
   ]
  },
  {
   "cell_type": "code",
   "execution_count": 87,
   "id": "a3e52314",
   "metadata": {},
   "outputs": [
    {
     "name": "stdout",
     "output_type": "stream",
     "text": [
      "Gía trị rmse của 10 fold: \n",
      " [1308.39131409 1355.79490666 1558.15178633 1297.73630392 1472.97077874\n",
      " 1349.88285927 1573.20870979 1340.73172731 1401.35357481 1366.35241887]\n",
      "Giá trị trung bình: 1402.4574379796948 và Độ lệch chuẩn: 93.93622420238238\n",
      "--------------------------------------------------\n",
      "Gía trị rmse của 10 fold: \n",
      " [1308.17551407 1355.79490666 1558.15178633 1297.66935636 1472.97077874\n",
      " 1350.01119374 1574.36806494 1340.73172731 1401.35357481 1366.35241887]\n",
      "Giá trị trung bình: 1402.5579321834787 và Độ lệch chuẩn: 94.16926349525019\n",
      "--------------------------------------------------\n",
      "Gía trị rmse của 10 fold: \n",
      " [1323.7179971  1363.24123988 1571.01676693 1278.81592408 1476.00756555\n",
      " 1388.03372356 1576.46985356 1332.16586438 1396.47362891 1369.85822664]\n",
      "Giá trị trung bình: 1407.5800790595997 và Độ lệch chuẩn: 96.49470037858343\n"
     ]
    }
   ],
   "source": [
    "from sklearn.ensemble import GradientBoostingRegressor\n",
    "model = GradientBoostingRegressor()\n",
    "rmse(model,X_train_add,y_train)\n",
    "print(\"--------------------------------------------------\")\n",
    "rmse(model,X_train_add,y_train)\n",
    "print('--------------------------------------------------')\n",
    "rmse(model,X_train_eli,y_train)"
   ]
  },
  {
   "cell_type": "code",
   "execution_count": 88,
   "id": "4a9514f9",
   "metadata": {},
   "outputs": [],
   "source": [
    "paramter = {'learning_rate':[0.001,0.005,0.1,0.5],'n_estimators':[50,100,150,200],'max_depth':[3,5,10,15,20]}\n",
    "clf = GridSearchCV(GradientBoostingRegressor(),paramter,cv = 5, scoring='neg_mean_squared_error').fit(X_train_lasso,y_train)"
   ]
  },
  {
   "cell_type": "code",
   "execution_count": 89,
   "id": "86acacd1",
   "metadata": {},
   "outputs": [
    {
     "data": {
      "text/plain": [
       "{'learning_rate': 0.1, 'max_depth': 5, 'n_estimators': 200}"
      ]
     },
     "execution_count": 89,
     "metadata": {},
     "output_type": "execute_result"
    }
   ],
   "source": [
    "clf.best_params_"
   ]
  },
  {
   "cell_type": "code",
   "execution_count": 90,
   "id": "b431e047",
   "metadata": {},
   "outputs": [],
   "source": [
    "model = GradientBoostingRegressor(learning_rate=clf.best_params_['learning_rate']\n",
    "                                  ,max_depth=clf.best_params_['max_depth']\n",
    "                                  ,n_estimators=clf.best_params_['n_estimators']).fit(X_train_lasso,y_train)"
   ]
  },
  {
   "cell_type": "code",
   "execution_count": 91,
   "id": "4c4a92a1",
   "metadata": {},
   "outputs": [
    {
     "data": {
      "text/plain": [
       "array([11206.65945972, 10375.35232199, 11081.37765114, 15605.4393776 ,\n",
       "       17336.88236102])"
      ]
     },
     "execution_count": 91,
     "metadata": {},
     "output_type": "execute_result"
    }
   ],
   "source": [
    "model.predict(X_test_lasso[:5])"
   ]
  },
  {
   "cell_type": "code",
   "execution_count": 92,
   "id": "688c6120",
   "metadata": {},
   "outputs": [
    {
     "data": {
      "text/plain": [
       "[11670, 10000, 11599, 14899, 19498]"
      ]
     },
     "execution_count": 92,
     "metadata": {},
     "output_type": "execute_result"
    }
   ],
   "source": [
    "list(y_test[:5])"
   ]
  },
  {
   "cell_type": "code",
   "execution_count": 93,
   "id": "9c63fdbb",
   "metadata": {},
   "outputs": [],
   "source": [
    "from sklearn.metrics import mean_squared_error"
   ]
  },
  {
   "cell_type": "code",
   "execution_count": 94,
   "id": "6ce3debe",
   "metadata": {},
   "outputs": [
    {
     "data": {
      "text/plain": [
       "1355108.1581194515"
      ]
     },
     "execution_count": 94,
     "metadata": {},
     "output_type": "execute_result"
    }
   ],
   "source": [
    "mean_squared_error(y_test,model.predict(X_test_lasso))"
   ]
  },
  {
   "cell_type": "code",
   "execution_count": 95,
   "id": "2ba35a6c",
   "metadata": {},
   "outputs": [],
   "source": [
    "from sklearn.metrics import r2_score"
   ]
  },
  {
   "cell_type": "code",
   "execution_count": 96,
   "id": "01d0f742",
   "metadata": {},
   "outputs": [
    {
     "data": {
      "text/plain": [
       "0.9398845842558933"
      ]
     },
     "execution_count": 96,
     "metadata": {},
     "output_type": "execute_result"
    }
   ],
   "source": [
    "r2_score(y_test,model.predict(X_test_lasso))"
   ]
  },
  {
   "cell_type": "markdown",
   "id": "d57853f5",
   "metadata": {},
   "source": [
    "#### scaling output test"
   ]
  },
  {
   "cell_type": "code",
   "execution_count": 221,
   "id": "04489a46",
   "metadata": {},
   "outputs": [
    {
     "data": {
      "text/html": [
       "<div>\n",
       "<style scoped>\n",
       "    .dataframe tbody tr th:only-of-type {\n",
       "        vertical-align: middle;\n",
       "    }\n",
       "\n",
       "    .dataframe tbody tr th {\n",
       "        vertical-align: top;\n",
       "    }\n",
       "\n",
       "    .dataframe thead th {\n",
       "        text-align: right;\n",
       "    }\n",
       "</style>\n",
       "<table border=\"1\" class=\"dataframe\">\n",
       "  <thead>\n",
       "    <tr style=\"text-align: right;\">\n",
       "      <th></th>\n",
       "      <th>model</th>\n",
       "      <th>year</th>\n",
       "      <th>price</th>\n",
       "      <th>transmission</th>\n",
       "      <th>mileage</th>\n",
       "      <th>fuelType</th>\n",
       "      <th>tax</th>\n",
       "      <th>mpg</th>\n",
       "      <th>engineSize</th>\n",
       "    </tr>\n",
       "  </thead>\n",
       "  <tbody>\n",
       "    <tr>\n",
       "      <th>0</th>\n",
       "      <td>Fiesta</td>\n",
       "      <td>2017</td>\n",
       "      <td>12000</td>\n",
       "      <td>Automatic</td>\n",
       "      <td>15944</td>\n",
       "      <td>Petrol</td>\n",
       "      <td>150</td>\n",
       "      <td>57.7</td>\n",
       "      <td>1.0</td>\n",
       "    </tr>\n",
       "    <tr>\n",
       "      <th>1</th>\n",
       "      <td>Focus</td>\n",
       "      <td>2018</td>\n",
       "      <td>14000</td>\n",
       "      <td>Manual</td>\n",
       "      <td>9083</td>\n",
       "      <td>Petrol</td>\n",
       "      <td>150</td>\n",
       "      <td>57.7</td>\n",
       "      <td>1.0</td>\n",
       "    </tr>\n",
       "    <tr>\n",
       "      <th>2</th>\n",
       "      <td>Focus</td>\n",
       "      <td>2017</td>\n",
       "      <td>13000</td>\n",
       "      <td>Manual</td>\n",
       "      <td>12456</td>\n",
       "      <td>Petrol</td>\n",
       "      <td>150</td>\n",
       "      <td>57.7</td>\n",
       "      <td>1.0</td>\n",
       "    </tr>\n",
       "    <tr>\n",
       "      <th>3</th>\n",
       "      <td>Fiesta</td>\n",
       "      <td>2019</td>\n",
       "      <td>17500</td>\n",
       "      <td>Manual</td>\n",
       "      <td>10460</td>\n",
       "      <td>Petrol</td>\n",
       "      <td>145</td>\n",
       "      <td>40.3</td>\n",
       "      <td>1.5</td>\n",
       "    </tr>\n",
       "    <tr>\n",
       "      <th>4</th>\n",
       "      <td>Fiesta</td>\n",
       "      <td>2019</td>\n",
       "      <td>16500</td>\n",
       "      <td>Automatic</td>\n",
       "      <td>1482</td>\n",
       "      <td>Petrol</td>\n",
       "      <td>145</td>\n",
       "      <td>48.7</td>\n",
       "      <td>1.0</td>\n",
       "    </tr>\n",
       "    <tr>\n",
       "      <th>...</th>\n",
       "      <td>...</td>\n",
       "      <td>...</td>\n",
       "      <td>...</td>\n",
       "      <td>...</td>\n",
       "      <td>...</td>\n",
       "      <td>...</td>\n",
       "      <td>...</td>\n",
       "      <td>...</td>\n",
       "      <td>...</td>\n",
       "    </tr>\n",
       "    <tr>\n",
       "      <th>17960</th>\n",
       "      <td>Fiesta</td>\n",
       "      <td>2016</td>\n",
       "      <td>7999</td>\n",
       "      <td>Manual</td>\n",
       "      <td>31348</td>\n",
       "      <td>Petrol</td>\n",
       "      <td>125</td>\n",
       "      <td>54.3</td>\n",
       "      <td>1.2</td>\n",
       "    </tr>\n",
       "    <tr>\n",
       "      <th>17961</th>\n",
       "      <td>B-MAX</td>\n",
       "      <td>2017</td>\n",
       "      <td>8999</td>\n",
       "      <td>Manual</td>\n",
       "      <td>16700</td>\n",
       "      <td>Petrol</td>\n",
       "      <td>150</td>\n",
       "      <td>47.1</td>\n",
       "      <td>1.4</td>\n",
       "    </tr>\n",
       "    <tr>\n",
       "      <th>17962</th>\n",
       "      <td>B-MAX</td>\n",
       "      <td>2014</td>\n",
       "      <td>7499</td>\n",
       "      <td>Manual</td>\n",
       "      <td>40700</td>\n",
       "      <td>Petrol</td>\n",
       "      <td>30</td>\n",
       "      <td>57.7</td>\n",
       "      <td>1.0</td>\n",
       "    </tr>\n",
       "    <tr>\n",
       "      <th>17963</th>\n",
       "      <td>Focus</td>\n",
       "      <td>2015</td>\n",
       "      <td>9999</td>\n",
       "      <td>Manual</td>\n",
       "      <td>7010</td>\n",
       "      <td>Diesel</td>\n",
       "      <td>20</td>\n",
       "      <td>67.3</td>\n",
       "      <td>1.6</td>\n",
       "    </tr>\n",
       "    <tr>\n",
       "      <th>17964</th>\n",
       "      <td>KA</td>\n",
       "      <td>2018</td>\n",
       "      <td>8299</td>\n",
       "      <td>Manual</td>\n",
       "      <td>5007</td>\n",
       "      <td>Petrol</td>\n",
       "      <td>145</td>\n",
       "      <td>57.7</td>\n",
       "      <td>1.2</td>\n",
       "    </tr>\n",
       "  </tbody>\n",
       "</table>\n",
       "<p>17965 rows × 9 columns</p>\n",
       "</div>"
      ],
      "text/plain": [
       "        model  year  price transmission  mileage fuelType  tax   mpg  \\\n",
       "0      Fiesta  2017  12000    Automatic    15944   Petrol  150  57.7   \n",
       "1       Focus  2018  14000       Manual     9083   Petrol  150  57.7   \n",
       "2       Focus  2017  13000       Manual    12456   Petrol  150  57.7   \n",
       "3      Fiesta  2019  17500       Manual    10460   Petrol  145  40.3   \n",
       "4      Fiesta  2019  16500    Automatic     1482   Petrol  145  48.7   \n",
       "...       ...   ...    ...          ...      ...      ...  ...   ...   \n",
       "17960  Fiesta  2016   7999       Manual    31348   Petrol  125  54.3   \n",
       "17961   B-MAX  2017   8999       Manual    16700   Petrol  150  47.1   \n",
       "17962   B-MAX  2014   7499       Manual    40700   Petrol   30  57.7   \n",
       "17963   Focus  2015   9999       Manual     7010   Diesel   20  67.3   \n",
       "17964      KA  2018   8299       Manual     5007   Petrol  145  57.7   \n",
       "\n",
       "       engineSize  \n",
       "0             1.0  \n",
       "1             1.0  \n",
       "2             1.0  \n",
       "3             1.5  \n",
       "4             1.0  \n",
       "...           ...  \n",
       "17960         1.2  \n",
       "17961         1.4  \n",
       "17962         1.0  \n",
       "17963         1.6  \n",
       "17964         1.2  \n",
       "\n",
       "[17965 rows x 9 columns]"
      ]
     },
     "execution_count": 221,
     "metadata": {},
     "output_type": "execute_result"
    }
   ],
   "source": [
    "df_1"
   ]
  },
  {
   "cell_type": "code",
   "execution_count": 222,
   "id": "30decd94",
   "metadata": {},
   "outputs": [],
   "source": [
    "from feature_engine.encoding import OneHotEncoder,OrdinalEncoder"
   ]
  },
  {
   "cell_type": "code",
   "execution_count": 223,
   "id": "f2d1319b",
   "metadata": {},
   "outputs": [],
   "source": [
    "encoder = OneHotEncoder(drop_last=True,variables=['transmission','fuelType']).fit(df_1)"
   ]
  },
  {
   "cell_type": "code",
   "execution_count": 224,
   "id": "3f9de000",
   "metadata": {},
   "outputs": [],
   "source": [
    "df_1 = encoder.transform(df_1)"
   ]
  },
  {
   "cell_type": "code",
   "execution_count": 225,
   "id": "9b381426",
   "metadata": {},
   "outputs": [
    {
     "data": {
      "text/html": [
       "<div>\n",
       "<style scoped>\n",
       "    .dataframe tbody tr th:only-of-type {\n",
       "        vertical-align: middle;\n",
       "    }\n",
       "\n",
       "    .dataframe tbody tr th {\n",
       "        vertical-align: top;\n",
       "    }\n",
       "\n",
       "    .dataframe thead th {\n",
       "        text-align: right;\n",
       "    }\n",
       "</style>\n",
       "<table border=\"1\" class=\"dataframe\">\n",
       "  <thead>\n",
       "    <tr style=\"text-align: right;\">\n",
       "      <th></th>\n",
       "      <th>model</th>\n",
       "      <th>year</th>\n",
       "      <th>price</th>\n",
       "      <th>mileage</th>\n",
       "      <th>tax</th>\n",
       "      <th>mpg</th>\n",
       "      <th>engineSize</th>\n",
       "      <th>transmission_Automatic</th>\n",
       "      <th>transmission_Manual</th>\n",
       "      <th>fuelType_Petrol</th>\n",
       "      <th>fuelType_Diesel</th>\n",
       "      <th>fuelType_Hybrid</th>\n",
       "      <th>fuelType_Electric</th>\n",
       "    </tr>\n",
       "  </thead>\n",
       "  <tbody>\n",
       "    <tr>\n",
       "      <th>0</th>\n",
       "      <td>Fiesta</td>\n",
       "      <td>2017</td>\n",
       "      <td>12000</td>\n",
       "      <td>15944</td>\n",
       "      <td>150</td>\n",
       "      <td>57.7</td>\n",
       "      <td>1.0</td>\n",
       "      <td>1</td>\n",
       "      <td>0</td>\n",
       "      <td>1</td>\n",
       "      <td>0</td>\n",
       "      <td>0</td>\n",
       "      <td>0</td>\n",
       "    </tr>\n",
       "    <tr>\n",
       "      <th>1</th>\n",
       "      <td>Focus</td>\n",
       "      <td>2018</td>\n",
       "      <td>14000</td>\n",
       "      <td>9083</td>\n",
       "      <td>150</td>\n",
       "      <td>57.7</td>\n",
       "      <td>1.0</td>\n",
       "      <td>0</td>\n",
       "      <td>1</td>\n",
       "      <td>1</td>\n",
       "      <td>0</td>\n",
       "      <td>0</td>\n",
       "      <td>0</td>\n",
       "    </tr>\n",
       "    <tr>\n",
       "      <th>2</th>\n",
       "      <td>Focus</td>\n",
       "      <td>2017</td>\n",
       "      <td>13000</td>\n",
       "      <td>12456</td>\n",
       "      <td>150</td>\n",
       "      <td>57.7</td>\n",
       "      <td>1.0</td>\n",
       "      <td>0</td>\n",
       "      <td>1</td>\n",
       "      <td>1</td>\n",
       "      <td>0</td>\n",
       "      <td>0</td>\n",
       "      <td>0</td>\n",
       "    </tr>\n",
       "    <tr>\n",
       "      <th>3</th>\n",
       "      <td>Fiesta</td>\n",
       "      <td>2019</td>\n",
       "      <td>17500</td>\n",
       "      <td>10460</td>\n",
       "      <td>145</td>\n",
       "      <td>40.3</td>\n",
       "      <td>1.5</td>\n",
       "      <td>0</td>\n",
       "      <td>1</td>\n",
       "      <td>1</td>\n",
       "      <td>0</td>\n",
       "      <td>0</td>\n",
       "      <td>0</td>\n",
       "    </tr>\n",
       "    <tr>\n",
       "      <th>4</th>\n",
       "      <td>Fiesta</td>\n",
       "      <td>2019</td>\n",
       "      <td>16500</td>\n",
       "      <td>1482</td>\n",
       "      <td>145</td>\n",
       "      <td>48.7</td>\n",
       "      <td>1.0</td>\n",
       "      <td>1</td>\n",
       "      <td>0</td>\n",
       "      <td>1</td>\n",
       "      <td>0</td>\n",
       "      <td>0</td>\n",
       "      <td>0</td>\n",
       "    </tr>\n",
       "  </tbody>\n",
       "</table>\n",
       "</div>"
      ],
      "text/plain": [
       "    model  year  price  mileage  tax   mpg  engineSize  \\\n",
       "0  Fiesta  2017  12000    15944  150  57.7         1.0   \n",
       "1   Focus  2018  14000     9083  150  57.7         1.0   \n",
       "2   Focus  2017  13000    12456  150  57.7         1.0   \n",
       "3  Fiesta  2019  17500    10460  145  40.3         1.5   \n",
       "4  Fiesta  2019  16500     1482  145  48.7         1.0   \n",
       "\n",
       "   transmission_Automatic  transmission_Manual  fuelType_Petrol  \\\n",
       "0                       1                    0                1   \n",
       "1                       0                    1                1   \n",
       "2                       0                    1                1   \n",
       "3                       0                    1                1   \n",
       "4                       1                    0                1   \n",
       "\n",
       "   fuelType_Diesel  fuelType_Hybrid  fuelType_Electric  \n",
       "0                0                0                  0  \n",
       "1                0                0                  0  \n",
       "2                0                0                  0  \n",
       "3                0                0                  0  \n",
       "4                0                0                  0  "
      ]
     },
     "execution_count": 225,
     "metadata": {},
     "output_type": "execute_result"
    }
   ],
   "source": [
    "df_1.head()"
   ]
  },
  {
   "cell_type": "code",
   "execution_count": 226,
   "id": "1fd320c8",
   "metadata": {},
   "outputs": [],
   "source": [
    "encoder = OrdinalEncoder(encoding_method='arbitrary',variables=['model'])"
   ]
  },
  {
   "cell_type": "code",
   "execution_count": 227,
   "id": "e15cb07d",
   "metadata": {},
   "outputs": [],
   "source": [
    "df_1 = encoder.fit_transform(df_1)"
   ]
  },
  {
   "cell_type": "code",
   "execution_count": 228,
   "id": "5d076468",
   "metadata": {},
   "outputs": [
    {
     "data": {
      "text/html": [
       "<div>\n",
       "<style scoped>\n",
       "    .dataframe tbody tr th:only-of-type {\n",
       "        vertical-align: middle;\n",
       "    }\n",
       "\n",
       "    .dataframe tbody tr th {\n",
       "        vertical-align: top;\n",
       "    }\n",
       "\n",
       "    .dataframe thead th {\n",
       "        text-align: right;\n",
       "    }\n",
       "</style>\n",
       "<table border=\"1\" class=\"dataframe\">\n",
       "  <thead>\n",
       "    <tr style=\"text-align: right;\">\n",
       "      <th></th>\n",
       "      <th>model</th>\n",
       "      <th>year</th>\n",
       "      <th>price</th>\n",
       "      <th>mileage</th>\n",
       "      <th>tax</th>\n",
       "      <th>mpg</th>\n",
       "      <th>engineSize</th>\n",
       "      <th>transmission_Automatic</th>\n",
       "      <th>transmission_Manual</th>\n",
       "      <th>fuelType_Petrol</th>\n",
       "      <th>fuelType_Diesel</th>\n",
       "      <th>fuelType_Hybrid</th>\n",
       "      <th>fuelType_Electric</th>\n",
       "    </tr>\n",
       "  </thead>\n",
       "  <tbody>\n",
       "    <tr>\n",
       "      <th>0</th>\n",
       "      <td>0</td>\n",
       "      <td>2017</td>\n",
       "      <td>12000</td>\n",
       "      <td>15944</td>\n",
       "      <td>150</td>\n",
       "      <td>57.7</td>\n",
       "      <td>1.0</td>\n",
       "      <td>1</td>\n",
       "      <td>0</td>\n",
       "      <td>1</td>\n",
       "      <td>0</td>\n",
       "      <td>0</td>\n",
       "      <td>0</td>\n",
       "    </tr>\n",
       "    <tr>\n",
       "      <th>1</th>\n",
       "      <td>1</td>\n",
       "      <td>2018</td>\n",
       "      <td>14000</td>\n",
       "      <td>9083</td>\n",
       "      <td>150</td>\n",
       "      <td>57.7</td>\n",
       "      <td>1.0</td>\n",
       "      <td>0</td>\n",
       "      <td>1</td>\n",
       "      <td>1</td>\n",
       "      <td>0</td>\n",
       "      <td>0</td>\n",
       "      <td>0</td>\n",
       "    </tr>\n",
       "    <tr>\n",
       "      <th>2</th>\n",
       "      <td>1</td>\n",
       "      <td>2017</td>\n",
       "      <td>13000</td>\n",
       "      <td>12456</td>\n",
       "      <td>150</td>\n",
       "      <td>57.7</td>\n",
       "      <td>1.0</td>\n",
       "      <td>0</td>\n",
       "      <td>1</td>\n",
       "      <td>1</td>\n",
       "      <td>0</td>\n",
       "      <td>0</td>\n",
       "      <td>0</td>\n",
       "    </tr>\n",
       "    <tr>\n",
       "      <th>3</th>\n",
       "      <td>0</td>\n",
       "      <td>2019</td>\n",
       "      <td>17500</td>\n",
       "      <td>10460</td>\n",
       "      <td>145</td>\n",
       "      <td>40.3</td>\n",
       "      <td>1.5</td>\n",
       "      <td>0</td>\n",
       "      <td>1</td>\n",
       "      <td>1</td>\n",
       "      <td>0</td>\n",
       "      <td>0</td>\n",
       "      <td>0</td>\n",
       "    </tr>\n",
       "    <tr>\n",
       "      <th>4</th>\n",
       "      <td>0</td>\n",
       "      <td>2019</td>\n",
       "      <td>16500</td>\n",
       "      <td>1482</td>\n",
       "      <td>145</td>\n",
       "      <td>48.7</td>\n",
       "      <td>1.0</td>\n",
       "      <td>1</td>\n",
       "      <td>0</td>\n",
       "      <td>1</td>\n",
       "      <td>0</td>\n",
       "      <td>0</td>\n",
       "      <td>0</td>\n",
       "    </tr>\n",
       "    <tr>\n",
       "      <th>...</th>\n",
       "      <td>...</td>\n",
       "      <td>...</td>\n",
       "      <td>...</td>\n",
       "      <td>...</td>\n",
       "      <td>...</td>\n",
       "      <td>...</td>\n",
       "      <td>...</td>\n",
       "      <td>...</td>\n",
       "      <td>...</td>\n",
       "      <td>...</td>\n",
       "      <td>...</td>\n",
       "      <td>...</td>\n",
       "      <td>...</td>\n",
       "    </tr>\n",
       "    <tr>\n",
       "      <th>17960</th>\n",
       "      <td>0</td>\n",
       "      <td>2016</td>\n",
       "      <td>7999</td>\n",
       "      <td>31348</td>\n",
       "      <td>125</td>\n",
       "      <td>54.3</td>\n",
       "      <td>1.2</td>\n",
       "      <td>0</td>\n",
       "      <td>1</td>\n",
       "      <td>1</td>\n",
       "      <td>0</td>\n",
       "      <td>0</td>\n",
       "      <td>0</td>\n",
       "    </tr>\n",
       "    <tr>\n",
       "      <th>17961</th>\n",
       "      <td>10</td>\n",
       "      <td>2017</td>\n",
       "      <td>8999</td>\n",
       "      <td>16700</td>\n",
       "      <td>150</td>\n",
       "      <td>47.1</td>\n",
       "      <td>1.4</td>\n",
       "      <td>0</td>\n",
       "      <td>1</td>\n",
       "      <td>1</td>\n",
       "      <td>0</td>\n",
       "      <td>0</td>\n",
       "      <td>0</td>\n",
       "    </tr>\n",
       "    <tr>\n",
       "      <th>17962</th>\n",
       "      <td>10</td>\n",
       "      <td>2014</td>\n",
       "      <td>7499</td>\n",
       "      <td>40700</td>\n",
       "      <td>30</td>\n",
       "      <td>57.7</td>\n",
       "      <td>1.0</td>\n",
       "      <td>0</td>\n",
       "      <td>1</td>\n",
       "      <td>1</td>\n",
       "      <td>0</td>\n",
       "      <td>0</td>\n",
       "      <td>0</td>\n",
       "    </tr>\n",
       "    <tr>\n",
       "      <th>17963</th>\n",
       "      <td>1</td>\n",
       "      <td>2015</td>\n",
       "      <td>9999</td>\n",
       "      <td>7010</td>\n",
       "      <td>20</td>\n",
       "      <td>67.3</td>\n",
       "      <td>1.6</td>\n",
       "      <td>0</td>\n",
       "      <td>1</td>\n",
       "      <td>0</td>\n",
       "      <td>1</td>\n",
       "      <td>0</td>\n",
       "      <td>0</td>\n",
       "    </tr>\n",
       "    <tr>\n",
       "      <th>17964</th>\n",
       "      <td>14</td>\n",
       "      <td>2018</td>\n",
       "      <td>8299</td>\n",
       "      <td>5007</td>\n",
       "      <td>145</td>\n",
       "      <td>57.7</td>\n",
       "      <td>1.2</td>\n",
       "      <td>0</td>\n",
       "      <td>1</td>\n",
       "      <td>1</td>\n",
       "      <td>0</td>\n",
       "      <td>0</td>\n",
       "      <td>0</td>\n",
       "    </tr>\n",
       "  </tbody>\n",
       "</table>\n",
       "<p>17965 rows × 13 columns</p>\n",
       "</div>"
      ],
      "text/plain": [
       "       model  year  price  mileage  tax   mpg  engineSize  \\\n",
       "0          0  2017  12000    15944  150  57.7         1.0   \n",
       "1          1  2018  14000     9083  150  57.7         1.0   \n",
       "2          1  2017  13000    12456  150  57.7         1.0   \n",
       "3          0  2019  17500    10460  145  40.3         1.5   \n",
       "4          0  2019  16500     1482  145  48.7         1.0   \n",
       "...      ...   ...    ...      ...  ...   ...         ...   \n",
       "17960      0  2016   7999    31348  125  54.3         1.2   \n",
       "17961     10  2017   8999    16700  150  47.1         1.4   \n",
       "17962     10  2014   7499    40700   30  57.7         1.0   \n",
       "17963      1  2015   9999     7010   20  67.3         1.6   \n",
       "17964     14  2018   8299     5007  145  57.7         1.2   \n",
       "\n",
       "       transmission_Automatic  transmission_Manual  fuelType_Petrol  \\\n",
       "0                           1                    0                1   \n",
       "1                           0                    1                1   \n",
       "2                           0                    1                1   \n",
       "3                           0                    1                1   \n",
       "4                           1                    0                1   \n",
       "...                       ...                  ...              ...   \n",
       "17960                       0                    1                1   \n",
       "17961                       0                    1                1   \n",
       "17962                       0                    1                1   \n",
       "17963                       0                    1                0   \n",
       "17964                       0                    1                1   \n",
       "\n",
       "       fuelType_Diesel  fuelType_Hybrid  fuelType_Electric  \n",
       "0                    0                0                  0  \n",
       "1                    0                0                  0  \n",
       "2                    0                0                  0  \n",
       "3                    0                0                  0  \n",
       "4                    0                0                  0  \n",
       "...                ...              ...                ...  \n",
       "17960                0                0                  0  \n",
       "17961                0                0                  0  \n",
       "17962                0                0                  0  \n",
       "17963                1                0                  0  \n",
       "17964                0                0                  0  \n",
       "\n",
       "[17965 rows x 13 columns]"
      ]
     },
     "execution_count": 228,
     "metadata": {},
     "output_type": "execute_result"
    }
   ],
   "source": [
    "df_1"
   ]
  },
  {
   "cell_type": "code",
   "execution_count": 229,
   "id": "0c76c092",
   "metadata": {},
   "outputs": [],
   "source": [
    "X_train,X_test,y_train,y_test = train_test_split(df_1.drop('price',axis = 1),df_1['price'],test_size=0.2,random_state=1)"
   ]
  },
  {
   "cell_type": "code",
   "execution_count": 230,
   "id": "df3290c3",
   "metadata": {},
   "outputs": [
    {
     "data": {
      "text/html": [
       "<div>\n",
       "<style scoped>\n",
       "    .dataframe tbody tr th:only-of-type {\n",
       "        vertical-align: middle;\n",
       "    }\n",
       "\n",
       "    .dataframe tbody tr th {\n",
       "        vertical-align: top;\n",
       "    }\n",
       "\n",
       "    .dataframe thead th {\n",
       "        text-align: right;\n",
       "    }\n",
       "</style>\n",
       "<table border=\"1\" class=\"dataframe\">\n",
       "  <thead>\n",
       "    <tr style=\"text-align: right;\">\n",
       "      <th></th>\n",
       "      <th>model</th>\n",
       "      <th>year</th>\n",
       "      <th>mileage</th>\n",
       "      <th>tax</th>\n",
       "      <th>mpg</th>\n",
       "      <th>engineSize</th>\n",
       "      <th>transmission_Automatic</th>\n",
       "      <th>transmission_Manual</th>\n",
       "      <th>fuelType_Petrol</th>\n",
       "      <th>fuelType_Diesel</th>\n",
       "      <th>fuelType_Hybrid</th>\n",
       "      <th>fuelType_Electric</th>\n",
       "    </tr>\n",
       "  </thead>\n",
       "  <tbody>\n",
       "    <tr>\n",
       "      <th>8024</th>\n",
       "      <td>0</td>\n",
       "      <td>2018</td>\n",
       "      <td>20055</td>\n",
       "      <td>150</td>\n",
       "      <td>88.3</td>\n",
       "      <td>1.5</td>\n",
       "      <td>0</td>\n",
       "      <td>1</td>\n",
       "      <td>0</td>\n",
       "      <td>1</td>\n",
       "      <td>0</td>\n",
       "      <td>0</td>\n",
       "    </tr>\n",
       "    <tr>\n",
       "      <th>6519</th>\n",
       "      <td>6</td>\n",
       "      <td>2015</td>\n",
       "      <td>30100</td>\n",
       "      <td>145</td>\n",
       "      <td>48.7</td>\n",
       "      <td>1.5</td>\n",
       "      <td>0</td>\n",
       "      <td>1</td>\n",
       "      <td>1</td>\n",
       "      <td>0</td>\n",
       "      <td>0</td>\n",
       "      <td>0</td>\n",
       "    </tr>\n",
       "    <tr>\n",
       "      <th>14410</th>\n",
       "      <td>1</td>\n",
       "      <td>2019</td>\n",
       "      <td>1821</td>\n",
       "      <td>145</td>\n",
       "      <td>74.3</td>\n",
       "      <td>1.5</td>\n",
       "      <td>1</td>\n",
       "      <td>0</td>\n",
       "      <td>0</td>\n",
       "      <td>1</td>\n",
       "      <td>0</td>\n",
       "      <td>0</td>\n",
       "    </tr>\n",
       "    <tr>\n",
       "      <th>12290</th>\n",
       "      <td>1</td>\n",
       "      <td>2017</td>\n",
       "      <td>38729</td>\n",
       "      <td>125</td>\n",
       "      <td>51.4</td>\n",
       "      <td>1.0</td>\n",
       "      <td>0</td>\n",
       "      <td>0</td>\n",
       "      <td>1</td>\n",
       "      <td>0</td>\n",
       "      <td>0</td>\n",
       "      <td>0</td>\n",
       "    </tr>\n",
       "    <tr>\n",
       "      <th>2618</th>\n",
       "      <td>0</td>\n",
       "      <td>2013</td>\n",
       "      <td>15974</td>\n",
       "      <td>0</td>\n",
       "      <td>65.7</td>\n",
       "      <td>1.0</td>\n",
       "      <td>0</td>\n",
       "      <td>1</td>\n",
       "      <td>1</td>\n",
       "      <td>0</td>\n",
       "      <td>0</td>\n",
       "      <td>0</td>\n",
       "    </tr>\n",
       "  </tbody>\n",
       "</table>\n",
       "</div>"
      ],
      "text/plain": [
       "       model  year  mileage  tax   mpg  engineSize  transmission_Automatic  \\\n",
       "8024       0  2018    20055  150  88.3         1.5                       0   \n",
       "6519       6  2015    30100  145  48.7         1.5                       0   \n",
       "14410      1  2019     1821  145  74.3         1.5                       1   \n",
       "12290      1  2017    38729  125  51.4         1.0                       0   \n",
       "2618       0  2013    15974    0  65.7         1.0                       0   \n",
       "\n",
       "       transmission_Manual  fuelType_Petrol  fuelType_Diesel  fuelType_Hybrid  \\\n",
       "8024                     1                0                1                0   \n",
       "6519                     1                1                0                0   \n",
       "14410                    0                0                1                0   \n",
       "12290                    0                1                0                0   \n",
       "2618                     1                1                0                0   \n",
       "\n",
       "       fuelType_Electric  \n",
       "8024                   0  \n",
       "6519                   0  \n",
       "14410                  0  \n",
       "12290                  0  \n",
       "2618                   0  "
      ]
     },
     "execution_count": 230,
     "metadata": {},
     "output_type": "execute_result"
    }
   ],
   "source": [
    "X_train.head()"
   ]
  },
  {
   "cell_type": "code",
   "execution_count": 231,
   "id": "ff721da8",
   "metadata": {},
   "outputs": [
    {
     "data": {
      "text/html": [
       "<div>\n",
       "<style scoped>\n",
       "    .dataframe tbody tr th:only-of-type {\n",
       "        vertical-align: middle;\n",
       "    }\n",
       "\n",
       "    .dataframe tbody tr th {\n",
       "        vertical-align: top;\n",
       "    }\n",
       "\n",
       "    .dataframe thead th {\n",
       "        text-align: right;\n",
       "    }\n",
       "</style>\n",
       "<table border=\"1\" class=\"dataframe\">\n",
       "  <thead>\n",
       "    <tr style=\"text-align: right;\">\n",
       "      <th></th>\n",
       "      <th>model</th>\n",
       "      <th>year</th>\n",
       "      <th>mileage</th>\n",
       "      <th>tax</th>\n",
       "      <th>mpg</th>\n",
       "      <th>engineSize</th>\n",
       "      <th>transmission_Automatic</th>\n",
       "      <th>transmission_Manual</th>\n",
       "      <th>fuelType_Petrol</th>\n",
       "      <th>fuelType_Diesel</th>\n",
       "      <th>fuelType_Hybrid</th>\n",
       "      <th>fuelType_Electric</th>\n",
       "    </tr>\n",
       "  </thead>\n",
       "  <tbody>\n",
       "    <tr>\n",
       "      <th>3315</th>\n",
       "      <td>6</td>\n",
       "      <td>2017</td>\n",
       "      <td>58827</td>\n",
       "      <td>145</td>\n",
       "      <td>48.7</td>\n",
       "      <td>1.5</td>\n",
       "      <td>0</td>\n",
       "      <td>1</td>\n",
       "      <td>1</td>\n",
       "      <td>0</td>\n",
       "      <td>0</td>\n",
       "      <td>0</td>\n",
       "    </tr>\n",
       "    <tr>\n",
       "      <th>16429</th>\n",
       "      <td>6</td>\n",
       "      <td>2014</td>\n",
       "      <td>71869</td>\n",
       "      <td>30</td>\n",
       "      <td>61.4</td>\n",
       "      <td>2.0</td>\n",
       "      <td>0</td>\n",
       "      <td>1</td>\n",
       "      <td>0</td>\n",
       "      <td>1</td>\n",
       "      <td>0</td>\n",
       "      <td>0</td>\n",
       "    </tr>\n",
       "    <tr>\n",
       "      <th>13981</th>\n",
       "      <td>0</td>\n",
       "      <td>2010</td>\n",
       "      <td>91000</td>\n",
       "      <td>20</td>\n",
       "      <td>68.9</td>\n",
       "      <td>1.6</td>\n",
       "      <td>0</td>\n",
       "      <td>1</td>\n",
       "      <td>0</td>\n",
       "      <td>1</td>\n",
       "      <td>0</td>\n",
       "      <td>0</td>\n",
       "    </tr>\n",
       "    <tr>\n",
       "      <th>6059</th>\n",
       "      <td>0</td>\n",
       "      <td>2019</td>\n",
       "      <td>1307</td>\n",
       "      <td>145</td>\n",
       "      <td>48.7</td>\n",
       "      <td>1.0</td>\n",
       "      <td>0</td>\n",
       "      <td>0</td>\n",
       "      <td>1</td>\n",
       "      <td>0</td>\n",
       "      <td>0</td>\n",
       "      <td>0</td>\n",
       "    </tr>\n",
       "    <tr>\n",
       "      <th>12523</th>\n",
       "      <td>1</td>\n",
       "      <td>2019</td>\n",
       "      <td>2972</td>\n",
       "      <td>145</td>\n",
       "      <td>58.9</td>\n",
       "      <td>1.0</td>\n",
       "      <td>0</td>\n",
       "      <td>1</td>\n",
       "      <td>1</td>\n",
       "      <td>0</td>\n",
       "      <td>0</td>\n",
       "      <td>0</td>\n",
       "    </tr>\n",
       "  </tbody>\n",
       "</table>\n",
       "</div>"
      ],
      "text/plain": [
       "       model  year  mileage  tax   mpg  engineSize  transmission_Automatic  \\\n",
       "3315       6  2017    58827  145  48.7         1.5                       0   \n",
       "16429      6  2014    71869   30  61.4         2.0                       0   \n",
       "13981      0  2010    91000   20  68.9         1.6                       0   \n",
       "6059       0  2019     1307  145  48.7         1.0                       0   \n",
       "12523      1  2019     2972  145  58.9         1.0                       0   \n",
       "\n",
       "       transmission_Manual  fuelType_Petrol  fuelType_Diesel  fuelType_Hybrid  \\\n",
       "3315                     1                1                0                0   \n",
       "16429                    1                0                1                0   \n",
       "13981                    1                0                1                0   \n",
       "6059                     0                1                0                0   \n",
       "12523                    1                1                0                0   \n",
       "\n",
       "       fuelType_Electric  \n",
       "3315                   0  \n",
       "16429                  0  \n",
       "13981                  0  \n",
       "6059                   0  \n",
       "12523                  0  "
      ]
     },
     "execution_count": 231,
     "metadata": {},
     "output_type": "execute_result"
    }
   ],
   "source": [
    "X_test.head()"
   ]
  },
  {
   "cell_type": "code",
   "execution_count": 232,
   "id": "81645e9c",
   "metadata": {},
   "outputs": [
    {
     "data": {
      "text/plain": [
       "((14372, 12), (3593, 12))"
      ]
     },
     "execution_count": 232,
     "metadata": {},
     "output_type": "execute_result"
    }
   ],
   "source": [
    "X_train.shape,X_test.shape"
   ]
  },
  {
   "cell_type": "code",
   "execution_count": 233,
   "id": "9ba5a03f",
   "metadata": {},
   "outputs": [
    {
     "data": {
      "text/plain": [
       "[]"
      ]
     },
     "execution_count": 233,
     "metadata": {},
     "output_type": "execute_result"
    }
   ],
   "source": [
    "[i for i in X_train['model'].unique() if i not in X_test['model'].unique()]"
   ]
  },
  {
   "cell_type": "code",
   "execution_count": 234,
   "id": "274814eb",
   "metadata": {},
   "outputs": [
    {
     "data": {
      "text/plain": [
       "[]"
      ]
     },
     "execution_count": 234,
     "metadata": {},
     "output_type": "execute_result"
    }
   ],
   "source": [
    "[i for i in X_test['model'].unique() if i not in X_train['model'].unique()]"
   ]
  },
  {
   "cell_type": "code",
   "execution_count": 235,
   "id": "51eae947",
   "metadata": {},
   "outputs": [],
   "source": [
    "from sklearn.preprocessing import StandardScaler"
   ]
  },
  {
   "cell_type": "code",
   "execution_count": 236,
   "id": "8c5d8e65",
   "metadata": {},
   "outputs": [],
   "source": [
    "scale1 = StandardScaler().fit(X_train)"
   ]
  },
  {
   "cell_type": "code",
   "execution_count": 237,
   "id": "10365a16",
   "metadata": {},
   "outputs": [],
   "source": [
    "X_train = scale1.transform(X_train)\n",
    "X_test = scale1.transform(X_test)"
   ]
  },
  {
   "cell_type": "code",
   "execution_count": 238,
   "id": "0aba9cb9",
   "metadata": {},
   "outputs": [],
   "source": [
    "scale = StandardScaler().fit(np.array(y_train).reshape(-1,1))"
   ]
  },
  {
   "cell_type": "code",
   "execution_count": 239,
   "id": "e9a76fcb",
   "metadata": {},
   "outputs": [],
   "source": [
    "ytrain = scale.transform(np.array(y_train).reshape(-1,1))"
   ]
  },
  {
   "cell_type": "code",
   "execution_count": 240,
   "id": "2393a931",
   "metadata": {},
   "outputs": [],
   "source": [
    "from sklearn.ensemble import GradientBoostingRegressor\n",
    "model = GradientBoostingRegressor().fit(X_train,ytrain.reshape(-1,))"
   ]
  },
  {
   "cell_type": "code",
   "execution_count": 257,
   "id": "69360d5d",
   "metadata": {},
   "outputs": [],
   "source": [
    "y = model.predict((X_train))"
   ]
  },
  {
   "cell_type": "code",
   "execution_count": 255,
   "id": "13ffe2e7",
   "metadata": {},
   "outputs": [
    {
     "data": {
      "text/plain": [
       "[array([10995.]),\n",
       " array([12950.]),\n",
       " array([17699.]),\n",
       " array([10000.]),\n",
       " array([6800.]),\n",
       " array([12000.]),\n",
       " array([21200.]),\n",
       " array([8498.]),\n",
       " array([9760.]),\n",
       " array([16000.]),\n",
       " array([20499.]),\n",
       " array([17000.]),\n",
       " array([10600.]),\n",
       " array([9600.]),\n",
       " array([8250.]),\n",
       " array([8750.]),\n",
       " array([9814.]),\n",
       " array([10800.]),\n",
       " array([14698.]),\n",
       " array([8999.]),\n",
       " array([14499.]),\n",
       " array([10800.]),\n",
       " array([22000.]),\n",
       " array([10468.]),\n",
       " array([11290.]),\n",
       " array([9490.]),\n",
       " array([12995.]),\n",
       " array([9950.]),\n",
       " array([10500.]),\n",
       " array([8498.]),\n",
       " array([15000.]),\n",
       " array([13140.]),\n",
       " array([16995.]),\n",
       " array([19000.]),\n",
       " array([12271.]),\n",
       " array([10095.]),\n",
       " array([13000.]),\n",
       " array([13195.]),\n",
       " array([17000.]),\n",
       " array([8700.]),\n",
       " array([19500.]),\n",
       " array([7295.]),\n",
       " array([13489.]),\n",
       " array([7695.]),\n",
       " array([14698.]),\n",
       " array([2699.]),\n",
       " array([15498.]),\n",
       " array([16300.]),\n",
       " array([8990.]),\n",
       " array([14500.]),\n",
       " array([15999.]),\n",
       " array([9200.]),\n",
       " array([16407.]),\n",
       " array([12000.]),\n",
       " array([9980.]),\n",
       " array([12980.]),\n",
       " array([20999.]),\n",
       " array([35989.]),\n",
       " array([21498.]),\n",
       " array([14500.]),\n",
       " array([9660.]),\n",
       " array([12000.]),\n",
       " array([10600.]),\n",
       " array([2995.]),\n",
       " array([13100.]),\n",
       " array([5245.]),\n",
       " array([23000.]),\n",
       " array([7499.]),\n",
       " array([11599.]),\n",
       " array([6995.]),\n",
       " array([14888.]),\n",
       " array([9490.]),\n",
       " array([16799.]),\n",
       " array([9499.]),\n",
       " array([9500.]),\n",
       " array([11750.]),\n",
       " array([18000.]),\n",
       " array([16298.]),\n",
       " array([11299.]),\n",
       " array([8124.]),\n",
       " array([7495.]),\n",
       " array([15199.]),\n",
       " array([12000.]),\n",
       " array([13099.]),\n",
       " array([13280.]),\n",
       " array([6580.]),\n",
       " array([18299.]),\n",
       " array([9850.]),\n",
       " array([11298.]),\n",
       " array([21499.]),\n",
       " array([9997.]),\n",
       " array([9250.]),\n",
       " array([17890.]),\n",
       " array([11000.]),\n",
       " array([9499.]),\n",
       " array([17500.]),\n",
       " array([7800.]),\n",
       " array([16798.]),\n",
       " array([13998.]),\n",
       " array([10699.]),\n",
       " array([9200.]),\n",
       " array([8000.]),\n",
       " array([8995.]),\n",
       " array([8800.]),\n",
       " array([14800.]),\n",
       " array([14790.]),\n",
       " array([8498.]),\n",
       " array([16495.]),\n",
       " array([11500.]),\n",
       " array([9179.]),\n",
       " array([10998.]),\n",
       " array([19979.]),\n",
       " array([6999.]),\n",
       " array([17995.]),\n",
       " array([9690.]),\n",
       " array([13900.]),\n",
       " array([6250.]),\n",
       " array([2495.]),\n",
       " array([13250.]),\n",
       " array([10999.]),\n",
       " array([9877.]),\n",
       " array([8498.]),\n",
       " array([11995.]),\n",
       " array([13190.]),\n",
       " array([8699.]),\n",
       " array([18495.]),\n",
       " array([10298.]),\n",
       " array([15785.]),\n",
       " array([16890.]),\n",
       " array([11750.]),\n",
       " array([7330.]),\n",
       " array([8977.]),\n",
       " array([22500.]),\n",
       " array([11000.]),\n",
       " array([15160.]),\n",
       " array([13598.]),\n",
       " array([10077.]),\n",
       " array([18200.]),\n",
       " array([26499.]),\n",
       " array([6995.]),\n",
       " array([9699.]),\n",
       " array([7498.]),\n",
       " array([9998.]),\n",
       " array([18600.]),\n",
       " array([9600.]),\n",
       " array([10600.]),\n",
       " array([5550.]),\n",
       " array([12200.]),\n",
       " array([9989.]),\n",
       " array([10298.]),\n",
       " array([11200.]),\n",
       " array([16498.]),\n",
       " array([10990.]),\n",
       " array([11689.]),\n",
       " array([14495.]),\n",
       " array([9980.]),\n",
       " array([9397.]),\n",
       " array([10499.]),\n",
       " array([18999.]),\n",
       " array([8700.]),\n",
       " array([4490.]),\n",
       " array([13000.]),\n",
       " array([22991.]),\n",
       " array([8500.]),\n",
       " array([17500.]),\n",
       " array([7989.]),\n",
       " array([12380.]),\n",
       " array([3895.]),\n",
       " array([17500.]),\n",
       " array([8900.]),\n",
       " array([6999.]),\n",
       " array([6290.]),\n",
       " array([15500.]),\n",
       " array([5379.]),\n",
       " array([15899.]),\n",
       " array([19090.]),\n",
       " array([9990.]),\n",
       " array([6991.]),\n",
       " array([7997.]),\n",
       " array([7699.]),\n",
       " array([8397.]),\n",
       " array([12000.]),\n",
       " array([10499.]),\n",
       " array([19000.]),\n",
       " array([9022.]),\n",
       " array([11250.]),\n",
       " array([31000.]),\n",
       " array([7995.]),\n",
       " array([11199.]),\n",
       " array([7561.]),\n",
       " array([23880.]),\n",
       " array([8000.]),\n",
       " array([12700.]),\n",
       " array([7995.]),\n",
       " array([13499.]),\n",
       " array([21000.]),\n",
       " array([7495.]),\n",
       " array([8500.]),\n",
       " array([11190.]),\n",
       " array([12530.]),\n",
       " array([15890.]),\n",
       " array([7698.]),\n",
       " array([7298.]),\n",
       " array([15890.]),\n",
       " array([10495.]),\n",
       " array([16498.]),\n",
       " array([13991.]),\n",
       " array([13000.]),\n",
       " array([14399.]),\n",
       " array([17500.]),\n",
       " array([11000.]),\n",
       " array([15775.]),\n",
       " array([7999.]),\n",
       " array([12298.]),\n",
       " array([19290.]),\n",
       " array([18990.]),\n",
       " array([11998.]),\n",
       " array([7300.]),\n",
       " array([14900.]),\n",
       " array([5500.]),\n",
       " array([18995.]),\n",
       " array([13440.]),\n",
       " array([17690.]),\n",
       " array([16999.]),\n",
       " array([13499.]),\n",
       " array([12999.]),\n",
       " array([16495.]),\n",
       " array([5850.]),\n",
       " array([8000.]),\n",
       " array([10200.]),\n",
       " array([10100.]),\n",
       " array([9495.]),\n",
       " array([16499.]),\n",
       " array([20995.]),\n",
       " array([13999.]),\n",
       " array([11500.]),\n",
       " array([8400.]),\n",
       " array([9186.]),\n",
       " array([17350.]),\n",
       " array([13599.]),\n",
       " array([13800.]),\n",
       " array([15995.]),\n",
       " array([17500.]),\n",
       " array([5465.]),\n",
       " array([16750.]),\n",
       " array([9000.]),\n",
       " array([15999.]),\n",
       " array([16000.]),\n",
       " array([18995.]),\n",
       " array([11000.]),\n",
       " array([8500.]),\n",
       " array([8498.]),\n",
       " array([11169.]),\n",
       " array([15500.]),\n",
       " array([14998.]),\n",
       " array([20991.]),\n",
       " array([11599.]),\n",
       " array([18500.]),\n",
       " array([21060.]),\n",
       " array([15700.]),\n",
       " array([10498.]),\n",
       " array([23000.]),\n",
       " array([5995.]),\n",
       " array([10950.]),\n",
       " array([10689.]),\n",
       " array([6991.]),\n",
       " array([12691.]),\n",
       " array([8211.]),\n",
       " array([7147.]),\n",
       " array([15670.]),\n",
       " array([10990.]),\n",
       " array([6299.]),\n",
       " array([8950.]),\n",
       " array([12399.]),\n",
       " array([15995.]),\n",
       " array([3691.]),\n",
       " array([17500.]),\n",
       " array([16795.]),\n",
       " array([16995.]),\n",
       " array([11900.]),\n",
       " array([6600.]),\n",
       " array([17995.]),\n",
       " array([3795.]),\n",
       " array([6597.]),\n",
       " array([11250.]),\n",
       " array([17999.]),\n",
       " array([10480.]),\n",
       " array([8880.]),\n",
       " array([14642.]),\n",
       " array([12620.]),\n",
       " array([10000.]),\n",
       " array([23570.]),\n",
       " array([29499.]),\n",
       " array([3989.]),\n",
       " array([8495.]),\n",
       " array([8990.]),\n",
       " array([5791.]),\n",
       " array([7200.]),\n",
       " array([8710.]),\n",
       " array([8995.]),\n",
       " array([10020.]),\n",
       " array([11495.]),\n",
       " array([10980.]),\n",
       " array([8000.]),\n",
       " array([5750.]),\n",
       " array([12650.]),\n",
       " array([7900.]),\n",
       " array([11998.]),\n",
       " array([11999.]),\n",
       " array([7695.]),\n",
       " array([11000.]),\n",
       " array([14350.]),\n",
       " array([10000.]),\n",
       " array([15791.]),\n",
       " array([8330.]),\n",
       " array([12139.]),\n",
       " array([9537.]),\n",
       " array([16200.]),\n",
       " array([23850.]),\n",
       " array([6959.]),\n",
       " array([10000.]),\n",
       " array([18800.]),\n",
       " array([7900.]),\n",
       " array([8690.]),\n",
       " array([10995.]),\n",
       " array([11498.]),\n",
       " array([11000.]),\n",
       " array([17500.]),\n",
       " array([10799.]),\n",
       " array([31991.]),\n",
       " array([9301.]),\n",
       " array([10495.]),\n",
       " array([17499.]),\n",
       " array([8795.]),\n",
       " array([20500.]),\n",
       " array([11300.]),\n",
       " array([17990.]),\n",
       " array([9290.]),\n",
       " array([18291.]),\n",
       " array([16990.]),\n",
       " array([14000.]),\n",
       " array([11650.]),\n",
       " array([10795.]),\n",
       " array([8799.]),\n",
       " array([9899.]),\n",
       " array([10499.]),\n",
       " array([7850.]),\n",
       " array([9950.]),\n",
       " array([6860.]),\n",
       " array([6995.]),\n",
       " array([5495.]),\n",
       " array([11998.]),\n",
       " array([9985.]),\n",
       " array([6798.]),\n",
       " array([8800.]),\n",
       " array([7759.]),\n",
       " array([21995.]),\n",
       " array([10500.]),\n",
       " array([6270.]),\n",
       " array([7950.]),\n",
       " array([11895.]),\n",
       " array([8591.]),\n",
       " array([5994.]),\n",
       " array([11000.]),\n",
       " array([19270.]),\n",
       " array([9991.]),\n",
       " array([10691.]),\n",
       " array([14500.]),\n",
       " array([21999.]),\n",
       " array([7750.]),\n",
       " array([11499.]),\n",
       " array([10495.]),\n",
       " array([8499.]),\n",
       " array([16998.]),\n",
       " array([9995.]),\n",
       " array([8600.]),\n",
       " array([17999.]),\n",
       " array([20590.]),\n",
       " array([8311.]),\n",
       " array([8900.]),\n",
       " array([14000.]),\n",
       " array([5988.]),\n",
       " array([5981.]),\n",
       " array([6790.]),\n",
       " array([7490.]),\n",
       " array([9420.]),\n",
       " array([11000.]),\n",
       " array([25399.]),\n",
       " array([8530.]),\n",
       " array([19795.]),\n",
       " array([8450.]),\n",
       " array([17999.]),\n",
       " array([16000.]),\n",
       " array([9998.]),\n",
       " array([6000.]),\n",
       " array([8300.]),\n",
       " array([12977.]),\n",
       " array([10995.]),\n",
       " array([17998.]),\n",
       " array([13799.]),\n",
       " array([33000.]),\n",
       " array([7550.]),\n",
       " array([8940.]),\n",
       " array([19995.]),\n",
       " array([7256.]),\n",
       " array([9300.]),\n",
       " array([18990.]),\n",
       " array([21000.]),\n",
       " array([9290.]),\n",
       " array([13999.]),\n",
       " array([10999.]),\n",
       " array([12700.]),\n",
       " array([12500.]),\n",
       " array([19250.]),\n",
       " array([17390.]),\n",
       " array([11800.]),\n",
       " array([10498.]),\n",
       " array([11800.]),\n",
       " array([8750.]),\n",
       " array([7792.]),\n",
       " array([10150.]),\n",
       " array([6950.]),\n",
       " array([6498.]),\n",
       " array([13000.]),\n",
       " array([18000.]),\n",
       " array([17131.]),\n",
       " array([12000.]),\n",
       " array([4795.]),\n",
       " array([8614.]),\n",
       " array([16000.]),\n",
       " array([6495.]),\n",
       " array([11950.]),\n",
       " array([14000.]),\n",
       " array([10679.]),\n",
       " array([9900.]),\n",
       " array([8500.]),\n",
       " array([9999.]),\n",
       " array([17590.]),\n",
       " array([9791.]),\n",
       " array([10000.]),\n",
       " array([9291.]),\n",
       " array([8700.]),\n",
       " array([13298.]),\n",
       " array([7570.]),\n",
       " array([6990.]),\n",
       " array([20000.]),\n",
       " array([17495.]),\n",
       " array([9980.]),\n",
       " array([10500.]),\n",
       " array([14970.]),\n",
       " array([7995.]),\n",
       " array([7798.]),\n",
       " array([8599.]),\n",
       " array([9270.]),\n",
       " array([11999.]),\n",
       " array([5990.]),\n",
       " array([11497.]),\n",
       " array([12000.]),\n",
       " array([16295.]),\n",
       " array([14495.]),\n",
       " array([16498.]),\n",
       " array([10495.]),\n",
       " array([8791.]),\n",
       " array([10490.]),\n",
       " array([6330.]),\n",
       " array([6698.]),\n",
       " array([10770.]),\n",
       " array([12289.]),\n",
       " array([9795.]),\n",
       " array([11499.]),\n",
       " array([14600.]),\n",
       " array([15370.]),\n",
       " array([12000.]),\n",
       " array([16499.]),\n",
       " array([23995.]),\n",
       " array([19995.]),\n",
       " array([8490.]),\n",
       " array([9299.]),\n",
       " array([9295.]),\n",
       " array([9990.]),\n",
       " array([10700.]),\n",
       " array([13000.]),\n",
       " array([9997.]),\n",
       " array([8870.]),\n",
       " array([13338.]),\n",
       " array([18999.]),\n",
       " array([9370.]),\n",
       " array([9495.]),\n",
       " array([8240.]),\n",
       " array([7842.]),\n",
       " array([10638.]),\n",
       " array([9998.]),\n",
       " array([13990.]),\n",
       " array([12698.]),\n",
       " array([17000.]),\n",
       " array([14199.]),\n",
       " array([10899.]),\n",
       " array([19595.]),\n",
       " array([22000.]),\n",
       " array([11000.]),\n",
       " array([1795.]),\n",
       " array([16479.]),\n",
       " array([7489.]),\n",
       " array([14250.]),\n",
       " array([8750.]),\n",
       " array([10498.]),\n",
       " array([10491.]),\n",
       " array([7990.]),\n",
       " array([14620.]),\n",
       " array([17491.]),\n",
       " array([8999.]),\n",
       " array([15984.]),\n",
       " array([4450.]),\n",
       " array([14310.]),\n",
       " array([18995.]),\n",
       " array([10000.]),\n",
       " array([11997.]),\n",
       " array([5999.]),\n",
       " array([7211.]),\n",
       " array([6999.]),\n",
       " array([9126.]),\n",
       " array([8900.]),\n",
       " array([13775.]),\n",
       " array([10750.]),\n",
       " array([11930.]),\n",
       " array([19000.]),\n",
       " array([7400.]),\n",
       " array([6800.]),\n",
       " array([9694.]),\n",
       " array([20800.]),\n",
       " array([8291.]),\n",
       " array([18900.]),\n",
       " array([12800.]),\n",
       " array([8524.]),\n",
       " array([12151.]),\n",
       " array([9798.]),\n",
       " array([17995.]),\n",
       " array([9040.]),\n",
       " array([15899.]),\n",
       " array([17940.]),\n",
       " array([13000.]),\n",
       " array([17900.]),\n",
       " array([7506.]),\n",
       " array([8999.]),\n",
       " array([12295.]),\n",
       " array([9790.]),\n",
       " array([21995.]),\n",
       " array([17980.]),\n",
       " array([7990.]),\n",
       " array([11500.]),\n",
       " array([9000.]),\n",
       " array([4942.]),\n",
       " array([9799.]),\n",
       " array([9560.]),\n",
       " array([15295.]),\n",
       " array([10999.]),\n",
       " array([11980.]),\n",
       " array([11295.]),\n",
       " array([7760.]),\n",
       " array([12495.]),\n",
       " array([9900.]),\n",
       " array([15400.]),\n",
       " array([15999.]),\n",
       " array([19970.]),\n",
       " array([18999.]),\n",
       " array([11498.]),\n",
       " array([6490.]),\n",
       " array([18999.]),\n",
       " array([11491.]),\n",
       " array([7830.]),\n",
       " array([13140.]),\n",
       " array([11995.]),\n",
       " array([10195.]),\n",
       " array([6495.]),\n",
       " array([11300.]),\n",
       " array([12500.]),\n",
       " array([16990.]),\n",
       " array([15999.]),\n",
       " array([4990.]),\n",
       " array([7998.]),\n",
       " array([10491.]),\n",
       " array([12499.]),\n",
       " array([12000.]),\n",
       " array([15580.]),\n",
       " array([20980.]),\n",
       " array([16495.]),\n",
       " array([8798.]),\n",
       " array([19500.]),\n",
       " array([7490.]),\n",
       " array([10993.]),\n",
       " array([11740.]),\n",
       " array([13290.]),\n",
       " array([10979.]),\n",
       " array([13140.]),\n",
       " array([10500.]),\n",
       " array([8800.]),\n",
       " array([18498.]),\n",
       " array([13999.]),\n",
       " array([5995.]),\n",
       " array([6990.]),\n",
       " array([7495.]),\n",
       " array([13490.]),\n",
       " array([17999.]),\n",
       " array([15990.]),\n",
       " array([9999.]),\n",
       " array([13300.]),\n",
       " array([21000.]),\n",
       " array([17500.]),\n",
       " array([17190.]),\n",
       " array([7998.]),\n",
       " array([22489.]),\n",
       " array([16975.]),\n",
       " array([1595.]),\n",
       " array([7995.]),\n",
       " array([2750.]),\n",
       " array([16498.]),\n",
       " array([14298.]),\n",
       " array([20998.]),\n",
       " array([10491.]),\n",
       " array([9700.]),\n",
       " array([10280.]),\n",
       " array([11000.]),\n",
       " array([17397.]),\n",
       " array([9990.]),\n",
       " array([8450.]),\n",
       " array([12395.]),\n",
       " array([7498.]),\n",
       " array([11795.]),\n",
       " array([17900.]),\n",
       " array([10500.]),\n",
       " array([16998.]),\n",
       " array([17999.]),\n",
       " array([9995.]),\n",
       " array([8550.]),\n",
       " array([11000.]),\n",
       " array([18599.]),\n",
       " array([10998.]),\n",
       " array([12000.]),\n",
       " array([14899.]),\n",
       " array([9691.]),\n",
       " array([15000.]),\n",
       " array([19795.]),\n",
       " array([9598.]),\n",
       " array([15895.]),\n",
       " array([17490.]),\n",
       " array([6992.]),\n",
       " array([15299.]),\n",
       " array([9999.]),\n",
       " array([11498.]),\n",
       " array([8195.]),\n",
       " array([9625.]),\n",
       " array([7099.]),\n",
       " array([10500.]),\n",
       " array([15490.]),\n",
       " array([10997.]),\n",
       " array([17520.]),\n",
       " array([6998.]),\n",
       " array([11495.]),\n",
       " array([11498.]),\n",
       " array([14000.]),\n",
       " array([2495.]),\n",
       " array([7520.]),\n",
       " array([9989.]),\n",
       " array([4999.]),\n",
       " array([15000.]),\n",
       " array([24680.]),\n",
       " array([6820.]),\n",
       " array([9998.]),\n",
       " array([15333.]),\n",
       " array([7695.]),\n",
       " array([9400.]),\n",
       " array([6700.]),\n",
       " array([6893.]),\n",
       " array([12999.]),\n",
       " array([13600.]),\n",
       " array([12795.]),\n",
       " array([10399.]),\n",
       " array([9998.]),\n",
       " array([8795.]),\n",
       " array([15800.]),\n",
       " array([14499.]),\n",
       " array([11110.]),\n",
       " array([8000.]),\n",
       " array([4698.]),\n",
       " array([6977.]),\n",
       " array([16920.]),\n",
       " array([10975.]),\n",
       " array([12498.]),\n",
       " array([13998.]),\n",
       " array([7000.]),\n",
       " array([6950.]),\n",
       " array([1950.]),\n",
       " array([10000.]),\n",
       " array([7491.]),\n",
       " array([7490.]),\n",
       " array([10998.]),\n",
       " array([9200.]),\n",
       " array([13500.]),\n",
       " array([10497.]),\n",
       " array([4998.]),\n",
       " array([15495.]),\n",
       " array([11999.]),\n",
       " array([10399.]),\n",
       " array([35488.]),\n",
       " array([8200.]),\n",
       " array([7499.]),\n",
       " array([10800.]),\n",
       " array([10995.]),\n",
       " array([7895.]),\n",
       " array([19420.]),\n",
       " array([6380.]),\n",
       " array([9679.]),\n",
       " array([8300.]),\n",
       " array([9500.]),\n",
       " array([10999.]),\n",
       " array([13999.]),\n",
       " array([15499.]),\n",
       " array([10500.]),\n",
       " array([28495.]),\n",
       " array([6570.]),\n",
       " array([13000.]),\n",
       " array([8350.]),\n",
       " array([11300.]),\n",
       " array([9546.]),\n",
       " array([8895.]),\n",
       " array([17470.]),\n",
       " array([15995.]),\n",
       " array([6592.]),\n",
       " array([9800.]),\n",
       " array([10491.]),\n",
       " array([7960.]),\n",
       " array([8980.]),\n",
       " array([20000.]),\n",
       " array([15999.]),\n",
       " array([10898.]),\n",
       " array([17387.]),\n",
       " array([7499.]),\n",
       " array([18991.]),\n",
       " array([21570.]),\n",
       " array([16500.]),\n",
       " array([13790.]),\n",
       " array([9791.]),\n",
       " array([15500.]),\n",
       " array([18399.]),\n",
       " array([16990.]),\n",
       " array([8250.]),\n",
       " array([11390.]),\n",
       " array([13999.]),\n",
       " array([17495.]),\n",
       " array([9907.]),\n",
       " array([11695.]),\n",
       " array([6100.]),\n",
       " array([7060.]),\n",
       " array([17325.]),\n",
       " array([13895.]),\n",
       " array([17000.]),\n",
       " array([9627.]),\n",
       " array([8491.]),\n",
       " array([8760.]),\n",
       " array([15495.]),\n",
       " array([14232.]),\n",
       " array([9995.]),\n",
       " array([15489.]),\n",
       " array([18990.]),\n",
       " array([19498.]),\n",
       " array([8675.]),\n",
       " array([15199.]),\n",
       " array([25990.]),\n",
       " array([8591.]),\n",
       " array([8400.]),\n",
       " array([7058.]),\n",
       " array([5000.]),\n",
       " array([10150.]),\n",
       " array([9495.]),\n",
       " array([19150.]),\n",
       " array([5299.]),\n",
       " array([10698.]),\n",
       " array([14995.]),\n",
       " array([9400.]),\n",
       " array([8000.]),\n",
       " array([17495.]),\n",
       " array([10475.]),\n",
       " array([10600.]),\n",
       " array([12700.]),\n",
       " array([22450.]),\n",
       " array([13760.]),\n",
       " array([11999.]),\n",
       " array([11000.]),\n",
       " array([7995.]),\n",
       " array([10490.]),\n",
       " array([5270.]),\n",
       " array([11500.]),\n",
       " array([7999.]),\n",
       " array([6717.]),\n",
       " array([15700.]),\n",
       " array([11600.]),\n",
       " array([6990.]),\n",
       " array([13995.]),\n",
       " array([16298.]),\n",
       " array([15151.]),\n",
       " array([21250.]),\n",
       " array([14450.]),\n",
       " array([8795.]),\n",
       " array([15000.]),\n",
       " array([16000.]),\n",
       " array([7568.]),\n",
       " array([16000.]),\n",
       " array([26030.]),\n",
       " array([6490.]),\n",
       " array([8180.]),\n",
       " array([18990.]),\n",
       " array([8000.]),\n",
       " array([7998.]),\n",
       " array([9790.]),\n",
       " array([15998.]),\n",
       " array([10400.]),\n",
       " array([33000.]),\n",
       " array([10200.]),\n",
       " array([16975.]),\n",
       " array([14390.]),\n",
       " array([8973.]),\n",
       " array([7440.]),\n",
       " array([9500.]),\n",
       " array([11000.]),\n",
       " array([15489.]),\n",
       " array([10450.]),\n",
       " array([11750.]),\n",
       " array([6995.]),\n",
       " array([15399.]),\n",
       " array([13740.]),\n",
       " array([9780.]),\n",
       " array([12990.]),\n",
       " array([6120.]),\n",
       " array([5200.]),\n",
       " array([15210.]),\n",
       " array([10999.]),\n",
       " array([12250.]),\n",
       " array([12291.]),\n",
       " array([19337.]),\n",
       " array([9750.]),\n",
       " array([12500.]),\n",
       " array([18640.]),\n",
       " array([5999.]),\n",
       " array([13000.]),\n",
       " array([12942.]),\n",
       " array([11500.]),\n",
       " array([16390.]),\n",
       " array([5790.]),\n",
       " array([7991.]),\n",
       " array([9998.]),\n",
       " array([7875.]),\n",
       " array([20490.]),\n",
       " array([9031.]),\n",
       " array([8495.]),\n",
       " array([13950.]),\n",
       " array([7552.]),\n",
       " array([8899.]),\n",
       " array([9630.]),\n",
       " array([15950.]),\n",
       " array([18195.]),\n",
       " array([10495.]),\n",
       " array([14581.]),\n",
       " array([14620.]),\n",
       " array([20000.]),\n",
       " array([9800.]),\n",
       " array([19240.]),\n",
       " array([5250.]),\n",
       " array([4045.]),\n",
       " array([16300.]),\n",
       " array([6998.]),\n",
       " array([8950.]),\n",
       " array([4699.]),\n",
       " array([17030.]),\n",
       " array([6250.]),\n",
       " array([3499.]),\n",
       " array([10300.]),\n",
       " array([14999.]),\n",
       " array([5960.]),\n",
       " array([28000.]),\n",
       " array([3999.]),\n",
       " array([7450.]),\n",
       " array([6500.]),\n",
       " array([18500.]),\n",
       " array([9837.]),\n",
       " array([9700.]),\n",
       " array([16998.]),\n",
       " array([27853.]),\n",
       " array([7420.]),\n",
       " array([18999.]),\n",
       " array([7500.]),\n",
       " array([16500.]),\n",
       " array([10700.]),\n",
       " array([14890.]),\n",
       " array([15595.]),\n",
       " array([10800.]),\n",
       " array([5795.]),\n",
       " array([17945.]),\n",
       " array([17950.]),\n",
       " array([6995.]),\n",
       " array([19498.]),\n",
       " array([20500.]),\n",
       " array([8999.]),\n",
       " array([10998.]),\n",
       " array([16298.]),\n",
       " array([15990.]),\n",
       " array([8095.]),\n",
       " array([8295.]),\n",
       " array([8071.]),\n",
       " array([34000.]),\n",
       " array([17000.]),\n",
       " array([9990.]),\n",
       " array([6729.]),\n",
       " array([9230.]),\n",
       " array([14000.]),\n",
       " array([10300.]),\n",
       " array([18000.]),\n",
       " array([5999.]),\n",
       " array([7370.]),\n",
       " array([9880.]),\n",
       " array([23999.]),\n",
       " array([15340.]),\n",
       " array([14498.]),\n",
       " array([9997.]),\n",
       " array([7790.]),\n",
       " array([11599.]),\n",
       " array([11500.]),\n",
       " array([9991.]),\n",
       " array([10500.]),\n",
       " array([17520.]),\n",
       " array([13900.]),\n",
       " array([12780.]),\n",
       " array([18500.]),\n",
       " array([17498.]),\n",
       " array([15699.]),\n",
       " array([26475.]),\n",
       " array([8000.]),\n",
       " array([10900.]),\n",
       " array([17300.]),\n",
       " array([9750.]),\n",
       " array([9356.]),\n",
       " array([11999.]),\n",
       " array([10451.]),\n",
       " array([16000.]),\n",
       " array([17520.]),\n",
       " array([12680.]),\n",
       " array([8990.]),\n",
       " array([12000.]),\n",
       " array([14900.]),\n",
       " array([10000.]),\n",
       " array([10540.]),\n",
       " array([7698.]),\n",
       " array([9750.]),\n",
       " array([6797.]),\n",
       " array([14000.]),\n",
       " array([7500.]),\n",
       " array([10998.]),\n",
       " array([12490.]),\n",
       " array([11591.]),\n",
       " array([9680.]),\n",
       " array([7200.]),\n",
       " array([10990.]),\n",
       " array([10500.]),\n",
       " array([9650.]),\n",
       " array([14698.]),\n",
       " array([9498.]),\n",
       " array([10719.]),\n",
       " array([9880.]),\n",
       " array([17900.]),\n",
       " array([16442.]),\n",
       " array([15799.]),\n",
       " array([9940.]),\n",
       " array([12995.]),\n",
       " array([17000.]),\n",
       " array([5999.]),\n",
       " array([14499.]),\n",
       " array([10000.]),\n",
       " array([16383.]),\n",
       " array([11395.]),\n",
       " array([10540.]),\n",
       " array([12500.]),\n",
       " array([12495.]),\n",
       " array([16899.]),\n",
       " array([16498.]),\n",
       " array([13998.]),\n",
       " array([12900.]),\n",
       " array([12890.]),\n",
       " array([13995.]),\n",
       " array([10995.]),\n",
       " array([11599.]),\n",
       " array([11000.]),\n",
       " array([16199.]),\n",
       " array([10000.]),\n",
       " array([5600.]),\n",
       " array([9840.]),\n",
       " array([11970.]),\n",
       " array([7426.]),\n",
       " array([9400.]),\n",
       " array([2895.]),\n",
       " array([7490.]),\n",
       " array([9691.]),\n",
       " ...]"
      ]
     },
     "execution_count": 255,
     "metadata": {},
     "output_type": "execute_result"
    }
   ],
   "source": [
    "list(scale.inverse_transform(ytrain))"
   ]
  },
  {
   "cell_type": "code",
   "execution_count": 258,
   "id": "15cfae49",
   "metadata": {},
   "outputs": [
    {
     "data": {
      "text/plain": [
       "array([[11938.63809598],\n",
       "       [ 9194.85851672],\n",
       "       [18528.20457439],\n",
       "       ...,\n",
       "       [13662.46838345],\n",
       "       [15809.06370238],\n",
       "       [10720.17579697]])"
      ]
     },
     "execution_count": 258,
     "metadata": {},
     "output_type": "execute_result"
    }
   ],
   "source": [
    "scale.inverse_transform(y.reshape(-1,1))"
   ]
  },
  {
   "cell_type": "code",
   "execution_count": 259,
   "id": "59139ef9",
   "metadata": {},
   "outputs": [
    {
     "data": {
      "text/plain": [
       "1767523.71747618"
      ]
     },
     "execution_count": 259,
     "metadata": {},
     "output_type": "execute_result"
    }
   ],
   "source": [
    "mean_squared_error(scale.inverse_transform(ytrain),scale.inverse_transform(y.reshape(-1,1)))"
   ]
  },
  {
   "cell_type": "code",
   "execution_count": 260,
   "id": "41820e94",
   "metadata": {},
   "outputs": [
    {
     "data": {
      "text/plain": [
       "0.9218061300198859"
      ]
     },
     "execution_count": 260,
     "metadata": {},
     "output_type": "execute_result"
    }
   ],
   "source": [
    "r2_score(scale.inverse_transform(ytrain),scale.inverse_transform(y.reshape(-1,1)))"
   ]
  },
  {
   "cell_type": "code",
   "execution_count": null,
   "id": "81fb97cd",
   "metadata": {},
   "outputs": [],
   "source": []
  }
 ],
 "metadata": {
  "kernelspec": {
   "display_name": "Python 3 (ipykernel)",
   "language": "python",
   "name": "python3"
  },
  "language_info": {
   "codemirror_mode": {
    "name": "ipython",
    "version": 3
   },
   "file_extension": ".py",
   "mimetype": "text/x-python",
   "name": "python",
   "nbconvert_exporter": "python",
   "pygments_lexer": "ipython3",
   "version": "3.9.7"
  }
 },
 "nbformat": 4,
 "nbformat_minor": 5
}
