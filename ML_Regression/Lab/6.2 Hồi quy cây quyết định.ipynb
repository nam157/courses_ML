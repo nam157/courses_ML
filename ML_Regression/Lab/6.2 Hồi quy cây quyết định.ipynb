{
 "cells": [
  {
   "cell_type": "markdown",
   "metadata": {
    "id": "r3cas2_1T98w"
   },
   "source": [
    "# Hồi quy cây quyết định"
   ]
  },
  {
   "cell_type": "markdown",
   "metadata": {
    "id": "jia3kZkzEyLn"
   },
   "source": [
    "Cây quyết định (Decision Tree) là một trong các cách tiếp cận thực tế được sử dụng phổ biến nhất cho học có giám sát (supervised learning). Cây quyết định được sử dụng để giải quyết cả nhiệm vụ Hồi quy và Phân loại, sau đó sẽ được đưa vào ứng dụng thực tế hơn. Nó là một bộ phân loại có cấu trúc cây với 3 loại nút. Trong lab này, chúng ta sẽ học cách triển khai Hồi quy cây quyết định sử dụng scikit-learn."
   ]
  },
  {
   "cell_type": "markdown",
   "metadata": {
    "id": "IODliia6U1xO"
   },
   "source": [
    "## Import thư viện"
   ]
  },
  {
   "cell_type": "markdown",
   "metadata": {
    "id": "KZOXiKBxE_U7"
   },
   "source": [
    "Trước tiên, hãy import các thư viện hữu ích."
   ]
  },
  {
   "cell_type": "code",
   "execution_count": 2,
   "metadata": {
    "id": "y98nA5UdU6Hf"
   },
   "outputs": [],
   "source": [
    "import numpy as np\n",
    "import matplotlib.pyplot as plt\n",
    "import pandas as pd"
   ]
  },
  {
   "cell_type": "markdown",
   "metadata": {
    "id": "jpjZ43YlU8eI"
   },
   "source": [
    "## Import tập dữ liệu"
   ]
  },
  {
   "cell_type": "markdown",
   "metadata": {
    "id": "ikq6fmRhFALY"
   },
   "source": [
    "Sau đó, hãy import tập dữ liệu và chia thành ma trận đặc trưng và các giá trị dự đoán (chúng ta sẽ chỉ sử dụng một đặc trưng)."
   ]
  },
  {
   "cell_type": "code",
   "execution_count": 4,
   "metadata": {
    "id": "pLVaXoYVU_Uy"
   },
   "outputs": [],
   "source": [
    "## Yêu cầu 1:\n",
    "## VIẾT CODE Ở ĐÂY:\n",
    "path_file = \"C:/Users/Nguyễn Hoài Nam/OneDrive/Machine Learning/Lab_Exercise_MLP302x_Regression/LAB/lab6/datat_set/Position_Salaries.csv\"\n",
    "dataset = pd.read_csv(path_file)\n",
    "X = dataset.iloc[:, 1:-1].values\n",
    "y = dataset.iloc[:, -1].values"
   ]
  },
  {
   "cell_type": "markdown",
   "metadata": {
    "id": "g16qFkFQVC35"
   },
   "source": [
    "## Huấn luyện mô hình Hồi quy Cây quyết định trên toàn bộ tập dữ liệu"
   ]
  },
  {
   "cell_type": "markdown",
   "metadata": {
    "id": "wMxclGJJFB70"
   },
   "source": [
    "Huấn luyện"
   ]
  },
  {
   "cell_type": "code",
   "execution_count": 5,
   "metadata": {
    "colab": {
     "base_uri": "https://localhost:8080/",
     "height": 121
    },
    "id": "SLDKyv1SVUqS",
    "outputId": "a633ebbf-6fea-4b97-ccd8-1f8851e9d363"
   },
   "outputs": [
    {
     "data": {
      "text/plain": [
       "DecisionTreeRegressor(random_state=0)"
      ]
     },
     "execution_count": 5,
     "metadata": {},
     "output_type": "execute_result"
    }
   ],
   "source": [
    "## Yêu cầu 2:\n",
    "\n",
    "## VIẾT CODE Ở ĐÂY: \n",
    "from sklearn.tree import DecisionTreeRegressor\n",
    "regressor = DecisionTreeRegressor(random_state = 0)\n",
    "regressor.fit(X, y)"
   ]
  },
  {
   "cell_type": "markdown",
   "metadata": {
    "id": "DJc-2LqxZe-7"
   },
   "source": [
    "<details><summary> Gợi ý </summary>\n",
    "\n",
    "[DecisionTreeRegressor()](https://scikit-learn.org/stable/modules/generated/sklearn.tree.DecisionTreeRegressor.html)\n",
    "\n",
    "</details>"
   ]
  },
  {
   "cell_type": "markdown",
   "metadata": {
    "id": "MQRGPTH3VcOn"
   },
   "source": [
    "## Dự đoán kết quả mới"
   ]
  },
  {
   "cell_type": "markdown",
   "metadata": {
    "id": "T0QVWrnqFEYA"
   },
   "source": [
    "Đưa ra dự đoán"
   ]
  },
  {
   "cell_type": "code",
   "execution_count": 6,
   "metadata": {
    "colab": {
     "base_uri": "https://localhost:8080/",
     "height": 35
    },
    "id": "_FpGZf7vVgrK",
    "outputId": "54f36048-d4a1-4143-8b2b-b5aa32233b68"
   },
   "outputs": [
    {
     "data": {
      "text/plain": [
       "array([150000.])"
      ]
     },
     "execution_count": 6,
     "metadata": {},
     "output_type": "execute_result"
    }
   ],
   "source": [
    "## Yêu cầu 3:\n",
    "## VIẾT CODE Ở ĐÂY:\n",
    "regressor.predict([[6.5]])"
   ]
  },
  {
   "cell_type": "markdown",
   "metadata": {
    "id": "SbvEVPaRZ9Ex"
   },
   "source": [
    "<details><summary> Gợi ý </summary>\n",
    "\n",
    "[predict()](https://scikit-learn.org/stable/modules/generated/sklearn.tree.DecisionTreeRegressor.html#sklearn.tree.DecisionTreeRegressor.predict)\n",
    "\n",
    "</details>"
   ]
  },
  {
   "cell_type": "markdown",
   "metadata": {
    "id": "ph8ExBj0VkIT"
   },
   "source": [
    "## Hiển thị kết quả Hồi quy Cây quyết định (cho phân giải cao hơn)"
   ]
  },
  {
   "cell_type": "markdown",
   "metadata": {
    "id": "VeLWl0LEFHCk"
   },
   "source": [
    "Hiển thị tập dữ liệu và đường cong hồi quy để xem liệu mô hình tốt đủ chưa."
   ]
  },
  {
   "cell_type": "code",
   "execution_count": 7,
   "metadata": {
    "colab": {
     "base_uri": "https://localhost:8080/",
     "height": 295
    },
    "id": "zzH1Vv1oVrqe",
    "outputId": "84111519-5c51-498c-c330-0d53825849e3"
   },
   "outputs": [
    {
     "data": {
      "image/png": "[encoded data removed]",
      "text/plain": [
       "<Figure size 432x288 with 1 Axes>"
      ]
     },
     "metadata": {
      "needs_background": "light"
     },
     "output_type": "display_data"
    }
   ],
   "source": [
    "## Yêu cầu 4:\n",
    "\n",
    "X_grid = np.arange(min(X), max(X), 0.01)\n",
    "X_grid = X_grid.reshape((len(X_grid), 1))\n",
    "## VIẾT CODE Ở ĐÂY:\n",
    "plt.scatter(X, y, color = 'red')\n",
    "## VIẾT CODE Ở ĐÂY:\n",
    "plt.plot(X_grid, regressor.predict(X_grid), color = 'blue')\n",
    "plt.title('Truth or Bluff (Decision Tree Regression)')\n",
    "plt.xlabel('Position level')\n",
    "plt.ylabel('Salary')\n",
    "plt.show()"
   ]
  },
  {
   "cell_type": "markdown",
   "metadata": {
    "id": "U2yAnMZw2kGT"
   },
   "source": [
    "<details><summary> Gợi ý </summary>\n",
    "\n",
    "[tutorial](https://matplotlib.org/stable/tutorials/introductory/pyplot.html)\n",
    "\n",
    "</details>"
   ]
  },
  {
   "cell_type": "code",
   "execution_count": null,
   "metadata": {
    "id": "JKJCvgRP2mpq"
   },
   "outputs": [],
   "source": []
  }
 ],
 "metadata": {
  "colab": {
   "collapsed_sections": [],
   "name": "[VN]6.2 decision tree regression.ipynb",
   "provenance": []
  },
  "kernelspec": {
   "display_name": "Python 3",
   "language": "python",
   "name": "python3"
  },
  "language_info": {
   "codemirror_mode": {
    "name": "ipython",
    "version": 3
   },
   "file_extension": ".py",
   "mimetype": "text/x-python",
   "name": "python",
   "nbconvert_exporter": "python",
   "pygments_lexer": "ipython3",
   "version": "3.8.8"
  }
 },
 "nbformat": 4,
 "nbformat_minor": 1
}
