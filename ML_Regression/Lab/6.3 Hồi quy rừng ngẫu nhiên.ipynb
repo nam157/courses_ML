{
 "cells": [
  {
   "cell_type": "markdown",
   "metadata": {
    "id": "LeamvpPVXuS_"
   },
   "source": [
    "# Hồi quy Rừng ngẫu nhiên"
   ]
  },
  {
   "cell_type": "markdown",
   "metadata": {
    "id": "reER7cg1FgWj"
   },
   "source": [
    "Hồi quy Rừng ngẫu nhiên (Random Forest) là một thuật toán học có giám sát sử dụng phương pháp ensemble learning cho hồi quy. Ensemble learning là một kỹ thuật kết hợp các dự đoán từ nhiều thuật toán học máy để đưa ra dự đoán chính xác hơn so với chỉ dùng một mô hình duy nhất. Mô hình Hồi quy rừng ngẫu nhiên rất mạnh mẽ và chính xác; nó thường hoạt động tốt trên nhiều bài toán, trong đó có các đặc trưng có mối quan hệ phi tuyến tính. Tuy nhiên, nó còn một số nhược điểm như: không thể diễn giải, dễ xảy ra overfitting, phải chọn số lượng cây để đưa vào mô hình. Trong lab này, chúng ta sẽ học cách thực hiện Hồi quy rừng ngẫu nhiên sử dụng scikit-learn."
   ]
  },
  {
   "cell_type": "markdown",
   "metadata": {
    "id": "O2wvZ7SKXzVC"
   },
   "source": [
    "## Import thư viện"
   ]
  },
  {
   "cell_type": "markdown",
   "metadata": {
    "id": "OweBE45HForc"
   },
   "source": [
    "Trước tiên, hãy import các thư viện hữu ích."
   ]
  },
  {
   "cell_type": "code",
   "execution_count": 1,
   "metadata": {
    "id": "PVmESEFZX4Ig"
   },
   "outputs": [],
   "source": [
    "import numpy as np\n",
    "import matplotlib.pyplot as plt\n",
    "import pandas as pd"
   ]
  },
  {
   "cell_type": "markdown",
   "metadata": {
    "id": "zgbK_F8-X7em"
   },
   "source": [
    "## Import tập dữ liệu"
   ]
  },
  {
   "cell_type": "markdown",
   "metadata": {
    "id": "GrUT7XpDFqM4"
   },
   "source": [
    "Sau đó, hãy import tập dữ liệu và chia thành ma trận đặc trưng và các giá trị dự đoán (chúng ta sẽ chỉ sử dụng một đặc trưng)."
   ]
  },
  {
   "cell_type": "code",
   "execution_count": 2,
   "metadata": {
    "id": "adBE4tjQX_Bh"
   },
   "outputs": [],
   "source": [
    "## Yêu cầu 1:\n",
    "## VIẾT CODE Ở ĐÂY:\n",
    "path_file = \"C:/Users/Nguyễn Hoài Nam/OneDrive/Machine Learning/Lab_Exercise_MLP302x_Regression/LAB/lab6/datat_set/Position_Salaries.csv\"\n",
    "dataset = pd.read_csv(path_file)\n",
    "X = dataset.iloc[:, 1:-1].values\n",
    "y = dataset.iloc[:, -1].values"
   ]
  },
  {
   "cell_type": "markdown",
   "metadata": {
    "id": "v4S2fyIBYDcu"
   },
   "source": [
    "## Huấn luyện mô hình Hồi quy Rừng ngẫu nhiên trên toàn bộ tập dữ liệu"
   ]
  },
  {
   "cell_type": "markdown",
   "metadata": {
    "id": "xF4ggF_uFsrW"
   },
   "source": [
    "Huấn luyện"
   ]
  },
  {
   "cell_type": "code",
   "execution_count": 3,
   "metadata": {
    "colab": {
     "base_uri": "https://localhost:8080/",
     "height": 139
    },
    "id": "o8dOCoJ1YKMc",
    "outputId": "8894f460-d2de-44ab-d79b-9e69dffb12cb"
   },
   "outputs": [
    {
     "data": {
      "text/plain": [
       "RandomForestRegressor(n_estimators=10, random_state=0)"
      ]
     },
     "execution_count": 3,
     "metadata": {},
     "output_type": "execute_result"
    }
   ],
   "source": [
    "## Yêu cầu 2:\n",
    "\n",
    "## VIẾT CODE Ở ĐÂY:\n",
    "from sklearn.ensemble import RandomForestRegressor\n",
    "regressor = RandomForestRegressor(n_estimators = 10, random_state = 0)\n",
    "regressor.fit(X, y)"
   ]
  },
  {
   "cell_type": "markdown",
   "metadata": {
    "id": "nqWc84CIapHv"
   },
   "source": [
    "<details><summary> Gợi ý </summary>\n",
    "\n",
    "[RandomForestRegressor()](https://scikit-learn.org/stable/modules/generated/sklearn.ensemble.RandomForestRegressor.html)\n",
    "\n",
    "</details>"
   ]
  },
  {
   "cell_type": "markdown",
   "metadata": {
    "id": "8IbsXbK3YM4M"
   },
   "source": [
    "## Dự đoán kết quả mới"
   ]
  },
  {
   "cell_type": "markdown",
   "metadata": {
    "id": "r_AqjegZFuef"
   },
   "source": [
    "Đưa ra dự đoán"
   ]
  },
  {
   "cell_type": "code",
   "execution_count": 4,
   "metadata": {
    "colab": {
     "base_uri": "https://localhost:8080/",
     "height": 35
    },
    "id": "pTXrS8FEYQlJ",
    "outputId": "6bfe8b5e-125c-43ce-ee32-d2f53477e0ee"
   },
   "outputs": [
    {
     "data": {
      "text/plain": [
       "array([167000.])"
      ]
     },
     "execution_count": 4,
     "metadata": {},
     "output_type": "execute_result"
    }
   ],
   "source": [
    "## Yêu cầu 3:\n",
    "## VIẾT CODE Ở ĐÂY:\n",
    "regressor.predict([[6.5]])"
   ]
  },
  {
   "cell_type": "markdown",
   "metadata": {
    "id": "nGmXmheOa45h"
   },
   "source": [
    "<details><summary> Gợi ý </summary>\n",
    "\n",
    "[predict()](https://scikit-learn.org/stable/modules/generated/sklearn.ensemble.RandomForestRegressor.html#sklearn.ensemble.RandomForestRegressor.predict)\n",
    "\n",
    "</details>"
   ]
  },
  {
   "cell_type": "markdown",
   "metadata": {
    "id": "kLqF9yMbYTon"
   },
   "source": [
    "## Hiển thị kết quả Hồi quy Rừng ngẫu nhiên (phân giải cao hơn)"
   ]
  },
  {
   "cell_type": "markdown",
   "metadata": {
    "id": "qTHdVbAqFwHp"
   },
   "source": [
    "Hiển thị tập dữ liệu và đường cong hồi quy để xem liệu mô hình tốt đủ chưa."
   ]
  },
  {
   "cell_type": "code",
   "execution_count": 5,
   "metadata": {
    "colab": {
     "base_uri": "https://localhost:8080/",
     "height": 295
    },
    "id": "BMlTBifVYWNr",
    "outputId": "71439b75-32b1-444b-a9ee-7ae0672cea82"
   },
   "outputs": [
    {
     "data": {
      "image/png": "[encoded data removed]",
      "text/plain": [
       "<Figure size 432x288 with 1 Axes>"
      ]
     },
     "metadata": {
      "needs_background": "light"
     },
     "output_type": "display_data"
    }
   ],
   "source": [
    "## Yêu cầu 4:\n",
    "X_grid = np.arange(min(X), max(X), 0.01)\n",
    "X_grid = X_grid.reshape((len(X_grid), 1))\n",
    "## VIẾT CODE Ở ĐÂY:\n",
    "plt.scatter(X, y, color = 'red')\n",
    "## VIẾT CODE Ở ĐÂY:\n",
    "plt.plot(X_grid, regressor.predict(X_grid), color = 'blue')\n",
    "plt.title('Truth or Bluff (Random Forest Regression)')\n",
    "plt.xlabel('Position level')\n",
    "plt.ylabel('Salary')\n",
    "plt.show()"
   ]
  },
  {
   "cell_type": "markdown",
   "metadata": {
    "id": "r0lHld2s2rH7"
   },
   "source": [
    "<details><summary> Gợi ý </summary>\n",
    "\n",
    "[tutorial](https://matplotlib.org/stable/tutorials/introductory/pyplot.html)\n",
    "\n",
    "</details>"
   ]
  },
  {
   "cell_type": "code",
   "execution_count": null,
   "metadata": {
    "id": "fIuiGBw32rZH"
   },
   "outputs": [],
   "source": []
  }
 ],
 "metadata": {
  "colab": {
   "collapsed_sections": [],
   "name": "[VN]6.3 random forest regression.ipynb",
   "provenance": []
  },
  "kernelspec": {
   "display_name": "Python 3",
   "language": "python",
   "name": "python3"
  },
  "language_info": {
   "codemirror_mode": {
    "name": "ipython",
    "version": 3
   },
   "file_extension": ".py",
   "mimetype": "text/x-python",
   "name": "python",
   "nbconvert_exporter": "python",
   "pygments_lexer": "ipython3",
   "version": "3.8.8"
  }
 },
 "nbformat": 4,
 "nbformat_minor": 1
}
