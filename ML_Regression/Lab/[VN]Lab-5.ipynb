{
 "cells": [
  {
   "cell_type": "markdown",
   "metadata": {
    "id": "cnD1ecF0Mw0u"
   },
   "source": [
    "# Lựa chọn đặc trưng and LASSO"
   ]
  },
  {
   "cell_type": "markdown",
   "metadata": {
    "id": "N6oYlO_fMw0z"
   },
   "source": [
    "Trong notebook này, chúng ta sẽ sử dụng LASSO để lựa chọn đặc trưng, xây dựng solver đã triển khai trước cho LASSO (trong sklearn). Cụ thể, chúng ta sẽ:  \n",
    "* Chạy LASSO với các L1 penalty khác nhau.\n",
    "* Chọn L1 penalty tốt nhất sử dụng tập kiểm định.\n",
    "* Chọn L1 penalty tốt nhất sử dụng tập kiểm định với ràng buộc bổ sung về kích thước tập con. \n",
    "\n",
    "Trong bài tập tiếp theo, chúng ta sẽ tạo LASSO solver sử dụng coordinate descent."
   ]
  },
  {
   "cell_type": "markdown",
   "metadata": {
    "id": "wRSBur8HMw02"
   },
   "source": [
    "## Thư viện"
   ]
  },
  {
   "cell_type": "code",
   "execution_count": 1,
   "metadata": {
    "id": "MjaAEidBMw05"
   },
   "outputs": [],
   "source": [
    "import sklearn\n",
    "import pandas as pd\n",
    "import numpy as np"
   ]
  },
  {
   "cell_type": "markdown",
   "metadata": {
    "id": "JBmiSN8sMw1A"
   },
   "source": [
    "## Load tập dữ liệu doanh số bán nhà\n",
    "\n",
    "Tập dữ liệu từ doanh số bán nhà quận King, Seatle, WA."
   ]
  },
  {
   "cell_type": "code",
   "execution_count": 2,
   "metadata": {
    "id": "7cDLiqAIMw1D",
    "scrolled": true
   },
   "outputs": [
    {
     "data": {
      "text/html": [
       "<div>\n",
       "<style scoped>\n",
       "    .dataframe tbody tr th:only-of-type {\n",
       "        vertical-align: middle;\n",
       "    }\n",
       "\n",
       "    .dataframe tbody tr th {\n",
       "        vertical-align: top;\n",
       "    }\n",
       "\n",
       "    .dataframe thead th {\n",
       "        text-align: right;\n",
       "    }\n",
       "</style>\n",
       "<table border=\"1\" class=\"dataframe\">\n",
       "  <thead>\n",
       "    <tr style=\"text-align: right;\">\n",
       "      <th></th>\n",
       "      <th>date</th>\n",
       "      <th>price</th>\n",
       "      <th>bedrooms</th>\n",
       "      <th>bathrooms</th>\n",
       "      <th>sqft_living</th>\n",
       "      <th>sqft_lot</th>\n",
       "      <th>floors</th>\n",
       "      <th>waterfront</th>\n",
       "      <th>view</th>\n",
       "      <th>condition</th>\n",
       "      <th>grade</th>\n",
       "      <th>sqft_above</th>\n",
       "      <th>sqft_basement</th>\n",
       "      <th>yr_built</th>\n",
       "      <th>yr_renovated</th>\n",
       "      <th>zipcode</th>\n",
       "      <th>lat</th>\n",
       "      <th>long</th>\n",
       "      <th>sqft_living15</th>\n",
       "      <th>sqft_lot15</th>\n",
       "    </tr>\n",
       "    <tr>\n",
       "      <th>id</th>\n",
       "      <th></th>\n",
       "      <th></th>\n",
       "      <th></th>\n",
       "      <th></th>\n",
       "      <th></th>\n",
       "      <th></th>\n",
       "      <th></th>\n",
       "      <th></th>\n",
       "      <th></th>\n",
       "      <th></th>\n",
       "      <th></th>\n",
       "      <th></th>\n",
       "      <th></th>\n",
       "      <th></th>\n",
       "      <th></th>\n",
       "      <th></th>\n",
       "      <th></th>\n",
       "      <th></th>\n",
       "      <th></th>\n",
       "      <th></th>\n",
       "    </tr>\n",
       "  </thead>\n",
       "  <tbody>\n",
       "    <tr>\n",
       "      <th>7129300520</th>\n",
       "      <td>20141013T000000</td>\n",
       "      <td>221900.0</td>\n",
       "      <td>3</td>\n",
       "      <td>1.00</td>\n",
       "      <td>1180</td>\n",
       "      <td>5650</td>\n",
       "      <td>1.0</td>\n",
       "      <td>0</td>\n",
       "      <td>0</td>\n",
       "      <td>3</td>\n",
       "      <td>7</td>\n",
       "      <td>1180</td>\n",
       "      <td>0</td>\n",
       "      <td>1955</td>\n",
       "      <td>0</td>\n",
       "      <td>98178</td>\n",
       "      <td>47.5112</td>\n",
       "      <td>-122.257</td>\n",
       "      <td>1340</td>\n",
       "      <td>5650</td>\n",
       "    </tr>\n",
       "    <tr>\n",
       "      <th>6414100192</th>\n",
       "      <td>20141209T000000</td>\n",
       "      <td>538000.0</td>\n",
       "      <td>3</td>\n",
       "      <td>2.25</td>\n",
       "      <td>2570</td>\n",
       "      <td>7242</td>\n",
       "      <td>2.0</td>\n",
       "      <td>0</td>\n",
       "      <td>0</td>\n",
       "      <td>3</td>\n",
       "      <td>7</td>\n",
       "      <td>2170</td>\n",
       "      <td>400</td>\n",
       "      <td>1951</td>\n",
       "      <td>1991</td>\n",
       "      <td>98125</td>\n",
       "      <td>47.7210</td>\n",
       "      <td>-122.319</td>\n",
       "      <td>1690</td>\n",
       "      <td>7639</td>\n",
       "    </tr>\n",
       "    <tr>\n",
       "      <th>5631500400</th>\n",
       "      <td>20150225T000000</td>\n",
       "      <td>180000.0</td>\n",
       "      <td>2</td>\n",
       "      <td>1.00</td>\n",
       "      <td>770</td>\n",
       "      <td>10000</td>\n",
       "      <td>1.0</td>\n",
       "      <td>0</td>\n",
       "      <td>0</td>\n",
       "      <td>3</td>\n",
       "      <td>6</td>\n",
       "      <td>770</td>\n",
       "      <td>0</td>\n",
       "      <td>1933</td>\n",
       "      <td>0</td>\n",
       "      <td>98028</td>\n",
       "      <td>47.7379</td>\n",
       "      <td>-122.233</td>\n",
       "      <td>2720</td>\n",
       "      <td>8062</td>\n",
       "    </tr>\n",
       "    <tr>\n",
       "      <th>2487200875</th>\n",
       "      <td>20141209T000000</td>\n",
       "      <td>604000.0</td>\n",
       "      <td>4</td>\n",
       "      <td>3.00</td>\n",
       "      <td>1960</td>\n",
       "      <td>5000</td>\n",
       "      <td>1.0</td>\n",
       "      <td>0</td>\n",
       "      <td>0</td>\n",
       "      <td>5</td>\n",
       "      <td>7</td>\n",
       "      <td>1050</td>\n",
       "      <td>910</td>\n",
       "      <td>1965</td>\n",
       "      <td>0</td>\n",
       "      <td>98136</td>\n",
       "      <td>47.5208</td>\n",
       "      <td>-122.393</td>\n",
       "      <td>1360</td>\n",
       "      <td>5000</td>\n",
       "    </tr>\n",
       "    <tr>\n",
       "      <th>1954400510</th>\n",
       "      <td>20150218T000000</td>\n",
       "      <td>510000.0</td>\n",
       "      <td>3</td>\n",
       "      <td>2.00</td>\n",
       "      <td>1680</td>\n",
       "      <td>8080</td>\n",
       "      <td>1.0</td>\n",
       "      <td>0</td>\n",
       "      <td>0</td>\n",
       "      <td>3</td>\n",
       "      <td>8</td>\n",
       "      <td>1680</td>\n",
       "      <td>0</td>\n",
       "      <td>1987</td>\n",
       "      <td>0</td>\n",
       "      <td>98074</td>\n",
       "      <td>47.6168</td>\n",
       "      <td>-122.045</td>\n",
       "      <td>1800</td>\n",
       "      <td>7503</td>\n",
       "    </tr>\n",
       "  </tbody>\n",
       "</table>\n",
       "</div>"
      ],
      "text/plain": [
       "                       date     price  bedrooms  bathrooms  sqft_living  \\\n",
       "id                                                                        \n",
       "7129300520  20141013T000000  221900.0         3       1.00         1180   \n",
       "6414100192  20141209T000000  538000.0         3       2.25         2570   \n",
       "5631500400  20150225T000000  180000.0         2       1.00          770   \n",
       "2487200875  20141209T000000  604000.0         4       3.00         1960   \n",
       "1954400510  20150218T000000  510000.0         3       2.00         1680   \n",
       "\n",
       "            sqft_lot  floors  waterfront  view  condition  grade  sqft_above  \\\n",
       "id                                                                             \n",
       "7129300520      5650     1.0           0     0          3      7        1180   \n",
       "6414100192      7242     2.0           0     0          3      7        2170   \n",
       "5631500400     10000     1.0           0     0          3      6         770   \n",
       "2487200875      5000     1.0           0     0          5      7        1050   \n",
       "1954400510      8080     1.0           0     0          3      8        1680   \n",
       "\n",
       "            sqft_basement  yr_built  yr_renovated  zipcode      lat     long  \\\n",
       "id                                                                             \n",
       "7129300520              0      1955             0    98178  47.5112 -122.257   \n",
       "6414100192            400      1951          1991    98125  47.7210 -122.319   \n",
       "5631500400              0      1933             0    98028  47.7379 -122.233   \n",
       "2487200875            910      1965             0    98136  47.5208 -122.393   \n",
       "1954400510              0      1987             0    98074  47.6168 -122.045   \n",
       "\n",
       "            sqft_living15  sqft_lot15  \n",
       "id                                     \n",
       "7129300520           1340        5650  \n",
       "6414100192           1690        7639  \n",
       "5631500400           2720        8062  \n",
       "2487200875           1360        5000  \n",
       "1954400510           1800        7503  "
      ]
     },
     "execution_count": 2,
     "metadata": {},
     "output_type": "execute_result"
    }
   ],
   "source": [
    "full_data = pd.read_csv(\"kc_house_data.csv\", index_col=0)\n",
    "full_data.head()"
   ]
  },
  {
   "cell_type": "markdown",
   "metadata": {
    "id": "nyLeYGvlMw1J"
   },
   "source": [
    "## Tạo các đặc trung mới"
   ]
  },
  {
   "cell_type": "markdown",
   "metadata": {
    "id": "XSMOdbHVMw1L"
   },
   "source": [
    "Như ở lab 2 (*Lab-2.ipynb*), chúng ta sẽ xem xét các đặc trưng có các biến đổi đầu vào."
   ]
  },
  {
   "cell_type": "code",
   "execution_count": 3,
   "metadata": {
    "id": "mYzffDTvMw1M"
   },
   "outputs": [],
   "source": [
    "from math import log, sqrt\n",
    "full_data['sqft_living_sqrt'] = full_data['sqft_living'].map(sqrt)\n",
    "full_data['sqft_lot_sqrt'] = full_data['sqft_lot'].map(sqrt)\n",
    "full_data['bedrooms_square'] = full_data['bedrooms'] ** 2\n",
    "\n",
    "# Trong tập dữ liệu, 'floors' được xác định là type string, \n",
    "# nên chúng ta sẽ chuyển chúng thành float trước khi tạo đặc trưng mới. \n",
    "full_data['floors'] = full_data['floors'].astype(float) \n",
    "full_data['floors_square'] = full_data['floors'] ** 2"
   ]
  },
  {
   "cell_type": "markdown",
   "metadata": {
    "id": "z672nh0kMw1S"
   },
   "source": [
    "* Bình phương bedrooms sẽ tăng phân tách giữa ít phòng ngủ (chẳng hạn 1) và nhiều phòng ngủ (chẳng hạn 4) vì 1^2 = 1 còn 4^2 = 16. Do đó, biến này sẽ ảnh hưởng lớn tới các ngôi nhà có nhiều phòng ngủ.\n",
    "* Mặt khác, căn bậc hai của sqft_living sẽ giảm phân tách giữa nhà lớn và nhà nhỏ. Chủ ngôi nhà cũng sẽ không vui hơn nếu nhà rộng gấp đôi."
   ]
  },
  {
   "cell_type": "markdown",
   "metadata": {
    "id": "VDo2w5chMw1U"
   },
   "source": [
    "# Tìm hiểu trọng số hồi quy với L1 penalty"
   ]
  },
  {
   "cell_type": "markdown",
   "metadata": {
    "id": "u-xMl9bUMw1V"
   },
   "source": [
    "Hãy khớp mô hình với tất cả đặc trưng hiện có cộng với các đặc trưng vừa tạo."
   ]
  },
  {
   "cell_type": "code",
   "execution_count": 4,
   "metadata": {
    "id": "OYAUT1PLMw1W"
   },
   "outputs": [
    {
     "data": {
      "text/plain": [
       "17"
      ]
     },
     "execution_count": 4,
     "metadata": {},
     "output_type": "execute_result"
    }
   ],
   "source": [
    "all_features = ['bedrooms', 'bedrooms_square',\n",
    "            'bathrooms',\n",
    "            'sqft_living', 'sqft_living_sqrt',\n",
    "            'sqft_lot', 'sqft_lot_sqrt',\n",
    "            'floors', 'floors_square',\n",
    "            'waterfront', 'view', 'condition', 'grade',\n",
    "            'sqft_above',\n",
    "            'sqft_basement',\n",
    "            'yr_built', 'yr_renovated']\n",
    "len(all_features)"
   ]
  },
  {
   "cell_type": "markdown",
   "metadata": {
    "id": "D7-592ikMw1e"
   },
   "source": [
    "Áp dụng L1 penalty cần thêm tham số (`alpha=l1_penalty`) cho mô hình  `Lasso` của Sklearn. (Các công cụ khác cũng phân tách các triển khai của LASSO). Khá giống Hồi quy Ridge/L2, các đặc trưng cũng cần được co giãn để đảm bảo đồng đều ở giữa."
   ]
  },
  {
   "cell_type": "code",
   "execution_count": 5,
   "metadata": {
    "id": "KlTbDC0RMw1g"
   },
   "outputs": [],
   "source": [
    "from sklearn.linear_model import Lasso\n",
    "from sklearn.preprocessing import StandardScaler\n",
    "scaler = StandardScaler()\n",
    "l1_penalty=5e4\n",
    "full_features = scaler.fit_transform(full_data[all_features].values)\n",
    "full_labels = full_data['price'].values\n",
    "model = Lasso(alpha=l1_penalty).fit(full_features, full_labels)"
   ]
  },
  {
   "cell_type": "markdown",
   "metadata": {
    "id": "rH4847CcMw1m"
   },
   "source": [
    "Tìm các đặc trưng có trọng số khác 0."
   ]
  },
  {
   "cell_type": "code",
   "execution_count": 6,
   "metadata": {
    "id": "HElqPj8LMw1n"
   },
   "outputs": [
    {
     "data": {
      "text/plain": [
       "array([     0.        ,      0.        ,      0.        , 132571.09360631,\n",
       "            0.        ,     -0.        ,     -0.        ,      0.        ,\n",
       "            0.        ,  14623.33961421,  29004.06421249,      0.        ,\n",
       "        90207.54789031,      0.        ,      0.        , -10722.34912003,\n",
       "            0.        ])"
      ]
     },
     "execution_count": 6,
     "metadata": {},
     "output_type": "execute_result"
    }
   ],
   "source": [
    "weights = model.coef_\n",
    "weights"
   ]
  },
  {
   "cell_type": "code",
   "execution_count": 7,
   "metadata": {},
   "outputs": [
    {
     "data": {
      "text/plain": [
       "(['sqft_living', 'waterfront', 'view', 'grade', 'yr_built'],\n",
       " [132571.09360630723,\n",
       "  14623.339614213912,\n",
       "  29004.064212492078,\n",
       "  90207.54789030869,\n",
       "  -10722.34912002888])"
      ]
     },
     "execution_count": 7,
     "metadata": {},
     "output_type": "execute_result"
    }
   ],
   "source": [
    "features_ = []\n",
    "weights_ = []\n",
    "for i in range(len(all_features)):\n",
    "    if weights[i] != 0:\n",
    "        features_.append(all_features[i])\n",
    "        weights_.append(weights[i])\n",
    "features_,weights_"
   ]
  },
  {
   "cell_type": "markdown",
   "metadata": {
    "id": "Z0gF5MD_Mw1r"
   },
   "source": [
    "Lưu ý rằng phần lớn trọng số được đặt thành 0. Vì vậy, bằng cách đặt L1 penalty đủ lớn, chúng ta có thể thực hiện lựa chọn tập con.\n",
    "\n",
    "***QUIZ***:\n",
    "Theo list các trọng số này, những đặc trưng nào đã được chọn?"
   ]
  },
  {
   "cell_type": "markdown",
   "metadata": {
    "id": "9Zv3CFZBMw1s"
   },
   "source": [
    "# Lựa chọn L1 penalty"
   ]
  },
  {
   "cell_type": "markdown",
   "metadata": {
    "id": "Oc6Vm3RfMw1t"
   },
   "source": [
    "Để tìm một L1 penalty tốt, chúng ta sẽ khám phá nhiều giá trị sử dụng tập kiểm định. Hãy chia dữ liệu thành tập huấn luyện, tập kiểm định và tập kiểm tra:\n",
    "* Chia dữ liệu bán hàng thành 2 tập: tập huấn luyện và tập kiểm tra (9/1)\n",
    "* Chia tiếp tập huấn luyện thành 2 tập: tập huấn luyện và kiểm định (5/5)\n",
    "\n",
    "Hãy dùng seed = 1 để có cùng kết quả!"
   ]
  },
  {
   "cell_type": "code",
   "execution_count": 8,
   "metadata": {
    "id": "U41_wuIcMw1v"
   },
   "outputs": [],
   "source": [
    "from sklearn.model_selection import train_test_split\n",
    "train_data_validation,test_data = train_test_split(full_data,test_size=0.1)\n",
    "train_data,validation_data = train_test_split(train_data_validation,test_size= .5)"
   ]
  },
  {
   "cell_type": "markdown",
   "metadata": {
    "id": "7kCoG3VwMw10"
   },
   "source": [
    "Tiếp theo, chúng ta sẽ viết một vòng lặp như sau: \n",
    "* Với `l1_penalty` trong phạm vi 21 bước giữa [1, 10^9] (sử dụng `np.logspace(0, 9, num=21)`.)\n",
    "    * Khớp mô hình hồi quy với `l1_penalty` trong dữ liệu HUẤN LUYỆN. Chỉ định `alpha=l1_penalty` trong tham số.\n",
    "    * Tính RSS trên dữ liệu KIỂM ĐỊNH (sử dụng `.predict()`) cho `l1_penalty`\n",
    "* Báo lại `l1_penalty` nào cho RSS thấp nhất trong dữ liệu KIỂM ĐỊNH."
   ]
  },
  {
   "cell_type": "code",
   "execution_count": 9,
   "metadata": {},
   "outputs": [],
   "source": [
    "from sklearn.metrics import mean_squared_error"
   ]
  },
  {
   "cell_type": "code",
   "execution_count": 35,
   "metadata": {
    "id": "kYf8zDJtMw11"
   },
   "outputs": [
    {
     "name": "stderr",
     "output_type": "stream",
     "text": [
      "C:\\ProgramData\\Anaconda3\\lib\\site-packages\\sklearn\\linear_model\\_coordinate_descent.py:530: ConvergenceWarning: Objective did not converge. You might want to increase the number of iterations. Duality gap: 14746664776971.562, tolerance: 137008208668.28061\n",
      "  model = cd_fast.enet_coordinate_descent(\n",
      "C:\\ProgramData\\Anaconda3\\lib\\site-packages\\sklearn\\linear_model\\_coordinate_descent.py:530: ConvergenceWarning: Objective did not converge. You might want to increase the number of iterations. Duality gap: 14755098819412.125, tolerance: 137008208668.28061\n",
      "  model = cd_fast.enet_coordinate_descent(\n",
      "C:\\ProgramData\\Anaconda3\\lib\\site-packages\\sklearn\\linear_model\\_coordinate_descent.py:530: ConvergenceWarning: Objective did not converge. You might want to increase the number of iterations. Duality gap: 14778776637397.812, tolerance: 137008208668.28061\n",
      "  model = cd_fast.enet_coordinate_descent(\n",
      "C:\\ProgramData\\Anaconda3\\lib\\site-packages\\sklearn\\linear_model\\_coordinate_descent.py:530: ConvergenceWarning: Objective did not converge. You might want to increase the number of iterations. Duality gap: 14844743645290.188, tolerance: 137008208668.28061\n",
      "  model = cd_fast.enet_coordinate_descent(\n",
      "C:\\ProgramData\\Anaconda3\\lib\\site-packages\\sklearn\\linear_model\\_coordinate_descent.py:530: ConvergenceWarning: Objective did not converge. You might want to increase the number of iterations. Duality gap: 15024567230068.375, tolerance: 137008208668.28061\n",
      "  model = cd_fast.enet_coordinate_descent(\n",
      "C:\\ProgramData\\Anaconda3\\lib\\site-packages\\sklearn\\linear_model\\_coordinate_descent.py:530: ConvergenceWarning: Objective did not converge. You might want to increase the number of iterations. Duality gap: 15482947217740.812, tolerance: 137008208668.28061\n",
      "  model = cd_fast.enet_coordinate_descent(\n",
      "C:\\ProgramData\\Anaconda3\\lib\\site-packages\\sklearn\\linear_model\\_coordinate_descent.py:530: ConvergenceWarning: Objective did not converge. You might want to increase the number of iterations. Duality gap: 16461479607038.438, tolerance: 137008208668.28061\n",
      "  model = cd_fast.enet_coordinate_descent(\n"
     ]
    }
   ],
   "source": [
    "# Mức độ trợ giúp: Bình thường.\n",
    "#List l1_penalty\n",
    "full_l1_penalty = np.logspace(0,9,num = 21)\n",
    "scaler = StandardScaler()\n",
    "#Scaler train_data\n",
    "full_features = scaler.fit_transform(train_data[all_features].values)\n",
    "#Output train_data\n",
    "labels_features = train_data['price'].values\n",
    "#Scaler validation__data\n",
    "full_test_features = scaler.fit_transform(validation_data[all_features].values)\n",
    "#Output validation_data\n",
    "labels_test_features = validation_data['price'].values\n",
    "#Lưu các rss của từng l1_penalty\n",
    "scores_rss_total = []\n",
    "weights = []\n",
    "for l1_penalty in full_l1_penalty:\n",
    "    model = Lasso(alpha=l1_penalty).fit(full_features,labels_features)\n",
    "    weights.append([l1_penalty,model.coef_])\n",
    "    y_pr = model.predict(full_test_features)\n",
    "#     scores_rss_total.append((np.sum((labels_test_features - y_pr)**2)))\n",
    "    scores_rss_total.append(mean_squared_error(labels_test_features,y_pr))"
   ]
  },
  {
   "cell_type": "markdown",
   "metadata": {
    "id": "wAneHq6LMw15"
   },
   "source": [
    "***QUIZ:*** Giá trị tốt nhất cho `l1_penalty` là bao nhiêu?"
   ]
  },
  {
   "cell_type": "code",
   "execution_count": 36,
   "metadata": {
    "id": "oZ1BXWL7Mw16",
    "scrolled": true
   },
   "outputs": [
    {
     "data": {
      "text/plain": [
       "[43418375780.266464,\n",
       " 43414022566.73707,\n",
       " 43401831607.1126,\n",
       " 43368092891.65627,\n",
       " 43277929719.21821,\n",
       " 43062939591.882866,\n",
       " 43091405474.138756,\n",
       " 43163779167.837074,\n",
       " 44990827361.32555,\n",
       " 47682248400.4896,\n",
       " 51926638010.497696,\n",
       " 68053482849.71319,\n",
       " 123786572954.2037,\n",
       " 131890965680.98468,\n",
       " 131890965680.98468,\n",
       " 131890965680.98468,\n",
       " 131890965680.98468,\n",
       " 131890965680.98468,\n",
       " 131890965680.98468,\n",
       " 131890965680.98468,\n",
       " 131890965680.98468]"
      ]
     },
     "execution_count": 36,
     "metadata": {},
     "output_type": "execute_result"
    }
   ],
   "source": [
    "scores_rss_total"
   ]
  },
  {
   "cell_type": "code",
   "execution_count": 37,
   "metadata": {},
   "outputs": [
    {
     "data": {
      "text/plain": [
       "[[1.0,\n",
       "  array([  18608.46071494,  -34841.73983882,   40461.31662553,\n",
       "          277139.90242861, -443444.73378104,   26938.42754348,\n",
       "          -46056.15501895,  -39597.82731676,   48052.37710637,\n",
       "           47366.83495526,   32886.62493817,   18429.76101023,\n",
       "          152589.88093391,  276841.19055042,  150326.5073571 ,\n",
       "          -91144.63693162,    5749.05604438])],\n",
       " [2.8183829312644537,\n",
       "  array([  18474.62548039,  -34717.84133315,   40455.39635834,\n",
       "          277741.51002373, -443264.00270451,   26912.03496943,\n",
       "          -46027.74122604,  -39463.73442899,   47925.51783197,\n",
       "           47365.6112154 ,   32887.46822923,   18429.70917822,\n",
       "          152589.28716547,  276144.13029242,  149958.31276474,\n",
       "          -91140.00651586,    5746.48768689])],\n",
       " [7.943282347242816,\n",
       "  array([  18097.42653989,  -34368.64789968,   40438.71077834,\n",
       "          279437.07060109, -442754.63332359,   26837.6505892 ,\n",
       "          -45947.66027708,  -39085.80932277,   47567.97981823,\n",
       "           47362.16224787,   32889.84494635,   18429.56309577,\n",
       "          152587.61369862,  274179.54755953,  148920.59941042,\n",
       "          -91126.9562311 ,    5739.249072  ])],\n",
       " [22.3872113856834,\n",
       "  array([  17034.33548401,  -33384.48708682,   40391.68442447,\n",
       "          284215.80959132, -441319.03535404,   26628.00692162,\n",
       "          -45721.96149743,  -38020.67165435,   46560.30078322,\n",
       "           47352.44173666,   32896.54344531,   18429.15137949,\n",
       "          152582.89722823,  268642.60111747,  145995.92580471,\n",
       "          -91090.17553131,    5718.84788334])],\n",
       " [63.09573444801933,\n",
       "  array([  14038.13779929,  -30610.7450516 ,   40259.14615145,\n",
       "          297684.12599415, -437272.97054441,   26037.15078724,\n",
       "          -45085.85590922,  -35018.70582895,   43720.2753896 ,\n",
       "           47325.04561375,   32915.42238043,   18427.99100537,\n",
       "          152569.6044085 ,  253037.3657772 ,  137753.0756368 ,\n",
       "          -90986.51343471,    5661.34952148])],\n",
       " [177.82794100389228,\n",
       "  array([   5593.70540624,  -22793.27786138,   39885.60254565,\n",
       "          335642.99905437, -425869.61059723,   24371.89194287,\n",
       "          -43293.06677663,  -26558.01657017,   35715.99628079,\n",
       "           47247.83284834,   32968.63044879,   18424.72062713,\n",
       "          152532.14015109,  209055.83689947,  114521.56744368,\n",
       "          -90694.35394972,    5499.29712013])],\n",
       " [501.18723362727246,\n",
       "  array([     -0.        ,  -17631.76506768,   38617.64664953,\n",
       "          442263.03451813, -402755.52573373,   19957.69631148,\n",
       "          -38407.14511741,   -2797.63807039,   13574.74662676,\n",
       "           47080.30625585,   33235.4802044 ,   18108.90451233,\n",
       "          152206.84807696,   92445.94198651,   53328.88476975,\n",
       "          -90223.87534019,    5075.18600217])],\n",
       " [1412.537544622754,\n",
       "  array([ -13732.23519142,   -5411.73331542,   35881.67645234,\n",
       "          473882.38116949, -326565.1236082 ,    9544.337122  ,\n",
       "          -27400.95100528,       0.        ,   10970.1882226 ,\n",
       "           46659.06491518,   33736.99660169,   16475.63912071,\n",
       "          150408.54338599,       0.        ,    2904.47649178,\n",
       "          -90241.54063147,    4038.92771379])],\n",
       " [3981.0717055349733,\n",
       "  array([-2.43162003e+04, -0.00000000e+00,  2.87872428e+04,  2.76330254e+05,\n",
       "         -1.15238579e+05,  0.00000000e+00, -1.56426673e+04,  0.00000000e+00,\n",
       "          8.43362998e+03,  4.58597306e+04,  3.51627414e+04,  1.15213687e+04,\n",
       "          1.44154552e+05,  0.00000000e+00,  1.66814468e+02, -9.09124998e+04,\n",
       "          1.27850653e+03])],\n",
       " [11220.18454301963,\n",
       "  array([-10717.37461512,     -0.        ,  13567.44565976, 158725.45063276,\n",
       "             -0.        ,     -0.        ,  -6613.09569477,      0.        ,\n",
       "            300.5994129 ,  41542.14873601,  36162.37212313,   3233.0992422 ,\n",
       "         138693.37562773,      0.        ,      0.        , -77385.4610588 ,\n",
       "              0.        ])],\n",
       " [31622.776601683792,\n",
       "  array([    -0.        ,     -0.        ,      0.        , 149358.45823689,\n",
       "              0.        ,     -0.        ,     -0.        ,      0.        ,\n",
       "              0.        ,  26090.70765614,  34662.60555506,      0.        ,\n",
       "         114241.06605529,      0.        ,      0.        , -39896.16393289,\n",
       "              0.        ])],\n",
       " [89125.0938133746,\n",
       "  array([     0.        ,      0.        ,      0.        , 126908.70359872,\n",
       "              0.        ,      0.        ,      0.        ,      0.        ,\n",
       "              0.        ,      0.        ,   9407.77655642,      0.        ,\n",
       "          64694.42280192,      0.        ,      0.        ,     -0.        ,\n",
       "              0.        ])],\n",
       " [251188.6431509582,\n",
       "  array([    0.        ,     0.        ,     0.        , 16639.80151446,\n",
       "             0.        ,     0.        ,     0.        ,     0.        ,\n",
       "             0.        ,     0.        ,     0.        ,     0.        ,\n",
       "             0.        ,     0.        ,     0.        ,     0.        ,\n",
       "             0.        ])],\n",
       " [707945.7843841388,\n",
       "  array([0., 0., 0., 0., 0., 0., 0., 0., 0., 0., 0., 0., 0., 0., 0., 0., 0.])],\n",
       " [1995262.3149688789,\n",
       "  array([0., 0., 0., 0., 0., 0., 0., 0., 0., 0., 0., 0., 0., 0., 0., 0., 0.])],\n",
       " [5623413.251903491,\n",
       "  array([0., 0., 0., 0., 0., 0., 0., 0., 0., 0., 0., 0., 0., 0., 0., 0., 0.])],\n",
       " [15848931.924611142,\n",
       "  array([0., 0., 0., 0., 0., 0., 0., 0., 0., 0., 0., 0., 0., 0., 0., 0., 0.])],\n",
       " [44668359.21509635,\n",
       "  array([0., 0., 0., 0., 0., 0., 0., 0., 0., 0., 0., 0., 0., 0., 0., 0., 0.])],\n",
       " [125892541.17941661,\n",
       "  array([0., 0., 0., 0., 0., 0., 0., 0., 0., 0., 0., 0., 0., 0., 0., 0., 0.])],\n",
       " [354813389.23357606,\n",
       "  array([0., 0., 0., 0., 0., 0., 0., 0., 0., 0., 0., 0., 0., 0., 0., 0., 0.])],\n",
       " [1000000000.0,\n",
       "  array([0., 0., 0., 0., 0., 0., 0., 0., 0., 0., 0., 0., 0., 0., 0., 0., 0.])]]"
      ]
     },
     "execution_count": 37,
     "metadata": {},
     "output_type": "execute_result"
    }
   ],
   "source": [
    "weights"
   ]
  },
  {
   "cell_type": "markdown",
   "metadata": {
    "id": "PcnSvUHyMw19"
   },
   "source": [
    "***QUIZ***\n",
    "Với giá trị L1 penalty này, chúng ta có bao nhiêu trọng số khác 0?"
   ]
  },
  {
   "cell_type": "code",
   "execution_count": 38,
   "metadata": {},
   "outputs": [
    {
     "name": "stdout",
     "output_type": "stream",
     "text": [
      "43062939591.882866\n",
      "177.82794100389228\n"
     ]
    }
   ],
   "source": [
    "for i in range(len(scores_rss_total)):\n",
    "    if scores_rss_total[i] == min(scores_rss_total):\n",
    "        print(scores_rss_total[i])\n",
    "        print(full_l1_penalty[i])"
   ]
  },
  {
   "cell_type": "code",
   "execution_count": 39,
   "metadata": {
    "id": "Od-dOA-IMw1-"
   },
   "outputs": [
    {
     "name": "stderr",
     "output_type": "stream",
     "text": [
      "C:\\ProgramData\\Anaconda3\\lib\\site-packages\\sklearn\\linear_model\\_coordinate_descent.py:530: ConvergenceWarning: Objective did not converge. You might want to increase the number of iterations. Duality gap: 15482947217740.812, tolerance: 137008208668.28061\n",
      "  model = cd_fast.enet_coordinate_descent(\n"
     ]
    },
    {
     "data": {
      "text/plain": [
       "array([   5593.70540624,  -22793.27786138,   39885.60254565,\n",
       "        335642.99905437, -425869.61059723,   24371.89194287,\n",
       "        -43293.06677663,  -26558.01657017,   35715.99628079,\n",
       "         47247.83284834,   32968.63044879,   18424.72062713,\n",
       "        152532.14015109,  209055.83689947,  114521.56744368,\n",
       "        -90694.35394972,    5499.29712013])"
      ]
     },
     "execution_count": 39,
     "metadata": {},
     "output_type": "execute_result"
    }
   ],
   "source": [
    "l1_penalty_best = 177.82794100389228\n",
    "model = Lasso(alpha=l1_penalty_best).fit(full_features,labels_features)\n",
    "model.coef_"
   ]
  },
  {
   "cell_type": "markdown",
   "metadata": {
    "id": "_zNo9ywLMw2F"
   },
   "source": [
    "# Limit the number of nonzero weights Giới hạn số trọng số khác 0\n",
    "\n",
    "Sẽ ra sao nếu chúng ta muốn giới hạn, 5 đặc trưng chẳng hạn? Điều này quan trọng nếu chúng ta muốn suy ra \"quy tắc ngón tay cái\" --- mô hình có thể diễn giải chỉ với một vài đặc trưng."
   ]
  },
  {
   "cell_type": "markdown",
   "metadata": {
    "id": "jLijk-3UMw2G"
   },
   "source": [
    "Trong phần này, chúng ta sẽ triển khai quy trình đơn giản gồm 2 giai đoạn :\n",
    "1. Thăm dò phạm vi lớn các giá trị `l1_penalty` để tìm vùng các giá trị `l1_penalty` hẹp hơn mà mô hình chắc chắn sẽ có số lượng trọng số khác 0 mong muốn.\n",
    "2. Thăm dò tiếp vùng hẹp đã thấy để tìm gái trị tốt cho `l1_penalty` đạt được độ thưa thớt mong muốn. Ở đây chúng ta sử dụng tập kiểm định để chọn giá trị tốt nhất cho `l1_penalty`. "
   ]
  },
  {
   "cell_type": "code",
   "execution_count": 40,
   "metadata": {
    "id": "kOwQHIzMMw2H"
   },
   "outputs": [],
   "source": [
    "max_nonzeros = 5"
   ]
  },
  {
   "cell_type": "markdown",
   "metadata": {
    "id": "KMv9UnluMw2N"
   },
   "source": [
    "## Khám phá phạm vi giá trị lớn hơn để tìm phạm vi hẹp với độ thưa thớt mong muốn\n",
    "\n",
    "Hãy xác định một loạt các `l1_penalty_values` có thể:"
   ]
  },
  {
   "cell_type": "code",
   "execution_count": 41,
   "metadata": {
    "id": "vEaNt8VHMw2O"
   },
   "outputs": [],
   "source": [
    "l1_penalty_values = np.logspace(3, 5, num=21)"
   ]
  },
  {
   "cell_type": "markdown",
   "metadata": {
    "id": "Mxrj8371Mw2S"
   },
   "source": [
    "Giờ hãy triển khi vòng lặp tìm kiếm trong không gian có các giá trị `l1_penalty` có thể:\n",
    "\n",
    "* Với `l1_penalty` trong `np.logspace(3, 5, num=21)`:\n",
    "    * Khớp mô hình hồi quy với `l1_penalty` đã biết trong dữ liệu HUẤN LUYỆN. Chỉ định `alpha=l1_penalty` trong tham số.\n",
    "    * Trích xuất trọng số của mô hình và đếm số trọng số khác 0. Lưu con số này vào một list. \n",
    "        * Gợi ý: `model.coef_` cho các tham số/hệ số đã tìm thấy (intercept) ở dạng mảng numpy. Sau đó có thể dùng array\\[condition\\] cho list các giá trị truyền điều kiện, hoặc chỉ dùng `np.count_nonzero()` có sẵn."
   ]
  },
  {
   "cell_type": "code",
   "execution_count": 43,
   "metadata": {
    "id": "_kFzVsaiMw2U"
   },
   "outputs": [
    {
     "data": {
      "text/plain": [
       "[[1000.0,\n",
       "  array([  -4284.88165957,  -13991.28869798,   36881.02834756,\n",
       "          508486.92985361, -362888.90975284,   14297.81382322,\n",
       "          -32414.64118385,      -0.        ,   11043.26177977,\n",
       "           46853.79994364,   33538.04381831,   17176.47569839,\n",
       "          151188.26648057,       0.        ,    3257.72200427,\n",
       "          -90278.66843562,    4507.49909105]),\n",
       "  15],\n",
       " [1258.9254117941675,\n",
       "  array([ -10211.72229661,   -8608.76957293,   36253.64545958,\n",
       "          486774.74662927, -340097.57197994,   11314.6850494 ,\n",
       "          -29268.25718047,      -0.        ,   10997.3651937 ,\n",
       "           46731.54491038,   33662.88701495,   16736.65409895,\n",
       "          150698.67877036,       0.        ,    3035.94293234,\n",
       "          -90255.17909063,    4213.46756548]),\n",
       "  15],\n",
       " [1584.893192461114,\n",
       "  array([ -17703.34935   ,   -1806.41227723,   35464.82551948,\n",
       "          459322.60516757, -311287.02323329,    7565.99755511,\n",
       "          -25312.54913227,       0.        ,   10938.45774715,\n",
       "           46578.45488883,   33820.7829022 ,   16182.08323481,\n",
       "          150085.50448193,       0.        ,    2757.3606471 ,\n",
       "          -90228.39555788,    3842.48805864]),\n",
       "  15],\n",
       " [1995.2623149688789,\n",
       "  array([ -20368.10893193,      -0.        ,   34518.97169604,\n",
       "          427653.54171634, -278011.72701399,    2904.84995075,\n",
       "          -20383.69931057,       0.        ,   10974.85555311,\n",
       "           46391.89476893,   34033.31121206,   15371.10970793,\n",
       "          149117.49962632,       0.        ,    2523.43360828,\n",
       "          -90386.34998938,    3371.48183817]),\n",
       "  14],\n",
       " [2511.88643150958,\n",
       "  array([ -21442.40394608,      -0.        ,   33181.30087488,\n",
       "          388111.17758072, -235901.96809666,       0.        ,\n",
       "          -17056.41270558,       0.        ,   10627.13182831,\n",
       "           46216.31599101,   34319.71104969,   14337.51743087,\n",
       "          147831.64815924,       0.        ,    2059.78423317,\n",
       "          -90599.3306913 ,    2799.96972118]),\n",
       "  13],\n",
       " [3162.2776601683795,\n",
       "  array([ -22725.90978878,      -0.        ,   31241.79443143,\n",
       "          337980.9488668 , -181874.74624258,       0.        ,\n",
       "          -16419.6018422 ,       0.        ,    9659.62400587,\n",
       "           46062.95010993,   34697.83431047,   13083.98846059,\n",
       "          146227.17029665,       0.        ,    1238.24223689,\n",
       "          -90755.05454788,    2122.71787994]),\n",
       "  13],\n",
       " [3981.0717055349733,\n",
       "  array([-2.43162003e+04, -0.00000000e+00,  2.87872428e+04,  2.76330254e+05,\n",
       "         -1.15238579e+05,  0.00000000e+00, -1.56426673e+04,  0.00000000e+00,\n",
       "          8.43362998e+03,  4.58597306e+04,  3.51627414e+04,  1.15213687e+04,\n",
       "          1.44154552e+05,  0.00000000e+00,  1.66814468e+02, -9.09124998e+04,\n",
       "          1.27850653e+03]),\n",
       "  13],\n",
       " [5011.872336272725,\n",
       "  array([-26268.14244222,     -0.        ,  25472.47546284, 198593.62783093,\n",
       "         -31981.57485041,      0.        , -14499.47228315,      0.        ,\n",
       "           7312.14350925,  45631.91396729,  35564.80969788,   9474.95632115,\n",
       "         141786.95516379,      0.        ,      0.        , -90959.67643124,\n",
       "            215.79330586]),\n",
       "  12],\n",
       " [6309.57344480193,\n",
       "  array([-24488.95447205,     -0.        ,  22505.26311495, 167186.6656052 ,\n",
       "             -0.        ,     -0.        , -12909.82756017,      0.        ,\n",
       "           5863.22773561,  44915.47516887,  35769.54401779,   7867.02234035,\n",
       "         140524.24257306,      0.        ,      0.        , -88789.62040135,\n",
       "              0.        ]),\n",
       "  10],\n",
       " [7943.282347242814,\n",
       "  array([-19904.67806164,     -0.        ,  19527.64997501, 164371.44866033,\n",
       "             -0.        ,     -0.        , -10815.07293108,      0.        ,\n",
       "           4012.58632867,  43793.13549895,  35900.81273857,   6325.90072829,\n",
       "         139915.84329201,      0.        ,      0.        , -84993.87882536,\n",
       "              0.        ]),\n",
       "  10],\n",
       " [10000.0,\n",
       "  array([-14129.70742794,     -0.        ,  15778.74537371, 160823.3857574 ,\n",
       "             -0.        ,     -0.        ,  -8177.77889038,      0.        ,\n",
       "           1681.945565  ,  42380.04417558,  36066.76282078,   4386.31068085,\n",
       "         139150.82523964,      0.        ,      0.        , -80214.27729876,\n",
       "              0.        ]),\n",
       "  10],\n",
       " [12589.254117941662,\n",
       "  array([ -6804.19259752,     -0.        ,  10694.45307733, 156504.05625229,\n",
       "              0.        ,     -0.        ,  -4666.55384341,      0.        ,\n",
       "              0.        ,  40576.31854825,  36309.11561033,   2072.68690248,\n",
       "         137902.84633118,      0.        ,      0.        , -74513.92349008,\n",
       "              0.        ]),\n",
       "  9],\n",
       " [15848.93192461114,\n",
       "  array([-0.00000000e+00, -0.00000000e+00,  4.31877071e+03,  1.52752282e+05,\n",
       "          0.00000000e+00, -0.00000000e+00, -8.34795277e+01,  0.00000000e+00,\n",
       "          0.00000000e+00,  3.81782897e+04,  3.64808468e+04,  0.00000000e+00,\n",
       "          1.35410546e+05,  0.00000000e+00,  0.00000000e+00, -6.78392942e+04,\n",
       "          0.00000000e+00]),\n",
       "  7],\n",
       " [19952.62314968879,\n",
       "  array([    -0.        ,     -0.        ,      0.        , 153773.97046634,\n",
       "              0.        ,     -0.        ,     -0.        ,      0.        ,\n",
       "              0.        ,  35013.72454855,  36063.14124195,      0.        ,\n",
       "         130186.84318353,      0.        ,      0.        , -59656.57986769,\n",
       "              0.        ]),\n",
       "  5],\n",
       " [25118.864315095823,\n",
       "  array([    -0.        ,     -0.        ,      0.        , 151822.97232114,\n",
       "              0.        ,     -0.        ,     -0.        ,      0.        ,\n",
       "              0.        ,  31063.40265718,  35443.50564301,      0.        ,\n",
       "         123124.79679383,      0.        ,      0.        , -50908.67007283,\n",
       "              0.        ]),\n",
       "  5],\n",
       " [31622.776601683792,\n",
       "  array([    -0.        ,     -0.        ,      0.        , 149358.45823689,\n",
       "              0.        ,     -0.        ,     -0.        ,      0.        ,\n",
       "              0.        ,  26090.70765614,  34662.60555506,      0.        ,\n",
       "         114241.06605529,      0.        ,      0.        , -39896.16393289,\n",
       "              0.        ]),\n",
       "  5],\n",
       " [39810.71705534969,\n",
       "  array([    -0.        ,      0.        ,      0.        , 146257.49732172,\n",
       "              0.        ,     -0.        ,     -0.        ,      0.        ,\n",
       "              0.        ,  19830.36203195,  33679.67636013,      0.        ,\n",
       "         103055.73342292,      0.        ,      0.        , -26032.1477208 ,\n",
       "              0.        ]),\n",
       "  5],\n",
       " [50118.72336272725,\n",
       "  array([     0.        ,      0.        ,      0.        , 142361.22815281,\n",
       "              0.        ,     -0.        ,     -0.        ,      0.        ,\n",
       "              0.        ,  11948.6297168 ,  32442.99342515,      0.        ,\n",
       "          88967.98564132,      0.        ,      0.        ,  -8577.96654429,\n",
       "              0.        ]),\n",
       "  5],\n",
       " [63095.7344480193,\n",
       "  array([     0.        ,      0.        ,      0.        , 137315.87351781,\n",
       "              0.        ,     -0.        ,     -0.        ,      0.        ,\n",
       "              0.        ,   2280.58037497,  28207.78349372,      0.        ,\n",
       "          77890.24313352,      0.        ,      0.        ,     -0.        ,\n",
       "              0.        ]),\n",
       "  4],\n",
       " [79432.82347242821,\n",
       "  array([     0.        ,      0.        ,      0.        , 130790.35321481,\n",
       "              0.        ,      0.        ,      0.        ,      0.        ,\n",
       "              0.        ,      0.        ,  16755.53465797,      0.        ,\n",
       "          69583.23062851,      0.        ,      0.        ,     -0.        ,\n",
       "              0.        ]),\n",
       "  3],\n",
       " [100000.0,\n",
       "  array([     0.        ,      0.        ,      0.        , 122553.41807882,\n",
       "              0.        ,      0.        ,      0.        ,      0.        ,\n",
       "              0.        ,      0.        ,   1163.45619831,      0.        ,\n",
       "          59209.09253474,      0.        ,      0.        ,     -0.        ,\n",
       "              0.        ]),\n",
       "  3]]"
      ]
     },
     "execution_count": 43,
     "metadata": {},
     "output_type": "execute_result"
    }
   ],
   "source": [
    "#scaler features train\n",
    "X = scaler.fit_transform(train_data[all_features].values)\n",
    "y = train_data['price'].values\n",
    "weights = []\n",
    "for l1_penalty in l1_penalty_values:\n",
    "    model = Lasso(alpha = l1_penalty).fit(X,y)\n",
    "    weights.append([l1_penalty,model.coef_,np.count_nonzero(model.coef_)])\n",
    "weights"
   ]
  },
  {
   "cell_type": "markdown",
   "metadata": {
    "id": "ucgWXpj9Mw2Z"
   },
   "source": [
    "Trong phạm vi lớn này, chúng ta có thể tìm 2 đầu phạm vi hẹp mong muốn của `l1_penalty`. Ở một đầu, các giá trị `l1_penalty` có quá ít giá trị khác 0, còn đầu kia lại có quá nhiều giá trị khác 0.\n",
    "\n",
    "Hãy tìm:\n",
    "* `l1_penalty` nhỏ nhất có các số khác 0 bằng `max_nonzeros` (nếu chọn penalty nhỏ hơn giá trị này chắc chắn sẽ có rất nhiều trọng số khác 0).\n",
    "    * Lưu giá trị này trong biến `l1_penalty_min` (sẽ sử dụng nó sau).\n",
    "* `l1_penalty` lớn nhất có các số khác 0 bằng `max_nonzeros` (nếu chọn penalty lớn hơn giá trị này chắc chắn sẽ có rất ít trọng số khác 0).\n",
    "    * Lưu giá trị này trong biến `l1_penalty_max` (sẽ sử dụng nó sau).\n",
    "\n",
    "\n",
    "*Gợi ý: có nhiều cách để thực hiện, chẳng hạn:*\n",
    "* Lập trình trong vòng lặp trên.\n",
    "* Tạo một list với số lượng khác 0 cho từng giá trị `l1_penalty` và kiểm tra nó để tìm ranh giới thích hợp."
   ]
  },
  {
   "cell_type": "code",
   "execution_count": 45,
   "metadata": {},
   "outputs": [],
   "source": [
    "l1_penalty_list = [i for i,j,k in weights if k == max_nonzeros]"
   ]
  },
  {
   "cell_type": "code",
   "execution_count": 46,
   "metadata": {
    "id": "UBpwiXEVMw2b"
   },
   "outputs": [],
   "source": [
    "l1_penalty_min = min(l1_penalty_list)\n",
    "l1_penalty_max = max(l1_penalty_list)"
   ]
  },
  {
   "cell_type": "markdown",
   "metadata": {
    "id": "-S2jtklaMw2g"
   },
   "source": [
    "***QUIZ.*** Chúng ta tìm thấy các giá trị nào lần lượt cho `l1_penalty_min` và `l1_penalty_max`? "
   ]
  },
  {
   "cell_type": "code",
   "execution_count": 47,
   "metadata": {},
   "outputs": [
    {
     "data": {
      "text/plain": [
       "(19952.62314968879, 50118.72336272725)"
      ]
     },
     "execution_count": 47,
     "metadata": {},
     "output_type": "execute_result"
    }
   ],
   "source": [
    "l1_penalty_min,l1_penalty_max"
   ]
  },
  {
   "cell_type": "markdown",
   "metadata": {
    "id": "-T_xUbJ5Mw2i"
   },
   "source": [
    "## Khám phá phạm vi nhỏ các giá trị để tìm giải pháp với đúng số lượng các số khác 0 có RSS trong tập kiểm định nhỏ nhất\n",
    "\n",
    "Chúng ta sẽ khám phá vùng hẹp các giá trị `l1_penalty` đã tìm thấy:"
   ]
  },
  {
   "cell_type": "code",
   "execution_count": 49,
   "metadata": {
    "id": "mEICQwrAMw2k"
   },
   "outputs": [],
   "source": [
    "l1_penalty_values = np.linspace(l1_penalty_min,l1_penalty_max,20)"
   ]
  },
  {
   "cell_type": "markdown",
   "metadata": {
    "id": "IVkWedu9Mw2p"
   },
   "source": [
    "* Với `l1_penalty` trong `np.linspace(l1_penalty_min,l1_penalty_max,20)`:\n",
    "    * Khớp mô hình hồi quy với `l1_penalty` đã biết trong dữ liệu HUẤN LUYỆN. Chỉ định `alpha=l1_penalty`.\n",
    "    * Đo lường RSS của mô hình đã tìm hiểu trong tập KIỂM ĐỊNH.\n",
    "\n",
    "Tìm mô hình có RSS nhỏ nhất trong tập KIỂM ĐỊNH và độ thưa thớt *bằng*  `max_nonzeros`."
   ]
  },
  {
   "cell_type": "code",
   "execution_count": 54,
   "metadata": {
    "id": "gKsCKTP3Mw2q"
   },
   "outputs": [],
   "source": [
    "#scaler features train\n",
    "X = scaler.fit_transform(train_data[all_features].values)\n",
    "y = train_data['price'].values\n",
    "#Scaler feature validation\n",
    "X_test = scaler.fit_transform(validation_data[all_features].values)\n",
    "y_test = validation_data['price'].values\n",
    "total = []\n",
    "scores_rss = []\n",
    "for l1_penalty in l1_penalty_values:\n",
    "    model = Lasso(alpha = l1_penalty).fit(X,y)\n",
    "    \n",
    "    y_predict = model.predict(X_test)\n",
    "    scores_rss.append(np.sum((y_test - y_predict)**2))\n",
    "    \n",
    "    total.append([l1_penalty,model.coef_,np.count_nonzero(model.coef_),np.sum((y_test - y_predict)**2)])"
   ]
  },
  {
   "cell_type": "markdown",
   "metadata": {
    "id": "b4vAuKXfMw2u"
   },
   "source": [
    "***QUIZ***\n",
    "1. Giá trị của `l1_penalty` trong phạm vi hẹp hơn có RSS thấp nhất trong tập KIỂM ĐỊNH và độ thưa *bằng* `max_nonzeros` là?\n",
    "2. Các đặc trung nào trong mô hình này có các hệ số khác 0?"
   ]
  },
  {
   "cell_type": "code",
   "execution_count": 55,
   "metadata": {
    "id": "VISUoAMIMw2v"
   },
   "outputs": [
    {
     "data": {
      "text/plain": [
       "[[19952.62314968879,\n",
       "  array([    -0.        ,     -0.        ,      0.        , 153773.97046634,\n",
       "              0.        ,     -0.        ,     -0.        ,      0.        ,\n",
       "              0.        ,  35013.72454855,  36063.14124195,      0.        ,\n",
       "         130186.84318353,      0.        ,      0.        , -59656.57986769,\n",
       "              0.        ]),\n",
       "  5,\n",
       "  481437471310811.2],\n",
       " [21540.31263458555,\n",
       "  array([    -0.        ,     -0.        ,      0.        , 153180.56933694,\n",
       "              0.        ,     -0.        ,     -0.        ,      0.        ,\n",
       "              0.        ,  33799.36721432,  35873.32504476,      0.        ,\n",
       "         128011.4604752 ,      0.        ,      0.        , -56967.83169816,\n",
       "              0.        ]),\n",
       "  5,\n",
       "  483977800369247.7],\n",
       " [23128.00211948231,\n",
       "  array([    -0.        ,     -0.        ,      0.        , 152578.0579042 ,\n",
       "              0.        ,     -0.        ,     -0.        ,      0.        ,\n",
       "              0.        ,  32585.51733937,  35682.60920659,      0.        ,\n",
       "         125843.55839448,      0.        ,      0.        , -54279.58492574,\n",
       "              0.        ]),\n",
       "  5,\n",
       "  486728788483689.2],\n",
       " [24715.69160437907,\n",
       "  array([    -0.        ,     -0.        ,      0.        , 151975.88591909,\n",
       "              0.        ,     -0.        ,     -0.        ,      0.        ,\n",
       "              0.        ,  31371.64855376,  35491.92689089,      0.        ,\n",
       "         123675.37758578,      0.        ,      0.        , -51591.31947059,\n",
       "              0.        ]),\n",
       "  5,\n",
       "  489691153789627.5],\n",
       " [26303.381089275834,\n",
       "  array([    -0.        ,     -0.        ,      0.        , 151373.99225567,\n",
       "              0.        ,     -0.        ,     -0.        ,      0.        ,\n",
       "              0.        ,  30157.76430955,  35301.27202871,      0.        ,\n",
       "         121506.96826543,      0.        ,      0.        , -48903.03870892,\n",
       "              0.        ]),\n",
       "  5,\n",
       "  492864887515835.8],\n",
       " [27891.070574172594,\n",
       "  array([    -0.        ,     -0.        ,      0.        , 150772.27277724,\n",
       "              0.        ,     -0.        ,     -0.        ,      0.        ,\n",
       "              0.        ,  28943.87041244,  35110.63433302,      0.        ,\n",
       "         119338.41594457,      0.        ,      0.        , -46214.74837335,\n",
       "              0.        ]),\n",
       "  5,\n",
       "  496249980030189.5],\n",
       " [29478.760059069355,\n",
       "  array([    -0.        ,     -0.        ,      0.        , 150170.61830473,\n",
       "              0.        ,     -0.        ,     -0.        ,      0.        ,\n",
       "              0.        ,  27729.97289293,  34920.00305768,      0.        ,\n",
       "         117169.81024545,      0.        ,      0.        , -43526.45445973,\n",
       "              0.        ]),\n",
       "  5,\n",
       "  499846423695541.5],\n",
       " [31066.44954396612,\n",
       "  array([    -0.        ,     -0.        ,      0.        , 149569.19478964,\n",
       "              0.        ,     -0.        ,     -0.        ,      0.        ,\n",
       "              0.        ,  26516.06250256,  34729.39459358,      0.        ,\n",
       "         115001.0149    ,      0.        ,      0.        , -40838.1478335 ,\n",
       "              0.        ]),\n",
       "  5,\n",
       "  503654224109302.25],\n",
       " [32654.139028862875,\n",
       "  array([    -0.        ,     -0.        ,      0.        , 148967.85562856,\n",
       "              0.        ,     -0.        ,     -0.        ,      0.        ,\n",
       "              0.        ,  25302.14740891,  34538.79446263,      0.        ,\n",
       "         112832.1502876 ,      0.        ,      0.        , -38149.83656357,\n",
       "              0.        ]),\n",
       "  5,\n",
       "  507673372562011.7],\n",
       " [34241.82851375964,\n",
       "  array([    -0.        ,     -0.        ,      0.        , 148366.56200349,\n",
       "              0.        ,     -0.        ,     -0.        ,      0.        ,\n",
       "              0.        ,  24088.22977643,  34348.19883001,      0.        ,\n",
       "         110663.24828355,      0.        ,      0.        , -35461.5227869 ,\n",
       "              0.        ]),\n",
       "  5,\n",
       "  511903866585239.06],\n",
       " [35829.5179986564,\n",
       "  array([    -0.        ,     -0.        ,      0.        , 147765.26837842,\n",
       "              0.        ,     -0.        ,     -0.        ,      0.        ,\n",
       "              0.        ,  22874.31214396,  34157.60319739,      0.        ,\n",
       "         108494.3462795 ,      0.        ,      0.        , -32773.20901023,\n",
       "              0.        ]),\n",
       "  5,\n",
       "  516345704361719.1],\n",
       " [37417.20748355316,\n",
       "  array([    -0.        ,      0.        ,      0.        , 147163.97475335,\n",
       "              0.        ,     -0.        ,     -0.        ,      0.        ,\n",
       "              0.        ,  21660.39451148,  33967.00756478,      0.        ,\n",
       "         106325.44427545,      0.        ,      0.        , -30084.89523356,\n",
       "              0.        ]),\n",
       "  5,\n",
       "  520998885891452.0],\n",
       " [39004.89696844992,\n",
       "  array([    -0.        ,      0.        ,      0.        , 146562.68112829,\n",
       "              0.        ,     -0.        ,     -0.        ,      0.        ,\n",
       "              0.        ,  20446.476879  ,  33776.41193216,      0.        ,\n",
       "         104156.5422714 ,      0.        ,      0.        , -27396.58145689,\n",
       "              0.        ]),\n",
       "  5,\n",
       "  525863411174437.6],\n",
       " [40592.58645334668,\n",
       "  array([    -0.        ,      0.        ,      0.        , 145961.35921042,\n",
       "              0.        ,     -0.        ,     -0.        ,      0.        ,\n",
       "              0.        ,  19232.56083224,  33585.81349888,      0.        ,\n",
       "         101987.66350413,      0.        ,      0.        , -24708.26923982,\n",
       "              0.        ]),\n",
       "  5,\n",
       "  530939279963373.7],\n",
       " [42180.275938243445,\n",
       "  array([    -0.        ,      0.        ,      0.        , 145360.01150889,\n",
       "              0.        ,     -0.        ,     -0.        ,      0.        ,\n",
       "              0.        ,  18018.64623058,  33395.21251332,      0.        ,\n",
       "          99818.8059129 ,      0.        ,      0.        , -22019.95844405,\n",
       "              0.        ]),\n",
       "  5,\n",
       "  536226492710897.75],\n",
       " [43767.96542314021,\n",
       "  array([    -0.        ,      0.        ,      0.        , 144758.66380735,\n",
       "              0.        ,     -0.        ,     -0.        ,      0.        ,\n",
       "              0.        ,  16804.73162891,  33204.61152777,      0.        ,\n",
       "          97649.94832166,      0.        ,      0.        , -19331.64764828,\n",
       "              0.        ]),\n",
       "  5,\n",
       "  541725049777202.5],\n",
       " [45355.654908036966,\n",
       "  array([    -0.        ,      0.        ,      0.        , 144157.31610581,\n",
       "              0.        ,     -0.        ,     -0.        ,      0.        ,\n",
       "              0.        ,  15590.81702724,  33014.01054221,      0.        ,\n",
       "          95481.09073043,      0.        ,      0.        , -16643.33685251,\n",
       "              0.        ]),\n",
       "  5,\n",
       "  547434951162287.7],\n",
       " [46943.34439293372,\n",
       "  array([     0.        ,      0.        ,      0.        , 143555.96840428,\n",
       "              0.        ,     -0.        ,     -0.        ,      0.        ,\n",
       "              0.        ,  14376.90242557,  32823.40955666,      0.        ,\n",
       "          93312.2331392 ,      0.        ,      0.        , -13955.02605674,\n",
       "              0.        ]),\n",
       "  5,\n",
       "  553356196866153.6],\n",
       " [48531.03387783049,\n",
       "  array([     0.        ,      0.        ,      0.        , 142962.86221185,\n",
       "              0.        ,     -0.        ,     -0.        ,      0.        ,\n",
       "              0.        ,  13162.52835931,  32633.62269437,      0.        ,\n",
       "          91136.60809501,      0.        ,      0.        , -11266.26157785,\n",
       "              0.        ]),\n",
       "  5,\n",
       "  559488641076102.8],\n",
       " [50118.72336272725,\n",
       "  array([     0.        ,      0.        ,      0.        , 142361.22815281,\n",
       "              0.        ,     -0.        ,     -0.        ,      0.        ,\n",
       "              0.        ,  11948.6297168 ,  32442.99342515,      0.        ,\n",
       "          88967.98564132,      0.        ,      0.        ,  -8577.96654429,\n",
       "              0.        ]),\n",
       "  5,\n",
       "  565832538798675.8]]"
      ]
     },
     "execution_count": 55,
     "metadata": {},
     "output_type": "execute_result"
    }
   ],
   "source": [
    "total"
   ]
  },
  {
   "cell_type": "code",
   "execution_count": 61,
   "metadata": {},
   "outputs": [
    {
     "data": {
      "text/plain": [
       "[19952.62314968879]"
      ]
     },
     "execution_count": 61,
     "metadata": {},
     "output_type": "execute_result"
    }
   ],
   "source": [
    "l1_penalty = [i  for i,j,k,l in total if l == min(scores_rss)]\n",
    "l1_penalty"
   ]
  },
  {
   "cell_type": "code",
   "execution_count": 66,
   "metadata": {},
   "outputs": [
    {
     "data": {
      "text/plain": [
       "[-0.0,\n",
       " -0.0,\n",
       " 0.0,\n",
       " 153773.9704663409,\n",
       " 0.0,\n",
       " -0.0,\n",
       " -0.0,\n",
       " 0.0,\n",
       " 0.0,\n",
       " 35013.724548548584,\n",
       " 36063.14124195357,\n",
       " 0.0,\n",
       " 130186.84318353128,\n",
       " 0.0,\n",
       " 0.0,\n",
       " -59656.57986768807,\n",
       " 0.0]"
      ]
     },
     "execution_count": 66,
     "metadata": {},
     "output_type": "execute_result"
    }
   ],
   "source": [
    "weights = [j for i,j,k,l in total if l == min(scores_rss)]\n",
    "weights = [j for i in weights for j in i]\n",
    "weights"
   ]
  },
  {
   "cell_type": "code",
   "execution_count": 67,
   "metadata": {},
   "outputs": [
    {
     "data": {
      "text/plain": [
       "(['sqft_living', 'waterfront', 'view', 'grade', 'yr_built'],\n",
       " [153773.9704663409,\n",
       "  35013.724548548584,\n",
       "  36063.14124195357,\n",
       "  130186.84318353128,\n",
       "  -59656.57986768807])"
      ]
     },
     "execution_count": 67,
     "metadata": {},
     "output_type": "execute_result"
    }
   ],
   "source": [
    "features_ = []\n",
    "weights_ = []\n",
    "for i in range(len(all_features)):\n",
    "    if weights[i] != 0:\n",
    "        features_.append(all_features[i])\n",
    "        weights_.append(weights[i])\n",
    "features_,weights_"
   ]
  },
  {
   "cell_type": "code",
   "execution_count": null,
   "metadata": {},
   "outputs": [],
   "source": []
  }
 ],
 "metadata": {
  "colab": {
   "collapsed_sections": [],
   "name": "[VN]Lab-5.ipynb",
   "provenance": []
  },
  "kernelspec": {
   "display_name": "Python 3",
   "language": "python",
   "name": "python3"
  },
  "language_info": {
   "codemirror_mode": {
    "name": "ipython",
    "version": 3
   },
   "file_extension": ".py",
   "mimetype": "text/x-python",
   "name": "python",
   "nbconvert_exporter": "python",
   "pygments_lexer": "ipython3",
   "version": "3.8.8"
  }
 },
 "nbformat": 4,
 "nbformat_minor": 1
}
